{
 "cells": [
  {
   "cell_type": "code",
   "execution_count": 2,
   "id": "2511bd27-4ee6-400d-97b6-11d040169932",
   "metadata": {},
   "outputs": [],
   "source": [
    "import torch\n",
    "import time\n",
    "from loguru import logger"
   ]
  },
  {
   "cell_type": "code",
   "execution_count": 3,
   "id": "d1d52112-8fd8-4fce-81b7-1581d3b29b3f",
   "metadata": {},
   "outputs": [
    {
     "data": {
      "text/plain": [
       "'2.4.1'"
      ]
     },
     "execution_count": 3,
     "metadata": {},
     "output_type": "execute_result"
    }
   ],
   "source": [
    "torch.__version__"
   ]
  },
  {
   "cell_type": "code",
   "execution_count": 4,
   "id": "c796e515-d5f6-42c2-b426-4caafbabdf01",
   "metadata": {},
   "outputs": [
    {
     "name": "stderr",
     "output_type": "stream",
     "text": [
      "\u001b[32m2024-09-06 23:15:37.260\u001b[0m | \u001b[1mINFO    \u001b[0m | \u001b[36m__main__\u001b[0m:\u001b[36m<module>\u001b[0m:\u001b[36m8\u001b[0m - \u001b[1mUsing mps device\u001b[0m\n"
     ]
    }
   ],
   "source": [
    "device = (\n",
    "    \"cuda\"\n",
    "    if torch.cuda.is_available()\n",
    "    else \"mps\"\n",
    "    if torch.backends.mps.is_available()\n",
    "    else \"cpu\"\n",
    ")\n",
    "logger.info(f\"Using {device} device\")"
   ]
  },
  {
   "cell_type": "code",
   "execution_count": 5,
   "id": "ede5d16d-89c2-4ee4-b6d1-9be3d3d562e3",
   "metadata": {},
   "outputs": [
    {
     "name": "stdout",
     "output_type": "stream",
     "text": [
      "Matrix multiplication on MPS:\n",
      "tensor([[-0.1635, -0.7482,  1.6124,  0.7250,  1.5496],\n",
      "        [-0.2358, -3.1579,  1.2337,  1.7647,  1.3374],\n",
      "        [ 1.3663, -0.9042, -0.4299,  0.0171, -2.9793],\n",
      "        [-1.1360,  2.5955,  2.3696,  0.6012,  2.8251],\n",
      "        [ 0.6192, -1.8638,  1.5357,  0.2832,  1.8710]], device='mps:0')\n"
     ]
    }
   ],
   "source": [
    "# Create a simple tensor\n",
    "x = torch.randn(5, 5, device=device)\n",
    "y = torch.randn(5, 5, device=device)\n",
    "\n",
    "# Perform a matrix multiplication\n",
    "z = torch.matmul(x, y)\n",
    "\n",
    "print(\"Matrix multiplication on MPS:\")\n",
    "print(z)"
   ]
  },
  {
   "cell_type": "code",
   "execution_count": 6,
   "id": "8f0718d6-db0b-4546-abe4-953b050d473e",
   "metadata": {},
   "outputs": [],
   "source": [
    "# Function to measure time taken for an operation\n",
    "def measure_time(device, operation, description):\n",
    "    start_time = time.time()\n",
    "    operation()\n",
    "    end_time = time.time()\n",
    "    logger.info(f\"{description} on {device}: {end_time - start_time:.6f} seconds\")"
   ]
  },
  {
   "cell_type": "code",
   "execution_count": 7,
   "id": "17129614-753e-472a-998a-8becd230aa6e",
   "metadata": {},
   "outputs": [
    {
     "name": "stderr",
     "output_type": "stream",
     "text": [
      "\u001b[32m2024-09-06 23:15:40.753\u001b[0m | \u001b[1mINFO    \u001b[0m | \u001b[36m__main__\u001b[0m:\u001b[36mmeasure_time\u001b[0m:\u001b[36m6\u001b[0m - \u001b[1mMatrix multiplication on cpu: 1.560292 seconds\u001b[0m\n",
      "\u001b[32m2024-09-06 23:15:40.928\u001b[0m | \u001b[1mINFO    \u001b[0m | \u001b[36m__main__\u001b[0m:\u001b[36mmeasure_time\u001b[0m:\u001b[36m6\u001b[0m - \u001b[1mMatrix multiplication on mps: 0.172979 seconds\u001b[0m\n",
      "\u001b[32m2024-09-06 23:15:40.985\u001b[0m | \u001b[1mINFO    \u001b[0m | \u001b[36m__main__\u001b[0m:\u001b[36mmeasure_time\u001b[0m:\u001b[36m6\u001b[0m - \u001b[1mElement-wise addition on cpu: 0.056860 seconds\u001b[0m\n",
      "\u001b[32m2024-09-06 23:15:40.991\u001b[0m | \u001b[1mINFO    \u001b[0m | \u001b[36m__main__\u001b[0m:\u001b[36mmeasure_time\u001b[0m:\u001b[36m6\u001b[0m - \u001b[1mElement-wise addition on mps: 0.004904 seconds\u001b[0m\n",
      "\u001b[32m2024-09-06 23:15:41.603\u001b[0m | \u001b[1mINFO    \u001b[0m | \u001b[36m__main__\u001b[0m:\u001b[36mmeasure_time\u001b[0m:\u001b[36m6\u001b[0m - \u001b[1mNeural network forward pass on cpu: 0.007262 seconds\u001b[0m\n",
      "\u001b[32m2024-09-06 23:15:41.618\u001b[0m | \u001b[1mINFO    \u001b[0m | \u001b[36m__main__\u001b[0m:\u001b[36mmeasure_time\u001b[0m:\u001b[36m6\u001b[0m - \u001b[1mNeural network forward pass on mps: 0.014297 seconds\u001b[0m\n"
     ]
    }
   ],
   "source": [
    "size = (10000, 10000)\n",
    "\n",
    "# Define the CPU device\n",
    "device_cpu = torch.device(\"cpu\")\n",
    "\n",
    "# Define the MPS device\n",
    "device_mps = torch.device(\"mps\")\n",
    "\n",
    "# Create random tensors\n",
    "x_cpu = torch.randn(size, device=device_cpu)\n",
    "y_cpu = torch.randn(size, device=device_cpu)\n",
    "\n",
    "x_mps = x_cpu.to(device_mps)\n",
    "y_mps = y_cpu.to(device_mps)\n",
    "\n",
    "# Matrix Multiplication\n",
    "measure_time(device_cpu, lambda: torch.matmul(x_cpu, y_cpu), \"Matrix multiplication\")\n",
    "measure_time(device_mps, lambda: torch.matmul(x_mps, y_mps), \"Matrix multiplication\")\n",
    "\n",
    "# Element-wise addition\n",
    "measure_time(device_cpu, lambda: x_cpu + y_cpu, \"Element-wise addition\")\n",
    "measure_time(device_mps, lambda: x_mps + y_mps, \"Element-wise addition\")\n",
    "\n",
    "# Simple neural network forward pass\n",
    "class SimpleNN(torch.nn.Module):\n",
    "    def __init__(self):\n",
    "        super(SimpleNN, self).__init__()\n",
    "        self.fc1 = torch.nn.Linear(1000, 500)\n",
    "        self.fc2 = torch.nn.Linear(500, 100)\n",
    "\n",
    "    def forward(self, x):\n",
    "        x = torch.relu(self.fc1(x))\n",
    "        x = torch.relu(self.fc2(x))\n",
    "        return x\n",
    "\n",
    "model_cpu = SimpleNN().to(device_cpu)\n",
    "model_mps = SimpleNN().to(device_mps)\n",
    "\n",
    "input_cpu = torch.randn(1000, 1000, device=device_cpu)\n",
    "input_mps = input_cpu.to(device_mps)\n",
    "\n",
    "measure_time(device_cpu, lambda: model_cpu(input_cpu), \"Neural network forward pass\")\n",
    "measure_time(device_mps, lambda: model_mps(input_mps), \"Neural network forward pass\")"
   ]
  },
  {
   "cell_type": "code",
   "execution_count": null,
   "id": "ec8c202c-d793-4c2a-a249-d2ef2b56611c",
   "metadata": {},
   "outputs": [],
   "source": []
  }
 ],
 "metadata": {
  "kernelspec": {
   "display_name": "Python 3 (ipykernel)",
   "language": "python",
   "name": "python3"
  },
  "language_info": {
   "codemirror_mode": {
    "name": "ipython",
    "version": 3
   },
   "file_extension": ".py",
   "mimetype": "text/x-python",
   "name": "python",
   "nbconvert_exporter": "python",
   "pygments_lexer": "ipython3",
   "version": "3.11.9"
  }
 },
 "nbformat": 4,
 "nbformat_minor": 5
}
