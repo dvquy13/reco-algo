{
 "cells": [
  {
   "cell_type": "code",
   "execution_count": 1,
   "id": "4dcf73bf-1531-479f-add6-f1a73ee4cc25",
   "metadata": {},
   "outputs": [],
   "source": [
    "import pandas as pd\n",
    "from datasets import load_dataset"
   ]
  },
  {
   "cell_type": "code",
   "execution_count": 2,
   "id": "5226c59a-9ec4-4083-b3ec-f4ae7a08f465",
   "metadata": {},
   "outputs": [
    {
     "data": {
      "application/vnd.jupyter.widget-view+json": {
       "model_id": "d781d108d909451ebd739ea905b1c468",
       "version_major": 2,
       "version_minor": 0
      },
      "text/plain": [
       "Downloading data:   0%|          | 0.00/14.7G [00:00<?, ?B/s]"
      ]
     },
     "metadata": {},
     "output_type": "display_data"
    },
    {
     "data": {
      "application/vnd.jupyter.widget-view+json": {
       "model_id": "2e642862982049bb88932f1db59126aa",
       "version_major": 2,
       "version_minor": 0
      },
      "text/plain": [
       "Generating full split: 0 examples [00:00, ? examples/s]"
      ]
     },
     "metadata": {},
     "output_type": "display_data"
    },
    {
     "data": {
      "application/vnd.jupyter.widget-view+json": {
       "model_id": "a01ac3b06aa24e3f94359e6e56da5ed1",
       "version_major": 2,
       "version_minor": 0
      },
      "text/plain": [
       "Loading dataset shards:   0%|          | 0/28 [00:00<?, ?it/s]"
      ]
     },
     "metadata": {},
     "output_type": "display_data"
    }
   ],
   "source": [
    "metadata_raw = load_dataset(\"McAuley-Lab/Amazon-Reviews-2023\", \"raw_meta_Books\", trust_remote_code=True)"
   ]
  },
  {
   "cell_type": "code",
   "execution_count": null,
   "id": "413b5fa0-4577-4afd-b8a7-9d677f180132",
   "metadata": {},
   "outputs": [],
   "source": [
    "metadata_raw_df = metadata_raw['full'].to_pandas()"
   ]
  },
  {
   "cell_type": "code",
   "execution_count": null,
   "id": "11af4ee1-474a-43c9-9ea2-8b29455bd954",
   "metadata": {},
   "outputs": [],
   "source": [
    "metadata_raw_df"
   ]
  },
  {
   "cell_type": "code",
   "execution_count": null,
   "id": "258d1683-dd0d-4320-91b0-2c28369fbb7c",
   "metadata": {
    "scrolled": true
   },
   "outputs": [],
   "source": [
    "with pd.option_context('display.max_colwidth', None):\n",
    "    display(metadata_raw_df.sample(10))"
   ]
  },
  {
   "cell_type": "markdown",
   "id": "081f336c-eeb7-4aca-b408-67615fb330a9",
   "metadata": {},
   "source": [
    "# Build Feature Transformations"
   ]
  },
  {
   "cell_type": "code",
   "execution_count": null,
   "id": "a7190cc3-ae85-48d9-984e-f3a96d15ae88",
   "metadata": {},
   "outputs": [],
   "source": [
    "train_df = pd.read_parquet(\"../data/train.parquet\")\n",
    "val_df = pd.read_parquet(\"../data/val.parquet\")"
   ]
  },
  {
   "cell_type": "code",
   "execution_count": null,
   "id": "49a48c02-257d-497e-bdd1-6a3d6a6f7cb1",
   "metadata": {},
   "outputs": [],
   "source": [
    "import numpy as np\n",
    "from sklearn.compose import ColumnTransformer\n",
    "from sklearn.preprocessing import OneHotEncoder, MinMaxScaler\n",
    "from sklearn.impute import SimpleImputer\n",
    "from sklearn.preprocessing import FunctionTransformer\n",
    "from sklearn.feature_extraction.text import TfidfVectorizer, CountVectorizer\n",
    "from sklearn.pipeline import Pipeline"
   ]
  },
  {
   "cell_type": "code",
   "execution_count": null,
   "id": "7371cbcb-f3f4-4260-8bfd-ae717afeb3bd",
   "metadata": {},
   "outputs": [],
   "source": [
    "# Custom function to reshape data from 1D to 2D\n",
    "def reshape_2d_to_1d(X):\n",
    "    return np.array(X).reshape(-1)\n",
    "\n",
    "def flatten_string_array_col(X):\n",
    "    return np.array(['\\n'.join(x) for x in X])\n",
    "\n",
    "def tfidf_pipeline_steps():\n",
    "    steps = [\n",
    "        ('impute', SimpleImputer(strategy='constant', fill_value='')),\n",
    "        ('reshape', FunctionTransformer(reshape_2d_to_1d, validate=False)),\n",
    "        ('tfidf', TfidfVectorizer(min_df=5, max_features=1000, ngram_range=(1, 2)))\n",
    "    ]\n",
    "    return steps\n",
    "\n",
    "def description_pipeline_steps():\n",
    "    steps = [\n",
    "        ('flatten_string_array_col', FunctionTransformer(flatten_string_array_col, validate=False)),\n",
    "        ('tfidf', TfidfVectorizer(min_df=5, max_features=1000, ngram_range=(1, 2)))\n",
    "    ]\n",
    "    return steps\n",
    "\n",
    "def categories_pipeline_steps():\n",
    "    def tokenizer(s):\n",
    "        return s.split('\\n')\n",
    "    steps = [\n",
    "        ('flatten_string_array_col', FunctionTransformer(flatten_string_array_col, validate=False)),\n",
    "        ('tfidf', CountVectorizer(tokenizer=tokenizer, token_pattern=None))\n",
    "    ]\n",
    "    return steps\n",
    "\n",
    "data = pd.Series([\"from 14.99\", \"14.99\", \"price: 9.99\", \"20 dollars\", \"none\"])\n",
    "price_pattern = r'\\b((?:\\d+\\.\\d*)|(?:\\d+))\\b'\n",
    "display(data.str.extract(price_pattern))\n",
    "\n",
    "def price_parse_dtype(series, pattern):\n",
    "    return series.str.extract(pattern).astype(float)\n",
    "\n",
    "def price_pipeline_steps(price_pattern):\n",
    "    steps = [\n",
    "        ('extract_price', FunctionTransformer(price_parse_dtype, kw_args=dict(pattern=price_pattern), validate=False)),\n",
    "        ('impute', SimpleImputer(strategy='constant', fill_value=0)),\n",
    "        ('min_max_scale', MinMaxScaler())\n",
    "    ]\n",
    "    return steps"
   ]
  },
  {
   "cell_type": "code",
   "execution_count": null,
   "id": "f529dd93-fefe-48d9-ab4b-ac233f9803c3",
   "metadata": {},
   "outputs": [],
   "source": [
    "tfm = [\n",
    "    ('main_category', OneHotEncoder(handle_unknown='ignore'), ['main_category']),  # One-hot encoding for categorical field\n",
    "    ('title', Pipeline(tfidf_pipeline_steps()), ['title']),  # TF-IDF vectorizer for text field\n",
    "    ('description', Pipeline(description_pipeline_steps()), 'description'),  # TF-IDF vectorizer for another text field\n",
    "    ('categories', Pipeline(categories_pipeline_steps()), 'categories'),  # Count Vectorizer for multi-label categorical\n",
    "    ('price', Pipeline(price_pipeline_steps(price_pattern)), 'price')  # Normalizing price\n",
    "]\n",
    "cols = [x[0] for x in tfm]\n",
    "cols"
   ]
  },
  {
   "cell_type": "code",
   "execution_count": null,
   "id": "0f5fabe6-f430-4f61-83d3-cf7524bd1aa2",
   "metadata": {},
   "outputs": [],
   "source": [
    "train_full_df = pd.merge(train_df, metadata_raw_df[['parent_asin'] + cols], how='left', on='parent_asin')\n",
    "# Drop duplicated item so that the Pipeline only fit the unique item features\n",
    "fit_df = train_full_df.drop_duplicates(subset=['parent_asin'])\n",
    "val_full_df = pd.merge(val_df, metadata_raw_df[['parent_asin'] + cols], how='left', on='parent_asin')\n",
    "train_full_df"
   ]
  },
  {
   "cell_type": "code",
   "execution_count": null,
   "id": "6ddb350a-41dd-4008-86c7-c0c482eb5ebc",
   "metadata": {
    "scrolled": true
   },
   "outputs": [],
   "source": [
    "# Define preprocessing steps for each column\n",
    "preprocessing_pipeline = ColumnTransformer(\n",
    "    transformers=tfm,\n",
    "    remainder='drop'  # Drop any columns not specified in transformers\n",
    ")\n",
    "\n",
    "# Create a pipeline object\n",
    "item_metadata_pipeline = Pipeline(steps=[\n",
    "    ('preprocessing', preprocessing_pipeline)\n",
    "])\n",
    "\n",
    "# Fit the pipeline\n",
    "item_metadata_pipeline.fit(fit_df)\n",
    "\n",
    "# Transform the data (useful for training)\n",
    "transformed_item_metadata = item_metadata_pipeline.transform(train_full_df)\n",
    "\n",
    "# For demonstration, print the shape of the transformed features and a few rows\n",
    "print(f\"Transformed Item Metadata Shape: {transformed_item_metadata.shape}\")"
   ]
  },
  {
   "cell_type": "markdown",
   "id": "313b2fff-f722-4535-ad04-298aeb1cd731",
   "metadata": {},
   "source": [
    "# Persist"
   ]
  },
  {
   "cell_type": "code",
   "execution_count": null,
   "id": "1fe36b03-39cd-42f2-9d3b-95d9b86f4265",
   "metadata": {},
   "outputs": [],
   "source": [
    "import joblib\n",
    "import pickle"
   ]
  },
  {
   "cell_type": "code",
   "execution_count": null,
   "id": "a8168f5d-6950-4b5d-a993-3d73e42df2e9",
   "metadata": {},
   "outputs": [],
   "source": [
    "train_full_df.to_parquet(\"../data/train_item_features.parquet\")\n",
    "val_full_df.to_parquet(\"../data/val_item_features.parquet\")"
   ]
  },
  {
   "cell_type": "code",
   "execution_count": null,
   "id": "420a625f-3e36-4577-9707-f8c352f449c5",
   "metadata": {},
   "outputs": [],
   "source": [
    "joblib.dump(item_metadata_pipeline, '../data/item_metadata_pipeline.joblib')"
   ]
  }
 ],
 "metadata": {
  "kernelspec": {
   "display_name": "Python 3 (ipykernel)",
   "language": "python",
   "name": "python3"
  },
  "language_info": {
   "codemirror_mode": {
    "name": "ipython",
    "version": 3
   },
   "file_extension": ".py",
   "mimetype": "text/x-python",
   "name": "python",
   "nbconvert_exporter": "python",
   "pygments_lexer": "ipython3",
   "version": "3.11.9"
  }
 },
 "nbformat": 4,
 "nbformat_minor": 5
}
