{
 "cells": [
  {
   "cell_type": "markdown",
   "id": "9b7fc57b-f914-4d4a-958a-507d156490f2",
   "metadata": {},
   "source": [
    "# Embedding Store - abstraction for downstream use case"
   ]
  },
  {
   "cell_type": "markdown",
   "id": "49b88582-eb83-479b-a6e1-e8892d06db91",
   "metadata": {},
   "source": [
    "# Set up"
   ]
  },
  {
   "cell_type": "code",
   "execution_count": 1,
   "id": "af4984cf-4117-4385-ae86-2a346d20dd6c",
   "metadata": {},
   "outputs": [],
   "source": [
    "import torch\n",
    "import json\n",
    "import pandas as pd\n",
    "import numpy as np\n",
    "from loguru import logger\n",
    "import sys\n",
    "from pathlib import Path\n",
    "from typing import Union, List\n",
    "\n",
    "sys.path.insert(0, '..')  # Need this for the torch load to work"
   ]
  },
  {
   "cell_type": "markdown",
   "id": "23c4e48a-ac84-4693-9f8a-dfba76d70e57",
   "metadata": {},
   "source": [
    "# Load model"
   ]
  },
  {
   "cell_type": "code",
   "execution_count": 2,
   "id": "a18c638c-9b7b-4e66-8d9f-7e549b725afa",
   "metadata": {},
   "outputs": [],
   "source": [
    "run_name = '003-increase-batch-size'\n",
    "model_path = f'data/{run_name}/skipgram_model_full.pth'\n",
    "id_mapping_path = f'data/{run_name}/skipgram_id_mapping.json'"
   ]
  },
  {
   "cell_type": "code",
   "execution_count": 3,
   "id": "baa6f9eb-e223-4dfd-9ae0-a7462b057d14",
   "metadata": {},
   "outputs": [
    {
     "name": "stderr",
     "output_type": "stream",
     "text": [
      "/tmp/ipykernel_397715/454443969.py:1: FutureWarning: You are using `torch.load` with `weights_only=False` (the current default value), which uses the default pickle module implicitly. It is possible to construct malicious pickle data which will execute arbitrary code during unpickling (See https://github.com/pytorch/pytorch/blob/main/SECURITY.md#untrusted-models for more details). In a future release, the default value for `weights_only` will be flipped to `True`. This limits the functions that could be executed during unpickling. Arbitrary objects will no longer be allowed to be loaded via this mode unless they are explicitly allowlisted by the user via `torch.serialization.add_safe_globals`. We recommend you start setting `weights_only=True` for any use case where you don't have full control of the loaded file. Please open an issue on GitHub for any issues related to this experimental feature.\n",
      "  model = torch.load(model_path)\n"
     ]
    }
   ],
   "source": [
    "model = torch.load(model_path)\n",
    "model = model.to(\"cpu\")\n",
    "\n",
    "with open(id_mapping_path, 'r') as f:\n",
    "    id_mapper = json.load(f)"
   ]
  },
  {
   "cell_type": "code",
   "execution_count": 4,
   "id": "8c2aff54-a65a-454b-940f-d623f8cb538d",
   "metadata": {
    "scrolled": true
   },
   "outputs": [
    {
     "data": {
      "text/plain": [
       "tensor([[ 3.0697e-01, -1.9366e-01, -3.6119e-01, -2.3926e-01,  5.1450e-02,\n",
       "         -2.1186e-01, -8.7054e-02,  1.0064e-01,  1.0387e-01, -1.6844e-01,\n",
       "         -2.0294e-01,  2.2540e-01, -4.1290e-01, -2.7462e-01, -2.3910e-01,\n",
       "          1.2672e-01,  8.9339e-02,  1.9948e-01,  1.0796e-01, -1.0444e-01,\n",
       "         -1.4779e-01, -4.2136e-02, -1.2616e-01, -1.0927e-01, -7.8715e-02,\n",
       "          1.0555e-01,  7.1937e-02, -4.2882e-02,  2.9020e-01,  2.2560e-01,\n",
       "         -6.9849e-02, -1.5955e-01,  7.9546e-02, -1.2914e-01,  3.9749e-01,\n",
       "         -1.7765e-01, -1.4966e-01,  2.4029e-01, -1.0989e-01, -1.1080e-01,\n",
       "         -6.1592e-02,  2.0496e-01,  3.2974e-01,  1.8612e-01, -4.8572e-02,\n",
       "          3.1325e-01, -3.6450e-01, -1.5718e-01,  9.6622e-02, -2.6860e-01,\n",
       "         -8.3292e-02, -3.9046e-01, -8.8346e-02,  1.7577e-01, -3.0005e-02,\n",
       "         -3.6283e-01,  5.7607e-01, -1.5172e-01,  4.1116e-01,  1.4046e-01,\n",
       "          2.1911e-01, -1.2773e-01, -7.8384e-02, -3.2731e-02, -1.4895e-01,\n",
       "         -4.2191e-02,  2.0459e-01,  4.6728e-02, -5.8825e-02, -9.9124e-02,\n",
       "          4.5588e-02,  1.6009e-02, -3.4679e-01,  1.7296e-01,  9.2224e-02,\n",
       "          1.9119e-02,  2.4668e-01, -1.7669e-01, -1.1520e-01,  1.3581e-01,\n",
       "         -1.1649e-02,  5.0143e-02, -8.1609e-02,  1.4736e-01, -1.7119e-03,\n",
       "         -8.0518e-02, -4.4086e-02, -5.2642e-02,  6.7565e-02, -2.9051e-01,\n",
       "          1.5336e-01,  1.8646e-01, -1.9551e-01,  1.0153e-01, -2.5020e-01,\n",
       "         -3.9432e-02, -8.0435e-02, -4.2025e-01,  5.6592e-01, -3.6484e-01,\n",
       "          4.5996e-02,  4.9131e-02, -1.5238e-02,  3.4137e-01,  1.9216e-01,\n",
       "         -1.5055e-01, -1.3310e-01,  5.9895e-02, -6.4834e-03, -1.9775e-02,\n",
       "         -5.3434e-01,  8.4464e-02, -1.0120e-01, -2.7197e-01,  1.4714e-01,\n",
       "          9.2133e-03, -5.3698e-02,  4.6561e-01, -4.6567e-01,  2.6485e-01,\n",
       "          2.0309e-01,  3.8358e-01,  3.9247e-01, -1.2165e-01,  4.6361e-02,\n",
       "         -7.2251e-02,  3.8340e-01,  4.1450e-02],\n",
       "        [ 1.4739e-01, -1.0432e-01, -1.6984e-01, -1.3383e-01,  8.4845e-02,\n",
       "         -2.7749e-01, -7.3025e-02,  2.0251e-02,  1.4964e-01, -2.0696e-01,\n",
       "         -2.1071e-01, -2.0441e-01, -4.4858e-03, -2.7053e-01,  1.9598e-02,\n",
       "          2.3104e-01,  1.0908e-01,  1.5402e-01,  1.3415e-01,  8.2894e-02,\n",
       "         -1.2287e-01, -9.9473e-02, -2.7708e-01, -1.0702e-01, -1.0768e-01,\n",
       "          9.5947e-02, -5.4639e-02,  3.6474e-02, -5.7174e-02, -1.7262e-02,\n",
       "         -1.7648e-01, -1.0034e-01,  1.2181e-01, -1.3456e-01,  4.2196e-02,\n",
       "         -1.7375e-01,  2.4969e-03,  1.9652e-01, -2.2250e-01,  1.6588e-01,\n",
       "         -1.9893e-01, -1.9356e-01,  1.5103e-01,  1.6881e-01, -1.4567e-01,\n",
       "          2.9768e-01,  1.4471e-02,  6.0358e-02, -1.8992e-01, -2.3022e-01,\n",
       "         -4.0376e-02, -1.0205e-01,  2.2430e-01, -2.3783e-01,  6.1529e-02,\n",
       "         -1.5238e-01,  1.1856e-01, -2.6386e-01, -2.3300e-02, -1.2463e-01,\n",
       "          1.2818e-02, -1.2286e-01, -5.4344e-02, -1.4124e-02, -2.6160e-01,\n",
       "          2.2218e-01,  1.3563e-01,  2.3242e-03,  1.4220e-01, -1.8645e-02,\n",
       "         -9.5253e-02, -2.8777e-02,  1.6688e-01, -1.5310e-01, -2.3915e-01,\n",
       "          1.1845e-01,  9.9813e-02,  5.6856e-03, -9.6567e-02, -1.6467e-01,\n",
       "          4.3069e-01, -7.0700e-02,  3.8840e-02, -3.2276e-02, -1.0172e-01,\n",
       "          1.5577e-02, -1.6724e-01,  7.6329e-02,  9.4708e-03, -3.5546e-01,\n",
       "          7.0835e-02,  3.8426e-02,  1.6336e-01,  1.0123e-01, -1.6121e-01,\n",
       "          1.1862e-01, -2.0613e-02, -1.3400e-01,  4.1026e-02,  8.1723e-02,\n",
       "          7.4294e-02,  7.4684e-02,  1.0200e-01, -8.6364e-02,  2.0501e-01,\n",
       "         -2.0808e-01,  1.4992e-01,  2.8387e-01,  4.3397e-02,  1.5090e-01,\n",
       "         -5.7483e-01,  2.1494e-01, -1.0248e-01,  1.8049e-01, -1.4555e-01,\n",
       "          4.6306e-04,  1.6792e-01, -1.6577e-01, -3.5801e-01,  2.1208e-01,\n",
       "         -9.8685e-02, -2.5975e-01,  1.5931e-01,  1.1908e-01, -7.7971e-02,\n",
       "         -4.1877e-01, -2.1965e-01, -1.4969e-01],\n",
       "        [-1.9799e-01,  7.7178e-02, -6.2653e-02, -7.8832e-02,  6.8672e-02,\n",
       "         -2.1057e-01,  8.9056e-02,  1.2578e-03,  3.3655e-01,  2.5849e-02,\n",
       "          3.7644e-02, -9.3829e-02, -3.0306e-01, -2.0187e-01, -1.7114e-01,\n",
       "         -1.3276e-03, -3.4108e-02, -1.8220e-02,  9.0238e-02,  9.5272e-02,\n",
       "          2.5408e-02, -1.9775e-01, -3.0645e-02, -9.8124e-02,  9.6125e-02,\n",
       "          7.1726e-02, -3.3364e-03,  2.3214e-02, -9.1727e-02,  5.2552e-02,\n",
       "         -1.1387e-01,  1.2389e-01, -1.2324e-01, -6.5595e-02,  3.3752e-01,\n",
       "         -8.2579e-02,  6.9854e-02,  3.9892e-02, -3.6821e-04, -2.2106e-02,\n",
       "          3.3725e-02,  2.3498e-02,  1.7683e-02,  1.1169e-01,  1.0538e-01,\n",
       "          3.3073e-01,  1.2262e-01, -3.6462e-02,  7.7088e-02,  3.1911e-02,\n",
       "         -2.4022e-01, -1.2576e-02, -1.4520e-02, -1.5508e-01, -5.7783e-02,\n",
       "         -3.8428e-02, -1.2312e-01,  2.7870e-02,  1.7801e-01, -1.5149e-02,\n",
       "          2.4289e-02, -8.1803e-02, -1.2022e-01, -7.2306e-02, -1.6478e-03,\n",
       "         -1.3860e-01,  7.8145e-02,  1.6385e-01,  6.0419e-02, -1.9897e-01,\n",
       "         -7.1277e-02,  8.0458e-02,  2.7505e-02,  9.6528e-02, -1.6359e-01,\n",
       "          3.1280e-02,  8.0879e-02,  1.0253e-02, -1.3313e-01, -1.6042e-01,\n",
       "          6.5416e-02, -9.3427e-02,  1.8791e-01, -9.5294e-02, -5.9091e-03,\n",
       "          1.5556e-02, -5.5485e-02,  1.3593e-01,  1.5394e-01, -4.2088e-02,\n",
       "          2.6287e-02, -7.0149e-02, -1.2487e-02,  6.7040e-02,  1.7512e-02,\n",
       "          2.9694e-02,  2.2897e-02,  2.0995e-02,  1.7525e-01,  3.1428e-01,\n",
       "          1.4722e-01, -4.9947e-02, -1.8467e-01,  1.7843e-01,  7.5168e-02,\n",
       "          1.4652e-02,  1.2632e-01, -5.8593e-02, -6.8560e-02, -4.8935e-02,\n",
       "         -1.8366e-01,  1.0607e-01,  2.7621e-02, -6.9332e-02,  4.5940e-02,\n",
       "          1.4980e-01, -1.9103e-01, -1.8283e-01, -2.2466e-01, -7.1312e-02,\n",
       "          4.7279e-02, -6.8837e-02, -6.0562e-02,  3.0388e-02, -1.2981e-01,\n",
       "         -2.2902e-02,  2.5330e-01, -7.3554e-03]], grad_fn=<EmbeddingBackward0>)"
      ]
     },
     "execution_count": 4,
     "metadata": {},
     "output_type": "execute_result"
    }
   ],
   "source": [
    "model.embeddings(torch.tensor([1,2,3]))"
   ]
  },
  {
   "cell_type": "markdown",
   "id": "3ddd610b-11e2-4022-ab21-ca938bad08ad",
   "metadata": {},
   "source": [
    "# Init Embedding Store"
   ]
  },
  {
   "cell_type": "code",
   "execution_count": 5,
   "id": "225861bc-8d28-4eca-8345-e098b1e53148",
   "metadata": {},
   "outputs": [],
   "source": [
    "from src.embedding_store import TorchEmbeddingStore"
   ]
  },
  {
   "cell_type": "code",
   "execution_count": 6,
   "id": "331a6388-f5bd-4721-9c96-0e8edc51af42",
   "metadata": {},
   "outputs": [],
   "source": [
    "embs = TorchEmbeddingStore(id_mapper, model.embeddings)"
   ]
  },
  {
   "cell_type": "code",
   "execution_count": 7,
   "id": "6fa62a99-e0b8-4619-bc16-6b081f8d2424",
   "metadata": {},
   "outputs": [
    {
     "data": {
      "text/plain": [
       "torch.nn.modules.sparse.Embedding"
      ]
     },
     "execution_count": 7,
     "metadata": {},
     "output_type": "execute_result"
    }
   ],
   "source": [
    "type(model.embeddings)"
   ]
  },
  {
   "cell_type": "code",
   "execution_count": 8,
   "id": "2671c48f-ccf6-4ab2-a75d-efe77772a2e9",
   "metadata": {},
   "outputs": [
    {
     "data": {
      "text/plain": [
       "tensor([ 0.3070, -0.1937, -0.3612, -0.2393,  0.0514, -0.2119, -0.0871,  0.1006,\n",
       "         0.1039, -0.1684, -0.2029,  0.2254, -0.4129, -0.2746, -0.2391,  0.1267,\n",
       "         0.0893,  0.1995,  0.1080, -0.1044, -0.1478, -0.0421, -0.1262, -0.1093,\n",
       "        -0.0787,  0.1056,  0.0719, -0.0429,  0.2902,  0.2256, -0.0698, -0.1595,\n",
       "         0.0795, -0.1291,  0.3975, -0.1777, -0.1497,  0.2403, -0.1099, -0.1108,\n",
       "        -0.0616,  0.2050,  0.3297,  0.1861, -0.0486,  0.3133, -0.3645, -0.1572,\n",
       "         0.0966, -0.2686, -0.0833, -0.3905, -0.0883,  0.1758, -0.0300, -0.3628,\n",
       "         0.5761, -0.1517,  0.4112,  0.1405,  0.2191, -0.1277, -0.0784, -0.0327,\n",
       "        -0.1490, -0.0422,  0.2046,  0.0467, -0.0588, -0.0991,  0.0456,  0.0160,\n",
       "        -0.3468,  0.1730,  0.0922,  0.0191,  0.2467, -0.1767, -0.1152,  0.1358,\n",
       "        -0.0116,  0.0501, -0.0816,  0.1474, -0.0017, -0.0805, -0.0441, -0.0526,\n",
       "         0.0676, -0.2905,  0.1534,  0.1865, -0.1955,  0.1015, -0.2502, -0.0394,\n",
       "        -0.0804, -0.4203,  0.5659, -0.3648,  0.0460,  0.0491, -0.0152,  0.3414,\n",
       "         0.1922, -0.1506, -0.1331,  0.0599, -0.0065, -0.0198, -0.5343,  0.0845,\n",
       "        -0.1012, -0.2720,  0.1471,  0.0092, -0.0537,  0.4656, -0.4657,  0.2648,\n",
       "         0.2031,  0.3836,  0.3925, -0.1216,  0.0464, -0.0723,  0.3834,  0.0414],\n",
       "       grad_fn=<EmbeddingBackward0>)"
      ]
     },
     "execution_count": 8,
     "metadata": {},
     "output_type": "execute_result"
    }
   ],
   "source": [
    "embs.get_emb(1)"
   ]
  },
  {
   "cell_type": "markdown",
   "id": "9c87ed8f-89d3-44d8-8533-1f793559e2b7",
   "metadata": {},
   "source": [
    "# Load data"
   ]
  },
  {
   "cell_type": "code",
   "execution_count": 9,
   "id": "a3868d96-9685-4a22-9d65-4efb83d9d846",
   "metadata": {},
   "outputs": [],
   "source": [
    "train_df = pd.read_parquet(\"../data/train_features_neg_df.parquet\")"
   ]
  },
  {
   "cell_type": "code",
   "execution_count": 10,
   "id": "9853c276-6300-4743-a01f-059ed2c04f03",
   "metadata": {},
   "outputs": [],
   "source": [
    "items = train_df['parent_asin'].unique()\n",
    "embeddings = embs.get_emb(items)"
   ]
  },
  {
   "cell_type": "code",
   "execution_count": 11,
   "id": "9f752c1e-353f-42b6-a32c-a49fe1d58fb5",
   "metadata": {},
   "outputs": [],
   "source": [
    "assert len(embeddings) == len(items)\n",
    "assert embeddings.shape[1] == embs.embedding_dim"
   ]
  },
  {
   "cell_type": "markdown",
   "id": "ac821550-6689-45d4-9e5d-78ed2ebf3d0d",
   "metadata": {},
   "source": [
    "# Persist"
   ]
  },
  {
   "cell_type": "code",
   "execution_count": 12,
   "id": "1160b67e-c28d-4427-993c-236966b9fbde",
   "metadata": {},
   "outputs": [],
   "source": [
    "persist_fp = 'model/item2vec_embeddings.pth'\n",
    "Path(persist_fp).parents[0].mkdir(exist_ok=True)\n",
    "embs.save(persist_fp)"
   ]
  },
  {
   "cell_type": "code",
   "execution_count": 13,
   "id": "5a91a9ea-7569-4597-8a6e-b972cdf4cb84",
   "metadata": {},
   "outputs": [
    {
     "name": "stderr",
     "output_type": "stream",
     "text": [
      "/home/jupyter/frostmourne/reco-algo/notebooks/../src/embedding_store.py:65: FutureWarning: You are using `torch.load` with `weights_only=False` (the current default value), which uses the default pickle module implicitly. It is possible to construct malicious pickle data which will execute arbitrary code during unpickling (See https://github.com/pytorch/pytorch/blob/main/SECURITY.md#untrusted-models for more details). In a future release, the default value for `weights_only` will be flipped to `True`. This limits the functions that could be executed during unpickling. Arbitrary objects will no longer be allowed to be loaded via this mode unless they are explicitly allowlisted by the user via `torch.serialization.add_safe_globals`. We recommend you start setting `weights_only=True` for any use case where you don't have full control of the loaded file. Please open an issue on GitHub for any issues related to this experimental feature.\n",
      "  checkpoint = torch.load(file_path)\n"
     ]
    }
   ],
   "source": [
    "loaded_embs = TorchEmbeddingStore.load(persist_fp)"
   ]
  },
  {
   "cell_type": "code",
   "execution_count": 14,
   "id": "22c0e610-8895-4f7a-a9c3-503bbf7236db",
   "metadata": {},
   "outputs": [],
   "source": [
    "assert embs.embedding_dim == loaded_embs.embedding_dim\n",
    "assert all(embs.get_emb(0) == loaded_embs.get_emb(0))"
   ]
  }
 ],
 "metadata": {
  "kernelspec": {
   "display_name": "Python 3 (ipykernel)",
   "language": "python",
   "name": "python3"
  },
  "language_info": {
   "codemirror_mode": {
    "name": "ipython",
    "version": 3
   },
   "file_extension": ".py",
   "mimetype": "text/x-python",
   "name": "python",
   "nbconvert_exporter": "python",
   "pygments_lexer": "ipython3",
   "version": "3.11.9"
  }
 },
 "nbformat": 4,
 "nbformat_minor": 5
}
