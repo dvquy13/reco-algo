{
 "cells": [
  {
   "cell_type": "markdown",
   "id": "9b7fc57b-f914-4d4a-958a-507d156490f2",
   "metadata": {},
   "source": [
    "# Embedding Store - abstraction for downstream use case"
   ]
  },
  {
   "cell_type": "markdown",
   "id": "49b88582-eb83-479b-a6e1-e8892d06db91",
   "metadata": {},
   "source": [
    "# Set up"
   ]
  },
  {
   "cell_type": "code",
   "execution_count": 1,
   "id": "af4984cf-4117-4385-ae86-2a346d20dd6c",
   "metadata": {},
   "outputs": [],
   "source": [
    "import sys\n",
    "from pathlib import Path\n",
    "\n",
    "import pandas as pd\n",
    "import torch\n",
    "\n",
    "sys.path.insert(0, \"..\")  # Need this for the torch load to work\n",
    "from src.id_mapper import IDMapper"
   ]
  },
  {
   "cell_type": "markdown",
   "id": "23c4e48a-ac84-4693-9f8a-dfba76d70e57",
   "metadata": {},
   "source": [
    "# Load model"
   ]
  },
  {
   "cell_type": "code",
   "execution_count": 2,
   "id": "a18c638c-9b7b-4e66-8d9f-7e549b725afa",
   "metadata": {},
   "outputs": [],
   "source": [
    "run_name = \"003-increase-batch-size\"\n",
    "model_path = f\"data/{run_name}/skipgram_model_full.pth\"\n",
    "id_mapping_path = \"../data/idm.json\""
   ]
  },
  {
   "cell_type": "code",
   "execution_count": 3,
   "id": "baa6f9eb-e223-4dfd-9ae0-a7462b057d14",
   "metadata": {},
   "outputs": [
    {
     "name": "stderr",
     "output_type": "stream",
     "text": [
      "/tmp/ipykernel_52544/1303535831.py:1: FutureWarning: You are using `torch.load` with `weights_only=False` (the current default value), which uses the default pickle module implicitly. It is possible to construct malicious pickle data which will execute arbitrary code during unpickling (See https://github.com/pytorch/pytorch/blob/main/SECURITY.md#untrusted-models for more details). In a future release, the default value for `weights_only` will be flipped to `True`. This limits the functions that could be executed during unpickling. Arbitrary objects will no longer be allowed to be loaded via this mode unless they are explicitly allowlisted by the user via `torch.serialization.add_safe_globals`. We recommend you start setting `weights_only=True` for any use case where you don't have full control of the loaded file. Please open an issue on GitHub for any issues related to this experimental feature.\n",
      "  model = torch.load(model_path)\n"
     ]
    }
   ],
   "source": [
    "model = torch.load(model_path)\n",
    "model = model.to(\"cpu\")\n",
    "\n",
    "idm = IDMapper().load(id_mapping_path)\n",
    "id_mapper = {\n",
    "    \"id_to_idx\": idm.item_to_index,\n",
    "    \"idx_to_id\": {i: v for i, v in enumerate(idm.index_to_item)},\n",
    "}"
   ]
  },
  {
   "cell_type": "code",
   "execution_count": 4,
   "id": "8c2aff54-a65a-454b-940f-d623f8cb538d",
   "metadata": {
    "scrolled": true
   },
   "outputs": [
    {
     "data": {
      "text/plain": [
       "tensor([[-0.1317, -0.0332, -0.0177, -0.0446,  0.0536, -0.1227, -0.1424,  0.1958,\n",
       "          0.0657,  0.0272, -0.1571,  0.0502,  0.1533, -0.1205,  0.0916, -0.1281,\n",
       "         -0.0331,  0.1181,  0.2133, -0.0450,  0.1496, -0.0096,  0.0081, -0.0941,\n",
       "         -0.0172,  0.0733,  0.1375, -0.2049, -0.1056, -0.0068,  0.3991,  0.2537,\n",
       "          0.1147,  0.1821, -0.2608, -0.0653,  0.0886,  0.0674, -0.0380,  0.0712,\n",
       "          0.1384, -0.1220,  0.0896,  0.0078,  0.1579,  0.1571, -0.0678,  0.0752,\n",
       "         -0.0978, -0.0072, -0.0760, -0.1158, -0.0801, -0.0125,  0.4491, -0.0100,\n",
       "          0.2482,  0.0468, -0.0301, -0.1946, -0.0987, -0.0975,  0.0178, -0.0675,\n",
       "          0.0204, -0.0738, -0.1384,  0.1261, -0.1532,  0.1945, -0.1171, -0.1872,\n",
       "          0.0741, -0.0638, -0.1399,  0.1967,  0.0769,  0.1532,  0.0869,  0.0390,\n",
       "         -0.0419,  0.2155, -0.0271,  0.0935, -0.0526, -0.0776,  0.0850, -0.1611,\n",
       "          0.0043,  0.1649, -0.2891, -0.0173, -0.1837, -0.0094, -0.1548,  0.0213,\n",
       "          0.0256,  0.2108,  0.2230,  0.0747,  0.1724,  0.0482, -0.0685, -0.0502,\n",
       "         -0.4394, -0.0641,  0.0099, -0.0483,  0.0187,  0.0193, -0.0733, -0.0491,\n",
       "          0.0190, -0.1032, -0.1038,  0.1420, -0.1254, -0.0946, -0.0139, -0.1717,\n",
       "         -0.0405,  0.6867,  0.0209, -0.1731,  0.0608,  0.0193,  0.0138,  0.1002],\n",
       "        [ 0.0509, -0.1677, -0.2261, -0.2201, -0.0138,  0.0589,  0.0253,  0.0061,\n",
       "          0.0009, -0.0104, -0.1496, -0.1180, -0.2940,  0.2475,  0.0199,  0.2743,\n",
       "          0.0705, -0.0365, -0.1232,  0.1696, -0.1458,  0.0770,  0.1107,  0.0353,\n",
       "         -0.1583, -0.0979,  0.1980,  0.0007,  0.0914,  0.0309,  0.2100,  0.1855,\n",
       "          0.0122, -0.0896,  0.0334,  0.0964,  0.2802,  0.0484,  0.0976,  0.1358,\n",
       "         -0.0123,  0.0297, -0.0763,  0.3396,  0.0058,  0.2163, -0.0207,  0.2962,\n",
       "          0.0772, -0.1572, -0.1423, -0.0595, -0.0444,  0.0052, -0.3919,  0.1826,\n",
       "          0.2648, -0.0655, -0.1479,  0.1571,  0.0087, -0.0523,  0.1859,  0.3597,\n",
       "         -0.2481, -0.2060, -0.2491, -0.1620, -0.0038, -0.0698, -0.1239,  0.0264,\n",
       "         -0.0980,  0.1700,  0.2528, -0.0233,  0.2290,  0.1514,  0.1097, -0.0840,\n",
       "         -0.2725,  0.1381,  0.1588, -0.0076, -0.0907, -0.1671, -0.1258, -0.3026,\n",
       "          0.0059,  0.0781,  0.2337, -0.1489,  0.0824,  0.3517, -0.0938, -0.0947,\n",
       "          0.0266, -0.2965, -0.1818, -0.1038,  0.0127, -0.0530, -0.1291,  0.1785,\n",
       "          0.2168,  0.3341,  0.0498, -0.1486, -0.0192, -0.1172,  0.0438, -0.1589,\n",
       "         -0.0460, -0.1696,  0.1024, -0.0101, -0.0930, -0.0651, -0.2331,  0.2500,\n",
       "          0.1452,  0.0845, -0.0650, -0.0785, -0.1203,  0.0119, -0.1749,  0.2013],\n",
       "        [-0.2922, -0.0445,  0.3500,  0.0177,  0.0593, -0.1330, -0.0954, -0.0374,\n",
       "         -0.1525, -0.0549,  0.0594, -0.0806, -0.1551,  0.0383, -0.0872, -0.0292,\n",
       "          0.2716, -0.0621, -0.1963,  0.0443, -0.0485,  0.0946,  0.0286, -0.0083,\n",
       "          0.0564,  0.0478, -0.0248, -0.0942, -0.0778,  0.1017, -0.2629,  0.2288,\n",
       "          0.0371,  0.0688,  0.0558, -0.0055,  0.1169,  0.1229,  0.0827,  0.1003,\n",
       "         -0.1323,  0.1358, -0.0737,  0.2436,  0.1701,  0.1667,  0.0563,  0.2161,\n",
       "         -0.0463, -0.0519, -0.0080, -0.1317, -0.2148,  0.0709, -0.1527, -0.0236,\n",
       "          0.1597,  0.0532, -0.0917,  0.0868, -0.1111,  0.0254,  0.2065,  0.0984,\n",
       "          0.2779,  0.1330,  0.0783, -0.1510,  0.0359,  0.1352, -0.1819, -0.0424,\n",
       "          0.0786, -0.0771,  0.0151,  0.1677,  0.1288, -0.1340, -0.0897, -0.0095,\n",
       "         -0.2886, -0.1917, -0.0467, -0.0274, -0.0624, -0.2592, -0.0030, -0.2163,\n",
       "          0.0348, -0.0609,  0.1252, -0.0377, -0.1246,  0.1316,  0.0493, -0.0253,\n",
       "         -0.1104, -0.0966,  0.1070, -0.0990,  0.1193,  0.0897, -0.0178, -0.0322,\n",
       "         -0.0745, -0.0201, -0.0624,  0.0681,  0.1413, -0.0955, -0.0043, -0.0628,\n",
       "          0.1646, -0.1310, -0.0739, -0.1245, -0.1980, -0.1758, -0.0792,  0.0511,\n",
       "         -0.1839,  0.2321, -0.1350, -0.2373, -0.2120,  0.0449, -0.2140,  0.0997]],\n",
       "       grad_fn=<EmbeddingBackward0>)"
      ]
     },
     "execution_count": 4,
     "metadata": {},
     "output_type": "execute_result"
    }
   ],
   "source": [
    "model.embeddings(torch.tensor([1, 2, 3]))"
   ]
  },
  {
   "cell_type": "markdown",
   "id": "3ddd610b-11e2-4022-ab21-ca938bad08ad",
   "metadata": {},
   "source": [
    "# Init Embedding Store"
   ]
  },
  {
   "cell_type": "code",
   "execution_count": 5,
   "id": "225861bc-8d28-4eca-8345-e098b1e53148",
   "metadata": {},
   "outputs": [],
   "source": [
    "from src.embedding_store import TorchEmbeddingStore"
   ]
  },
  {
   "cell_type": "code",
   "execution_count": 6,
   "id": "331a6388-f5bd-4721-9c96-0e8edc51af42",
   "metadata": {},
   "outputs": [],
   "source": [
    "embs = TorchEmbeddingStore(id_mapper, model.embeddings)"
   ]
  },
  {
   "cell_type": "code",
   "execution_count": 7,
   "id": "6fa62a99-e0b8-4619-bc16-6b081f8d2424",
   "metadata": {},
   "outputs": [
    {
     "data": {
      "text/plain": [
       "torch.nn.modules.sparse.Embedding"
      ]
     },
     "execution_count": 7,
     "metadata": {},
     "output_type": "execute_result"
    }
   ],
   "source": [
    "type(model.embeddings)"
   ]
  },
  {
   "cell_type": "code",
   "execution_count": 8,
   "id": "2671c48f-ccf6-4ab2-a75d-efe77772a2e9",
   "metadata": {},
   "outputs": [
    {
     "data": {
      "text/plain": [
       "tensor([-0.1317, -0.0332, -0.0177, -0.0446,  0.0536, -0.1227, -0.1424,  0.1958,\n",
       "         0.0657,  0.0272, -0.1571,  0.0502,  0.1533, -0.1205,  0.0916, -0.1281,\n",
       "        -0.0331,  0.1181,  0.2133, -0.0450,  0.1496, -0.0096,  0.0081, -0.0941,\n",
       "        -0.0172,  0.0733,  0.1375, -0.2049, -0.1056, -0.0068,  0.3991,  0.2537,\n",
       "         0.1147,  0.1821, -0.2608, -0.0653,  0.0886,  0.0674, -0.0380,  0.0712,\n",
       "         0.1384, -0.1220,  0.0896,  0.0078,  0.1579,  0.1571, -0.0678,  0.0752,\n",
       "        -0.0978, -0.0072, -0.0760, -0.1158, -0.0801, -0.0125,  0.4491, -0.0100,\n",
       "         0.2482,  0.0468, -0.0301, -0.1946, -0.0987, -0.0975,  0.0178, -0.0675,\n",
       "         0.0204, -0.0738, -0.1384,  0.1261, -0.1532,  0.1945, -0.1171, -0.1872,\n",
       "         0.0741, -0.0638, -0.1399,  0.1967,  0.0769,  0.1532,  0.0869,  0.0390,\n",
       "        -0.0419,  0.2155, -0.0271,  0.0935, -0.0526, -0.0776,  0.0850, -0.1611,\n",
       "         0.0043,  0.1649, -0.2891, -0.0173, -0.1837, -0.0094, -0.1548,  0.0213,\n",
       "         0.0256,  0.2108,  0.2230,  0.0747,  0.1724,  0.0482, -0.0685, -0.0502,\n",
       "        -0.4394, -0.0641,  0.0099, -0.0483,  0.0187,  0.0193, -0.0733, -0.0491,\n",
       "         0.0190, -0.1032, -0.1038,  0.1420, -0.1254, -0.0946, -0.0139, -0.1717,\n",
       "        -0.0405,  0.6867,  0.0209, -0.1731,  0.0608,  0.0193,  0.0138,  0.1002],\n",
       "       grad_fn=<EmbeddingBackward0>)"
      ]
     },
     "execution_count": 8,
     "metadata": {},
     "output_type": "execute_result"
    }
   ],
   "source": [
    "embs.get_emb(1)"
   ]
  },
  {
   "cell_type": "markdown",
   "id": "9c87ed8f-89d3-44d8-8533-1f793559e2b7",
   "metadata": {},
   "source": [
    "# Load data"
   ]
  },
  {
   "cell_type": "code",
   "execution_count": 9,
   "id": "a3868d96-9685-4a22-9d65-4efb83d9d846",
   "metadata": {},
   "outputs": [],
   "source": [
    "train_df = pd.read_parquet(\"../data/train_features_neg_df.parquet\")"
   ]
  },
  {
   "cell_type": "code",
   "execution_count": 10,
   "id": "9853c276-6300-4743-a01f-059ed2c04f03",
   "metadata": {},
   "outputs": [],
   "source": [
    "items = train_df[\"parent_asin\"].unique()\n",
    "embeddings = embs.get_emb(items)"
   ]
  },
  {
   "cell_type": "code",
   "execution_count": 11,
   "id": "9f752c1e-353f-42b6-a32c-a49fe1d58fb5",
   "metadata": {},
   "outputs": [],
   "source": [
    "assert len(embeddings) == len(items)\n",
    "assert embeddings.shape[1] == embs.embedding_dim"
   ]
  },
  {
   "cell_type": "markdown",
   "id": "ac821550-6689-45d4-9e5d-78ed2ebf3d0d",
   "metadata": {},
   "source": [
    "# Persist"
   ]
  },
  {
   "cell_type": "code",
   "execution_count": 12,
   "id": "1160b67e-c28d-4427-993c-236966b9fbde",
   "metadata": {},
   "outputs": [],
   "source": [
    "persist_fp = \"model/item2vec_embeddings.pth\"\n",
    "Path(persist_fp).parents[0].mkdir(exist_ok=True)\n",
    "embs.save(persist_fp)"
   ]
  },
  {
   "cell_type": "code",
   "execution_count": 13,
   "id": "5a91a9ea-7569-4597-8a6e-b972cdf4cb84",
   "metadata": {},
   "outputs": [
    {
     "name": "stderr",
     "output_type": "stream",
     "text": [
      "/home/jupyter/frostmourne/reco-algo/notebooks/../src/embedding_store.py:67: FutureWarning: You are using `torch.load` with `weights_only=False` (the current default value), which uses the default pickle module implicitly. It is possible to construct malicious pickle data which will execute arbitrary code during unpickling (See https://github.com/pytorch/pytorch/blob/main/SECURITY.md#untrusted-models for more details). In a future release, the default value for `weights_only` will be flipped to `True`. This limits the functions that could be executed during unpickling. Arbitrary objects will no longer be allowed to be loaded via this mode unless they are explicitly allowlisted by the user via `torch.serialization.add_safe_globals`. We recommend you start setting `weights_only=True` for any use case where you don't have full control of the loaded file. Please open an issue on GitHub for any issues related to this experimental feature.\n",
      "  checkpoint = torch.load(file_path)\n"
     ]
    }
   ],
   "source": [
    "loaded_embs = TorchEmbeddingStore.load(persist_fp)"
   ]
  },
  {
   "cell_type": "code",
   "execution_count": 14,
   "id": "22c0e610-8895-4f7a-a9c3-503bbf7236db",
   "metadata": {},
   "outputs": [],
   "source": [
    "assert embs.embedding_dim == loaded_embs.embedding_dim\n",
    "assert all(embs.get_emb(0) == loaded_embs.get_emb(0))"
   ]
  },
  {
   "cell_type": "code",
   "execution_count": null,
   "id": "bcd2bf49-2156-489a-8abf-dec039b63f69",
   "metadata": {},
   "outputs": [],
   "source": []
  }
 ],
 "metadata": {
  "kernelspec": {
   "display_name": "Python 3 (ipykernel)",
   "language": "python",
   "name": "python3"
  },
  "language_info": {
   "codemirror_mode": {
    "name": "ipython",
    "version": 3
   },
   "file_extension": ".py",
   "mimetype": "text/x-python",
   "name": "python",
   "nbconvert_exporter": "python",
   "pygments_lexer": "ipython3",
   "version": "3.11.9"
  }
 },
 "nbformat": 4,
 "nbformat_minor": 5
}
