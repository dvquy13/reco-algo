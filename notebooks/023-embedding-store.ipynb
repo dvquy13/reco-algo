{
 "cells": [
  {
   "cell_type": "markdown",
   "id": "9b7fc57b-f914-4d4a-958a-507d156490f2",
   "metadata": {},
   "source": [
    "# Embedding Store - abstraction for downstream use case"
   ]
  },
  {
   "cell_type": "markdown",
   "id": "49b88582-eb83-479b-a6e1-e8892d06db91",
   "metadata": {},
   "source": [
    "# Set up"
   ]
  },
  {
   "cell_type": "code",
   "execution_count": 1,
   "id": "af4984cf-4117-4385-ae86-2a346d20dd6c",
   "metadata": {},
   "outputs": [],
   "source": [
    "import sys\n",
    "from pathlib import Path\n",
    "\n",
    "import pandas as pd\n",
    "import torch\n",
    "\n",
    "sys.path.insert(0, \"..\")  # Need this for the torch load to work\n",
    "from src.id_mapper import IDMapper"
   ]
  },
  {
   "cell_type": "markdown",
   "id": "23c4e48a-ac84-4693-9f8a-dfba76d70e57",
   "metadata": {},
   "source": [
    "# Load model"
   ]
  },
  {
   "cell_type": "code",
   "execution_count": 2,
   "id": "a18c638c-9b7b-4e66-8d9f-7e549b725afa",
   "metadata": {},
   "outputs": [],
   "source": [
    "run_name = \"003-increase-batch-size\"\n",
    "model_path = f\"data/{run_name}/skipgram_model_full.pth\"\n",
    "id_mapping_path = \"../data/idm.json\""
   ]
  },
  {
   "cell_type": "code",
   "execution_count": 3,
   "id": "baa6f9eb-e223-4dfd-9ae0-a7462b057d14",
   "metadata": {},
   "outputs": [
    {
     "name": "stderr",
     "output_type": "stream",
     "text": [
      "/var/folders/mq/xtxzhvlj4m97tb8lgwxcnsb40000gn/T/ipykernel_23799/716067380.py:1: FutureWarning: You are using `torch.load` with `weights_only=False` (the current default value), which uses the default pickle module implicitly. It is possible to construct malicious pickle data which will execute arbitrary code during unpickling (See https://github.com/pytorch/pytorch/blob/main/SECURITY.md#untrusted-models for more details). In a future release, the default value for `weights_only` will be flipped to `True`. This limits the functions that could be executed during unpickling. Arbitrary objects will no longer be allowed to be loaded via this mode unless they are explicitly allowlisted by the user via `torch.serialization.add_safe_globals`. We recommend you start setting `weights_only=True` for any use case where you don't have full control of the loaded file. Please open an issue on GitHub for any issues related to this experimental feature.\n",
      "  model = torch.load(model_path)\n"
     ]
    }
   ],
   "source": [
    "model = torch.load(model_path)\n",
    "model = model.to(\"cpu\")\n",
    "\n",
    "idm = IDMapper().load(id_mapping_path)\n",
    "id_mapper = {\n",
    "    \"id_to_idx\": idm.item_to_index,\n",
    "    \"idx_to_id\": {i: v for i, v in enumerate(idm.index_to_item)},\n",
    "}"
   ]
  },
  {
   "cell_type": "code",
   "execution_count": 4,
   "id": "8c2aff54-a65a-454b-940f-d623f8cb538d",
   "metadata": {
    "scrolled": true
   },
   "outputs": [
    {
     "data": {
      "text/plain": [
       "tensor([[-3.3563e-01, -6.7494e-02, -1.2587e-01, -9.1505e-02,  8.3021e-02,\n",
       "          1.6040e-01, -3.2645e-02, -8.6713e-02,  3.8964e-02,  6.9410e-02,\n",
       "          9.3355e-02,  1.2719e-01,  3.2712e-01,  7.7326e-03, -1.7127e-01,\n",
       "          7.5069e-02,  6.6423e-02,  8.3719e-02,  2.4073e-01, -2.1420e-01,\n",
       "         -3.7354e-02, -6.9796e-02, -4.1970e-02, -2.1700e-02,  5.1872e-02,\n",
       "          1.6061e-01, -1.9597e-01,  6.6261e-02, -7.2800e-02,  9.5779e-02,\n",
       "         -1.3496e-01, -8.7845e-02,  1.6247e-01,  6.8214e-03, -1.6455e-03,\n",
       "          1.3581e-01,  2.4187e-01, -7.2012e-02, -3.9196e-02,  1.4857e-01,\n",
       "          1.2731e-01,  1.0663e-01, -1.5828e-01, -2.6537e-01, -1.1889e-01,\n",
       "          8.2768e-02,  3.9514e-02,  1.6478e-03, -4.1616e-02,  2.4122e-02,\n",
       "         -8.9388e-02,  9.4123e-02,  9.0517e-02, -8.1978e-02, -9.3368e-02,\n",
       "         -1.4800e-01,  1.6849e-01,  4.3713e-02,  3.5719e-01, -1.5130e-03,\n",
       "          4.9855e-02, -1.1850e-01,  1.4244e-02, -1.0346e-01,  8.2536e-02,\n",
       "          1.8407e-01,  6.4569e-02,  9.3492e-02,  1.1181e-01, -4.3633e-02,\n",
       "          1.2332e-01, -3.3071e-01,  1.7027e-02,  2.9826e-02, -6.4580e-02,\n",
       "         -5.6371e-02, -2.2663e-02, -5.2849e-02,  2.0507e-02,  7.2327e-02,\n",
       "          1.4530e-01, -1.4373e-01,  9.1817e-02,  2.3103e-01, -7.5446e-02,\n",
       "         -1.0513e-01,  4.5872e-02, -5.2962e-01, -2.1580e-01, -6.6182e-03,\n",
       "          1.0287e-02,  1.2050e-02, -4.7849e-01, -3.6902e-01, -1.2035e-01,\n",
       "          1.0221e-01,  4.3043e-02,  4.0529e-01,  9.5063e-02,  3.3252e-01,\n",
       "          2.3952e-01, -2.5883e-02, -1.0990e-01,  1.4353e-01, -8.0223e-02,\n",
       "         -1.0353e-02,  9.9746e-02,  1.2167e-01,  2.6261e-03,  7.1111e-02,\n",
       "          1.4734e-01, -1.5566e-01, -2.8891e-01, -1.2049e-01, -7.9137e-03,\n",
       "         -1.1119e-01,  7.6154e-02, -2.6302e-01,  3.4403e-02, -7.0140e-04,\n",
       "          1.4428e-01,  1.0685e-01, -1.0935e-01,  1.6603e-03, -1.2178e-01,\n",
       "          8.4493e-02, -1.1286e-01, -3.2531e-02],\n",
       "        [ 1.2918e-03, -4.7011e-02,  8.5536e-02,  9.6629e-02,  7.1704e-02,\n",
       "          7.1049e-02, -2.9048e-02,  1.4653e-01, -1.9895e-02, -5.0081e-03,\n",
       "         -2.3062e-02, -7.4601e-02,  3.0590e-01,  1.5222e-02, -4.2879e-02,\n",
       "         -4.5499e-02,  3.6187e-02,  1.8928e-02,  4.9824e-03, -1.0483e-02,\n",
       "         -3.8662e-02,  3.1630e-02, -1.5087e-01,  7.6692e-02, -3.1760e-01,\n",
       "         -3.5572e-02, -6.5702e-02,  3.6990e-02, -9.7294e-02, -1.2373e-02,\n",
       "         -5.7733e-02,  9.4639e-02,  1.3070e-02,  7.6573e-02,  3.9523e-02,\n",
       "          1.2769e-01, -6.6694e-02, -4.0120e-02, -3.9996e-02,  2.4448e-02,\n",
       "          2.1068e-03,  2.8068e-02,  6.5171e-02, -1.2901e-02, -3.8423e-03,\n",
       "         -1.8637e-01,  6.3328e-02, -5.7156e-03, -9.1416e-02, -6.2556e-02,\n",
       "         -1.1036e-02, -1.6438e-01,  6.1308e-02,  2.4243e-02,  6.4083e-02,\n",
       "          2.7663e-02, -1.1576e-02,  3.9465e-02,  2.3428e-01,  3.8420e-02,\n",
       "          5.8793e-03, -3.2184e-01, -1.8995e-02,  8.4918e-03, -4.2888e-02,\n",
       "         -5.0325e-02,  2.0695e-02, -2.2871e-02, -1.8775e-01, -4.9091e-02,\n",
       "          2.6546e-02, -1.6100e-01, -5.7278e-02, -4.1375e-02, -1.4904e-01,\n",
       "          1.5013e-01,  8.9860e-03, -5.5488e-02,  2.4827e-02,  4.2929e-04,\n",
       "         -2.0750e-02,  8.5275e-02, -2.1790e-02,  3.7301e-02,  5.1219e-02,\n",
       "          1.1669e-02,  1.9753e-02, -1.9958e-01,  2.4662e-03, -1.0221e-01,\n",
       "         -9.0850e-02,  4.6591e-02, -3.2882e-01,  1.3711e-01, -9.9119e-04,\n",
       "          4.1466e-02,  4.8533e-02,  3.2597e-02, -1.6662e-02, -9.4858e-02,\n",
       "          1.3164e-01, -4.4371e-02,  2.3035e-02, -1.9899e-01,  1.1641e-01,\n",
       "         -6.9541e-02, -5.3906e-02,  1.0183e-03, -1.0110e-01,  1.1980e-02,\n",
       "          6.3136e-02, -7.0873e-03, -1.4920e-01, -1.0881e-01,  5.1898e-02,\n",
       "         -2.2613e-01, -1.0508e-02, -2.7061e-02, -9.2543e-03,  7.3126e-02,\n",
       "          2.6368e-02, -1.3096e-01,  4.0640e-02, -2.3454e-02, -5.9159e-02,\n",
       "         -1.0672e-01, -6.7153e-02, -1.9950e-01],\n",
       "        [-2.0660e-02, -3.2928e-02, -1.0339e-01, -6.2817e-02,  9.5953e-03,\n",
       "          1.0063e-01,  3.7366e-02, -1.3181e-01, -4.7538e-02,  1.1115e-01,\n",
       "          6.2675e-02, -1.5498e-01,  2.1547e-01,  1.2395e-02, -9.6662e-02,\n",
       "         -1.3507e-01,  7.8584e-02, -7.4151e-02,  5.1240e-03, -1.4419e-02,\n",
       "         -5.4092e-02, -1.6154e-02,  2.6999e-02, -1.1873e-01, -1.9215e-01,\n",
       "         -1.3388e-01,  1.6534e-01, -1.1465e-01,  1.2949e-01, -4.5819e-02,\n",
       "         -3.6566e-02,  1.2139e-01,  2.7420e-02,  2.6068e-02, -9.3579e-02,\n",
       "          7.3375e-02, -2.1373e-01,  3.0584e-01,  6.4264e-02, -1.6120e-02,\n",
       "         -6.6717e-03, -7.3531e-02,  1.0180e-01, -9.8040e-02,  1.3727e-01,\n",
       "          4.0092e-02, -8.3477e-02,  9.3873e-02, -1.8575e-01,  7.1072e-02,\n",
       "          8.1269e-02, -4.7022e-02, -9.1989e-02, -6.3651e-02,  3.9602e-02,\n",
       "          1.0607e-01,  7.6470e-02,  5.8261e-02,  2.1545e-01,  1.2510e-02,\n",
       "         -2.8680e-02, -1.2166e-02, -1.7088e-01, -2.9511e-03, -1.8429e-01,\n",
       "         -1.6056e-01,  1.6512e-03,  3.6068e-02, -2.8119e-02, -1.0285e-02,\n",
       "         -6.1992e-02, -6.4202e-02, -1.0313e-01,  1.3542e-01,  1.0759e-01,\n",
       "          9.3111e-02, -1.2533e-01, -1.1236e-01, -6.1474e-02,  9.7639e-02,\n",
       "         -1.3598e-01, -1.0776e-01, -6.2925e-02,  1.1119e-01,  1.1376e-01,\n",
       "         -3.6778e-02,  1.2558e-01,  9.1387e-02,  3.2674e-02, -9.9385e-02,\n",
       "         -1.1613e-01,  7.9693e-02, -4.9080e-01,  9.8850e-02, -7.3148e-02,\n",
       "          1.1164e-01, -7.2795e-02,  4.1544e-02, -8.3804e-02,  2.5595e-02,\n",
       "         -1.1167e-01, -6.0867e-02,  3.0340e-01, -2.0834e-01,  9.0830e-02,\n",
       "          1.4653e-01, -3.8080e-03, -5.2967e-02, -4.1138e-02,  6.0794e-02,\n",
       "          7.1470e-02,  7.3862e-02, -6.1979e-02, -5.9233e-02, -1.3132e-01,\n",
       "          1.1593e-01,  1.3895e-01,  9.4135e-02,  1.3628e-01,  4.7115e-02,\n",
       "         -9.0953e-02,  2.7235e-02, -9.1178e-02, -1.3238e-01,  3.5394e-02,\n",
       "          7.1689e-02, -1.2501e-01, -1.0105e-01]], grad_fn=<EmbeddingBackward0>)"
      ]
     },
     "execution_count": 4,
     "metadata": {},
     "output_type": "execute_result"
    }
   ],
   "source": [
    "model.embeddings(torch.tensor([1, 2, 3]))"
   ]
  },
  {
   "cell_type": "markdown",
   "id": "3ddd610b-11e2-4022-ab21-ca938bad08ad",
   "metadata": {},
   "source": [
    "# Init Embedding Store"
   ]
  },
  {
   "cell_type": "code",
   "execution_count": 5,
   "id": "225861bc-8d28-4eca-8345-e098b1e53148",
   "metadata": {},
   "outputs": [],
   "source": [
    "from src.embedding_store import TorchEmbeddingStore"
   ]
  },
  {
   "cell_type": "code",
   "execution_count": 6,
   "id": "331a6388-f5bd-4721-9c96-0e8edc51af42",
   "metadata": {},
   "outputs": [],
   "source": [
    "embs = TorchEmbeddingStore(id_mapper, model.embeddings)"
   ]
  },
  {
   "cell_type": "code",
   "execution_count": 7,
   "id": "6fa62a99-e0b8-4619-bc16-6b081f8d2424",
   "metadata": {},
   "outputs": [
    {
     "data": {
      "text/plain": [
       "torch.nn.modules.sparse.Embedding"
      ]
     },
     "execution_count": 7,
     "metadata": {},
     "output_type": "execute_result"
    }
   ],
   "source": [
    "type(model.embeddings)"
   ]
  },
  {
   "cell_type": "code",
   "execution_count": 8,
   "id": "2671c48f-ccf6-4ab2-a75d-efe77772a2e9",
   "metadata": {},
   "outputs": [
    {
     "data": {
      "text/plain": [
       "tensor([-0.3356, -0.0675, -0.1259, -0.0915,  0.0830,  0.1604, -0.0326, -0.0867,\n",
       "         0.0390,  0.0694,  0.0934,  0.1272,  0.3271,  0.0077, -0.1713,  0.0751,\n",
       "         0.0664,  0.0837,  0.2407, -0.2142, -0.0374, -0.0698, -0.0420, -0.0217,\n",
       "         0.0519,  0.1606, -0.1960,  0.0663, -0.0728,  0.0958, -0.1350, -0.0878,\n",
       "         0.1625,  0.0068, -0.0016,  0.1358,  0.2419, -0.0720, -0.0392,  0.1486,\n",
       "         0.1273,  0.1066, -0.1583, -0.2654, -0.1189,  0.0828,  0.0395,  0.0016,\n",
       "        -0.0416,  0.0241, -0.0894,  0.0941,  0.0905, -0.0820, -0.0934, -0.1480,\n",
       "         0.1685,  0.0437,  0.3572, -0.0015,  0.0499, -0.1185,  0.0142, -0.1035,\n",
       "         0.0825,  0.1841,  0.0646,  0.0935,  0.1118, -0.0436,  0.1233, -0.3307,\n",
       "         0.0170,  0.0298, -0.0646, -0.0564, -0.0227, -0.0528,  0.0205,  0.0723,\n",
       "         0.1453, -0.1437,  0.0918,  0.2310, -0.0754, -0.1051,  0.0459, -0.5296,\n",
       "        -0.2158, -0.0066,  0.0103,  0.0121, -0.4785, -0.3690, -0.1204,  0.1022,\n",
       "         0.0430,  0.4053,  0.0951,  0.3325,  0.2395, -0.0259, -0.1099,  0.1435,\n",
       "        -0.0802, -0.0104,  0.0997,  0.1217,  0.0026,  0.0711,  0.1473, -0.1557,\n",
       "        -0.2889, -0.1205, -0.0079, -0.1112,  0.0762, -0.2630,  0.0344, -0.0007,\n",
       "         0.1443,  0.1069, -0.1094,  0.0017, -0.1218,  0.0845, -0.1129, -0.0325],\n",
       "       grad_fn=<EmbeddingBackward0>)"
      ]
     },
     "execution_count": 8,
     "metadata": {},
     "output_type": "execute_result"
    }
   ],
   "source": [
    "embs.get_emb(1)"
   ]
  },
  {
   "cell_type": "markdown",
   "id": "9c87ed8f-89d3-44d8-8533-1f793559e2b7",
   "metadata": {},
   "source": [
    "# Load data"
   ]
  },
  {
   "cell_type": "code",
   "execution_count": 9,
   "id": "a3868d96-9685-4a22-9d65-4efb83d9d846",
   "metadata": {},
   "outputs": [],
   "source": [
    "train_df = pd.read_parquet(\"../data/train_features_neg_df.parquet\")"
   ]
  },
  {
   "cell_type": "code",
   "execution_count": 10,
   "id": "9853c276-6300-4743-a01f-059ed2c04f03",
   "metadata": {},
   "outputs": [],
   "source": [
    "items = train_df[\"parent_asin\"].unique()\n",
    "embeddings = embs.get_emb(items)"
   ]
  },
  {
   "cell_type": "code",
   "execution_count": 11,
   "id": "9f752c1e-353f-42b6-a32c-a49fe1d58fb5",
   "metadata": {},
   "outputs": [],
   "source": [
    "assert len(embeddings) == len(items)\n",
    "assert embeddings.shape[1] == embs.embedding_dim"
   ]
  },
  {
   "cell_type": "markdown",
   "id": "ac821550-6689-45d4-9e5d-78ed2ebf3d0d",
   "metadata": {},
   "source": [
    "# Persist"
   ]
  },
  {
   "cell_type": "code",
   "execution_count": 12,
   "id": "1160b67e-c28d-4427-993c-236966b9fbde",
   "metadata": {},
   "outputs": [],
   "source": [
    "persist_fp = \"model/item2vec_embeddings.pth\"\n",
    "Path(persist_fp).parents[0].mkdir(exist_ok=True)\n",
    "embs.save(persist_fp)"
   ]
  },
  {
   "cell_type": "code",
   "execution_count": 13,
   "id": "5a91a9ea-7569-4597-8a6e-b972cdf4cb84",
   "metadata": {},
   "outputs": [
    {
     "name": "stderr",
     "output_type": "stream",
     "text": [
      "/Users/dvq/frostmourne/reco-algo/notebooks/../src/embedding_store.py:67: FutureWarning: You are using `torch.load` with `weights_only=False` (the current default value), which uses the default pickle module implicitly. It is possible to construct malicious pickle data which will execute arbitrary code during unpickling (See https://github.com/pytorch/pytorch/blob/main/SECURITY.md#untrusted-models for more details). In a future release, the default value for `weights_only` will be flipped to `True`. This limits the functions that could be executed during unpickling. Arbitrary objects will no longer be allowed to be loaded via this mode unless they are explicitly allowlisted by the user via `torch.serialization.add_safe_globals`. We recommend you start setting `weights_only=True` for any use case where you don't have full control of the loaded file. Please open an issue on GitHub for any issues related to this experimental feature.\n",
      "  checkpoint = torch.load(file_path)\n"
     ]
    }
   ],
   "source": [
    "loaded_embs = TorchEmbeddingStore.load(persist_fp)"
   ]
  },
  {
   "cell_type": "code",
   "execution_count": 14,
   "id": "22c0e610-8895-4f7a-a9c3-503bbf7236db",
   "metadata": {},
   "outputs": [],
   "source": [
    "assert embs.embedding_dim == loaded_embs.embedding_dim\n",
    "assert all(embs.get_emb(0) == loaded_embs.get_emb(0))"
   ]
  },
  {
   "cell_type": "code",
   "execution_count": null,
   "id": "bcd2bf49-2156-489a-8abf-dec039b63f69",
   "metadata": {},
   "outputs": [],
   "source": []
  }
 ],
 "metadata": {
  "kernelspec": {
   "display_name": "Python 3 (ipykernel)",
   "language": "python",
   "name": "python3"
  },
  "language_info": {
   "codemirror_mode": {
    "name": "ipython",
    "version": 3
   },
   "file_extension": ".py",
   "mimetype": "text/x-python",
   "name": "python",
   "nbconvert_exporter": "python",
   "pygments_lexer": "ipython3",
   "version": "3.11.9"
  }
 },
 "nbformat": 4,
 "nbformat_minor": 5
}
