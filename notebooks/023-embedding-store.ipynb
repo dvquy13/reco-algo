{
 "cells": [
  {
   "cell_type": "markdown",
   "id": "9b7fc57b-f914-4d4a-958a-507d156490f2",
   "metadata": {},
   "source": [
    "# Embedding Store - abstraction for downstream use case"
   ]
  },
  {
   "cell_type": "markdown",
   "id": "49b88582-eb83-479b-a6e1-e8892d06db91",
   "metadata": {},
   "source": [
    "# Set up"
   ]
  },
  {
   "cell_type": "code",
   "execution_count": 1,
   "id": "af4984cf-4117-4385-ae86-2a346d20dd6c",
   "metadata": {},
   "outputs": [],
   "source": [
    "import sys\n",
    "from pathlib import Path\n",
    "\n",
    "import pandas as pd\n",
    "import torch\n",
    "\n",
    "sys.path.insert(0, \"..\")  # Need this for the torch load to work\n",
    "from src.id_mapper import IDMapper"
   ]
  },
  {
   "cell_type": "markdown",
   "id": "23c4e48a-ac84-4693-9f8a-dfba76d70e57",
   "metadata": {},
   "source": [
    "# Load model"
   ]
  },
  {
   "cell_type": "code",
   "execution_count": 2,
   "id": "a18c638c-9b7b-4e66-8d9f-7e549b725afa",
   "metadata": {},
   "outputs": [],
   "source": [
    "run_name = \"003-increase-batch-size\"\n",
    "model_path = f\"data/{run_name}/skipgram_model_full.pth\"\n",
    "id_mapping_path = \"../data/idm.json\""
   ]
  },
  {
   "cell_type": "code",
   "execution_count": 3,
   "id": "baa6f9eb-e223-4dfd-9ae0-a7462b057d14",
   "metadata": {},
   "outputs": [
    {
     "name": "stderr",
     "output_type": "stream",
     "text": [
      "/var/folders/mq/xtxzhvlj4m97tb8lgwxcnsb40000gn/T/ipykernel_81732/716067380.py:1: FutureWarning: You are using `torch.load` with `weights_only=False` (the current default value), which uses the default pickle module implicitly. It is possible to construct malicious pickle data which will execute arbitrary code during unpickling (See https://github.com/pytorch/pytorch/blob/main/SECURITY.md#untrusted-models for more details). In a future release, the default value for `weights_only` will be flipped to `True`. This limits the functions that could be executed during unpickling. Arbitrary objects will no longer be allowed to be loaded via this mode unless they are explicitly allowlisted by the user via `torch.serialization.add_safe_globals`. We recommend you start setting `weights_only=True` for any use case where you don't have full control of the loaded file. Please open an issue on GitHub for any issues related to this experimental feature.\n",
      "  model = torch.load(model_path)\n"
     ]
    }
   ],
   "source": [
    "model = torch.load(model_path)\n",
    "model = model.to(\"cpu\")\n",
    "\n",
    "idm = IDMapper().load(id_mapping_path)\n",
    "id_mapper = {\n",
    "    \"id_to_idx\": idm.item_to_index,\n",
    "    \"idx_to_id\": {i: v for i, v in enumerate(idm.index_to_item)},\n",
    "}"
   ]
  },
  {
   "cell_type": "code",
   "execution_count": 4,
   "id": "8c2aff54-a65a-454b-940f-d623f8cb538d",
   "metadata": {
    "scrolled": true
   },
   "outputs": [
    {
     "data": {
      "text/plain": [
       "tensor([[-2.4360e-03,  4.3166e-02, -9.3488e-02,  1.9916e-02,  2.7102e-02,\n",
       "          1.5594e-02, -1.1986e-02,  1.9114e-01,  1.2731e-02,  2.3147e-02,\n",
       "          3.0469e-01, -3.9866e-02,  6.9936e-02, -2.3489e-01, -1.7257e-01,\n",
       "          8.1035e-02,  3.6162e-03,  8.7359e-02,  3.4401e-02,  9.4056e-02,\n",
       "         -1.1891e-01, -1.4028e-01,  6.4878e-02,  3.7294e-01, -9.1436e-02,\n",
       "          9.2053e-03, -6.7754e-02, -4.1515e-02,  2.7679e-03,  5.4015e-02,\n",
       "         -4.4041e-02, -2.9830e-02, -2.1544e-03, -8.5978e-02, -1.5885e-01,\n",
       "         -3.3294e-01, -2.0594e-01, -1.8462e-02, -1.4763e-01,  3.9161e-01,\n",
       "          1.1713e-01,  2.1464e-01,  5.8163e-02,  7.4750e-02,  4.0880e-02,\n",
       "         -7.0310e-03, -2.6233e-01,  6.7790e-02,  3.6532e-02,  1.2249e-02,\n",
       "          5.2275e-02,  1.1784e-01,  2.6386e-02,  2.9819e-01, -2.0051e-01,\n",
       "         -7.4982e-02, -1.5800e-02,  2.9282e-02, -1.5568e-02, -2.0330e-01,\n",
       "          1.0215e-01,  7.3099e-02, -9.7547e-02, -6.3989e-02,  5.7653e-02,\n",
       "          5.5505e-02,  4.3651e-03, -1.5165e-01, -6.1327e-02, -1.4485e-02,\n",
       "         -1.5128e-02, -7.6529e-02, -1.2222e-01,  7.0412e-02, -6.3497e-02,\n",
       "         -7.0917e-03,  1.6302e-01,  2.2534e-01, -7.7556e-02,  2.4305e-01,\n",
       "         -8.6627e-02, -1.1120e-02,  8.6478e-02, -2.7782e-02, -6.6802e-02,\n",
       "          1.3357e-01,  2.9008e-01, -1.3721e-01,  4.3019e-02,  2.8120e-02,\n",
       "          1.1556e-01, -2.9945e-02,  2.1801e-01, -1.6820e-02, -2.9760e-01,\n",
       "          3.7779e-02, -2.6325e-02, -2.3043e-01, -6.4657e-02,  4.7849e-02,\n",
       "         -1.9354e-01, -6.6432e-01, -8.6607e-02,  1.0383e-01,  8.2312e-02,\n",
       "         -1.5335e-01, -3.8298e-02,  1.2324e-01,  5.0198e-02, -4.2132e-02,\n",
       "         -1.7090e-01, -1.6181e-02,  4.1596e-02,  4.8565e-02,  2.5237e-01,\n",
       "          4.7581e-02,  9.0039e-02,  1.5834e-02, -7.0629e-02, -2.3439e-01,\n",
       "          1.0377e-01,  7.9566e-02,  1.0597e-01, -3.6915e-02,  2.5550e-02,\n",
       "          6.0842e-02, -1.3158e-01,  1.4122e-01],\n",
       "        [-5.0827e-02, -4.3257e-02, -1.3634e-01, -4.7084e-02,  2.7431e-02,\n",
       "         -1.9088e-01,  7.2866e-02,  7.4742e-02,  1.0061e-01,  4.2617e-02,\n",
       "          8.1245e-02,  3.8136e-02, -8.5149e-02,  7.6156e-02,  7.3852e-02,\n",
       "          7.6285e-02, -4.7992e-02, -1.5239e-02,  2.0813e-02, -6.9928e-02,\n",
       "          3.4543e-02,  1.2531e-01,  4.1736e-02, -1.9046e-01, -1.9460e-01,\n",
       "         -1.9940e-01, -3.1564e-02,  1.6667e-01,  2.4203e-03,  6.6853e-02,\n",
       "          1.0842e-01,  1.1053e-01,  4.1375e-02,  1.4768e-02, -2.4694e-02,\n",
       "          1.9411e-02, -1.5849e-02, -5.7781e-02, -1.0532e-02,  4.0703e-01,\n",
       "          4.3078e-02, -4.2241e-03,  1.8684e-02,  4.3657e-02, -1.6533e-01,\n",
       "         -1.9434e-02, -2.6410e-01, -6.1714e-02, -2.3962e-02,  1.7517e-01,\n",
       "          1.3538e-01,  2.3755e-01, -5.9576e-02,  5.7889e-02,  9.7415e-02,\n",
       "         -1.0138e-02,  1.6045e-01,  7.9874e-03, -1.6096e-02,  3.8216e-01,\n",
       "         -9.3440e-02,  5.0596e-02, -4.4729e-02, -9.8791e-02,  1.4541e-02,\n",
       "          1.9305e-01,  4.7961e-02,  1.2500e-01,  5.8582e-02,  3.5930e-02,\n",
       "         -5.6705e-04, -3.4112e-01, -5.8773e-02,  9.3033e-02, -3.7226e-01,\n",
       "          8.5038e-02, -1.1794e-01,  1.0009e-01, -4.5222e-02, -4.6075e-02,\n",
       "         -2.2982e-02,  6.0700e-02,  9.5796e-02,  1.3001e-01,  2.0388e-01,\n",
       "          1.7605e-02,  2.6115e-02,  1.2501e-01,  9.4403e-02, -6.7758e-02,\n",
       "          6.4710e-02,  1.2747e-01, -4.8588e-02, -3.3872e-02, -1.3632e-01,\n",
       "         -6.5701e-02,  2.4625e-02, -1.6901e-02,  6.0393e-02, -1.4566e-02,\n",
       "          1.8722e-01, -9.7696e-02,  7.0919e-02, -1.1931e-01, -8.2785e-02,\n",
       "         -1.7613e-01, -6.9816e-02, -8.3399e-02, -2.3944e-02,  4.0529e-02,\n",
       "          7.9209e-02,  1.1138e-01, -1.0975e-01,  9.4630e-02,  2.7190e-02,\n",
       "          6.1679e-02, -6.8144e-02, -3.3198e-02,  2.9830e-02,  1.7272e-01,\n",
       "         -1.4388e-01, -1.0802e-01,  6.4355e-02,  3.2676e-02,  3.5323e-03,\n",
       "          1.1317e-01, -2.1358e-01, -5.9148e-02],\n",
       "        [ 3.7943e-02, -6.0479e-02, -2.1857e-01, -9.2216e-02, -4.2931e-02,\n",
       "         -2.6690e-01,  1.3338e-01, -8.3495e-02, -2.5905e-01,  6.9554e-02,\n",
       "          1.7152e-01, -5.7382e-02,  1.7936e-01, -9.3824e-02, -4.2503e-02,\n",
       "          7.8759e-02,  1.3151e-01,  1.9390e-01,  1.1708e-01, -9.8414e-02,\n",
       "         -2.0504e-01, -1.2432e-01, -1.0503e-01,  7.1110e-02, -7.2178e-02,\n",
       "          1.4790e-01,  2.1978e-01,  4.4829e-02,  4.0357e-01, -1.0204e-02,\n",
       "         -2.5657e-02,  1.8626e-02, -1.3094e-01, -1.3404e-01, -1.3810e-01,\n",
       "         -4.5789e-01,  9.6261e-02,  1.3027e-01,  3.5307e-03,  4.2037e-01,\n",
       "          2.2915e-01,  2.5908e-01, -1.1139e-01,  1.5542e-01,  4.8875e-01,\n",
       "         -3.2123e-02, -3.0182e-01, -1.1169e-01, -5.7313e-02, -2.7338e-01,\n",
       "          1.1882e-03, -4.3665e-02,  3.1199e-02,  1.6174e-01, -1.1789e-01,\n",
       "         -1.3621e-01,  2.3363e-02,  2.5490e-01,  2.7487e-03, -3.1706e-01,\n",
       "         -9.8418e-02,  1.2203e-01,  4.8032e-02,  4.3875e-02,  8.8205e-02,\n",
       "          4.5830e-02, -4.8232e-02,  8.9697e-02, -7.6336e-02,  1.6840e-02,\n",
       "          1.0335e-01, -1.2464e-01,  6.0831e-02,  1.9976e-01, -3.4319e-01,\n",
       "          2.9614e-02, -1.5877e-01,  1.6893e-01,  9.7337e-02,  1.4467e-01,\n",
       "         -1.3177e-01, -1.7814e-02,  1.3628e-01,  1.7953e-01,  9.6269e-02,\n",
       "         -1.2212e-01,  3.4207e-01, -2.5526e-02,  1.3488e-01, -1.4060e-01,\n",
       "          3.1709e-01, -2.7013e-01,  1.5605e-01,  8.3106e-02, -7.7878e-03,\n",
       "          1.1074e-01,  5.1717e-02,  5.7103e-03,  1.8803e-01,  9.3256e-03,\n",
       "          7.6814e-02, -8.0225e-01, -3.9933e-02,  2.0388e-01, -3.5447e-02,\n",
       "         -1.4494e-01, -1.2537e-01,  3.5938e-02,  3.1391e-02,  1.9972e-03,\n",
       "          1.3881e-01,  5.6173e-02, -1.4043e-01, -2.2282e-01,  2.2956e-01,\n",
       "          1.9602e-02, -3.7271e-03, -1.7778e-01, -5.1182e-02, -3.9625e-01,\n",
       "          5.8716e-02,  1.3649e-01,  2.6233e-01, -3.6052e-02, -7.4156e-02,\n",
       "         -7.8535e-03,  1.5899e-02,  9.0981e-02]], grad_fn=<EmbeddingBackward0>)"
      ]
     },
     "execution_count": 4,
     "metadata": {},
     "output_type": "execute_result"
    }
   ],
   "source": [
    "model.embeddings(torch.tensor([1, 2, 3]))"
   ]
  },
  {
   "cell_type": "markdown",
   "id": "3ddd610b-11e2-4022-ab21-ca938bad08ad",
   "metadata": {},
   "source": [
    "# Init Embedding Store"
   ]
  },
  {
   "cell_type": "code",
   "execution_count": 5,
   "id": "225861bc-8d28-4eca-8345-e098b1e53148",
   "metadata": {},
   "outputs": [],
   "source": [
    "from src.embedding_store import TorchEmbeddingStore"
   ]
  },
  {
   "cell_type": "code",
   "execution_count": 6,
   "id": "331a6388-f5bd-4721-9c96-0e8edc51af42",
   "metadata": {},
   "outputs": [],
   "source": [
    "embs = TorchEmbeddingStore(id_mapper, model.embeddings)"
   ]
  },
  {
   "cell_type": "code",
   "execution_count": 7,
   "id": "6fa62a99-e0b8-4619-bc16-6b081f8d2424",
   "metadata": {},
   "outputs": [
    {
     "data": {
      "text/plain": [
       "torch.nn.modules.sparse.Embedding"
      ]
     },
     "execution_count": 7,
     "metadata": {},
     "output_type": "execute_result"
    }
   ],
   "source": [
    "type(model.embeddings)"
   ]
  },
  {
   "cell_type": "code",
   "execution_count": 8,
   "id": "2671c48f-ccf6-4ab2-a75d-efe77772a2e9",
   "metadata": {},
   "outputs": [
    {
     "data": {
      "text/plain": [
       "tensor([-0.0024,  0.0432, -0.0935,  0.0199,  0.0271,  0.0156, -0.0120,  0.1911,\n",
       "         0.0127,  0.0231,  0.3047, -0.0399,  0.0699, -0.2349, -0.1726,  0.0810,\n",
       "         0.0036,  0.0874,  0.0344,  0.0941, -0.1189, -0.1403,  0.0649,  0.3729,\n",
       "        -0.0914,  0.0092, -0.0678, -0.0415,  0.0028,  0.0540, -0.0440, -0.0298,\n",
       "        -0.0022, -0.0860, -0.1589, -0.3329, -0.2059, -0.0185, -0.1476,  0.3916,\n",
       "         0.1171,  0.2146,  0.0582,  0.0747,  0.0409, -0.0070, -0.2623,  0.0678,\n",
       "         0.0365,  0.0122,  0.0523,  0.1178,  0.0264,  0.2982, -0.2005, -0.0750,\n",
       "        -0.0158,  0.0293, -0.0156, -0.2033,  0.1022,  0.0731, -0.0975, -0.0640,\n",
       "         0.0577,  0.0555,  0.0044, -0.1516, -0.0613, -0.0145, -0.0151, -0.0765,\n",
       "        -0.1222,  0.0704, -0.0635, -0.0071,  0.1630,  0.2253, -0.0776,  0.2430,\n",
       "        -0.0866, -0.0111,  0.0865, -0.0278, -0.0668,  0.1336,  0.2901, -0.1372,\n",
       "         0.0430,  0.0281,  0.1156, -0.0299,  0.2180, -0.0168, -0.2976,  0.0378,\n",
       "        -0.0263, -0.2304, -0.0647,  0.0478, -0.1935, -0.6643, -0.0866,  0.1038,\n",
       "         0.0823, -0.1534, -0.0383,  0.1232,  0.0502, -0.0421, -0.1709, -0.0162,\n",
       "         0.0416,  0.0486,  0.2524,  0.0476,  0.0900,  0.0158, -0.0706, -0.2344,\n",
       "         0.1038,  0.0796,  0.1060, -0.0369,  0.0256,  0.0608, -0.1316,  0.1412],\n",
       "       grad_fn=<EmbeddingBackward0>)"
      ]
     },
     "execution_count": 8,
     "metadata": {},
     "output_type": "execute_result"
    }
   ],
   "source": [
    "embs.get_emb(1)"
   ]
  },
  {
   "cell_type": "markdown",
   "id": "9c87ed8f-89d3-44d8-8533-1f793559e2b7",
   "metadata": {},
   "source": [
    "# Load data"
   ]
  },
  {
   "cell_type": "code",
   "execution_count": 9,
   "id": "a3868d96-9685-4a22-9d65-4efb83d9d846",
   "metadata": {},
   "outputs": [],
   "source": [
    "train_df = pd.read_parquet(\"../data/train_features_neg_df.parquet\")"
   ]
  },
  {
   "cell_type": "code",
   "execution_count": 10,
   "id": "9853c276-6300-4743-a01f-059ed2c04f03",
   "metadata": {},
   "outputs": [],
   "source": [
    "items = train_df[\"parent_asin\"].unique()\n",
    "embeddings = embs.get_emb(items)"
   ]
  },
  {
   "cell_type": "code",
   "execution_count": 11,
   "id": "9f752c1e-353f-42b6-a32c-a49fe1d58fb5",
   "metadata": {},
   "outputs": [],
   "source": [
    "assert len(embeddings) == len(items)\n",
    "assert embeddings.shape[1] == embs.embedding_dim"
   ]
  },
  {
   "cell_type": "markdown",
   "id": "ac821550-6689-45d4-9e5d-78ed2ebf3d0d",
   "metadata": {},
   "source": [
    "# Persist"
   ]
  },
  {
   "cell_type": "code",
   "execution_count": 12,
   "id": "1160b67e-c28d-4427-993c-236966b9fbde",
   "metadata": {},
   "outputs": [],
   "source": [
    "persist_fp = \"model/item2vec_embeddings.pth\"\n",
    "Path(persist_fp).parents[0].mkdir(exist_ok=True)\n",
    "embs.save(persist_fp)"
   ]
  },
  {
   "cell_type": "code",
   "execution_count": 13,
   "id": "5a91a9ea-7569-4597-8a6e-b972cdf4cb84",
   "metadata": {},
   "outputs": [
    {
     "name": "stderr",
     "output_type": "stream",
     "text": [
      "/Users/dvq/frostmourne/reco-algo/notebooks/../src/embedding_store.py:67: FutureWarning: You are using `torch.load` with `weights_only=False` (the current default value), which uses the default pickle module implicitly. It is possible to construct malicious pickle data which will execute arbitrary code during unpickling (See https://github.com/pytorch/pytorch/blob/main/SECURITY.md#untrusted-models for more details). In a future release, the default value for `weights_only` will be flipped to `True`. This limits the functions that could be executed during unpickling. Arbitrary objects will no longer be allowed to be loaded via this mode unless they are explicitly allowlisted by the user via `torch.serialization.add_safe_globals`. We recommend you start setting `weights_only=True` for any use case where you don't have full control of the loaded file. Please open an issue on GitHub for any issues related to this experimental feature.\n",
      "  checkpoint = torch.load(file_path)\n"
     ]
    }
   ],
   "source": [
    "loaded_embs = TorchEmbeddingStore.load(persist_fp)"
   ]
  },
  {
   "cell_type": "code",
   "execution_count": 14,
   "id": "22c0e610-8895-4f7a-a9c3-503bbf7236db",
   "metadata": {},
   "outputs": [],
   "source": [
    "assert embs.embedding_dim == loaded_embs.embedding_dim\n",
    "assert all(embs.get_emb(0) == loaded_embs.get_emb(0))"
   ]
  },
  {
   "cell_type": "code",
   "execution_count": null,
   "id": "bcd2bf49-2156-489a-8abf-dec039b63f69",
   "metadata": {},
   "outputs": [],
   "source": []
  }
 ],
 "metadata": {
  "kernelspec": {
   "display_name": "Python 3 (ipykernel)",
   "language": "python",
   "name": "python3"
  },
  "language_info": {
   "codemirror_mode": {
    "name": "ipython",
    "version": 3
   },
   "file_extension": ".py",
   "mimetype": "text/x-python",
   "name": "python",
   "nbconvert_exporter": "python",
   "pygments_lexer": "ipython3",
   "version": "3.11.9"
  }
 },
 "nbformat": 4,
 "nbformat_minor": 5
}
