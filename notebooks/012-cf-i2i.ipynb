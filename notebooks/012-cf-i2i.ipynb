{
 "cells": [
  {
   "cell_type": "code",
   "execution_count": 1,
   "id": "3c8f6e8d-f776-4d39-898c-d783c5ae3407",
   "metadata": {},
   "outputs": [],
   "source": [
    "%load_ext autoreload\n",
    "%autoreload 2"
   ]
  },
  {
   "cell_type": "code",
   "execution_count": 2,
   "id": "35b3499d-dc9c-405a-8714-a26341b581e1",
   "metadata": {},
   "outputs": [],
   "source": [
    "import sys\n",
    "import os\n",
    "from loguru import logger\n",
    "\n",
    "import pandas as pd\n",
    "import numpy as np\n",
    "from pydantic import BaseModel\n",
    "import plotly.express as px\n",
    "from dotenv import load_dotenv\n",
    "import mlflow\n",
    "\n",
    "load_dotenv()\n",
    "\n",
    "sys.path.insert(0, '..')\n",
    "\n",
    "from src.viz import blueq_colors"
   ]
  },
  {
   "cell_type": "markdown",
   "id": "2cca24d0-494c-4661-9dbc-fb5e64d61634",
   "metadata": {},
   "source": [
    "# Controller"
   ]
  },
  {
   "cell_type": "code",
   "execution_count": 3,
   "id": "a652bee4-3ea1-4084-a34b-b8ed76a86c88",
   "metadata": {},
   "outputs": [
    {
     "name": "stderr",
     "output_type": "stream",
     "text": [
      "\u001b[32m2024-09-15 12:12:20.182\u001b[0m | \u001b[1mINFO    \u001b[0m | \u001b[36m__main__\u001b[0m:\u001b[36minit\u001b[0m:\u001b[36m31\u001b[0m - \u001b[1mSetting up MLflow experiment FSDS RecSys - L5 - Reco Algo - run 012-cf-i2i...\u001b[0m\n"
     ]
    },
    {
     "name": "stdout",
     "output_type": "stream",
     "text": [
      "{\n",
      "  \"testing\": false,\n",
      "  \"log_to_mlflow\": true,\n",
      "  \"experiment_name\": \"FSDS RecSys - L5 - Reco Algo\",\n",
      "  \"run_name\": \"012-cf-i2i\",\n",
      "  \"notebook_persist_dp\": \"/home/dvquys/frostmourne/reco-algo/notebooks/data/012-cf-i2i\",\n",
      "  \"random_seed\": 41,\n",
      "  \"user_col\": \"user_id\",\n",
      "  \"item_col\": \"parent_asin\",\n",
      "  \"rating_col\": \"rating\",\n",
      "  \"top_K\": 100,\n",
      "  \"top_k\": 10,\n",
      "  \"batch_size\": 128,\n",
      "  \"learning_task\": \"rating\"\n",
      "}\n"
     ]
    }
   ],
   "source": [
    "class Args(BaseModel):\n",
    "    testing: bool = False\n",
    "    log_to_mlflow: bool = True\n",
    "    experiment_name: str = \"FSDS RecSys - L5 - Reco Algo\"\n",
    "    run_name: str = '012-cf-i2i'\n",
    "    notebook_persist_dp: str = None\n",
    "    random_seed: int = 41\n",
    "\n",
    "    user_col: str = 'user_id'\n",
    "    item_col: str = 'parent_asin'\n",
    "    rating_col: str = 'rating'\n",
    "    \n",
    "    top_K: int = 100\n",
    "    top_k: int = 10\n",
    "\n",
    "    batch_size: int = 128\n",
    "    \n",
    "    def init(self):\n",
    "        self.notebook_persist_dp = os.path.abspath(f\"data/{self.run_name}\")\n",
    "        \n",
    "        if not os.environ.get(\"MLFLOW_TRACKING_URI\"):\n",
    "            logger.warning(\n",
    "                f\"Environment variable MLFLOW_TRACKING_URI is not set. Setting self.log_to_mlflow to false.\"\n",
    "            )\n",
    "            self.log_to_mlflow = False\n",
    "\n",
    "        if self.log_to_mlflow:\n",
    "            logger.info(\n",
    "                f\"Setting up MLflow experiment {self.experiment_name} - run {self.run_name}...\"\n",
    "            )\n",
    "            import mlflow\n",
    "\n",
    "            mlflow.set_experiment(self.experiment_name)\n",
    "            mlflow.start_run(run_name=self.run_name)\n",
    "\n",
    "        return self\n",
    "    \n",
    "args = Args().init()\n",
    "\n",
    "print(args.model_dump_json(indent=2))"
   ]
  },
  {
   "cell_type": "markdown",
   "id": "a5acedcb-89e6-41c6-8969-bf3437fc7898",
   "metadata": {},
   "source": [
    "# Implement"
   ]
  },
  {
   "cell_type": "code",
   "execution_count": 4,
   "id": "d6053118-029e-4d7c-9c02-6f988508e643",
   "metadata": {},
   "outputs": [],
   "source": [
    "from src.train_utils import train, MetricLogCallback\n",
    "from src.model import Item2ItemCollaborativeFiltering"
   ]
  },
  {
   "cell_type": "markdown",
   "id": "377a71da-1ee3-474c-b3f4-4488d2a45dd3",
   "metadata": {},
   "source": [
    "# Test implementation"
   ]
  },
  {
   "cell_type": "code",
   "execution_count": 5,
   "id": "ce5326d7-ec9d-422c-bbd8-03c837a23e1e",
   "metadata": {},
   "outputs": [
    {
     "name": "stdout",
     "output_type": "stream",
     "text": [
      "Mock User IDs: [0, 0, 1, 1, 2, 2, 2]\n",
      "Mock Item IDs: [0, 1, 1, 2, 3, 1, 2]\n",
      "Ratings: [1, 4, 4, 5, 3, 2, 4]\n",
      "[3 3 3]\n"
     ]
    }
   ],
   "source": [
    "# Mock data\n",
    "user_ids = [0, 0, 1, 1, 2, 2, 2]\n",
    "item_ids = [0, 1, 1, 2, 3, 1, 2]\n",
    "ratings = [1, 4, 4, 5, 3, 2, 4]\n",
    "n_users = len(set(user_ids))\n",
    "n_items = len(set(item_ids))\n",
    "\n",
    "val_user_ids = [0, 1, 2]\n",
    "val_item_ids = [2, 1, 2]\n",
    "val_ratings = [2, 4, 5]\n",
    "\n",
    "print(\"Mock User IDs:\", user_ids)\n",
    "print(\"Mock Item IDs:\", item_ids)\n",
    "print(\"Ratings:\", ratings)\n",
    "\n",
    "model = Item2ItemCollaborativeFiltering(n_users, n_items)\n",
    "\n",
    "users = [1, 1, 2]\n",
    "items = [3, 2, 0]\n",
    "predictions = model.predict(users, items)\n",
    "print(predictions)"
   ]
  },
  {
   "cell_type": "code",
   "execution_count": 6,
   "id": "28f926b4-1bb9-4552-825a-58b0a4389725",
   "metadata": {},
   "outputs": [
    {
     "name": "stdout",
     "output_type": "stream",
     "text": [
      "[4.6520632 4.        2.       ]\n"
     ]
    }
   ],
   "source": [
    "model.fit(user_ids, item_ids, ratings)\n",
    "predictions = model.predict(users, items)\n",
    "print(predictions)"
   ]
  },
  {
   "cell_type": "code",
   "execution_count": 7,
   "id": "15903bdd-0846-4588-9a8f-584d8f523ce0",
   "metadata": {},
   "outputs": [
    {
     "data": {
      "text/plain": [
       "array([[1., 0., 0.],\n",
       "       [4., 4., 2.],\n",
       "       [0., 5., 4.],\n",
       "       [0., 0., 3.]])"
      ]
     },
     "execution_count": 7,
     "metadata": {},
     "output_type": "execute_result"
    }
   ],
   "source": [
    "model.user_item_matrix.T"
   ]
  },
  {
   "cell_type": "code",
   "execution_count": 8,
   "id": "496f9749-183a-478d-a624-16ed59c9818f",
   "metadata": {},
   "outputs": [
    {
     "data": {
      "text/plain": [
       "array([[0.        , 0.66666667, 0.        , 0.        ],\n",
       "       [0.66666667, 0.        , 0.72881089, 0.33333333],\n",
       "       [0.        , 0.72881089, 0.        , 0.62469505],\n",
       "       [0.        , 0.33333333, 0.62469505, 0.        ]])"
      ]
     },
     "execution_count": 8,
     "metadata": {},
     "output_type": "execute_result"
    }
   ],
   "source": [
    "model.item_similarity"
   ]
  },
  {
   "cell_type": "code",
   "execution_count": 9,
   "id": "8d434a72-4f4e-49ea-98ea-31e6a539e4e0",
   "metadata": {},
   "outputs": [
    {
     "name": "stdout",
     "output_type": "stream",
     "text": [
      "sim_scores=array([0.        , 0.33333333, 0.62469505, 0.        ])\n"
     ]
    }
   ],
   "source": [
    "item = 3\n",
    "user = 1\n",
    "\n",
    "# Compute prediction using weighted average of ratings from similar items\n",
    "sim_scores = model.item_similarity[item]\n",
    "print(f\"{sim_scores=}\")"
   ]
  },
  {
   "cell_type": "code",
   "execution_count": 10,
   "id": "4a44f130-422c-47d6-8e62-1913e3afdc9f",
   "metadata": {},
   "outputs": [
    {
     "name": "stdout",
     "output_type": "stream",
     "text": [
      "Ratings of current user for all items:\n",
      "item_ratings=array([0., 4., 5., 0.])\n",
      "Cosine similarity score of target item towards all other items where current user has rated:\n",
      "[0.33333333 0.62469505]\n"
     ]
    }
   ],
   "source": [
    "# Only consider items that have been rated by the current user\n",
    "item_ratings = model.user_item_matrix[user, :]\n",
    "print(f\"Ratings of current user for all items:\\n{item_ratings=}\")\n",
    "sim_scores = sim_scores[item_ratings != 0]\n",
    "print(f\"Cosine similarity score of target item towards all other items where current user has rated:\\n{sim_scores}\")\n",
    "item_ratings = item_ratings[item_ratings != 0]"
   ]
  },
  {
   "cell_type": "code",
   "execution_count": 11,
   "id": "5c4af833-c0e2-4ac9-8f54-84dca24799e8",
   "metadata": {},
   "outputs": [
    {
     "name": "stdout",
     "output_type": "stream",
     "text": [
      "Weighted average: 4.456808571105455\n",
      "Normalization factor: 0.9580283808877577\n",
      "Predicted rating: 4.652063195638892\n"
     ]
    }
   ],
   "source": [
    "# Weighted average of ratings\n",
    "print(f\"Weighted average: {np.dot(sim_scores, item_ratings)}\")\n",
    "print(f\"Normalization factor: {np.sum(sim_scores)}\")\n",
    "print(f\"Predicted rating: {np.dot(sim_scores, item_ratings) / np.sum(sim_scores)}\")"
   ]
  },
  {
   "cell_type": "markdown",
   "id": "170dec89-a874-4dce-8f94-07d978fcc5b8",
   "metadata": {},
   "source": [
    "# Prep data"
   ]
  },
  {
   "cell_type": "code",
   "execution_count": 12,
   "id": "83803362-5eaa-40bb-b28b-878316d5db5d",
   "metadata": {},
   "outputs": [],
   "source": [
    "train_df = pd.read_parquet(\"../data/train.parquet\")\n",
    "val_df = pd.read_parquet(\"../data/val.parquet\")"
   ]
  },
  {
   "cell_type": "code",
   "execution_count": 13,
   "id": "b0d4bfbb-f3bb-40bc-ae22-23e8d8f9d092",
   "metadata": {},
   "outputs": [],
   "source": [
    "from src.id_mapper import IDMapper"
   ]
  },
  {
   "cell_type": "code",
   "execution_count": 14,
   "id": "17d6c998-5fc4-43f7-8e19-0f469bb0374b",
   "metadata": {},
   "outputs": [
    {
     "name": "stderr",
     "output_type": "stream",
     "text": [
      "\u001b[32m2024-09-15 12:12:21.742\u001b[0m | \u001b[1mINFO    \u001b[0m | \u001b[36m__main__\u001b[0m:\u001b[36m<module>\u001b[0m:\u001b[36m8\u001b[0m - \u001b[1mlen(unique_user_ids)=12,397, len(unique_item_ids)=5,429\u001b[0m\n"
     ]
    }
   ],
   "source": [
    "user_ids = train_df['user_id'].values\n",
    "item_ids = train_df['parent_asin'].values\n",
    "unique_user_ids = list(set(user_ids))\n",
    "unique_item_ids = list(set(item_ids))\n",
    "n_users = len(unique_user_ids)\n",
    "n_items = len(unique_item_ids)\n",
    "\n",
    "logger.info(f\"{len(unique_user_ids)=:,.0f}, {len(unique_item_ids)=:,.0f}\")"
   ]
  },
  {
   "cell_type": "code",
   "execution_count": 15,
   "id": "d652b08a-bdeb-485a-9700-39651c225241",
   "metadata": {},
   "outputs": [],
   "source": [
    "idm = IDMapper()\n",
    "idm.fit(unique_user_ids, unique_item_ids)"
   ]
  },
  {
   "cell_type": "code",
   "execution_count": 16,
   "id": "a8861682-ac7c-410d-b263-17056ceb2466",
   "metadata": {},
   "outputs": [],
   "source": [
    "user_indices = [idm.get_user_index(user_id) for user_id in user_ids]\n",
    "item_indices = [idm.get_item_index(item_id) for item_id in item_ids]\n",
    "ratings = train_df['rating'].values.tolist()"
   ]
  },
  {
   "cell_type": "code",
   "execution_count": 17,
   "id": "e73143ed-5992-4f7d-83d1-d2dc4978af5f",
   "metadata": {},
   "outputs": [],
   "source": [
    "val_user_indices = [idm.get_user_index(user_id) for user_id in val_df['user_id']]\n",
    "val_item_indices = [idm.get_item_index(item_id) for item_id in val_df['parent_asin']]\n",
    "val_ratings = val_df['rating'].values.tolist()"
   ]
  },
  {
   "cell_type": "markdown",
   "id": "5260fbe7-2f90-44a1-be74-ce5db9b511ee",
   "metadata": {},
   "source": [
    "# Train"
   ]
  },
  {
   "cell_type": "code",
   "execution_count": 18,
   "id": "12749354-d57a-4458-bf60-b23f068ec6c7",
   "metadata": {},
   "outputs": [],
   "source": [
    "model = Item2ItemCollaborativeFiltering(n_users, n_items)"
   ]
  },
  {
   "cell_type": "markdown",
   "id": "b8cbb2a8-a578-4ad2-941e-efd01d930336",
   "metadata": {},
   "source": [
    "#### Predict before train"
   ]
  },
  {
   "cell_type": "code",
   "execution_count": 19,
   "id": "9eb1583b-40f7-4157-a383-5891389ac119",
   "metadata": {
    "scrolled": true
   },
   "outputs": [
    {
     "data": {
      "text/html": [
       "<div>\n",
       "<style scoped>\n",
       "    .dataframe tbody tr th:only-of-type {\n",
       "        vertical-align: middle;\n",
       "    }\n",
       "\n",
       "    .dataframe tbody tr th {\n",
       "        vertical-align: top;\n",
       "    }\n",
       "\n",
       "    .dataframe thead th {\n",
       "        text-align: right;\n",
       "    }\n",
       "</style>\n",
       "<table border=\"1\" class=\"dataframe\">\n",
       "  <thead>\n",
       "    <tr style=\"text-align: right;\">\n",
       "      <th></th>\n",
       "      <th>user_id</th>\n",
       "      <th>parent_asin</th>\n",
       "      <th>rating</th>\n",
       "      <th>timestamp</th>\n",
       "    </tr>\n",
       "  </thead>\n",
       "  <tbody>\n",
       "    <tr>\n",
       "      <th>34367</th>\n",
       "      <td>AEHW2B54HDLZ3APBEWXHYLZ6SSYQ</td>\n",
       "      <td>B07MYVF61Y</td>\n",
       "      <td>4.0</td>\n",
       "      <td>1654225907045</td>\n",
       "    </tr>\n",
       "    <tr>\n",
       "      <th>34366</th>\n",
       "      <td>AEHW2B54HDLZ3APBEWXHYLZ6SSYQ</td>\n",
       "      <td>B08WPW7XVG</td>\n",
       "      <td>4.0</td>\n",
       "      <td>1629347738853</td>\n",
       "    </tr>\n",
       "  </tbody>\n",
       "</table>\n",
       "</div>"
      ],
      "text/plain": [
       "                            user_id parent_asin  rating      timestamp\n",
       "34367  AEHW2B54HDLZ3APBEWXHYLZ6SSYQ  B07MYVF61Y     4.0  1654225907045\n",
       "34366  AEHW2B54HDLZ3APBEWXHYLZ6SSYQ  B08WPW7XVG     4.0  1629347738853"
      ]
     },
     "execution_count": 19,
     "metadata": {},
     "output_type": "execute_result"
    }
   ],
   "source": [
    "user_id = 'AEHW2B54HDLZ3APBEWXHYLZ6SSYQ'\n",
    "val_df.loc[lambda df: df['user_id'].eq(user_id)]"
   ]
  },
  {
   "cell_type": "code",
   "execution_count": 20,
   "id": "c48fbc80-eda8-4dff-a246-95f8f2f75082",
   "metadata": {
    "scrolled": true
   },
   "outputs": [
    {
     "data": {
      "text/plain": [
       "array([3])"
      ]
     },
     "execution_count": 20,
     "metadata": {},
     "output_type": "execute_result"
    }
   ],
   "source": [
    "item_id = 'B07MYVF61Y'\n",
    "user_indice = idm.get_user_index(user_id)\n",
    "item_indice = idm.get_item_index(item_id)\n",
    "\n",
    "model.predict([user_indice], [item_indice])"
   ]
  },
  {
   "cell_type": "markdown",
   "id": "c2fd217c-c0c8-4e7c-81fe-6eb36f4729b5",
   "metadata": {},
   "source": [
    "#### Training loop"
   ]
  },
  {
   "cell_type": "code",
   "execution_count": 21,
   "id": "ad0bf9b5-da26-4ea1-84ec-78eeb43d4a66",
   "metadata": {},
   "outputs": [],
   "source": [
    "model.fit(user_indices, item_indices, ratings)"
   ]
  },
  {
   "cell_type": "markdown",
   "id": "fd2bba59-2e12-4921-b36f-66e82105637c",
   "metadata": {},
   "source": [
    "# Evaluate"
   ]
  },
  {
   "cell_type": "markdown",
   "id": "190bb7b8-ab4b-4a48-8c65-8d5bc887a3b7",
   "metadata": {},
   "source": [
    "## MSE"
   ]
  },
  {
   "cell_type": "code",
   "execution_count": 22,
   "id": "f2d0c6b6-6a78-40da-924c-929408460779",
   "metadata": {},
   "outputs": [],
   "source": [
    "from tqdm.notebook import tqdm"
   ]
  },
  {
   "cell_type": "code",
   "execution_count": 23,
   "id": "0dbc2c38-4bae-4116-9450-ea038ab351e1",
   "metadata": {},
   "outputs": [
    {
     "data": {
      "application/vnd.jupyter.widget-view+json": {
       "model_id": "3eda207bb4984ae6998d06a2bdef22a9",
       "version_major": 2,
       "version_minor": 0
      },
      "text/plain": [
       "  0%|          | 0/15257 [00:00<?, ?it/s]"
      ]
     },
     "metadata": {},
     "output_type": "display_data"
    }
   ],
   "source": [
    "val_predictions = []\n",
    "for i in tqdm(range(len(val_ratings))):\n",
    "    user_indice = val_user_indices[i]\n",
    "    item_indice = val_item_indices[i]\n",
    "    prediction = model.predict([user_indice], [item_indice])\n",
    "    prediction = float(prediction[0])\n",
    "    val_predictions.append(prediction)"
   ]
  },
  {
   "cell_type": "code",
   "execution_count": 24,
   "id": "8009599a-6aa2-4592-b716-ded4d71a7012",
   "metadata": {},
   "outputs": [
    {
     "data": {
      "text/plain": [
       "np.float64(2.78338651338515)"
      ]
     },
     "execution_count": 24,
     "metadata": {},
     "output_type": "execute_result"
    }
   ],
   "source": [
    "def mse(predictions, ratings):\n",
    "    predictions = np.array(predictions)\n",
    "    ratings = np.array(ratings)\n",
    "    return np.mean((predictions - ratings) ** 2)\n",
    "\n",
    "mse_loss = mse(val_predictions, val_ratings)\n",
    "mse_loss"
   ]
  },
  {
   "cell_type": "code",
   "execution_count": 25,
   "id": "edfd693d-77cd-4c1f-92e1-084ce7734104",
   "metadata": {},
   "outputs": [
    {
     "data": {
      "text/plain": [
       "[3.0, 3.0, 3.0, 5.0, 4.999999999999999]"
      ]
     },
     "execution_count": 25,
     "metadata": {},
     "output_type": "execute_result"
    }
   ],
   "source": [
    "val_predictions[:5]"
   ]
  },
  {
   "cell_type": "code",
   "execution_count": 26,
   "id": "4a0c7059-a9c4-4718-b146-f1056fcb7dd9",
   "metadata": {},
   "outputs": [
    {
     "data": {
      "text/plain": [
       "[3.0, 5.0, 5.0, 5.0, 5.0]"
      ]
     },
     "execution_count": 26,
     "metadata": {},
     "output_type": "execute_result"
    }
   ],
   "source": [
    "val_ratings[:5]"
   ]
  },
  {
   "cell_type": "code",
   "execution_count": 27,
   "id": "c27c8cd6-36dc-4b49-ada3-78ad14621c70",
   "metadata": {},
   "outputs": [],
   "source": [
    "if args.log_to_mlflow:\n",
    "    mlflow.log_metric(\"val_MSE\", float(mse_loss))"
   ]
  },
  {
   "cell_type": "markdown",
   "id": "e3963df5-24a1-4c51-af1d-acb862171ff3",
   "metadata": {},
   "source": [
    "## Ranking metrics"
   ]
  },
  {
   "cell_type": "code",
   "execution_count": 28,
   "id": "373b890d-f094-424a-b648-f16eabea3ef6",
   "metadata": {},
   "outputs": [],
   "source": [
    "user_col = args.user_col\n",
    "item_col = args.item_col\n",
    "rating_col = args.rating_col"
   ]
  },
  {
   "cell_type": "code",
   "execution_count": 29,
   "id": "dbd899f9-9d1b-4496-b445-35775805340e",
   "metadata": {},
   "outputs": [],
   "source": [
    "from src.eval import create_label_df, create_rec_df, merge_recs_with_target"
   ]
  },
  {
   "cell_type": "code",
   "execution_count": 30,
   "id": "576b7b82-74a6-4095-bdbf-7bee1d473910",
   "metadata": {},
   "outputs": [
    {
     "data": {
      "application/vnd.jupyter.widget-view+json": {
       "model_id": "9d00b9e273274537a1314b2f89dc982c",
       "version_major": 2,
       "version_minor": 0
      },
      "text/plain": [
       "Generating Recommendations:   0%|          | 0/15257 [00:00<?, ?it/s]"
      ]
     },
     "metadata": {},
     "output_type": "display_data"
    }
   ],
   "source": [
    "recommendations = model.recommend(val_user_indices, k=args.top_K, progress_bar_type='tqdm_notebook')"
   ]
  },
  {
   "cell_type": "code",
   "execution_count": 31,
   "id": "ae06b033-94fc-44ec-b114-b3e4b96c973e",
   "metadata": {
    "scrolled": true
   },
   "outputs": [
    {
     "data": {
      "text/html": [
       "<div>\n",
       "<style scoped>\n",
       "    .dataframe tbody tr th:only-of-type {\n",
       "        vertical-align: middle;\n",
       "    }\n",
       "\n",
       "    .dataframe tbody tr th {\n",
       "        vertical-align: top;\n",
       "    }\n",
       "\n",
       "    .dataframe thead th {\n",
       "        text-align: right;\n",
       "    }\n",
       "</style>\n",
       "<table border=\"1\" class=\"dataframe\">\n",
       "  <thead>\n",
       "    <tr style=\"text-align: right;\">\n",
       "      <th></th>\n",
       "      <th>user_indice</th>\n",
       "      <th>recommendation</th>\n",
       "      <th>score</th>\n",
       "      <th>rec_ranking</th>\n",
       "      <th>user_id</th>\n",
       "      <th>parent_asin</th>\n",
       "    </tr>\n",
       "  </thead>\n",
       "  <tbody>\n",
       "    <tr>\n",
       "      <th>0</th>\n",
       "      <td>12084</td>\n",
       "      <td>5181</td>\n",
       "      <td>5.0</td>\n",
       "      <td>1.0</td>\n",
       "      <td>AGCL7QDBZ24RZHTSPHSQ4ZXSG3RQ</td>\n",
       "      <td>B0B96RSG2Y</td>\n",
       "    </tr>\n",
       "    <tr>\n",
       "      <th>1</th>\n",
       "      <td>12084</td>\n",
       "      <td>4899</td>\n",
       "      <td>5.0</td>\n",
       "      <td>2.0</td>\n",
       "      <td>AGCL7QDBZ24RZHTSPHSQ4ZXSG3RQ</td>\n",
       "      <td>B0BKZ3D2Q5</td>\n",
       "    </tr>\n",
       "    <tr>\n",
       "      <th>2</th>\n",
       "      <td>12084</td>\n",
       "      <td>4077</td>\n",
       "      <td>5.0</td>\n",
       "      <td>3.0</td>\n",
       "      <td>AGCL7QDBZ24RZHTSPHSQ4ZXSG3RQ</td>\n",
       "      <td>B0BG2DPCKM</td>\n",
       "    </tr>\n",
       "    <tr>\n",
       "      <th>3</th>\n",
       "      <td>12084</td>\n",
       "      <td>3984</td>\n",
       "      <td>5.0</td>\n",
       "      <td>4.0</td>\n",
       "      <td>AGCL7QDBZ24RZHTSPHSQ4ZXSG3RQ</td>\n",
       "      <td>B01N6S068R</td>\n",
       "    </tr>\n",
       "    <tr>\n",
       "      <th>4</th>\n",
       "      <td>12084</td>\n",
       "      <td>461</td>\n",
       "      <td>5.0</td>\n",
       "      <td>5.0</td>\n",
       "      <td>AGCL7QDBZ24RZHTSPHSQ4ZXSG3RQ</td>\n",
       "      <td>B07DPJQ6ZQ</td>\n",
       "    </tr>\n",
       "    <tr>\n",
       "      <th>...</th>\n",
       "      <td>...</td>\n",
       "      <td>...</td>\n",
       "      <td>...</td>\n",
       "      <td>...</td>\n",
       "      <td>...</td>\n",
       "      <td>...</td>\n",
       "    </tr>\n",
       "    <tr>\n",
       "      <th>1525695</th>\n",
       "      <td>5928</td>\n",
       "      <td>3696</td>\n",
       "      <td>3.0</td>\n",
       "      <td>296.0</td>\n",
       "      <td>AEEXD6AIYLX4YWPPQCM7M7PQUHKQ</td>\n",
       "      <td>B000G75AXE</td>\n",
       "    </tr>\n",
       "    <tr>\n",
       "      <th>1525696</th>\n",
       "      <td>5928</td>\n",
       "      <td>3684</td>\n",
       "      <td>3.0</td>\n",
       "      <td>297.0</td>\n",
       "      <td>AEEXD6AIYLX4YWPPQCM7M7PQUHKQ</td>\n",
       "      <td>B08GF8L6J9</td>\n",
       "    </tr>\n",
       "    <tr>\n",
       "      <th>1525697</th>\n",
       "      <td>5928</td>\n",
       "      <td>3683</td>\n",
       "      <td>3.0</td>\n",
       "      <td>298.0</td>\n",
       "      <td>AEEXD6AIYLX4YWPPQCM7M7PQUHKQ</td>\n",
       "      <td>B097PBVHYP</td>\n",
       "    </tr>\n",
       "    <tr>\n",
       "      <th>1525698</th>\n",
       "      <td>5928</td>\n",
       "      <td>3682</td>\n",
       "      <td>3.0</td>\n",
       "      <td>299.0</td>\n",
       "      <td>AEEXD6AIYLX4YWPPQCM7M7PQUHKQ</td>\n",
       "      <td>B0009R1TG8</td>\n",
       "    </tr>\n",
       "    <tr>\n",
       "      <th>1525699</th>\n",
       "      <td>5928</td>\n",
       "      <td>3681</td>\n",
       "      <td>3.0</td>\n",
       "      <td>300.0</td>\n",
       "      <td>AEEXD6AIYLX4YWPPQCM7M7PQUHKQ</td>\n",
       "      <td>B07YBXK2BB</td>\n",
       "    </tr>\n",
       "  </tbody>\n",
       "</table>\n",
       "<p>1525700 rows × 6 columns</p>\n",
       "</div>"
      ],
      "text/plain": [
       "         user_indice  recommendation  score  rec_ranking  \\\n",
       "0              12084            5181    5.0          1.0   \n",
       "1              12084            4899    5.0          2.0   \n",
       "2              12084            4077    5.0          3.0   \n",
       "3              12084            3984    5.0          4.0   \n",
       "4              12084             461    5.0          5.0   \n",
       "...              ...             ...    ...          ...   \n",
       "1525695         5928            3696    3.0        296.0   \n",
       "1525696         5928            3684    3.0        297.0   \n",
       "1525697         5928            3683    3.0        298.0   \n",
       "1525698         5928            3682    3.0        299.0   \n",
       "1525699         5928            3681    3.0        300.0   \n",
       "\n",
       "                              user_id parent_asin  \n",
       "0        AGCL7QDBZ24RZHTSPHSQ4ZXSG3RQ  B0B96RSG2Y  \n",
       "1        AGCL7QDBZ24RZHTSPHSQ4ZXSG3RQ  B0BKZ3D2Q5  \n",
       "2        AGCL7QDBZ24RZHTSPHSQ4ZXSG3RQ  B0BG2DPCKM  \n",
       "3        AGCL7QDBZ24RZHTSPHSQ4ZXSG3RQ  B01N6S068R  \n",
       "4        AGCL7QDBZ24RZHTSPHSQ4ZXSG3RQ  B07DPJQ6ZQ  \n",
       "...                               ...         ...  \n",
       "1525695  AEEXD6AIYLX4YWPPQCM7M7PQUHKQ  B000G75AXE  \n",
       "1525696  AEEXD6AIYLX4YWPPQCM7M7PQUHKQ  B08GF8L6J9  \n",
       "1525697  AEEXD6AIYLX4YWPPQCM7M7PQUHKQ  B097PBVHYP  \n",
       "1525698  AEEXD6AIYLX4YWPPQCM7M7PQUHKQ  B0009R1TG8  \n",
       "1525699  AEEXD6AIYLX4YWPPQCM7M7PQUHKQ  B07YBXK2BB  \n",
       "\n",
       "[1525700 rows x 6 columns]"
      ]
     },
     "execution_count": 31,
     "metadata": {},
     "output_type": "execute_result"
    }
   ],
   "source": [
    "recommendations_df = pd.DataFrame(recommendations).pipe(create_rec_df, idm)\n",
    "recommendations_df"
   ]
  },
  {
   "cell_type": "code",
   "execution_count": 32,
   "id": "9843b3ce-77b0-48dc-960f-9e030f7b493a",
   "metadata": {},
   "outputs": [
    {
     "data": {
      "text/html": [
       "<div>\n",
       "<style scoped>\n",
       "    .dataframe tbody tr th:only-of-type {\n",
       "        vertical-align: middle;\n",
       "    }\n",
       "\n",
       "    .dataframe tbody tr th {\n",
       "        vertical-align: top;\n",
       "    }\n",
       "\n",
       "    .dataframe thead th {\n",
       "        text-align: right;\n",
       "    }\n",
       "</style>\n",
       "<table border=\"1\" class=\"dataframe\">\n",
       "  <thead>\n",
       "    <tr style=\"text-align: right;\">\n",
       "      <th></th>\n",
       "      <th>user_id</th>\n",
       "      <th>parent_asin</th>\n",
       "      <th>rating</th>\n",
       "      <th>rating_rank</th>\n",
       "    </tr>\n",
       "  </thead>\n",
       "  <tbody>\n",
       "    <tr>\n",
       "      <th>11013</th>\n",
       "      <td>AE2WIEN3VYPFDPZ3IATSPFQQV2FQ</td>\n",
       "      <td>B094YHB1QK</td>\n",
       "      <td>1.0</td>\n",
       "      <td>1.0</td>\n",
       "    </tr>\n",
       "    <tr>\n",
       "      <th>2360</th>\n",
       "      <td>AH4JY7JDGBM5KWZNNS564ZZ7KCEA</td>\n",
       "      <td>B07D53QSMK</td>\n",
       "      <td>5.0</td>\n",
       "      <td>1.0</td>\n",
       "    </tr>\n",
       "    <tr>\n",
       "      <th>7596</th>\n",
       "      <td>AH5XFYDNDNYOSEYC7VZ6ORVNS3UA</td>\n",
       "      <td>B07XHMFCJ2</td>\n",
       "      <td>5.0</td>\n",
       "      <td>1.0</td>\n",
       "    </tr>\n",
       "    <tr>\n",
       "      <th>7647</th>\n",
       "      <td>AG3N3EMFIFGW66WOIC4MW55IUS6Q</td>\n",
       "      <td>B0BXQH38S6</td>\n",
       "      <td>4.0</td>\n",
       "      <td>1.0</td>\n",
       "    </tr>\n",
       "    <tr>\n",
       "      <th>21493</th>\n",
       "      <td>AGJAX3U73M52QLRSR4VYWZXEENMA</td>\n",
       "      <td>B07ZJ6RY1W</td>\n",
       "      <td>5.0</td>\n",
       "      <td>1.0</td>\n",
       "    </tr>\n",
       "    <tr>\n",
       "      <th>...</th>\n",
       "      <td>...</td>\n",
       "      <td>...</td>\n",
       "      <td>...</td>\n",
       "      <td>...</td>\n",
       "    </tr>\n",
       "    <tr>\n",
       "      <th>501</th>\n",
       "      <td>AETPWUNCW3KZDTKNUQGS5YYKNUEA</td>\n",
       "      <td>B08JTNL426</td>\n",
       "      <td>3.0</td>\n",
       "      <td>35.0</td>\n",
       "    </tr>\n",
       "    <tr>\n",
       "      <th>537</th>\n",
       "      <td>AETPWUNCW3KZDTKNUQGS5YYKNUEA</td>\n",
       "      <td>B008CP6MA2</td>\n",
       "      <td>2.0</td>\n",
       "      <td>36.0</td>\n",
       "    </tr>\n",
       "    <tr>\n",
       "      <th>531</th>\n",
       "      <td>AETPWUNCW3KZDTKNUQGS5YYKNUEA</td>\n",
       "      <td>B07BZP7HML</td>\n",
       "      <td>2.0</td>\n",
       "      <td>37.0</td>\n",
       "    </tr>\n",
       "    <tr>\n",
       "      <th>517</th>\n",
       "      <td>AETPWUNCW3KZDTKNUQGS5YYKNUEA</td>\n",
       "      <td>B008FPMBNG</td>\n",
       "      <td>2.0</td>\n",
       "      <td>38.0</td>\n",
       "    </tr>\n",
       "    <tr>\n",
       "      <th>513</th>\n",
       "      <td>AETPWUNCW3KZDTKNUQGS5YYKNUEA</td>\n",
       "      <td>B0795GHTBC</td>\n",
       "      <td>2.0</td>\n",
       "      <td>39.0</td>\n",
       "    </tr>\n",
       "  </tbody>\n",
       "</table>\n",
       "<p>15257 rows × 4 columns</p>\n",
       "</div>"
      ],
      "text/plain": [
       "                            user_id parent_asin  rating  rating_rank\n",
       "11013  AE2WIEN3VYPFDPZ3IATSPFQQV2FQ  B094YHB1QK     1.0          1.0\n",
       "2360   AH4JY7JDGBM5KWZNNS564ZZ7KCEA  B07D53QSMK     5.0          1.0\n",
       "7596   AH5XFYDNDNYOSEYC7VZ6ORVNS3UA  B07XHMFCJ2     5.0          1.0\n",
       "7647   AG3N3EMFIFGW66WOIC4MW55IUS6Q  B0BXQH38S6     4.0          1.0\n",
       "21493  AGJAX3U73M52QLRSR4VYWZXEENMA  B07ZJ6RY1W     5.0          1.0\n",
       "...                             ...         ...     ...          ...\n",
       "501    AETPWUNCW3KZDTKNUQGS5YYKNUEA  B08JTNL426     3.0         35.0\n",
       "537    AETPWUNCW3KZDTKNUQGS5YYKNUEA  B008CP6MA2     2.0         36.0\n",
       "531    AETPWUNCW3KZDTKNUQGS5YYKNUEA  B07BZP7HML     2.0         37.0\n",
       "517    AETPWUNCW3KZDTKNUQGS5YYKNUEA  B008FPMBNG     2.0         38.0\n",
       "513    AETPWUNCW3KZDTKNUQGS5YYKNUEA  B0795GHTBC     2.0         39.0\n",
       "\n",
       "[15257 rows x 4 columns]"
      ]
     },
     "execution_count": 32,
     "metadata": {},
     "output_type": "execute_result"
    }
   ],
   "source": [
    "label_df = create_label_df(val_df)\n",
    "label_df"
   ]
  },
  {
   "cell_type": "code",
   "execution_count": 33,
   "id": "e90fa886-2a84-420d-a98a-e6fbe30419fe",
   "metadata": {
    "scrolled": true
   },
   "outputs": [
    {
     "data": {
      "text/html": [
       "<div>\n",
       "<style scoped>\n",
       "    .dataframe tbody tr th:only-of-type {\n",
       "        vertical-align: middle;\n",
       "    }\n",
       "\n",
       "    .dataframe tbody tr th {\n",
       "        vertical-align: top;\n",
       "    }\n",
       "\n",
       "    .dataframe thead th {\n",
       "        text-align: right;\n",
       "    }\n",
       "</style>\n",
       "<table border=\"1\" class=\"dataframe\">\n",
       "  <thead>\n",
       "    <tr style=\"text-align: right;\">\n",
       "      <th></th>\n",
       "      <th>user_indice</th>\n",
       "      <th>recommendation</th>\n",
       "      <th>score</th>\n",
       "      <th>rec_ranking</th>\n",
       "      <th>user_id</th>\n",
       "      <th>parent_asin</th>\n",
       "      <th>rating</th>\n",
       "      <th>rating_rank</th>\n",
       "    </tr>\n",
       "  </thead>\n",
       "  <tbody>\n",
       "    <tr>\n",
       "      <th>99</th>\n",
       "      <td>359.0</td>\n",
       "      <td>1067.0</td>\n",
       "      <td>5.0</td>\n",
       "      <td>1</td>\n",
       "      <td>AE22LPCN47WUTHSG67R6SKN4A4MQ</td>\n",
       "      <td>B0C7BN9G35</td>\n",
       "      <td>0</td>\n",
       "      <td>NaN</td>\n",
       "    </tr>\n",
       "    <tr>\n",
       "      <th>40</th>\n",
       "      <td>359.0</td>\n",
       "      <td>1528.0</td>\n",
       "      <td>5.0</td>\n",
       "      <td>2</td>\n",
       "      <td>AE22LPCN47WUTHSG67R6SKN4A4MQ</td>\n",
       "      <td>B07CMKDB2K</td>\n",
       "      <td>0</td>\n",
       "      <td>NaN</td>\n",
       "    </tr>\n",
       "    <tr>\n",
       "      <th>67</th>\n",
       "      <td>359.0</td>\n",
       "      <td>1443.0</td>\n",
       "      <td>5.0</td>\n",
       "      <td>3</td>\n",
       "      <td>AE22LPCN47WUTHSG67R6SKN4A4MQ</td>\n",
       "      <td>B086N3DT9H</td>\n",
       "      <td>0</td>\n",
       "      <td>NaN</td>\n",
       "    </tr>\n",
       "    <tr>\n",
       "      <th>55</th>\n",
       "      <td>359.0</td>\n",
       "      <td>2099.0</td>\n",
       "      <td>5.0</td>\n",
       "      <td>4</td>\n",
       "      <td>AE22LPCN47WUTHSG67R6SKN4A4MQ</td>\n",
       "      <td>B07T5QKKVP</td>\n",
       "      <td>0</td>\n",
       "      <td>NaN</td>\n",
       "    </tr>\n",
       "    <tr>\n",
       "      <th>52</th>\n",
       "      <td>359.0</td>\n",
       "      <td>2734.0</td>\n",
       "      <td>5.0</td>\n",
       "      <td>5</td>\n",
       "      <td>AE22LPCN47WUTHSG67R6SKN4A4MQ</td>\n",
       "      <td>B07N8XW8WX</td>\n",
       "      <td>0</td>\n",
       "      <td>NaN</td>\n",
       "    </tr>\n",
       "    <tr>\n",
       "      <th>...</th>\n",
       "      <td>...</td>\n",
       "      <td>...</td>\n",
       "      <td>...</td>\n",
       "      <td>...</td>\n",
       "      <td>...</td>\n",
       "      <td>...</td>\n",
       "      <td>...</td>\n",
       "      <td>...</td>\n",
       "    </tr>\n",
       "    <tr>\n",
       "      <th>1540205</th>\n",
       "      <td>9363.0</td>\n",
       "      <td>2220.0</td>\n",
       "      <td>5.0</td>\n",
       "      <td>97</td>\n",
       "      <td>AHZZZY2XVWEUJUTYPGGL4WXH6CSA</td>\n",
       "      <td>B07L8VWTY9</td>\n",
       "      <td>0</td>\n",
       "      <td>NaN</td>\n",
       "    </tr>\n",
       "    <tr>\n",
       "      <th>1540235</th>\n",
       "      <td>9363.0</td>\n",
       "      <td>2210.0</td>\n",
       "      <td>5.0</td>\n",
       "      <td>98</td>\n",
       "      <td>AHZZZY2XVWEUJUTYPGGL4WXH6CSA</td>\n",
       "      <td>B0B9XBQSJ7</td>\n",
       "      <td>0</td>\n",
       "      <td>NaN</td>\n",
       "    </tr>\n",
       "    <tr>\n",
       "      <th>1540164</th>\n",
       "      <td>9363.0</td>\n",
       "      <td>557.0</td>\n",
       "      <td>5.0</td>\n",
       "      <td>99</td>\n",
       "      <td>AHZZZY2XVWEUJUTYPGGL4WXH6CSA</td>\n",
       "      <td>B00KPZKS8E</td>\n",
       "      <td>0</td>\n",
       "      <td>NaN</td>\n",
       "    </tr>\n",
       "    <tr>\n",
       "      <th>1540176</th>\n",
       "      <td>9363.0</td>\n",
       "      <td>547.0</td>\n",
       "      <td>5.0</td>\n",
       "      <td>100</td>\n",
       "      <td>AHZZZY2XVWEUJUTYPGGL4WXH6CSA</td>\n",
       "      <td>B01IBEC932</td>\n",
       "      <td>0</td>\n",
       "      <td>NaN</td>\n",
       "    </tr>\n",
       "    <tr>\n",
       "      <th>1540234</th>\n",
       "      <td>NaN</td>\n",
       "      <td>NaN</td>\n",
       "      <td>NaN</td>\n",
       "      <td>101</td>\n",
       "      <td>AHZZZY2XVWEUJUTYPGGL4WXH6CSA</td>\n",
       "      <td>B0B1YWTXJC</td>\n",
       "      <td>2</td>\n",
       "      <td>1.0</td>\n",
       "    </tr>\n",
       "  </tbody>\n",
       "</table>\n",
       "<p>1540240 rows × 8 columns</p>\n",
       "</div>"
      ],
      "text/plain": [
       "         user_indice  recommendation  score  rec_ranking  \\\n",
       "99             359.0          1067.0    5.0            1   \n",
       "40             359.0          1528.0    5.0            2   \n",
       "67             359.0          1443.0    5.0            3   \n",
       "55             359.0          2099.0    5.0            4   \n",
       "52             359.0          2734.0    5.0            5   \n",
       "...              ...             ...    ...          ...   \n",
       "1540205       9363.0          2220.0    5.0           97   \n",
       "1540235       9363.0          2210.0    5.0           98   \n",
       "1540164       9363.0           557.0    5.0           99   \n",
       "1540176       9363.0           547.0    5.0          100   \n",
       "1540234          NaN             NaN    NaN          101   \n",
       "\n",
       "                              user_id parent_asin  rating  rating_rank  \n",
       "99       AE22LPCN47WUTHSG67R6SKN4A4MQ  B0C7BN9G35       0          NaN  \n",
       "40       AE22LPCN47WUTHSG67R6SKN4A4MQ  B07CMKDB2K       0          NaN  \n",
       "67       AE22LPCN47WUTHSG67R6SKN4A4MQ  B086N3DT9H       0          NaN  \n",
       "55       AE22LPCN47WUTHSG67R6SKN4A4MQ  B07T5QKKVP       0          NaN  \n",
       "52       AE22LPCN47WUTHSG67R6SKN4A4MQ  B07N8XW8WX       0          NaN  \n",
       "...                               ...         ...     ...          ...  \n",
       "1540205  AHZZZY2XVWEUJUTYPGGL4WXH6CSA  B07L8VWTY9       0          NaN  \n",
       "1540235  AHZZZY2XVWEUJUTYPGGL4WXH6CSA  B0B9XBQSJ7       0          NaN  \n",
       "1540164  AHZZZY2XVWEUJUTYPGGL4WXH6CSA  B00KPZKS8E       0          NaN  \n",
       "1540176  AHZZZY2XVWEUJUTYPGGL4WXH6CSA  B01IBEC932       0          NaN  \n",
       "1540234  AHZZZY2XVWEUJUTYPGGL4WXH6CSA  B0B1YWTXJC       2          1.0  \n",
       "\n",
       "[1540240 rows x 8 columns]"
      ]
     },
     "execution_count": 33,
     "metadata": {},
     "output_type": "execute_result"
    }
   ],
   "source": [
    "eval_df = merge_recs_with_target(recommendations_df, label_df, k=args.top_K)\n",
    "eval_df"
   ]
  },
  {
   "cell_type": "markdown",
   "id": "026b8206-28f2-4c99-be7b-301f82452db6",
   "metadata": {},
   "source": [
    "### Visualize"
   ]
  },
  {
   "cell_type": "code",
   "execution_count": 34,
   "id": "5aecc4bd-f0f0-4d3c-9911-fa50f0e096fc",
   "metadata": {},
   "outputs": [],
   "source": [
    "from evidently.pipeline.column_mapping import ColumnMapping\n",
    "from evidently.report import Report\n",
    "from evidently.metrics import PrecisionTopKMetric\n",
    "from evidently.metrics import RecallTopKMetric\n",
    "from evidently.metrics import FBetaTopKMetric\n",
    "from evidently.metrics import NDCGKMetric\n",
    "from evidently.metrics import PersonalizationMetric\n",
    "import warnings\n",
    "\n",
    "warnings.filterwarnings(\n",
    "    action='ignore',\n",
    "    category=FutureWarning,\n",
    "    module=r'evidently.metrics.recsys.precision_recall_k'\n",
    ")\n",
    "\n",
    "from src.viz import color_scheme"
   ]
  },
  {
   "cell_type": "code",
   "execution_count": 35,
   "id": "214cbaee-b9ec-48ee-aefe-10c4824ea2db",
   "metadata": {
    "scrolled": true
   },
   "outputs": [],
   "source": [
    "column_mapping = ColumnMapping(\n",
    "    recommendations_type='rank',\n",
    "    target=rating_col,\n",
    "    prediction='rec_ranking',\n",
    "    item_id=item_col,\n",
    "    user_id=user_col\n",
    ")\n",
    "\n",
    "report = Report(metrics=[\n",
    "    NDCGKMetric(k=args.top_k),\n",
    "    RecallTopKMetric(k=args.top_K),\n",
    "    PrecisionTopKMetric(k=args.top_k),\n",
    "    FBetaTopKMetric(k=args.top_k),\n",
    "    PersonalizationMetric(k=args.top_k),\n",
    "], options=[color_scheme])\n",
    "\n",
    "report.run(\n",
    "    reference_data=None,\n",
    "    current_data=eval_df,\n",
    "    column_mapping=column_mapping\n",
    ")\n",
    "\n",
    "evidently_report_fp = f\"{args.notebook_persist_dp}/evidently_report.html\"\n",
    "os.makedirs(args.notebook_persist_dp, exist_ok=True)\n",
    "report.save_html(evidently_report_fp)\n",
    "\n",
    "if args.log_to_mlflow:\n",
    "    mlflow.log_artifact(evidently_report_fp)\n",
    "    for metric_result in report.as_dict()['metrics']:\n",
    "        metric = metric_result['metric']\n",
    "        if metric == 'PersonalizationMetric':\n",
    "            metric_value = float(metric_result['result']['current_value'])\n",
    "            mlflow.log_metric(f\"val_{metric}\", metric_value)\n",
    "            continue\n",
    "        result = metric_result['result']['current'].to_dict()\n",
    "        for kth, metric_value in result.items():\n",
    "            mlflow.log_metric(f\"val_{metric}_at_k_as_step\", metric_value, step=kth)"
   ]
  },
  {
   "cell_type": "markdown",
   "id": "7a07c8e4-0e63-4e60-b865-4ee6b93c6524",
   "metadata": {},
   "source": [
    "# Predict"
   ]
  },
  {
   "cell_type": "code",
   "execution_count": 36,
   "id": "b574c11e-00fe-4458-92b0-5861e19d4ba7",
   "metadata": {
    "scrolled": true
   },
   "outputs": [
    {
     "data": {
      "text/plain": [
       "3.0"
      ]
     },
     "execution_count": 36,
     "metadata": {},
     "output_type": "execute_result"
    }
   ],
   "source": [
    "val_predictions[2]"
   ]
  },
  {
   "cell_type": "code",
   "execution_count": 37,
   "id": "5ebe0aa1-0001-47f5-8488-ae784d0e5558",
   "metadata": {},
   "outputs": [
    {
     "data": {
      "text/html": [
       "<div>\n",
       "<style scoped>\n",
       "    .dataframe tbody tr th:only-of-type {\n",
       "        vertical-align: middle;\n",
       "    }\n",
       "\n",
       "    .dataframe tbody tr th {\n",
       "        vertical-align: top;\n",
       "    }\n",
       "\n",
       "    .dataframe thead th {\n",
       "        text-align: right;\n",
       "    }\n",
       "</style>\n",
       "<table border=\"1\" class=\"dataframe\">\n",
       "  <thead>\n",
       "    <tr style=\"text-align: right;\">\n",
       "      <th></th>\n",
       "      <th>user_id</th>\n",
       "      <th>parent_asin</th>\n",
       "      <th>rating</th>\n",
       "      <th>timestamp</th>\n",
       "    </tr>\n",
       "  </thead>\n",
       "  <tbody>\n",
       "    <tr>\n",
       "      <th>15518</th>\n",
       "      <td>AF7HTSEWIKYSP5D3ST4EZIUK6PJQ</td>\n",
       "      <td>B08F5T3F9Y</td>\n",
       "      <td>5.0</td>\n",
       "      <td>1644540517651</td>\n",
       "    </tr>\n",
       "  </tbody>\n",
       "</table>\n",
       "</div>"
      ],
      "text/plain": [
       "                            user_id parent_asin  rating      timestamp\n",
       "15518  AF7HTSEWIKYSP5D3ST4EZIUK6PJQ  B08F5T3F9Y     5.0  1644540517651"
      ]
     },
     "execution_count": 37,
     "metadata": {},
     "output_type": "execute_result"
    }
   ],
   "source": [
    "val_df.iloc[[2]]"
   ]
  },
  {
   "cell_type": "code",
   "execution_count": 38,
   "id": "568e6612-f7e5-4960-8903-5a87edb42d29",
   "metadata": {},
   "outputs": [],
   "source": [
    "user_id = 'AFQAPWVESEJYTNZC23LDPQOH7QBA'"
   ]
  },
  {
   "cell_type": "code",
   "execution_count": 39,
   "id": "5aad5b21-6234-41a5-b922-c7bd77ba7011",
   "metadata": {},
   "outputs": [
    {
     "data": {
      "text/plain": [
       "array([5.])"
      ]
     },
     "execution_count": 39,
     "metadata": {},
     "output_type": "execute_result"
    }
   ],
   "source": [
    "item_id = 'B09GM4283G'\n",
    "user_indice = idm.get_user_index(user_id)\n",
    "item_indice = idm.get_item_index(item_id)\n",
    "\n",
    "model.predict([user_indice], [item_indice])"
   ]
  },
  {
   "cell_type": "markdown",
   "id": "5a0db3fb-3ed8-4bf1-95e2-f0e7345b559e",
   "metadata": {},
   "source": [
    "# Clean up"
   ]
  },
  {
   "cell_type": "code",
   "execution_count": 40,
   "id": "6b0bb1a4-88d9-4668-b59e-0ce809a62581",
   "metadata": {},
   "outputs": [
    {
     "name": "stderr",
     "output_type": "stream",
     "text": [
      "2024/09/15 12:12:53 INFO mlflow.tracking._tracking_service.client: 🏃 View run 012-cf-i2i at: http://localhost:5003/#/experiments/1/runs/e061d849e48b41d6a5299bfeb2bab500.\n",
      "2024/09/15 12:12:53 INFO mlflow.tracking._tracking_service.client: 🧪 View experiment at: http://localhost:5003/#/experiments/1.\n"
     ]
    }
   ],
   "source": [
    "all_params = [args]\n",
    "\n",
    "if args.log_to_mlflow:\n",
    "    for params in all_params:\n",
    "        params_dict = params.dict()\n",
    "        params_ = {f\"{params.__repr_name__()}.{k}\": v for k, v in params_dict.items()}\n",
    "        mlflow.log_params(params_)\n",
    "\n",
    "    mlflow.end_run()"
   ]
  }
 ],
 "metadata": {
  "kernelspec": {
   "display_name": "Python 3 (ipykernel)",
   "language": "python",
   "name": "python3"
  },
  "language_info": {
   "codemirror_mode": {
    "name": "ipython",
    "version": 3
   },
   "file_extension": ".py",
   "mimetype": "text/x-python",
   "name": "python",
   "nbconvert_exporter": "python",
   "pygments_lexer": "ipython3",
   "version": "3.11.9"
  }
 },
 "nbformat": 4,
 "nbformat_minor": 5
}
