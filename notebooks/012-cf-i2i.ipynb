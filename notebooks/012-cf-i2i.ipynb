{
 "cells": [
  {
   "cell_type": "markdown",
   "id": "1f482061-0dd0-4763-827d-0e15e36e7f0b",
   "metadata": {},
   "source": [
    "# KNN Item-Item Collaborative Filtering"
   ]
  },
  {
   "cell_type": "markdown",
   "id": "c9aefb36-f338-48f1-af2a-f833b41409ec",
   "metadata": {
    "editable": true,
    "slideshow": {
     "slide_type": ""
    },
    "tags": []
   },
   "source": [
    "Item-Item CF is similar to User-User CF but works on the other side. Instead of finding similar users, this method identify the similar  items which the current user has interacted with, get the current user's ratings for them and weighted average the actual ratings.\n",
    "\n",
    "Based on [Introduction to Recommender System](https://towardsdatascience.com/introduction-to-recommender-systems-6c66cf15ada):\n",
    "> The user-user method is based on the search of similar users in terms of interactions with items. As, in general, every user have only interacted with a few items, it makes the method pretty sensitive to any recorded interactions (high variance). On the other hand, as the final recommendation is only based on interactions recorded for users similar to our user of interest, we obtain more personalized results (low bias).\n",
    "\n",
    "> Conversely, the item-item method is based on the search of similar items in terms of user-item interactions. As, in general, a lot of users have interacted with an item, the neighbourhood search is far less sensitive to single interactions (lower variance). As a counterpart, interactions coming from every kind of users (even users very different from our reference user) are then considered in the recommendation, making the method less personalised (more biased). Thus, this approach is less personalized than the user-user approach but more robust.\n",
    "\n",
    "In this notebook, we would take a very simple and straight-forward approach to implement KNN Item-Item CF. We formulate the problem as predicting the rating between user U and item I based on the rating records.\n",
    "\n",
    "Specifically, we will:\n",
    "- Collect input containing user-item rating\n",
    "- Build item-item similarity matrix\n",
    "- Measure similarities between items by using plain user rating vectors\n",
    "- Predict the rating between user U and item I by getting all items which the current user have rated, identify N item neighbors and weighted average their ratings based on how similar the items are to the target item I"
   ]
  },
  {
   "cell_type": "markdown",
   "id": "b470bc23-08c3-42a0-8946-4374690115f6",
   "metadata": {
    "editable": true,
    "slideshow": {
     "slide_type": ""
    },
    "tags": []
   },
   "source": [
    "# Set up"
   ]
  },
  {
   "cell_type": "code",
   "execution_count": 1,
   "id": "3c8f6e8d-f776-4d39-898c-d783c5ae3407",
   "metadata": {
    "editable": true,
    "slideshow": {
     "slide_type": ""
    },
    "tags": []
   },
   "outputs": [],
   "source": [
    "%load_ext autoreload\n",
    "%autoreload 2"
   ]
  },
  {
   "cell_type": "code",
   "execution_count": 2,
   "id": "35b3499d-dc9c-405a-8714-a26341b581e1",
   "metadata": {},
   "outputs": [],
   "source": [
    "import os\n",
    "import sys\n",
    "\n",
    "import mlflow\n",
    "import numpy as np\n",
    "import pandas as pd\n",
    "from dotenv import load_dotenv\n",
    "from loguru import logger\n",
    "from pydantic import BaseModel\n",
    "\n",
    "load_dotenv()\n",
    "\n",
    "sys.path.insert(0, \"..\")\n",
    "\n",
    "from src.eval import (\n",
    "    create_label_df,\n",
    "    create_rec_df,\n",
    "    log_classification_metrics,\n",
    "    log_ranking_metrics,\n",
    "    merge_recs_with_target,\n",
    ")\n",
    "from src.id_mapper import IDMapper\n",
    "from src.math_utils import sigmoid\n",
    "from src.model import Item2ItemCollaborativeFiltering\n",
    "from src.train_utils import map_indice\n",
    "from src.viz import blueq_colors"
   ]
  },
  {
   "cell_type": "markdown",
   "id": "08eea90b-693f-4546-98dd-9d74289dc2ae",
   "metadata": {},
   "source": [
    "# Controller"
   ]
  },
  {
   "cell_type": "code",
   "execution_count": 3,
   "id": "0276b67f-8e3a-4fa9-a326-0e30174cb96a",
   "metadata": {
    "editable": true,
    "slideshow": {
     "slide_type": ""
    },
    "tags": []
   },
   "outputs": [
    {
     "name": "stderr",
     "output_type": "stream",
     "text": [
      "\u001b[32m2024-09-22 16:12:47.576\u001b[0m | \u001b[1mINFO    \u001b[0m | \u001b[36m__main__\u001b[0m:\u001b[36minit\u001b[0m:\u001b[36m29\u001b[0m - \u001b[1mSetting up MLflow experiment FSDS RecSys - L5 - Reco Algo - run 003-cf-i2i...\u001b[0m\n"
     ]
    },
    {
     "name": "stdout",
     "output_type": "stream",
     "text": [
      "{\n",
      "  \"testing\": false,\n",
      "  \"log_to_mlflow\": true,\n",
      "  \"experiment_name\": \"FSDS RecSys - L5 - Reco Algo\",\n",
      "  \"run_name\": \"003-cf-i2i\",\n",
      "  \"notebook_persist_dp\": \"/Users/dvq/frostmourne/reco-algo/notebooks/data/003-cf-i2i\",\n",
      "  \"random_seed\": 41,\n",
      "  \"user_col\": \"user_id\",\n",
      "  \"item_col\": \"parent_asin\",\n",
      "  \"rating_col\": \"rating\",\n",
      "  \"timestamp_col\": \"timestamp\",\n",
      "  \"top_K\": 100,\n",
      "  \"top_k\": 10,\n",
      "  \"batch_size\": 128\n",
      "}\n"
     ]
    }
   ],
   "source": [
    "class Args(BaseModel):\n",
    "    testing: bool = False\n",
    "    log_to_mlflow: bool = True\n",
    "    experiment_name: str = \"FSDS RecSys - L5 - Reco Algo\"\n",
    "    run_name: str = \"003-cf-i2i\"\n",
    "    notebook_persist_dp: str = None\n",
    "    random_seed: int = 41\n",
    "\n",
    "    user_col: str = \"user_id\"\n",
    "    item_col: str = \"parent_asin\"\n",
    "    rating_col: str = \"rating\"\n",
    "    timestamp_col: str = \"timestamp\"\n",
    "\n",
    "    top_K: int = 100\n",
    "    top_k: int = 10\n",
    "\n",
    "    batch_size: int = 128\n",
    "\n",
    "    def init(self):\n",
    "        self.notebook_persist_dp = os.path.abspath(f\"data/{self.run_name}\")\n",
    "\n",
    "        if not os.environ.get(\"MLFLOW_TRACKING_URI\"):\n",
    "            logger.warning(\n",
    "                f\"Environment variable MLFLOW_TRACKING_URI is not set. Setting self.log_to_mlflow to false.\"\n",
    "            )\n",
    "            self.log_to_mlflow = False\n",
    "\n",
    "        if self.log_to_mlflow:\n",
    "            logger.info(\n",
    "                f\"Setting up MLflow experiment {self.experiment_name} - run {self.run_name}...\"\n",
    "            )\n",
    "\n",
    "            mlflow.set_experiment(self.experiment_name)\n",
    "            mlflow.start_run(run_name=self.run_name)\n",
    "\n",
    "        return self\n",
    "\n",
    "\n",
    "args = Args().init()\n",
    "\n",
    "print(args.model_dump_json(indent=2))"
   ]
  },
  {
   "cell_type": "markdown",
   "id": "a5acedcb-89e6-41c6-8969-bf3437fc7898",
   "metadata": {},
   "source": [
    "# Implement"
   ]
  },
  {
   "cell_type": "code",
   "execution_count": 4,
   "id": "1e92fb61-7016-405d-b5c3-3b2c8e9d1922",
   "metadata": {},
   "outputs": [],
   "source": [
    "def init_model(n_users, n_items):\n",
    "    model = Item2ItemCollaborativeFiltering(n_users, n_items)\n",
    "    return model"
   ]
  },
  {
   "cell_type": "markdown",
   "id": "377a71da-1ee3-474c-b3f4-4488d2a45dd3",
   "metadata": {},
   "source": [
    "# Test implementation"
   ]
  },
  {
   "cell_type": "code",
   "execution_count": 5,
   "id": "ce5326d7-ec9d-422c-bbd8-03c837a23e1e",
   "metadata": {
    "scrolled": true
   },
   "outputs": [
    {
     "name": "stdout",
     "output_type": "stream",
     "text": [
      "Mock User IDs: [0, 0, 1, 1, 2, 2, 2]\n",
      "Mock Item IDs: [0, 1, 1, 2, 3, 1, 2]\n",
      "Ratings: [1, 4, 4, 5, 3, 2, 4]\n",
      "[0.5 0.5 0.5]\n"
     ]
    }
   ],
   "source": [
    "# Mock data\n",
    "user_indices = [0, 0, 1, 1, 2, 2, 2]\n",
    "item_indices = [0, 1, 1, 2, 3, 1, 2]\n",
    "ratings = [1, 4, 4, 5, 3, 2, 4]\n",
    "n_users = len(set(user_indices))\n",
    "n_items = len(set(item_indices))\n",
    "\n",
    "val_user_indices = [0, 1, 2]\n",
    "val_item_indices = [2, 1, 2]\n",
    "val_ratings = [2, 4, 5]\n",
    "\n",
    "print(\"Mock User IDs:\", user_indices)\n",
    "print(\"Mock Item IDs:\", item_indices)\n",
    "print(\"Ratings:\", ratings)\n",
    "\n",
    "model = init_model(n_users, n_items)\n",
    "\n",
    "users = [0, 1, 2]\n",
    "items = [2, 2, 0]\n",
    "predictions = model.predict(users, items)\n",
    "print(predictions)"
   ]
  },
  {
   "cell_type": "code",
   "execution_count": 6,
   "id": "28f926b4-1bb9-4552-825a-58b0a4389725",
   "metadata": {},
   "outputs": [
    {
     "name": "stdout",
     "output_type": "stream",
     "text": [
      "[0.98201379 0.98201379 0.88079708]\n"
     ]
    }
   ],
   "source": [
    "model.fit(user_indices, item_indices, ratings)\n",
    "predictions = model.predict(users, items)\n",
    "print(predictions)"
   ]
  },
  {
   "cell_type": "markdown",
   "id": "8fc654c4-6b89-46e4-8412-907a37f82f87",
   "metadata": {},
   "source": [
    "#### 🧐 Go into details"
   ]
  },
  {
   "cell_type": "code",
   "execution_count": 7,
   "id": "15903bdd-0846-4588-9a8f-584d8f523ce0",
   "metadata": {
    "editable": true,
    "slideshow": {
     "slide_type": ""
    },
    "tags": []
   },
   "outputs": [
    {
     "data": {
      "text/plain": [
       "array([[1., 0., 0.],\n",
       "       [4., 4., 2.],\n",
       "       [0., 5., 4.],\n",
       "       [0., 0., 3.]])"
      ]
     },
     "execution_count": 7,
     "metadata": {},
     "output_type": "execute_result"
    }
   ],
   "source": [
    "model.user_item_matrix.T"
   ]
  },
  {
   "cell_type": "code",
   "execution_count": 8,
   "id": "496f9749-183a-478d-a624-16ed59c9818f",
   "metadata": {},
   "outputs": [
    {
     "data": {
      "text/plain": [
       "array([[0.        , 0.66666667, 0.        , 0.        ],\n",
       "       [0.66666667, 0.        , 0.72881089, 0.33333333],\n",
       "       [0.        , 0.72881089, 0.        , 0.62469505],\n",
       "       [0.        , 0.33333333, 0.62469505, 0.        ]])"
      ]
     },
     "execution_count": 8,
     "metadata": {},
     "output_type": "execute_result"
    }
   ],
   "source": [
    "model.item_similarity"
   ]
  },
  {
   "cell_type": "code",
   "execution_count": 9,
   "id": "8d434a72-4f4e-49ea-98ea-31e6a539e4e0",
   "metadata": {},
   "outputs": [
    {
     "name": "stdout",
     "output_type": "stream",
     "text": [
      "sim_scores=array([0.        , 0.33333333, 0.62469505, 0.        ])\n"
     ]
    }
   ],
   "source": [
    "item = 3\n",
    "user = 1\n",
    "\n",
    "# Compute prediction using weighted average of ratings from similar items\n",
    "sim_scores = model.item_similarity[item]\n",
    "print(f\"{sim_scores=}\")"
   ]
  },
  {
   "cell_type": "code",
   "execution_count": 10,
   "id": "4a44f130-422c-47d6-8e62-1913e3afdc9f",
   "metadata": {},
   "outputs": [
    {
     "name": "stdout",
     "output_type": "stream",
     "text": [
      "Ratings of current user for all items:\n",
      "item_ratings=array([0., 4., 5., 0.])\n",
      "Cosine similarity score of target item towards all other items where current user has rated:\n",
      "[0.33333333 0.62469505]\n"
     ]
    }
   ],
   "source": [
    "# Only consider items that have been rated by the current user\n",
    "item_ratings = model.user_item_matrix[user, :]\n",
    "print(f\"Ratings of current user for all items:\\n{item_ratings=}\")\n",
    "sim_scores = sim_scores[item_ratings != 0]\n",
    "print(\n",
    "    f\"Cosine similarity score of target item towards all other items where current user has rated:\\n{sim_scores}\"\n",
    ")\n",
    "item_ratings = item_ratings[item_ratings != 0]"
   ]
  },
  {
   "cell_type": "code",
   "execution_count": 11,
   "id": "5c4af833-c0e2-4ac9-8f54-84dca24799e8",
   "metadata": {},
   "outputs": [
    {
     "name": "stdout",
     "output_type": "stream",
     "text": [
      "Weighted average: 4.456808571105455\n",
      "Normalization factor: 0.9580283808877577\n",
      "Predicted rating: 4.652063195638892\n",
      "Predicted rating - sigmoid: 0.9905482923878774\n"
     ]
    }
   ],
   "source": [
    "# Weighted average of ratings\n",
    "print(f\"Weighted average: {np.dot(sim_scores, item_ratings)}\")\n",
    "print(f\"Normalization factor: {np.sum(sim_scores)}\")\n",
    "print(f\"Predicted rating: {np.dot(sim_scores, item_ratings) / np.sum(sim_scores)}\")\n",
    "print(\n",
    "    f\"Predicted rating - sigmoid: {sigmoid(np.dot(sim_scores, item_ratings) / np.sum(sim_scores))}\"\n",
    ")"
   ]
  },
  {
   "cell_type": "code",
   "execution_count": 12,
   "id": "aba0db41-990a-4012-87e7-e25bef99699c",
   "metadata": {},
   "outputs": [
    {
     "data": {
      "application/vnd.jupyter.widget-view+json": {
       "model_id": "1af28688864841f18cdab5f5e963efbd",
       "version_major": 2,
       "version_minor": 0
      },
      "text/plain": [
       "Generating Recommendations:   0%|          | 0/3 [00:00<?, ?it/s]"
      ]
     },
     "metadata": {},
     "output_type": "display_data"
    }
   ],
   "source": [
    "recommendations = model.recommend(val_user_indices, k=2)"
   ]
  },
  {
   "cell_type": "code",
   "execution_count": 13,
   "id": "75c875dd-6431-4a71-9fec-b61e03905217",
   "metadata": {
    "editable": true,
    "scrolled": true,
    "slideshow": {
     "slide_type": ""
    },
    "tags": []
   },
   "outputs": [
    {
     "data": {
      "text/plain": [
       "{'user_indice': [0, 0, 1, 1, 2],\n",
       " 'recommendation': [2, 3, 3, 0, 0],\n",
       " 'score': [0.9820137900379085,\n",
       "  0.9820137900379085,\n",
       "  0.9905482923878774,\n",
       "  0.9820137900379085,\n",
       "  0.8807970779778823]}"
      ]
     },
     "execution_count": 13,
     "metadata": {},
     "output_type": "execute_result"
    }
   ],
   "source": [
    "recommendations"
   ]
  },
  {
   "cell_type": "markdown",
   "id": "170dec89-a874-4dce-8f94-07d978fcc5b8",
   "metadata": {},
   "source": [
    "# Prep data"
   ]
  },
  {
   "cell_type": "code",
   "execution_count": 14,
   "id": "83803362-5eaa-40bb-b28b-878316d5db5d",
   "metadata": {},
   "outputs": [
    {
     "name": "stdout",
     "output_type": "stream",
     "text": [
      "val_timestamp=np.int64(1628641464793)\n"
     ]
    }
   ],
   "source": [
    "train_df = pd.read_parquet(\"../data/train_features_neg_df.parquet\")\n",
    "val_df = pd.read_parquet(\"../data/val_features_neg_df.parquet\")\n",
    "idm = IDMapper().load(\"../data/idm.json\")\n",
    "# val_timestamp = 1628643414042  # https://amazon-reviews-2023.github.io/data_processing/5core.html\n",
    "assert (val_df[args.timestamp_col].min() - train_df[args.timestamp_col].max()) > 0\n",
    "val_timestamp = train_df[args.timestamp_col].max() + 1\n",
    "print(f\"{val_timestamp=}\")"
   ]
  },
  {
   "cell_type": "code",
   "execution_count": 15,
   "id": "17d6c998-5fc4-43f7-8e19-0f469bb0374b",
   "metadata": {},
   "outputs": [
    {
     "name": "stderr",
     "output_type": "stream",
     "text": [
      "\u001b[32m2024-09-22 16:12:48.954\u001b[0m | \u001b[1mINFO    \u001b[0m | \u001b[36m__main__\u001b[0m:\u001b[36m<module>\u001b[0m:\u001b[36m8\u001b[0m - \u001b[1mlen(unique_user_ids)=20,366, len(unique_item_ids)=4,696\u001b[0m\n"
     ]
    }
   ],
   "source": [
    "user_ids = train_df[args.user_col].values\n",
    "item_ids = train_df[args.item_col].values\n",
    "unique_user_ids = list(set(user_ids))\n",
    "unique_item_ids = list(set(item_ids))\n",
    "n_users = len(unique_user_ids)\n",
    "n_items = len(unique_item_ids)\n",
    "\n",
    "logger.info(f\"{len(unique_user_ids)=:,.0f}, {len(unique_item_ids)=:,.0f}\")"
   ]
  },
  {
   "cell_type": "code",
   "execution_count": 16,
   "id": "14c48421-1e0d-46d8-a841-46f380393bdd",
   "metadata": {},
   "outputs": [],
   "source": [
    "train_df = train_df.pipe(map_indice, idm, args.user_col, args.item_col)\n",
    "val_df = val_df.pipe(map_indice, idm, args.user_col, args.item_col)\n",
    "\n",
    "user_indices = [idm.get_user_index(user_id) for user_id in user_ids]\n",
    "item_indices = [idm.get_item_index(item_id) for item_id in item_ids]\n",
    "ratings = train_df[args.rating_col].values.tolist()\n",
    "\n",
    "val_user_indices = [idm.get_user_index(user_id) for user_id in val_df[args.user_col]]\n",
    "val_item_indices = [idm.get_item_index(item_id) for item_id in val_df[args.item_col]]\n",
    "val_ratings = val_df[args.rating_col].values.tolist()"
   ]
  },
  {
   "cell_type": "markdown",
   "id": "5260fbe7-2f90-44a1-be74-ce5db9b511ee",
   "metadata": {
    "editable": true,
    "slideshow": {
     "slide_type": ""
    },
    "tags": []
   },
   "source": [
    "# Train"
   ]
  },
  {
   "cell_type": "code",
   "execution_count": 17,
   "id": "12749354-d57a-4458-bf60-b23f068ec6c7",
   "metadata": {},
   "outputs": [],
   "source": [
    "model = init_model(n_users, n_items)"
   ]
  },
  {
   "cell_type": "markdown",
   "id": "b8cbb2a8-a578-4ad2-941e-efd01d930336",
   "metadata": {},
   "source": [
    "#### Predict before train"
   ]
  },
  {
   "cell_type": "code",
   "execution_count": 18,
   "id": "9eb1583b-40f7-4157-a383-5891389ac119",
   "metadata": {
    "editable": true,
    "scrolled": true,
    "slideshow": {
     "slide_type": ""
    },
    "tags": []
   },
   "outputs": [
    {
     "data": {
      "text/html": [
       "<div>\n",
       "<style scoped>\n",
       "    .dataframe tbody tr th:only-of-type {\n",
       "        vertical-align: middle;\n",
       "    }\n",
       "\n",
       "    .dataframe tbody tr th {\n",
       "        vertical-align: top;\n",
       "    }\n",
       "\n",
       "    .dataframe thead th {\n",
       "        text-align: right;\n",
       "    }\n",
       "</style>\n",
       "<table border=\"1\" class=\"dataframe\">\n",
       "  <thead>\n",
       "    <tr style=\"text-align: right;\">\n",
       "      <th></th>\n",
       "      <th>user_id</th>\n",
       "      <th>parent_asin</th>\n",
       "      <th>rating</th>\n",
       "      <th>timestamp</th>\n",
       "      <th>user_indice</th>\n",
       "      <th>item_indice</th>\n",
       "      <th>main_category</th>\n",
       "      <th>title</th>\n",
       "      <th>description</th>\n",
       "      <th>categories</th>\n",
       "      <th>price</th>\n",
       "      <th>item_sequence</th>\n",
       "    </tr>\n",
       "  </thead>\n",
       "  <tbody>\n",
       "    <tr>\n",
       "      <th>1085</th>\n",
       "      <td>AHRDCITUE5NPFLAZQG6JZ6FOQEPQ</td>\n",
       "      <td>B001EYUU2O</td>\n",
       "      <td>0.0</td>\n",
       "      <td>1638716160130</td>\n",
       "      <td>6200</td>\n",
       "      <td>6</td>\n",
       "      <td>Video Games</td>\n",
       "      <td>Need for Speed Carbon - Xbox 360</td>\n",
       "      <td>[What starts in the city is settled in the can...</td>\n",
       "      <td>[Video Games, Legacy Systems, Xbox Systems, Xb...</td>\n",
       "      <td>39.96</td>\n",
       "      <td>[-1, -1, -1, -1, -1, 806, 2562, 3690, 96, 3531]</td>\n",
       "    </tr>\n",
       "    <tr>\n",
       "      <th>1880</th>\n",
       "      <td>AHRDCITUE5NPFLAZQG6JZ6FOQEPQ</td>\n",
       "      <td>B07796MBJ7</td>\n",
       "      <td>3.0</td>\n",
       "      <td>1638716160130</td>\n",
       "      <td>6200</td>\n",
       "      <td>3293</td>\n",
       "      <td>Computers</td>\n",
       "      <td>Logitech G613 LIGHTSPEED Wireless Mechanical G...</td>\n",
       "      <td>[Designed for a wireless world, G613 is a high...</td>\n",
       "      <td>[Video Games, PC, Accessories, Gaming Keyboards]</td>\n",
       "      <td>72.99</td>\n",
       "      <td>[-1, -1, -1, -1, -1, 806, 2562, 3690, 96, 3531]</td>\n",
       "    </tr>\n",
       "  </tbody>\n",
       "</table>\n",
       "</div>"
      ],
      "text/plain": [
       "                           user_id parent_asin  rating      timestamp  \\\n",
       "1085  AHRDCITUE5NPFLAZQG6JZ6FOQEPQ  B001EYUU2O     0.0  1638716160130   \n",
       "1880  AHRDCITUE5NPFLAZQG6JZ6FOQEPQ  B07796MBJ7     3.0  1638716160130   \n",
       "\n",
       "      user_indice  item_indice main_category  \\\n",
       "1085         6200            6   Video Games   \n",
       "1880         6200         3293     Computers   \n",
       "\n",
       "                                                  title  \\\n",
       "1085                   Need for Speed Carbon - Xbox 360   \n",
       "1880  Logitech G613 LIGHTSPEED Wireless Mechanical G...   \n",
       "\n",
       "                                            description  \\\n",
       "1085  [What starts in the city is settled in the can...   \n",
       "1880  [Designed for a wireless world, G613 is a high...   \n",
       "\n",
       "                                             categories  price  \\\n",
       "1085  [Video Games, Legacy Systems, Xbox Systems, Xb...  39.96   \n",
       "1880   [Video Games, PC, Accessories, Gaming Keyboards]  72.99   \n",
       "\n",
       "                                        item_sequence  \n",
       "1085  [-1, -1, -1, -1, -1, 806, 2562, 3690, 96, 3531]  \n",
       "1880  [-1, -1, -1, -1, -1, 806, 2562, 3690, 96, 3531]  "
      ]
     },
     "execution_count": 18,
     "metadata": {},
     "output_type": "execute_result"
    }
   ],
   "source": [
    "user_id = val_df.sample(1)[args.user_col].values[0]\n",
    "test_df = val_df.loc[lambda df: df[args.user_col].eq(user_id)]\n",
    "test_df"
   ]
  },
  {
   "cell_type": "code",
   "execution_count": 19,
   "id": "c48fbc80-eda8-4dff-a246-95f8f2f75082",
   "metadata": {
    "scrolled": true
   },
   "outputs": [
    {
     "name": "stderr",
     "output_type": "stream",
     "text": [
      "\u001b[32m2024-09-22 16:12:49.205\u001b[0m | \u001b[1mINFO    \u001b[0m | \u001b[36m__main__\u001b[0m:\u001b[36m<module>\u001b[0m:\u001b[36m2\u001b[0m - \u001b[1mTest predicting before training with user_id = AHRDCITUE5NPFLAZQG6JZ6FOQEPQ and parent_asin = B07796MBJ7\u001b[0m\n"
     ]
    },
    {
     "data": {
      "text/plain": [
       "array([0.5])"
      ]
     },
     "execution_count": 19,
     "metadata": {},
     "output_type": "execute_result"
    }
   ],
   "source": [
    "item_id = test_df.loc[lambda df: df[args.rating_col].gt(0)][args.item_col].values[0]\n",
    "logger.info(\n",
    "    f\"Test predicting before training with {args.user_col} = {user_id} and {args.item_col} = {item_id}\"\n",
    ")\n",
    "user_indice = idm.get_user_index(user_id)\n",
    "item_indice = idm.get_item_index(item_id)\n",
    "\n",
    "model.predict([user_indice], [item_indice])"
   ]
  },
  {
   "cell_type": "markdown",
   "id": "c2fd217c-c0c8-4e7c-81fe-6eb36f4729b5",
   "metadata": {},
   "source": [
    "#### Training loop"
   ]
  },
  {
   "cell_type": "code",
   "execution_count": 20,
   "id": "ad0bf9b5-da26-4ea1-84ec-78eeb43d4a66",
   "metadata": {},
   "outputs": [],
   "source": [
    "model.fit(user_indices, item_indices, ratings)"
   ]
  },
  {
   "cell_type": "markdown",
   "id": "d98aad70-7bca-4406-92df-c46b2ff8fce0",
   "metadata": {},
   "source": [
    "# Predict"
   ]
  },
  {
   "cell_type": "code",
   "execution_count": 21,
   "id": "98ab8614-2c48-4dcb-97b0-b7d1460140d4",
   "metadata": {
    "scrolled": true
   },
   "outputs": [
    {
     "name": "stderr",
     "output_type": "stream",
     "text": [
      "\u001b[32m2024-09-22 16:12:51.015\u001b[0m | \u001b[1mINFO    \u001b[0m | \u001b[36m__main__\u001b[0m:\u001b[36m<module>\u001b[0m:\u001b[36m1\u001b[0m - \u001b[1mTest predicting before training with user_id = AHRDCITUE5NPFLAZQG6JZ6FOQEPQ and parent_asin = B07796MBJ7\u001b[0m\n"
     ]
    },
    {
     "data": {
      "text/plain": [
       "array([0.5])"
      ]
     },
     "execution_count": 21,
     "metadata": {},
     "output_type": "execute_result"
    }
   ],
   "source": [
    "logger.info(\n",
    "    f\"Test predicting before training with {args.user_col} = {user_id} and {args.item_col} = {item_id}\"\n",
    ")\n",
    "model.predict([user_indice], [item_indice])"
   ]
  },
  {
   "cell_type": "markdown",
   "id": "fd2bba59-2e12-4921-b36f-66e82105637c",
   "metadata": {},
   "source": [
    "# Evaluate"
   ]
  },
  {
   "cell_type": "markdown",
   "id": "febee4e0-88ea-4d07-95d8-7c7a3114815b",
   "metadata": {},
   "source": [
    "## Ranking metrics"
   ]
  },
  {
   "cell_type": "code",
   "execution_count": 22,
   "id": "13f0285d-a482-4a33-8dce-e72fc445c6f5",
   "metadata": {},
   "outputs": [
    {
     "data": {
      "application/vnd.jupyter.widget-view+json": {
       "model_id": "e4c02ab4f6204beea307b9a14a48fa77",
       "version_major": 2,
       "version_minor": 0
      },
      "text/plain": [
       "Generating Recommendations:   0%|          | 0/1898 [00:00<?, ?it/s]"
      ]
     },
     "metadata": {},
     "output_type": "display_data"
    }
   ],
   "source": [
    "recommendations = model.recommend(val_user_indices, k=args.top_K)"
   ]
  },
  {
   "cell_type": "code",
   "execution_count": 23,
   "id": "5ae32aa8-b14d-4e88-bf0f-31b1df76c6aa",
   "metadata": {
    "scrolled": true
   },
   "outputs": [
    {
     "data": {
      "text/html": [
       "<div>\n",
       "<style scoped>\n",
       "    .dataframe tbody tr th:only-of-type {\n",
       "        vertical-align: middle;\n",
       "    }\n",
       "\n",
       "    .dataframe tbody tr th {\n",
       "        vertical-align: top;\n",
       "    }\n",
       "\n",
       "    .dataframe thead th {\n",
       "        text-align: right;\n",
       "    }\n",
       "</style>\n",
       "<table border=\"1\" class=\"dataframe\">\n",
       "  <thead>\n",
       "    <tr style=\"text-align: right;\">\n",
       "      <th></th>\n",
       "      <th>user_indice</th>\n",
       "      <th>recommendation</th>\n",
       "      <th>score</th>\n",
       "      <th>rec_ranking</th>\n",
       "      <th>user_id</th>\n",
       "      <th>parent_asin</th>\n",
       "    </tr>\n",
       "  </thead>\n",
       "  <tbody>\n",
       "    <tr>\n",
       "      <th>0</th>\n",
       "      <td>11638</td>\n",
       "      <td>3462</td>\n",
       "      <td>0.993307</td>\n",
       "      <td>1.0</td>\n",
       "      <td>AHO3T4INZKH5C7IIV5JERA3H2SKQ</td>\n",
       "      <td>B004LLHFEI</td>\n",
       "    </tr>\n",
       "    <tr>\n",
       "      <th>1</th>\n",
       "      <td>11638</td>\n",
       "      <td>442</td>\n",
       "      <td>0.993307</td>\n",
       "      <td>2.0</td>\n",
       "      <td>AHO3T4INZKH5C7IIV5JERA3H2SKQ</td>\n",
       "      <td>B013JDH8J0</td>\n",
       "    </tr>\n",
       "    <tr>\n",
       "      <th>2</th>\n",
       "      <td>11638</td>\n",
       "      <td>1222</td>\n",
       "      <td>0.993307</td>\n",
       "      <td>3.0</td>\n",
       "      <td>AHO3T4INZKH5C7IIV5JERA3H2SKQ</td>\n",
       "      <td>B008MWIALE</td>\n",
       "    </tr>\n",
       "    <tr>\n",
       "      <th>3</th>\n",
       "      <td>11638</td>\n",
       "      <td>3953</td>\n",
       "      <td>0.993307</td>\n",
       "      <td>4.0</td>\n",
       "      <td>AHO3T4INZKH5C7IIV5JERA3H2SKQ</td>\n",
       "      <td>B073ST27MK</td>\n",
       "    </tr>\n",
       "    <tr>\n",
       "      <th>4</th>\n",
       "      <td>11638</td>\n",
       "      <td>3954</td>\n",
       "      <td>0.993307</td>\n",
       "      <td>5.0</td>\n",
       "      <td>AHO3T4INZKH5C7IIV5JERA3H2SKQ</td>\n",
       "      <td>B0050SVGXM</td>\n",
       "    </tr>\n",
       "    <tr>\n",
       "      <th>...</th>\n",
       "      <td>...</td>\n",
       "      <td>...</td>\n",
       "      <td>...</td>\n",
       "      <td>...</td>\n",
       "      <td>...</td>\n",
       "      <td>...</td>\n",
       "    </tr>\n",
       "    <tr>\n",
       "      <th>189795</th>\n",
       "      <td>10038</td>\n",
       "      <td>4200</td>\n",
       "      <td>0.993307</td>\n",
       "      <td>196.0</td>\n",
       "      <td>AHAKU6TTWIHJPZIODW7MGC52M2DA</td>\n",
       "      <td>B00JA81WQE</td>\n",
       "    </tr>\n",
       "    <tr>\n",
       "      <th>189796</th>\n",
       "      <td>10038</td>\n",
       "      <td>1169</td>\n",
       "      <td>0.993307</td>\n",
       "      <td>197.0</td>\n",
       "      <td>AHAKU6TTWIHJPZIODW7MGC52M2DA</td>\n",
       "      <td>B00KSY5486</td>\n",
       "    </tr>\n",
       "    <tr>\n",
       "      <th>189797</th>\n",
       "      <td>10038</td>\n",
       "      <td>3414</td>\n",
       "      <td>0.993307</td>\n",
       "      <td>198.0</td>\n",
       "      <td>AHAKU6TTWIHJPZIODW7MGC52M2DA</td>\n",
       "      <td>B06XS4XXFT</td>\n",
       "    </tr>\n",
       "    <tr>\n",
       "      <th>189798</th>\n",
       "      <td>10038</td>\n",
       "      <td>1655</td>\n",
       "      <td>0.993307</td>\n",
       "      <td>199.0</td>\n",
       "      <td>AHAKU6TTWIHJPZIODW7MGC52M2DA</td>\n",
       "      <td>B01NCVU39G</td>\n",
       "    </tr>\n",
       "    <tr>\n",
       "      <th>189799</th>\n",
       "      <td>10038</td>\n",
       "      <td>906</td>\n",
       "      <td>0.993307</td>\n",
       "      <td>200.0</td>\n",
       "      <td>AHAKU6TTWIHJPZIODW7MGC52M2DA</td>\n",
       "      <td>B00006LEMX</td>\n",
       "    </tr>\n",
       "  </tbody>\n",
       "</table>\n",
       "<p>189800 rows × 6 columns</p>\n",
       "</div>"
      ],
      "text/plain": [
       "        user_indice  recommendation     score  rec_ranking  \\\n",
       "0             11638            3462  0.993307          1.0   \n",
       "1             11638             442  0.993307          2.0   \n",
       "2             11638            1222  0.993307          3.0   \n",
       "3             11638            3953  0.993307          4.0   \n",
       "4             11638            3954  0.993307          5.0   \n",
       "...             ...             ...       ...          ...   \n",
       "189795        10038            4200  0.993307        196.0   \n",
       "189796        10038            1169  0.993307        197.0   \n",
       "189797        10038            3414  0.993307        198.0   \n",
       "189798        10038            1655  0.993307        199.0   \n",
       "189799        10038             906  0.993307        200.0   \n",
       "\n",
       "                             user_id parent_asin  \n",
       "0       AHO3T4INZKH5C7IIV5JERA3H2SKQ  B004LLHFEI  \n",
       "1       AHO3T4INZKH5C7IIV5JERA3H2SKQ  B013JDH8J0  \n",
       "2       AHO3T4INZKH5C7IIV5JERA3H2SKQ  B008MWIALE  \n",
       "3       AHO3T4INZKH5C7IIV5JERA3H2SKQ  B073ST27MK  \n",
       "4       AHO3T4INZKH5C7IIV5JERA3H2SKQ  B0050SVGXM  \n",
       "...                              ...         ...  \n",
       "189795  AHAKU6TTWIHJPZIODW7MGC52M2DA  B00JA81WQE  \n",
       "189796  AHAKU6TTWIHJPZIODW7MGC52M2DA  B00KSY5486  \n",
       "189797  AHAKU6TTWIHJPZIODW7MGC52M2DA  B06XS4XXFT  \n",
       "189798  AHAKU6TTWIHJPZIODW7MGC52M2DA  B01NCVU39G  \n",
       "189799  AHAKU6TTWIHJPZIODW7MGC52M2DA  B00006LEMX  \n",
       "\n",
       "[189800 rows x 6 columns]"
      ]
     },
     "execution_count": 23,
     "metadata": {},
     "output_type": "execute_result"
    }
   ],
   "source": [
    "recommendations_df = pd.DataFrame(recommendations).pipe(create_rec_df, idm)\n",
    "recommendations_df"
   ]
  },
  {
   "cell_type": "code",
   "execution_count": 24,
   "id": "2702e214-ba09-4e61-a479-623196d04a94",
   "metadata": {},
   "outputs": [
    {
     "data": {
      "text/html": [
       "<div>\n",
       "<style scoped>\n",
       "    .dataframe tbody tr th:only-of-type {\n",
       "        vertical-align: middle;\n",
       "    }\n",
       "\n",
       "    .dataframe tbody tr th {\n",
       "        vertical-align: top;\n",
       "    }\n",
       "\n",
       "    .dataframe thead th {\n",
       "        text-align: right;\n",
       "    }\n",
       "</style>\n",
       "<table border=\"1\" class=\"dataframe\">\n",
       "  <thead>\n",
       "    <tr style=\"text-align: right;\">\n",
       "      <th></th>\n",
       "      <th>user_id</th>\n",
       "      <th>parent_asin</th>\n",
       "      <th>rating</th>\n",
       "      <th>rating_rank</th>\n",
       "    </tr>\n",
       "  </thead>\n",
       "  <tbody>\n",
       "    <tr>\n",
       "      <th>548</th>\n",
       "      <td>AFI3SEGKSS7X7CVOC3HS5U5RAIWQ</td>\n",
       "      <td>B077GG9D5D</td>\n",
       "      <td>5.0</td>\n",
       "      <td>1.0</td>\n",
       "    </tr>\n",
       "    <tr>\n",
       "      <th>697</th>\n",
       "      <td>AGDFPA6XVENIY7XJPIOXBUHRJQ6A</td>\n",
       "      <td>B09V25XG1G</td>\n",
       "      <td>5.0</td>\n",
       "      <td>1.0</td>\n",
       "    </tr>\n",
       "    <tr>\n",
       "      <th>109</th>\n",
       "      <td>AHMJVCKVHJIT2R5NWWV4HG4TDH6A</td>\n",
       "      <td>B07C2XYDW8</td>\n",
       "      <td>5.0</td>\n",
       "      <td>1.0</td>\n",
       "    </tr>\n",
       "    <tr>\n",
       "      <th>197</th>\n",
       "      <td>AGQAPJGNR3IDAJCPD2YPU7CRRPBA</td>\n",
       "      <td>B0C7BN9G35</td>\n",
       "      <td>5.0</td>\n",
       "      <td>1.0</td>\n",
       "    </tr>\n",
       "    <tr>\n",
       "      <th>797</th>\n",
       "      <td>AF6IUPCJM4FDNOQZNCDOGTLM2M4Q</td>\n",
       "      <td>B09T5VN7D1</td>\n",
       "      <td>4.0</td>\n",
       "      <td>1.0</td>\n",
       "    </tr>\n",
       "    <tr>\n",
       "      <th>...</th>\n",
       "      <td>...</td>\n",
       "      <td>...</td>\n",
       "      <td>...</td>\n",
       "      <td>...</td>\n",
       "    </tr>\n",
       "    <tr>\n",
       "      <th>850</th>\n",
       "      <td>AFB6FYPPCN33UMUU5536IHXNOHCQ</td>\n",
       "      <td>B001E8WQJA</td>\n",
       "      <td>0.0</td>\n",
       "      <td>18.0</td>\n",
       "    </tr>\n",
       "    <tr>\n",
       "      <th>1106</th>\n",
       "      <td>AG4RCXKPTC6QRORJLUSBY4SO2IAA</td>\n",
       "      <td>B00DBLBMBQ</td>\n",
       "      <td>0.0</td>\n",
       "      <td>18.0</td>\n",
       "    </tr>\n",
       "    <tr>\n",
       "      <th>1003</th>\n",
       "      <td>AESD4RLWUKM6JTD6SNNWYLHLLQQA</td>\n",
       "      <td>B00Z9TMBOU</td>\n",
       "      <td>0.0</td>\n",
       "      <td>18.0</td>\n",
       "    </tr>\n",
       "    <tr>\n",
       "      <th>52</th>\n",
       "      <td>AFB6FYPPCN33UMUU5536IHXNOHCQ</td>\n",
       "      <td>B0892HRCST</td>\n",
       "      <td>0.0</td>\n",
       "      <td>19.0</td>\n",
       "    </tr>\n",
       "    <tr>\n",
       "      <th>524</th>\n",
       "      <td>AFB6FYPPCN33UMUU5536IHXNOHCQ</td>\n",
       "      <td>B006HZA8EA</td>\n",
       "      <td>0.0</td>\n",
       "      <td>20.0</td>\n",
       "    </tr>\n",
       "  </tbody>\n",
       "</table>\n",
       "<p>1898 rows × 4 columns</p>\n",
       "</div>"
      ],
      "text/plain": [
       "                           user_id parent_asin  rating  rating_rank\n",
       "548   AFI3SEGKSS7X7CVOC3HS5U5RAIWQ  B077GG9D5D     5.0          1.0\n",
       "697   AGDFPA6XVENIY7XJPIOXBUHRJQ6A  B09V25XG1G     5.0          1.0\n",
       "109   AHMJVCKVHJIT2R5NWWV4HG4TDH6A  B07C2XYDW8     5.0          1.0\n",
       "197   AGQAPJGNR3IDAJCPD2YPU7CRRPBA  B0C7BN9G35     5.0          1.0\n",
       "797   AF6IUPCJM4FDNOQZNCDOGTLM2M4Q  B09T5VN7D1     4.0          1.0\n",
       "...                            ...         ...     ...          ...\n",
       "850   AFB6FYPPCN33UMUU5536IHXNOHCQ  B001E8WQJA     0.0         18.0\n",
       "1106  AG4RCXKPTC6QRORJLUSBY4SO2IAA  B00DBLBMBQ     0.0         18.0\n",
       "1003  AESD4RLWUKM6JTD6SNNWYLHLLQQA  B00Z9TMBOU     0.0         18.0\n",
       "52    AFB6FYPPCN33UMUU5536IHXNOHCQ  B0892HRCST     0.0         19.0\n",
       "524   AFB6FYPPCN33UMUU5536IHXNOHCQ  B006HZA8EA     0.0         20.0\n",
       "\n",
       "[1898 rows x 4 columns]"
      ]
     },
     "execution_count": 24,
     "metadata": {},
     "output_type": "execute_result"
    }
   ],
   "source": [
    "label_df = create_label_df(val_df)\n",
    "label_df"
   ]
  },
  {
   "cell_type": "code",
   "execution_count": 25,
   "id": "86f1186e-2382-456e-b7ce-46de20b2aba2",
   "metadata": {
    "scrolled": true
   },
   "outputs": [
    {
     "data": {
      "text/html": [
       "<div>\n",
       "<style scoped>\n",
       "    .dataframe tbody tr th:only-of-type {\n",
       "        vertical-align: middle;\n",
       "    }\n",
       "\n",
       "    .dataframe tbody tr th {\n",
       "        vertical-align: top;\n",
       "    }\n",
       "\n",
       "    .dataframe thead th {\n",
       "        text-align: right;\n",
       "    }\n",
       "</style>\n",
       "<table border=\"1\" class=\"dataframe\">\n",
       "  <thead>\n",
       "    <tr style=\"text-align: right;\">\n",
       "      <th></th>\n",
       "      <th>user_indice</th>\n",
       "      <th>recommendation</th>\n",
       "      <th>score</th>\n",
       "      <th>rec_ranking</th>\n",
       "      <th>user_id</th>\n",
       "      <th>parent_asin</th>\n",
       "      <th>rating</th>\n",
       "      <th>rating_rank</th>\n",
       "    </tr>\n",
       "  </thead>\n",
       "  <tbody>\n",
       "    <tr>\n",
       "      <th>37</th>\n",
       "      <td>14192.0</td>\n",
       "      <td>2591.0</td>\n",
       "      <td>0.993307</td>\n",
       "      <td>1</td>\n",
       "      <td>AE2AZ2MNROPF33U6SS53VI22OXJA</td>\n",
       "      <td>B001EYUQKU</td>\n",
       "      <td>0</td>\n",
       "      <td>NaN</td>\n",
       "    </tr>\n",
       "    <tr>\n",
       "      <th>91</th>\n",
       "      <td>14192.0</td>\n",
       "      <td>549.0</td>\n",
       "      <td>0.993307</td>\n",
       "      <td>2</td>\n",
       "      <td>AE2AZ2MNROPF33U6SS53VI22OXJA</td>\n",
       "      <td>B008J35YFQ</td>\n",
       "      <td>0</td>\n",
       "      <td>NaN</td>\n",
       "    </tr>\n",
       "    <tr>\n",
       "      <th>171</th>\n",
       "      <td>14192.0</td>\n",
       "      <td>336.0</td>\n",
       "      <td>0.993307</td>\n",
       "      <td>3</td>\n",
       "      <td>AE2AZ2MNROPF33U6SS53VI22OXJA</td>\n",
       "      <td>B07V3T7WF1</td>\n",
       "      <td>0</td>\n",
       "      <td>NaN</td>\n",
       "    </tr>\n",
       "    <tr>\n",
       "      <th>95</th>\n",
       "      <td>14192.0</td>\n",
       "      <td>4557.0</td>\n",
       "      <td>0.993307</td>\n",
       "      <td>4</td>\n",
       "      <td>AE2AZ2MNROPF33U6SS53VI22OXJA</td>\n",
       "      <td>B00DC7G3Q8</td>\n",
       "      <td>0</td>\n",
       "      <td>NaN</td>\n",
       "    </tr>\n",
       "    <tr>\n",
       "      <th>169</th>\n",
       "      <td>14192.0</td>\n",
       "      <td>2080.0</td>\n",
       "      <td>0.993307</td>\n",
       "      <td>5</td>\n",
       "      <td>AE2AZ2MNROPF33U6SS53VI22OXJA</td>\n",
       "      <td>B07SV4RKZ7</td>\n",
       "      <td>0</td>\n",
       "      <td>NaN</td>\n",
       "    </tr>\n",
       "    <tr>\n",
       "      <th>...</th>\n",
       "      <td>...</td>\n",
       "      <td>...</td>\n",
       "      <td>...</td>\n",
       "      <td>...</td>\n",
       "      <td>...</td>\n",
       "      <td>...</td>\n",
       "      <td>...</td>\n",
       "      <td>...</td>\n",
       "    </tr>\n",
       "    <tr>\n",
       "      <th>191504</th>\n",
       "      <td>16101.0</td>\n",
       "      <td>4293.0</td>\n",
       "      <td>0.993307</td>\n",
       "      <td>196</td>\n",
       "      <td>AHZNHP6OKXRZV2UJMYDPLWCKFKEA</td>\n",
       "      <td>B003Y7RB76</td>\n",
       "      <td>0</td>\n",
       "      <td>NaN</td>\n",
       "    </tr>\n",
       "    <tr>\n",
       "      <th>191566</th>\n",
       "      <td>16101.0</td>\n",
       "      <td>3767.0</td>\n",
       "      <td>0.993307</td>\n",
       "      <td>197</td>\n",
       "      <td>AHZNHP6OKXRZV2UJMYDPLWCKFKEA</td>\n",
       "      <td>B00QLWZWMW</td>\n",
       "      <td>0</td>\n",
       "      <td>NaN</td>\n",
       "    </tr>\n",
       "    <tr>\n",
       "      <th>191461</th>\n",
       "      <td>16101.0</td>\n",
       "      <td>4283.0</td>\n",
       "      <td>0.993307</td>\n",
       "      <td>198</td>\n",
       "      <td>AHZNHP6OKXRZV2UJMYDPLWCKFKEA</td>\n",
       "      <td>B000NDFFFE</td>\n",
       "      <td>0</td>\n",
       "      <td>NaN</td>\n",
       "    </tr>\n",
       "    <tr>\n",
       "      <th>191530</th>\n",
       "      <td>16101.0</td>\n",
       "      <td>1517.0</td>\n",
       "      <td>0.993307</td>\n",
       "      <td>199</td>\n",
       "      <td>AHZNHP6OKXRZV2UJMYDPLWCKFKEA</td>\n",
       "      <td>B00DBRNRPE</td>\n",
       "      <td>0</td>\n",
       "      <td>NaN</td>\n",
       "    </tr>\n",
       "    <tr>\n",
       "      <th>191612</th>\n",
       "      <td>16101.0</td>\n",
       "      <td>1511.0</td>\n",
       "      <td>0.993307</td>\n",
       "      <td>200</td>\n",
       "      <td>AHZNHP6OKXRZV2UJMYDPLWCKFKEA</td>\n",
       "      <td>B071Y492GH</td>\n",
       "      <td>0</td>\n",
       "      <td>NaN</td>\n",
       "    </tr>\n",
       "  </tbody>\n",
       "</table>\n",
       "<p>191638 rows × 8 columns</p>\n",
       "</div>"
      ],
      "text/plain": [
       "        user_indice  recommendation     score  rec_ranking  \\\n",
       "37          14192.0          2591.0  0.993307            1   \n",
       "91          14192.0           549.0  0.993307            2   \n",
       "171         14192.0           336.0  0.993307            3   \n",
       "95          14192.0          4557.0  0.993307            4   \n",
       "169         14192.0          2080.0  0.993307            5   \n",
       "...             ...             ...       ...          ...   \n",
       "191504      16101.0          4293.0  0.993307          196   \n",
       "191566      16101.0          3767.0  0.993307          197   \n",
       "191461      16101.0          4283.0  0.993307          198   \n",
       "191530      16101.0          1517.0  0.993307          199   \n",
       "191612      16101.0          1511.0  0.993307          200   \n",
       "\n",
       "                             user_id parent_asin  rating  rating_rank  \n",
       "37      AE2AZ2MNROPF33U6SS53VI22OXJA  B001EYUQKU       0          NaN  \n",
       "91      AE2AZ2MNROPF33U6SS53VI22OXJA  B008J35YFQ       0          NaN  \n",
       "171     AE2AZ2MNROPF33U6SS53VI22OXJA  B07V3T7WF1       0          NaN  \n",
       "95      AE2AZ2MNROPF33U6SS53VI22OXJA  B00DC7G3Q8       0          NaN  \n",
       "169     AE2AZ2MNROPF33U6SS53VI22OXJA  B07SV4RKZ7       0          NaN  \n",
       "...                              ...         ...     ...          ...  \n",
       "191504  AHZNHP6OKXRZV2UJMYDPLWCKFKEA  B003Y7RB76       0          NaN  \n",
       "191566  AHZNHP6OKXRZV2UJMYDPLWCKFKEA  B00QLWZWMW       0          NaN  \n",
       "191461  AHZNHP6OKXRZV2UJMYDPLWCKFKEA  B000NDFFFE       0          NaN  \n",
       "191530  AHZNHP6OKXRZV2UJMYDPLWCKFKEA  B00DBRNRPE       0          NaN  \n",
       "191612  AHZNHP6OKXRZV2UJMYDPLWCKFKEA  B071Y492GH       0          NaN  \n",
       "\n",
       "[191638 rows x 8 columns]"
      ]
     },
     "execution_count": 25,
     "metadata": {},
     "output_type": "execute_result"
    }
   ],
   "source": [
    "eval_df = merge_recs_with_target(recommendations_df, label_df, k=args.top_K)\n",
    "eval_df"
   ]
  },
  {
   "cell_type": "code",
   "execution_count": 26,
   "id": "105850af-291c-4187-9671-8208c0afc6bb",
   "metadata": {},
   "outputs": [
    {
     "name": "stderr",
     "output_type": "stream",
     "text": [
      "/Users/dvq/frostmourne/reco-algo/.venv/lib/python3.11/site-packages/evidently/metrics/recsys/f_beta_top_k.py:61: RuntimeWarning: invalid value encountered in divide\n",
      "  return (1 + beta_sqr) * precision_arr * recall_arr / (beta_sqr * precision_arr + recall_arr)\n"
     ]
    }
   ],
   "source": [
    "ranking_report = log_ranking_metrics(args, eval_df)"
   ]
  },
  {
   "cell_type": "markdown",
   "id": "b3eb2dbc-864b-4f5c-8361-901f090363ff",
   "metadata": {},
   "source": [
    "## Classification metrics"
   ]
  },
  {
   "cell_type": "code",
   "execution_count": 27,
   "id": "e37258b7-d439-48bd-8380-8cf239cb5f3f",
   "metadata": {},
   "outputs": [],
   "source": [
    "val_user_indices = val_df[\"user_indice\"].values\n",
    "val_item_indices = val_df[\"item_indice\"].values"
   ]
  },
  {
   "cell_type": "code",
   "execution_count": 28,
   "id": "bc7a8dfa-dea6-459e-b9cd-000ba18cdc45",
   "metadata": {},
   "outputs": [],
   "source": [
    "classifications = model.predict(val_user_indices, val_item_indices)"
   ]
  },
  {
   "cell_type": "code",
   "execution_count": 29,
   "id": "736db564-303a-4d6a-a1f6-3c274c698826",
   "metadata": {
    "scrolled": true
   },
   "outputs": [
    {
     "data": {
      "text/html": [
       "<div>\n",
       "<style scoped>\n",
       "    .dataframe tbody tr th:only-of-type {\n",
       "        vertical-align: middle;\n",
       "    }\n",
       "\n",
       "    .dataframe tbody tr th {\n",
       "        vertical-align: top;\n",
       "    }\n",
       "\n",
       "    .dataframe thead th {\n",
       "        text-align: right;\n",
       "    }\n",
       "</style>\n",
       "<table border=\"1\" class=\"dataframe\">\n",
       "  <thead>\n",
       "    <tr style=\"text-align: right;\">\n",
       "      <th></th>\n",
       "      <th>user_id</th>\n",
       "      <th>parent_asin</th>\n",
       "      <th>rating</th>\n",
       "      <th>timestamp</th>\n",
       "      <th>user_indice</th>\n",
       "      <th>item_indice</th>\n",
       "      <th>main_category</th>\n",
       "      <th>title</th>\n",
       "      <th>description</th>\n",
       "      <th>categories</th>\n",
       "      <th>price</th>\n",
       "      <th>item_sequence</th>\n",
       "      <th>classification_proba</th>\n",
       "      <th>label</th>\n",
       "    </tr>\n",
       "  </thead>\n",
       "  <tbody>\n",
       "    <tr>\n",
       "      <th>0</th>\n",
       "      <td>AHO3T4INZKH5C7IIV5JERA3H2SKQ</td>\n",
       "      <td>B01GY35QPU</td>\n",
       "      <td>0.0</td>\n",
       "      <td>1638057548682</td>\n",
       "      <td>11638</td>\n",
       "      <td>1902</td>\n",
       "      <td>Video Games</td>\n",
       "      <td>Detroit Become Human - PlayStation 4</td>\n",
       "      <td>[Detroit: Become Human is the latest title in ...</td>\n",
       "      <td>[Video Games, PlayStation 4, Games]</td>\n",
       "      <td>21.4</td>\n",
       "      <td>[3579, 878, 434, 1579, 3669, 3322, 3495, 2339,...</td>\n",
       "      <td>0.500000</td>\n",
       "      <td>0</td>\n",
       "    </tr>\n",
       "    <tr>\n",
       "      <th>1</th>\n",
       "      <td>AEMYS2WV33NDV3OAJFOM7SSSIDTA</td>\n",
       "      <td>B0088TN7BO</td>\n",
       "      <td>0.0</td>\n",
       "      <td>1640914537652</td>\n",
       "      <td>14788</td>\n",
       "      <td>2180</td>\n",
       "      <td>Video Games</td>\n",
       "      <td>LEGO Lord of the Rings - Nintendo 3DS</td>\n",
       "      <td>[Product Description, Based on The Lord of the...</td>\n",
       "      <td>[Video Games, Legacy Systems, Nintendo Systems...</td>\n",
       "      <td>19.95</td>\n",
       "      <td>[-1, -1, -1, -1, -1, 3244, 2872, 2621, 3048, 3...</td>\n",
       "      <td>0.500000</td>\n",
       "      <td>0</td>\n",
       "    </tr>\n",
       "    <tr>\n",
       "      <th>2</th>\n",
       "      <td>AEXKGQQMYQQUNWVGD66TG3VT4V4A</td>\n",
       "      <td>B00IPTUJ8G</td>\n",
       "      <td>0.0</td>\n",
       "      <td>1653120417877</td>\n",
       "      <td>19789</td>\n",
       "      <td>4619</td>\n",
       "      <td>Video Games</td>\n",
       "      <td>Borderlands 2</td>\n",
       "      <td>[Borderlands 2 for PS Vita, View Larger, View ...</td>\n",
       "      <td>[Video Games, Legacy Systems, PlayStation Syst...</td>\n",
       "      <td>48.1</td>\n",
       "      <td>[-1, -1, -1, -1, -1, 2358, 3142, 4521, 2292, 2...</td>\n",
       "      <td>0.951095</td>\n",
       "      <td>0</td>\n",
       "    </tr>\n",
       "    <tr>\n",
       "      <th>3</th>\n",
       "      <td>AGQAPJGNR3IDAJCPD2YPU7CRRPBA</td>\n",
       "      <td>B00CMQTVK0</td>\n",
       "      <td>0.0</td>\n",
       "      <td>1643392366551</td>\n",
       "      <td>6414</td>\n",
       "      <td>1765</td>\n",
       "      <td>Video Games</td>\n",
       "      <td>Xbox One with Kinect (Day One Edition)</td>\n",
       "      <td>[Get more with Xbox One., Introducing Xbox One...</td>\n",
       "      <td>[Video Games, Xbox One, Consoles]</td>\n",
       "      <td>589.99</td>\n",
       "      <td>[-1, -1, -1, -1, 3142, 4274, 4345, 809, 416, 1...</td>\n",
       "      <td>0.993307</td>\n",
       "      <td>0</td>\n",
       "    </tr>\n",
       "    <tr>\n",
       "      <th>4</th>\n",
       "      <td>AGIJWTPKBANKWNEM2AHK7PWTBYLQ</td>\n",
       "      <td>B01BF9X9VQ</td>\n",
       "      <td>0.0</td>\n",
       "      <td>1647513889874</td>\n",
       "      <td>1195</td>\n",
       "      <td>2412</td>\n",
       "      <td>Video Games</td>\n",
       "      <td>World of Warcraft: Legion - Standard Edition -...</td>\n",
       "      <td>[Kingdoms will burn, The Burning Legion surges...</td>\n",
       "      <td>[Video Games, PC, Games]</td>\n",
       "      <td>28.6</td>\n",
       "      <td>[170, 3609, 1588, 1467, 3786, 1627, 4234, 3056...</td>\n",
       "      <td>0.964872</td>\n",
       "      <td>0</td>\n",
       "    </tr>\n",
       "    <tr>\n",
       "      <th>...</th>\n",
       "      <td>...</td>\n",
       "      <td>...</td>\n",
       "      <td>...</td>\n",
       "      <td>...</td>\n",
       "      <td>...</td>\n",
       "      <td>...</td>\n",
       "      <td>...</td>\n",
       "      <td>...</td>\n",
       "      <td>...</td>\n",
       "      <td>...</td>\n",
       "      <td>...</td>\n",
       "      <td>...</td>\n",
       "      <td>...</td>\n",
       "      <td>...</td>\n",
       "    </tr>\n",
       "    <tr>\n",
       "      <th>1893</th>\n",
       "      <td>AF5T2J7T33UFSPUGCKTPTGU7EY7A</td>\n",
       "      <td>B008I2LRMC</td>\n",
       "      <td>0.0</td>\n",
       "      <td>1654892101229</td>\n",
       "      <td>14749</td>\n",
       "      <td>1743</td>\n",
       "      <td>Video Games</td>\n",
       "      <td>F1: 2012</td>\n",
       "      <td>[Product Description, F1 2012 is designed to b...</td>\n",
       "      <td>[Video Games, Legacy Systems, Xbox Systems, Xb...</td>\n",
       "      <td>33.03</td>\n",
       "      <td>[601, 1842, 3391, 2640, 761, 3624, 1079, 2656,...</td>\n",
       "      <td>0.500000</td>\n",
       "      <td>0</td>\n",
       "    </tr>\n",
       "    <tr>\n",
       "      <th>1894</th>\n",
       "      <td>AGXQLR7TWHVUQLDBKKOBI4OQQGRQ</td>\n",
       "      <td>B01N3ASPNV</td>\n",
       "      <td>0.0</td>\n",
       "      <td>1637285457188</td>\n",
       "      <td>8208</td>\n",
       "      <td>3069</td>\n",
       "      <td>All Electronics</td>\n",
       "      <td>amFilm Tempered Glass Screen Protector for Nin...</td>\n",
       "      <td>[]</td>\n",
       "      <td>[Video Games, Nintendo Switch, Accessories, Fa...</td>\n",
       "      <td>8.91</td>\n",
       "      <td>[-1, -1, 4227, 1039, 1352, 2619, 2655, 1305, 1...</td>\n",
       "      <td>0.988852</td>\n",
       "      <td>0</td>\n",
       "    </tr>\n",
       "    <tr>\n",
       "      <th>1895</th>\n",
       "      <td>AFH63KLSVQQYRNFS7NLQGD3GSP3A</td>\n",
       "      <td>B094YHB1QK</td>\n",
       "      <td>5.0</td>\n",
       "      <td>1652564728981</td>\n",
       "      <td>9221</td>\n",
       "      <td>2581</td>\n",
       "      <td>Video Games</td>\n",
       "      <td>PlayStation DualSense Wireless Controller – Ga...</td>\n",
       "      <td>[Plot a course for astronomical adventures on ...</td>\n",
       "      <td>[Video Games, PlayStation 5, Accessories, Cont...</td>\n",
       "      <td>74.99</td>\n",
       "      <td>[-1, 2705, 3691, 1804, 111, 3330, 1775, 2979, ...</td>\n",
       "      <td>0.993307</td>\n",
       "      <td>1</td>\n",
       "    </tr>\n",
       "    <tr>\n",
       "      <th>1896</th>\n",
       "      <td>AFPPTJOEUPVXA5C63SNRGID3EQNA</td>\n",
       "      <td>B0BVVTQ5JP</td>\n",
       "      <td>4.0</td>\n",
       "      <td>1635968491390</td>\n",
       "      <td>4173</td>\n",
       "      <td>3191</td>\n",
       "      <td>Computers</td>\n",
       "      <td>Logitech G502 HERO High Performance Wired Gami...</td>\n",
       "      <td>[Logitech updated its iconic G502 gaming mouse...</td>\n",
       "      <td>[Video Games, PC, Accessories, Gaming Mice]</td>\n",
       "      <td>45.87</td>\n",
       "      <td>[-1, -1, -1, -1, -1, 2379, 1799, 1932, 1568, 161]</td>\n",
       "      <td>0.973120</td>\n",
       "      <td>1</td>\n",
       "    </tr>\n",
       "    <tr>\n",
       "      <th>1897</th>\n",
       "      <td>AHAKU6TTWIHJPZIODW7MGC52M2DA</td>\n",
       "      <td>B06Y2GDXMC</td>\n",
       "      <td>5.0</td>\n",
       "      <td>1639190433307</td>\n",
       "      <td>10038</td>\n",
       "      <td>3586</td>\n",
       "      <td>Video Games</td>\n",
       "      <td>HTC Vive Deluxe Audio Strap</td>\n",
       "      <td>[The Vive Deluxe Audio Strap provides integrat...</td>\n",
       "      <td>[Video Games, PC, Virtual Reality, Accessories]</td>\n",
       "      <td>66.64</td>\n",
       "      <td>[-1, -1, 886, 1511, 3814, 3232, 3090, 1071, 30...</td>\n",
       "      <td>0.990986</td>\n",
       "      <td>1</td>\n",
       "    </tr>\n",
       "  </tbody>\n",
       "</table>\n",
       "<p>1898 rows × 14 columns</p>\n",
       "</div>"
      ],
      "text/plain": [
       "                           user_id parent_asin  rating      timestamp  \\\n",
       "0     AHO3T4INZKH5C7IIV5JERA3H2SKQ  B01GY35QPU     0.0  1638057548682   \n",
       "1     AEMYS2WV33NDV3OAJFOM7SSSIDTA  B0088TN7BO     0.0  1640914537652   \n",
       "2     AEXKGQQMYQQUNWVGD66TG3VT4V4A  B00IPTUJ8G     0.0  1653120417877   \n",
       "3     AGQAPJGNR3IDAJCPD2YPU7CRRPBA  B00CMQTVK0     0.0  1643392366551   \n",
       "4     AGIJWTPKBANKWNEM2AHK7PWTBYLQ  B01BF9X9VQ     0.0  1647513889874   \n",
       "...                            ...         ...     ...            ...   \n",
       "1893  AF5T2J7T33UFSPUGCKTPTGU7EY7A  B008I2LRMC     0.0  1654892101229   \n",
       "1894  AGXQLR7TWHVUQLDBKKOBI4OQQGRQ  B01N3ASPNV     0.0  1637285457188   \n",
       "1895  AFH63KLSVQQYRNFS7NLQGD3GSP3A  B094YHB1QK     5.0  1652564728981   \n",
       "1896  AFPPTJOEUPVXA5C63SNRGID3EQNA  B0BVVTQ5JP     4.0  1635968491390   \n",
       "1897  AHAKU6TTWIHJPZIODW7MGC52M2DA  B06Y2GDXMC     5.0  1639190433307   \n",
       "\n",
       "      user_indice  item_indice    main_category  \\\n",
       "0           11638         1902      Video Games   \n",
       "1           14788         2180      Video Games   \n",
       "2           19789         4619      Video Games   \n",
       "3            6414         1765      Video Games   \n",
       "4            1195         2412      Video Games   \n",
       "...           ...          ...              ...   \n",
       "1893        14749         1743      Video Games   \n",
       "1894         8208         3069  All Electronics   \n",
       "1895         9221         2581      Video Games   \n",
       "1896         4173         3191        Computers   \n",
       "1897        10038         3586      Video Games   \n",
       "\n",
       "                                                  title  \\\n",
       "0                  Detroit Become Human - PlayStation 4   \n",
       "1                 LEGO Lord of the Rings - Nintendo 3DS   \n",
       "2                                         Borderlands 2   \n",
       "3                Xbox One with Kinect (Day One Edition)   \n",
       "4     World of Warcraft: Legion - Standard Edition -...   \n",
       "...                                                 ...   \n",
       "1893                                           F1: 2012   \n",
       "1894  amFilm Tempered Glass Screen Protector for Nin...   \n",
       "1895  PlayStation DualSense Wireless Controller – Ga...   \n",
       "1896  Logitech G502 HERO High Performance Wired Gami...   \n",
       "1897                        HTC Vive Deluxe Audio Strap   \n",
       "\n",
       "                                            description  \\\n",
       "0     [Detroit: Become Human is the latest title in ...   \n",
       "1     [Product Description, Based on The Lord of the...   \n",
       "2     [Borderlands 2 for PS Vita, View Larger, View ...   \n",
       "3     [Get more with Xbox One., Introducing Xbox One...   \n",
       "4     [Kingdoms will burn, The Burning Legion surges...   \n",
       "...                                                 ...   \n",
       "1893  [Product Description, F1 2012 is designed to b...   \n",
       "1894                                                 []   \n",
       "1895  [Plot a course for astronomical adventures on ...   \n",
       "1896  [Logitech updated its iconic G502 gaming mouse...   \n",
       "1897  [The Vive Deluxe Audio Strap provides integrat...   \n",
       "\n",
       "                                             categories   price  \\\n",
       "0                   [Video Games, PlayStation 4, Games]    21.4   \n",
       "1     [Video Games, Legacy Systems, Nintendo Systems...   19.95   \n",
       "2     [Video Games, Legacy Systems, PlayStation Syst...    48.1   \n",
       "3                     [Video Games, Xbox One, Consoles]  589.99   \n",
       "4                              [Video Games, PC, Games]    28.6   \n",
       "...                                                 ...     ...   \n",
       "1893  [Video Games, Legacy Systems, Xbox Systems, Xb...   33.03   \n",
       "1894  [Video Games, Nintendo Switch, Accessories, Fa...    8.91   \n",
       "1895  [Video Games, PlayStation 5, Accessories, Cont...   74.99   \n",
       "1896        [Video Games, PC, Accessories, Gaming Mice]   45.87   \n",
       "1897    [Video Games, PC, Virtual Reality, Accessories]   66.64   \n",
       "\n",
       "                                          item_sequence  classification_proba  \\\n",
       "0     [3579, 878, 434, 1579, 3669, 3322, 3495, 2339,...              0.500000   \n",
       "1     [-1, -1, -1, -1, -1, 3244, 2872, 2621, 3048, 3...              0.500000   \n",
       "2     [-1, -1, -1, -1, -1, 2358, 3142, 4521, 2292, 2...              0.951095   \n",
       "3     [-1, -1, -1, -1, 3142, 4274, 4345, 809, 416, 1...              0.993307   \n",
       "4     [170, 3609, 1588, 1467, 3786, 1627, 4234, 3056...              0.964872   \n",
       "...                                                 ...                   ...   \n",
       "1893  [601, 1842, 3391, 2640, 761, 3624, 1079, 2656,...              0.500000   \n",
       "1894  [-1, -1, 4227, 1039, 1352, 2619, 2655, 1305, 1...              0.988852   \n",
       "1895  [-1, 2705, 3691, 1804, 111, 3330, 1775, 2979, ...              0.993307   \n",
       "1896  [-1, -1, -1, -1, -1, 2379, 1799, 1932, 1568, 161]              0.973120   \n",
       "1897  [-1, -1, 886, 1511, 3814, 3232, 3090, 1071, 30...              0.990986   \n",
       "\n",
       "      label  \n",
       "0         0  \n",
       "1         0  \n",
       "2         0  \n",
       "3         0  \n",
       "4         0  \n",
       "...     ...  \n",
       "1893      0  \n",
       "1894      0  \n",
       "1895      1  \n",
       "1896      1  \n",
       "1897      1  \n",
       "\n",
       "[1898 rows x 14 columns]"
      ]
     },
     "execution_count": 29,
     "metadata": {},
     "output_type": "execute_result"
    }
   ],
   "source": [
    "eval_classification_df = val_df.assign(\n",
    "    classification_proba=classifications,\n",
    "    label=lambda df: df[args.rating_col].gt(0).astype(int),\n",
    ")\n",
    "eval_classification_df"
   ]
  },
  {
   "cell_type": "code",
   "execution_count": 30,
   "id": "a2aa9621-2567-4ab9-aa6e-04a37dbe01d4",
   "metadata": {},
   "outputs": [
    {
     "name": "stderr",
     "output_type": "stream",
     "text": [
      "/Users/dvq/frostmourne/reco-algo/.venv/lib/python3.11/site-packages/sklearn/metrics/_classification.py:1531: UndefinedMetricWarning:\n",
      "\n",
      "Precision is ill-defined and being set to 0.0 in labels with no predicted samples. Use `zero_division` parameter to control this behavior.\n",
      "\n",
      "/Users/dvq/frostmourne/reco-algo/.venv/lib/python3.11/site-packages/sklearn/metrics/_classification.py:1531: UndefinedMetricWarning:\n",
      "\n",
      "Precision is ill-defined and being set to 0.0 in labels with no predicted samples. Use `zero_division` parameter to control this behavior.\n",
      "\n",
      "/Users/dvq/frostmourne/reco-algo/.venv/lib/python3.11/site-packages/sklearn/metrics/_classification.py:1531: UndefinedMetricWarning:\n",
      "\n",
      "Precision is ill-defined and being set to 0.0 in labels with no predicted samples. Use `zero_division` parameter to control this behavior.\n",
      "\n"
     ]
    }
   ],
   "source": [
    "classification_report = log_classification_metrics(\n",
    "    args,\n",
    "    eval_classification_df,\n",
    "    target_col=\"label\",\n",
    "    prediction_col=\"classification_proba\",\n",
    ")"
   ]
  },
  {
   "cell_type": "markdown",
   "id": "065874f8-8657-4207-91ec-ee7668be92aa",
   "metadata": {},
   "source": [
    "# Clean up"
   ]
  },
  {
   "cell_type": "code",
   "execution_count": 31,
   "id": "fbe3b58e-1e9e-4acd-9c02-f8345db258dd",
   "metadata": {
    "editable": true,
    "slideshow": {
     "slide_type": ""
    },
    "tags": []
   },
   "outputs": [
    {
     "name": "stderr",
     "output_type": "stream",
     "text": [
      "2024/09/22 16:12:55 INFO mlflow.tracking._tracking_service.client: 🏃 View run 003-cf-i2i at: http://localhost:5003/#/experiments/1/runs/0cc69d3a959a41a59b57cb3794704e5a.\n",
      "2024/09/22 16:12:55 INFO mlflow.tracking._tracking_service.client: 🧪 View experiment at: http://localhost:5003/#/experiments/1.\n"
     ]
    }
   ],
   "source": [
    "all_params = [args]\n",
    "\n",
    "if args.log_to_mlflow:\n",
    "    for params in all_params:\n",
    "        params_dict = params.dict()\n",
    "        params_ = {f\"{params.__repr_name__()}.{k}\": v for k, v in params_dict.items()}\n",
    "        mlflow.log_params(params_)\n",
    "\n",
    "    mlflow.end_run()"
   ]
  },
  {
   "cell_type": "markdown",
   "id": "89b93184-99b2-40bc-9dd0-1a12640b3a27",
   "metadata": {
    "jp-MarkdownHeadingCollapsed": true
   },
   "source": [
    "# Appendix"
   ]
  },
  {
   "cell_type": "markdown",
   "id": "2b75e9d9-1335-4cdb-b24b-fa230a82cd63",
   "metadata": {},
   "source": [
    "## Model returning same score for every user-item in top 100"
   ]
  },
  {
   "cell_type": "raw",
   "id": "e97226ca-9f43-4e18-a162-efe21788f291",
   "metadata": {},
   "source": [
    "tmp = model.predict([10] * n_items, np.arange(n_items))"
   ]
  },
  {
   "cell_type": "raw",
   "id": "79de0308-1f37-4007-955e-ccd5181dfb55",
   "metadata": {},
   "source": [
    "pd.Series(tmp).value_counts()"
   ]
  },
  {
   "cell_type": "raw",
   "id": "db42cb2c-ee69-47dc-a98c-58edc7c6f92e",
   "metadata": {},
   "source": [
    "model.forward(9, 4691, debug=False)"
   ]
  },
  {
   "cell_type": "raw",
   "id": "9fe8f89e-74aa-4237-86d3-66ccf2ab2697",
   "metadata": {},
   "source": []
  }
 ],
 "metadata": {
  "kernelspec": {
   "display_name": "Python 3 (ipykernel)",
   "language": "python",
   "name": "python3"
  },
  "language_info": {
   "codemirror_mode": {
    "name": "ipython",
    "version": 3
   },
   "file_extension": ".py",
   "mimetype": "text/x-python",
   "name": "python",
   "nbconvert_exporter": "python",
   "pygments_lexer": "ipython3",
   "version": "3.11.9"
  }
 },
 "nbformat": 4,
 "nbformat_minor": 5
}
