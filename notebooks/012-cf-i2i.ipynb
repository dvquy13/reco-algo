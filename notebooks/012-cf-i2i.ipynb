{
 "cells": [
  {
   "cell_type": "markdown",
   "id": "1f482061-0dd0-4763-827d-0e15e36e7f0b",
   "metadata": {},
   "source": [
    "# KNN Item-Item Collaborative Filtering"
   ]
  },
  {
   "cell_type": "markdown",
   "id": "c9aefb36-f338-48f1-af2a-f833b41409ec",
   "metadata": {
    "editable": true,
    "slideshow": {
     "slide_type": ""
    },
    "tags": []
   },
   "source": [
    "Item-Item CF is similar to User-User CF but works on the other side. Instead of finding similar users, this method identify the similar  items which the current user has interacted with, get the current user's ratings for them and weighted average the actual ratings.\n",
    "\n",
    "Based on [Introduction to Recommender System](https://towardsdatascience.com/introduction-to-recommender-systems-6c66cf15ada):\n",
    "> The user-user method is based on the search of similar users in terms of interactions with items. As, in general, every user have only interacted with a few items, it makes the method pretty sensitive to any recorded interactions (high variance). On the other hand, as the final recommendation is only based on interactions recorded for users similar to our user of interest, we obtain more personalized results (low bias).\n",
    "\n",
    "> Conversely, the item-item method is based on the search of similar items in terms of user-item interactions. As, in general, a lot of users have interacted with an item, the neighbourhood search is far less sensitive to single interactions (lower variance). As a counterpart, interactions coming from every kind of users (even users very different from our reference user) are then considered in the recommendation, making the method less personalised (more biased). Thus, this approach is less personalized than the user-user approach but more robust.\n",
    "\n",
    "In this notebook, we would take a very simple and straight-forward approach to implement KNN Item-Item CF. We formulate the problem as predicting the rating between user U and item I based on the rating records.\n",
    "\n",
    "Specifically, we will:\n",
    "- Collect input containing user-item rating\n",
    "- Build item-item similarity matrix\n",
    "- Measure similarities between items by using plain user rating vectors\n",
    "- Predict the rating between user U and item I by getting all items which the current user have rated, identify N item neighbors and weighted average their ratings based on how similar the items are to the target item I"
   ]
  },
  {
   "cell_type": "markdown",
   "id": "b470bc23-08c3-42a0-8946-4374690115f6",
   "metadata": {
    "editable": true,
    "slideshow": {
     "slide_type": ""
    },
    "tags": []
   },
   "source": [
    "# Set up"
   ]
  },
  {
   "cell_type": "code",
   "execution_count": 1,
   "id": "3c8f6e8d-f776-4d39-898c-d783c5ae3407",
   "metadata": {
    "editable": true,
    "slideshow": {
     "slide_type": ""
    },
    "tags": []
   },
   "outputs": [],
   "source": [
    "%load_ext autoreload\n",
    "%autoreload 2"
   ]
  },
  {
   "cell_type": "code",
   "execution_count": 2,
   "id": "35b3499d-dc9c-405a-8714-a26341b581e1",
   "metadata": {},
   "outputs": [],
   "source": [
    "import os\n",
    "import sys\n",
    "\n",
    "import mlflow\n",
    "import numpy as np\n",
    "import pandas as pd\n",
    "from dotenv import load_dotenv\n",
    "from loguru import logger\n",
    "from pydantic import BaseModel\n",
    "\n",
    "load_dotenv()\n",
    "\n",
    "sys.path.insert(0, \"..\")\n",
    "\n",
    "from src.eval import (\n",
    "    create_label_df,\n",
    "    create_rec_df,\n",
    "    log_classification_metrics,\n",
    "    log_ranking_metrics,\n",
    "    merge_recs_with_target,\n",
    ")\n",
    "from src.id_mapper import IDMapper\n",
    "from src.math_utils import sigmoid\n",
    "from src.model import Item2ItemCollaborativeFiltering\n",
    "from src.train_utils import map_indice\n",
    "from src.viz import blueq_colors"
   ]
  },
  {
   "cell_type": "markdown",
   "id": "08eea90b-693f-4546-98dd-9d74289dc2ae",
   "metadata": {},
   "source": [
    "# Controller"
   ]
  },
  {
   "cell_type": "code",
   "execution_count": 3,
   "id": "0276b67f-8e3a-4fa9-a326-0e30174cb96a",
   "metadata": {
    "editable": true,
    "slideshow": {
     "slide_type": ""
    },
    "tags": []
   },
   "outputs": [
    {
     "name": "stderr",
     "output_type": "stream",
     "text": [
      "\u001b[32m2024-09-24 06:41:17.696\u001b[0m | \u001b[1mINFO    \u001b[0m | \u001b[36m__main__\u001b[0m:\u001b[36minit\u001b[0m:\u001b[36m29\u001b[0m - \u001b[1mSetting up MLflow experiment FSDS RecSys - L4 - Reco Algo - run 003-cf-i2i...\u001b[0m\n"
     ]
    },
    {
     "name": "stdout",
     "output_type": "stream",
     "text": [
      "{\n",
      "  \"testing\": false,\n",
      "  \"log_to_mlflow\": true,\n",
      "  \"experiment_name\": \"FSDS RecSys - L4 - Reco Algo\",\n",
      "  \"run_name\": \"003-cf-i2i\",\n",
      "  \"notebook_persist_dp\": \"/home/jupyter/frostmourne/reco-algo/notebooks/data/003-cf-i2i\",\n",
      "  \"random_seed\": 41,\n",
      "  \"user_col\": \"user_id\",\n",
      "  \"item_col\": \"parent_asin\",\n",
      "  \"rating_col\": \"rating\",\n",
      "  \"timestamp_col\": \"timestamp\",\n",
      "  \"top_K\": 100,\n",
      "  \"top_k\": 10,\n",
      "  \"batch_size\": 128\n",
      "}\n"
     ]
    }
   ],
   "source": [
    "class Args(BaseModel):\n",
    "    testing: bool = False\n",
    "    log_to_mlflow: bool = True\n",
    "    experiment_name: str = \"FSDS RecSys - L4 - Reco Algo\"\n",
    "    run_name: str = \"003-cf-i2i\"\n",
    "    notebook_persist_dp: str = None\n",
    "    random_seed: int = 41\n",
    "\n",
    "    user_col: str = \"user_id\"\n",
    "    item_col: str = \"parent_asin\"\n",
    "    rating_col: str = \"rating\"\n",
    "    timestamp_col: str = \"timestamp\"\n",
    "\n",
    "    top_K: int = 100\n",
    "    top_k: int = 10\n",
    "\n",
    "    batch_size: int = 128\n",
    "\n",
    "    def init(self):\n",
    "        self.notebook_persist_dp = os.path.abspath(f\"data/{self.run_name}\")\n",
    "\n",
    "        if not os.environ.get(\"MLFLOW_TRACKING_URI\"):\n",
    "            logger.warning(\n",
    "                f\"Environment variable MLFLOW_TRACKING_URI is not set. Setting self.log_to_mlflow to false.\"\n",
    "            )\n",
    "            self.log_to_mlflow = False\n",
    "\n",
    "        if self.log_to_mlflow:\n",
    "            logger.info(\n",
    "                f\"Setting up MLflow experiment {self.experiment_name} - run {self.run_name}...\"\n",
    "            )\n",
    "\n",
    "            mlflow.set_experiment(self.experiment_name)\n",
    "            mlflow.start_run(run_name=self.run_name)\n",
    "\n",
    "        return self\n",
    "\n",
    "\n",
    "args = Args().init()\n",
    "\n",
    "print(args.model_dump_json(indent=2))"
   ]
  },
  {
   "cell_type": "markdown",
   "id": "a5acedcb-89e6-41c6-8969-bf3437fc7898",
   "metadata": {},
   "source": [
    "# Implement"
   ]
  },
  {
   "cell_type": "code",
   "execution_count": 4,
   "id": "1e92fb61-7016-405d-b5c3-3b2c8e9d1922",
   "metadata": {},
   "outputs": [],
   "source": [
    "def init_model(n_users, n_items):\n",
    "    model = Item2ItemCollaborativeFiltering(n_users, n_items)\n",
    "    return model"
   ]
  },
  {
   "cell_type": "markdown",
   "id": "377a71da-1ee3-474c-b3f4-4488d2a45dd3",
   "metadata": {},
   "source": [
    "# Test implementation"
   ]
  },
  {
   "cell_type": "code",
   "execution_count": 5,
   "id": "ce5326d7-ec9d-422c-bbd8-03c837a23e1e",
   "metadata": {
    "scrolled": true
   },
   "outputs": [
    {
     "name": "stdout",
     "output_type": "stream",
     "text": [
      "Mock User IDs: [0, 0, 1, 1, 2, 2, 2]\n",
      "Mock Item IDs: [0, 1, 1, 2, 3, 1, 2]\n",
      "Ratings: [1, 4, 4, 5, 3, 2, 4]\n",
      "[0.5 0.5 0.5]\n"
     ]
    }
   ],
   "source": [
    "# Mock data\n",
    "user_indices = [0, 0, 1, 1, 2, 2, 2]\n",
    "item_indices = [0, 1, 1, 2, 3, 1, 2]\n",
    "ratings = [1, 4, 4, 5, 3, 2, 4]\n",
    "n_users = len(set(user_indices))\n",
    "n_items = len(set(item_indices))\n",
    "\n",
    "val_user_indices = [0, 1, 2]\n",
    "val_item_indices = [2, 1, 2]\n",
    "val_ratings = [2, 4, 5]\n",
    "\n",
    "print(\"Mock User IDs:\", user_indices)\n",
    "print(\"Mock Item IDs:\", item_indices)\n",
    "print(\"Ratings:\", ratings)\n",
    "\n",
    "model = init_model(n_users, n_items)\n",
    "\n",
    "users = [0, 1, 2]\n",
    "items = [2, 2, 0]\n",
    "predictions = model.predict(users, items)\n",
    "print(predictions)"
   ]
  },
  {
   "cell_type": "code",
   "execution_count": 6,
   "id": "28f926b4-1bb9-4552-825a-58b0a4389725",
   "metadata": {},
   "outputs": [
    {
     "name": "stdout",
     "output_type": "stream",
     "text": [
      "[0.98201379 0.98201379 0.88079708]\n"
     ]
    }
   ],
   "source": [
    "model.fit(user_indices, item_indices, ratings)\n",
    "predictions = model.predict(users, items)\n",
    "print(predictions)"
   ]
  },
  {
   "cell_type": "markdown",
   "id": "8fc654c4-6b89-46e4-8412-907a37f82f87",
   "metadata": {},
   "source": [
    "#### 🧐 Go into details"
   ]
  },
  {
   "cell_type": "code",
   "execution_count": 7,
   "id": "15903bdd-0846-4588-9a8f-584d8f523ce0",
   "metadata": {
    "editable": true,
    "slideshow": {
     "slide_type": ""
    },
    "tags": []
   },
   "outputs": [
    {
     "data": {
      "text/plain": [
       "array([[1., 0., 0.],\n",
       "       [4., 4., 2.],\n",
       "       [0., 5., 4.],\n",
       "       [0., 0., 3.]])"
      ]
     },
     "execution_count": 7,
     "metadata": {},
     "output_type": "execute_result"
    }
   ],
   "source": [
    "model.user_item_matrix.T"
   ]
  },
  {
   "cell_type": "code",
   "execution_count": 8,
   "id": "496f9749-183a-478d-a624-16ed59c9818f",
   "metadata": {},
   "outputs": [
    {
     "data": {
      "text/plain": [
       "array([[0.        , 0.66666667, 0.        , 0.        ],\n",
       "       [0.66666667, 0.        , 0.72881089, 0.33333333],\n",
       "       [0.        , 0.72881089, 0.        , 0.62469505],\n",
       "       [0.        , 0.33333333, 0.62469505, 0.        ]])"
      ]
     },
     "execution_count": 8,
     "metadata": {},
     "output_type": "execute_result"
    }
   ],
   "source": [
    "model.item_similarity"
   ]
  },
  {
   "cell_type": "code",
   "execution_count": 9,
   "id": "8d434a72-4f4e-49ea-98ea-31e6a539e4e0",
   "metadata": {},
   "outputs": [
    {
     "name": "stdout",
     "output_type": "stream",
     "text": [
      "sim_scores=array([0.        , 0.33333333, 0.62469505, 0.        ])\n"
     ]
    }
   ],
   "source": [
    "item = 3\n",
    "user = 1\n",
    "\n",
    "# Compute prediction using weighted average of ratings from similar items\n",
    "sim_scores = model.item_similarity[item]\n",
    "print(f\"{sim_scores=}\")"
   ]
  },
  {
   "cell_type": "code",
   "execution_count": 10,
   "id": "4a44f130-422c-47d6-8e62-1913e3afdc9f",
   "metadata": {},
   "outputs": [
    {
     "name": "stdout",
     "output_type": "stream",
     "text": [
      "Ratings of current user for all items:\n",
      "item_ratings=array([0., 4., 5., 0.])\n",
      "Cosine similarity score of target item towards all other items where current user has rated:\n",
      "[0.33333333 0.62469505]\n"
     ]
    }
   ],
   "source": [
    "# Only consider items that have been rated by the current user\n",
    "item_ratings = model.user_item_matrix[user, :]\n",
    "print(f\"Ratings of current user for all items:\\n{item_ratings=}\")\n",
    "sim_scores = sim_scores[item_ratings != 0]\n",
    "print(\n",
    "    f\"Cosine similarity score of target item towards all other items where current user has rated:\\n{sim_scores}\"\n",
    ")\n",
    "item_ratings = item_ratings[item_ratings != 0]"
   ]
  },
  {
   "cell_type": "code",
   "execution_count": 11,
   "id": "5c4af833-c0e2-4ac9-8f54-84dca24799e8",
   "metadata": {},
   "outputs": [
    {
     "name": "stdout",
     "output_type": "stream",
     "text": [
      "Weighted average: 4.456808571105455\n",
      "Normalization factor: 0.9580283808877577\n",
      "Predicted rating: 4.652063195638892\n",
      "Predicted rating - sigmoid: 0.9905482923878774\n"
     ]
    }
   ],
   "source": [
    "# Weighted average of ratings\n",
    "print(f\"Weighted average: {np.dot(sim_scores, item_ratings)}\")\n",
    "print(f\"Normalization factor: {np.sum(sim_scores)}\")\n",
    "print(f\"Predicted rating: {np.dot(sim_scores, item_ratings) / np.sum(sim_scores)}\")\n",
    "print(\n",
    "    f\"Predicted rating - sigmoid: {sigmoid(np.dot(sim_scores, item_ratings) / np.sum(sim_scores))}\"\n",
    ")"
   ]
  },
  {
   "cell_type": "code",
   "execution_count": 12,
   "id": "aba0db41-990a-4012-87e7-e25bef99699c",
   "metadata": {},
   "outputs": [
    {
     "data": {
      "application/vnd.jupyter.widget-view+json": {
       "model_id": "57041786e8cf4cff91fe07c4e33d28f1",
       "version_major": 2,
       "version_minor": 0
      },
      "text/plain": [
       "Generating Recommendations:   0%|          | 0/3 [00:00<?, ?it/s]"
      ]
     },
     "metadata": {},
     "output_type": "display_data"
    }
   ],
   "source": [
    "recommendations = model.recommend(val_user_indices, k=2)"
   ]
  },
  {
   "cell_type": "code",
   "execution_count": 13,
   "id": "75c875dd-6431-4a71-9fec-b61e03905217",
   "metadata": {
    "editable": true,
    "scrolled": true,
    "slideshow": {
     "slide_type": ""
    },
    "tags": []
   },
   "outputs": [
    {
     "data": {
      "text/plain": [
       "{'user_indice': [0, 0, 1, 1, 2],\n",
       " 'recommendation': [2, 3, 3, 0, 0],\n",
       " 'score': [0.9820137900379085,\n",
       "  0.9820137900379085,\n",
       "  0.9905482923878774,\n",
       "  0.9820137900379085,\n",
       "  0.8807970779778823]}"
      ]
     },
     "execution_count": 13,
     "metadata": {},
     "output_type": "execute_result"
    }
   ],
   "source": [
    "recommendations"
   ]
  },
  {
   "cell_type": "markdown",
   "id": "170dec89-a874-4dce-8f94-07d978fcc5b8",
   "metadata": {},
   "source": [
    "# Prep data"
   ]
  },
  {
   "cell_type": "code",
   "execution_count": 14,
   "id": "83803362-5eaa-40bb-b28b-878316d5db5d",
   "metadata": {},
   "outputs": [
    {
     "name": "stdout",
     "output_type": "stream",
     "text": [
      "val_timestamp=np.int64(1628641464793)\n"
     ]
    }
   ],
   "source": [
    "train_df = pd.read_parquet(\"../data/train_features_neg_df.parquet\")\n",
    "val_df = pd.read_parquet(\"../data/val_features_neg_df.parquet\")\n",
    "idm = IDMapper().load(\"../data/idm.json\")\n",
    "# val_timestamp = 1628643414042  # https://amazon-reviews-2023.github.io/data_processing/5core.html\n",
    "assert (val_df[args.timestamp_col].min() - train_df[args.timestamp_col].max()) > 0\n",
    "val_timestamp = train_df[args.timestamp_col].max() + 1\n",
    "print(f\"{val_timestamp=}\")"
   ]
  },
  {
   "cell_type": "code",
   "execution_count": 15,
   "id": "17d6c998-5fc4-43f7-8e19-0f469bb0374b",
   "metadata": {},
   "outputs": [
    {
     "name": "stderr",
     "output_type": "stream",
     "text": [
      "\u001b[32m2024-09-24 06:41:22.250\u001b[0m | \u001b[1mINFO    \u001b[0m | \u001b[36m__main__\u001b[0m:\u001b[36m<module>\u001b[0m:\u001b[36m8\u001b[0m - \u001b[1mlen(unique_user_ids)=20,366, len(unique_item_ids)=4,696\u001b[0m\n"
     ]
    }
   ],
   "source": [
    "user_ids = train_df[args.user_col].values\n",
    "item_ids = train_df[args.item_col].values\n",
    "unique_user_ids = list(set(user_ids))\n",
    "unique_item_ids = list(set(item_ids))\n",
    "n_users = len(unique_user_ids)\n",
    "n_items = len(unique_item_ids)\n",
    "\n",
    "logger.info(f\"{len(unique_user_ids)=:,.0f}, {len(unique_item_ids)=:,.0f}\")"
   ]
  },
  {
   "cell_type": "code",
   "execution_count": 16,
   "id": "14c48421-1e0d-46d8-a841-46f380393bdd",
   "metadata": {},
   "outputs": [],
   "source": [
    "train_df = train_df.pipe(map_indice, idm, args.user_col, args.item_col)\n",
    "val_df = val_df.pipe(map_indice, idm, args.user_col, args.item_col)\n",
    "\n",
    "user_indices = [idm.get_user_index(user_id) for user_id in user_ids]\n",
    "item_indices = [idm.get_item_index(item_id) for item_id in item_ids]\n",
    "ratings = train_df[args.rating_col].values.tolist()\n",
    "\n",
    "val_user_indices = [idm.get_user_index(user_id) for user_id in val_df[args.user_col]]\n",
    "val_item_indices = [idm.get_item_index(item_id) for item_id in val_df[args.item_col]]\n",
    "val_ratings = val_df[args.rating_col].values.tolist()"
   ]
  },
  {
   "cell_type": "markdown",
   "id": "5260fbe7-2f90-44a1-be74-ce5db9b511ee",
   "metadata": {
    "editable": true,
    "slideshow": {
     "slide_type": ""
    },
    "tags": []
   },
   "source": [
    "# Train"
   ]
  },
  {
   "cell_type": "code",
   "execution_count": 17,
   "id": "12749354-d57a-4458-bf60-b23f068ec6c7",
   "metadata": {},
   "outputs": [],
   "source": [
    "model = init_model(n_users, n_items)"
   ]
  },
  {
   "cell_type": "markdown",
   "id": "b8cbb2a8-a578-4ad2-941e-efd01d930336",
   "metadata": {},
   "source": [
    "#### Predict before train"
   ]
  },
  {
   "cell_type": "code",
   "execution_count": 18,
   "id": "9eb1583b-40f7-4157-a383-5891389ac119",
   "metadata": {
    "editable": true,
    "scrolled": true,
    "slideshow": {
     "slide_type": ""
    },
    "tags": []
   },
   "outputs": [
    {
     "data": {
      "text/html": [
       "<div>\n",
       "<style scoped>\n",
       "    .dataframe tbody tr th:only-of-type {\n",
       "        vertical-align: middle;\n",
       "    }\n",
       "\n",
       "    .dataframe tbody tr th {\n",
       "        vertical-align: top;\n",
       "    }\n",
       "\n",
       "    .dataframe thead th {\n",
       "        text-align: right;\n",
       "    }\n",
       "</style>\n",
       "<table border=\"1\" class=\"dataframe\">\n",
       "  <thead>\n",
       "    <tr style=\"text-align: right;\">\n",
       "      <th></th>\n",
       "      <th>user_id</th>\n",
       "      <th>parent_asin</th>\n",
       "      <th>rating</th>\n",
       "      <th>timestamp</th>\n",
       "      <th>user_indice</th>\n",
       "      <th>item_indice</th>\n",
       "      <th>main_category</th>\n",
       "      <th>title</th>\n",
       "      <th>description</th>\n",
       "      <th>categories</th>\n",
       "      <th>price</th>\n",
       "      <th>item_sequence</th>\n",
       "    </tr>\n",
       "  </thead>\n",
       "  <tbody>\n",
       "    <tr>\n",
       "      <th>9</th>\n",
       "      <td>AHMJVCKVHJIT2R5NWWV4HG4TDH6A</td>\n",
       "      <td>B007W8S2MG</td>\n",
       "      <td>0.0</td>\n",
       "      <td>1643407022270</td>\n",
       "      <td>11374</td>\n",
       "      <td>1775</td>\n",
       "      <td>Video Games</td>\n",
       "      <td>Persona 4 Golden - PlayStation Vita</td>\n",
       "      <td>[From the Manufacturer, Following in the foots...</td>\n",
       "      <td>[Video Games, Legacy Systems, PlayStation Syst...</td>\n",
       "      <td>127.95</td>\n",
       "      <td>[3834, 4416, 4552, 3762, 2860, 4586, 2254, 211...</td>\n",
       "    </tr>\n",
       "    <tr>\n",
       "      <th>132</th>\n",
       "      <td>AHMJVCKVHJIT2R5NWWV4HG4TDH6A</td>\n",
       "      <td>B07C2XYDW8</td>\n",
       "      <td>5.0</td>\n",
       "      <td>1643407022270</td>\n",
       "      <td>11374</td>\n",
       "      <td>2483</td>\n",
       "      <td>Video Games</td>\n",
       "      <td>Dynasty Warriors 9 - Xbox One</td>\n",
       "      <td>[In Dynasty Warriors 9, you will experience an...</td>\n",
       "      <td>[Video Games, Xbox One, Games]</td>\n",
       "      <td>53.26</td>\n",
       "      <td>[3834, 4416, 4552, 3762, 2860, 4586, 2254, 211...</td>\n",
       "    </tr>\n",
       "  </tbody>\n",
       "</table>\n",
       "</div>"
      ],
      "text/plain": [
       "                          user_id parent_asin  rating      timestamp  \\\n",
       "9    AHMJVCKVHJIT2R5NWWV4HG4TDH6A  B007W8S2MG     0.0  1643407022270   \n",
       "132  AHMJVCKVHJIT2R5NWWV4HG4TDH6A  B07C2XYDW8     5.0  1643407022270   \n",
       "\n",
       "     user_indice  item_indice main_category  \\\n",
       "9          11374         1775   Video Games   \n",
       "132        11374         2483   Video Games   \n",
       "\n",
       "                                   title  \\\n",
       "9    Persona 4 Golden - PlayStation Vita   \n",
       "132        Dynasty Warriors 9 - Xbox One   \n",
       "\n",
       "                                           description  \\\n",
       "9    [From the Manufacturer, Following in the foots...   \n",
       "132  [In Dynasty Warriors 9, you will experience an...   \n",
       "\n",
       "                                            categories   price  \\\n",
       "9    [Video Games, Legacy Systems, PlayStation Syst...  127.95   \n",
       "132                     [Video Games, Xbox One, Games]   53.26   \n",
       "\n",
       "                                         item_sequence  \n",
       "9    [3834, 4416, 4552, 3762, 2860, 4586, 2254, 211...  \n",
       "132  [3834, 4416, 4552, 3762, 2860, 4586, 2254, 211...  "
      ]
     },
     "execution_count": 18,
     "metadata": {},
     "output_type": "execute_result"
    }
   ],
   "source": [
    "user_id = val_df.sample(1)[args.user_col].values[0]\n",
    "test_df = val_df.loc[lambda df: df[args.user_col].eq(user_id)]\n",
    "test_df"
   ]
  },
  {
   "cell_type": "code",
   "execution_count": 19,
   "id": "c48fbc80-eda8-4dff-a246-95f8f2f75082",
   "metadata": {
    "scrolled": true
   },
   "outputs": [
    {
     "name": "stderr",
     "output_type": "stream",
     "text": [
      "\u001b[32m2024-09-24 06:41:22.952\u001b[0m | \u001b[1mINFO    \u001b[0m | \u001b[36m__main__\u001b[0m:\u001b[36m<module>\u001b[0m:\u001b[36m2\u001b[0m - \u001b[1mTest predicting before training with user_id = AHMJVCKVHJIT2R5NWWV4HG4TDH6A and parent_asin = B07C2XYDW8\u001b[0m\n"
     ]
    },
    {
     "data": {
      "text/plain": [
       "array([0.5])"
      ]
     },
     "execution_count": 19,
     "metadata": {},
     "output_type": "execute_result"
    }
   ],
   "source": [
    "item_id = test_df.loc[lambda df: df[args.rating_col].gt(0)][args.item_col].values[0]\n",
    "logger.info(\n",
    "    f\"Test predicting before training with {args.user_col} = {user_id} and {args.item_col} = {item_id}\"\n",
    ")\n",
    "user_indice = idm.get_user_index(user_id)\n",
    "item_indice = idm.get_item_index(item_id)\n",
    "\n",
    "model.predict([user_indice], [item_indice])"
   ]
  },
  {
   "cell_type": "markdown",
   "id": "c2fd217c-c0c8-4e7c-81fe-6eb36f4729b5",
   "metadata": {},
   "source": [
    "#### Training loop"
   ]
  },
  {
   "cell_type": "code",
   "execution_count": 20,
   "id": "ad0bf9b5-da26-4ea1-84ec-78eeb43d4a66",
   "metadata": {},
   "outputs": [],
   "source": [
    "model.fit(user_indices, item_indices, ratings)"
   ]
  },
  {
   "cell_type": "markdown",
   "id": "d98aad70-7bca-4406-92df-c46b2ff8fce0",
   "metadata": {},
   "source": [
    "# Predict"
   ]
  },
  {
   "cell_type": "code",
   "execution_count": 21,
   "id": "98ab8614-2c48-4dcb-97b0-b7d1460140d4",
   "metadata": {
    "scrolled": true
   },
   "outputs": [
    {
     "name": "stderr",
     "output_type": "stream",
     "text": [
      "\u001b[32m2024-09-24 06:41:29.812\u001b[0m | \u001b[1mINFO    \u001b[0m | \u001b[36m__main__\u001b[0m:\u001b[36m<module>\u001b[0m:\u001b[36m1\u001b[0m - \u001b[1mTest predicting before training with user_id = AHMJVCKVHJIT2R5NWWV4HG4TDH6A and parent_asin = B07C2XYDW8\u001b[0m\n"
     ]
    },
    {
     "data": {
      "text/plain": [
       "array([0.99330715])"
      ]
     },
     "execution_count": 21,
     "metadata": {},
     "output_type": "execute_result"
    }
   ],
   "source": [
    "logger.info(\n",
    "    f\"Test predicting before training with {args.user_col} = {user_id} and {args.item_col} = {item_id}\"\n",
    ")\n",
    "model.predict([user_indice], [item_indice])"
   ]
  },
  {
   "cell_type": "markdown",
   "id": "fd2bba59-2e12-4921-b36f-66e82105637c",
   "metadata": {},
   "source": [
    "# Evaluate"
   ]
  },
  {
   "cell_type": "markdown",
   "id": "febee4e0-88ea-4d07-95d8-7c7a3114815b",
   "metadata": {},
   "source": [
    "## Ranking metrics"
   ]
  },
  {
   "cell_type": "code",
   "execution_count": 22,
   "id": "13f0285d-a482-4a33-8dce-e72fc445c6f5",
   "metadata": {},
   "outputs": [
    {
     "data": {
      "application/vnd.jupyter.widget-view+json": {
       "model_id": "e0f4ba65cfbe4269aa041a6cfc89e3e8",
       "version_major": 2,
       "version_minor": 0
      },
      "text/plain": [
       "Generating Recommendations:   0%|          | 0/1898 [00:00<?, ?it/s]"
      ]
     },
     "metadata": {},
     "output_type": "display_data"
    }
   ],
   "source": [
    "recommendations = model.recommend(val_user_indices, k=args.top_K)"
   ]
  },
  {
   "cell_type": "code",
   "execution_count": 23,
   "id": "5ae32aa8-b14d-4e88-bf0f-31b1df76c6aa",
   "metadata": {
    "scrolled": true
   },
   "outputs": [
    {
     "data": {
      "text/html": [
       "<div>\n",
       "<style scoped>\n",
       "    .dataframe tbody tr th:only-of-type {\n",
       "        vertical-align: middle;\n",
       "    }\n",
       "\n",
       "    .dataframe tbody tr th {\n",
       "        vertical-align: top;\n",
       "    }\n",
       "\n",
       "    .dataframe thead th {\n",
       "        text-align: right;\n",
       "    }\n",
       "</style>\n",
       "<table border=\"1\" class=\"dataframe\">\n",
       "  <thead>\n",
       "    <tr style=\"text-align: right;\">\n",
       "      <th></th>\n",
       "      <th>user_indice</th>\n",
       "      <th>recommendation</th>\n",
       "      <th>score</th>\n",
       "      <th>rec_ranking</th>\n",
       "      <th>user_id</th>\n",
       "      <th>parent_asin</th>\n",
       "    </tr>\n",
       "  </thead>\n",
       "  <tbody>\n",
       "    <tr>\n",
       "      <th>0</th>\n",
       "      <td>12853</td>\n",
       "      <td>16</td>\n",
       "      <td>0.993307</td>\n",
       "      <td>1.0</td>\n",
       "      <td>AGXTHABHPC3XO4VAMCFM2TQR3GFQ</td>\n",
       "      <td>B0050SYY5E</td>\n",
       "    </tr>\n",
       "    <tr>\n",
       "      <th>1</th>\n",
       "      <td>12853</td>\n",
       "      <td>4095</td>\n",
       "      <td>0.993307</td>\n",
       "      <td>2.0</td>\n",
       "      <td>AGXTHABHPC3XO4VAMCFM2TQR3GFQ</td>\n",
       "      <td>B00KUZEFBK</td>\n",
       "    </tr>\n",
       "    <tr>\n",
       "      <th>2</th>\n",
       "      <td>12853</td>\n",
       "      <td>1008</td>\n",
       "      <td>0.993307</td>\n",
       "      <td>3.0</td>\n",
       "      <td>AGXTHABHPC3XO4VAMCFM2TQR3GFQ</td>\n",
       "      <td>B00N2KKSNO</td>\n",
       "    </tr>\n",
       "    <tr>\n",
       "      <th>3</th>\n",
       "      <td>12853</td>\n",
       "      <td>1224</td>\n",
       "      <td>0.993307</td>\n",
       "      <td>4.0</td>\n",
       "      <td>AGXTHABHPC3XO4VAMCFM2TQR3GFQ</td>\n",
       "      <td>B00CMQTVUA</td>\n",
       "    </tr>\n",
       "    <tr>\n",
       "      <th>4</th>\n",
       "      <td>12853</td>\n",
       "      <td>292</td>\n",
       "      <td>0.993307</td>\n",
       "      <td>5.0</td>\n",
       "      <td>AGXTHABHPC3XO4VAMCFM2TQR3GFQ</td>\n",
       "      <td>B0037Z0HEE</td>\n",
       "    </tr>\n",
       "    <tr>\n",
       "      <th>...</th>\n",
       "      <td>...</td>\n",
       "      <td>...</td>\n",
       "      <td>...</td>\n",
       "      <td>...</td>\n",
       "      <td>...</td>\n",
       "      <td>...</td>\n",
       "    </tr>\n",
       "    <tr>\n",
       "      <th>189795</th>\n",
       "      <td>14633</td>\n",
       "      <td>4027</td>\n",
       "      <td>0.993307</td>\n",
       "      <td>196.0</td>\n",
       "      <td>AHAKU6TTWIHJPZIODW7MGC52M2DA</td>\n",
       "      <td>B079FPFV3X</td>\n",
       "    </tr>\n",
       "    <tr>\n",
       "      <th>189796</th>\n",
       "      <td>14633</td>\n",
       "      <td>4034</td>\n",
       "      <td>0.993307</td>\n",
       "      <td>197.0</td>\n",
       "      <td>AHAKU6TTWIHJPZIODW7MGC52M2DA</td>\n",
       "      <td>B07NQNQ7WN</td>\n",
       "    </tr>\n",
       "    <tr>\n",
       "      <th>189797</th>\n",
       "      <td>14633</td>\n",
       "      <td>4078</td>\n",
       "      <td>0.993307</td>\n",
       "      <td>198.0</td>\n",
       "      <td>AHAKU6TTWIHJPZIODW7MGC52M2DA</td>\n",
       "      <td>B00HM3QANO</td>\n",
       "    </tr>\n",
       "    <tr>\n",
       "      <th>189798</th>\n",
       "      <td>14633</td>\n",
       "      <td>4051</td>\n",
       "      <td>0.993307</td>\n",
       "      <td>199.0</td>\n",
       "      <td>AHAKU6TTWIHJPZIODW7MGC52M2DA</td>\n",
       "      <td>B00JM3R6M6</td>\n",
       "    </tr>\n",
       "    <tr>\n",
       "      <th>189799</th>\n",
       "      <td>14633</td>\n",
       "      <td>4084</td>\n",
       "      <td>0.993307</td>\n",
       "      <td>200.0</td>\n",
       "      <td>AHAKU6TTWIHJPZIODW7MGC52M2DA</td>\n",
       "      <td>B0C7BN9G35</td>\n",
       "    </tr>\n",
       "  </tbody>\n",
       "</table>\n",
       "<p>189800 rows × 6 columns</p>\n",
       "</div>"
      ],
      "text/plain": [
       "        user_indice  recommendation     score  rec_ranking  \\\n",
       "0             12853              16  0.993307          1.0   \n",
       "1             12853            4095  0.993307          2.0   \n",
       "2             12853            1008  0.993307          3.0   \n",
       "3             12853            1224  0.993307          4.0   \n",
       "4             12853             292  0.993307          5.0   \n",
       "...             ...             ...       ...          ...   \n",
       "189795        14633            4027  0.993307        196.0   \n",
       "189796        14633            4034  0.993307        197.0   \n",
       "189797        14633            4078  0.993307        198.0   \n",
       "189798        14633            4051  0.993307        199.0   \n",
       "189799        14633            4084  0.993307        200.0   \n",
       "\n",
       "                             user_id parent_asin  \n",
       "0       AGXTHABHPC3XO4VAMCFM2TQR3GFQ  B0050SYY5E  \n",
       "1       AGXTHABHPC3XO4VAMCFM2TQR3GFQ  B00KUZEFBK  \n",
       "2       AGXTHABHPC3XO4VAMCFM2TQR3GFQ  B00N2KKSNO  \n",
       "3       AGXTHABHPC3XO4VAMCFM2TQR3GFQ  B00CMQTVUA  \n",
       "4       AGXTHABHPC3XO4VAMCFM2TQR3GFQ  B0037Z0HEE  \n",
       "...                              ...         ...  \n",
       "189795  AHAKU6TTWIHJPZIODW7MGC52M2DA  B079FPFV3X  \n",
       "189796  AHAKU6TTWIHJPZIODW7MGC52M2DA  B07NQNQ7WN  \n",
       "189797  AHAKU6TTWIHJPZIODW7MGC52M2DA  B00HM3QANO  \n",
       "189798  AHAKU6TTWIHJPZIODW7MGC52M2DA  B00JM3R6M6  \n",
       "189799  AHAKU6TTWIHJPZIODW7MGC52M2DA  B0C7BN9G35  \n",
       "\n",
       "[189800 rows x 6 columns]"
      ]
     },
     "execution_count": 23,
     "metadata": {},
     "output_type": "execute_result"
    }
   ],
   "source": [
    "recommendations_df = pd.DataFrame(recommendations).pipe(create_rec_df, idm)\n",
    "recommendations_df"
   ]
  },
  {
   "cell_type": "code",
   "execution_count": 24,
   "id": "2702e214-ba09-4e61-a479-623196d04a94",
   "metadata": {},
   "outputs": [
    {
     "data": {
      "text/html": [
       "<div>\n",
       "<style scoped>\n",
       "    .dataframe tbody tr th:only-of-type {\n",
       "        vertical-align: middle;\n",
       "    }\n",
       "\n",
       "    .dataframe tbody tr th {\n",
       "        vertical-align: top;\n",
       "    }\n",
       "\n",
       "    .dataframe thead th {\n",
       "        text-align: right;\n",
       "    }\n",
       "</style>\n",
       "<table border=\"1\" class=\"dataframe\">\n",
       "  <thead>\n",
       "    <tr style=\"text-align: right;\">\n",
       "      <th></th>\n",
       "      <th>user_id</th>\n",
       "      <th>parent_asin</th>\n",
       "      <th>rating</th>\n",
       "      <th>rating_rank</th>\n",
       "    </tr>\n",
       "  </thead>\n",
       "  <tbody>\n",
       "    <tr>\n",
       "      <th>1727</th>\n",
       "      <td>AEOY2365QPPEVDTOXL6N7ZA4NSAA</td>\n",
       "      <td>B00PDRZG9U</td>\n",
       "      <td>5.0</td>\n",
       "      <td>1.0</td>\n",
       "    </tr>\n",
       "    <tr>\n",
       "      <th>451</th>\n",
       "      <td>AFGHX4VLP6P5XORLDJX3LZKUAAZA</td>\n",
       "      <td>B00Z9TJBUW</td>\n",
       "      <td>5.0</td>\n",
       "      <td>1.0</td>\n",
       "    </tr>\n",
       "    <tr>\n",
       "      <th>204</th>\n",
       "      <td>AFCH2PDOFM2S3622QFV6PHCHGMCA</td>\n",
       "      <td>B00KSQHX1K</td>\n",
       "      <td>5.0</td>\n",
       "      <td>1.0</td>\n",
       "    </tr>\n",
       "    <tr>\n",
       "      <th>1344</th>\n",
       "      <td>AEURBISVS35ALE7YQLR5L4K7AHCA</td>\n",
       "      <td>B07QQ8N7LL</td>\n",
       "      <td>1.0</td>\n",
       "      <td>1.0</td>\n",
       "    </tr>\n",
       "    <tr>\n",
       "      <th>334</th>\n",
       "      <td>AEMA3SW3WPNLEH3IACW23K2ZSUFA</td>\n",
       "      <td>B09JDLC31H</td>\n",
       "      <td>4.0</td>\n",
       "      <td>1.0</td>\n",
       "    </tr>\n",
       "    <tr>\n",
       "      <th>...</th>\n",
       "      <td>...</td>\n",
       "      <td>...</td>\n",
       "      <td>...</td>\n",
       "      <td>...</td>\n",
       "    </tr>\n",
       "    <tr>\n",
       "      <th>1332</th>\n",
       "      <td>AFB6FYPPCN33UMUU5536IHXNOHCQ</td>\n",
       "      <td>B002I0K3CK</td>\n",
       "      <td>0.0</td>\n",
       "      <td>18.0</td>\n",
       "    </tr>\n",
       "    <tr>\n",
       "      <th>910</th>\n",
       "      <td>AESD4RLWUKM6JTD6SNNWYLHLLQQA</td>\n",
       "      <td>B07BLRF329</td>\n",
       "      <td>0.0</td>\n",
       "      <td>18.0</td>\n",
       "    </tr>\n",
       "    <tr>\n",
       "      <th>695</th>\n",
       "      <td>AG4RCXKPTC6QRORJLUSBY4SO2IAA</td>\n",
       "      <td>B001ELJDWA</td>\n",
       "      <td>0.0</td>\n",
       "      <td>18.0</td>\n",
       "    </tr>\n",
       "    <tr>\n",
       "      <th>1177</th>\n",
       "      <td>AFB6FYPPCN33UMUU5536IHXNOHCQ</td>\n",
       "      <td>B003S6N7OO</td>\n",
       "      <td>0.0</td>\n",
       "      <td>19.0</td>\n",
       "    </tr>\n",
       "    <tr>\n",
       "      <th>697</th>\n",
       "      <td>AFB6FYPPCN33UMUU5536IHXNOHCQ</td>\n",
       "      <td>B002BS47JE</td>\n",
       "      <td>0.0</td>\n",
       "      <td>20.0</td>\n",
       "    </tr>\n",
       "  </tbody>\n",
       "</table>\n",
       "<p>1898 rows × 4 columns</p>\n",
       "</div>"
      ],
      "text/plain": [
       "                           user_id parent_asin  rating  rating_rank\n",
       "1727  AEOY2365QPPEVDTOXL6N7ZA4NSAA  B00PDRZG9U     5.0          1.0\n",
       "451   AFGHX4VLP6P5XORLDJX3LZKUAAZA  B00Z9TJBUW     5.0          1.0\n",
       "204   AFCH2PDOFM2S3622QFV6PHCHGMCA  B00KSQHX1K     5.0          1.0\n",
       "1344  AEURBISVS35ALE7YQLR5L4K7AHCA  B07QQ8N7LL     1.0          1.0\n",
       "334   AEMA3SW3WPNLEH3IACW23K2ZSUFA  B09JDLC31H     4.0          1.0\n",
       "...                            ...         ...     ...          ...\n",
       "1332  AFB6FYPPCN33UMUU5536IHXNOHCQ  B002I0K3CK     0.0         18.0\n",
       "910   AESD4RLWUKM6JTD6SNNWYLHLLQQA  B07BLRF329     0.0         18.0\n",
       "695   AG4RCXKPTC6QRORJLUSBY4SO2IAA  B001ELJDWA     0.0         18.0\n",
       "1177  AFB6FYPPCN33UMUU5536IHXNOHCQ  B003S6N7OO     0.0         19.0\n",
       "697   AFB6FYPPCN33UMUU5536IHXNOHCQ  B002BS47JE     0.0         20.0\n",
       "\n",
       "[1898 rows x 4 columns]"
      ]
     },
     "execution_count": 24,
     "metadata": {},
     "output_type": "execute_result"
    }
   ],
   "source": [
    "label_df = create_label_df(val_df)\n",
    "label_df"
   ]
  },
  {
   "cell_type": "code",
   "execution_count": 25,
   "id": "86f1186e-2382-456e-b7ce-46de20b2aba2",
   "metadata": {
    "scrolled": true
   },
   "outputs": [
    {
     "data": {
      "text/html": [
       "<div>\n",
       "<style scoped>\n",
       "    .dataframe tbody tr th:only-of-type {\n",
       "        vertical-align: middle;\n",
       "    }\n",
       "\n",
       "    .dataframe tbody tr th {\n",
       "        vertical-align: top;\n",
       "    }\n",
       "\n",
       "    .dataframe thead th {\n",
       "        text-align: right;\n",
       "    }\n",
       "</style>\n",
       "<table border=\"1\" class=\"dataframe\">\n",
       "  <thead>\n",
       "    <tr style=\"text-align: right;\">\n",
       "      <th></th>\n",
       "      <th>user_indice</th>\n",
       "      <th>recommendation</th>\n",
       "      <th>score</th>\n",
       "      <th>rec_ranking</th>\n",
       "      <th>user_id</th>\n",
       "      <th>parent_asin</th>\n",
       "      <th>rating</th>\n",
       "      <th>rating_rank</th>\n",
       "    </tr>\n",
       "  </thead>\n",
       "  <tbody>\n",
       "    <tr>\n",
       "      <th>80</th>\n",
       "      <td>9912.0</td>\n",
       "      <td>2380.0</td>\n",
       "      <td>0.993307</td>\n",
       "      <td>1</td>\n",
       "      <td>AE2AZ2MNROPF33U6SS53VI22OXJA</td>\n",
       "      <td>B008J35YFQ</td>\n",
       "      <td>0</td>\n",
       "      <td>NaN</td>\n",
       "    </tr>\n",
       "    <tr>\n",
       "      <th>38</th>\n",
       "      <td>9912.0</td>\n",
       "      <td>1640.0</td>\n",
       "      <td>0.993307</td>\n",
       "      <td>2</td>\n",
       "      <td>AE2AZ2MNROPF33U6SS53VI22OXJA</td>\n",
       "      <td>B001EYUQKU</td>\n",
       "      <td>0</td>\n",
       "      <td>NaN</td>\n",
       "    </tr>\n",
       "    <tr>\n",
       "      <th>96</th>\n",
       "      <td>9912.0</td>\n",
       "      <td>2363.0</td>\n",
       "      <td>0.993307</td>\n",
       "      <td>3</td>\n",
       "      <td>AE2AZ2MNROPF33U6SS53VI22OXJA</td>\n",
       "      <td>B00GH7UA32</td>\n",
       "      <td>0</td>\n",
       "      <td>NaN</td>\n",
       "    </tr>\n",
       "    <tr>\n",
       "      <th>152</th>\n",
       "      <td>9912.0</td>\n",
       "      <td>1561.0</td>\n",
       "      <td>0.993307</td>\n",
       "      <td>4</td>\n",
       "      <td>AE2AZ2MNROPF33U6SS53VI22OXJA</td>\n",
       "      <td>B0764PLDQV</td>\n",
       "      <td>0</td>\n",
       "      <td>NaN</td>\n",
       "    </tr>\n",
       "    <tr>\n",
       "      <th>6</th>\n",
       "      <td>9912.0</td>\n",
       "      <td>2552.0</td>\n",
       "      <td>0.993307</td>\n",
       "      <td>5</td>\n",
       "      <td>AE2AZ2MNROPF33U6SS53VI22OXJA</td>\n",
       "      <td>B00005R5PO</td>\n",
       "      <td>0</td>\n",
       "      <td>NaN</td>\n",
       "    </tr>\n",
       "    <tr>\n",
       "      <th>...</th>\n",
       "      <td>...</td>\n",
       "      <td>...</td>\n",
       "      <td>...</td>\n",
       "      <td>...</td>\n",
       "      <td>...</td>\n",
       "      <td>...</td>\n",
       "      <td>...</td>\n",
       "      <td>...</td>\n",
       "    </tr>\n",
       "    <tr>\n",
       "      <th>191628</th>\n",
       "      <td>2049.0</td>\n",
       "      <td>766.0</td>\n",
       "      <td>0.993307</td>\n",
       "      <td>196</td>\n",
       "      <td>AHZNHP6OKXRZV2UJMYDPLWCKFKEA</td>\n",
       "      <td>B09V3885Y3</td>\n",
       "      <td>0</td>\n",
       "      <td>NaN</td>\n",
       "    </tr>\n",
       "    <tr>\n",
       "      <th>191555</th>\n",
       "      <td>2049.0</td>\n",
       "      <td>765.0</td>\n",
       "      <td>0.993307</td>\n",
       "      <td>197</td>\n",
       "      <td>AHZNHP6OKXRZV2UJMYDPLWCKFKEA</td>\n",
       "      <td>B00MOR0FLG</td>\n",
       "      <td>0</td>\n",
       "      <td>NaN</td>\n",
       "    </tr>\n",
       "    <tr>\n",
       "      <th>191591</th>\n",
       "      <td>2049.0</td>\n",
       "      <td>764.0</td>\n",
       "      <td>0.993307</td>\n",
       "      <td>198</td>\n",
       "      <td>AHZNHP6OKXRZV2UJMYDPLWCKFKEA</td>\n",
       "      <td>B01953Z1QA</td>\n",
       "      <td>0</td>\n",
       "      <td>NaN</td>\n",
       "    </tr>\n",
       "    <tr>\n",
       "      <th>191533</th>\n",
       "      <td>2049.0</td>\n",
       "      <td>3573.0</td>\n",
       "      <td>0.993307</td>\n",
       "      <td>199</td>\n",
       "      <td>AHZNHP6OKXRZV2UJMYDPLWCKFKEA</td>\n",
       "      <td>B00DR8V74A</td>\n",
       "      <td>0</td>\n",
       "      <td>NaN</td>\n",
       "    </tr>\n",
       "    <tr>\n",
       "      <th>191579</th>\n",
       "      <td>2049.0</td>\n",
       "      <td>2682.0</td>\n",
       "      <td>0.993307</td>\n",
       "      <td>200</td>\n",
       "      <td>AHZNHP6OKXRZV2UJMYDPLWCKFKEA</td>\n",
       "      <td>B00ZV1C600</td>\n",
       "      <td>0</td>\n",
       "      <td>NaN</td>\n",
       "    </tr>\n",
       "  </tbody>\n",
       "</table>\n",
       "<p>191629 rows × 8 columns</p>\n",
       "</div>"
      ],
      "text/plain": [
       "        user_indice  recommendation     score  rec_ranking  \\\n",
       "80           9912.0          2380.0  0.993307            1   \n",
       "38           9912.0          1640.0  0.993307            2   \n",
       "96           9912.0          2363.0  0.993307            3   \n",
       "152          9912.0          1561.0  0.993307            4   \n",
       "6            9912.0          2552.0  0.993307            5   \n",
       "...             ...             ...       ...          ...   \n",
       "191628       2049.0           766.0  0.993307          196   \n",
       "191555       2049.0           765.0  0.993307          197   \n",
       "191591       2049.0           764.0  0.993307          198   \n",
       "191533       2049.0          3573.0  0.993307          199   \n",
       "191579       2049.0          2682.0  0.993307          200   \n",
       "\n",
       "                             user_id parent_asin  rating  rating_rank  \n",
       "80      AE2AZ2MNROPF33U6SS53VI22OXJA  B008J35YFQ       0          NaN  \n",
       "38      AE2AZ2MNROPF33U6SS53VI22OXJA  B001EYUQKU       0          NaN  \n",
       "96      AE2AZ2MNROPF33U6SS53VI22OXJA  B00GH7UA32       0          NaN  \n",
       "152     AE2AZ2MNROPF33U6SS53VI22OXJA  B0764PLDQV       0          NaN  \n",
       "6       AE2AZ2MNROPF33U6SS53VI22OXJA  B00005R5PO       0          NaN  \n",
       "...                              ...         ...     ...          ...  \n",
       "191628  AHZNHP6OKXRZV2UJMYDPLWCKFKEA  B09V3885Y3       0          NaN  \n",
       "191555  AHZNHP6OKXRZV2UJMYDPLWCKFKEA  B00MOR0FLG       0          NaN  \n",
       "191591  AHZNHP6OKXRZV2UJMYDPLWCKFKEA  B01953Z1QA       0          NaN  \n",
       "191533  AHZNHP6OKXRZV2UJMYDPLWCKFKEA  B00DR8V74A       0          NaN  \n",
       "191579  AHZNHP6OKXRZV2UJMYDPLWCKFKEA  B00ZV1C600       0          NaN  \n",
       "\n",
       "[191629 rows x 8 columns]"
      ]
     },
     "execution_count": 25,
     "metadata": {},
     "output_type": "execute_result"
    }
   ],
   "source": [
    "eval_df = merge_recs_with_target(recommendations_df, label_df, k=args.top_K)\n",
    "eval_df"
   ]
  },
  {
   "cell_type": "code",
   "execution_count": 26,
   "id": "105850af-291c-4187-9671-8208c0afc6bb",
   "metadata": {},
   "outputs": [
    {
     "name": "stderr",
     "output_type": "stream",
     "text": [
      "/home/jupyter/frostmourne/reco-algo/.venv/lib/python3.11/site-packages/evidently/metrics/recsys/f_beta_top_k.py:61: RuntimeWarning: invalid value encountered in divide\n",
      "  return (1 + beta_sqr) * precision_arr * recall_arr / (beta_sqr * precision_arr + recall_arr)\n"
     ]
    }
   ],
   "source": [
    "ranking_report = log_ranking_metrics(args, eval_df)"
   ]
  },
  {
   "cell_type": "markdown",
   "id": "b3eb2dbc-864b-4f5c-8361-901f090363ff",
   "metadata": {},
   "source": [
    "## Classification metrics"
   ]
  },
  {
   "cell_type": "code",
   "execution_count": 27,
   "id": "e37258b7-d439-48bd-8380-8cf239cb5f3f",
   "metadata": {},
   "outputs": [],
   "source": [
    "val_user_indices = val_df[\"user_indice\"].values\n",
    "val_item_indices = val_df[\"item_indice\"].values"
   ]
  },
  {
   "cell_type": "code",
   "execution_count": 28,
   "id": "bc7a8dfa-dea6-459e-b9cd-000ba18cdc45",
   "metadata": {},
   "outputs": [],
   "source": [
    "classifications = model.predict(val_user_indices, val_item_indices)"
   ]
  },
  {
   "cell_type": "code",
   "execution_count": 29,
   "id": "736db564-303a-4d6a-a1f6-3c274c698826",
   "metadata": {
    "scrolled": true
   },
   "outputs": [
    {
     "data": {
      "text/html": [
       "<div>\n",
       "<style scoped>\n",
       "    .dataframe tbody tr th:only-of-type {\n",
       "        vertical-align: middle;\n",
       "    }\n",
       "\n",
       "    .dataframe tbody tr th {\n",
       "        vertical-align: top;\n",
       "    }\n",
       "\n",
       "    .dataframe thead th {\n",
       "        text-align: right;\n",
       "    }\n",
       "</style>\n",
       "<table border=\"1\" class=\"dataframe\">\n",
       "  <thead>\n",
       "    <tr style=\"text-align: right;\">\n",
       "      <th></th>\n",
       "      <th>user_id</th>\n",
       "      <th>parent_asin</th>\n",
       "      <th>rating</th>\n",
       "      <th>timestamp</th>\n",
       "      <th>user_indice</th>\n",
       "      <th>item_indice</th>\n",
       "      <th>main_category</th>\n",
       "      <th>title</th>\n",
       "      <th>description</th>\n",
       "      <th>categories</th>\n",
       "      <th>price</th>\n",
       "      <th>item_sequence</th>\n",
       "      <th>classification_proba</th>\n",
       "      <th>label</th>\n",
       "    </tr>\n",
       "  </thead>\n",
       "  <tbody>\n",
       "    <tr>\n",
       "      <th>0</th>\n",
       "      <td>AGXTHABHPC3XO4VAMCFM2TQR3GFQ</td>\n",
       "      <td>B00TEDK8FQ</td>\n",
       "      <td>0.0</td>\n",
       "      <td>1643101921864</td>\n",
       "      <td>12853</td>\n",
       "      <td>2636</td>\n",
       "      <td>Video Games</td>\n",
       "      <td>Ortz PS4 Vertical Stand with Cooling Fan [Keep...</td>\n",
       "      <td>[]</td>\n",
       "      <td>[Video Games, PlayStation 4, Accessories, Case...</td>\n",
       "      <td>None</td>\n",
       "      <td>[111, 3920, 3879, 3261, 3402, 1230, 2239, 3974...</td>\n",
       "      <td>0.985923</td>\n",
       "      <td>0</td>\n",
       "    </tr>\n",
       "    <tr>\n",
       "      <th>1</th>\n",
       "      <td>AESD4RLWUKM6JTD6SNNWYLHLLQQA</td>\n",
       "      <td>B07BMRGKX2</td>\n",
       "      <td>0.0</td>\n",
       "      <td>1653590691326</td>\n",
       "      <td>141</td>\n",
       "      <td>253</td>\n",
       "      <td>Video Games</td>\n",
       "      <td>Agony - PlayStation 4</td>\n",
       "      <td>[Agony is a first-person, survival horror game...</td>\n",
       "      <td>[Video Games, PlayStation 4, Games]</td>\n",
       "      <td>28.0</td>\n",
       "      <td>[99, 4672, 4434, 1551, 1561, 2497, 3615, 3196,...</td>\n",
       "      <td>0.992141</td>\n",
       "      <td>0</td>\n",
       "    </tr>\n",
       "    <tr>\n",
       "      <th>2</th>\n",
       "      <td>AEXFEQ7QOP6EHDEZ3K6NN27MQ7KA</td>\n",
       "      <td>B0774N9JKW</td>\n",
       "      <td>0.0</td>\n",
       "      <td>1651718479413</td>\n",
       "      <td>13969</td>\n",
       "      <td>1217</td>\n",
       "      <td>Video Games</td>\n",
       "      <td>Sword Art Online: Hollow Realization - PlaySta...</td>\n",
       "      <td>[\"Link start\" into SWORD ART ONLINE -Hollow Re...</td>\n",
       "      <td>[Video Games, PlayStation 4, Games]</td>\n",
       "      <td>18.11</td>\n",
       "      <td>[1016, 3999, 2944, 742, 3161, 3580, 2267, 3623...</td>\n",
       "      <td>0.500000</td>\n",
       "      <td>0</td>\n",
       "    </tr>\n",
       "    <tr>\n",
       "      <th>3</th>\n",
       "      <td>AGDAPPCYV472FOUKDGAHZRW766GA</td>\n",
       "      <td>B07B416X7V</td>\n",
       "      <td>0.0</td>\n",
       "      <td>1649310595659</td>\n",
       "      <td>18594</td>\n",
       "      <td>3519</td>\n",
       "      <td>Video Games</td>\n",
       "      <td>Burnout Paradise Remastered - Xbox One [Digita...</td>\n",
       "      <td>[Make action your middle name as you rule the ...</td>\n",
       "      <td>[Video Games, Xbox One, Games]</td>\n",
       "      <td>None</td>\n",
       "      <td>[3097, 2497, 3203, 3937, 3803, 2323, 2310, 751...</td>\n",
       "      <td>0.500000</td>\n",
       "      <td>0</td>\n",
       "    </tr>\n",
       "    <tr>\n",
       "      <th>4</th>\n",
       "      <td>AG2KBJG5DMEIISPJVF3OVMRB4ALA</td>\n",
       "      <td>B001D8Q5MA</td>\n",
       "      <td>0.0</td>\n",
       "      <td>1636861380056</td>\n",
       "      <td>5042</td>\n",
       "      <td>3122</td>\n",
       "      <td>Video Games</td>\n",
       "      <td>Grand Theft Auto IV [Online Game Code]</td>\n",
       "      <td>[From the Manufacturer, What does the American...</td>\n",
       "      <td>[Video Games, PC]</td>\n",
       "      <td>None</td>\n",
       "      <td>[-1, -1, -1, -1, -1, 3602, 22, 1193, 2486, 1293]</td>\n",
       "      <td>0.974227</td>\n",
       "      <td>0</td>\n",
       "    </tr>\n",
       "    <tr>\n",
       "      <th>...</th>\n",
       "      <td>...</td>\n",
       "      <td>...</td>\n",
       "      <td>...</td>\n",
       "      <td>...</td>\n",
       "      <td>...</td>\n",
       "      <td>...</td>\n",
       "      <td>...</td>\n",
       "      <td>...</td>\n",
       "      <td>...</td>\n",
       "      <td>...</td>\n",
       "      <td>...</td>\n",
       "      <td>...</td>\n",
       "      <td>...</td>\n",
       "      <td>...</td>\n",
       "    </tr>\n",
       "    <tr>\n",
       "      <th>1893</th>\n",
       "      <td>AGVBR47VU2BE4EVWFAXOO26SOWSA</td>\n",
       "      <td>B0C39GFK7P</td>\n",
       "      <td>1.0</td>\n",
       "      <td>1647361584062</td>\n",
       "      <td>388</td>\n",
       "      <td>4128</td>\n",
       "      <td>Computers</td>\n",
       "      <td>Logitech G640 Large Cloth Gaming Mouse Pad, Op...</td>\n",
       "      <td>[The cloth surface of G640 provides ideal surf...</td>\n",
       "      <td>[Video Games, PC, Accessories, Gaming Mice]</td>\n",
       "      <td>29.99</td>\n",
       "      <td>[1938, 2662, 262, 3903, 3610, 1896, 1372, 4160...</td>\n",
       "      <td>0.855999</td>\n",
       "      <td>1</td>\n",
       "    </tr>\n",
       "    <tr>\n",
       "      <th>1894</th>\n",
       "      <td>AFUWPAK6VCGEL2OVIL2YGZNFQJZQ</td>\n",
       "      <td>B08N6NCR3Q</td>\n",
       "      <td>4.0</td>\n",
       "      <td>1642699950266</td>\n",
       "      <td>4205</td>\n",
       "      <td>3269</td>\n",
       "      <td>Video Games</td>\n",
       "      <td>Thrustmaster T 16000M SPACE SIM DUO STICK (PC)</td>\n",
       "      <td>[The THRUSTMASTER T.16000M FCS Space Sim Duo c...</td>\n",
       "      <td>[Video Games, PC, Accessories, Controllers, Fl...</td>\n",
       "      <td>119.51</td>\n",
       "      <td>[-1, -1, -1, -1, 1058, 3558, 377, 1187, 2169, ...</td>\n",
       "      <td>0.993307</td>\n",
       "      <td>1</td>\n",
       "    </tr>\n",
       "    <tr>\n",
       "      <th>1895</th>\n",
       "      <td>AFH63KLSVQQYRNFS7NLQGD3GSP3A</td>\n",
       "      <td>B094YHB1QK</td>\n",
       "      <td>5.0</td>\n",
       "      <td>1652564728981</td>\n",
       "      <td>20004</td>\n",
       "      <td>4190</td>\n",
       "      <td>Video Games</td>\n",
       "      <td>PlayStation DualSense Wireless Controller – Ga...</td>\n",
       "      <td>[Plot a course for astronomical adventures on ...</td>\n",
       "      <td>[Video Games, PlayStation 5, Accessories, Cont...</td>\n",
       "      <td>74.99</td>\n",
       "      <td>[-1, 832, 3126, 1490, 4335, 2035, 1270, 605, 3...</td>\n",
       "      <td>0.993307</td>\n",
       "      <td>1</td>\n",
       "    </tr>\n",
       "    <tr>\n",
       "      <th>1896</th>\n",
       "      <td>AFPPTJOEUPVXA5C63SNRGID3EQNA</td>\n",
       "      <td>B0BVVTQ5JP</td>\n",
       "      <td>4.0</td>\n",
       "      <td>1635968491390</td>\n",
       "      <td>4984</td>\n",
       "      <td>2257</td>\n",
       "      <td>Computers</td>\n",
       "      <td>Logitech G502 HERO High Performance Wired Gami...</td>\n",
       "      <td>[Logitech updated its iconic G502 gaming mouse...</td>\n",
       "      <td>[Video Games, PC, Accessories, Gaming Mice]</td>\n",
       "      <td>45.87</td>\n",
       "      <td>[-1, -1, -1, -1, -1, 4269, 4366, 396, 3060, 464]</td>\n",
       "      <td>0.973120</td>\n",
       "      <td>1</td>\n",
       "    </tr>\n",
       "    <tr>\n",
       "      <th>1897</th>\n",
       "      <td>AHAKU6TTWIHJPZIODW7MGC52M2DA</td>\n",
       "      <td>B06Y2GDXMC</td>\n",
       "      <td>5.0</td>\n",
       "      <td>1639190433307</td>\n",
       "      <td>14633</td>\n",
       "      <td>4535</td>\n",
       "      <td>Video Games</td>\n",
       "      <td>HTC Vive Deluxe Audio Strap</td>\n",
       "      <td>[The Vive Deluxe Audio Strap provides integrat...</td>\n",
       "      <td>[Video Games, PC, Virtual Reality, Accessories]</td>\n",
       "      <td>66.64</td>\n",
       "      <td>[-1, -1, 2750, 1457, 3773, 619, 3546, 3544, 11...</td>\n",
       "      <td>0.990986</td>\n",
       "      <td>1</td>\n",
       "    </tr>\n",
       "  </tbody>\n",
       "</table>\n",
       "<p>1898 rows × 14 columns</p>\n",
       "</div>"
      ],
      "text/plain": [
       "                           user_id parent_asin  rating      timestamp  \\\n",
       "0     AGXTHABHPC3XO4VAMCFM2TQR3GFQ  B00TEDK8FQ     0.0  1643101921864   \n",
       "1     AESD4RLWUKM6JTD6SNNWYLHLLQQA  B07BMRGKX2     0.0  1653590691326   \n",
       "2     AEXFEQ7QOP6EHDEZ3K6NN27MQ7KA  B0774N9JKW     0.0  1651718479413   \n",
       "3     AGDAPPCYV472FOUKDGAHZRW766GA  B07B416X7V     0.0  1649310595659   \n",
       "4     AG2KBJG5DMEIISPJVF3OVMRB4ALA  B001D8Q5MA     0.0  1636861380056   \n",
       "...                            ...         ...     ...            ...   \n",
       "1893  AGVBR47VU2BE4EVWFAXOO26SOWSA  B0C39GFK7P     1.0  1647361584062   \n",
       "1894  AFUWPAK6VCGEL2OVIL2YGZNFQJZQ  B08N6NCR3Q     4.0  1642699950266   \n",
       "1895  AFH63KLSVQQYRNFS7NLQGD3GSP3A  B094YHB1QK     5.0  1652564728981   \n",
       "1896  AFPPTJOEUPVXA5C63SNRGID3EQNA  B0BVVTQ5JP     4.0  1635968491390   \n",
       "1897  AHAKU6TTWIHJPZIODW7MGC52M2DA  B06Y2GDXMC     5.0  1639190433307   \n",
       "\n",
       "      user_indice  item_indice main_category  \\\n",
       "0           12853         2636   Video Games   \n",
       "1             141          253   Video Games   \n",
       "2           13969         1217   Video Games   \n",
       "3           18594         3519   Video Games   \n",
       "4            5042         3122   Video Games   \n",
       "...           ...          ...           ...   \n",
       "1893          388         4128     Computers   \n",
       "1894         4205         3269   Video Games   \n",
       "1895        20004         4190   Video Games   \n",
       "1896         4984         2257     Computers   \n",
       "1897        14633         4535   Video Games   \n",
       "\n",
       "                                                  title  \\\n",
       "0     Ortz PS4 Vertical Stand with Cooling Fan [Keep...   \n",
       "1                                 Agony - PlayStation 4   \n",
       "2     Sword Art Online: Hollow Realization - PlaySta...   \n",
       "3     Burnout Paradise Remastered - Xbox One [Digita...   \n",
       "4                Grand Theft Auto IV [Online Game Code]   \n",
       "...                                                 ...   \n",
       "1893  Logitech G640 Large Cloth Gaming Mouse Pad, Op...   \n",
       "1894     Thrustmaster T 16000M SPACE SIM DUO STICK (PC)   \n",
       "1895  PlayStation DualSense Wireless Controller – Ga...   \n",
       "1896  Logitech G502 HERO High Performance Wired Gami...   \n",
       "1897                        HTC Vive Deluxe Audio Strap   \n",
       "\n",
       "                                            description  \\\n",
       "0                                                    []   \n",
       "1     [Agony is a first-person, survival horror game...   \n",
       "2     [\"Link start\" into SWORD ART ONLINE -Hollow Re...   \n",
       "3     [Make action your middle name as you rule the ...   \n",
       "4     [From the Manufacturer, What does the American...   \n",
       "...                                                 ...   \n",
       "1893  [The cloth surface of G640 provides ideal surf...   \n",
       "1894  [The THRUSTMASTER T.16000M FCS Space Sim Duo c...   \n",
       "1895  [Plot a course for astronomical adventures on ...   \n",
       "1896  [Logitech updated its iconic G502 gaming mouse...   \n",
       "1897  [The Vive Deluxe Audio Strap provides integrat...   \n",
       "\n",
       "                                             categories   price  \\\n",
       "0     [Video Games, PlayStation 4, Accessories, Case...    None   \n",
       "1                   [Video Games, PlayStation 4, Games]    28.0   \n",
       "2                   [Video Games, PlayStation 4, Games]   18.11   \n",
       "3                        [Video Games, Xbox One, Games]    None   \n",
       "4                                     [Video Games, PC]    None   \n",
       "...                                                 ...     ...   \n",
       "1893        [Video Games, PC, Accessories, Gaming Mice]   29.99   \n",
       "1894  [Video Games, PC, Accessories, Controllers, Fl...  119.51   \n",
       "1895  [Video Games, PlayStation 5, Accessories, Cont...   74.99   \n",
       "1896        [Video Games, PC, Accessories, Gaming Mice]   45.87   \n",
       "1897    [Video Games, PC, Virtual Reality, Accessories]   66.64   \n",
       "\n",
       "                                          item_sequence  classification_proba  \\\n",
       "0     [111, 3920, 3879, 3261, 3402, 1230, 2239, 3974...              0.985923   \n",
       "1     [99, 4672, 4434, 1551, 1561, 2497, 3615, 3196,...              0.992141   \n",
       "2     [1016, 3999, 2944, 742, 3161, 3580, 2267, 3623...              0.500000   \n",
       "3     [3097, 2497, 3203, 3937, 3803, 2323, 2310, 751...              0.500000   \n",
       "4      [-1, -1, -1, -1, -1, 3602, 22, 1193, 2486, 1293]              0.974227   \n",
       "...                                                 ...                   ...   \n",
       "1893  [1938, 2662, 262, 3903, 3610, 1896, 1372, 4160...              0.855999   \n",
       "1894  [-1, -1, -1, -1, 1058, 3558, 377, 1187, 2169, ...              0.993307   \n",
       "1895  [-1, 832, 3126, 1490, 4335, 2035, 1270, 605, 3...              0.993307   \n",
       "1896   [-1, -1, -1, -1, -1, 4269, 4366, 396, 3060, 464]              0.973120   \n",
       "1897  [-1, -1, 2750, 1457, 3773, 619, 3546, 3544, 11...              0.990986   \n",
       "\n",
       "      label  \n",
       "0         0  \n",
       "1         0  \n",
       "2         0  \n",
       "3         0  \n",
       "4         0  \n",
       "...     ...  \n",
       "1893      1  \n",
       "1894      1  \n",
       "1895      1  \n",
       "1896      1  \n",
       "1897      1  \n",
       "\n",
       "[1898 rows x 14 columns]"
      ]
     },
     "execution_count": 29,
     "metadata": {},
     "output_type": "execute_result"
    }
   ],
   "source": [
    "eval_classification_df = val_df.assign(\n",
    "    classification_proba=classifications,\n",
    "    label=lambda df: df[args.rating_col].gt(0).astype(int),\n",
    ")\n",
    "eval_classification_df"
   ]
  },
  {
   "cell_type": "code",
   "execution_count": 30,
   "id": "a2aa9621-2567-4ab9-aa6e-04a37dbe01d4",
   "metadata": {},
   "outputs": [
    {
     "name": "stderr",
     "output_type": "stream",
     "text": [
      "/home/jupyter/frostmourne/reco-algo/.venv/lib/python3.11/site-packages/sklearn/metrics/_classification.py:1531: UndefinedMetricWarning:\n",
      "\n",
      "Precision is ill-defined and being set to 0.0 in labels with no predicted samples. Use `zero_division` parameter to control this behavior.\n",
      "\n",
      "/home/jupyter/frostmourne/reco-algo/.venv/lib/python3.11/site-packages/sklearn/metrics/_classification.py:1531: UndefinedMetricWarning:\n",
      "\n",
      "Precision is ill-defined and being set to 0.0 in labels with no predicted samples. Use `zero_division` parameter to control this behavior.\n",
      "\n",
      "/home/jupyter/frostmourne/reco-algo/.venv/lib/python3.11/site-packages/sklearn/metrics/_classification.py:1531: UndefinedMetricWarning:\n",
      "\n",
      "Precision is ill-defined and being set to 0.0 in labels with no predicted samples. Use `zero_division` parameter to control this behavior.\n",
      "\n"
     ]
    }
   ],
   "source": [
    "classification_report = log_classification_metrics(\n",
    "    args,\n",
    "    eval_classification_df,\n",
    "    target_col=\"label\",\n",
    "    prediction_col=\"classification_proba\",\n",
    ")"
   ]
  },
  {
   "cell_type": "markdown",
   "id": "065874f8-8657-4207-91ec-ee7668be92aa",
   "metadata": {},
   "source": [
    "# Clean up"
   ]
  },
  {
   "cell_type": "code",
   "execution_count": 31,
   "id": "fbe3b58e-1e9e-4acd-9c02-f8345db258dd",
   "metadata": {
    "editable": true,
    "slideshow": {
     "slide_type": ""
    },
    "tags": []
   },
   "outputs": [
    {
     "name": "stderr",
     "output_type": "stream",
     "text": [
      "2024/09/24 06:41:39 INFO mlflow.tracking._tracking_service.client: 🏃 View run 003-cf-i2i at: http://localhost:5003/#/experiments/2/runs/0a87ffb1a39a4550ad421945c7ead14b.\n",
      "2024/09/24 06:41:39 INFO mlflow.tracking._tracking_service.client: 🧪 View experiment at: http://localhost:5003/#/experiments/2.\n"
     ]
    }
   ],
   "source": [
    "all_params = [args]\n",
    "\n",
    "if args.log_to_mlflow:\n",
    "    for params in all_params:\n",
    "        params_dict = params.dict()\n",
    "        params_ = {f\"{params.__repr_name__()}.{k}\": v for k, v in params_dict.items()}\n",
    "        mlflow.log_params(params_)\n",
    "\n",
    "    mlflow.end_run()"
   ]
  },
  {
   "cell_type": "markdown",
   "id": "89b93184-99b2-40bc-9dd0-1a12640b3a27",
   "metadata": {
    "jp-MarkdownHeadingCollapsed": true
   },
   "source": [
    "# Appendix"
   ]
  },
  {
   "cell_type": "markdown",
   "id": "2b75e9d9-1335-4cdb-b24b-fa230a82cd63",
   "metadata": {},
   "source": [
    "## Model returning same score for every user-item in top 100"
   ]
  },
  {
   "cell_type": "raw",
   "id": "e97226ca-9f43-4e18-a162-efe21788f291",
   "metadata": {},
   "source": [
    "tmp = model.predict([10] * n_items, np.arange(n_items))"
   ]
  },
  {
   "cell_type": "raw",
   "id": "79de0308-1f37-4007-955e-ccd5181dfb55",
   "metadata": {},
   "source": [
    "pd.Series(tmp).value_counts()"
   ]
  },
  {
   "cell_type": "raw",
   "id": "db42cb2c-ee69-47dc-a98c-58edc7c6f92e",
   "metadata": {},
   "source": [
    "model.forward(9, 4691, debug=False)"
   ]
  },
  {
   "cell_type": "raw",
   "id": "9fe8f89e-74aa-4237-86d3-66ccf2ab2697",
   "metadata": {},
   "source": []
  }
 ],
 "metadata": {
  "kernelspec": {
   "display_name": "Python 3 (ipykernel)",
   "language": "python",
   "name": "python3"
  },
  "language_info": {
   "codemirror_mode": {
    "name": "ipython",
    "version": 3
   },
   "file_extension": ".py",
   "mimetype": "text/x-python",
   "name": "python",
   "nbconvert_exporter": "python",
   "pygments_lexer": "ipython3",
   "version": "3.11.9"
  }
 },
 "nbformat": 4,
 "nbformat_minor": 5
}
