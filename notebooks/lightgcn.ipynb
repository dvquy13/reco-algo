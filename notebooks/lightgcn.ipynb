{
 "cells": [
  {
   "cell_type": "code",
   "execution_count": 1,
   "id": "3c8f6e8d-f776-4d39-898c-d783c5ae3407",
   "metadata": {},
   "outputs": [],
   "source": [
    "%load_ext autoreload\n",
    "%autoreload 2"
   ]
  },
  {
   "cell_type": "code",
   "execution_count": 2,
   "id": "35b3499d-dc9c-405a-8714-a26341b581e1",
   "metadata": {},
   "outputs": [],
   "source": [
    "import sys\n",
    "from loguru import logger\n",
    "\n",
    "import torch\n",
    "import torch.nn as nn\n",
    "import torch.nn.functional as F\n",
    "import torch.sparse as sparse\n",
    "import torch.optim as optim\n",
    "\n",
    "import pandas as pd\n",
    "import plotly.express as px\n",
    "\n",
    "sys.path.insert(0, '..')\n",
    "\n",
    "from src.viz import blueq_colors"
   ]
  },
  {
   "cell_type": "markdown",
   "id": "a5acedcb-89e6-41c6-8969-bf3437fc7898",
   "metadata": {},
   "source": [
    "# Implement"
   ]
  },
  {
   "cell_type": "code",
   "execution_count": 3,
   "id": "d6053118-029e-4d7c-9c02-6f988508e643",
   "metadata": {},
   "outputs": [],
   "source": [
    "from src.train_utils import mse_loss, train, MetricLogCallback\n",
    "from src.model import LightGCN"
   ]
  },
  {
   "cell_type": "code",
   "execution_count": 4,
   "id": "182f6ed4-bdd3-4703-b987-e67c44c94f1b",
   "metadata": {},
   "outputs": [
    {
     "name": "stderr",
     "output_type": "stream",
     "text": [
      "\u001b[32m2024-09-09 00:07:12.291\u001b[0m | \u001b[1mINFO    \u001b[0m | \u001b[36m__main__\u001b[0m:\u001b[36m<module>\u001b[0m:\u001b[36m9\u001b[0m - \u001b[1mUsing cpu device\u001b[0m\n"
     ]
    }
   ],
   "source": [
    "# device = (\n",
    "#     \"cuda\"\n",
    "#     if torch.cuda.is_available()\n",
    "#     else \"mps\"\n",
    "#     if torch.backends.mps.is_available()\n",
    "#     else \"cpu\"\n",
    "# )\n",
    "device = 'cpu'\n",
    "logger.info(f\"Using {device} device\")"
   ]
  },
  {
   "cell_type": "markdown",
   "id": "377a71da-1ee3-474c-b3f4-4488d2a45dd3",
   "metadata": {},
   "source": [
    "# Test implementation"
   ]
  },
  {
   "cell_type": "code",
   "execution_count": 5,
   "id": "ce5326d7-ec9d-422c-bbd8-03c837a23e1e",
   "metadata": {},
   "outputs": [
    {
     "name": "stdout",
     "output_type": "stream",
     "text": [
      "tensor([-0.0043,  0.0017, -0.0015], grad_fn=<SumBackward1>)\n"
     ]
    }
   ],
   "source": [
    "# Mock data\n",
    "user_ids = [0, 0, 1, 2, 2]\n",
    "item_ids = [0, 1, 2, 3, 1]\n",
    "ratings = [1, 4, 5, 3, 2]\n",
    "n_users = len(set(user_ids))\n",
    "n_items = len(set(item_ids))\n",
    "\n",
    "val_user_ids = [0, 1, 2]\n",
    "val_item_ids = [2, 1, 2]\n",
    "val_ratings = [2, 4, 5]\n",
    "\n",
    "model = LightGCN(embedding_dim=64, n_layers=3, user_ids=user_ids, item_ids=item_ids, ratings=ratings, device=device)\n",
    "\n",
    "# Example forward pass\n",
    "users = torch.tensor([0, 1, 2])\n",
    "items = torch.tensor([0, 1, 2])\n",
    "predictions = model.predict(users, items)\n",
    "print(predictions)"
   ]
  },
  {
   "cell_type": "code",
   "execution_count": 6,
   "id": "0c0b1fea-0376-4624-ad8a-d000208a97f5",
   "metadata": {},
   "outputs": [
    {
     "name": "stdout",
     "output_type": "stream",
     "text": [
      "Mock User IDs: [0, 0, 1, 2, 2]\n",
      "Mock Item IDs: [0, 1, 2, 3, 1]\n",
      "Ratings: [1, 4, 5, 3, 2]\n"
     ]
    },
    {
     "data": {
      "application/vnd.jupyter.widget-view+json": {
       "model_id": "8a8b07543f904320bbf4370c81384a23",
       "version_major": 2,
       "version_minor": 0
      },
      "text/plain": [
       "Epochs:   0%|          | 0/50 [00:00<?, ?it/s]"
      ]
     },
     "metadata": {},
     "output_type": "display_data"
    },
    {
     "data": {
      "application/vnd.jupyter.widget-view+json": {
       "model_id": "",
       "version_major": 2,
       "version_minor": 0
      },
      "text/plain": [
       "Training Epoch 1:   0%|          | 0/2 [00:00<?, ?it/s]"
      ]
     },
     "metadata": {},
     "output_type": "display_data"
    },
    {
     "name": "stderr",
     "output_type": "stream",
     "text": [
      "\u001b[32m2024-09-09 00:07:12.785\u001b[0m | \u001b[1mINFO    \u001b[0m | \u001b[36msrc.train_utils\u001b[0m:\u001b[36mtrain\u001b[0m:\u001b[36m122\u001b[0m - \u001b[1mStep 1, Global Loss: 11.5151\u001b[0m\n",
      "\u001b[32m2024-09-09 00:07:12.786\u001b[0m | \u001b[1mINFO    \u001b[0m | \u001b[36msrc.train_utils\u001b[0m:\u001b[36mtrain\u001b[0m:\u001b[36m125\u001b[0m - \u001b[1mStep 1, Learning Rate: 0.001000\u001b[0m\n",
      "\u001b[32m2024-09-09 00:07:12.786\u001b[0m | \u001b[1mINFO    \u001b[0m | \u001b[36msrc.train_utils\u001b[0m:\u001b[36mtrain\u001b[0m:\u001b[36m128\u001b[0m - \u001b[1mStep 1, Gradient Norms: {'grad_norm_user_embedding.weight': 0.06376536190509796, 'grad_norm_item_embedding.weight': 0.07702846080064774, 'total_grad_norm': 0.0999970257167934}\u001b[0m\n",
      "\u001b[32m2024-09-09 00:07:12.788\u001b[0m | \u001b[1mINFO    \u001b[0m | \u001b[36msrc.train_utils\u001b[0m:\u001b[36mtrain\u001b[0m:\u001b[36m122\u001b[0m - \u001b[1mStep 2, Global Loss: 10.2530\u001b[0m\n",
      "\u001b[32m2024-09-09 00:07:12.788\u001b[0m | \u001b[1mINFO    \u001b[0m | \u001b[36msrc.train_utils\u001b[0m:\u001b[36mtrain\u001b[0m:\u001b[36m125\u001b[0m - \u001b[1mStep 2, Learning Rate: 0.001000\u001b[0m\n",
      "\u001b[32m2024-09-09 00:07:12.789\u001b[0m | \u001b[1mINFO    \u001b[0m | \u001b[36msrc.train_utils\u001b[0m:\u001b[36mtrain\u001b[0m:\u001b[36m128\u001b[0m - \u001b[1mStep 2, Gradient Norms: {'grad_norm_user_embedding.weight': 0.11588092893362045, 'grad_norm_item_embedding.weight': 0.11571361124515533, 'total_grad_norm': 0.16376211258381387}\u001b[0m\n",
      "\u001b[32m2024-09-09 00:07:12.789\u001b[0m | \u001b[1mINFO    \u001b[0m | \u001b[36msrc.train_utils\u001b[0m:\u001b[36mtrain\u001b[0m:\u001b[36m140\u001b[0m - \u001b[1mEpoch 1, Loss: 10.2530\u001b[0m\n",
      "\u001b[32m2024-09-09 00:07:12.790\u001b[0m | \u001b[1mINFO    \u001b[0m | \u001b[36msrc.train_utils\u001b[0m:\u001b[36mtrain\u001b[0m:\u001b[36m155\u001b[0m - \u001b[1mEpoch 1, Validation Loss: 14.9994\u001b[0m\n"
     ]
    },
    {
     "data": {
      "application/vnd.jupyter.widget-view+json": {
       "model_id": "",
       "version_major": 2,
       "version_minor": 0
      },
      "text/plain": [
       "Training Epoch 2:   0%|          | 0/2 [00:00<?, ?it/s]"
      ]
     },
     "metadata": {},
     "output_type": "display_data"
    },
    {
     "name": "stderr",
     "output_type": "stream",
     "text": [
      "\u001b[32m2024-09-09 00:07:12.795\u001b[0m | \u001b[1mINFO    \u001b[0m | \u001b[36msrc.train_utils\u001b[0m:\u001b[36mtrain\u001b[0m:\u001b[36m122\u001b[0m - \u001b[1mStep 3, Global Loss: 13.5106\u001b[0m\n",
      "\u001b[32m2024-09-09 00:07:12.795\u001b[0m | \u001b[1mINFO    \u001b[0m | \u001b[36msrc.train_utils\u001b[0m:\u001b[36mtrain\u001b[0m:\u001b[36m125\u001b[0m - \u001b[1mStep 3, Learning Rate: 0.001000\u001b[0m\n",
      "\u001b[32m2024-09-09 00:07:12.796\u001b[0m | \u001b[1mINFO    \u001b[0m | \u001b[36msrc.train_utils\u001b[0m:\u001b[36mtrain\u001b[0m:\u001b[36m128\u001b[0m - \u001b[1mStep 3, Gradient Norms: {'grad_norm_user_embedding.weight': 0.07017427682876587, 'grad_norm_item_embedding.weight': 0.08113785833120346, 'total_grad_norm': 0.10727432676560925}\u001b[0m\n",
      "\u001b[32m2024-09-09 00:07:12.797\u001b[0m | \u001b[1mINFO    \u001b[0m | \u001b[36msrc.train_utils\u001b[0m:\u001b[36mtrain\u001b[0m:\u001b[36m122\u001b[0m - \u001b[1mStep 4, Global Loss: 7.2579\u001b[0m\n",
      "\u001b[32m2024-09-09 00:07:12.797\u001b[0m | \u001b[1mINFO    \u001b[0m | \u001b[36msrc.train_utils\u001b[0m:\u001b[36mtrain\u001b[0m:\u001b[36m125\u001b[0m - \u001b[1mStep 4, Learning Rate: 0.001000\u001b[0m\n",
      "\u001b[32m2024-09-09 00:07:12.797\u001b[0m | \u001b[1mINFO    \u001b[0m | \u001b[36msrc.train_utils\u001b[0m:\u001b[36mtrain\u001b[0m:\u001b[36m128\u001b[0m - \u001b[1mStep 4, Gradient Norms: {'grad_norm_user_embedding.weight': 0.04914429411292076, 'grad_norm_item_embedding.weight': 0.05210519954562187, 'total_grad_norm': 0.07162481039099743}\u001b[0m\n",
      "\u001b[32m2024-09-09 00:07:12.798\u001b[0m | \u001b[1mINFO    \u001b[0m | \u001b[36msrc.train_utils\u001b[0m:\u001b[36mtrain\u001b[0m:\u001b[36m140\u001b[0m - \u001b[1mEpoch 2, Loss: 7.2579\u001b[0m\n",
      "\u001b[32m2024-09-09 00:07:12.799\u001b[0m | \u001b[1mINFO    \u001b[0m | \u001b[36msrc.train_utils\u001b[0m:\u001b[36mtrain\u001b[0m:\u001b[36m155\u001b[0m - \u001b[1mEpoch 2, Validation Loss: 14.9996\u001b[0m\n"
     ]
    },
    {
     "data": {
      "application/vnd.jupyter.widget-view+json": {
       "model_id": "",
       "version_major": 2,
       "version_minor": 0
      },
      "text/plain": [
       "Training Epoch 3:   0%|          | 0/2 [00:00<?, ?it/s]"
      ]
     },
     "metadata": {},
     "output_type": "display_data"
    },
    {
     "name": "stderr",
     "output_type": "stream",
     "text": [
      "\u001b[32m2024-09-09 00:07:12.803\u001b[0m | \u001b[1mINFO    \u001b[0m | \u001b[36msrc.train_utils\u001b[0m:\u001b[36mtrain\u001b[0m:\u001b[36m122\u001b[0m - \u001b[1mStep 5, Global Loss: 12.7595\u001b[0m\n",
      "\u001b[32m2024-09-09 00:07:12.803\u001b[0m | \u001b[1mINFO    \u001b[0m | \u001b[36msrc.train_utils\u001b[0m:\u001b[36mtrain\u001b[0m:\u001b[36m125\u001b[0m - \u001b[1mStep 5, Learning Rate: 0.001000\u001b[0m\n",
      "\u001b[32m2024-09-09 00:07:12.803\u001b[0m | \u001b[1mINFO    \u001b[0m | \u001b[36msrc.train_utils\u001b[0m:\u001b[36mtrain\u001b[0m:\u001b[36m128\u001b[0m - \u001b[1mStep 5, Gradient Norms: {'grad_norm_user_embedding.weight': 0.06755920499563217, 'grad_norm_item_embedding.weight': 0.07502468675374985, 'total_grad_norm': 0.10096013966977334}\u001b[0m\n",
      "\u001b[32m2024-09-09 00:07:12.804\u001b[0m | \u001b[1mINFO    \u001b[0m | \u001b[36msrc.train_utils\u001b[0m:\u001b[36mtrain\u001b[0m:\u001b[36m122\u001b[0m - \u001b[1mStep 6, Global Loss: 8.3827\u001b[0m\n",
      "\u001b[32m2024-09-09 00:07:12.805\u001b[0m | \u001b[1mINFO    \u001b[0m | \u001b[36msrc.train_utils\u001b[0m:\u001b[36mtrain\u001b[0m:\u001b[36m125\u001b[0m - \u001b[1mStep 6, Learning Rate: 0.001000\u001b[0m\n",
      "\u001b[32m2024-09-09 00:07:12.805\u001b[0m | \u001b[1mINFO    \u001b[0m | \u001b[36msrc.train_utils\u001b[0m:\u001b[36mtrain\u001b[0m:\u001b[36m128\u001b[0m - \u001b[1mStep 6, Gradient Norms: {'grad_norm_user_embedding.weight': 0.06795651465654373, 'grad_norm_item_embedding.weight': 0.07804109156131744, 'total_grad_norm': 0.10348188177814982}\u001b[0m\n",
      "\u001b[32m2024-09-09 00:07:12.805\u001b[0m | \u001b[1mINFO    \u001b[0m | \u001b[36msrc.train_utils\u001b[0m:\u001b[36mtrain\u001b[0m:\u001b[36m140\u001b[0m - \u001b[1mEpoch 3, Loss: 8.3827\u001b[0m\n",
      "\u001b[32m2024-09-09 00:07:12.806\u001b[0m | \u001b[1mINFO    \u001b[0m | \u001b[36msrc.train_utils\u001b[0m:\u001b[36mtrain\u001b[0m:\u001b[36m155\u001b[0m - \u001b[1mEpoch 3, Validation Loss: 14.9999\u001b[0m\n",
      "\u001b[32m2024-09-09 00:07:12.806\u001b[0m | \u001b[1mINFO    \u001b[0m | \u001b[36msrc.train_utils\u001b[0m:\u001b[36mtrain\u001b[0m:\u001b[36m165\u001b[0m - \u001b[1mEarly stopping at epoch 3\u001b[0m\n"
     ]
    }
   ],
   "source": [
    "import random\n",
    "import numpy as np\n",
    "from torch.utils.data import DataLoader\n",
    "from src.dataset_loader import UserItemRatingDataset\n",
    "\n",
    "# Fixing random seed for reproducibility\n",
    "random.seed(42)\n",
    "np.random.seed(42)\n",
    "\n",
    "embedding_dim = 8\n",
    "n_layers = 3\n",
    "batch_size = 4\n",
    "\n",
    "# Display mock dataset\n",
    "print(\"Mock User IDs:\", user_ids)\n",
    "print(\"Mock Item IDs:\", item_ids)\n",
    "print(\"Ratings:\", ratings)\n",
    "\n",
    "# class RatingDataset(Dataset):\n",
    "#     def __init__(self, user_ids, item_ids, ratings):\n",
    "#         \"\"\"\n",
    "#         Args:\n",
    "#             user_ids (list or array): List of user indices.\n",
    "#             item_ids (list or array): List of item indices.\n",
    "#             ratings (list or array): List of corresponding ratings.\n",
    "#         \"\"\"\n",
    "#         self.user_ids = user_ids\n",
    "#         self.item_ids = item_ids\n",
    "#         self.ratings = ratings\n",
    "    \n",
    "#     def __len__(self):\n",
    "#         return len(self.user_ids)\n",
    "    \n",
    "#     def __getitem__(self, idx):\n",
    "#         user = self.user_ids[idx]\n",
    "#         item = self.item_ids[idx]\n",
    "#         rating = self.ratings[idx]\n",
    "#         return user, item, rating\n",
    "\n",
    "rating_dataset = UserItemRatingDataset(user_ids, item_ids, ratings)\n",
    "dataloader = DataLoader(rating_dataset, batch_size=batch_size, shuffle=True)\n",
    "\n",
    "val_rating_dataset = UserItemRatingDataset(val_user_ids, val_item_ids, val_ratings)\n",
    "val_dataloader = DataLoader(val_rating_dataset, batch_size=batch_size, shuffle=True)\n",
    "\n",
    "# Instantiate LightGCN model\n",
    "model = LightGCN(embedding_dim=embedding_dim, n_layers=n_layers,\n",
    "                 user_ids=user_ids, item_ids=item_ids, ratings=ratings, device=device)\n",
    "\n",
    "# Training loop\n",
    "n_epochs = 50\n",
    "\n",
    "train(model, dataloader, val_dataloader, epochs=n_epochs, patience=2, print_steps=1, lr=0.001, device=device, progress_bar_type='tqdm_notebook')"
   ]
  },
  {
   "cell_type": "markdown",
   "id": "170dec89-a874-4dce-8f94-07d978fcc5b8",
   "metadata": {},
   "source": [
    "# Prep data"
   ]
  },
  {
   "cell_type": "code",
   "execution_count": 7,
   "id": "83803362-5eaa-40bb-b28b-878316d5db5d",
   "metadata": {},
   "outputs": [],
   "source": [
    "train_df = pd.read_parquet(\"../data/train.parquet\")\n",
    "val_df = pd.read_parquet(\"../data/val.parquet\")"
   ]
  },
  {
   "cell_type": "code",
   "execution_count": 8,
   "id": "b0d4bfbb-f3bb-40bc-ae22-23e8d8f9d092",
   "metadata": {},
   "outputs": [],
   "source": [
    "from src.id_mapper import IDMapper"
   ]
  },
  {
   "cell_type": "code",
   "execution_count": 9,
   "id": "17d6c998-5fc4-43f7-8e19-0f469bb0374b",
   "metadata": {},
   "outputs": [
    {
     "name": "stderr",
     "output_type": "stream",
     "text": [
      "\u001b[32m2024-09-09 00:07:12.882\u001b[0m | \u001b[1mINFO    \u001b[0m | \u001b[36m__main__\u001b[0m:\u001b[36m<module>\u001b[0m:\u001b[36m6\u001b[0m - \u001b[1mlen(unique_user_ids)=5,223, len(unique_item_ids)=2,653\u001b[0m\n"
     ]
    }
   ],
   "source": [
    "user_ids = train_df['user_id'].values\n",
    "item_ids = train_df['parent_asin'].values\n",
    "unique_user_ids = list(set(user_ids))\n",
    "unique_item_ids = list(set(item_ids))\n",
    "\n",
    "logger.info(f\"{len(unique_user_ids)=:,.0f}, {len(unique_item_ids)=:,.0f}\")"
   ]
  },
  {
   "cell_type": "code",
   "execution_count": 10,
   "id": "d652b08a-bdeb-485a-9700-39651c225241",
   "metadata": {},
   "outputs": [],
   "source": [
    "idm = IDMapper()\n",
    "idm.fit(unique_user_ids, unique_item_ids)"
   ]
  },
  {
   "cell_type": "code",
   "execution_count": 11,
   "id": "a8861682-ac7c-410d-b263-17056ceb2466",
   "metadata": {},
   "outputs": [],
   "source": [
    "user_indices = [idm.get_user_index(user_id) for user_id in user_ids]\n",
    "item_indices = [idm.get_item_index(item_id) for item_id in item_ids]\n",
    "ratings = train_df['rating'].values.tolist()"
   ]
  },
  {
   "cell_type": "code",
   "execution_count": 12,
   "id": "e73143ed-5992-4f7d-83d1-d2dc4978af5f",
   "metadata": {},
   "outputs": [],
   "source": [
    "val_user_indices = [idm.get_user_index(user_id) for user_id in val_df['user_id']]\n",
    "val_item_indices = [idm.get_item_index(item_id) for item_id in val_df['parent_asin']]\n",
    "val_ratings = val_df['rating'].values.tolist()"
   ]
  },
  {
   "cell_type": "markdown",
   "id": "5260fbe7-2f90-44a1-be74-ce5db9b511ee",
   "metadata": {},
   "source": [
    "# Train"
   ]
  },
  {
   "cell_type": "code",
   "execution_count": 13,
   "id": "240a04ed-8898-443f-b0f4-7399bfa63810",
   "metadata": {},
   "outputs": [],
   "source": [
    "batch_size = 32\n",
    "\n",
    "rating_dataset = UserItemRatingDataset(user_indices, item_indices, ratings)\n",
    "dataloader = DataLoader(rating_dataset, batch_size=batch_size, shuffle=True)\n",
    "\n",
    "val_rating_dataset = UserItemRatingDataset(val_user_indices, val_item_indices, val_ratings)\n",
    "val_dataloader = DataLoader(val_rating_dataset, batch_size=batch_size, shuffle=True)"
   ]
  },
  {
   "cell_type": "code",
   "execution_count": 14,
   "id": "22dcf157-425f-4d15-9b53-e1ff93887def",
   "metadata": {
    "scrolled": true
   },
   "outputs": [],
   "source": [
    "embedding_dim = 128\n",
    "n_layers = 3\n",
    "\n",
    "# Instantiate LightGCN model\n",
    "model = LightGCN(embedding_dim=embedding_dim, n_layers=n_layers,\n",
    "                 user_ids=user_indices, item_ids=item_indices, ratings=ratings, device=device)"
   ]
  },
  {
   "cell_type": "markdown",
   "id": "b8cbb2a8-a578-4ad2-941e-efd01d930336",
   "metadata": {},
   "source": [
    "#### Predict before train"
   ]
  },
  {
   "cell_type": "code",
   "execution_count": 15,
   "id": "9eb1583b-40f7-4157-a383-5891389ac119",
   "metadata": {
    "scrolled": true
   },
   "outputs": [
    {
     "data": {
      "text/html": [
       "<div>\n",
       "<style scoped>\n",
       "    .dataframe tbody tr th:only-of-type {\n",
       "        vertical-align: middle;\n",
       "    }\n",
       "\n",
       "    .dataframe tbody tr th {\n",
       "        vertical-align: top;\n",
       "    }\n",
       "\n",
       "    .dataframe thead th {\n",
       "        text-align: right;\n",
       "    }\n",
       "</style>\n",
       "<table border=\"1\" class=\"dataframe\">\n",
       "  <thead>\n",
       "    <tr style=\"text-align: right;\">\n",
       "      <th></th>\n",
       "      <th>user_id</th>\n",
       "      <th>parent_asin</th>\n",
       "      <th>rating</th>\n",
       "      <th>timestamp</th>\n",
       "    </tr>\n",
       "  </thead>\n",
       "  <tbody>\n",
       "    <tr>\n",
       "      <th>34367</th>\n",
       "      <td>AEHW2B54HDLZ3APBEWXHYLZ6SSYQ</td>\n",
       "      <td>B07MYVF61Y</td>\n",
       "      <td>4.0</td>\n",
       "      <td>1654225907045</td>\n",
       "    </tr>\n",
       "  </tbody>\n",
       "</table>\n",
       "</div>"
      ],
      "text/plain": [
       "                            user_id parent_asin  rating      timestamp\n",
       "34367  AEHW2B54HDLZ3APBEWXHYLZ6SSYQ  B07MYVF61Y     4.0  1654225907045"
      ]
     },
     "execution_count": 15,
     "metadata": {},
     "output_type": "execute_result"
    }
   ],
   "source": [
    "user_id = 'AEHW2B54HDLZ3APBEWXHYLZ6SSYQ'\n",
    "val_df.loc[lambda df: df['user_id'].eq(user_id)]"
   ]
  },
  {
   "cell_type": "code",
   "execution_count": 16,
   "id": "c48fbc80-eda8-4dff-a246-95f8f2f75082",
   "metadata": {},
   "outputs": [
    {
     "data": {
      "text/plain": [
       "tensor([0.0066], grad_fn=<SumBackward1>)"
      ]
     },
     "execution_count": 16,
     "metadata": {},
     "output_type": "execute_result"
    }
   ],
   "source": [
    "item_id = 'B07MYVF61Y'\n",
    "user_indice = idm.get_user_index(user_id)\n",
    "item_indice = idm.get_item_index(item_id)\n",
    "\n",
    "model.predict([user_indice], [item_indice])"
   ]
  },
  {
   "cell_type": "markdown",
   "id": "c2fd217c-c0c8-4e7c-81fe-6eb36f4729b5",
   "metadata": {},
   "source": [
    "#### Training loop"
   ]
  },
  {
   "cell_type": "code",
   "execution_count": null,
   "id": "c63eb300-bda8-4c35-93ad-71a4c2e025fe",
   "metadata": {
    "scrolled": true
   },
   "outputs": [
    {
     "data": {
      "application/vnd.jupyter.widget-view+json": {
       "model_id": "69196d53f7e8446da59837df33e306bf",
       "version_major": 2,
       "version_minor": 0
      },
      "text/plain": [
       "Epochs:   0%|          | 0/50 [00:00<?, ?it/s]"
      ]
     },
     "metadata": {},
     "output_type": "display_data"
    },
    {
     "data": {
      "application/vnd.jupyter.widget-view+json": {
       "model_id": "",
       "version_major": 2,
       "version_minor": 0
      },
      "text/plain": [
       "Training Epoch 1:   0%|          | 0/566 [00:00<?, ?it/s]"
      ]
     },
     "metadata": {},
     "output_type": "display_data"
    },
    {
     "name": "stderr",
     "output_type": "stream",
     "text": [
      "\u001b[32m2024-09-09 00:07:14.880\u001b[0m | \u001b[1mINFO    \u001b[0m | \u001b[36msrc.train_utils\u001b[0m:\u001b[36mtrain\u001b[0m:\u001b[36m122\u001b[0m - \u001b[1mStep 100, Global Loss: 19.7837\u001b[0m\n",
      "\u001b[32m2024-09-09 00:07:14.881\u001b[0m | \u001b[1mINFO    \u001b[0m | \u001b[36msrc.train_utils\u001b[0m:\u001b[36mtrain\u001b[0m:\u001b[36m125\u001b[0m - \u001b[1mStep 100, Learning Rate: 0.030000\u001b[0m\n",
      "\u001b[32m2024-09-09 00:07:14.881\u001b[0m | \u001b[1mINFO    \u001b[0m | \u001b[36msrc.train_utils\u001b[0m:\u001b[36mtrain\u001b[0m:\u001b[36m128\u001b[0m - \u001b[1mStep 100, Gradient Norms: {'grad_norm_user_embedding.weight': 0.2209496945142746, 'grad_norm_item_embedding.weight': 0.17535638809204102, 'total_grad_norm': 0.2820791207279223}\u001b[0m\n",
      "\u001b[32m2024-09-09 00:07:16.753\u001b[0m | \u001b[1mINFO    \u001b[0m | \u001b[36msrc.train_utils\u001b[0m:\u001b[36mtrain\u001b[0m:\u001b[36m122\u001b[0m - \u001b[1mStep 200, Global Loss: 19.6663\u001b[0m\n",
      "\u001b[32m2024-09-09 00:07:16.753\u001b[0m | \u001b[1mINFO    \u001b[0m | \u001b[36msrc.train_utils\u001b[0m:\u001b[36mtrain\u001b[0m:\u001b[36m125\u001b[0m - \u001b[1mStep 200, Learning Rate: 0.030000\u001b[0m\n",
      "\u001b[32m2024-09-09 00:07:16.754\u001b[0m | \u001b[1mINFO    \u001b[0m | \u001b[36msrc.train_utils\u001b[0m:\u001b[36mtrain\u001b[0m:\u001b[36m128\u001b[0m - \u001b[1mStep 200, Gradient Norms: {'grad_norm_user_embedding.weight': 0.42739802598953247, 'grad_norm_item_embedding.weight': 0.3074932098388672, 'total_grad_norm': 0.5265179452941359}\u001b[0m\n",
      "\u001b[32m2024-09-09 00:07:18.665\u001b[0m | \u001b[1mINFO    \u001b[0m | \u001b[36msrc.train_utils\u001b[0m:\u001b[36mtrain\u001b[0m:\u001b[36m122\u001b[0m - \u001b[1mStep 300, Global Loss: 19.3867\u001b[0m\n",
      "\u001b[32m2024-09-09 00:07:18.666\u001b[0m | \u001b[1mINFO    \u001b[0m | \u001b[36msrc.train_utils\u001b[0m:\u001b[36mtrain\u001b[0m:\u001b[36m125\u001b[0m - \u001b[1mStep 300, Learning Rate: 0.030000\u001b[0m\n",
      "\u001b[32m2024-09-09 00:07:18.666\u001b[0m | \u001b[1mINFO    \u001b[0m | \u001b[36msrc.train_utils\u001b[0m:\u001b[36mtrain\u001b[0m:\u001b[36m128\u001b[0m - \u001b[1mStep 300, Gradient Norms: {'grad_norm_user_embedding.weight': 0.5370580554008484, 'grad_norm_item_embedding.weight': 0.3691924512386322, 'total_grad_norm': 0.6517165188350917}\u001b[0m\n",
      "\u001b[32m2024-09-09 00:07:20.607\u001b[0m | \u001b[1mINFO    \u001b[0m | \u001b[36msrc.train_utils\u001b[0m:\u001b[36mtrain\u001b[0m:\u001b[36m122\u001b[0m - \u001b[1mStep 400, Global Loss: 18.6834\u001b[0m\n",
      "\u001b[32m2024-09-09 00:07:20.607\u001b[0m | \u001b[1mINFO    \u001b[0m | \u001b[36msrc.train_utils\u001b[0m:\u001b[36mtrain\u001b[0m:\u001b[36m125\u001b[0m - \u001b[1mStep 400, Learning Rate: 0.030000\u001b[0m\n",
      "\u001b[32m2024-09-09 00:07:20.607\u001b[0m | \u001b[1mINFO    \u001b[0m | \u001b[36msrc.train_utils\u001b[0m:\u001b[36mtrain\u001b[0m:\u001b[36m128\u001b[0m - \u001b[1mStep 400, Gradient Norms: {'grad_norm_user_embedding.weight': 0.5837400555610657, 'grad_norm_item_embedding.weight': 0.4613431692123413, 'total_grad_norm': 0.7440362707861244}\u001b[0m\n",
      "\u001b[32m2024-09-09 00:07:22.553\u001b[0m | \u001b[1mINFO    \u001b[0m | \u001b[36msrc.train_utils\u001b[0m:\u001b[36mtrain\u001b[0m:\u001b[36m122\u001b[0m - \u001b[1mStep 500, Global Loss: 17.7983\u001b[0m\n",
      "\u001b[32m2024-09-09 00:07:22.554\u001b[0m | \u001b[1mINFO    \u001b[0m | \u001b[36msrc.train_utils\u001b[0m:\u001b[36mtrain\u001b[0m:\u001b[36m125\u001b[0m - \u001b[1mStep 500, Learning Rate: 0.030000\u001b[0m\n",
      "\u001b[32m2024-09-09 00:07:22.554\u001b[0m | \u001b[1mINFO    \u001b[0m | \u001b[36msrc.train_utils\u001b[0m:\u001b[36mtrain\u001b[0m:\u001b[36m128\u001b[0m - \u001b[1mStep 500, Gradient Norms: {'grad_norm_user_embedding.weight': 0.7338777780532837, 'grad_norm_item_embedding.weight': 0.48600661754608154, 'total_grad_norm': 0.8802153290070606}\u001b[0m\n",
      "\u001b[32m2024-09-09 00:07:23.851\u001b[0m | \u001b[1mINFO    \u001b[0m | \u001b[36msrc.train_utils\u001b[0m:\u001b[36mtrain\u001b[0m:\u001b[36m140\u001b[0m - \u001b[1mEpoch 1, Loss: 17.0809\u001b[0m\n",
      "\u001b[32m2024-09-09 00:07:24.711\u001b[0m | \u001b[1mINFO    \u001b[0m | \u001b[36msrc.train_utils\u001b[0m:\u001b[36mtrain\u001b[0m:\u001b[36m155\u001b[0m - \u001b[1mEpoch 1, Validation Loss: 17.4918\u001b[0m\n"
     ]
    },
    {
     "data": {
      "application/vnd.jupyter.widget-view+json": {
       "model_id": "",
       "version_major": 2,
       "version_minor": 0
      },
      "text/plain": [
       "Training Epoch 2:   0%|          | 0/566 [00:00<?, ?it/s]"
      ]
     },
     "metadata": {},
     "output_type": "display_data"
    },
    {
     "name": "stderr",
     "output_type": "stream",
     "text": [
      "\u001b[32m2024-09-09 00:07:25.383\u001b[0m | \u001b[1mINFO    \u001b[0m | \u001b[36msrc.train_utils\u001b[0m:\u001b[36mtrain\u001b[0m:\u001b[36m122\u001b[0m - \u001b[1mStep 600, Global Loss: 6.5678\u001b[0m\n",
      "\u001b[32m2024-09-09 00:07:25.384\u001b[0m | \u001b[1mINFO    \u001b[0m | \u001b[36msrc.train_utils\u001b[0m:\u001b[36mtrain\u001b[0m:\u001b[36m125\u001b[0m - \u001b[1mStep 600, Learning Rate: 0.030000\u001b[0m\n",
      "\u001b[32m2024-09-09 00:07:25.384\u001b[0m | \u001b[1mINFO    \u001b[0m | \u001b[36msrc.train_utils\u001b[0m:\u001b[36mtrain\u001b[0m:\u001b[36m128\u001b[0m - \u001b[1mStep 600, Gradient Norms: {'grad_norm_user_embedding.weight': 0.3292803168296814, 'grad_norm_item_embedding.weight': 0.32689398527145386, 'total_grad_norm': 0.4639883669426518}\u001b[0m\n",
      "\u001b[32m2024-09-09 00:07:27.395\u001b[0m | \u001b[1mINFO    \u001b[0m | \u001b[36msrc.train_utils\u001b[0m:\u001b[36mtrain\u001b[0m:\u001b[36m122\u001b[0m - \u001b[1mStep 700, Global Loss: 6.1948\u001b[0m\n",
      "\u001b[32m2024-09-09 00:07:27.395\u001b[0m | \u001b[1mINFO    \u001b[0m | \u001b[36msrc.train_utils\u001b[0m:\u001b[36mtrain\u001b[0m:\u001b[36m125\u001b[0m - \u001b[1mStep 700, Learning Rate: 0.030000\u001b[0m\n",
      "\u001b[32m2024-09-09 00:07:27.396\u001b[0m | \u001b[1mINFO    \u001b[0m | \u001b[36msrc.train_utils\u001b[0m:\u001b[36mtrain\u001b[0m:\u001b[36m128\u001b[0m - \u001b[1mStep 700, Gradient Norms: {'grad_norm_user_embedding.weight': 0.42932167649269104, 'grad_norm_item_embedding.weight': 0.20987744629383087, 'total_grad_norm': 0.4778761810022704}\u001b[0m\n",
      "\u001b[32m2024-09-09 00:07:29.430\u001b[0m | \u001b[1mINFO    \u001b[0m | \u001b[36msrc.train_utils\u001b[0m:\u001b[36mtrain\u001b[0m:\u001b[36m122\u001b[0m - \u001b[1mStep 800, Global Loss: 5.7125\u001b[0m\n",
      "\u001b[32m2024-09-09 00:07:29.431\u001b[0m | \u001b[1mINFO    \u001b[0m | \u001b[36msrc.train_utils\u001b[0m:\u001b[36mtrain\u001b[0m:\u001b[36m125\u001b[0m - \u001b[1mStep 800, Learning Rate: 0.030000\u001b[0m\n",
      "\u001b[32m2024-09-09 00:07:29.431\u001b[0m | \u001b[1mINFO    \u001b[0m | \u001b[36msrc.train_utils\u001b[0m:\u001b[36mtrain\u001b[0m:\u001b[36m128\u001b[0m - \u001b[1mStep 800, Gradient Norms: {'grad_norm_user_embedding.weight': 0.4257723391056061, 'grad_norm_item_embedding.weight': 0.32463398575782776, 'total_grad_norm': 0.5354150814615448}\u001b[0m\n",
      "\u001b[32m2024-09-09 00:07:31.396\u001b[0m | \u001b[1mINFO    \u001b[0m | \u001b[36msrc.train_utils\u001b[0m:\u001b[36mtrain\u001b[0m:\u001b[36m122\u001b[0m - \u001b[1mStep 900, Global Loss: 5.5049\u001b[0m\n",
      "\u001b[32m2024-09-09 00:07:31.397\u001b[0m | \u001b[1mINFO    \u001b[0m | \u001b[36msrc.train_utils\u001b[0m:\u001b[36mtrain\u001b[0m:\u001b[36m125\u001b[0m - \u001b[1mStep 900, Learning Rate: 0.030000\u001b[0m\n",
      "\u001b[32m2024-09-09 00:07:31.397\u001b[0m | \u001b[1mINFO    \u001b[0m | \u001b[36msrc.train_utils\u001b[0m:\u001b[36mtrain\u001b[0m:\u001b[36m128\u001b[0m - \u001b[1mStep 900, Gradient Norms: {'grad_norm_user_embedding.weight': 0.48613154888153076, 'grad_norm_item_embedding.weight': 0.30968740582466125, 'total_grad_norm': 0.5763941118231211}\u001b[0m\n",
      "\u001b[32m2024-09-09 00:07:33.355\u001b[0m | \u001b[1mINFO    \u001b[0m | \u001b[36msrc.train_utils\u001b[0m:\u001b[36mtrain\u001b[0m:\u001b[36m122\u001b[0m - \u001b[1mStep 1000, Global Loss: 5.3265\u001b[0m\n",
      "\u001b[32m2024-09-09 00:07:33.355\u001b[0m | \u001b[1mINFO    \u001b[0m | \u001b[36msrc.train_utils\u001b[0m:\u001b[36mtrain\u001b[0m:\u001b[36m125\u001b[0m - \u001b[1mStep 1000, Learning Rate: 0.027000\u001b[0m\n",
      "\u001b[32m2024-09-09 00:07:33.355\u001b[0m | \u001b[1mINFO    \u001b[0m | \u001b[36msrc.train_utils\u001b[0m:\u001b[36mtrain\u001b[0m:\u001b[36m128\u001b[0m - \u001b[1mStep 1000, Gradient Norms: {'grad_norm_user_embedding.weight': 0.44008058309555054, 'grad_norm_item_embedding.weight': 0.2548186182975769, 'total_grad_norm': 0.5085306754255892}\u001b[0m\n",
      "\u001b[32m2024-09-09 00:07:35.295\u001b[0m | \u001b[1mINFO    \u001b[0m | \u001b[36msrc.train_utils\u001b[0m:\u001b[36mtrain\u001b[0m:\u001b[36m122\u001b[0m - \u001b[1mStep 1100, Global Loss: 5.1930\u001b[0m\n",
      "\u001b[32m2024-09-09 00:07:35.296\u001b[0m | \u001b[1mINFO    \u001b[0m | \u001b[36msrc.train_utils\u001b[0m:\u001b[36mtrain\u001b[0m:\u001b[36m125\u001b[0m - \u001b[1mStep 1100, Learning Rate: 0.027000\u001b[0m\n",
      "\u001b[32m2024-09-09 00:07:35.296\u001b[0m | \u001b[1mINFO    \u001b[0m | \u001b[36msrc.train_utils\u001b[0m:\u001b[36mtrain\u001b[0m:\u001b[36m128\u001b[0m - \u001b[1mStep 1100, Gradient Norms: {'grad_norm_user_embedding.weight': 0.4223916828632355, 'grad_norm_item_embedding.weight': 0.2912946939468384, 'total_grad_norm': 0.5130958316665789}\u001b[0m\n",
      "\u001b[32m2024-09-09 00:07:35.975\u001b[0m | \u001b[1mINFO    \u001b[0m | \u001b[36msrc.train_utils\u001b[0m:\u001b[36mtrain\u001b[0m:\u001b[36m140\u001b[0m - \u001b[1mEpoch 2, Loss: 5.1509\u001b[0m\n",
      "\u001b[32m2024-09-09 00:07:36.885\u001b[0m | \u001b[1mINFO    \u001b[0m | \u001b[36msrc.train_utils\u001b[0m:\u001b[36mtrain\u001b[0m:\u001b[36m155\u001b[0m - \u001b[1mEpoch 2, Validation Loss: 14.0675\u001b[0m\n"
     ]
    },
    {
     "data": {
      "application/vnd.jupyter.widget-view+json": {
       "model_id": "",
       "version_major": 2,
       "version_minor": 0
      },
      "text/plain": [
       "Training Epoch 3:   0%|          | 0/566 [00:00<?, ?it/s]"
      ]
     },
     "metadata": {},
     "output_type": "display_data"
    },
    {
     "name": "stderr",
     "output_type": "stream",
     "text": [
      "\u001b[32m2024-09-09 00:07:38.323\u001b[0m | \u001b[1mINFO    \u001b[0m | \u001b[36msrc.train_utils\u001b[0m:\u001b[36mtrain\u001b[0m:\u001b[36m122\u001b[0m - \u001b[1mStep 1200, Global Loss: 1.6251\u001b[0m\n",
      "\u001b[32m2024-09-09 00:07:38.324\u001b[0m | \u001b[1mINFO    \u001b[0m | \u001b[36msrc.train_utils\u001b[0m:\u001b[36mtrain\u001b[0m:\u001b[36m125\u001b[0m - \u001b[1mStep 1200, Learning Rate: 0.027000\u001b[0m\n",
      "\u001b[32m2024-09-09 00:07:38.324\u001b[0m | \u001b[1mINFO    \u001b[0m | \u001b[36msrc.train_utils\u001b[0m:\u001b[36mtrain\u001b[0m:\u001b[36m128\u001b[0m - \u001b[1mStep 1200, Gradient Norms: {'grad_norm_user_embedding.weight': 0.2486582100391388, 'grad_norm_item_embedding.weight': 0.22259633243083954, 'total_grad_norm': 0.33373647183298577}\u001b[0m\n",
      "\u001b[32m2024-09-09 00:07:40.403\u001b[0m | \u001b[1mINFO    \u001b[0m | \u001b[36msrc.train_utils\u001b[0m:\u001b[36mtrain\u001b[0m:\u001b[36m122\u001b[0m - \u001b[1mStep 1300, Global Loss: 1.5008\u001b[0m\n",
      "\u001b[32m2024-09-09 00:07:40.404\u001b[0m | \u001b[1mINFO    \u001b[0m | \u001b[36msrc.train_utils\u001b[0m:\u001b[36mtrain\u001b[0m:\u001b[36m125\u001b[0m - \u001b[1mStep 1300, Learning Rate: 0.027000\u001b[0m\n",
      "\u001b[32m2024-09-09 00:07:40.404\u001b[0m | \u001b[1mINFO    \u001b[0m | \u001b[36msrc.train_utils\u001b[0m:\u001b[36mtrain\u001b[0m:\u001b[36m128\u001b[0m - \u001b[1mStep 1300, Gradient Norms: {'grad_norm_user_embedding.weight': 0.17985351383686066, 'grad_norm_item_embedding.weight': 0.14489413797855377, 'total_grad_norm': 0.23095799977488116}\u001b[0m\n",
      "\u001b[32m2024-09-09 00:07:42.524\u001b[0m | \u001b[1mINFO    \u001b[0m | \u001b[36msrc.train_utils\u001b[0m:\u001b[36mtrain\u001b[0m:\u001b[36m122\u001b[0m - \u001b[1mStep 1400, Global Loss: 1.4495\u001b[0m\n",
      "\u001b[32m2024-09-09 00:07:42.525\u001b[0m | \u001b[1mINFO    \u001b[0m | \u001b[36msrc.train_utils\u001b[0m:\u001b[36mtrain\u001b[0m:\u001b[36m125\u001b[0m - \u001b[1mStep 1400, Learning Rate: 0.027000\u001b[0m\n",
      "\u001b[32m2024-09-09 00:07:42.525\u001b[0m | \u001b[1mINFO    \u001b[0m | \u001b[36msrc.train_utils\u001b[0m:\u001b[36mtrain\u001b[0m:\u001b[36m128\u001b[0m - \u001b[1mStep 1400, Gradient Norms: {'grad_norm_user_embedding.weight': 0.2267814576625824, 'grad_norm_item_embedding.weight': 0.17092251777648926, 'total_grad_norm': 0.2839794651424992}\u001b[0m\n",
      "\u001b[32m2024-09-09 00:07:44.590\u001b[0m | \u001b[1mINFO    \u001b[0m | \u001b[36msrc.train_utils\u001b[0m:\u001b[36mtrain\u001b[0m:\u001b[36m122\u001b[0m - \u001b[1mStep 1500, Global Loss: 1.4399\u001b[0m\n",
      "\u001b[32m2024-09-09 00:07:44.590\u001b[0m | \u001b[1mINFO    \u001b[0m | \u001b[36msrc.train_utils\u001b[0m:\u001b[36mtrain\u001b[0m:\u001b[36m125\u001b[0m - \u001b[1mStep 1500, Learning Rate: 0.027000\u001b[0m\n",
      "\u001b[32m2024-09-09 00:07:44.591\u001b[0m | \u001b[1mINFO    \u001b[0m | \u001b[36msrc.train_utils\u001b[0m:\u001b[36mtrain\u001b[0m:\u001b[36m128\u001b[0m - \u001b[1mStep 1500, Gradient Norms: {'grad_norm_user_embedding.weight': 0.2756117284297943, 'grad_norm_item_embedding.weight': 0.19281281530857086, 'total_grad_norm': 0.33636082797388245}\u001b[0m\n",
      "\u001b[32m2024-09-09 00:07:46.681\u001b[0m | \u001b[1mINFO    \u001b[0m | \u001b[36msrc.train_utils\u001b[0m:\u001b[36mtrain\u001b[0m:\u001b[36m122\u001b[0m - \u001b[1mStep 1600, Global Loss: 1.4565\u001b[0m\n",
      "\u001b[32m2024-09-09 00:07:46.682\u001b[0m | \u001b[1mINFO    \u001b[0m | \u001b[36msrc.train_utils\u001b[0m:\u001b[36mtrain\u001b[0m:\u001b[36m125\u001b[0m - \u001b[1mStep 1600, Learning Rate: 0.027000\u001b[0m\n",
      "\u001b[32m2024-09-09 00:07:46.682\u001b[0m | \u001b[1mINFO    \u001b[0m | \u001b[36msrc.train_utils\u001b[0m:\u001b[36mtrain\u001b[0m:\u001b[36m128\u001b[0m - \u001b[1mStep 1600, Gradient Norms: {'grad_norm_user_embedding.weight': 0.2487153559923172, 'grad_norm_item_embedding.weight': 0.199424147605896, 'total_grad_norm': 0.31879353656359355}\u001b[0m\n",
      "\u001b[32m2024-09-09 00:07:48.733\u001b[0m | \u001b[1mINFO    \u001b[0m | \u001b[36msrc.train_utils\u001b[0m:\u001b[36mtrain\u001b[0m:\u001b[36m140\u001b[0m - \u001b[1mEpoch 3, Loss: 1.4923\u001b[0m\n",
      "\u001b[32m2024-09-09 00:07:49.584\u001b[0m | \u001b[1mINFO    \u001b[0m | \u001b[36msrc.train_utils\u001b[0m:\u001b[36mtrain\u001b[0m:\u001b[36m155\u001b[0m - \u001b[1mEpoch 3, Validation Loss: 13.3842\u001b[0m\n"
     ]
    },
    {
     "data": {
      "application/vnd.jupyter.widget-view+json": {
       "model_id": "",
       "version_major": 2,
       "version_minor": 0
      },
      "text/plain": [
       "Training Epoch 4:   0%|          | 0/566 [00:00<?, ?it/s]"
      ]
     },
     "metadata": {},
     "output_type": "display_data"
    },
    {
     "name": "stderr",
     "output_type": "stream",
     "text": [
      "\u001b[32m2024-09-09 00:07:49.631\u001b[0m | \u001b[1mINFO    \u001b[0m | \u001b[36msrc.train_utils\u001b[0m:\u001b[36mtrain\u001b[0m:\u001b[36m122\u001b[0m - \u001b[1mStep 1700, Global Loss: 0.7929\u001b[0m\n",
      "\u001b[32m2024-09-09 00:07:49.631\u001b[0m | \u001b[1mINFO    \u001b[0m | \u001b[36msrc.train_utils\u001b[0m:\u001b[36mtrain\u001b[0m:\u001b[36m125\u001b[0m - \u001b[1mStep 1700, Learning Rate: 0.027000\u001b[0m\n",
      "\u001b[32m2024-09-09 00:07:49.632\u001b[0m | \u001b[1mINFO    \u001b[0m | \u001b[36msrc.train_utils\u001b[0m:\u001b[36mtrain\u001b[0m:\u001b[36m128\u001b[0m - \u001b[1mStep 1700, Gradient Norms: {'grad_norm_user_embedding.weight': 0.21320492029190063, 'grad_norm_item_embedding.weight': 0.15109604597091675, 'total_grad_norm': 0.26131657648285744}\u001b[0m\n",
      "\u001b[32m2024-09-09 00:07:51.738\u001b[0m | \u001b[1mINFO    \u001b[0m | \u001b[36msrc.train_utils\u001b[0m:\u001b[36mtrain\u001b[0m:\u001b[36m122\u001b[0m - \u001b[1mStep 1800, Global Loss: 1.1383\u001b[0m\n",
      "\u001b[32m2024-09-09 00:07:51.739\u001b[0m | \u001b[1mINFO    \u001b[0m | \u001b[36msrc.train_utils\u001b[0m:\u001b[36mtrain\u001b[0m:\u001b[36m125\u001b[0m - \u001b[1mStep 1800, Learning Rate: 0.027000\u001b[0m\n",
      "\u001b[32m2024-09-09 00:07:51.739\u001b[0m | \u001b[1mINFO    \u001b[0m | \u001b[36msrc.train_utils\u001b[0m:\u001b[36mtrain\u001b[0m:\u001b[36m128\u001b[0m - \u001b[1mStep 1800, Gradient Norms: {'grad_norm_user_embedding.weight': 0.2514090836048126, 'grad_norm_item_embedding.weight': 0.1924138069152832, 'total_grad_norm': 0.31659058800072304}\u001b[0m\n",
      "\u001b[32m2024-09-09 00:07:53.770\u001b[0m | \u001b[1mINFO    \u001b[0m | \u001b[36msrc.train_utils\u001b[0m:\u001b[36mtrain\u001b[0m:\u001b[36m122\u001b[0m - \u001b[1mStep 1900, Global Loss: 1.2116\u001b[0m\n",
      "\u001b[32m2024-09-09 00:07:53.771\u001b[0m | \u001b[1mINFO    \u001b[0m | \u001b[36msrc.train_utils\u001b[0m:\u001b[36mtrain\u001b[0m:\u001b[36m125\u001b[0m - \u001b[1mStep 1900, Learning Rate: 0.027000\u001b[0m\n",
      "\u001b[32m2024-09-09 00:07:53.771\u001b[0m | \u001b[1mINFO    \u001b[0m | \u001b[36msrc.train_utils\u001b[0m:\u001b[36mtrain\u001b[0m:\u001b[36m128\u001b[0m - \u001b[1mStep 1900, Gradient Norms: {'grad_norm_user_embedding.weight': 0.25217264890670776, 'grad_norm_item_embedding.weight': 0.17481252551078796, 'total_grad_norm': 0.30683947583726184}\u001b[0m\n",
      "\u001b[32m2024-09-09 00:07:55.843\u001b[0m | \u001b[1mINFO    \u001b[0m | \u001b[36msrc.train_utils\u001b[0m:\u001b[36mtrain\u001b[0m:\u001b[36m122\u001b[0m - \u001b[1mStep 2000, Global Loss: 1.2227\u001b[0m\n",
      "\u001b[32m2024-09-09 00:07:55.844\u001b[0m | \u001b[1mINFO    \u001b[0m | \u001b[36msrc.train_utils\u001b[0m:\u001b[36mtrain\u001b[0m:\u001b[36m125\u001b[0m - \u001b[1mStep 2000, Learning Rate: 0.024300\u001b[0m\n",
      "\u001b[32m2024-09-09 00:07:55.844\u001b[0m | \u001b[1mINFO    \u001b[0m | \u001b[36msrc.train_utils\u001b[0m:\u001b[36mtrain\u001b[0m:\u001b[36m128\u001b[0m - \u001b[1mStep 2000, Gradient Norms: {'grad_norm_user_embedding.weight': 0.25554245710372925, 'grad_norm_item_embedding.weight': 0.22255241870880127, 'total_grad_norm': 0.33886800742434936}\u001b[0m\n",
      "\u001b[32m2024-09-09 00:07:57.950\u001b[0m | \u001b[1mINFO    \u001b[0m | \u001b[36msrc.train_utils\u001b[0m:\u001b[36mtrain\u001b[0m:\u001b[36m122\u001b[0m - \u001b[1mStep 2100, Global Loss: 1.2396\u001b[0m\n",
      "\u001b[32m2024-09-09 00:07:57.951\u001b[0m | \u001b[1mINFO    \u001b[0m | \u001b[36msrc.train_utils\u001b[0m:\u001b[36mtrain\u001b[0m:\u001b[36m125\u001b[0m - \u001b[1mStep 2100, Learning Rate: 0.024300\u001b[0m\n",
      "\u001b[32m2024-09-09 00:07:57.951\u001b[0m | \u001b[1mINFO    \u001b[0m | \u001b[36msrc.train_utils\u001b[0m:\u001b[36mtrain\u001b[0m:\u001b[36m128\u001b[0m - \u001b[1mStep 2100, Gradient Norms: {'grad_norm_user_embedding.weight': 0.23090554773807526, 'grad_norm_item_embedding.weight': 0.17469707131385803, 'total_grad_norm': 0.2895452273857398}\u001b[0m\n",
      "\u001b[32m2024-09-09 00:08:00.051\u001b[0m | \u001b[1mINFO    \u001b[0m | \u001b[36msrc.train_utils\u001b[0m:\u001b[36mtrain\u001b[0m:\u001b[36m122\u001b[0m - \u001b[1mStep 2200, Global Loss: 1.2624\u001b[0m\n",
      "\u001b[32m2024-09-09 00:08:00.052\u001b[0m | \u001b[1mINFO    \u001b[0m | \u001b[36msrc.train_utils\u001b[0m:\u001b[36mtrain\u001b[0m:\u001b[36m125\u001b[0m - \u001b[1mStep 2200, Learning Rate: 0.024300\u001b[0m\n",
      "\u001b[32m2024-09-09 00:08:00.052\u001b[0m | \u001b[1mINFO    \u001b[0m | \u001b[36msrc.train_utils\u001b[0m:\u001b[36mtrain\u001b[0m:\u001b[36m128\u001b[0m - \u001b[1mStep 2200, Gradient Norms: {'grad_norm_user_embedding.weight': 0.24268577992916107, 'grad_norm_item_embedding.weight': 0.24264733493328094, 'total_grad_norm': 0.34318233773032236}\u001b[0m\n",
      "\u001b[32m2024-09-09 00:08:01.414\u001b[0m | \u001b[1mINFO    \u001b[0m | \u001b[36msrc.train_utils\u001b[0m:\u001b[36mtrain\u001b[0m:\u001b[36m140\u001b[0m - \u001b[1mEpoch 4, Loss: 1.2702\u001b[0m\n",
      "\u001b[32m2024-09-09 00:08:02.336\u001b[0m | \u001b[1mINFO    \u001b[0m | \u001b[36msrc.train_utils\u001b[0m:\u001b[36mtrain\u001b[0m:\u001b[36m155\u001b[0m - \u001b[1mEpoch 4, Validation Loss: 12.8693\u001b[0m\n"
     ]
    },
    {
     "data": {
      "application/vnd.jupyter.widget-view+json": {
       "model_id": "",
       "version_major": 2,
       "version_minor": 0
      },
      "text/plain": [
       "Training Epoch 5:   0%|          | 0/566 [00:00<?, ?it/s]"
      ]
     },
     "metadata": {},
     "output_type": "display_data"
    },
    {
     "name": "stderr",
     "output_type": "stream",
     "text": [
      "\u001b[32m2024-09-09 00:08:03.097\u001b[0m | \u001b[1mINFO    \u001b[0m | \u001b[36msrc.train_utils\u001b[0m:\u001b[36mtrain\u001b[0m:\u001b[36m122\u001b[0m - \u001b[1mStep 2300, Global Loss: 1.1182\u001b[0m\n",
      "\u001b[32m2024-09-09 00:08:03.098\u001b[0m | \u001b[1mINFO    \u001b[0m | \u001b[36msrc.train_utils\u001b[0m:\u001b[36mtrain\u001b[0m:\u001b[36m125\u001b[0m - \u001b[1mStep 2300, Learning Rate: 0.024300\u001b[0m\n",
      "\u001b[32m2024-09-09 00:08:03.098\u001b[0m | \u001b[1mINFO    \u001b[0m | \u001b[36msrc.train_utils\u001b[0m:\u001b[36mtrain\u001b[0m:\u001b[36m128\u001b[0m - \u001b[1mStep 2300, Gradient Norms: {'grad_norm_user_embedding.weight': 0.20204001665115356, 'grad_norm_item_embedding.weight': 0.1578778326511383, 'total_grad_norm': 0.256409006025567}\u001b[0m\n",
      "\u001b[32m2024-09-09 00:08:05.177\u001b[0m | \u001b[1mINFO    \u001b[0m | \u001b[36msrc.train_utils\u001b[0m:\u001b[36mtrain\u001b[0m:\u001b[36m122\u001b[0m - \u001b[1mStep 2400, Global Loss: 1.0930\u001b[0m\n",
      "\u001b[32m2024-09-09 00:08:05.178\u001b[0m | \u001b[1mINFO    \u001b[0m | \u001b[36msrc.train_utils\u001b[0m:\u001b[36mtrain\u001b[0m:\u001b[36m125\u001b[0m - \u001b[1mStep 2400, Learning Rate: 0.024300\u001b[0m\n",
      "\u001b[32m2024-09-09 00:08:05.178\u001b[0m | \u001b[1mINFO    \u001b[0m | \u001b[36msrc.train_utils\u001b[0m:\u001b[36mtrain\u001b[0m:\u001b[36m128\u001b[0m - \u001b[1mStep 2400, Gradient Norms: {'grad_norm_user_embedding.weight': 0.24747760593891144, 'grad_norm_item_embedding.weight': 0.1672934740781784, 'total_grad_norm': 0.2987177127496816}\u001b[0m\n",
      "\u001b[32m2024-09-09 00:08:07.318\u001b[0m | \u001b[1mINFO    \u001b[0m | \u001b[36msrc.train_utils\u001b[0m:\u001b[36mtrain\u001b[0m:\u001b[36m122\u001b[0m - \u001b[1mStep 2500, Global Loss: 1.1124\u001b[0m\n",
      "\u001b[32m2024-09-09 00:08:07.318\u001b[0m | \u001b[1mINFO    \u001b[0m | \u001b[36msrc.train_utils\u001b[0m:\u001b[36mtrain\u001b[0m:\u001b[36m125\u001b[0m - \u001b[1mStep 2500, Learning Rate: 0.024300\u001b[0m\n",
      "\u001b[32m2024-09-09 00:08:07.319\u001b[0m | \u001b[1mINFO    \u001b[0m | \u001b[36msrc.train_utils\u001b[0m:\u001b[36mtrain\u001b[0m:\u001b[36m128\u001b[0m - \u001b[1mStep 2500, Gradient Norms: {'grad_norm_user_embedding.weight': 0.21865855157375336, 'grad_norm_item_embedding.weight': 0.1547846496105194, 'total_grad_norm': 0.26789895470378944}\u001b[0m\n",
      "\u001b[32m2024-09-09 00:08:09.442\u001b[0m | \u001b[1mINFO    \u001b[0m | \u001b[36msrc.train_utils\u001b[0m:\u001b[36mtrain\u001b[0m:\u001b[36m122\u001b[0m - \u001b[1mStep 2600, Global Loss: 1.1485\u001b[0m\n",
      "\u001b[32m2024-09-09 00:08:09.443\u001b[0m | \u001b[1mINFO    \u001b[0m | \u001b[36msrc.train_utils\u001b[0m:\u001b[36mtrain\u001b[0m:\u001b[36m125\u001b[0m - \u001b[1mStep 2600, Learning Rate: 0.024300\u001b[0m\n",
      "\u001b[32m2024-09-09 00:08:09.443\u001b[0m | \u001b[1mINFO    \u001b[0m | \u001b[36msrc.train_utils\u001b[0m:\u001b[36mtrain\u001b[0m:\u001b[36m128\u001b[0m - \u001b[1mStep 2600, Gradient Norms: {'grad_norm_user_embedding.weight': 0.2688293159008026, 'grad_norm_item_embedding.weight': 0.16899794340133667, 'total_grad_norm': 0.31753662144951866}\u001b[0m\n",
      "\u001b[32m2024-09-09 00:08:11.572\u001b[0m | \u001b[1mINFO    \u001b[0m | \u001b[36msrc.train_utils\u001b[0m:\u001b[36mtrain\u001b[0m:\u001b[36m122\u001b[0m - \u001b[1mStep 2700, Global Loss: 1.2079\u001b[0m\n",
      "\u001b[32m2024-09-09 00:08:11.573\u001b[0m | \u001b[1mINFO    \u001b[0m | \u001b[36msrc.train_utils\u001b[0m:\u001b[36mtrain\u001b[0m:\u001b[36m125\u001b[0m - \u001b[1mStep 2700, Learning Rate: 0.024300\u001b[0m\n",
      "\u001b[32m2024-09-09 00:08:11.573\u001b[0m | \u001b[1mINFO    \u001b[0m | \u001b[36msrc.train_utils\u001b[0m:\u001b[36mtrain\u001b[0m:\u001b[36m128\u001b[0m - \u001b[1mStep 2700, Gradient Norms: {'grad_norm_user_embedding.weight': 0.2520054578781128, 'grad_norm_item_embedding.weight': 0.21371808648109436, 'total_grad_norm': 0.33042725566983394}\u001b[0m\n",
      "\u001b[32m2024-09-09 00:08:13.660\u001b[0m | \u001b[1mINFO    \u001b[0m | \u001b[36msrc.train_utils\u001b[0m:\u001b[36mtrain\u001b[0m:\u001b[36m122\u001b[0m - \u001b[1mStep 2800, Global Loss: 1.2432\u001b[0m\n",
      "\u001b[32m2024-09-09 00:08:13.661\u001b[0m | \u001b[1mINFO    \u001b[0m | \u001b[36msrc.train_utils\u001b[0m:\u001b[36mtrain\u001b[0m:\u001b[36m125\u001b[0m - \u001b[1mStep 2800, Learning Rate: 0.024300\u001b[0m\n",
      "\u001b[32m2024-09-09 00:08:13.661\u001b[0m | \u001b[1mINFO    \u001b[0m | \u001b[36msrc.train_utils\u001b[0m:\u001b[36mtrain\u001b[0m:\u001b[36m128\u001b[0m - \u001b[1mStep 2800, Gradient Norms: {'grad_norm_user_embedding.weight': 0.26698511838912964, 'grad_norm_item_embedding.weight': 0.22837507724761963, 'total_grad_norm': 0.35133492475003647}\u001b[0m\n",
      "\u001b[32m2024-09-09 00:08:14.290\u001b[0m | \u001b[1mINFO    \u001b[0m | \u001b[36msrc.train_utils\u001b[0m:\u001b[36mtrain\u001b[0m:\u001b[36m140\u001b[0m - \u001b[1mEpoch 5, Loss: 1.2531\u001b[0m\n",
      "\u001b[32m2024-09-09 00:08:15.198\u001b[0m | \u001b[1mINFO    \u001b[0m | \u001b[36msrc.train_utils\u001b[0m:\u001b[36mtrain\u001b[0m:\u001b[36m155\u001b[0m - \u001b[1mEpoch 5, Validation Loss: 12.7424\u001b[0m\n"
     ]
    },
    {
     "data": {
      "application/vnd.jupyter.widget-view+json": {
       "model_id": "",
       "version_major": 2,
       "version_minor": 0
      },
      "text/plain": [
       "Training Epoch 6:   0%|          | 0/566 [00:00<?, ?it/s]"
      ]
     },
     "metadata": {},
     "output_type": "display_data"
    },
    {
     "name": "stderr",
     "output_type": "stream",
     "text": [
      "\u001b[32m2024-09-09 00:08:16.716\u001b[0m | \u001b[1mINFO    \u001b[0m | \u001b[36msrc.train_utils\u001b[0m:\u001b[36mtrain\u001b[0m:\u001b[36m122\u001b[0m - \u001b[1mStep 2900, Global Loss: 1.3460\u001b[0m\n",
      "\u001b[32m2024-09-09 00:08:16.716\u001b[0m | \u001b[1mINFO    \u001b[0m | \u001b[36msrc.train_utils\u001b[0m:\u001b[36mtrain\u001b[0m:\u001b[36m125\u001b[0m - \u001b[1mStep 2900, Learning Rate: 0.024300\u001b[0m\n",
      "\u001b[32m2024-09-09 00:08:16.717\u001b[0m | \u001b[1mINFO    \u001b[0m | \u001b[36msrc.train_utils\u001b[0m:\u001b[36mtrain\u001b[0m:\u001b[36m128\u001b[0m - \u001b[1mStep 2900, Gradient Norms: {'grad_norm_user_embedding.weight': 0.25276660919189453, 'grad_norm_item_embedding.weight': 0.18699786067008972, 'total_grad_norm': 0.3144187631448833}\u001b[0m\n",
      "\u001b[32m2024-09-09 00:08:18.820\u001b[0m | \u001b[1mINFO    \u001b[0m | \u001b[36msrc.train_utils\u001b[0m:\u001b[36mtrain\u001b[0m:\u001b[36m122\u001b[0m - \u001b[1mStep 3000, Global Loss: 1.3134\u001b[0m\n",
      "\u001b[32m2024-09-09 00:08:18.820\u001b[0m | \u001b[1mINFO    \u001b[0m | \u001b[36msrc.train_utils\u001b[0m:\u001b[36mtrain\u001b[0m:\u001b[36m125\u001b[0m - \u001b[1mStep 3000, Learning Rate: 0.021870\u001b[0m\n",
      "\u001b[32m2024-09-09 00:08:18.821\u001b[0m | \u001b[1mINFO    \u001b[0m | \u001b[36msrc.train_utils\u001b[0m:\u001b[36mtrain\u001b[0m:\u001b[36m128\u001b[0m - \u001b[1mStep 3000, Gradient Norms: {'grad_norm_user_embedding.weight': 0.2238091081380844, 'grad_norm_item_embedding.weight': 0.1570051908493042, 'total_grad_norm': 0.2733882712173132}\u001b[0m\n",
      "\u001b[32m2024-09-09 00:08:20.940\u001b[0m | \u001b[1mINFO    \u001b[0m | \u001b[36msrc.train_utils\u001b[0m:\u001b[36mtrain\u001b[0m:\u001b[36m122\u001b[0m - \u001b[1mStep 3100, Global Loss: 1.3151\u001b[0m\n",
      "\u001b[32m2024-09-09 00:08:20.940\u001b[0m | \u001b[1mINFO    \u001b[0m | \u001b[36msrc.train_utils\u001b[0m:\u001b[36mtrain\u001b[0m:\u001b[36m125\u001b[0m - \u001b[1mStep 3100, Learning Rate: 0.021870\u001b[0m\n",
      "\u001b[32m2024-09-09 00:08:20.941\u001b[0m | \u001b[1mINFO    \u001b[0m | \u001b[36msrc.train_utils\u001b[0m:\u001b[36mtrain\u001b[0m:\u001b[36m128\u001b[0m - \u001b[1mStep 3100, Gradient Norms: {'grad_norm_user_embedding.weight': 0.3211405873298645, 'grad_norm_item_embedding.weight': 0.21254774928092957, 'total_grad_norm': 0.3851075467385172}\u001b[0m\n",
      "\u001b[32m2024-09-09 00:08:23.080\u001b[0m | \u001b[1mINFO    \u001b[0m | \u001b[36msrc.train_utils\u001b[0m:\u001b[36mtrain\u001b[0m:\u001b[36m122\u001b[0m - \u001b[1mStep 3200, Global Loss: 1.3391\u001b[0m\n",
      "\u001b[32m2024-09-09 00:08:23.081\u001b[0m | \u001b[1mINFO    \u001b[0m | \u001b[36msrc.train_utils\u001b[0m:\u001b[36mtrain\u001b[0m:\u001b[36m125\u001b[0m - \u001b[1mStep 3200, Learning Rate: 0.021870\u001b[0m\n",
      "\u001b[32m2024-09-09 00:08:23.081\u001b[0m | \u001b[1mINFO    \u001b[0m | \u001b[36msrc.train_utils\u001b[0m:\u001b[36mtrain\u001b[0m:\u001b[36m128\u001b[0m - \u001b[1mStep 3200, Gradient Norms: {'grad_norm_user_embedding.weight': 0.22163233160972595, 'grad_norm_item_embedding.weight': 0.1725328266620636, 'total_grad_norm': 0.2808709075193891}\u001b[0m\n",
      "\u001b[32m2024-09-09 00:08:25.176\u001b[0m | \u001b[1mINFO    \u001b[0m | \u001b[36msrc.train_utils\u001b[0m:\u001b[36mtrain\u001b[0m:\u001b[36m122\u001b[0m - \u001b[1mStep 3300, Global Loss: 1.3456\u001b[0m\n",
      "\u001b[32m2024-09-09 00:08:25.176\u001b[0m | \u001b[1mINFO    \u001b[0m | \u001b[36msrc.train_utils\u001b[0m:\u001b[36mtrain\u001b[0m:\u001b[36m125\u001b[0m - \u001b[1mStep 3300, Learning Rate: 0.021870\u001b[0m\n",
      "\u001b[32m2024-09-09 00:08:25.177\u001b[0m | \u001b[1mINFO    \u001b[0m | \u001b[36msrc.train_utils\u001b[0m:\u001b[36mtrain\u001b[0m:\u001b[36m128\u001b[0m - \u001b[1mStep 3300, Gradient Norms: {'grad_norm_user_embedding.weight': 0.24519509077072144, 'grad_norm_item_embedding.weight': 0.19103844463825226, 'total_grad_norm': 0.3108316584067088}\u001b[0m\n",
      "\u001b[32m2024-09-09 00:08:27.232\u001b[0m | \u001b[1mINFO    \u001b[0m | \u001b[36msrc.train_utils\u001b[0m:\u001b[36mtrain\u001b[0m:\u001b[36m140\u001b[0m - \u001b[1mEpoch 6, Loss: 1.3604\u001b[0m\n",
      "\u001b[32m2024-09-09 00:08:28.142\u001b[0m | \u001b[1mINFO    \u001b[0m | \u001b[36msrc.train_utils\u001b[0m:\u001b[36mtrain\u001b[0m:\u001b[36m155\u001b[0m - \u001b[1mEpoch 6, Validation Loss: 12.3761\u001b[0m\n"
     ]
    },
    {
     "data": {
      "application/vnd.jupyter.widget-view+json": {
       "model_id": "",
       "version_major": 2,
       "version_minor": 0
      },
      "text/plain": [
       "Training Epoch 7:   0%|          | 0/566 [00:00<?, ?it/s]"
      ]
     },
     "metadata": {},
     "output_type": "display_data"
    },
    {
     "name": "stderr",
     "output_type": "stream",
     "text": [
      "\u001b[32m2024-09-09 00:08:28.233\u001b[0m | \u001b[1mINFO    \u001b[0m | \u001b[36msrc.train_utils\u001b[0m:\u001b[36mtrain\u001b[0m:\u001b[36m122\u001b[0m - \u001b[1mStep 3400, Global Loss: 1.1464\u001b[0m\n",
      "\u001b[32m2024-09-09 00:08:28.233\u001b[0m | \u001b[1mINFO    \u001b[0m | \u001b[36msrc.train_utils\u001b[0m:\u001b[36mtrain\u001b[0m:\u001b[36m125\u001b[0m - \u001b[1mStep 3400, Learning Rate: 0.021870\u001b[0m\n",
      "\u001b[32m2024-09-09 00:08:28.233\u001b[0m | \u001b[1mINFO    \u001b[0m | \u001b[36msrc.train_utils\u001b[0m:\u001b[36mtrain\u001b[0m:\u001b[36m128\u001b[0m - \u001b[1mStep 3400, Gradient Norms: {'grad_norm_user_embedding.weight': 0.3041734993457794, 'grad_norm_item_embedding.weight': 0.2293393313884735, 'total_grad_norm': 0.3809436265721858}\u001b[0m\n",
      "\u001b[32m2024-09-09 00:08:30.359\u001b[0m | \u001b[1mINFO    \u001b[0m | \u001b[36msrc.train_utils\u001b[0m:\u001b[36mtrain\u001b[0m:\u001b[36m122\u001b[0m - \u001b[1mStep 3500, Global Loss: 1.1496\u001b[0m\n",
      "\u001b[32m2024-09-09 00:08:30.360\u001b[0m | \u001b[1mINFO    \u001b[0m | \u001b[36msrc.train_utils\u001b[0m:\u001b[36mtrain\u001b[0m:\u001b[36m125\u001b[0m - \u001b[1mStep 3500, Learning Rate: 0.021870\u001b[0m\n",
      "\u001b[32m2024-09-09 00:08:30.360\u001b[0m | \u001b[1mINFO    \u001b[0m | \u001b[36msrc.train_utils\u001b[0m:\u001b[36mtrain\u001b[0m:\u001b[36m128\u001b[0m - \u001b[1mStep 3500, Gradient Norms: {'grad_norm_user_embedding.weight': 0.2575920820236206, 'grad_norm_item_embedding.weight': 0.17966075241565704, 'total_grad_norm': 0.3140567889408279}\u001b[0m\n",
      "\u001b[32m2024-09-09 00:08:32.489\u001b[0m | \u001b[1mINFO    \u001b[0m | \u001b[36msrc.train_utils\u001b[0m:\u001b[36mtrain\u001b[0m:\u001b[36m122\u001b[0m - \u001b[1mStep 3600, Global Loss: 1.1613\u001b[0m\n",
      "\u001b[32m2024-09-09 00:08:32.490\u001b[0m | \u001b[1mINFO    \u001b[0m | \u001b[36msrc.train_utils\u001b[0m:\u001b[36mtrain\u001b[0m:\u001b[36m125\u001b[0m - \u001b[1mStep 3600, Learning Rate: 0.021870\u001b[0m\n",
      "\u001b[32m2024-09-09 00:08:32.490\u001b[0m | \u001b[1mINFO    \u001b[0m | \u001b[36msrc.train_utils\u001b[0m:\u001b[36mtrain\u001b[0m:\u001b[36m128\u001b[0m - \u001b[1mStep 3600, Gradient Norms: {'grad_norm_user_embedding.weight': 0.31433746218681335, 'grad_norm_item_embedding.weight': 0.16950036585330963, 'total_grad_norm': 0.3571252079571703}\u001b[0m\n",
      "\u001b[32m2024-09-09 00:08:34.578\u001b[0m | \u001b[1mINFO    \u001b[0m | \u001b[36msrc.train_utils\u001b[0m:\u001b[36mtrain\u001b[0m:\u001b[36m122\u001b[0m - \u001b[1mStep 3700, Global Loss: 1.1984\u001b[0m\n",
      "\u001b[32m2024-09-09 00:08:34.578\u001b[0m | \u001b[1mINFO    \u001b[0m | \u001b[36msrc.train_utils\u001b[0m:\u001b[36mtrain\u001b[0m:\u001b[36m125\u001b[0m - \u001b[1mStep 3700, Learning Rate: 0.021870\u001b[0m\n",
      "\u001b[32m2024-09-09 00:08:34.579\u001b[0m | \u001b[1mINFO    \u001b[0m | \u001b[36msrc.train_utils\u001b[0m:\u001b[36mtrain\u001b[0m:\u001b[36m128\u001b[0m - \u001b[1mStep 3700, Gradient Norms: {'grad_norm_user_embedding.weight': 0.24588514864444733, 'grad_norm_item_embedding.weight': 0.1866486817598343, 'total_grad_norm': 0.3087025052159212}\u001b[0m\n",
      "\u001b[32m2024-09-09 00:08:36.697\u001b[0m | \u001b[1mINFO    \u001b[0m | \u001b[36msrc.train_utils\u001b[0m:\u001b[36mtrain\u001b[0m:\u001b[36m122\u001b[0m - \u001b[1mStep 3800, Global Loss: 1.2349\u001b[0m\n",
      "\u001b[32m2024-09-09 00:08:36.697\u001b[0m | \u001b[1mINFO    \u001b[0m | \u001b[36msrc.train_utils\u001b[0m:\u001b[36mtrain\u001b[0m:\u001b[36m125\u001b[0m - \u001b[1mStep 3800, Learning Rate: 0.021870\u001b[0m\n",
      "\u001b[32m2024-09-09 00:08:36.697\u001b[0m | \u001b[1mINFO    \u001b[0m | \u001b[36msrc.train_utils\u001b[0m:\u001b[36mtrain\u001b[0m:\u001b[36m128\u001b[0m - \u001b[1mStep 3800, Gradient Norms: {'grad_norm_user_embedding.weight': 0.31494376063346863, 'grad_norm_item_embedding.weight': 0.19652652740478516, 'total_grad_norm': 0.37123072116371963}\u001b[0m\n",
      "\u001b[32m2024-09-09 00:08:38.793\u001b[0m | \u001b[1mINFO    \u001b[0m | \u001b[36msrc.train_utils\u001b[0m:\u001b[36mtrain\u001b[0m:\u001b[36m122\u001b[0m - \u001b[1mStep 3900, Global Loss: 1.2570\u001b[0m\n",
      "\u001b[32m2024-09-09 00:08:38.794\u001b[0m | \u001b[1mINFO    \u001b[0m | \u001b[36msrc.train_utils\u001b[0m:\u001b[36mtrain\u001b[0m:\u001b[36m125\u001b[0m - \u001b[1mStep 3900, Learning Rate: 0.021870\u001b[0m\n",
      "\u001b[32m2024-09-09 00:08:38.794\u001b[0m | \u001b[1mINFO    \u001b[0m | \u001b[36msrc.train_utils\u001b[0m:\u001b[36mtrain\u001b[0m:\u001b[36m128\u001b[0m - \u001b[1mStep 3900, Gradient Norms: {'grad_norm_user_embedding.weight': 0.24402500689029694, 'grad_norm_item_embedding.weight': 0.15889467298984528, 'total_grad_norm': 0.2911970485639567}\u001b[0m\n",
      "\u001b[32m2024-09-09 00:08:40.099\u001b[0m | \u001b[1mINFO    \u001b[0m | \u001b[36msrc.train_utils\u001b[0m:\u001b[36mtrain\u001b[0m:\u001b[36m140\u001b[0m - \u001b[1mEpoch 7, Loss: 1.2912\u001b[0m\n",
      "\u001b[32m2024-09-09 00:08:41.022\u001b[0m | \u001b[1mINFO    \u001b[0m | \u001b[36msrc.train_utils\u001b[0m:\u001b[36mtrain\u001b[0m:\u001b[36m155\u001b[0m - \u001b[1mEpoch 7, Validation Loss: 12.1463\u001b[0m\n"
     ]
    },
    {
     "data": {
      "application/vnd.jupyter.widget-view+json": {
       "model_id": "",
       "version_major": 2,
       "version_minor": 0
      },
      "text/plain": [
       "Training Epoch 8:   0%|          | 0/566 [00:00<?, ?it/s]"
      ]
     },
     "metadata": {},
     "output_type": "display_data"
    },
    {
     "name": "stderr",
     "output_type": "stream",
     "text": [
      "\u001b[32m2024-09-09 00:08:41.862\u001b[0m | \u001b[1mINFO    \u001b[0m | \u001b[36msrc.train_utils\u001b[0m:\u001b[36mtrain\u001b[0m:\u001b[36m122\u001b[0m - \u001b[1mStep 4000, Global Loss: 1.2495\u001b[0m\n",
      "\u001b[32m2024-09-09 00:08:41.863\u001b[0m | \u001b[1mINFO    \u001b[0m | \u001b[36msrc.train_utils\u001b[0m:\u001b[36mtrain\u001b[0m:\u001b[36m125\u001b[0m - \u001b[1mStep 4000, Learning Rate: 0.019683\u001b[0m\n",
      "\u001b[32m2024-09-09 00:08:41.863\u001b[0m | \u001b[1mINFO    \u001b[0m | \u001b[36msrc.train_utils\u001b[0m:\u001b[36mtrain\u001b[0m:\u001b[36m128\u001b[0m - \u001b[1mStep 4000, Gradient Norms: {'grad_norm_user_embedding.weight': 0.2811598479747772, 'grad_norm_item_embedding.weight': 0.20301806926727295, 'total_grad_norm': 0.3467956120861553}\u001b[0m\n",
      "\u001b[32m2024-09-09 00:08:43.999\u001b[0m | \u001b[1mINFO    \u001b[0m | \u001b[36msrc.train_utils\u001b[0m:\u001b[36mtrain\u001b[0m:\u001b[36m122\u001b[0m - \u001b[1mStep 4100, Global Loss: 1.1203\u001b[0m\n",
      "\u001b[32m2024-09-09 00:08:44.000\u001b[0m | \u001b[1mINFO    \u001b[0m | \u001b[36msrc.train_utils\u001b[0m:\u001b[36mtrain\u001b[0m:\u001b[36m125\u001b[0m - \u001b[1mStep 4100, Learning Rate: 0.019683\u001b[0m\n",
      "\u001b[32m2024-09-09 00:08:44.000\u001b[0m | \u001b[1mINFO    \u001b[0m | \u001b[36msrc.train_utils\u001b[0m:\u001b[36mtrain\u001b[0m:\u001b[36m128\u001b[0m - \u001b[1mStep 4100, Gradient Norms: {'grad_norm_user_embedding.weight': 0.2328053116798401, 'grad_norm_item_embedding.weight': 0.17440468072891235, 'total_grad_norm': 0.29088710147839375}\u001b[0m\n",
      "\u001b[32m2024-09-09 00:08:46.189\u001b[0m | \u001b[1mINFO    \u001b[0m | \u001b[36msrc.train_utils\u001b[0m:\u001b[36mtrain\u001b[0m:\u001b[36m122\u001b[0m - \u001b[1mStep 4200, Global Loss: 1.1176\u001b[0m\n",
      "\u001b[32m2024-09-09 00:08:46.190\u001b[0m | \u001b[1mINFO    \u001b[0m | \u001b[36msrc.train_utils\u001b[0m:\u001b[36mtrain\u001b[0m:\u001b[36m125\u001b[0m - \u001b[1mStep 4200, Learning Rate: 0.019683\u001b[0m\n",
      "\u001b[32m2024-09-09 00:08:46.190\u001b[0m | \u001b[1mINFO    \u001b[0m | \u001b[36msrc.train_utils\u001b[0m:\u001b[36mtrain\u001b[0m:\u001b[36m128\u001b[0m - \u001b[1mStep 4200, Gradient Norms: {'grad_norm_user_embedding.weight': 0.2081620842218399, 'grad_norm_item_embedding.weight': 0.1437678039073944, 'total_grad_norm': 0.2529834673411197}\u001b[0m\n",
      "\u001b[32m2024-09-09 00:08:48.413\u001b[0m | \u001b[1mINFO    \u001b[0m | \u001b[36msrc.train_utils\u001b[0m:\u001b[36mtrain\u001b[0m:\u001b[36m122\u001b[0m - \u001b[1mStep 4300, Global Loss: 1.1432\u001b[0m\n",
      "\u001b[32m2024-09-09 00:08:48.413\u001b[0m | \u001b[1mINFO    \u001b[0m | \u001b[36msrc.train_utils\u001b[0m:\u001b[36mtrain\u001b[0m:\u001b[36m125\u001b[0m - \u001b[1mStep 4300, Learning Rate: 0.019683\u001b[0m\n",
      "\u001b[32m2024-09-09 00:08:48.413\u001b[0m | \u001b[1mINFO    \u001b[0m | \u001b[36msrc.train_utils\u001b[0m:\u001b[36mtrain\u001b[0m:\u001b[36m128\u001b[0m - \u001b[1mStep 4300, Gradient Norms: {'grad_norm_user_embedding.weight': 0.1969199925661087, 'grad_norm_item_embedding.weight': 0.1605006605386734, 'total_grad_norm': 0.2540431961411027}\u001b[0m\n",
      "\u001b[32m2024-09-09 00:08:50.490\u001b[0m | \u001b[1mINFO    \u001b[0m | \u001b[36msrc.train_utils\u001b[0m:\u001b[36mtrain\u001b[0m:\u001b[36m122\u001b[0m - \u001b[1mStep 4400, Global Loss: 1.1571\u001b[0m\n",
      "\u001b[32m2024-09-09 00:08:50.490\u001b[0m | \u001b[1mINFO    \u001b[0m | \u001b[36msrc.train_utils\u001b[0m:\u001b[36mtrain\u001b[0m:\u001b[36m125\u001b[0m - \u001b[1mStep 4400, Learning Rate: 0.019683\u001b[0m\n",
      "\u001b[32m2024-09-09 00:08:50.490\u001b[0m | \u001b[1mINFO    \u001b[0m | \u001b[36msrc.train_utils\u001b[0m:\u001b[36mtrain\u001b[0m:\u001b[36m128\u001b[0m - \u001b[1mStep 4400, Gradient Norms: {'grad_norm_user_embedding.weight': 0.22913405299186707, 'grad_norm_item_embedding.weight': 0.15679706633090973, 'total_grad_norm': 0.2776467796507992}\u001b[0m\n",
      "\u001b[32m2024-09-09 00:08:52.581\u001b[0m | \u001b[1mINFO    \u001b[0m | \u001b[36msrc.train_utils\u001b[0m:\u001b[36mtrain\u001b[0m:\u001b[36m122\u001b[0m - \u001b[1mStep 4500, Global Loss: 1.1730\u001b[0m\n",
      "\u001b[32m2024-09-09 00:08:52.581\u001b[0m | \u001b[1mINFO    \u001b[0m | \u001b[36msrc.train_utils\u001b[0m:\u001b[36mtrain\u001b[0m:\u001b[36m125\u001b[0m - \u001b[1mStep 4500, Learning Rate: 0.019683\u001b[0m\n",
      "\u001b[32m2024-09-09 00:08:52.582\u001b[0m | \u001b[1mINFO    \u001b[0m | \u001b[36msrc.train_utils\u001b[0m:\u001b[36mtrain\u001b[0m:\u001b[36m128\u001b[0m - \u001b[1mStep 4500, Gradient Norms: {'grad_norm_user_embedding.weight': 0.28347116708755493, 'grad_norm_item_embedding.weight': 0.1478167027235031, 'total_grad_norm': 0.31969623109137363}\u001b[0m\n",
      "\u001b[32m2024-09-09 00:08:53.167\u001b[0m | \u001b[1mINFO    \u001b[0m | \u001b[36msrc.train_utils\u001b[0m:\u001b[36mtrain\u001b[0m:\u001b[36m140\u001b[0m - \u001b[1mEpoch 8, Loss: 1.1853\u001b[0m\n",
      "\u001b[32m2024-09-09 00:08:54.070\u001b[0m | \u001b[1mINFO    \u001b[0m | \u001b[36msrc.train_utils\u001b[0m:\u001b[36mtrain\u001b[0m:\u001b[36m155\u001b[0m - \u001b[1mEpoch 8, Validation Loss: 11.8069\u001b[0m\n"
     ]
    },
    {
     "data": {
      "application/vnd.jupyter.widget-view+json": {
       "model_id": "",
       "version_major": 2,
       "version_minor": 0
      },
      "text/plain": [
       "Training Epoch 9:   0%|          | 0/566 [00:00<?, ?it/s]"
      ]
     },
     "metadata": {},
     "output_type": "display_data"
    },
    {
     "name": "stderr",
     "output_type": "stream",
     "text": [
      "\u001b[32m2024-09-09 00:08:55.635\u001b[0m | \u001b[1mINFO    \u001b[0m | \u001b[36msrc.train_utils\u001b[0m:\u001b[36mtrain\u001b[0m:\u001b[36m122\u001b[0m - \u001b[1mStep 4600, Global Loss: 0.9214\u001b[0m\n",
      "\u001b[32m2024-09-09 00:08:55.636\u001b[0m | \u001b[1mINFO    \u001b[0m | \u001b[36msrc.train_utils\u001b[0m:\u001b[36mtrain\u001b[0m:\u001b[36m125\u001b[0m - \u001b[1mStep 4600, Learning Rate: 0.019683\u001b[0m\n",
      "\u001b[32m2024-09-09 00:08:55.636\u001b[0m | \u001b[1mINFO    \u001b[0m | \u001b[36msrc.train_utils\u001b[0m:\u001b[36mtrain\u001b[0m:\u001b[36m128\u001b[0m - \u001b[1mStep 4600, Gradient Norms: {'grad_norm_user_embedding.weight': 0.20199033617973328, 'grad_norm_item_embedding.weight': 0.14372995495796204, 'total_grad_norm': 0.24790803912382403}\u001b[0m\n",
      "\u001b[32m2024-09-09 00:08:57.808\u001b[0m | \u001b[1mINFO    \u001b[0m | \u001b[36msrc.train_utils\u001b[0m:\u001b[36mtrain\u001b[0m:\u001b[36m122\u001b[0m - \u001b[1mStep 4700, Global Loss: 0.9491\u001b[0m\n",
      "\u001b[32m2024-09-09 00:08:57.808\u001b[0m | \u001b[1mINFO    \u001b[0m | \u001b[36msrc.train_utils\u001b[0m:\u001b[36mtrain\u001b[0m:\u001b[36m125\u001b[0m - \u001b[1mStep 4700, Learning Rate: 0.019683\u001b[0m\n",
      "\u001b[32m2024-09-09 00:08:57.808\u001b[0m | \u001b[1mINFO    \u001b[0m | \u001b[36msrc.train_utils\u001b[0m:\u001b[36mtrain\u001b[0m:\u001b[36m128\u001b[0m - \u001b[1mStep 4700, Gradient Norms: {'grad_norm_user_embedding.weight': 0.16073039174079895, 'grad_norm_item_embedding.weight': 0.12258189916610718, 'total_grad_norm': 0.2021400030481853}\u001b[0m\n",
      "\u001b[32m2024-09-09 00:08:59.936\u001b[0m | \u001b[1mINFO    \u001b[0m | \u001b[36msrc.train_utils\u001b[0m:\u001b[36mtrain\u001b[0m:\u001b[36m122\u001b[0m - \u001b[1mStep 4800, Global Loss: 0.9713\u001b[0m\n",
      "\u001b[32m2024-09-09 00:08:59.936\u001b[0m | \u001b[1mINFO    \u001b[0m | \u001b[36msrc.train_utils\u001b[0m:\u001b[36mtrain\u001b[0m:\u001b[36m125\u001b[0m - \u001b[1mStep 4800, Learning Rate: 0.019683\u001b[0m\n",
      "\u001b[32m2024-09-09 00:08:59.937\u001b[0m | \u001b[1mINFO    \u001b[0m | \u001b[36msrc.train_utils\u001b[0m:\u001b[36mtrain\u001b[0m:\u001b[36m128\u001b[0m - \u001b[1mStep 4800, Gradient Norms: {'grad_norm_user_embedding.weight': 0.19895173609256744, 'grad_norm_item_embedding.weight': 0.18377313017845154, 'total_grad_norm': 0.2708400942804309}\u001b[0m\n",
      "\u001b[32m2024-09-09 00:09:02.084\u001b[0m | \u001b[1mINFO    \u001b[0m | \u001b[36msrc.train_utils\u001b[0m:\u001b[36mtrain\u001b[0m:\u001b[36m122\u001b[0m - \u001b[1mStep 4900, Global Loss: 1.0118\u001b[0m\n",
      "\u001b[32m2024-09-09 00:09:02.085\u001b[0m | \u001b[1mINFO    \u001b[0m | \u001b[36msrc.train_utils\u001b[0m:\u001b[36mtrain\u001b[0m:\u001b[36m125\u001b[0m - \u001b[1mStep 4900, Learning Rate: 0.019683\u001b[0m\n",
      "\u001b[32m2024-09-09 00:09:02.085\u001b[0m | \u001b[1mINFO    \u001b[0m | \u001b[36msrc.train_utils\u001b[0m:\u001b[36mtrain\u001b[0m:\u001b[36m128\u001b[0m - \u001b[1mStep 4900, Gradient Norms: {'grad_norm_user_embedding.weight': 0.1982281357049942, 'grad_norm_item_embedding.weight': 0.15900559723377228, 'total_grad_norm': 0.254120392209571}\u001b[0m\n",
      "\u001b[32m2024-09-09 00:09:04.192\u001b[0m | \u001b[1mINFO    \u001b[0m | \u001b[36msrc.train_utils\u001b[0m:\u001b[36mtrain\u001b[0m:\u001b[36m122\u001b[0m - \u001b[1mStep 5000, Global Loss: 1.0705\u001b[0m\n",
      "\u001b[32m2024-09-09 00:09:04.193\u001b[0m | \u001b[1mINFO    \u001b[0m | \u001b[36msrc.train_utils\u001b[0m:\u001b[36mtrain\u001b[0m:\u001b[36m125\u001b[0m - \u001b[1mStep 5000, Learning Rate: 0.017715\u001b[0m\n",
      "\u001b[32m2024-09-09 00:09:04.193\u001b[0m | \u001b[1mINFO    \u001b[0m | \u001b[36msrc.train_utils\u001b[0m:\u001b[36mtrain\u001b[0m:\u001b[36m128\u001b[0m - \u001b[1mStep 5000, Gradient Norms: {'grad_norm_user_embedding.weight': 0.2359074205160141, 'grad_norm_item_embedding.weight': 0.1826035976409912, 'total_grad_norm': 0.29832261886412925}\u001b[0m\n",
      "\u001b[32m2024-09-09 00:09:06.188\u001b[0m | \u001b[1mINFO    \u001b[0m | \u001b[36msrc.train_utils\u001b[0m:\u001b[36mtrain\u001b[0m:\u001b[36m140\u001b[0m - \u001b[1mEpoch 9, Loss: 1.0968\u001b[0m\n",
      "\u001b[32m2024-09-09 00:09:07.097\u001b[0m | \u001b[1mINFO    \u001b[0m | \u001b[36msrc.train_utils\u001b[0m:\u001b[36mtrain\u001b[0m:\u001b[36m155\u001b[0m - \u001b[1mEpoch 9, Validation Loss: 11.6243\u001b[0m\n"
     ]
    },
    {
     "data": {
      "application/vnd.jupyter.widget-view+json": {
       "model_id": "b147b11e0c094e25a880bde1335adbb1",
       "version_major": 2,
       "version_minor": 0
      },
      "text/plain": [
       "Training Epoch 10:   0%|          | 0/566 [00:00<?, ?it/s]"
      ]
     },
     "metadata": {},
     "output_type": "display_data"
    },
    {
     "name": "stderr",
     "output_type": "stream",
     "text": [
      "\u001b[32m2024-09-09 00:09:07.239\u001b[0m | \u001b[1mINFO    \u001b[0m | \u001b[36msrc.train_utils\u001b[0m:\u001b[36mtrain\u001b[0m:\u001b[36m122\u001b[0m - \u001b[1mStep 5100, Global Loss: 0.7466\u001b[0m\n",
      "\u001b[32m2024-09-09 00:09:07.239\u001b[0m | \u001b[1mINFO    \u001b[0m | \u001b[36msrc.train_utils\u001b[0m:\u001b[36mtrain\u001b[0m:\u001b[36m125\u001b[0m - \u001b[1mStep 5100, Learning Rate: 0.017715\u001b[0m\n",
      "\u001b[32m2024-09-09 00:09:07.240\u001b[0m | \u001b[1mINFO    \u001b[0m | \u001b[36msrc.train_utils\u001b[0m:\u001b[36mtrain\u001b[0m:\u001b[36m128\u001b[0m - \u001b[1mStep 5100, Gradient Norms: {'grad_norm_user_embedding.weight': 0.22143200039863586, 'grad_norm_item_embedding.weight': 0.14372944831848145, 'total_grad_norm': 0.2639891761312886}\u001b[0m\n",
      "\u001b[32m2024-09-09 00:09:09.451\u001b[0m | \u001b[1mINFO    \u001b[0m | \u001b[36msrc.train_utils\u001b[0m:\u001b[36mtrain\u001b[0m:\u001b[36m122\u001b[0m - \u001b[1mStep 5200, Global Loss: 0.8400\u001b[0m\n",
      "\u001b[32m2024-09-09 00:09:09.452\u001b[0m | \u001b[1mINFO    \u001b[0m | \u001b[36msrc.train_utils\u001b[0m:\u001b[36mtrain\u001b[0m:\u001b[36m125\u001b[0m - \u001b[1mStep 5200, Learning Rate: 0.017715\u001b[0m\n",
      "\u001b[32m2024-09-09 00:09:09.452\u001b[0m | \u001b[1mINFO    \u001b[0m | \u001b[36msrc.train_utils\u001b[0m:\u001b[36mtrain\u001b[0m:\u001b[36m128\u001b[0m - \u001b[1mStep 5200, Gradient Norms: {'grad_norm_user_embedding.weight': 0.18381869792938232, 'grad_norm_item_embedding.weight': 0.1477144956588745, 'total_grad_norm': 0.23581536408005557}\u001b[0m\n",
      "\u001b[32m2024-09-09 00:09:11.594\u001b[0m | \u001b[1mINFO    \u001b[0m | \u001b[36msrc.train_utils\u001b[0m:\u001b[36mtrain\u001b[0m:\u001b[36m122\u001b[0m - \u001b[1mStep 5300, Global Loss: 0.8467\u001b[0m\n",
      "\u001b[32m2024-09-09 00:09:11.595\u001b[0m | \u001b[1mINFO    \u001b[0m | \u001b[36msrc.train_utils\u001b[0m:\u001b[36mtrain\u001b[0m:\u001b[36m125\u001b[0m - \u001b[1mStep 5300, Learning Rate: 0.017715\u001b[0m\n",
      "\u001b[32m2024-09-09 00:09:11.595\u001b[0m | \u001b[1mINFO    \u001b[0m | \u001b[36msrc.train_utils\u001b[0m:\u001b[36mtrain\u001b[0m:\u001b[36m128\u001b[0m - \u001b[1mStep 5300, Gradient Norms: {'grad_norm_user_embedding.weight': 0.20646025240421295, 'grad_norm_item_embedding.weight': 0.15106070041656494, 'total_grad_norm': 0.25582253816494455}\u001b[0m\n"
     ]
    }
   ],
   "source": [
    "n_epochs = 50\n",
    "\n",
    "metric_log_cb = MetricLogCallback()\n",
    "\n",
    "train(\n",
    "    model,\n",
    "    dataloader,\n",
    "    val_dataloader,\n",
    "    epochs=n_epochs,\n",
    "    patience=2,\n",
    "    print_steps=100,\n",
    "    lr=0.03,\n",
    "    device=device,\n",
    "    progress_bar_type='tqdm_notebook',\n",
    "    callbacks=[metric_log_cb.process_payload]\n",
    ")"
   ]
  },
  {
   "cell_type": "markdown",
   "id": "8891dc2a-7c64-4dc6-8184-faa079410646",
   "metadata": {},
   "source": [
    "# Visualize training"
   ]
  },
  {
   "cell_type": "code",
   "execution_count": null,
   "id": "433a95ca-8822-4ff4-a518-79850eeadb74",
   "metadata": {
    "scrolled": true
   },
   "outputs": [],
   "source": [
    "step_metrics = [p for p in metric_log_cb.payloads if 'step' in p]\n",
    "epoch_metrics = [p for p in metric_log_cb.payloads if 'epoch' in p]\n",
    "step_metrics_df = pd.DataFrame(step_metrics)\n",
    "step_metrics_df"
   ]
  },
  {
   "cell_type": "code",
   "execution_count": null,
   "id": "a64c1c93-1727-4184-91a9-121ccce5919e",
   "metadata": {},
   "outputs": [],
   "source": [
    "epoch_metrics_df = pd.DataFrame(epoch_metrics)\n",
    "epoch_metrics_df = epoch_metrics_df.pipe(lambda df: pd.melt(df, id_vars=[\"epoch\"], var_name=\"loss_type\", value_name=\"value\"))\n",
    "epoch_metrics_df"
   ]
  },
  {
   "cell_type": "code",
   "execution_count": null,
   "id": "398754a0-3250-4111-af38-abd54f735d44",
   "metadata": {},
   "outputs": [],
   "source": [
    "def plot_metric(df, index='step', col: str = None, color=None):\n",
    "    # Create the plot\n",
    "    cols = [index, col]\n",
    "    if color:\n",
    "        cols.append(color)\n",
    "    fig = px.line(\n",
    "        df[cols].dropna(),\n",
    "        x=index,\n",
    "        y=col,\n",
    "        color=color,\n",
    "        labels={'x': index, 'y': col},\n",
    "        title=f'{col} by {index}',\n",
    "    )\n",
    "\n",
    "    if color:\n",
    "        fig.update_layout(showlegend=True)\n",
    "\n",
    "    fig.show()\n",
    "\n",
    "plot_metric(step_metrics_df, col='global_loss')\n",
    "plot_metric(step_metrics_df, col='learning_rate')\n",
    "plot_metric(step_metrics_df, col='total_grad_norm')\n",
    "plot_metric(epoch_metrics_df, index='epoch', col='value', color='loss_type')"
   ]
  },
  {
   "cell_type": "code",
   "execution_count": null,
   "id": "f83681cb-0364-4dcc-a2b1-9194b8b088cf",
   "metadata": {},
   "outputs": [],
   "source": [
    "fig = px.bar(\n",
    "    step_metrics_df,\n",
    "    x='step',\n",
    "    y=['grad_norm_user_embedding.weight', 'grad_norm_item_embedding.weight'],\n",
    "    title='Norm gradients of user embeddings and item embeddings',\n",
    "    height=500\n",
    ")\n",
    "fig.update_layout(showlegend=True, barmode='stack')\n",
    "fig.show()"
   ]
  },
  {
   "cell_type": "markdown",
   "id": "7a07c8e4-0e63-4e60-b865-4ee6b93c6524",
   "metadata": {},
   "source": [
    "# Predict"
   ]
  },
  {
   "cell_type": "code",
   "execution_count": null,
   "id": "5ebe0aa1-0001-47f5-8488-ae784d0e5558",
   "metadata": {},
   "outputs": [],
   "source": [
    "train_df"
   ]
  },
  {
   "cell_type": "code",
   "execution_count": null,
   "id": "568e6612-f7e5-4960-8903-5a87edb42d29",
   "metadata": {},
   "outputs": [],
   "source": [
    "user_id = 'AEHW2B54HDLZ3APBEWXHYLZ6SSYQ'\n",
    "val_df.loc[lambda df: df['user_id'].eq(user_id)]"
   ]
  },
  {
   "cell_type": "code",
   "execution_count": null,
   "id": "5aad5b21-6234-41a5-b922-c7bd77ba7011",
   "metadata": {},
   "outputs": [],
   "source": [
    "item_id = 'B07MYVF61Y'\n",
    "user_indice = idm.get_user_index(user_id)\n",
    "item_indice = idm.get_item_index(item_id)\n",
    "\n",
    "model.predict([user_indice], [item_indice])"
   ]
  },
  {
   "cell_type": "code",
   "execution_count": null,
   "id": "623cdc93-abd9-4fa9-9553-a2c37da64e2e",
   "metadata": {},
   "outputs": [],
   "source": []
  },
  {
   "cell_type": "code",
   "execution_count": null,
   "id": "d4ce6982-efec-4a48-afe9-8bbdbcbe1aad",
   "metadata": {},
   "outputs": [],
   "source": []
  }
 ],
 "metadata": {
  "kernelspec": {
   "display_name": "Python 3 (ipykernel)",
   "language": "python",
   "name": "python3"
  },
  "language_info": {
   "codemirror_mode": {
    "name": "ipython",
    "version": 3
   },
   "file_extension": ".py",
   "mimetype": "text/x-python",
   "name": "python",
   "nbconvert_exporter": "python",
   "pygments_lexer": "ipython3",
   "version": "3.11.9"
  }
 },
 "nbformat": 4,
 "nbformat_minor": 5
}
