{
 "cells": [
  {
   "cell_type": "code",
   "execution_count": 1,
   "id": "3c8f6e8d-f776-4d39-898c-d783c5ae3407",
   "metadata": {},
   "outputs": [],
   "source": [
    "%load_ext autoreload\n",
    "%autoreload 2"
   ]
  },
  {
   "cell_type": "code",
   "execution_count": 2,
   "id": "35b3499d-dc9c-405a-8714-a26341b581e1",
   "metadata": {},
   "outputs": [],
   "source": [
    "import sys\n",
    "from loguru import logger\n",
    "\n",
    "import torch\n",
    "import torch.nn as nn\n",
    "import torch.nn.functional as F\n",
    "import torch.sparse as sparse\n",
    "import torch.optim as optim\n",
    "\n",
    "import pandas as pd\n",
    "import plotly.express as px\n",
    "\n",
    "sys.path.insert(0, '..')\n",
    "\n",
    "from src.viz import blueq_colors"
   ]
  },
  {
   "cell_type": "markdown",
   "id": "a5acedcb-89e6-41c6-8969-bf3437fc7898",
   "metadata": {},
   "source": [
    "# Implement"
   ]
  },
  {
   "cell_type": "code",
   "execution_count": 3,
   "id": "d6053118-029e-4d7c-9c02-6f988508e643",
   "metadata": {},
   "outputs": [],
   "source": [
    "from src.train_utils import mse_loss, train, MetricLogCallback\n",
    "from src.model import LightGCN"
   ]
  },
  {
   "cell_type": "code",
   "execution_count": 4,
   "id": "182f6ed4-bdd3-4703-b987-e67c44c94f1b",
   "metadata": {},
   "outputs": [
    {
     "name": "stderr",
     "output_type": "stream",
     "text": [
      "\u001b[32m2024-09-08 16:27:34.444\u001b[0m | \u001b[1mINFO    \u001b[0m | \u001b[36m__main__\u001b[0m:\u001b[36m<module>\u001b[0m:\u001b[36m9\u001b[0m - \u001b[1mUsing cpu device\u001b[0m\n"
     ]
    }
   ],
   "source": [
    "# device = (\n",
    "#     \"cuda\"\n",
    "#     if torch.cuda.is_available()\n",
    "#     else \"mps\"\n",
    "#     if torch.backends.mps.is_available()\n",
    "#     else \"cpu\"\n",
    "# )\n",
    "device = 'cpu'\n",
    "logger.info(f\"Using {device} device\")"
   ]
  },
  {
   "cell_type": "markdown",
   "id": "377a71da-1ee3-474c-b3f4-4488d2a45dd3",
   "metadata": {},
   "source": [
    "# Test implementation"
   ]
  },
  {
   "cell_type": "code",
   "execution_count": 5,
   "id": "ce5326d7-ec9d-422c-bbd8-03c837a23e1e",
   "metadata": {},
   "outputs": [
    {
     "name": "stdout",
     "output_type": "stream",
     "text": [
      "tensor([-0.0045, -0.0028,  0.0095], grad_fn=<SumBackward1>)\n"
     ]
    }
   ],
   "source": [
    "# Mock data\n",
    "user_ids = [0, 0, 1, 2, 2]\n",
    "item_ids = [0, 1, 2, 3, 1]\n",
    "interaction_scores = [1, 4, 5, 3, 2]\n",
    "n_users = len(set(user_ids))\n",
    "n_items = len(set(item_ids))\n",
    "\n",
    "val_user_ids = [0, 1, 2]\n",
    "val_item_ids = [2, 1, 2]\n",
    "val_interaction_scores = [2, 4, 5]\n",
    "\n",
    "model = LightGCN(embedding_dim=64, n_layers=3, user_ids=user_ids, item_ids=item_ids, interaction_scores=interaction_scores, device=device)\n",
    "\n",
    "# Example forward pass\n",
    "users = torch.tensor([0, 1, 2])\n",
    "items = torch.tensor([0, 1, 2])\n",
    "predictions = model.predict(users, items)\n",
    "print(predictions)"
   ]
  },
  {
   "cell_type": "code",
   "execution_count": 6,
   "id": "0c0b1fea-0376-4624-ad8a-d000208a97f5",
   "metadata": {},
   "outputs": [
    {
     "name": "stdout",
     "output_type": "stream",
     "text": [
      "Mock User IDs: [0, 0, 1, 2, 2]\n",
      "Mock Item IDs: [0, 1, 2, 3, 1]\n",
      "Interaction Scores: [1, 4, 5, 3, 2]\n"
     ]
    },
    {
     "name": "stderr",
     "output_type": "stream",
     "text": [
      "/home/dvquys/frostmourne/reco-algo/.venv/lib/python3.11/site-packages/torch/optim/lr_scheduler.py:60: UserWarning: The verbose parameter is deprecated. Please use get_last_lr() to access the learning rate.\n",
      "  warnings.warn(\n"
     ]
    },
    {
     "data": {
      "application/vnd.jupyter.widget-view+json": {
       "model_id": "233ff371b060463b85a9d1085a0d137a",
       "version_major": 2,
       "version_minor": 0
      },
      "text/plain": [
       "Epochs:   0%|          | 0/50 [00:00<?, ?it/s]"
      ]
     },
     "metadata": {},
     "output_type": "display_data"
    },
    {
     "data": {
      "application/vnd.jupyter.widget-view+json": {
       "model_id": "",
       "version_major": 2,
       "version_minor": 0
      },
      "text/plain": [
       "Training Epoch 1:   0%|          | 0/2 [00:00<?, ?it/s]"
      ]
     },
     "metadata": {},
     "output_type": "display_data"
    },
    {
     "name": "stderr",
     "output_type": "stream",
     "text": [
      "\u001b[32m2024-09-08 16:27:34.997\u001b[0m | \u001b[1mINFO    \u001b[0m | \u001b[36msrc.train_utils\u001b[0m:\u001b[36mtrain\u001b[0m:\u001b[36m124\u001b[0m - \u001b[1mStep 1, Global Loss: 13.4989\u001b[0m\n",
      "\u001b[32m2024-09-08 16:27:34.997\u001b[0m | \u001b[1mINFO    \u001b[0m | \u001b[36msrc.train_utils\u001b[0m:\u001b[36mtrain\u001b[0m:\u001b[36m127\u001b[0m - \u001b[1mStep 1, Learning Rate: 0.001000\u001b[0m\n",
      "\u001b[32m2024-09-08 16:27:34.998\u001b[0m | \u001b[1mINFO    \u001b[0m | \u001b[36msrc.train_utils\u001b[0m:\u001b[36mtrain\u001b[0m:\u001b[36m130\u001b[0m - \u001b[1mStep 1, Gradient Norms: {'grad_norm_user_embedding.weight': 0.06086835637688637, 'grad_norm_item_embedding.weight': 0.06571412831544876, 'total_grad_norm': 0.0895728947186754}\u001b[0m\n",
      "\u001b[32m2024-09-08 16:27:35.000\u001b[0m | \u001b[1mINFO    \u001b[0m | \u001b[36msrc.train_utils\u001b[0m:\u001b[36mtrain\u001b[0m:\u001b[36m124\u001b[0m - \u001b[1mStep 2, Global Loss: 7.2499\u001b[0m\n",
      "\u001b[32m2024-09-08 16:27:35.000\u001b[0m | \u001b[1mINFO    \u001b[0m | \u001b[36msrc.train_utils\u001b[0m:\u001b[36mtrain\u001b[0m:\u001b[36m127\u001b[0m - \u001b[1mStep 2, Learning Rate: 0.001000\u001b[0m\n",
      "\u001b[32m2024-09-08 16:27:35.001\u001b[0m | \u001b[1mINFO    \u001b[0m | \u001b[36msrc.train_utils\u001b[0m:\u001b[36mtrain\u001b[0m:\u001b[36m130\u001b[0m - \u001b[1mStep 2, Gradient Norms: {'grad_norm_user_embedding.weight': 0.03868763893842697, 'grad_norm_item_embedding.weight': 0.01864035241305828, 'total_grad_norm': 0.04294410488894952}\u001b[0m\n",
      "\u001b[32m2024-09-08 16:27:35.001\u001b[0m | \u001b[1mINFO    \u001b[0m | \u001b[36msrc.train_utils\u001b[0m:\u001b[36mtrain\u001b[0m:\u001b[36m142\u001b[0m - \u001b[1mEpoch 1, Loss: 7.2499\u001b[0m\n",
      "\u001b[32m2024-09-08 16:27:35.002\u001b[0m | \u001b[1mINFO    \u001b[0m | \u001b[36msrc.train_utils\u001b[0m:\u001b[36mtrain\u001b[0m:\u001b[36m160\u001b[0m - \u001b[1mEpoch 1, Validation Loss: 14.9889\u001b[0m\n"
     ]
    },
    {
     "data": {
      "application/vnd.jupyter.widget-view+json": {
       "model_id": "",
       "version_major": 2,
       "version_minor": 0
      },
      "text/plain": [
       "Training Epoch 2:   0%|          | 0/2 [00:00<?, ?it/s]"
      ]
     },
     "metadata": {},
     "output_type": "display_data"
    },
    {
     "name": "stderr",
     "output_type": "stream",
     "text": [
      "\u001b[32m2024-09-08 16:27:35.008\u001b[0m | \u001b[1mINFO    \u001b[0m | \u001b[36msrc.train_utils\u001b[0m:\u001b[36mtrain\u001b[0m:\u001b[36m124\u001b[0m - \u001b[1mStep 3, Global Loss: 9.7477\u001b[0m\n",
      "\u001b[32m2024-09-08 16:27:35.008\u001b[0m | \u001b[1mINFO    \u001b[0m | \u001b[36msrc.train_utils\u001b[0m:\u001b[36mtrain\u001b[0m:\u001b[36m127\u001b[0m - \u001b[1mStep 3, Learning Rate: 0.001000\u001b[0m\n",
      "\u001b[32m2024-09-08 16:27:35.008\u001b[0m | \u001b[1mINFO    \u001b[0m | \u001b[36msrc.train_utils\u001b[0m:\u001b[36mtrain\u001b[0m:\u001b[36m130\u001b[0m - \u001b[1mStep 3, Gradient Norms: {'grad_norm_user_embedding.weight': 0.05573795735836029, 'grad_norm_item_embedding.weight': 0.06286942958831787, 'total_grad_norm': 0.08401955169627394}\u001b[0m\n",
      "\u001b[32m2024-09-08 16:27:35.009\u001b[0m | \u001b[1mINFO    \u001b[0m | \u001b[36msrc.train_utils\u001b[0m:\u001b[36mtrain\u001b[0m:\u001b[36m124\u001b[0m - \u001b[1mStep 4, Global Loss: 12.8749\u001b[0m\n",
      "\u001b[32m2024-09-08 16:27:35.010\u001b[0m | \u001b[1mINFO    \u001b[0m | \u001b[36msrc.train_utils\u001b[0m:\u001b[36mtrain\u001b[0m:\u001b[36m127\u001b[0m - \u001b[1mStep 4, Learning Rate: 0.001000\u001b[0m\n",
      "\u001b[32m2024-09-08 16:27:35.010\u001b[0m | \u001b[1mINFO    \u001b[0m | \u001b[36msrc.train_utils\u001b[0m:\u001b[36mtrain\u001b[0m:\u001b[36m130\u001b[0m - \u001b[1mStep 4, Gradient Norms: {'grad_norm_user_embedding.weight': 0.10878351330757141, 'grad_norm_item_embedding.weight': 0.07383516430854797, 'total_grad_norm': 0.13147427222087538}\u001b[0m\n",
      "\u001b[32m2024-09-08 16:27:35.011\u001b[0m | \u001b[1mINFO    \u001b[0m | \u001b[36msrc.train_utils\u001b[0m:\u001b[36mtrain\u001b[0m:\u001b[36m142\u001b[0m - \u001b[1mEpoch 2, Loss: 12.8749\u001b[0m\n",
      "\u001b[32m2024-09-08 16:27:35.011\u001b[0m | \u001b[1mINFO    \u001b[0m | \u001b[36msrc.train_utils\u001b[0m:\u001b[36mtrain\u001b[0m:\u001b[36m160\u001b[0m - \u001b[1mEpoch 2, Validation Loss: 14.9886\u001b[0m\n"
     ]
    },
    {
     "data": {
      "application/vnd.jupyter.widget-view+json": {
       "model_id": "",
       "version_major": 2,
       "version_minor": 0
      },
      "text/plain": [
       "Training Epoch 3:   0%|          | 0/2 [00:00<?, ?it/s]"
      ]
     },
     "metadata": {},
     "output_type": "display_data"
    },
    {
     "name": "stderr",
     "output_type": "stream",
     "text": [
      "\u001b[32m2024-09-08 16:27:35.016\u001b[0m | \u001b[1mINFO    \u001b[0m | \u001b[36msrc.train_utils\u001b[0m:\u001b[36mtrain\u001b[0m:\u001b[36m124\u001b[0m - \u001b[1mStep 5, Global Loss: 12.7503\u001b[0m\n",
      "\u001b[32m2024-09-08 16:27:35.016\u001b[0m | \u001b[1mINFO    \u001b[0m | \u001b[36msrc.train_utils\u001b[0m:\u001b[36mtrain\u001b[0m:\u001b[36m127\u001b[0m - \u001b[1mStep 5, Learning Rate: 0.001000\u001b[0m\n",
      "\u001b[32m2024-09-08 16:27:35.016\u001b[0m | \u001b[1mINFO    \u001b[0m | \u001b[36msrc.train_utils\u001b[0m:\u001b[36mtrain\u001b[0m:\u001b[36m130\u001b[0m - \u001b[1mStep 5, Gradient Norms: {'grad_norm_user_embedding.weight': 0.057800907641649246, 'grad_norm_item_embedding.weight': 0.06154323369264603, 'total_grad_norm': 0.08443053083776098}\u001b[0m\n",
      "\u001b[32m2024-09-08 16:27:35.017\u001b[0m | \u001b[1mINFO    \u001b[0m | \u001b[36msrc.train_utils\u001b[0m:\u001b[36mtrain\u001b[0m:\u001b[36m124\u001b[0m - \u001b[1mStep 6, Global Loss: 8.3696\u001b[0m\n",
      "\u001b[32m2024-09-08 16:27:35.017\u001b[0m | \u001b[1mINFO    \u001b[0m | \u001b[36msrc.train_utils\u001b[0m:\u001b[36mtrain\u001b[0m:\u001b[36m127\u001b[0m - \u001b[1mStep 6, Learning Rate: 0.001000\u001b[0m\n",
      "\u001b[32m2024-09-08 16:27:35.018\u001b[0m | \u001b[1mINFO    \u001b[0m | \u001b[36msrc.train_utils\u001b[0m:\u001b[36mtrain\u001b[0m:\u001b[36m130\u001b[0m - \u001b[1mStep 6, Gradient Norms: {'grad_norm_user_embedding.weight': 0.054469067603349686, 'grad_norm_item_embedding.weight': 0.09131339192390442, 'total_grad_norm': 0.10632504347625188}\u001b[0m\n",
      "\u001b[32m2024-09-08 16:27:35.018\u001b[0m | \u001b[1mINFO    \u001b[0m | \u001b[36msrc.train_utils\u001b[0m:\u001b[36mtrain\u001b[0m:\u001b[36m142\u001b[0m - \u001b[1mEpoch 3, Loss: 8.3696\u001b[0m\n",
      "\u001b[32m2024-09-08 16:27:35.019\u001b[0m | \u001b[1mINFO    \u001b[0m | \u001b[36msrc.train_utils\u001b[0m:\u001b[36mtrain\u001b[0m:\u001b[36m160\u001b[0m - \u001b[1mEpoch 3, Validation Loss: 14.9883\u001b[0m\n",
      "\u001b[32m2024-09-08 16:27:35.019\u001b[0m | \u001b[1mINFO    \u001b[0m | \u001b[36msrc.train_utils\u001b[0m:\u001b[36mtrain\u001b[0m:\u001b[36m170\u001b[0m - \u001b[1mEarly stopping at epoch 3\u001b[0m\n"
     ]
    }
   ],
   "source": [
    "import random\n",
    "import numpy as np\n",
    "from torch.utils.data import Dataset, DataLoader\n",
    "\n",
    "# Fixing random seed for reproducibility\n",
    "random.seed(42)\n",
    "np.random.seed(42)\n",
    "\n",
    "embedding_dim = 8\n",
    "n_layers = 3\n",
    "batch_size = 4\n",
    "\n",
    "# Display mock dataset\n",
    "print(\"Mock User IDs:\", user_ids)\n",
    "print(\"Mock Item IDs:\", item_ids)\n",
    "print(\"Interaction Scores:\", interaction_scores)\n",
    "\n",
    "class RatingDataset(Dataset):\n",
    "    def __init__(self, user_ids, item_ids, ratings):\n",
    "        \"\"\"\n",
    "        Args:\n",
    "            user_ids (list or array): List of user indices.\n",
    "            item_ids (list or array): List of item indices.\n",
    "            ratings (list or array): List of corresponding ratings.\n",
    "        \"\"\"\n",
    "        self.user_ids = user_ids\n",
    "        self.item_ids = item_ids\n",
    "        self.ratings = ratings\n",
    "    \n",
    "    def __len__(self):\n",
    "        return len(self.user_ids)\n",
    "    \n",
    "    def __getitem__(self, idx):\n",
    "        user = self.user_ids[idx]\n",
    "        item = self.item_ids[idx]\n",
    "        rating = self.ratings[idx]\n",
    "        return user, item, rating\n",
    "\n",
    "rating_dataset = RatingDataset(user_ids, item_ids, interaction_scores)\n",
    "dataloader = DataLoader(rating_dataset, batch_size=batch_size, shuffle=True)\n",
    "\n",
    "val_rating_dataset = RatingDataset(val_user_ids, val_item_ids, val_interaction_scores)\n",
    "val_dataloader = DataLoader(val_rating_dataset, batch_size=batch_size, shuffle=True)\n",
    "\n",
    "# Instantiate LightGCN model\n",
    "model = LightGCN(embedding_dim=embedding_dim, n_layers=n_layers,\n",
    "                 user_ids=user_ids, item_ids=item_ids, interaction_scores=interaction_scores, device=device)\n",
    "\n",
    "# Training loop\n",
    "n_epochs = 50\n",
    "\n",
    "train(model, dataloader, val_dataloader, epochs=n_epochs, patience=2, print_steps=1, lr=0.001, device=device, progress_bar_type='tqdm_notebook')"
   ]
  },
  {
   "cell_type": "markdown",
   "id": "170dec89-a874-4dce-8f94-07d978fcc5b8",
   "metadata": {},
   "source": [
    "# Prep data"
   ]
  },
  {
   "cell_type": "code",
   "execution_count": 7,
   "id": "83803362-5eaa-40bb-b28b-878316d5db5d",
   "metadata": {},
   "outputs": [],
   "source": [
    "train_df = pd.read_parquet(\"../data/train.parquet\")\n",
    "val_df = pd.read_parquet(\"../data/val.parquet\")"
   ]
  },
  {
   "cell_type": "code",
   "execution_count": 8,
   "id": "b0d4bfbb-f3bb-40bc-ae22-23e8d8f9d092",
   "metadata": {},
   "outputs": [],
   "source": [
    "from src.id_mapper import IDMapper"
   ]
  },
  {
   "cell_type": "code",
   "execution_count": 9,
   "id": "17d6c998-5fc4-43f7-8e19-0f469bb0374b",
   "metadata": {},
   "outputs": [
    {
     "name": "stderr",
     "output_type": "stream",
     "text": [
      "\u001b[32m2024-09-08 16:27:35.100\u001b[0m | \u001b[1mINFO    \u001b[0m | \u001b[36m__main__\u001b[0m:\u001b[36m<module>\u001b[0m:\u001b[36m6\u001b[0m - \u001b[1mlen(unique_user_ids)=5,223, len(unique_item_ids)=2,653\u001b[0m\n"
     ]
    }
   ],
   "source": [
    "user_ids = train_df['user_id'].values\n",
    "item_ids = train_df['parent_asin'].values\n",
    "unique_user_ids = list(set(user_ids))\n",
    "unique_item_ids = list(set(item_ids))\n",
    "\n",
    "logger.info(f\"{len(unique_user_ids)=:,.0f}, {len(unique_item_ids)=:,.0f}\")"
   ]
  },
  {
   "cell_type": "code",
   "execution_count": 10,
   "id": "d652b08a-bdeb-485a-9700-39651c225241",
   "metadata": {},
   "outputs": [],
   "source": [
    "idm = IDMapper()\n",
    "idm.fit(unique_user_ids, unique_item_ids)"
   ]
  },
  {
   "cell_type": "code",
   "execution_count": 11,
   "id": "a8861682-ac7c-410d-b263-17056ceb2466",
   "metadata": {},
   "outputs": [],
   "source": [
    "user_indices = [idm.get_user_index(user_id) for user_id in user_ids]\n",
    "item_indices = [idm.get_item_index(item_id) for item_id in item_ids]\n",
    "ratings = train_df['rating'].values.tolist()"
   ]
  },
  {
   "cell_type": "code",
   "execution_count": 12,
   "id": "e73143ed-5992-4f7d-83d1-d2dc4978af5f",
   "metadata": {},
   "outputs": [],
   "source": [
    "val_user_indices = [idm.get_user_index(user_id) for user_id in val_df['user_id']]\n",
    "val_item_indices = [idm.get_item_index(item_id) for item_id in val_df['parent_asin']]\n",
    "val_ratings = val_df['rating'].values.tolist()"
   ]
  },
  {
   "cell_type": "markdown",
   "id": "5260fbe7-2f90-44a1-be74-ce5db9b511ee",
   "metadata": {},
   "source": [
    "# Train"
   ]
  },
  {
   "cell_type": "code",
   "execution_count": 13,
   "id": "240a04ed-8898-443f-b0f4-7399bfa63810",
   "metadata": {},
   "outputs": [],
   "source": [
    "rating_dataset = RatingDataset(user_indices, item_indices, ratings)\n",
    "dataloader = DataLoader(rating_dataset, batch_size=batch_size, shuffle=True)\n",
    "\n",
    "val_rating_dataset = RatingDataset(val_user_indices, val_item_indices, val_ratings)\n",
    "val_dataloader = DataLoader(val_rating_dataset, batch_size=batch_size, shuffle=True)"
   ]
  },
  {
   "cell_type": "code",
   "execution_count": 14,
   "id": "22dcf157-425f-4d15-9b53-e1ff93887def",
   "metadata": {
    "scrolled": true
   },
   "outputs": [],
   "source": [
    "embedding_dim = 128\n",
    "n_layers = 3\n",
    "batch_size = 256\n",
    "\n",
    "# Instantiate LightGCN model\n",
    "model = LightGCN(embedding_dim=embedding_dim, n_layers=n_layers,\n",
    "                 user_ids=user_indices, item_ids=item_indices, interaction_scores=ratings, device=device)"
   ]
  },
  {
   "cell_type": "markdown",
   "id": "b8cbb2a8-a578-4ad2-941e-efd01d930336",
   "metadata": {},
   "source": [
    "#### Predict before train"
   ]
  },
  {
   "cell_type": "code",
   "execution_count": 15,
   "id": "9eb1583b-40f7-4157-a383-5891389ac119",
   "metadata": {
    "scrolled": true
   },
   "outputs": [
    {
     "data": {
      "text/html": [
       "<div>\n",
       "<style scoped>\n",
       "    .dataframe tbody tr th:only-of-type {\n",
       "        vertical-align: middle;\n",
       "    }\n",
       "\n",
       "    .dataframe tbody tr th {\n",
       "        vertical-align: top;\n",
       "    }\n",
       "\n",
       "    .dataframe thead th {\n",
       "        text-align: right;\n",
       "    }\n",
       "</style>\n",
       "<table border=\"1\" class=\"dataframe\">\n",
       "  <thead>\n",
       "    <tr style=\"text-align: right;\">\n",
       "      <th></th>\n",
       "      <th>user_id</th>\n",
       "      <th>parent_asin</th>\n",
       "      <th>rating</th>\n",
       "      <th>timestamp</th>\n",
       "    </tr>\n",
       "  </thead>\n",
       "  <tbody>\n",
       "    <tr>\n",
       "      <th>34367</th>\n",
       "      <td>AEHW2B54HDLZ3APBEWXHYLZ6SSYQ</td>\n",
       "      <td>B07MYVF61Y</td>\n",
       "      <td>4.0</td>\n",
       "      <td>1654225907045</td>\n",
       "    </tr>\n",
       "  </tbody>\n",
       "</table>\n",
       "</div>"
      ],
      "text/plain": [
       "                            user_id parent_asin  rating      timestamp\n",
       "34367  AEHW2B54HDLZ3APBEWXHYLZ6SSYQ  B07MYVF61Y     4.0  1654225907045"
      ]
     },
     "execution_count": 15,
     "metadata": {},
     "output_type": "execute_result"
    }
   ],
   "source": [
    "user_id = 'AEHW2B54HDLZ3APBEWXHYLZ6SSYQ'\n",
    "val_df.loc[lambda df: df['user_id'].eq(user_id)]"
   ]
  },
  {
   "cell_type": "code",
   "execution_count": 16,
   "id": "c48fbc80-eda8-4dff-a246-95f8f2f75082",
   "metadata": {},
   "outputs": [
    {
     "data": {
      "text/plain": [
       "tensor([0.0057], grad_fn=<SumBackward1>)"
      ]
     },
     "execution_count": 16,
     "metadata": {},
     "output_type": "execute_result"
    }
   ],
   "source": [
    "item_id = 'B07MYVF61Y'\n",
    "user_indice = idm.get_user_index(user_id)\n",
    "item_indice = idm.get_item_index(item_id)\n",
    "\n",
    "model.predict([user_indice], [item_indice])"
   ]
  },
  {
   "cell_type": "markdown",
   "id": "c2fd217c-c0c8-4e7c-81fe-6eb36f4729b5",
   "metadata": {},
   "source": [
    "#### Training loop"
   ]
  },
  {
   "cell_type": "code",
   "execution_count": 17,
   "id": "c63eb300-bda8-4c35-93ad-71a4c2e025fe",
   "metadata": {
    "scrolled": true
   },
   "outputs": [
    {
     "name": "stderr",
     "output_type": "stream",
     "text": [
      "/home/dvquys/frostmourne/reco-algo/.venv/lib/python3.11/site-packages/torch/optim/lr_scheduler.py:60: UserWarning: The verbose parameter is deprecated. Please use get_last_lr() to access the learning rate.\n",
      "  warnings.warn(\n"
     ]
    },
    {
     "data": {
      "application/vnd.jupyter.widget-view+json": {
       "model_id": "e3636f4ce8d74f828261251685e2e4dd",
       "version_major": 2,
       "version_minor": 0
      },
      "text/plain": [
       "Epochs:   0%|          | 0/50 [00:00<?, ?it/s]"
      ]
     },
     "metadata": {},
     "output_type": "display_data"
    },
    {
     "data": {
      "application/vnd.jupyter.widget-view+json": {
       "model_id": "",
       "version_major": 2,
       "version_minor": 0
      },
      "text/plain": [
       "Training Epoch 1:   0%|          | 0/4524 [00:00<?, ?it/s]"
      ]
     },
     "metadata": {},
     "output_type": "display_data"
    },
    {
     "name": "stderr",
     "output_type": "stream",
     "text": [
      "\u001b[32m2024-09-08 16:27:37.220\u001b[0m | \u001b[1mINFO    \u001b[0m | \u001b[36msrc.train_utils\u001b[0m:\u001b[36mtrain\u001b[0m:\u001b[36m124\u001b[0m - \u001b[1mStep 100, Global Loss: 19.6030\u001b[0m\n",
      "\u001b[32m2024-09-08 16:27:37.220\u001b[0m | \u001b[1mINFO    \u001b[0m | \u001b[36msrc.train_utils\u001b[0m:\u001b[36mtrain\u001b[0m:\u001b[36m127\u001b[0m - \u001b[1mStep 100, Learning Rate: 0.030000\u001b[0m\n",
      "\u001b[32m2024-09-08 16:27:37.220\u001b[0m | \u001b[1mINFO    \u001b[0m | \u001b[36msrc.train_utils\u001b[0m:\u001b[36mtrain\u001b[0m:\u001b[36m130\u001b[0m - \u001b[1mStep 100, Gradient Norms: {'grad_norm_user_embedding.weight': 0.06473526358604431, 'grad_norm_item_embedding.weight': 0.0008847127319313586, 'total_grad_norm': 0.06474130882344499}\u001b[0m\n",
      "\u001b[32m2024-09-08 16:27:39.134\u001b[0m | \u001b[1mINFO    \u001b[0m | \u001b[36msrc.train_utils\u001b[0m:\u001b[36mtrain\u001b[0m:\u001b[36m124\u001b[0m - \u001b[1mStep 200, Global Loss: 19.5010\u001b[0m\n",
      "\u001b[32m2024-09-08 16:27:39.134\u001b[0m | \u001b[1mINFO    \u001b[0m | \u001b[36msrc.train_utils\u001b[0m:\u001b[36mtrain\u001b[0m:\u001b[36m127\u001b[0m - \u001b[1mStep 200, Learning Rate: 0.030000\u001b[0m\n",
      "\u001b[32m2024-09-08 16:27:39.135\u001b[0m | \u001b[1mINFO    \u001b[0m | \u001b[36msrc.train_utils\u001b[0m:\u001b[36mtrain\u001b[0m:\u001b[36m130\u001b[0m - \u001b[1mStep 200, Gradient Norms: {'grad_norm_user_embedding.weight': 0.2813809812068939, 'grad_norm_item_embedding.weight': 0.7527627348899841, 'total_grad_norm': 0.8036336177786509}\u001b[0m\n",
      "\u001b[32m2024-09-08 16:27:41.154\u001b[0m | \u001b[1mINFO    \u001b[0m | \u001b[36msrc.train_utils\u001b[0m:\u001b[36mtrain\u001b[0m:\u001b[36m124\u001b[0m - \u001b[1mStep 300, Global Loss: 19.4848\u001b[0m\n",
      "\u001b[32m2024-09-08 16:27:41.155\u001b[0m | \u001b[1mINFO    \u001b[0m | \u001b[36msrc.train_utils\u001b[0m:\u001b[36mtrain\u001b[0m:\u001b[36m127\u001b[0m - \u001b[1mStep 300, Learning Rate: 0.030000\u001b[0m\n",
      "\u001b[32m2024-09-08 16:27:41.155\u001b[0m | \u001b[1mINFO    \u001b[0m | \u001b[36msrc.train_utils\u001b[0m:\u001b[36mtrain\u001b[0m:\u001b[36m130\u001b[0m - \u001b[1mStep 300, Gradient Norms: {'grad_norm_user_embedding.weight': 0.6355288028717041, 'grad_norm_item_embedding.weight': 3.1493225804979375e-08, 'total_grad_norm': 0.6355288028717049}\u001b[0m\n",
      "\u001b[32m2024-09-08 16:27:43.159\u001b[0m | \u001b[1mINFO    \u001b[0m | \u001b[36msrc.train_utils\u001b[0m:\u001b[36mtrain\u001b[0m:\u001b[36m124\u001b[0m - \u001b[1mStep 400, Global Loss: 19.5607\u001b[0m\n",
      "\u001b[32m2024-09-08 16:27:43.160\u001b[0m | \u001b[1mINFO    \u001b[0m | \u001b[36msrc.train_utils\u001b[0m:\u001b[36mtrain\u001b[0m:\u001b[36m127\u001b[0m - \u001b[1mStep 400, Learning Rate: 0.030000\u001b[0m\n",
      "\u001b[32m2024-09-08 16:27:43.160\u001b[0m | \u001b[1mINFO    \u001b[0m | \u001b[36msrc.train_utils\u001b[0m:\u001b[36mtrain\u001b[0m:\u001b[36m130\u001b[0m - \u001b[1mStep 400, Gradient Norms: {'grad_norm_user_embedding.weight': 0.4595750570297241, 'grad_norm_item_embedding.weight': 0.8881383538246155, 'total_grad_norm': 0.999999484288953}\u001b[0m\n",
      "\u001b[32m2024-09-08 16:27:45.141\u001b[0m | \u001b[1mINFO    \u001b[0m | \u001b[36msrc.train_utils\u001b[0m:\u001b[36mtrain\u001b[0m:\u001b[36m124\u001b[0m - \u001b[1mStep 500, Global Loss: 19.4542\u001b[0m\n",
      "\u001b[32m2024-09-08 16:27:45.141\u001b[0m | \u001b[1mINFO    \u001b[0m | \u001b[36msrc.train_utils\u001b[0m:\u001b[36mtrain\u001b[0m:\u001b[36m127\u001b[0m - \u001b[1mStep 500, Learning Rate: 0.030000\u001b[0m\n",
      "\u001b[32m2024-09-08 16:27:45.141\u001b[0m | \u001b[1mINFO    \u001b[0m | \u001b[36msrc.train_utils\u001b[0m:\u001b[36mtrain\u001b[0m:\u001b[36m130\u001b[0m - \u001b[1mStep 500, Gradient Norms: {'grad_norm_user_embedding.weight': 0.7342990040779114, 'grad_norm_item_embedding.weight': 0.19076071679592133, 'total_grad_norm': 0.7586729720125175}\u001b[0m\n",
      "\u001b[32m2024-09-08 16:27:47.125\u001b[0m | \u001b[1mINFO    \u001b[0m | \u001b[36msrc.train_utils\u001b[0m:\u001b[36mtrain\u001b[0m:\u001b[36m124\u001b[0m - \u001b[1mStep 600, Global Loss: 19.4176\u001b[0m\n",
      "\u001b[32m2024-09-08 16:27:47.126\u001b[0m | \u001b[1mINFO    \u001b[0m | \u001b[36msrc.train_utils\u001b[0m:\u001b[36mtrain\u001b[0m:\u001b[36m127\u001b[0m - \u001b[1mStep 600, Learning Rate: 0.030000\u001b[0m\n",
      "\u001b[32m2024-09-08 16:27:47.126\u001b[0m | \u001b[1mINFO    \u001b[0m | \u001b[36msrc.train_utils\u001b[0m:\u001b[36mtrain\u001b[0m:\u001b[36m130\u001b[0m - \u001b[1mStep 600, Gradient Norms: {'grad_norm_user_embedding.weight': 0.9099592566490173, 'grad_norm_item_embedding.weight': 2.237895979639859e-11, 'total_grad_norm': 0.9099592566490173}\u001b[0m\n",
      "\u001b[32m2024-09-08 16:27:49.211\u001b[0m | \u001b[1mINFO    \u001b[0m | \u001b[36msrc.train_utils\u001b[0m:\u001b[36mtrain\u001b[0m:\u001b[36m124\u001b[0m - \u001b[1mStep 700, Global Loss: 19.4837\u001b[0m\n",
      "\u001b[32m2024-09-08 16:27:49.212\u001b[0m | \u001b[1mINFO    \u001b[0m | \u001b[36msrc.train_utils\u001b[0m:\u001b[36mtrain\u001b[0m:\u001b[36m127\u001b[0m - \u001b[1mStep 700, Learning Rate: 0.030000\u001b[0m\n",
      "\u001b[32m2024-09-08 16:27:49.212\u001b[0m | \u001b[1mINFO    \u001b[0m | \u001b[36msrc.train_utils\u001b[0m:\u001b[36mtrain\u001b[0m:\u001b[36m130\u001b[0m - \u001b[1mStep 700, Gradient Norms: {'grad_norm_user_embedding.weight': 0.7419120073318481, 'grad_norm_item_embedding.weight': 0.6704966425895691, 'total_grad_norm': 0.9999995871734431}\u001b[0m\n",
      "\u001b[32m2024-09-08 16:27:51.272\u001b[0m | \u001b[1mINFO    \u001b[0m | \u001b[36msrc.train_utils\u001b[0m:\u001b[36mtrain\u001b[0m:\u001b[36m124\u001b[0m - \u001b[1mStep 800, Global Loss: 19.4737\u001b[0m\n",
      "\u001b[32m2024-09-08 16:27:51.273\u001b[0m | \u001b[1mINFO    \u001b[0m | \u001b[36msrc.train_utils\u001b[0m:\u001b[36mtrain\u001b[0m:\u001b[36m127\u001b[0m - \u001b[1mStep 800, Learning Rate: 0.030000\u001b[0m\n",
      "\u001b[32m2024-09-08 16:27:51.273\u001b[0m | \u001b[1mINFO    \u001b[0m | \u001b[36msrc.train_utils\u001b[0m:\u001b[36mtrain\u001b[0m:\u001b[36m130\u001b[0m - \u001b[1mStep 800, Gradient Norms: {'grad_norm_user_embedding.weight': 0.015421750955283642, 'grad_norm_item_embedding.weight': 0.9998803734779358, 'total_grad_norm': 0.9999992958342037}\u001b[0m\n",
      "\u001b[32m2024-09-08 16:27:53.304\u001b[0m | \u001b[1mINFO    \u001b[0m | \u001b[36msrc.train_utils\u001b[0m:\u001b[36mtrain\u001b[0m:\u001b[36m124\u001b[0m - \u001b[1mStep 900, Global Loss: 19.4403\u001b[0m\n",
      "\u001b[32m2024-09-08 16:27:53.305\u001b[0m | \u001b[1mINFO    \u001b[0m | \u001b[36msrc.train_utils\u001b[0m:\u001b[36mtrain\u001b[0m:\u001b[36m127\u001b[0m - \u001b[1mStep 900, Learning Rate: 0.030000\u001b[0m\n",
      "\u001b[32m2024-09-08 16:27:53.305\u001b[0m | \u001b[1mINFO    \u001b[0m | \u001b[36msrc.train_utils\u001b[0m:\u001b[36mtrain\u001b[0m:\u001b[36m130\u001b[0m - \u001b[1mStep 900, Gradient Norms: {'grad_norm_user_embedding.weight': 0.8304107785224915, 'grad_norm_item_embedding.weight': 0.5571505427360535, 'total_grad_norm': 0.9999993941785211}\u001b[0m\n",
      "\u001b[32m2024-09-08 16:27:55.329\u001b[0m | \u001b[1mINFO    \u001b[0m | \u001b[36msrc.train_utils\u001b[0m:\u001b[36mtrain\u001b[0m:\u001b[36m124\u001b[0m - \u001b[1mStep 1000, Global Loss: 19.4342\u001b[0m\n",
      "\u001b[32m2024-09-08 16:27:55.329\u001b[0m | \u001b[1mINFO    \u001b[0m | \u001b[36msrc.train_utils\u001b[0m:\u001b[36mtrain\u001b[0m:\u001b[36m127\u001b[0m - \u001b[1mStep 1000, Learning Rate: 0.027000\u001b[0m\n",
      "\u001b[32m2024-09-08 16:27:55.329\u001b[0m | \u001b[1mINFO    \u001b[0m | \u001b[36msrc.train_utils\u001b[0m:\u001b[36mtrain\u001b[0m:\u001b[36m130\u001b[0m - \u001b[1mStep 1000, Gradient Norms: {'grad_norm_user_embedding.weight': 0.9708406925201416, 'grad_norm_item_embedding.weight': 0.2397216260433197, 'total_grad_norm': 0.9999990541224734}\u001b[0m\n",
      "\u001b[32m2024-09-08 16:27:57.376\u001b[0m | \u001b[1mINFO    \u001b[0m | \u001b[36msrc.train_utils\u001b[0m:\u001b[36mtrain\u001b[0m:\u001b[36m124\u001b[0m - \u001b[1mStep 1100, Global Loss: 19.5126\u001b[0m\n",
      "\u001b[32m2024-09-08 16:27:57.377\u001b[0m | \u001b[1mINFO    \u001b[0m | \u001b[36msrc.train_utils\u001b[0m:\u001b[36mtrain\u001b[0m:\u001b[36m127\u001b[0m - \u001b[1mStep 1100, Learning Rate: 0.027000\u001b[0m\n",
      "\u001b[32m2024-09-08 16:27:57.377\u001b[0m | \u001b[1mINFO    \u001b[0m | \u001b[36msrc.train_utils\u001b[0m:\u001b[36mtrain\u001b[0m:\u001b[36m130\u001b[0m - \u001b[1mStep 1100, Gradient Norms: {'grad_norm_user_embedding.weight': 0.8435892462730408, 'grad_norm_item_embedding.weight': 0.5369885563850403, 'total_grad_norm': 0.9999997630579752}\u001b[0m\n",
      "\u001b[32m2024-09-08 16:27:59.406\u001b[0m | \u001b[1mINFO    \u001b[0m | \u001b[36msrc.train_utils\u001b[0m:\u001b[36mtrain\u001b[0m:\u001b[36m124\u001b[0m - \u001b[1mStep 1200, Global Loss: 19.4512\u001b[0m\n",
      "\u001b[32m2024-09-08 16:27:59.407\u001b[0m | \u001b[1mINFO    \u001b[0m | \u001b[36msrc.train_utils\u001b[0m:\u001b[36mtrain\u001b[0m:\u001b[36m127\u001b[0m - \u001b[1mStep 1200, Learning Rate: 0.027000\u001b[0m\n",
      "\u001b[32m2024-09-08 16:27:59.407\u001b[0m | \u001b[1mINFO    \u001b[0m | \u001b[36msrc.train_utils\u001b[0m:\u001b[36mtrain\u001b[0m:\u001b[36m130\u001b[0m - \u001b[1mStep 1200, Gradient Norms: {'grad_norm_user_embedding.weight': 0.6782269477844238, 'grad_norm_item_embedding.weight': 0.7348517775535583, 'total_grad_norm': 0.9999994638371562}\u001b[0m\n",
      "\u001b[32m2024-09-08 16:28:01.345\u001b[0m | \u001b[1mINFO    \u001b[0m | \u001b[36msrc.train_utils\u001b[0m:\u001b[36mtrain\u001b[0m:\u001b[36m124\u001b[0m - \u001b[1mStep 1300, Global Loss: 19.4898\u001b[0m\n",
      "\u001b[32m2024-09-08 16:28:01.345\u001b[0m | \u001b[1mINFO    \u001b[0m | \u001b[36msrc.train_utils\u001b[0m:\u001b[36mtrain\u001b[0m:\u001b[36m127\u001b[0m - \u001b[1mStep 1300, Learning Rate: 0.027000\u001b[0m\n",
      "\u001b[32m2024-09-08 16:28:01.345\u001b[0m | \u001b[1mINFO    \u001b[0m | \u001b[36msrc.train_utils\u001b[0m:\u001b[36mtrain\u001b[0m:\u001b[36m130\u001b[0m - \u001b[1mStep 1300, Gradient Norms: {'grad_norm_user_embedding.weight': 0.9659106731414795, 'grad_norm_item_embedding.weight': 0.25887253880500793, 'total_grad_norm': 0.9999992099176761}\u001b[0m\n",
      "\u001b[32m2024-09-08 16:28:03.359\u001b[0m | \u001b[1mINFO    \u001b[0m | \u001b[36msrc.train_utils\u001b[0m:\u001b[36mtrain\u001b[0m:\u001b[36m124\u001b[0m - \u001b[1mStep 1400, Global Loss: 19.4463\u001b[0m\n",
      "\u001b[32m2024-09-08 16:28:03.359\u001b[0m | \u001b[1mINFO    \u001b[0m | \u001b[36msrc.train_utils\u001b[0m:\u001b[36mtrain\u001b[0m:\u001b[36m127\u001b[0m - \u001b[1mStep 1400, Learning Rate: 0.027000\u001b[0m\n",
      "\u001b[32m2024-09-08 16:28:03.360\u001b[0m | \u001b[1mINFO    \u001b[0m | \u001b[36msrc.train_utils\u001b[0m:\u001b[36mtrain\u001b[0m:\u001b[36m130\u001b[0m - \u001b[1mStep 1400, Gradient Norms: {'grad_norm_user_embedding.weight': 0.8040230870246887, 'grad_norm_item_embedding.weight': 0.5945972204208374, 'total_grad_norm': 0.9999994895003177}\u001b[0m\n",
      "\u001b[32m2024-09-08 16:28:05.379\u001b[0m | \u001b[1mINFO    \u001b[0m | \u001b[36msrc.train_utils\u001b[0m:\u001b[36mtrain\u001b[0m:\u001b[36m124\u001b[0m - \u001b[1mStep 1500, Global Loss: 19.3785\u001b[0m\n",
      "\u001b[32m2024-09-08 16:28:05.379\u001b[0m | \u001b[1mINFO    \u001b[0m | \u001b[36msrc.train_utils\u001b[0m:\u001b[36mtrain\u001b[0m:\u001b[36m127\u001b[0m - \u001b[1mStep 1500, Learning Rate: 0.027000\u001b[0m\n",
      "\u001b[32m2024-09-08 16:28:05.380\u001b[0m | \u001b[1mINFO    \u001b[0m | \u001b[36msrc.train_utils\u001b[0m:\u001b[36mtrain\u001b[0m:\u001b[36m130\u001b[0m - \u001b[1mStep 1500, Gradient Norms: {'grad_norm_user_embedding.weight': 0.8853427171707153, 'grad_norm_item_embedding.weight': 0.46493810415267944, 'total_grad_norm': 0.9999995837700699}\u001b[0m\n",
      "\u001b[32m2024-09-08 16:28:07.393\u001b[0m | \u001b[1mINFO    \u001b[0m | \u001b[36msrc.train_utils\u001b[0m:\u001b[36mtrain\u001b[0m:\u001b[36m124\u001b[0m - \u001b[1mStep 1600, Global Loss: 19.3363\u001b[0m\n",
      "\u001b[32m2024-09-08 16:28:07.394\u001b[0m | \u001b[1mINFO    \u001b[0m | \u001b[36msrc.train_utils\u001b[0m:\u001b[36mtrain\u001b[0m:\u001b[36m127\u001b[0m - \u001b[1mStep 1600, Learning Rate: 0.027000\u001b[0m\n",
      "\u001b[32m2024-09-08 16:28:07.394\u001b[0m | \u001b[1mINFO    \u001b[0m | \u001b[36msrc.train_utils\u001b[0m:\u001b[36mtrain\u001b[0m:\u001b[36m130\u001b[0m - \u001b[1mStep 1600, Gradient Norms: {'grad_norm_user_embedding.weight': 0.6822764277458191, 'grad_norm_item_embedding.weight': 0.7310935854911804, 'total_grad_norm': 0.9999994773018364}\u001b[0m\n",
      "\u001b[32m2024-09-08 16:28:09.403\u001b[0m | \u001b[1mINFO    \u001b[0m | \u001b[36msrc.train_utils\u001b[0m:\u001b[36mtrain\u001b[0m:\u001b[36m124\u001b[0m - \u001b[1mStep 1700, Global Loss: 19.2900\u001b[0m\n",
      "\u001b[32m2024-09-08 16:28:09.404\u001b[0m | \u001b[1mINFO    \u001b[0m | \u001b[36msrc.train_utils\u001b[0m:\u001b[36mtrain\u001b[0m:\u001b[36m127\u001b[0m - \u001b[1mStep 1700, Learning Rate: 0.027000\u001b[0m\n",
      "\u001b[32m2024-09-08 16:28:09.404\u001b[0m | \u001b[1mINFO    \u001b[0m | \u001b[36msrc.train_utils\u001b[0m:\u001b[36mtrain\u001b[0m:\u001b[36m130\u001b[0m - \u001b[1mStep 1700, Gradient Norms: {'grad_norm_user_embedding.weight': 0.9999995231628418, 'grad_norm_item_embedding.weight': 0.0, 'total_grad_norm': 0.9999995231628418}\u001b[0m\n",
      "\u001b[32m2024-09-08 16:28:11.458\u001b[0m | \u001b[1mINFO    \u001b[0m | \u001b[36msrc.train_utils\u001b[0m:\u001b[36mtrain\u001b[0m:\u001b[36m124\u001b[0m - \u001b[1mStep 1800, Global Loss: 19.2185\u001b[0m\n",
      "\u001b[32m2024-09-08 16:28:11.458\u001b[0m | \u001b[1mINFO    \u001b[0m | \u001b[36msrc.train_utils\u001b[0m:\u001b[36mtrain\u001b[0m:\u001b[36m127\u001b[0m - \u001b[1mStep 1800, Learning Rate: 0.027000\u001b[0m\n",
      "\u001b[32m2024-09-08 16:28:11.459\u001b[0m | \u001b[1mINFO    \u001b[0m | \u001b[36msrc.train_utils\u001b[0m:\u001b[36mtrain\u001b[0m:\u001b[36m130\u001b[0m - \u001b[1mStep 1800, Gradient Norms: {'grad_norm_user_embedding.weight': 0.8281010389328003, 'grad_norm_item_embedding.weight': 0.5605778694152832, 'total_grad_norm': 0.9999994391797236}\u001b[0m\n",
      "\u001b[32m2024-09-08 16:28:13.488\u001b[0m | \u001b[1mINFO    \u001b[0m | \u001b[36msrc.train_utils\u001b[0m:\u001b[36mtrain\u001b[0m:\u001b[36m124\u001b[0m - \u001b[1mStep 1900, Global Loss: 19.1165\u001b[0m\n",
      "\u001b[32m2024-09-08 16:28:13.489\u001b[0m | \u001b[1mINFO    \u001b[0m | \u001b[36msrc.train_utils\u001b[0m:\u001b[36mtrain\u001b[0m:\u001b[36m127\u001b[0m - \u001b[1mStep 1900, Learning Rate: 0.027000\u001b[0m\n",
      "\u001b[32m2024-09-08 16:28:13.489\u001b[0m | \u001b[1mINFO    \u001b[0m | \u001b[36msrc.train_utils\u001b[0m:\u001b[36mtrain\u001b[0m:\u001b[36m130\u001b[0m - \u001b[1mStep 1900, Gradient Norms: {'grad_norm_user_embedding.weight': 0.914289653301239, 'grad_norm_item_embedding.weight': 0.40505990386009216, 'total_grad_norm': 0.9999995479243213}\u001b[0m\n",
      "\u001b[32m2024-09-08 16:28:15.448\u001b[0m | \u001b[1mINFO    \u001b[0m | \u001b[36msrc.train_utils\u001b[0m:\u001b[36mtrain\u001b[0m:\u001b[36m124\u001b[0m - \u001b[1mStep 2000, Global Loss: 19.0100\u001b[0m\n",
      "\u001b[32m2024-09-08 16:28:15.448\u001b[0m | \u001b[1mINFO    \u001b[0m | \u001b[36msrc.train_utils\u001b[0m:\u001b[36mtrain\u001b[0m:\u001b[36m127\u001b[0m - \u001b[1mStep 2000, Learning Rate: 0.024300\u001b[0m\n",
      "\u001b[32m2024-09-08 16:28:15.448\u001b[0m | \u001b[1mINFO    \u001b[0m | \u001b[36msrc.train_utils\u001b[0m:\u001b[36mtrain\u001b[0m:\u001b[36m130\u001b[0m - \u001b[1mStep 2000, Gradient Norms: {'grad_norm_user_embedding.weight': 0.7480943202972412, 'grad_norm_item_embedding.weight': 0.6635918617248535, 'total_grad_norm': 0.9999996355041578}\u001b[0m\n",
      "\u001b[32m2024-09-08 16:28:17.463\u001b[0m | \u001b[1mINFO    \u001b[0m | \u001b[36msrc.train_utils\u001b[0m:\u001b[36mtrain\u001b[0m:\u001b[36m124\u001b[0m - \u001b[1mStep 2100, Global Loss: 18.8971\u001b[0m\n",
      "\u001b[32m2024-09-08 16:28:17.464\u001b[0m | \u001b[1mINFO    \u001b[0m | \u001b[36msrc.train_utils\u001b[0m:\u001b[36mtrain\u001b[0m:\u001b[36m127\u001b[0m - \u001b[1mStep 2100, Learning Rate: 0.024300\u001b[0m\n",
      "\u001b[32m2024-09-08 16:28:17.464\u001b[0m | \u001b[1mINFO    \u001b[0m | \u001b[36msrc.train_utils\u001b[0m:\u001b[36mtrain\u001b[0m:\u001b[36m130\u001b[0m - \u001b[1mStep 2100, Gradient Norms: {'grad_norm_user_embedding.weight': 0.8789045214653015, 'grad_norm_item_embedding.weight': 0.4769972264766693, 'total_grad_norm': 0.999999755959263}\u001b[0m\n",
      "\u001b[32m2024-09-08 16:28:19.527\u001b[0m | \u001b[1mINFO    \u001b[0m | \u001b[36msrc.train_utils\u001b[0m:\u001b[36mtrain\u001b[0m:\u001b[36m124\u001b[0m - \u001b[1mStep 2200, Global Loss: 18.7797\u001b[0m\n",
      "\u001b[32m2024-09-08 16:28:19.527\u001b[0m | \u001b[1mINFO    \u001b[0m | \u001b[36msrc.train_utils\u001b[0m:\u001b[36mtrain\u001b[0m:\u001b[36m127\u001b[0m - \u001b[1mStep 2200, Learning Rate: 0.024300\u001b[0m\n",
      "\u001b[32m2024-09-08 16:28:19.528\u001b[0m | \u001b[1mINFO    \u001b[0m | \u001b[36msrc.train_utils\u001b[0m:\u001b[36mtrain\u001b[0m:\u001b[36m130\u001b[0m - \u001b[1mStep 2200, Gradient Norms: {'grad_norm_user_embedding.weight': 0.7279229164123535, 'grad_norm_item_embedding.weight': 0.68565833568573, 'total_grad_norm': 0.9999995627667001}\u001b[0m\n",
      "\u001b[32m2024-09-08 16:28:21.548\u001b[0m | \u001b[1mINFO    \u001b[0m | \u001b[36msrc.train_utils\u001b[0m:\u001b[36mtrain\u001b[0m:\u001b[36m124\u001b[0m - \u001b[1mStep 2300, Global Loss: 18.6518\u001b[0m\n",
      "\u001b[32m2024-09-08 16:28:21.549\u001b[0m | \u001b[1mINFO    \u001b[0m | \u001b[36msrc.train_utils\u001b[0m:\u001b[36mtrain\u001b[0m:\u001b[36m127\u001b[0m - \u001b[1mStep 2300, Learning Rate: 0.024300\u001b[0m\n",
      "\u001b[32m2024-09-08 16:28:21.549\u001b[0m | \u001b[1mINFO    \u001b[0m | \u001b[36msrc.train_utils\u001b[0m:\u001b[36mtrain\u001b[0m:\u001b[36m130\u001b[0m - \u001b[1mStep 2300, Gradient Norms: {'grad_norm_user_embedding.weight': 0.5677443146705627, 'grad_norm_item_embedding.weight': 0.8232046365737915, 'total_grad_norm': 0.9999997402586338}\u001b[0m\n",
      "\u001b[32m2024-09-08 16:28:23.497\u001b[0m | \u001b[1mINFO    \u001b[0m | \u001b[36msrc.train_utils\u001b[0m:\u001b[36mtrain\u001b[0m:\u001b[36m124\u001b[0m - \u001b[1mStep 2400, Global Loss: 18.5421\u001b[0m\n",
      "\u001b[32m2024-09-08 16:28:23.498\u001b[0m | \u001b[1mINFO    \u001b[0m | \u001b[36msrc.train_utils\u001b[0m:\u001b[36mtrain\u001b[0m:\u001b[36m127\u001b[0m - \u001b[1mStep 2400, Learning Rate: 0.024300\u001b[0m\n",
      "\u001b[32m2024-09-08 16:28:23.498\u001b[0m | \u001b[1mINFO    \u001b[0m | \u001b[36msrc.train_utils\u001b[0m:\u001b[36mtrain\u001b[0m:\u001b[36m130\u001b[0m - \u001b[1mStep 2400, Gradient Norms: {'grad_norm_user_embedding.weight': 0.6745503544807434, 'grad_norm_item_embedding.weight': 0.7382283210754395, 'total_grad_norm': 0.9999996173839062}\u001b[0m\n",
      "\u001b[32m2024-09-08 16:28:25.566\u001b[0m | \u001b[1mINFO    \u001b[0m | \u001b[36msrc.train_utils\u001b[0m:\u001b[36mtrain\u001b[0m:\u001b[36m124\u001b[0m - \u001b[1mStep 2500, Global Loss: 18.4130\u001b[0m\n",
      "\u001b[32m2024-09-08 16:28:25.566\u001b[0m | \u001b[1mINFO    \u001b[0m | \u001b[36msrc.train_utils\u001b[0m:\u001b[36mtrain\u001b[0m:\u001b[36m127\u001b[0m - \u001b[1mStep 2500, Learning Rate: 0.024300\u001b[0m\n",
      "\u001b[32m2024-09-08 16:28:25.566\u001b[0m | \u001b[1mINFO    \u001b[0m | \u001b[36msrc.train_utils\u001b[0m:\u001b[36mtrain\u001b[0m:\u001b[36m130\u001b[0m - \u001b[1mStep 2500, Gradient Norms: {'grad_norm_user_embedding.weight': 0.8070776462554932, 'grad_norm_item_embedding.weight': 0.5904446840286255, 'total_grad_norm': 0.9999996259914152}\u001b[0m\n",
      "\u001b[32m2024-09-08 16:28:27.590\u001b[0m | \u001b[1mINFO    \u001b[0m | \u001b[36msrc.train_utils\u001b[0m:\u001b[36mtrain\u001b[0m:\u001b[36m124\u001b[0m - \u001b[1mStep 2600, Global Loss: 18.2981\u001b[0m\n",
      "\u001b[32m2024-09-08 16:28:27.590\u001b[0m | \u001b[1mINFO    \u001b[0m | \u001b[36msrc.train_utils\u001b[0m:\u001b[36mtrain\u001b[0m:\u001b[36m127\u001b[0m - \u001b[1mStep 2600, Learning Rate: 0.024300\u001b[0m\n",
      "\u001b[32m2024-09-08 16:28:27.590\u001b[0m | \u001b[1mINFO    \u001b[0m | \u001b[36msrc.train_utils\u001b[0m:\u001b[36mtrain\u001b[0m:\u001b[36m130\u001b[0m - \u001b[1mStep 2600, Gradient Norms: {'grad_norm_user_embedding.weight': 0.8113741874694824, 'grad_norm_item_embedding.weight': 0.584526538848877, 'total_grad_norm': 0.9999996733551518}\u001b[0m\n",
      "\u001b[32m2024-09-08 16:28:29.667\u001b[0m | \u001b[1mINFO    \u001b[0m | \u001b[36msrc.train_utils\u001b[0m:\u001b[36mtrain\u001b[0m:\u001b[36m124\u001b[0m - \u001b[1mStep 2700, Global Loss: 18.1536\u001b[0m\n",
      "\u001b[32m2024-09-08 16:28:29.668\u001b[0m | \u001b[1mINFO    \u001b[0m | \u001b[36msrc.train_utils\u001b[0m:\u001b[36mtrain\u001b[0m:\u001b[36m127\u001b[0m - \u001b[1mStep 2700, Learning Rate: 0.024300\u001b[0m\n",
      "\u001b[32m2024-09-08 16:28:29.668\u001b[0m | \u001b[1mINFO    \u001b[0m | \u001b[36msrc.train_utils\u001b[0m:\u001b[36mtrain\u001b[0m:\u001b[36m130\u001b[0m - \u001b[1mStep 2700, Gradient Norms: {'grad_norm_user_embedding.weight': 0.969851553440094, 'grad_norm_item_embedding.weight': 0.24369463324546814, 'total_grad_norm': 0.9999995549913043}\u001b[0m\n",
      "\u001b[32m2024-09-08 16:28:31.633\u001b[0m | \u001b[1mINFO    \u001b[0m | \u001b[36msrc.train_utils\u001b[0m:\u001b[36mtrain\u001b[0m:\u001b[36m124\u001b[0m - \u001b[1mStep 2800, Global Loss: 18.0324\u001b[0m\n",
      "\u001b[32m2024-09-08 16:28:31.634\u001b[0m | \u001b[1mINFO    \u001b[0m | \u001b[36msrc.train_utils\u001b[0m:\u001b[36mtrain\u001b[0m:\u001b[36m127\u001b[0m - \u001b[1mStep 2800, Learning Rate: 0.024300\u001b[0m\n",
      "\u001b[32m2024-09-08 16:28:31.634\u001b[0m | \u001b[1mINFO    \u001b[0m | \u001b[36msrc.train_utils\u001b[0m:\u001b[36mtrain\u001b[0m:\u001b[36m130\u001b[0m - \u001b[1mStep 2800, Gradient Norms: {'grad_norm_user_embedding.weight': 0.9254881739616394, 'grad_norm_item_embedding.weight': 0.3787759244441986, 'total_grad_norm': 0.9999997805406794}\u001b[0m\n",
      "\u001b[32m2024-09-08 16:28:33.621\u001b[0m | \u001b[1mINFO    \u001b[0m | \u001b[36msrc.train_utils\u001b[0m:\u001b[36mtrain\u001b[0m:\u001b[36m124\u001b[0m - \u001b[1mStep 2900, Global Loss: 17.9169\u001b[0m\n",
      "\u001b[32m2024-09-08 16:28:33.622\u001b[0m | \u001b[1mINFO    \u001b[0m | \u001b[36msrc.train_utils\u001b[0m:\u001b[36mtrain\u001b[0m:\u001b[36m127\u001b[0m - \u001b[1mStep 2900, Learning Rate: 0.024300\u001b[0m\n",
      "\u001b[32m2024-09-08 16:28:33.622\u001b[0m | \u001b[1mINFO    \u001b[0m | \u001b[36msrc.train_utils\u001b[0m:\u001b[36mtrain\u001b[0m:\u001b[36m130\u001b[0m - \u001b[1mStep 2900, Gradient Norms: {'grad_norm_user_embedding.weight': 0.7883198857307434, 'grad_norm_item_embedding.weight': 0.615264892578125, 'total_grad_norm': 0.9999995651387574}\u001b[0m\n",
      "\u001b[32m2024-09-08 16:28:35.576\u001b[0m | \u001b[1mINFO    \u001b[0m | \u001b[36msrc.train_utils\u001b[0m:\u001b[36mtrain\u001b[0m:\u001b[36m124\u001b[0m - \u001b[1mStep 3000, Global Loss: 17.7991\u001b[0m\n",
      "\u001b[32m2024-09-08 16:28:35.577\u001b[0m | \u001b[1mINFO    \u001b[0m | \u001b[36msrc.train_utils\u001b[0m:\u001b[36mtrain\u001b[0m:\u001b[36m127\u001b[0m - \u001b[1mStep 3000, Learning Rate: 0.021870\u001b[0m\n",
      "\u001b[32m2024-09-08 16:28:35.577\u001b[0m | \u001b[1mINFO    \u001b[0m | \u001b[36msrc.train_utils\u001b[0m:\u001b[36mtrain\u001b[0m:\u001b[36m130\u001b[0m - \u001b[1mStep 3000, Gradient Norms: {'grad_norm_user_embedding.weight': 0.226396843791008, 'grad_norm_item_embedding.weight': 0.9740347266197205, 'total_grad_norm': 0.9999995897697577}\u001b[0m\n",
      "\u001b[32m2024-09-08 16:28:37.578\u001b[0m | \u001b[1mINFO    \u001b[0m | \u001b[36msrc.train_utils\u001b[0m:\u001b[36mtrain\u001b[0m:\u001b[36m124\u001b[0m - \u001b[1mStep 3100, Global Loss: 17.6604\u001b[0m\n",
      "\u001b[32m2024-09-08 16:28:37.578\u001b[0m | \u001b[1mINFO    \u001b[0m | \u001b[36msrc.train_utils\u001b[0m:\u001b[36mtrain\u001b[0m:\u001b[36m127\u001b[0m - \u001b[1mStep 3100, Learning Rate: 0.021870\u001b[0m\n",
      "\u001b[32m2024-09-08 16:28:37.578\u001b[0m | \u001b[1mINFO    \u001b[0m | \u001b[36msrc.train_utils\u001b[0m:\u001b[36mtrain\u001b[0m:\u001b[36m130\u001b[0m - \u001b[1mStep 3100, Gradient Norms: {'grad_norm_user_embedding.weight': 0.7727325558662415, 'grad_norm_item_embedding.weight': 0.6347309947013855, 'total_grad_norm': 0.9999995192649765}\u001b[0m\n",
      "\u001b[32m2024-09-08 16:28:39.643\u001b[0m | \u001b[1mINFO    \u001b[0m | \u001b[36msrc.train_utils\u001b[0m:\u001b[36mtrain\u001b[0m:\u001b[36m124\u001b[0m - \u001b[1mStep 3200, Global Loss: 17.5303\u001b[0m\n",
      "\u001b[32m2024-09-08 16:28:39.643\u001b[0m | \u001b[1mINFO    \u001b[0m | \u001b[36msrc.train_utils\u001b[0m:\u001b[36mtrain\u001b[0m:\u001b[36m127\u001b[0m - \u001b[1mStep 3200, Learning Rate: 0.021870\u001b[0m\n",
      "\u001b[32m2024-09-08 16:28:39.643\u001b[0m | \u001b[1mINFO    \u001b[0m | \u001b[36msrc.train_utils\u001b[0m:\u001b[36mtrain\u001b[0m:\u001b[36m130\u001b[0m - \u001b[1mStep 3200, Gradient Norms: {'grad_norm_user_embedding.weight': 0.8191093802452087, 'grad_norm_item_embedding.weight': 0.5736366510391235, 'total_grad_norm': 0.9999995921104524}\u001b[0m\n",
      "\u001b[32m2024-09-08 16:28:41.654\u001b[0m | \u001b[1mINFO    \u001b[0m | \u001b[36msrc.train_utils\u001b[0m:\u001b[36mtrain\u001b[0m:\u001b[36m124\u001b[0m - \u001b[1mStep 3300, Global Loss: 17.3791\u001b[0m\n",
      "\u001b[32m2024-09-08 16:28:41.655\u001b[0m | \u001b[1mINFO    \u001b[0m | \u001b[36msrc.train_utils\u001b[0m:\u001b[36mtrain\u001b[0m:\u001b[36m127\u001b[0m - \u001b[1mStep 3300, Learning Rate: 0.021870\u001b[0m\n",
      "\u001b[32m2024-09-08 16:28:41.655\u001b[0m | \u001b[1mINFO    \u001b[0m | \u001b[36msrc.train_utils\u001b[0m:\u001b[36mtrain\u001b[0m:\u001b[36m130\u001b[0m - \u001b[1mStep 3300, Gradient Norms: {'grad_norm_user_embedding.weight': 0.5226826071739197, 'grad_norm_item_embedding.weight': 0.8525269031524658, 'total_grad_norm': 0.9999996142203555}\u001b[0m\n",
      "\u001b[32m2024-09-08 16:28:43.641\u001b[0m | \u001b[1mINFO    \u001b[0m | \u001b[36msrc.train_utils\u001b[0m:\u001b[36mtrain\u001b[0m:\u001b[36m124\u001b[0m - \u001b[1mStep 3400, Global Loss: 17.2514\u001b[0m\n",
      "\u001b[32m2024-09-08 16:28:43.641\u001b[0m | \u001b[1mINFO    \u001b[0m | \u001b[36msrc.train_utils\u001b[0m:\u001b[36mtrain\u001b[0m:\u001b[36m127\u001b[0m - \u001b[1mStep 3400, Learning Rate: 0.021870\u001b[0m\n",
      "\u001b[32m2024-09-08 16:28:43.642\u001b[0m | \u001b[1mINFO    \u001b[0m | \u001b[36msrc.train_utils\u001b[0m:\u001b[36mtrain\u001b[0m:\u001b[36m130\u001b[0m - \u001b[1mStep 3400, Gradient Norms: {'grad_norm_user_embedding.weight': 0.7442845702171326, 'grad_norm_item_embedding.weight': 0.6678619384765625, 'total_grad_norm': 0.9999995451643833}\u001b[0m\n",
      "\u001b[32m2024-09-08 16:28:45.667\u001b[0m | \u001b[1mINFO    \u001b[0m | \u001b[36msrc.train_utils\u001b[0m:\u001b[36mtrain\u001b[0m:\u001b[36m124\u001b[0m - \u001b[1mStep 3500, Global Loss: 17.1079\u001b[0m\n",
      "\u001b[32m2024-09-08 16:28:45.667\u001b[0m | \u001b[1mINFO    \u001b[0m | \u001b[36msrc.train_utils\u001b[0m:\u001b[36mtrain\u001b[0m:\u001b[36m127\u001b[0m - \u001b[1mStep 3500, Learning Rate: 0.021870\u001b[0m\n",
      "\u001b[32m2024-09-08 16:28:45.668\u001b[0m | \u001b[1mINFO    \u001b[0m | \u001b[36msrc.train_utils\u001b[0m:\u001b[36mtrain\u001b[0m:\u001b[36m130\u001b[0m - \u001b[1mStep 3500, Gradient Norms: {'grad_norm_user_embedding.weight': 0.8856076002120972, 'grad_norm_item_embedding.weight': 0.4644331932067871, 'total_grad_norm': 0.9999995062527194}\u001b[0m\n",
      "\u001b[32m2024-09-08 16:28:47.534\u001b[0m | \u001b[1mINFO    \u001b[0m | \u001b[36msrc.train_utils\u001b[0m:\u001b[36mtrain\u001b[0m:\u001b[36m124\u001b[0m - \u001b[1mStep 3600, Global Loss: 16.9502\u001b[0m\n",
      "\u001b[32m2024-09-08 16:28:47.534\u001b[0m | \u001b[1mINFO    \u001b[0m | \u001b[36msrc.train_utils\u001b[0m:\u001b[36mtrain\u001b[0m:\u001b[36m127\u001b[0m - \u001b[1mStep 3600, Learning Rate: 0.021870\u001b[0m\n",
      "\u001b[32m2024-09-08 16:28:47.535\u001b[0m | \u001b[1mINFO    \u001b[0m | \u001b[36msrc.train_utils\u001b[0m:\u001b[36mtrain\u001b[0m:\u001b[36m130\u001b[0m - \u001b[1mStep 3600, Gradient Norms: {'grad_norm_user_embedding.weight': 0.9489402770996094, 'grad_norm_item_embedding.weight': 0.3154548406600952, 'total_grad_norm': 0.9999997029988407}\u001b[0m\n",
      "\u001b[32m2024-09-08 16:28:49.532\u001b[0m | \u001b[1mINFO    \u001b[0m | \u001b[36msrc.train_utils\u001b[0m:\u001b[36mtrain\u001b[0m:\u001b[36m124\u001b[0m - \u001b[1mStep 3700, Global Loss: 16.8334\u001b[0m\n",
      "\u001b[32m2024-09-08 16:28:49.532\u001b[0m | \u001b[1mINFO    \u001b[0m | \u001b[36msrc.train_utils\u001b[0m:\u001b[36mtrain\u001b[0m:\u001b[36m127\u001b[0m - \u001b[1mStep 3700, Learning Rate: 0.021870\u001b[0m\n",
      "\u001b[32m2024-09-08 16:28:49.533\u001b[0m | \u001b[1mINFO    \u001b[0m | \u001b[36msrc.train_utils\u001b[0m:\u001b[36mtrain\u001b[0m:\u001b[36m130\u001b[0m - \u001b[1mStep 3700, Gradient Norms: {'grad_norm_user_embedding.weight': 0.733106791973114, 'grad_norm_item_embedding.weight': 0.6801131367683411, 'total_grad_norm': 0.9999997236209532}\u001b[0m\n",
      "\u001b[32m2024-09-08 16:28:51.501\u001b[0m | \u001b[1mINFO    \u001b[0m | \u001b[36msrc.train_utils\u001b[0m:\u001b[36mtrain\u001b[0m:\u001b[36m124\u001b[0m - \u001b[1mStep 3800, Global Loss: 16.6998\u001b[0m\n",
      "\u001b[32m2024-09-08 16:28:51.502\u001b[0m | \u001b[1mINFO    \u001b[0m | \u001b[36msrc.train_utils\u001b[0m:\u001b[36mtrain\u001b[0m:\u001b[36m127\u001b[0m - \u001b[1mStep 3800, Learning Rate: 0.021870\u001b[0m\n",
      "\u001b[32m2024-09-08 16:28:51.502\u001b[0m | \u001b[1mINFO    \u001b[0m | \u001b[36msrc.train_utils\u001b[0m:\u001b[36mtrain\u001b[0m:\u001b[36m130\u001b[0m - \u001b[1mStep 3800, Gradient Norms: {'grad_norm_user_embedding.weight': 0.8208772540092468, 'grad_norm_item_embedding.weight': 0.5711039304733276, 'total_grad_norm': 0.9999995827758354}\u001b[0m\n",
      "\u001b[32m2024-09-08 16:28:53.552\u001b[0m | \u001b[1mINFO    \u001b[0m | \u001b[36msrc.train_utils\u001b[0m:\u001b[36mtrain\u001b[0m:\u001b[36m124\u001b[0m - \u001b[1mStep 3900, Global Loss: 16.5476\u001b[0m\n",
      "\u001b[32m2024-09-08 16:28:53.553\u001b[0m | \u001b[1mINFO    \u001b[0m | \u001b[36msrc.train_utils\u001b[0m:\u001b[36mtrain\u001b[0m:\u001b[36m127\u001b[0m - \u001b[1mStep 3900, Learning Rate: 0.021870\u001b[0m\n",
      "\u001b[32m2024-09-08 16:28:53.553\u001b[0m | \u001b[1mINFO    \u001b[0m | \u001b[36msrc.train_utils\u001b[0m:\u001b[36mtrain\u001b[0m:\u001b[36m130\u001b[0m - \u001b[1mStep 3900, Gradient Norms: {'grad_norm_user_embedding.weight': 0.5624525547027588, 'grad_norm_item_embedding.weight': 0.8268290758132935, 'total_grad_norm': 0.9999995984508818}\u001b[0m\n",
      "\u001b[32m2024-09-08 16:28:55.475\u001b[0m | \u001b[1mINFO    \u001b[0m | \u001b[36msrc.train_utils\u001b[0m:\u001b[36mtrain\u001b[0m:\u001b[36m124\u001b[0m - \u001b[1mStep 4000, Global Loss: 16.4219\u001b[0m\n",
      "\u001b[32m2024-09-08 16:28:55.476\u001b[0m | \u001b[1mINFO    \u001b[0m | \u001b[36msrc.train_utils\u001b[0m:\u001b[36mtrain\u001b[0m:\u001b[36m127\u001b[0m - \u001b[1mStep 4000, Learning Rate: 0.019683\u001b[0m\n",
      "\u001b[32m2024-09-08 16:28:55.476\u001b[0m | \u001b[1mINFO    \u001b[0m | \u001b[36msrc.train_utils\u001b[0m:\u001b[36mtrain\u001b[0m:\u001b[36m130\u001b[0m - \u001b[1mStep 4000, Gradient Norms: {'grad_norm_user_embedding.weight': 0.8747405409812927, 'grad_norm_item_embedding.weight': 0.48459064960479736, 'total_grad_norm': 0.9999995558602235}\u001b[0m\n",
      "\u001b[32m2024-09-08 16:28:57.491\u001b[0m | \u001b[1mINFO    \u001b[0m | \u001b[36msrc.train_utils\u001b[0m:\u001b[36mtrain\u001b[0m:\u001b[36m124\u001b[0m - \u001b[1mStep 4100, Global Loss: 16.3056\u001b[0m\n",
      "\u001b[32m2024-09-08 16:28:57.492\u001b[0m | \u001b[1mINFO    \u001b[0m | \u001b[36msrc.train_utils\u001b[0m:\u001b[36mtrain\u001b[0m:\u001b[36m127\u001b[0m - \u001b[1mStep 4100, Learning Rate: 0.019683\u001b[0m\n",
      "\u001b[32m2024-09-08 16:28:57.492\u001b[0m | \u001b[1mINFO    \u001b[0m | \u001b[36msrc.train_utils\u001b[0m:\u001b[36mtrain\u001b[0m:\u001b[36m130\u001b[0m - \u001b[1mStep 4100, Gradient Norms: {'grad_norm_user_embedding.weight': 0.6865845322608948, 'grad_norm_item_embedding.weight': 0.7270494103431702, 'total_grad_norm': 0.9999995825100444}\u001b[0m\n",
      "\u001b[32m2024-09-08 16:28:59.570\u001b[0m | \u001b[1mINFO    \u001b[0m | \u001b[36msrc.train_utils\u001b[0m:\u001b[36mtrain\u001b[0m:\u001b[36m124\u001b[0m - \u001b[1mStep 4200, Global Loss: 16.1664\u001b[0m\n",
      "\u001b[32m2024-09-08 16:28:59.570\u001b[0m | \u001b[1mINFO    \u001b[0m | \u001b[36msrc.train_utils\u001b[0m:\u001b[36mtrain\u001b[0m:\u001b[36m127\u001b[0m - \u001b[1mStep 4200, Learning Rate: 0.019683\u001b[0m\n",
      "\u001b[32m2024-09-08 16:28:59.570\u001b[0m | \u001b[1mINFO    \u001b[0m | \u001b[36msrc.train_utils\u001b[0m:\u001b[36mtrain\u001b[0m:\u001b[36m130\u001b[0m - \u001b[1mStep 4200, Gradient Norms: {'grad_norm_user_embedding.weight': 0.9484149813652039, 'grad_norm_item_embedding.weight': 0.3170294463634491, 'total_grad_norm': 0.9999993233695086}\u001b[0m\n",
      "\u001b[32m2024-09-08 16:29:01.636\u001b[0m | \u001b[1mINFO    \u001b[0m | \u001b[36msrc.train_utils\u001b[0m:\u001b[36mtrain\u001b[0m:\u001b[36m124\u001b[0m - \u001b[1mStep 4300, Global Loss: 16.0517\u001b[0m\n",
      "\u001b[32m2024-09-08 16:29:01.636\u001b[0m | \u001b[1mINFO    \u001b[0m | \u001b[36msrc.train_utils\u001b[0m:\u001b[36mtrain\u001b[0m:\u001b[36m127\u001b[0m - \u001b[1mStep 4300, Learning Rate: 0.019683\u001b[0m\n",
      "\u001b[32m2024-09-08 16:29:01.636\u001b[0m | \u001b[1mINFO    \u001b[0m | \u001b[36msrc.train_utils\u001b[0m:\u001b[36mtrain\u001b[0m:\u001b[36m130\u001b[0m - \u001b[1mStep 4300, Gradient Norms: {'grad_norm_user_embedding.weight': 0.9491726756095886, 'grad_norm_item_embedding.weight': 0.31475457549095154, 'total_grad_norm': 0.9999996054580994}\u001b[0m\n",
      "\u001b[32m2024-09-08 16:29:03.647\u001b[0m | \u001b[1mINFO    \u001b[0m | \u001b[36msrc.train_utils\u001b[0m:\u001b[36mtrain\u001b[0m:\u001b[36m124\u001b[0m - \u001b[1mStep 4400, Global Loss: 15.9322\u001b[0m\n",
      "\u001b[32m2024-09-08 16:29:03.647\u001b[0m | \u001b[1mINFO    \u001b[0m | \u001b[36msrc.train_utils\u001b[0m:\u001b[36mtrain\u001b[0m:\u001b[36m127\u001b[0m - \u001b[1mStep 4400, Learning Rate: 0.019683\u001b[0m\n",
      "\u001b[32m2024-09-08 16:29:03.647\u001b[0m | \u001b[1mINFO    \u001b[0m | \u001b[36msrc.train_utils\u001b[0m:\u001b[36mtrain\u001b[0m:\u001b[36m130\u001b[0m - \u001b[1mStep 4400, Gradient Norms: {'grad_norm_user_embedding.weight': 0.5698162317276001, 'grad_norm_item_embedding.weight': 0.8217715620994568, 'total_grad_norm': 0.9999995191076961}\u001b[0m\n",
      "\u001b[32m2024-09-08 16:29:05.645\u001b[0m | \u001b[1mINFO    \u001b[0m | \u001b[36msrc.train_utils\u001b[0m:\u001b[36mtrain\u001b[0m:\u001b[36m124\u001b[0m - \u001b[1mStep 4500, Global Loss: 15.8189\u001b[0m\n",
      "\u001b[32m2024-09-08 16:29:05.646\u001b[0m | \u001b[1mINFO    \u001b[0m | \u001b[36msrc.train_utils\u001b[0m:\u001b[36mtrain\u001b[0m:\u001b[36m127\u001b[0m - \u001b[1mStep 4500, Learning Rate: 0.019683\u001b[0m\n",
      "\u001b[32m2024-09-08 16:29:05.646\u001b[0m | \u001b[1mINFO    \u001b[0m | \u001b[36msrc.train_utils\u001b[0m:\u001b[36mtrain\u001b[0m:\u001b[36m130\u001b[0m - \u001b[1mStep 4500, Gradient Norms: {'grad_norm_user_embedding.weight': 0.7402499318122864, 'grad_norm_item_embedding.weight': 0.6723313331604004, 'total_grad_norm': 0.9999996915486205}\u001b[0m\n",
      "\u001b[32m2024-09-08 16:29:06.115\u001b[0m | \u001b[1mINFO    \u001b[0m | \u001b[36msrc.train_utils\u001b[0m:\u001b[36mtrain\u001b[0m:\u001b[36m142\u001b[0m - \u001b[1mEpoch 1, Loss: 15.7828\u001b[0m\n",
      "\u001b[32m2024-09-08 16:29:18.426\u001b[0m | \u001b[1mINFO    \u001b[0m | \u001b[36msrc.train_utils\u001b[0m:\u001b[36mtrain\u001b[0m:\u001b[36m160\u001b[0m - \u001b[1mEpoch 1, Validation Loss: 16.9608\u001b[0m\n"
     ]
    },
    {
     "data": {
      "application/vnd.jupyter.widget-view+json": {
       "model_id": "",
       "version_major": 2,
       "version_minor": 0
      },
      "text/plain": [
       "Training Epoch 2:   0%|          | 0/4524 [00:00<?, ?it/s]"
      ]
     },
     "metadata": {},
     "output_type": "display_data"
    },
    {
     "name": "stderr",
     "output_type": "stream",
     "text": [
      "\u001b[32m2024-09-08 16:29:19.973\u001b[0m | \u001b[1mINFO    \u001b[0m | \u001b[36msrc.train_utils\u001b[0m:\u001b[36mtrain\u001b[0m:\u001b[36m124\u001b[0m - \u001b[1mStep 4600, Global Loss: 6.6280\u001b[0m\n",
      "\u001b[32m2024-09-08 16:29:19.974\u001b[0m | \u001b[1mINFO    \u001b[0m | \u001b[36msrc.train_utils\u001b[0m:\u001b[36mtrain\u001b[0m:\u001b[36m127\u001b[0m - \u001b[1mStep 4600, Learning Rate: 0.019683\u001b[0m\n",
      "\u001b[32m2024-09-08 16:29:19.974\u001b[0m | \u001b[1mINFO    \u001b[0m | \u001b[36msrc.train_utils\u001b[0m:\u001b[36mtrain\u001b[0m:\u001b[36m130\u001b[0m - \u001b[1mStep 4600, Gradient Norms: {'grad_norm_user_embedding.weight': 0.7003979682922363, 'grad_norm_item_embedding.weight': 0.7137516736984253, 'total_grad_norm': 0.9999993828474075}\u001b[0m\n",
      "\u001b[32m2024-09-08 16:29:22.059\u001b[0m | \u001b[1mINFO    \u001b[0m | \u001b[36msrc.train_utils\u001b[0m:\u001b[36mtrain\u001b[0m:\u001b[36m124\u001b[0m - \u001b[1mStep 4700, Global Loss: 6.0721\u001b[0m\n",
      "\u001b[32m2024-09-08 16:29:22.059\u001b[0m | \u001b[1mINFO    \u001b[0m | \u001b[36msrc.train_utils\u001b[0m:\u001b[36mtrain\u001b[0m:\u001b[36m127\u001b[0m - \u001b[1mStep 4700, Learning Rate: 0.019683\u001b[0m\n",
      "\u001b[32m2024-09-08 16:29:22.060\u001b[0m | \u001b[1mINFO    \u001b[0m | \u001b[36msrc.train_utils\u001b[0m:\u001b[36mtrain\u001b[0m:\u001b[36m130\u001b[0m - \u001b[1mStep 4700, Gradient Norms: {'grad_norm_user_embedding.weight': 0.8735626339912415, 'grad_norm_item_embedding.weight': 0.48671087622642517, 'total_grad_norm': 0.9999995762713153}\u001b[0m\n",
      "\u001b[32m2024-09-08 16:29:24.220\u001b[0m | \u001b[1mINFO    \u001b[0m | \u001b[36msrc.train_utils\u001b[0m:\u001b[36mtrain\u001b[0m:\u001b[36m124\u001b[0m - \u001b[1mStep 4800, Global Loss: 6.0869\u001b[0m\n",
      "\u001b[32m2024-09-08 16:29:24.221\u001b[0m | \u001b[1mINFO    \u001b[0m | \u001b[36msrc.train_utils\u001b[0m:\u001b[36mtrain\u001b[0m:\u001b[36m127\u001b[0m - \u001b[1mStep 4800, Learning Rate: 0.019683\u001b[0m\n",
      "\u001b[32m2024-09-08 16:29:24.221\u001b[0m | \u001b[1mINFO    \u001b[0m | \u001b[36msrc.train_utils\u001b[0m:\u001b[36mtrain\u001b[0m:\u001b[36m130\u001b[0m - \u001b[1mStep 4800, Gradient Norms: {'grad_norm_user_embedding.weight': 0.8479399681091309, 'grad_norm_item_embedding.weight': 0.5300911068916321, 'total_grad_norm': 0.999999385561066}\u001b[0m\n",
      "\u001b[32m2024-09-08 16:29:26.395\u001b[0m | \u001b[1mINFO    \u001b[0m | \u001b[36msrc.train_utils\u001b[0m:\u001b[36mtrain\u001b[0m:\u001b[36m124\u001b[0m - \u001b[1mStep 4900, Global Loss: 6.3113\u001b[0m\n",
      "\u001b[32m2024-09-08 16:29:26.396\u001b[0m | \u001b[1mINFO    \u001b[0m | \u001b[36msrc.train_utils\u001b[0m:\u001b[36mtrain\u001b[0m:\u001b[36m127\u001b[0m - \u001b[1mStep 4900, Learning Rate: 0.019683\u001b[0m\n",
      "\u001b[32m2024-09-08 16:29:26.396\u001b[0m | \u001b[1mINFO    \u001b[0m | \u001b[36msrc.train_utils\u001b[0m:\u001b[36mtrain\u001b[0m:\u001b[36m130\u001b[0m - \u001b[1mStep 4900, Gradient Norms: {'grad_norm_user_embedding.weight': 0.5831387639045715, 'grad_norm_item_embedding.weight': 0.13884323835372925, 'total_grad_norm': 0.5994399576310392}\u001b[0m\n",
      "\u001b[32m2024-09-08 16:29:28.499\u001b[0m | \u001b[1mINFO    \u001b[0m | \u001b[36msrc.train_utils\u001b[0m:\u001b[36mtrain\u001b[0m:\u001b[36m124\u001b[0m - \u001b[1mStep 5000, Global Loss: 6.3506\u001b[0m\n",
      "\u001b[32m2024-09-08 16:29:28.500\u001b[0m | \u001b[1mINFO    \u001b[0m | \u001b[36msrc.train_utils\u001b[0m:\u001b[36mtrain\u001b[0m:\u001b[36m127\u001b[0m - \u001b[1mStep 5000, Learning Rate: 0.017715\u001b[0m\n",
      "\u001b[32m2024-09-08 16:29:28.500\u001b[0m | \u001b[1mINFO    \u001b[0m | \u001b[36msrc.train_utils\u001b[0m:\u001b[36mtrain\u001b[0m:\u001b[36m130\u001b[0m - \u001b[1mStep 5000, Gradient Norms: {'grad_norm_user_embedding.weight': 0.9040622115135193, 'grad_norm_item_embedding.weight': 0.42739972472190857, 'total_grad_norm': 0.999999503489416}\u001b[0m\n",
      "\u001b[32m2024-09-08 16:29:30.709\u001b[0m | \u001b[1mINFO    \u001b[0m | \u001b[36msrc.train_utils\u001b[0m:\u001b[36mtrain\u001b[0m:\u001b[36m124\u001b[0m - \u001b[1mStep 5100, Global Loss: 6.4050\u001b[0m\n",
      "\u001b[32m2024-09-08 16:29:30.710\u001b[0m | \u001b[1mINFO    \u001b[0m | \u001b[36msrc.train_utils\u001b[0m:\u001b[36mtrain\u001b[0m:\u001b[36m127\u001b[0m - \u001b[1mStep 5100, Learning Rate: 0.017715\u001b[0m\n",
      "\u001b[32m2024-09-08 16:29:30.710\u001b[0m | \u001b[1mINFO    \u001b[0m | \u001b[36msrc.train_utils\u001b[0m:\u001b[36mtrain\u001b[0m:\u001b[36m130\u001b[0m - \u001b[1mStep 5100, Gradient Norms: {'grad_norm_user_embedding.weight': 0.9441209435462952, 'grad_norm_item_embedding.weight': 0.32959797978401184, 'total_grad_norm': 0.9999995921601411}\u001b[0m\n",
      "\u001b[32m2024-09-08 16:29:32.815\u001b[0m | \u001b[1mINFO    \u001b[0m | \u001b[36msrc.train_utils\u001b[0m:\u001b[36mtrain\u001b[0m:\u001b[36m124\u001b[0m - \u001b[1mStep 5200, Global Loss: 6.4199\u001b[0m\n",
      "\u001b[32m2024-09-08 16:29:32.816\u001b[0m | \u001b[1mINFO    \u001b[0m | \u001b[36msrc.train_utils\u001b[0m:\u001b[36mtrain\u001b[0m:\u001b[36m127\u001b[0m - \u001b[1mStep 5200, Learning Rate: 0.017715\u001b[0m\n",
      "\u001b[32m2024-09-08 16:29:32.816\u001b[0m | \u001b[1mINFO    \u001b[0m | \u001b[36msrc.train_utils\u001b[0m:\u001b[36mtrain\u001b[0m:\u001b[36m130\u001b[0m - \u001b[1mStep 5200, Gradient Norms: {'grad_norm_user_embedding.weight': 0.86041659116745, 'grad_norm_item_embedding.weight': 0.5095902681350708, 'total_grad_norm': 0.9999994758669567}\u001b[0m\n",
      "\u001b[32m2024-09-08 16:29:34.982\u001b[0m | \u001b[1mINFO    \u001b[0m | \u001b[36msrc.train_utils\u001b[0m:\u001b[36mtrain\u001b[0m:\u001b[36m124\u001b[0m - \u001b[1mStep 5300, Global Loss: 6.4203\u001b[0m\n",
      "\u001b[32m2024-09-08 16:29:34.982\u001b[0m | \u001b[1mINFO    \u001b[0m | \u001b[36msrc.train_utils\u001b[0m:\u001b[36mtrain\u001b[0m:\u001b[36m127\u001b[0m - \u001b[1mStep 5300, Learning Rate: 0.017715\u001b[0m\n",
      "\u001b[32m2024-09-08 16:29:34.982\u001b[0m | \u001b[1mINFO    \u001b[0m | \u001b[36msrc.train_utils\u001b[0m:\u001b[36mtrain\u001b[0m:\u001b[36m130\u001b[0m - \u001b[1mStep 5300, Gradient Norms: {'grad_norm_user_embedding.weight': 0.8888217806816101, 'grad_norm_item_embedding.weight': 0.4582524001598358, 'total_grad_norm': 0.9999997100330972}\u001b[0m\n",
      "\u001b[32m2024-09-08 16:29:37.110\u001b[0m | \u001b[1mINFO    \u001b[0m | \u001b[36msrc.train_utils\u001b[0m:\u001b[36mtrain\u001b[0m:\u001b[36m124\u001b[0m - \u001b[1mStep 5400, Global Loss: 6.4130\u001b[0m\n",
      "\u001b[32m2024-09-08 16:29:37.110\u001b[0m | \u001b[1mINFO    \u001b[0m | \u001b[36msrc.train_utils\u001b[0m:\u001b[36mtrain\u001b[0m:\u001b[36m127\u001b[0m - \u001b[1mStep 5400, Learning Rate: 0.017715\u001b[0m\n",
      "\u001b[32m2024-09-08 16:29:37.110\u001b[0m | \u001b[1mINFO    \u001b[0m | \u001b[36msrc.train_utils\u001b[0m:\u001b[36mtrain\u001b[0m:\u001b[36m130\u001b[0m - \u001b[1mStep 5400, Gradient Norms: {'grad_norm_user_embedding.weight': 0.771017849445343, 'grad_norm_item_embedding.weight': 0.6368129253387451, 'total_grad_norm': 0.9999996130208311}\u001b[0m\n",
      "\u001b[32m2024-09-08 16:29:39.249\u001b[0m | \u001b[1mINFO    \u001b[0m | \u001b[36msrc.train_utils\u001b[0m:\u001b[36mtrain\u001b[0m:\u001b[36m124\u001b[0m - \u001b[1mStep 5500, Global Loss: 6.4392\u001b[0m\n",
      "\u001b[32m2024-09-08 16:29:39.250\u001b[0m | \u001b[1mINFO    \u001b[0m | \u001b[36msrc.train_utils\u001b[0m:\u001b[36mtrain\u001b[0m:\u001b[36m127\u001b[0m - \u001b[1mStep 5500, Learning Rate: 0.017715\u001b[0m\n",
      "\u001b[32m2024-09-08 16:29:39.250\u001b[0m | \u001b[1mINFO    \u001b[0m | \u001b[36msrc.train_utils\u001b[0m:\u001b[36mtrain\u001b[0m:\u001b[36m130\u001b[0m - \u001b[1mStep 5500, Gradient Norms: {'grad_norm_user_embedding.weight': 0.7343288064002991, 'grad_norm_item_embedding.weight': 0.67879319190979, 'total_grad_norm': 0.9999994966460578}\u001b[0m\n",
      "\u001b[32m2024-09-08 16:29:41.370\u001b[0m | \u001b[1mINFO    \u001b[0m | \u001b[36msrc.train_utils\u001b[0m:\u001b[36mtrain\u001b[0m:\u001b[36m124\u001b[0m - \u001b[1mStep 5600, Global Loss: 6.4961\u001b[0m\n",
      "\u001b[32m2024-09-08 16:29:41.371\u001b[0m | \u001b[1mINFO    \u001b[0m | \u001b[36msrc.train_utils\u001b[0m:\u001b[36mtrain\u001b[0m:\u001b[36m127\u001b[0m - \u001b[1mStep 5600, Learning Rate: 0.017715\u001b[0m\n",
      "\u001b[32m2024-09-08 16:29:41.371\u001b[0m | \u001b[1mINFO    \u001b[0m | \u001b[36msrc.train_utils\u001b[0m:\u001b[36mtrain\u001b[0m:\u001b[36m130\u001b[0m - \u001b[1mStep 5600, Gradient Norms: {'grad_norm_user_embedding.weight': 0.8103250861167908, 'grad_norm_item_embedding.weight': 0.5859796404838562, 'total_grad_norm': 0.9999994421257312}\u001b[0m\n",
      "\u001b[32m2024-09-08 16:29:43.506\u001b[0m | \u001b[1mINFO    \u001b[0m | \u001b[36msrc.train_utils\u001b[0m:\u001b[36mtrain\u001b[0m:\u001b[36m124\u001b[0m - \u001b[1mStep 5700, Global Loss: 6.4675\u001b[0m\n",
      "\u001b[32m2024-09-08 16:29:43.506\u001b[0m | \u001b[1mINFO    \u001b[0m | \u001b[36msrc.train_utils\u001b[0m:\u001b[36mtrain\u001b[0m:\u001b[36m127\u001b[0m - \u001b[1mStep 5700, Learning Rate: 0.017715\u001b[0m\n",
      "\u001b[32m2024-09-08 16:29:43.507\u001b[0m | \u001b[1mINFO    \u001b[0m | \u001b[36msrc.train_utils\u001b[0m:\u001b[36mtrain\u001b[0m:\u001b[36m130\u001b[0m - \u001b[1mStep 5700, Gradient Norms: {'grad_norm_user_embedding.weight': 0.5110272169113159, 'grad_norm_item_embedding.weight': 0.8595638871192932, 'total_grad_norm': 0.9999994462317238}\u001b[0m\n",
      "\u001b[32m2024-09-08 16:29:45.632\u001b[0m | \u001b[1mINFO    \u001b[0m | \u001b[36msrc.train_utils\u001b[0m:\u001b[36mtrain\u001b[0m:\u001b[36m124\u001b[0m - \u001b[1mStep 5800, Global Loss: 6.4761\u001b[0m\n",
      "\u001b[32m2024-09-08 16:29:45.632\u001b[0m | \u001b[1mINFO    \u001b[0m | \u001b[36msrc.train_utils\u001b[0m:\u001b[36mtrain\u001b[0m:\u001b[36m127\u001b[0m - \u001b[1mStep 5800, Learning Rate: 0.017715\u001b[0m\n",
      "\u001b[32m2024-09-08 16:29:45.633\u001b[0m | \u001b[1mINFO    \u001b[0m | \u001b[36msrc.train_utils\u001b[0m:\u001b[36mtrain\u001b[0m:\u001b[36m130\u001b[0m - \u001b[1mStep 5800, Gradient Norms: {'grad_norm_user_embedding.weight': 0.9678674936294556, 'grad_norm_item_embedding.weight': 0.25145918130874634, 'total_grad_norm': 0.9999996025444357}\u001b[0m\n",
      "\u001b[32m2024-09-08 16:29:47.706\u001b[0m | \u001b[1mINFO    \u001b[0m | \u001b[36msrc.train_utils\u001b[0m:\u001b[36mtrain\u001b[0m:\u001b[36m124\u001b[0m - \u001b[1mStep 5900, Global Loss: 6.4781\u001b[0m\n",
      "\u001b[32m2024-09-08 16:29:47.707\u001b[0m | \u001b[1mINFO    \u001b[0m | \u001b[36msrc.train_utils\u001b[0m:\u001b[36mtrain\u001b[0m:\u001b[36m127\u001b[0m - \u001b[1mStep 5900, Learning Rate: 0.017715\u001b[0m\n",
      "\u001b[32m2024-09-08 16:29:47.707\u001b[0m | \u001b[1mINFO    \u001b[0m | \u001b[36msrc.train_utils\u001b[0m:\u001b[36mtrain\u001b[0m:\u001b[36m130\u001b[0m - \u001b[1mStep 5900, Gradient Norms: {'grad_norm_user_embedding.weight': 0.8953063488006592, 'grad_norm_item_embedding.weight': 0.44544875621795654, 'total_grad_norm': 0.999999026308972}\u001b[0m\n",
      "\u001b[32m2024-09-08 16:29:49.806\u001b[0m | \u001b[1mINFO    \u001b[0m | \u001b[36msrc.train_utils\u001b[0m:\u001b[36mtrain\u001b[0m:\u001b[36m124\u001b[0m - \u001b[1mStep 6000, Global Loss: 6.4472\u001b[0m\n",
      "\u001b[32m2024-09-08 16:29:49.806\u001b[0m | \u001b[1mINFO    \u001b[0m | \u001b[36msrc.train_utils\u001b[0m:\u001b[36mtrain\u001b[0m:\u001b[36m127\u001b[0m - \u001b[1mStep 6000, Learning Rate: 0.015943\u001b[0m\n",
      "\u001b[32m2024-09-08 16:29:49.807\u001b[0m | \u001b[1mINFO    \u001b[0m | \u001b[36msrc.train_utils\u001b[0m:\u001b[36mtrain\u001b[0m:\u001b[36m130\u001b[0m - \u001b[1mStep 6000, Gradient Norms: {'grad_norm_user_embedding.weight': 0.9006145596504211, 'grad_norm_item_embedding.weight': 0.43461793661117554, 'total_grad_norm': 0.9999996679391837}\u001b[0m\n",
      "\u001b[32m2024-09-08 16:29:51.992\u001b[0m | \u001b[1mINFO    \u001b[0m | \u001b[36msrc.train_utils\u001b[0m:\u001b[36mtrain\u001b[0m:\u001b[36m124\u001b[0m - \u001b[1mStep 6100, Global Loss: 6.4643\u001b[0m\n",
      "\u001b[32m2024-09-08 16:29:51.992\u001b[0m | \u001b[1mINFO    \u001b[0m | \u001b[36msrc.train_utils\u001b[0m:\u001b[36mtrain\u001b[0m:\u001b[36m127\u001b[0m - \u001b[1mStep 6100, Learning Rate: 0.015943\u001b[0m\n",
      "\u001b[32m2024-09-08 16:29:51.992\u001b[0m | \u001b[1mINFO    \u001b[0m | \u001b[36msrc.train_utils\u001b[0m:\u001b[36mtrain\u001b[0m:\u001b[36m130\u001b[0m - \u001b[1mStep 6100, Gradient Norms: {'grad_norm_user_embedding.weight': 0.8177870512008667, 'grad_norm_item_embedding.weight': 0.5755200386047363, 'total_grad_norm': 0.999999487973572}\u001b[0m\n",
      "\u001b[32m2024-09-08 16:29:54.181\u001b[0m | \u001b[1mINFO    \u001b[0m | \u001b[36msrc.train_utils\u001b[0m:\u001b[36mtrain\u001b[0m:\u001b[36m124\u001b[0m - \u001b[1mStep 6200, Global Loss: 6.4535\u001b[0m\n",
      "\u001b[32m2024-09-08 16:29:54.181\u001b[0m | \u001b[1mINFO    \u001b[0m | \u001b[36msrc.train_utils\u001b[0m:\u001b[36mtrain\u001b[0m:\u001b[36m127\u001b[0m - \u001b[1mStep 6200, Learning Rate: 0.015943\u001b[0m\n",
      "\u001b[32m2024-09-08 16:29:54.181\u001b[0m | \u001b[1mINFO    \u001b[0m | \u001b[36msrc.train_utils\u001b[0m:\u001b[36mtrain\u001b[0m:\u001b[36m130\u001b[0m - \u001b[1mStep 6200, Gradient Norms: {'grad_norm_user_embedding.weight': 0.8492855429649353, 'grad_norm_item_embedding.weight': 0.5279329419136047, 'total_grad_norm': 0.9999995623233034}\u001b[0m\n",
      "\u001b[32m2024-09-08 16:29:56.253\u001b[0m | \u001b[1mINFO    \u001b[0m | \u001b[36msrc.train_utils\u001b[0m:\u001b[36mtrain\u001b[0m:\u001b[36m124\u001b[0m - \u001b[1mStep 6300, Global Loss: 6.4719\u001b[0m\n",
      "\u001b[32m2024-09-08 16:29:56.253\u001b[0m | \u001b[1mINFO    \u001b[0m | \u001b[36msrc.train_utils\u001b[0m:\u001b[36mtrain\u001b[0m:\u001b[36m127\u001b[0m - \u001b[1mStep 6300, Learning Rate: 0.015943\u001b[0m\n",
      "\u001b[32m2024-09-08 16:29:56.254\u001b[0m | \u001b[1mINFO    \u001b[0m | \u001b[36msrc.train_utils\u001b[0m:\u001b[36mtrain\u001b[0m:\u001b[36m130\u001b[0m - \u001b[1mStep 6300, Gradient Norms: {'grad_norm_user_embedding.weight': 0.6245821118354797, 'grad_norm_item_embedding.weight': 0.780958354473114, 'total_grad_norm': 0.9999993829229205}\u001b[0m\n",
      "\u001b[32m2024-09-08 16:29:58.433\u001b[0m | \u001b[1mINFO    \u001b[0m | \u001b[36msrc.train_utils\u001b[0m:\u001b[36mtrain\u001b[0m:\u001b[36m124\u001b[0m - \u001b[1mStep 6400, Global Loss: 6.4723\u001b[0m\n",
      "\u001b[32m2024-09-08 16:29:58.434\u001b[0m | \u001b[1mINFO    \u001b[0m | \u001b[36msrc.train_utils\u001b[0m:\u001b[36mtrain\u001b[0m:\u001b[36m127\u001b[0m - \u001b[1mStep 6400, Learning Rate: 0.015943\u001b[0m\n",
      "\u001b[32m2024-09-08 16:29:58.434\u001b[0m | \u001b[1mINFO    \u001b[0m | \u001b[36msrc.train_utils\u001b[0m:\u001b[36mtrain\u001b[0m:\u001b[36m130\u001b[0m - \u001b[1mStep 6400, Gradient Norms: {'grad_norm_user_embedding.weight': 0.4719718396663666, 'grad_norm_item_embedding.weight': 0.5682711601257324, 'total_grad_norm': 0.7387080132695869}\u001b[0m\n",
      "\u001b[32m2024-09-08 16:30:00.605\u001b[0m | \u001b[1mINFO    \u001b[0m | \u001b[36msrc.train_utils\u001b[0m:\u001b[36mtrain\u001b[0m:\u001b[36m124\u001b[0m - \u001b[1mStep 6500, Global Loss: 6.5216\u001b[0m\n",
      "\u001b[32m2024-09-08 16:30:00.606\u001b[0m | \u001b[1mINFO    \u001b[0m | \u001b[36msrc.train_utils\u001b[0m:\u001b[36mtrain\u001b[0m:\u001b[36m127\u001b[0m - \u001b[1mStep 6500, Learning Rate: 0.015943\u001b[0m\n",
      "\u001b[32m2024-09-08 16:30:00.606\u001b[0m | \u001b[1mINFO    \u001b[0m | \u001b[36msrc.train_utils\u001b[0m:\u001b[36mtrain\u001b[0m:\u001b[36m130\u001b[0m - \u001b[1mStep 6500, Gradient Norms: {'grad_norm_user_embedding.weight': 0.7403541207313538, 'grad_norm_item_embedding.weight': 0.6722164750099182, 'total_grad_norm': 0.9999996066792506}\u001b[0m\n",
      "\u001b[32m2024-09-08 16:30:02.752\u001b[0m | \u001b[1mINFO    \u001b[0m | \u001b[36msrc.train_utils\u001b[0m:\u001b[36mtrain\u001b[0m:\u001b[36m124\u001b[0m - \u001b[1mStep 6600, Global Loss: 6.5025\u001b[0m\n",
      "\u001b[32m2024-09-08 16:30:02.752\u001b[0m | \u001b[1mINFO    \u001b[0m | \u001b[36msrc.train_utils\u001b[0m:\u001b[36mtrain\u001b[0m:\u001b[36m127\u001b[0m - \u001b[1mStep 6600, Learning Rate: 0.015943\u001b[0m\n",
      "\u001b[32m2024-09-08 16:30:02.753\u001b[0m | \u001b[1mINFO    \u001b[0m | \u001b[36msrc.train_utils\u001b[0m:\u001b[36mtrain\u001b[0m:\u001b[36m130\u001b[0m - \u001b[1mStep 6600, Gradient Norms: {'grad_norm_user_embedding.weight': 0.9619347453117371, 'grad_norm_item_embedding.weight': 0.2732771933078766, 'total_grad_norm': 0.9999994393099363}\u001b[0m\n",
      "\u001b[32m2024-09-08 16:30:04.878\u001b[0m | \u001b[1mINFO    \u001b[0m | \u001b[36msrc.train_utils\u001b[0m:\u001b[36mtrain\u001b[0m:\u001b[36m124\u001b[0m - \u001b[1mStep 6700, Global Loss: 6.4998\u001b[0m\n",
      "\u001b[32m2024-09-08 16:30:04.878\u001b[0m | \u001b[1mINFO    \u001b[0m | \u001b[36msrc.train_utils\u001b[0m:\u001b[36mtrain\u001b[0m:\u001b[36m127\u001b[0m - \u001b[1mStep 6700, Learning Rate: 0.015943\u001b[0m\n",
      "\u001b[32m2024-09-08 16:30:04.878\u001b[0m | \u001b[1mINFO    \u001b[0m | \u001b[36msrc.train_utils\u001b[0m:\u001b[36mtrain\u001b[0m:\u001b[36m130\u001b[0m - \u001b[1mStep 6700, Gradient Norms: {'grad_norm_user_embedding.weight': 0.6203312277793884, 'grad_norm_item_embedding.weight': 0.7843388915061951, 'total_grad_norm': 0.9999991644433761}\u001b[0m\n",
      "\u001b[32m2024-09-08 16:30:07.041\u001b[0m | \u001b[1mINFO    \u001b[0m | \u001b[36msrc.train_utils\u001b[0m:\u001b[36mtrain\u001b[0m:\u001b[36m124\u001b[0m - \u001b[1mStep 6800, Global Loss: 6.4913\u001b[0m\n",
      "\u001b[32m2024-09-08 16:30:07.041\u001b[0m | \u001b[1mINFO    \u001b[0m | \u001b[36msrc.train_utils\u001b[0m:\u001b[36mtrain\u001b[0m:\u001b[36m127\u001b[0m - \u001b[1mStep 6800, Learning Rate: 0.015943\u001b[0m\n",
      "\u001b[32m2024-09-08 16:30:07.042\u001b[0m | \u001b[1mINFO    \u001b[0m | \u001b[36msrc.train_utils\u001b[0m:\u001b[36mtrain\u001b[0m:\u001b[36m130\u001b[0m - \u001b[1mStep 6800, Gradient Norms: {'grad_norm_user_embedding.weight': 0.8156640529632568, 'grad_norm_item_embedding.weight': 0.5785249471664429, 'total_grad_norm': 0.9999994808950563}\u001b[0m\n",
      "\u001b[32m2024-09-08 16:30:09.215\u001b[0m | \u001b[1mINFO    \u001b[0m | \u001b[36msrc.train_utils\u001b[0m:\u001b[36mtrain\u001b[0m:\u001b[36m124\u001b[0m - \u001b[1mStep 6900, Global Loss: 6.4782\u001b[0m\n",
      "\u001b[32m2024-09-08 16:30:09.216\u001b[0m | \u001b[1mINFO    \u001b[0m | \u001b[36msrc.train_utils\u001b[0m:\u001b[36mtrain\u001b[0m:\u001b[36m127\u001b[0m - \u001b[1mStep 6900, Learning Rate: 0.015943\u001b[0m\n",
      "\u001b[32m2024-09-08 16:30:09.216\u001b[0m | \u001b[1mINFO    \u001b[0m | \u001b[36msrc.train_utils\u001b[0m:\u001b[36mtrain\u001b[0m:\u001b[36m130\u001b[0m - \u001b[1mStep 6900, Gradient Norms: {'grad_norm_user_embedding.weight': 0.9972104430198669, 'grad_norm_item_embedding.weight': 0.07463439553976059, 'total_grad_norm': 0.9999994803325973}\u001b[0m\n",
      "\u001b[32m2024-09-08 16:30:11.304\u001b[0m | \u001b[1mINFO    \u001b[0m | \u001b[36msrc.train_utils\u001b[0m:\u001b[36mtrain\u001b[0m:\u001b[36m124\u001b[0m - \u001b[1mStep 7000, Global Loss: 6.4989\u001b[0m\n",
      "\u001b[32m2024-09-08 16:30:11.304\u001b[0m | \u001b[1mINFO    \u001b[0m | \u001b[36msrc.train_utils\u001b[0m:\u001b[36mtrain\u001b[0m:\u001b[36m127\u001b[0m - \u001b[1mStep 7000, Learning Rate: 0.014349\u001b[0m\n",
      "\u001b[32m2024-09-08 16:30:11.305\u001b[0m | \u001b[1mINFO    \u001b[0m | \u001b[36msrc.train_utils\u001b[0m:\u001b[36mtrain\u001b[0m:\u001b[36m130\u001b[0m - \u001b[1mStep 7000, Gradient Norms: {'grad_norm_user_embedding.weight': 0.6631593108177185, 'grad_norm_item_embedding.weight': 0.7484773993492126, 'total_grad_norm': 0.9999993444301811}\u001b[0m\n",
      "\u001b[32m2024-09-08 16:30:13.527\u001b[0m | \u001b[1mINFO    \u001b[0m | \u001b[36msrc.train_utils\u001b[0m:\u001b[36mtrain\u001b[0m:\u001b[36m124\u001b[0m - \u001b[1mStep 7100, Global Loss: 6.5036\u001b[0m\n",
      "\u001b[32m2024-09-08 16:30:13.527\u001b[0m | \u001b[1mINFO    \u001b[0m | \u001b[36msrc.train_utils\u001b[0m:\u001b[36mtrain\u001b[0m:\u001b[36m127\u001b[0m - \u001b[1mStep 7100, Learning Rate: 0.014349\u001b[0m\n",
      "\u001b[32m2024-09-08 16:30:13.528\u001b[0m | \u001b[1mINFO    \u001b[0m | \u001b[36msrc.train_utils\u001b[0m:\u001b[36mtrain\u001b[0m:\u001b[36m130\u001b[0m - \u001b[1mStep 7100, Gradient Norms: {'grad_norm_user_embedding.weight': 0.9026142954826355, 'grad_norm_item_embedding.weight': 0.43044909834861755, 'total_grad_norm': 0.9999994963392493}\u001b[0m\n",
      "\u001b[32m2024-09-08 16:30:15.542\u001b[0m | \u001b[1mINFO    \u001b[0m | \u001b[36msrc.train_utils\u001b[0m:\u001b[36mtrain\u001b[0m:\u001b[36m124\u001b[0m - \u001b[1mStep 7200, Global Loss: 6.5029\u001b[0m\n",
      "\u001b[32m2024-09-08 16:30:15.542\u001b[0m | \u001b[1mINFO    \u001b[0m | \u001b[36msrc.train_utils\u001b[0m:\u001b[36mtrain\u001b[0m:\u001b[36m127\u001b[0m - \u001b[1mStep 7200, Learning Rate: 0.014349\u001b[0m\n",
      "\u001b[32m2024-09-08 16:30:15.543\u001b[0m | \u001b[1mINFO    \u001b[0m | \u001b[36msrc.train_utils\u001b[0m:\u001b[36mtrain\u001b[0m:\u001b[36m130\u001b[0m - \u001b[1mStep 7200, Gradient Norms: {'grad_norm_user_embedding.weight': 0.8458263278007507, 'grad_norm_item_embedding.weight': 0.5334575176239014, 'total_grad_norm': 0.9999995499550778}\u001b[0m\n",
      "\u001b[32m2024-09-08 16:30:17.606\u001b[0m | \u001b[1mINFO    \u001b[0m | \u001b[36msrc.train_utils\u001b[0m:\u001b[36mtrain\u001b[0m:\u001b[36m124\u001b[0m - \u001b[1mStep 7300, Global Loss: 6.5024\u001b[0m\n",
      "\u001b[32m2024-09-08 16:30:17.606\u001b[0m | \u001b[1mINFO    \u001b[0m | \u001b[36msrc.train_utils\u001b[0m:\u001b[36mtrain\u001b[0m:\u001b[36m127\u001b[0m - \u001b[1mStep 7300, Learning Rate: 0.014349\u001b[0m\n",
      "\u001b[32m2024-09-08 16:30:17.607\u001b[0m | \u001b[1mINFO    \u001b[0m | \u001b[36msrc.train_utils\u001b[0m:\u001b[36mtrain\u001b[0m:\u001b[36m130\u001b[0m - \u001b[1mStep 7300, Gradient Norms: {'grad_norm_user_embedding.weight': 0.9076120853424072, 'grad_norm_item_embedding.weight': 0.41980844736099243, 'total_grad_norm': 0.999999414967449}\u001b[0m\n",
      "\u001b[32m2024-09-08 16:30:19.702\u001b[0m | \u001b[1mINFO    \u001b[0m | \u001b[36msrc.train_utils\u001b[0m:\u001b[36mtrain\u001b[0m:\u001b[36m124\u001b[0m - \u001b[1mStep 7400, Global Loss: 6.5097\u001b[0m\n",
      "\u001b[32m2024-09-08 16:30:19.703\u001b[0m | \u001b[1mINFO    \u001b[0m | \u001b[36msrc.train_utils\u001b[0m:\u001b[36mtrain\u001b[0m:\u001b[36m127\u001b[0m - \u001b[1mStep 7400, Learning Rate: 0.014349\u001b[0m\n",
      "\u001b[32m2024-09-08 16:30:19.703\u001b[0m | \u001b[1mINFO    \u001b[0m | \u001b[36msrc.train_utils\u001b[0m:\u001b[36mtrain\u001b[0m:\u001b[36m130\u001b[0m - \u001b[1mStep 7400, Gradient Norms: {'grad_norm_user_embedding.weight': 0.8568668365478516, 'grad_norm_item_embedding.weight': 0.5155371427536011, 'total_grad_norm': 0.9999996605669771}\u001b[0m\n",
      "\u001b[32m2024-09-08 16:30:21.804\u001b[0m | \u001b[1mINFO    \u001b[0m | \u001b[36msrc.train_utils\u001b[0m:\u001b[36mtrain\u001b[0m:\u001b[36m124\u001b[0m - \u001b[1mStep 7500, Global Loss: 6.5497\u001b[0m\n",
      "\u001b[32m2024-09-08 16:30:21.805\u001b[0m | \u001b[1mINFO    \u001b[0m | \u001b[36msrc.train_utils\u001b[0m:\u001b[36mtrain\u001b[0m:\u001b[36m127\u001b[0m - \u001b[1mStep 7500, Learning Rate: 0.014349\u001b[0m\n",
      "\u001b[32m2024-09-08 16:30:21.805\u001b[0m | \u001b[1mINFO    \u001b[0m | \u001b[36msrc.train_utils\u001b[0m:\u001b[36mtrain\u001b[0m:\u001b[36m130\u001b[0m - \u001b[1mStep 7500, Gradient Norms: {'grad_norm_user_embedding.weight': 0.9763343334197998, 'grad_norm_item_embedding.weight': 0.21626406908035278, 'total_grad_norm': 0.9999994390945809}\u001b[0m\n",
      "\u001b[32m2024-09-08 16:30:23.871\u001b[0m | \u001b[1mINFO    \u001b[0m | \u001b[36msrc.train_utils\u001b[0m:\u001b[36mtrain\u001b[0m:\u001b[36m124\u001b[0m - \u001b[1mStep 7600, Global Loss: 6.5527\u001b[0m\n",
      "\u001b[32m2024-09-08 16:30:23.871\u001b[0m | \u001b[1mINFO    \u001b[0m | \u001b[36msrc.train_utils\u001b[0m:\u001b[36mtrain\u001b[0m:\u001b[36m127\u001b[0m - \u001b[1mStep 7600, Learning Rate: 0.014349\u001b[0m\n",
      "\u001b[32m2024-09-08 16:30:23.872\u001b[0m | \u001b[1mINFO    \u001b[0m | \u001b[36msrc.train_utils\u001b[0m:\u001b[36mtrain\u001b[0m:\u001b[36m130\u001b[0m - \u001b[1mStep 7600, Gradient Norms: {'grad_norm_user_embedding.weight': 0.891052782535553, 'grad_norm_item_embedding.weight': 0.45389801263809204, 'total_grad_norm': 0.9999992335702869}\u001b[0m\n",
      "\u001b[32m2024-09-08 16:30:25.929\u001b[0m | \u001b[1mINFO    \u001b[0m | \u001b[36msrc.train_utils\u001b[0m:\u001b[36mtrain\u001b[0m:\u001b[36m124\u001b[0m - \u001b[1mStep 7700, Global Loss: 6.5524\u001b[0m\n",
      "\u001b[32m2024-09-08 16:30:25.930\u001b[0m | \u001b[1mINFO    \u001b[0m | \u001b[36msrc.train_utils\u001b[0m:\u001b[36mtrain\u001b[0m:\u001b[36m127\u001b[0m - \u001b[1mStep 7700, Learning Rate: 0.014349\u001b[0m\n",
      "\u001b[32m2024-09-08 16:30:25.930\u001b[0m | \u001b[1mINFO    \u001b[0m | \u001b[36msrc.train_utils\u001b[0m:\u001b[36mtrain\u001b[0m:\u001b[36m130\u001b[0m - \u001b[1mStep 7700, Gradient Norms: {'grad_norm_user_embedding.weight': 0.6307148337364197, 'grad_norm_item_embedding.weight': 0.7760140895843506, 'total_grad_norm': 0.9999995343641856}\u001b[0m\n",
      "\u001b[32m2024-09-08 16:30:28.056\u001b[0m | \u001b[1mINFO    \u001b[0m | \u001b[36msrc.train_utils\u001b[0m:\u001b[36mtrain\u001b[0m:\u001b[36m124\u001b[0m - \u001b[1mStep 7800, Global Loss: 6.5597\u001b[0m\n",
      "\u001b[32m2024-09-08 16:30:28.057\u001b[0m | \u001b[1mINFO    \u001b[0m | \u001b[36msrc.train_utils\u001b[0m:\u001b[36mtrain\u001b[0m:\u001b[36m127\u001b[0m - \u001b[1mStep 7800, Learning Rate: 0.014349\u001b[0m\n",
      "\u001b[32m2024-09-08 16:30:28.057\u001b[0m | \u001b[1mINFO    \u001b[0m | \u001b[36msrc.train_utils\u001b[0m:\u001b[36mtrain\u001b[0m:\u001b[36m130\u001b[0m - \u001b[1mStep 7800, Gradient Norms: {'grad_norm_user_embedding.weight': 0.913790225982666, 'grad_norm_item_embedding.weight': 0.4061847925186157, 'total_grad_norm': 0.9999993313871979}\u001b[0m\n",
      "\u001b[32m2024-09-08 16:30:30.208\u001b[0m | \u001b[1mINFO    \u001b[0m | \u001b[36msrc.train_utils\u001b[0m:\u001b[36mtrain\u001b[0m:\u001b[36m124\u001b[0m - \u001b[1mStep 7900, Global Loss: 6.5767\u001b[0m\n",
      "\u001b[32m2024-09-08 16:30:30.208\u001b[0m | \u001b[1mINFO    \u001b[0m | \u001b[36msrc.train_utils\u001b[0m:\u001b[36mtrain\u001b[0m:\u001b[36m127\u001b[0m - \u001b[1mStep 7900, Learning Rate: 0.014349\u001b[0m\n",
      "\u001b[32m2024-09-08 16:30:30.208\u001b[0m | \u001b[1mINFO    \u001b[0m | \u001b[36msrc.train_utils\u001b[0m:\u001b[36mtrain\u001b[0m:\u001b[36m130\u001b[0m - \u001b[1mStep 7900, Gradient Norms: {'grad_norm_user_embedding.weight': 0.8272259831428528, 'grad_norm_item_embedding.weight': 0.5618683695793152, 'total_grad_norm': 0.9999994459600352}\u001b[0m\n",
      "\u001b[32m2024-09-08 16:30:32.371\u001b[0m | \u001b[1mINFO    \u001b[0m | \u001b[36msrc.train_utils\u001b[0m:\u001b[36mtrain\u001b[0m:\u001b[36m124\u001b[0m - \u001b[1mStep 8000, Global Loss: 6.5780\u001b[0m\n",
      "\u001b[32m2024-09-08 16:30:32.371\u001b[0m | \u001b[1mINFO    \u001b[0m | \u001b[36msrc.train_utils\u001b[0m:\u001b[36mtrain\u001b[0m:\u001b[36m127\u001b[0m - \u001b[1mStep 8000, Learning Rate: 0.012914\u001b[0m\n",
      "\u001b[32m2024-09-08 16:30:32.371\u001b[0m | \u001b[1mINFO    \u001b[0m | \u001b[36msrc.train_utils\u001b[0m:\u001b[36mtrain\u001b[0m:\u001b[36m130\u001b[0m - \u001b[1mStep 8000, Gradient Norms: {'grad_norm_user_embedding.weight': 0.9147000312805176, 'grad_norm_item_embedding.weight': 0.40413179993629456, 'total_grad_norm': 0.9999993294719397}\u001b[0m\n",
      "\u001b[32m2024-09-08 16:30:34.440\u001b[0m | \u001b[1mINFO    \u001b[0m | \u001b[36msrc.train_utils\u001b[0m:\u001b[36mtrain\u001b[0m:\u001b[36m124\u001b[0m - \u001b[1mStep 8100, Global Loss: 6.5764\u001b[0m\n",
      "\u001b[32m2024-09-08 16:30:34.440\u001b[0m | \u001b[1mINFO    \u001b[0m | \u001b[36msrc.train_utils\u001b[0m:\u001b[36mtrain\u001b[0m:\u001b[36m127\u001b[0m - \u001b[1mStep 8100, Learning Rate: 0.012914\u001b[0m\n",
      "\u001b[32m2024-09-08 16:30:34.440\u001b[0m | \u001b[1mINFO    \u001b[0m | \u001b[36msrc.train_utils\u001b[0m:\u001b[36mtrain\u001b[0m:\u001b[36m130\u001b[0m - \u001b[1mStep 8100, Gradient Norms: {'grad_norm_user_embedding.weight': 0.9067508578300476, 'grad_norm_item_embedding.weight': 0.42166587710380554, 'total_grad_norm': 0.9999996150445504}\u001b[0m\n",
      "\u001b[32m2024-09-08 16:30:36.606\u001b[0m | \u001b[1mINFO    \u001b[0m | \u001b[36msrc.train_utils\u001b[0m:\u001b[36mtrain\u001b[0m:\u001b[36m124\u001b[0m - \u001b[1mStep 8200, Global Loss: 6.5719\u001b[0m\n",
      "\u001b[32m2024-09-08 16:30:36.607\u001b[0m | \u001b[1mINFO    \u001b[0m | \u001b[36msrc.train_utils\u001b[0m:\u001b[36mtrain\u001b[0m:\u001b[36m127\u001b[0m - \u001b[1mStep 8200, Learning Rate: 0.012914\u001b[0m\n",
      "\u001b[32m2024-09-08 16:30:36.607\u001b[0m | \u001b[1mINFO    \u001b[0m | \u001b[36msrc.train_utils\u001b[0m:\u001b[36mtrain\u001b[0m:\u001b[36m130\u001b[0m - \u001b[1mStep 8200, Gradient Norms: {'grad_norm_user_embedding.weight': 0.5497609972953796, 'grad_norm_item_embedding.weight': 0.8353209495544434, 'total_grad_norm': 0.9999991214554877}\u001b[0m\n",
      "\u001b[32m2024-09-08 16:30:38.720\u001b[0m | \u001b[1mINFO    \u001b[0m | \u001b[36msrc.train_utils\u001b[0m:\u001b[36mtrain\u001b[0m:\u001b[36m124\u001b[0m - \u001b[1mStep 8300, Global Loss: 6.5590\u001b[0m\n",
      "\u001b[32m2024-09-08 16:30:38.720\u001b[0m | \u001b[1mINFO    \u001b[0m | \u001b[36msrc.train_utils\u001b[0m:\u001b[36mtrain\u001b[0m:\u001b[36m127\u001b[0m - \u001b[1mStep 8300, Learning Rate: 0.012914\u001b[0m\n",
      "\u001b[32m2024-09-08 16:30:38.721\u001b[0m | \u001b[1mINFO    \u001b[0m | \u001b[36msrc.train_utils\u001b[0m:\u001b[36mtrain\u001b[0m:\u001b[36m130\u001b[0m - \u001b[1mStep 8300, Gradient Norms: {'grad_norm_user_embedding.weight': 0.4530583918094635, 'grad_norm_item_embedding.weight': 0.8914801478385925, 'total_grad_norm': 0.999999380189456}\u001b[0m\n",
      "\u001b[32m2024-09-08 16:30:40.911\u001b[0m | \u001b[1mINFO    \u001b[0m | \u001b[36msrc.train_utils\u001b[0m:\u001b[36mtrain\u001b[0m:\u001b[36m124\u001b[0m - \u001b[1mStep 8400, Global Loss: 6.5571\u001b[0m\n",
      "\u001b[32m2024-09-08 16:30:40.911\u001b[0m | \u001b[1mINFO    \u001b[0m | \u001b[36msrc.train_utils\u001b[0m:\u001b[36mtrain\u001b[0m:\u001b[36m127\u001b[0m - \u001b[1mStep 8400, Learning Rate: 0.012914\u001b[0m\n",
      "\u001b[32m2024-09-08 16:30:40.912\u001b[0m | \u001b[1mINFO    \u001b[0m | \u001b[36msrc.train_utils\u001b[0m:\u001b[36mtrain\u001b[0m:\u001b[36m130\u001b[0m - \u001b[1mStep 8400, Gradient Norms: {'grad_norm_user_embedding.weight': 0.4244443476200104, 'grad_norm_item_embedding.weight': 0.9054533839225769, 'total_grad_norm': 0.9999994173415411}\u001b[0m\n",
      "\u001b[32m2024-09-08 16:30:43.058\u001b[0m | \u001b[1mINFO    \u001b[0m | \u001b[36msrc.train_utils\u001b[0m:\u001b[36mtrain\u001b[0m:\u001b[36m124\u001b[0m - \u001b[1mStep 8500, Global Loss: 6.5607\u001b[0m\n",
      "\u001b[32m2024-09-08 16:30:43.059\u001b[0m | \u001b[1mINFO    \u001b[0m | \u001b[36msrc.train_utils\u001b[0m:\u001b[36mtrain\u001b[0m:\u001b[36m127\u001b[0m - \u001b[1mStep 8500, Learning Rate: 0.012914\u001b[0m\n",
      "\u001b[32m2024-09-08 16:30:43.059\u001b[0m | \u001b[1mINFO    \u001b[0m | \u001b[36msrc.train_utils\u001b[0m:\u001b[36mtrain\u001b[0m:\u001b[36m130\u001b[0m - \u001b[1mStep 8500, Gradient Norms: {'grad_norm_user_embedding.weight': 0.7079461216926575, 'grad_norm_item_embedding.weight': 0.7062657475471497, 'total_grad_norm': 0.9999995086888839}\u001b[0m\n",
      "\u001b[32m2024-09-08 16:30:45.117\u001b[0m | \u001b[1mINFO    \u001b[0m | \u001b[36msrc.train_utils\u001b[0m:\u001b[36mtrain\u001b[0m:\u001b[36m124\u001b[0m - \u001b[1mStep 8600, Global Loss: 6.5651\u001b[0m\n",
      "\u001b[32m2024-09-08 16:30:45.117\u001b[0m | \u001b[1mINFO    \u001b[0m | \u001b[36msrc.train_utils\u001b[0m:\u001b[36mtrain\u001b[0m:\u001b[36m127\u001b[0m - \u001b[1mStep 8600, Learning Rate: 0.012914\u001b[0m\n",
      "\u001b[32m2024-09-08 16:30:45.117\u001b[0m | \u001b[1mINFO    \u001b[0m | \u001b[36msrc.train_utils\u001b[0m:\u001b[36mtrain\u001b[0m:\u001b[36m130\u001b[0m - \u001b[1mStep 8600, Gradient Norms: {'grad_norm_user_embedding.weight': 0.46973052620887756, 'grad_norm_item_embedding.weight': 0.8828088641166687, 'total_grad_norm': 0.9999991289073366}\u001b[0m\n",
      "\u001b[32m2024-09-08 16:30:47.228\u001b[0m | \u001b[1mINFO    \u001b[0m | \u001b[36msrc.train_utils\u001b[0m:\u001b[36mtrain\u001b[0m:\u001b[36m124\u001b[0m - \u001b[1mStep 8700, Global Loss: 6.5658\u001b[0m\n",
      "\u001b[32m2024-09-08 16:30:47.228\u001b[0m | \u001b[1mINFO    \u001b[0m | \u001b[36msrc.train_utils\u001b[0m:\u001b[36mtrain\u001b[0m:\u001b[36m127\u001b[0m - \u001b[1mStep 8700, Learning Rate: 0.012914\u001b[0m\n",
      "\u001b[32m2024-09-08 16:30:47.229\u001b[0m | \u001b[1mINFO    \u001b[0m | \u001b[36msrc.train_utils\u001b[0m:\u001b[36mtrain\u001b[0m:\u001b[36m130\u001b[0m - \u001b[1mStep 8700, Gradient Norms: {'grad_norm_user_embedding.weight': 0.8597012758255005, 'grad_norm_item_embedding.weight': 0.5107963681221008, 'total_grad_norm': 0.9999996066712836}\u001b[0m\n",
      "\u001b[32m2024-09-08 16:30:49.426\u001b[0m | \u001b[1mINFO    \u001b[0m | \u001b[36msrc.train_utils\u001b[0m:\u001b[36mtrain\u001b[0m:\u001b[36m124\u001b[0m - \u001b[1mStep 8800, Global Loss: 6.5652\u001b[0m\n",
      "\u001b[32m2024-09-08 16:30:49.426\u001b[0m | \u001b[1mINFO    \u001b[0m | \u001b[36msrc.train_utils\u001b[0m:\u001b[36mtrain\u001b[0m:\u001b[36m127\u001b[0m - \u001b[1mStep 8800, Learning Rate: 0.012914\u001b[0m\n",
      "\u001b[32m2024-09-08 16:30:49.426\u001b[0m | \u001b[1mINFO    \u001b[0m | \u001b[36msrc.train_utils\u001b[0m:\u001b[36mtrain\u001b[0m:\u001b[36m130\u001b[0m - \u001b[1mStep 8800, Gradient Norms: {'grad_norm_user_embedding.weight': 0.9166503548622131, 'grad_norm_item_embedding.weight': 0.39968860149383545, 'total_grad_norm': 0.9999994256163947}\u001b[0m\n",
      "\u001b[32m2024-09-08 16:30:51.538\u001b[0m | \u001b[1mINFO    \u001b[0m | \u001b[36msrc.train_utils\u001b[0m:\u001b[36mtrain\u001b[0m:\u001b[36m124\u001b[0m - \u001b[1mStep 8900, Global Loss: 6.5744\u001b[0m\n",
      "\u001b[32m2024-09-08 16:30:51.538\u001b[0m | \u001b[1mINFO    \u001b[0m | \u001b[36msrc.train_utils\u001b[0m:\u001b[36mtrain\u001b[0m:\u001b[36m127\u001b[0m - \u001b[1mStep 8900, Learning Rate: 0.012914\u001b[0m\n",
      "\u001b[32m2024-09-08 16:30:51.539\u001b[0m | \u001b[1mINFO    \u001b[0m | \u001b[36msrc.train_utils\u001b[0m:\u001b[36mtrain\u001b[0m:\u001b[36m130\u001b[0m - \u001b[1mStep 8900, Gradient Norms: {'grad_norm_user_embedding.weight': 0.7923138737678528, 'grad_norm_item_embedding.weight': 0.6101122498512268, 'total_grad_norm': 0.9999991159913827}\u001b[0m\n",
      "\u001b[32m2024-09-08 16:30:53.698\u001b[0m | \u001b[1mINFO    \u001b[0m | \u001b[36msrc.train_utils\u001b[0m:\u001b[36mtrain\u001b[0m:\u001b[36m124\u001b[0m - \u001b[1mStep 9000, Global Loss: 6.5689\u001b[0m\n",
      "\u001b[32m2024-09-08 16:30:53.699\u001b[0m | \u001b[1mINFO    \u001b[0m | \u001b[36msrc.train_utils\u001b[0m:\u001b[36mtrain\u001b[0m:\u001b[36m127\u001b[0m - \u001b[1mStep 9000, Learning Rate: 0.011623\u001b[0m\n",
      "\u001b[32m2024-09-08 16:30:53.699\u001b[0m | \u001b[1mINFO    \u001b[0m | \u001b[36msrc.train_utils\u001b[0m:\u001b[36mtrain\u001b[0m:\u001b[36m130\u001b[0m - \u001b[1mStep 9000, Gradient Norms: {'grad_norm_user_embedding.weight': 0.9082573652267456, 'grad_norm_item_embedding.weight': 0.41841086745262146, 'total_grad_norm': 0.9999995477454403}\u001b[0m\n",
      "\u001b[32m2024-09-08 16:30:54.726\u001b[0m | \u001b[1mINFO    \u001b[0m | \u001b[36msrc.train_utils\u001b[0m:\u001b[36mtrain\u001b[0m:\u001b[36m142\u001b[0m - \u001b[1mEpoch 2, Loss: 6.5718\u001b[0m\n",
      "\u001b[32m2024-09-08 16:31:02.151\u001b[0m | \u001b[1mINFO    \u001b[0m | \u001b[36msrc.train_utils\u001b[0m:\u001b[36mtrain\u001b[0m:\u001b[36m160\u001b[0m - \u001b[1mEpoch 2, Validation Loss: 13.6451\u001b[0m\n"
     ]
    },
    {
     "data": {
      "application/vnd.jupyter.widget-view+json": {
       "model_id": "",
       "version_major": 2,
       "version_minor": 0
      },
      "text/plain": [
       "Training Epoch 3:   0%|          | 0/4524 [00:00<?, ?it/s]"
      ]
     },
     "metadata": {},
     "output_type": "display_data"
    },
    {
     "name": "stderr",
     "output_type": "stream",
     "text": [
      "\u001b[32m2024-09-08 16:31:03.284\u001b[0m | \u001b[1mINFO    \u001b[0m | \u001b[36msrc.train_utils\u001b[0m:\u001b[36mtrain\u001b[0m:\u001b[36m124\u001b[0m - \u001b[1mStep 9100, Global Loss: 2.8983\u001b[0m\n",
      "\u001b[32m2024-09-08 16:31:03.284\u001b[0m | \u001b[1mINFO    \u001b[0m | \u001b[36msrc.train_utils\u001b[0m:\u001b[36mtrain\u001b[0m:\u001b[36m127\u001b[0m - \u001b[1mStep 9100, Learning Rate: 0.011623\u001b[0m\n",
      "\u001b[32m2024-09-08 16:31:03.284\u001b[0m | \u001b[1mINFO    \u001b[0m | \u001b[36msrc.train_utils\u001b[0m:\u001b[36mtrain\u001b[0m:\u001b[36m130\u001b[0m - \u001b[1mStep 9100, Gradient Norms: {'grad_norm_user_embedding.weight': 0.8506601452827454, 'grad_norm_item_embedding.weight': 0.5257142186164856, 'total_grad_norm': 0.9999990612135611}\u001b[0m\n",
      "\u001b[32m2024-09-08 16:31:05.383\u001b[0m | \u001b[1mINFO    \u001b[0m | \u001b[36msrc.train_utils\u001b[0m:\u001b[36mtrain\u001b[0m:\u001b[36m124\u001b[0m - \u001b[1mStep 9200, Global Loss: 3.3231\u001b[0m\n",
      "\u001b[32m2024-09-08 16:31:05.384\u001b[0m | \u001b[1mINFO    \u001b[0m | \u001b[36msrc.train_utils\u001b[0m:\u001b[36mtrain\u001b[0m:\u001b[36m127\u001b[0m - \u001b[1mStep 9200, Learning Rate: 0.011623\u001b[0m\n",
      "\u001b[32m2024-09-08 16:31:05.384\u001b[0m | \u001b[1mINFO    \u001b[0m | \u001b[36msrc.train_utils\u001b[0m:\u001b[36mtrain\u001b[0m:\u001b[36m130\u001b[0m - \u001b[1mStep 9200, Gradient Norms: {'grad_norm_user_embedding.weight': 0.7824446558952332, 'grad_norm_item_embedding.weight': 0.572475254535675, 'total_grad_norm': 0.9695089254848022}\u001b[0m\n",
      "\u001b[32m2024-09-08 16:31:07.554\u001b[0m | \u001b[1mINFO    \u001b[0m | \u001b[36msrc.train_utils\u001b[0m:\u001b[36mtrain\u001b[0m:\u001b[36m124\u001b[0m - \u001b[1mStep 9300, Global Loss: 3.4198\u001b[0m\n",
      "\u001b[32m2024-09-08 16:31:07.554\u001b[0m | \u001b[1mINFO    \u001b[0m | \u001b[36msrc.train_utils\u001b[0m:\u001b[36mtrain\u001b[0m:\u001b[36m127\u001b[0m - \u001b[1mStep 9300, Learning Rate: 0.011623\u001b[0m\n",
      "\u001b[32m2024-09-08 16:31:07.555\u001b[0m | \u001b[1mINFO    \u001b[0m | \u001b[36msrc.train_utils\u001b[0m:\u001b[36mtrain\u001b[0m:\u001b[36m130\u001b[0m - \u001b[1mStep 9300, Gradient Norms: {'grad_norm_user_embedding.weight': 0.8283146023750305, 'grad_norm_item_embedding.weight': 0.5204753875732422, 'total_grad_norm': 0.9782636196737675}\u001b[0m\n",
      "\u001b[32m2024-09-08 16:31:09.711\u001b[0m | \u001b[1mINFO    \u001b[0m | \u001b[36msrc.train_utils\u001b[0m:\u001b[36mtrain\u001b[0m:\u001b[36m124\u001b[0m - \u001b[1mStep 9400, Global Loss: 3.4636\u001b[0m\n",
      "\u001b[32m2024-09-08 16:31:09.712\u001b[0m | \u001b[1mINFO    \u001b[0m | \u001b[36msrc.train_utils\u001b[0m:\u001b[36mtrain\u001b[0m:\u001b[36m127\u001b[0m - \u001b[1mStep 9400, Learning Rate: 0.011623\u001b[0m\n",
      "\u001b[32m2024-09-08 16:31:09.712\u001b[0m | \u001b[1mINFO    \u001b[0m | \u001b[36msrc.train_utils\u001b[0m:\u001b[36mtrain\u001b[0m:\u001b[36m130\u001b[0m - \u001b[1mStep 9400, Gradient Norms: {'grad_norm_user_embedding.weight': 0.7876299619674683, 'grad_norm_item_embedding.weight': 0.6161472201347351, 'total_grad_norm': 0.9999991769339799}\u001b[0m\n",
      "\u001b[32m2024-09-08 16:31:11.809\u001b[0m | \u001b[1mINFO    \u001b[0m | \u001b[36msrc.train_utils\u001b[0m:\u001b[36mtrain\u001b[0m:\u001b[36m124\u001b[0m - \u001b[1mStep 9500, Global Loss: 3.4576\u001b[0m\n",
      "\u001b[32m2024-09-08 16:31:11.810\u001b[0m | \u001b[1mINFO    \u001b[0m | \u001b[36msrc.train_utils\u001b[0m:\u001b[36mtrain\u001b[0m:\u001b[36m127\u001b[0m - \u001b[1mStep 9500, Learning Rate: 0.011623\u001b[0m\n",
      "\u001b[32m2024-09-08 16:31:11.810\u001b[0m | \u001b[1mINFO    \u001b[0m | \u001b[36msrc.train_utils\u001b[0m:\u001b[36mtrain\u001b[0m:\u001b[36m130\u001b[0m - \u001b[1mStep 9500, Gradient Norms: {'grad_norm_user_embedding.weight': 0.754868745803833, 'grad_norm_item_embedding.weight': 0.5341242551803589, 'total_grad_norm': 0.9247245770300608}\u001b[0m\n",
      "\u001b[32m2024-09-08 16:31:13.830\u001b[0m | \u001b[1mINFO    \u001b[0m | \u001b[36msrc.train_utils\u001b[0m:\u001b[36mtrain\u001b[0m:\u001b[36m124\u001b[0m - \u001b[1mStep 9600, Global Loss: 3.4948\u001b[0m\n",
      "\u001b[32m2024-09-08 16:31:13.830\u001b[0m | \u001b[1mINFO    \u001b[0m | \u001b[36msrc.train_utils\u001b[0m:\u001b[36mtrain\u001b[0m:\u001b[36m127\u001b[0m - \u001b[1mStep 9600, Learning Rate: 0.011623\u001b[0m\n",
      "\u001b[32m2024-09-08 16:31:13.831\u001b[0m | \u001b[1mINFO    \u001b[0m | \u001b[36msrc.train_utils\u001b[0m:\u001b[36mtrain\u001b[0m:\u001b[36m130\u001b[0m - \u001b[1mStep 9600, Gradient Norms: {'grad_norm_user_embedding.weight': 0.8085206747055054, 'grad_norm_item_embedding.weight': 0.39159277081489563, 'total_grad_norm': 0.898359938766602}\u001b[0m\n",
      "\u001b[32m2024-09-08 16:31:15.910\u001b[0m | \u001b[1mINFO    \u001b[0m | \u001b[36msrc.train_utils\u001b[0m:\u001b[36mtrain\u001b[0m:\u001b[36m124\u001b[0m - \u001b[1mStep 9700, Global Loss: 3.4999\u001b[0m\n",
      "\u001b[32m2024-09-08 16:31:15.910\u001b[0m | \u001b[1mINFO    \u001b[0m | \u001b[36msrc.train_utils\u001b[0m:\u001b[36mtrain\u001b[0m:\u001b[36m127\u001b[0m - \u001b[1mStep 9700, Learning Rate: 0.011623\u001b[0m\n",
      "\u001b[32m2024-09-08 16:31:15.911\u001b[0m | \u001b[1mINFO    \u001b[0m | \u001b[36msrc.train_utils\u001b[0m:\u001b[36mtrain\u001b[0m:\u001b[36m130\u001b[0m - \u001b[1mStep 9700, Gradient Norms: {'grad_norm_user_embedding.weight': 0.75569748878479, 'grad_norm_item_embedding.weight': 0.44565460085868835, 'total_grad_norm': 0.877317911490558}\u001b[0m\n",
      "\u001b[32m2024-09-08 16:31:18.056\u001b[0m | \u001b[1mINFO    \u001b[0m | \u001b[36msrc.train_utils\u001b[0m:\u001b[36mtrain\u001b[0m:\u001b[36m124\u001b[0m - \u001b[1mStep 9800, Global Loss: 3.5185\u001b[0m\n",
      "\u001b[32m2024-09-08 16:31:18.056\u001b[0m | \u001b[1mINFO    \u001b[0m | \u001b[36msrc.train_utils\u001b[0m:\u001b[36mtrain\u001b[0m:\u001b[36m127\u001b[0m - \u001b[1mStep 9800, Learning Rate: 0.011623\u001b[0m\n",
      "\u001b[32m2024-09-08 16:31:18.057\u001b[0m | \u001b[1mINFO    \u001b[0m | \u001b[36msrc.train_utils\u001b[0m:\u001b[36mtrain\u001b[0m:\u001b[36m130\u001b[0m - \u001b[1mStep 9800, Gradient Norms: {'grad_norm_user_embedding.weight': 0.8942585587501526, 'grad_norm_item_embedding.weight': 0.4475495517253876, 'total_grad_norm': 0.9999994855736154}\u001b[0m\n",
      "\u001b[32m2024-09-08 16:31:20.107\u001b[0m | \u001b[1mINFO    \u001b[0m | \u001b[36msrc.train_utils\u001b[0m:\u001b[36mtrain\u001b[0m:\u001b[36m124\u001b[0m - \u001b[1mStep 9900, Global Loss: 3.5050\u001b[0m\n",
      "\u001b[32m2024-09-08 16:31:20.107\u001b[0m | \u001b[1mINFO    \u001b[0m | \u001b[36msrc.train_utils\u001b[0m:\u001b[36mtrain\u001b[0m:\u001b[36m127\u001b[0m - \u001b[1mStep 9900, Learning Rate: 0.011623\u001b[0m\n",
      "\u001b[32m2024-09-08 16:31:20.108\u001b[0m | \u001b[1mINFO    \u001b[0m | \u001b[36msrc.train_utils\u001b[0m:\u001b[36mtrain\u001b[0m:\u001b[36m130\u001b[0m - \u001b[1mStep 9900, Gradient Norms: {'grad_norm_user_embedding.weight': 0.5442838072776794, 'grad_norm_item_embedding.weight': 0.42578059434890747, 'total_grad_norm': 0.6910383327926136}\u001b[0m\n",
      "\u001b[32m2024-09-08 16:31:22.238\u001b[0m | \u001b[1mINFO    \u001b[0m | \u001b[36msrc.train_utils\u001b[0m:\u001b[36mtrain\u001b[0m:\u001b[36m124\u001b[0m - \u001b[1mStep 10000, Global Loss: 3.4908\u001b[0m\n",
      "\u001b[32m2024-09-08 16:31:22.239\u001b[0m | \u001b[1mINFO    \u001b[0m | \u001b[36msrc.train_utils\u001b[0m:\u001b[36mtrain\u001b[0m:\u001b[36m127\u001b[0m - \u001b[1mStep 10000, Learning Rate: 0.010460\u001b[0m\n",
      "\u001b[32m2024-09-08 16:31:22.239\u001b[0m | \u001b[1mINFO    \u001b[0m | \u001b[36msrc.train_utils\u001b[0m:\u001b[36mtrain\u001b[0m:\u001b[36m130\u001b[0m - \u001b[1mStep 10000, Gradient Norms: {'grad_norm_user_embedding.weight': 0.9509258270263672, 'grad_norm_item_embedding.weight': 0.309416800737381, 'total_grad_norm': 0.9999993425419521}\u001b[0m\n",
      "\u001b[32m2024-09-08 16:31:24.355\u001b[0m | \u001b[1mINFO    \u001b[0m | \u001b[36msrc.train_utils\u001b[0m:\u001b[36mtrain\u001b[0m:\u001b[36m124\u001b[0m - \u001b[1mStep 10100, Global Loss: 3.5177\u001b[0m\n",
      "\u001b[32m2024-09-08 16:31:24.356\u001b[0m | \u001b[1mINFO    \u001b[0m | \u001b[36msrc.train_utils\u001b[0m:\u001b[36mtrain\u001b[0m:\u001b[36m127\u001b[0m - \u001b[1mStep 10100, Learning Rate: 0.010460\u001b[0m\n",
      "\u001b[32m2024-09-08 16:31:24.356\u001b[0m | \u001b[1mINFO    \u001b[0m | \u001b[36msrc.train_utils\u001b[0m:\u001b[36mtrain\u001b[0m:\u001b[36m130\u001b[0m - \u001b[1mStep 10100, Gradient Norms: {'grad_norm_user_embedding.weight': 0.825594961643219, 'grad_norm_item_embedding.weight': 0.5642620325088501, 'total_grad_norm': 0.9999993410106263}\u001b[0m\n",
      "\u001b[32m2024-09-08 16:31:26.413\u001b[0m | \u001b[1mINFO    \u001b[0m | \u001b[36msrc.train_utils\u001b[0m:\u001b[36mtrain\u001b[0m:\u001b[36m124\u001b[0m - \u001b[1mStep 10200, Global Loss: 3.5154\u001b[0m\n",
      "\u001b[32m2024-09-08 16:31:26.413\u001b[0m | \u001b[1mINFO    \u001b[0m | \u001b[36msrc.train_utils\u001b[0m:\u001b[36mtrain\u001b[0m:\u001b[36m127\u001b[0m - \u001b[1mStep 10200, Learning Rate: 0.010460\u001b[0m\n",
      "\u001b[32m2024-09-08 16:31:26.414\u001b[0m | \u001b[1mINFO    \u001b[0m | \u001b[36msrc.train_utils\u001b[0m:\u001b[36mtrain\u001b[0m:\u001b[36m130\u001b[0m - \u001b[1mStep 10200, Gradient Norms: {'grad_norm_user_embedding.weight': 0.7401996850967407, 'grad_norm_item_embedding.weight': 0.6723858714103699, 'total_grad_norm': 0.9999991669444513}\u001b[0m\n",
      "\u001b[32m2024-09-08 16:31:28.504\u001b[0m | \u001b[1mINFO    \u001b[0m | \u001b[36msrc.train_utils\u001b[0m:\u001b[36mtrain\u001b[0m:\u001b[36m124\u001b[0m - \u001b[1mStep 10300, Global Loss: 3.5556\u001b[0m\n",
      "\u001b[32m2024-09-08 16:31:28.504\u001b[0m | \u001b[1mINFO    \u001b[0m | \u001b[36msrc.train_utils\u001b[0m:\u001b[36mtrain\u001b[0m:\u001b[36m127\u001b[0m - \u001b[1mStep 10300, Learning Rate: 0.010460\u001b[0m\n",
      "\u001b[32m2024-09-08 16:31:28.505\u001b[0m | \u001b[1mINFO    \u001b[0m | \u001b[36msrc.train_utils\u001b[0m:\u001b[36mtrain\u001b[0m:\u001b[36m130\u001b[0m - \u001b[1mStep 10300, Gradient Norms: {'grad_norm_user_embedding.weight': 0.6822741031646729, 'grad_norm_item_embedding.weight': 0.7310951352119446, 'total_grad_norm': 0.9999990242893891}\u001b[0m\n",
      "\u001b[32m2024-09-08 16:31:30.528\u001b[0m | \u001b[1mINFO    \u001b[0m | \u001b[36msrc.train_utils\u001b[0m:\u001b[36mtrain\u001b[0m:\u001b[36m124\u001b[0m - \u001b[1mStep 10400, Global Loss: 3.5586\u001b[0m\n",
      "\u001b[32m2024-09-08 16:31:30.528\u001b[0m | \u001b[1mINFO    \u001b[0m | \u001b[36msrc.train_utils\u001b[0m:\u001b[36mtrain\u001b[0m:\u001b[36m127\u001b[0m - \u001b[1mStep 10400, Learning Rate: 0.010460\u001b[0m\n",
      "\u001b[32m2024-09-08 16:31:30.528\u001b[0m | \u001b[1mINFO    \u001b[0m | \u001b[36msrc.train_utils\u001b[0m:\u001b[36mtrain\u001b[0m:\u001b[36m130\u001b[0m - \u001b[1mStep 10400, Gradient Norms: {'grad_norm_user_embedding.weight': 0.876612663269043, 'grad_norm_item_embedding.weight': 0.4811956286430359, 'total_grad_norm': 0.9999994972142792}\u001b[0m\n",
      "\u001b[32m2024-09-08 16:31:32.549\u001b[0m | \u001b[1mINFO    \u001b[0m | \u001b[36msrc.train_utils\u001b[0m:\u001b[36mtrain\u001b[0m:\u001b[36m124\u001b[0m - \u001b[1mStep 10500, Global Loss: 3.5720\u001b[0m\n",
      "\u001b[32m2024-09-08 16:31:32.550\u001b[0m | \u001b[1mINFO    \u001b[0m | \u001b[36msrc.train_utils\u001b[0m:\u001b[36mtrain\u001b[0m:\u001b[36m127\u001b[0m - \u001b[1mStep 10500, Learning Rate: 0.010460\u001b[0m\n",
      "\u001b[32m2024-09-08 16:31:32.550\u001b[0m | \u001b[1mINFO    \u001b[0m | \u001b[36msrc.train_utils\u001b[0m:\u001b[36mtrain\u001b[0m:\u001b[36m130\u001b[0m - \u001b[1mStep 10500, Gradient Norms: {'grad_norm_user_embedding.weight': 0.8703711628913879, 'grad_norm_item_embedding.weight': 0.49239465594291687, 'total_grad_norm': 0.9999992291967281}\u001b[0m\n",
      "\u001b[32m2024-09-08 16:31:34.642\u001b[0m | \u001b[1mINFO    \u001b[0m | \u001b[36msrc.train_utils\u001b[0m:\u001b[36mtrain\u001b[0m:\u001b[36m124\u001b[0m - \u001b[1mStep 10600, Global Loss: 3.5974\u001b[0m\n",
      "\u001b[32m2024-09-08 16:31:34.642\u001b[0m | \u001b[1mINFO    \u001b[0m | \u001b[36msrc.train_utils\u001b[0m:\u001b[36mtrain\u001b[0m:\u001b[36m127\u001b[0m - \u001b[1mStep 10600, Learning Rate: 0.010460\u001b[0m\n",
      "\u001b[32m2024-09-08 16:31:34.642\u001b[0m | \u001b[1mINFO    \u001b[0m | \u001b[36msrc.train_utils\u001b[0m:\u001b[36mtrain\u001b[0m:\u001b[36m130\u001b[0m - \u001b[1mStep 10600, Gradient Norms: {'grad_norm_user_embedding.weight': 0.7138301730155945, 'grad_norm_item_embedding.weight': 0.6943405866622925, 'total_grad_norm': 0.9958224571649357}\u001b[0m\n",
      "\u001b[32m2024-09-08 16:31:36.673\u001b[0m | \u001b[1mINFO    \u001b[0m | \u001b[36msrc.train_utils\u001b[0m:\u001b[36mtrain\u001b[0m:\u001b[36m124\u001b[0m - \u001b[1mStep 10700, Global Loss: 3.6160\u001b[0m\n",
      "\u001b[32m2024-09-08 16:31:36.674\u001b[0m | \u001b[1mINFO    \u001b[0m | \u001b[36msrc.train_utils\u001b[0m:\u001b[36mtrain\u001b[0m:\u001b[36m127\u001b[0m - \u001b[1mStep 10700, Learning Rate: 0.010460\u001b[0m\n",
      "\u001b[32m2024-09-08 16:31:36.674\u001b[0m | \u001b[1mINFO    \u001b[0m | \u001b[36msrc.train_utils\u001b[0m:\u001b[36mtrain\u001b[0m:\u001b[36m130\u001b[0m - \u001b[1mStep 10700, Gradient Norms: {'grad_norm_user_embedding.weight': 0.4239307641983032, 'grad_norm_item_embedding.weight': 0.2915842831134796, 'total_grad_norm': 0.5145276348191214}\u001b[0m\n",
      "\u001b[32m2024-09-08 16:31:38.728\u001b[0m | \u001b[1mINFO    \u001b[0m | \u001b[36msrc.train_utils\u001b[0m:\u001b[36mtrain\u001b[0m:\u001b[36m124\u001b[0m - \u001b[1mStep 10800, Global Loss: 3.6805\u001b[0m\n",
      "\u001b[32m2024-09-08 16:31:38.728\u001b[0m | \u001b[1mINFO    \u001b[0m | \u001b[36msrc.train_utils\u001b[0m:\u001b[36mtrain\u001b[0m:\u001b[36m127\u001b[0m - \u001b[1mStep 10800, Learning Rate: 0.010460\u001b[0m\n",
      "\u001b[32m2024-09-08 16:31:38.729\u001b[0m | \u001b[1mINFO    \u001b[0m | \u001b[36msrc.train_utils\u001b[0m:\u001b[36mtrain\u001b[0m:\u001b[36m130\u001b[0m - \u001b[1mStep 10800, Gradient Norms: {'grad_norm_user_embedding.weight': 0.7731059193611145, 'grad_norm_item_embedding.weight': 0.6342755556106567, 'total_grad_norm': 0.9999991214978148}\u001b[0m\n",
      "\u001b[32m2024-09-08 16:31:40.736\u001b[0m | \u001b[1mINFO    \u001b[0m | \u001b[36msrc.train_utils\u001b[0m:\u001b[36mtrain\u001b[0m:\u001b[36m124\u001b[0m - \u001b[1mStep 10900, Global Loss: 3.6882\u001b[0m\n",
      "\u001b[32m2024-09-08 16:31:40.736\u001b[0m | \u001b[1mINFO    \u001b[0m | \u001b[36msrc.train_utils\u001b[0m:\u001b[36mtrain\u001b[0m:\u001b[36m127\u001b[0m - \u001b[1mStep 10900, Learning Rate: 0.010460\u001b[0m\n",
      "\u001b[32m2024-09-08 16:31:40.736\u001b[0m | \u001b[1mINFO    \u001b[0m | \u001b[36msrc.train_utils\u001b[0m:\u001b[36mtrain\u001b[0m:\u001b[36m130\u001b[0m - \u001b[1mStep 10900, Gradient Norms: {'grad_norm_user_embedding.weight': 0.803665041923523, 'grad_norm_item_embedding.weight': 0.37583059072494507, 'total_grad_norm': 0.8872012920045818}\u001b[0m\n",
      "\u001b[32m2024-09-08 16:31:42.695\u001b[0m | \u001b[1mINFO    \u001b[0m | \u001b[36msrc.train_utils\u001b[0m:\u001b[36mtrain\u001b[0m:\u001b[36m124\u001b[0m - \u001b[1mStep 11000, Global Loss: 3.7037\u001b[0m\n",
      "\u001b[32m2024-09-08 16:31:42.696\u001b[0m | \u001b[1mINFO    \u001b[0m | \u001b[36msrc.train_utils\u001b[0m:\u001b[36mtrain\u001b[0m:\u001b[36m127\u001b[0m - \u001b[1mStep 11000, Learning Rate: 0.009414\u001b[0m\n",
      "\u001b[32m2024-09-08 16:31:42.696\u001b[0m | \u001b[1mINFO    \u001b[0m | \u001b[36msrc.train_utils\u001b[0m:\u001b[36mtrain\u001b[0m:\u001b[36m130\u001b[0m - \u001b[1mStep 11000, Gradient Norms: {'grad_norm_user_embedding.weight': 0.9597447514533997, 'grad_norm_item_embedding.weight': 0.280871719121933, 'total_grad_norm': 0.9999994552722806}\u001b[0m\n",
      "\u001b[32m2024-09-08 16:31:44.814\u001b[0m | \u001b[1mINFO    \u001b[0m | \u001b[36msrc.train_utils\u001b[0m:\u001b[36mtrain\u001b[0m:\u001b[36m124\u001b[0m - \u001b[1mStep 11100, Global Loss: 3.7351\u001b[0m\n",
      "\u001b[32m2024-09-08 16:31:44.814\u001b[0m | \u001b[1mINFO    \u001b[0m | \u001b[36msrc.train_utils\u001b[0m:\u001b[36mtrain\u001b[0m:\u001b[36m127\u001b[0m - \u001b[1mStep 11100, Learning Rate: 0.009414\u001b[0m\n",
      "\u001b[32m2024-09-08 16:31:44.814\u001b[0m | \u001b[1mINFO    \u001b[0m | \u001b[36msrc.train_utils\u001b[0m:\u001b[36mtrain\u001b[0m:\u001b[36m130\u001b[0m - \u001b[1mStep 11100, Gradient Norms: {'grad_norm_user_embedding.weight': 0.6578037142753601, 'grad_norm_item_embedding.weight': 0.7531886696815491, 'total_grad_norm': 0.999999449325409}\u001b[0m\n",
      "\u001b[32m2024-09-08 16:31:46.850\u001b[0m | \u001b[1mINFO    \u001b[0m | \u001b[36msrc.train_utils\u001b[0m:\u001b[36mtrain\u001b[0m:\u001b[36m124\u001b[0m - \u001b[1mStep 11200, Global Loss: 3.7622\u001b[0m\n",
      "\u001b[32m2024-09-08 16:31:46.851\u001b[0m | \u001b[1mINFO    \u001b[0m | \u001b[36msrc.train_utils\u001b[0m:\u001b[36mtrain\u001b[0m:\u001b[36m127\u001b[0m - \u001b[1mStep 11200, Learning Rate: 0.009414\u001b[0m\n",
      "\u001b[32m2024-09-08 16:31:46.851\u001b[0m | \u001b[1mINFO    \u001b[0m | \u001b[36msrc.train_utils\u001b[0m:\u001b[36mtrain\u001b[0m:\u001b[36m130\u001b[0m - \u001b[1mStep 11200, Gradient Norms: {'grad_norm_user_embedding.weight': 0.888947606086731, 'grad_norm_item_embedding.weight': 0.4580076038837433, 'total_grad_norm': 0.9999994057911523}\u001b[0m\n",
      "\u001b[32m2024-09-08 16:31:48.894\u001b[0m | \u001b[1mINFO    \u001b[0m | \u001b[36msrc.train_utils\u001b[0m:\u001b[36mtrain\u001b[0m:\u001b[36m124\u001b[0m - \u001b[1mStep 11300, Global Loss: 3.7764\u001b[0m\n",
      "\u001b[32m2024-09-08 16:31:48.895\u001b[0m | \u001b[1mINFO    \u001b[0m | \u001b[36msrc.train_utils\u001b[0m:\u001b[36mtrain\u001b[0m:\u001b[36m127\u001b[0m - \u001b[1mStep 11300, Learning Rate: 0.009414\u001b[0m\n",
      "\u001b[32m2024-09-08 16:31:48.895\u001b[0m | \u001b[1mINFO    \u001b[0m | \u001b[36msrc.train_utils\u001b[0m:\u001b[36mtrain\u001b[0m:\u001b[36m130\u001b[0m - \u001b[1mStep 11300, Gradient Norms: {'grad_norm_user_embedding.weight': 0.8217433094978333, 'grad_norm_item_embedding.weight': 0.5698568820953369, 'total_grad_norm': 0.9999994663877929}\u001b[0m\n",
      "\u001b[32m2024-09-08 16:31:51.144\u001b[0m | \u001b[1mINFO    \u001b[0m | \u001b[36msrc.train_utils\u001b[0m:\u001b[36mtrain\u001b[0m:\u001b[36m124\u001b[0m - \u001b[1mStep 11400, Global Loss: 3.8278\u001b[0m\n",
      "\u001b[32m2024-09-08 16:31:51.145\u001b[0m | \u001b[1mINFO    \u001b[0m | \u001b[36msrc.train_utils\u001b[0m:\u001b[36mtrain\u001b[0m:\u001b[36m127\u001b[0m - \u001b[1mStep 11400, Learning Rate: 0.009414\u001b[0m\n",
      "\u001b[32m2024-09-08 16:31:51.145\u001b[0m | \u001b[1mINFO    \u001b[0m | \u001b[36msrc.train_utils\u001b[0m:\u001b[36mtrain\u001b[0m:\u001b[36m130\u001b[0m - \u001b[1mStep 11400, Gradient Norms: {'grad_norm_user_embedding.weight': 0.9495874047279358, 'grad_norm_item_embedding.weight': 0.3135009706020355, 'total_grad_norm': 0.9999995488930757}\u001b[0m\n",
      "\u001b[32m2024-09-08 16:31:53.374\u001b[0m | \u001b[1mINFO    \u001b[0m | \u001b[36msrc.train_utils\u001b[0m:\u001b[36mtrain\u001b[0m:\u001b[36m124\u001b[0m - \u001b[1mStep 11500, Global Loss: 3.8472\u001b[0m\n",
      "\u001b[32m2024-09-08 16:31:53.374\u001b[0m | \u001b[1mINFO    \u001b[0m | \u001b[36msrc.train_utils\u001b[0m:\u001b[36mtrain\u001b[0m:\u001b[36m127\u001b[0m - \u001b[1mStep 11500, Learning Rate: 0.009414\u001b[0m\n",
      "\u001b[32m2024-09-08 16:31:53.374\u001b[0m | \u001b[1mINFO    \u001b[0m | \u001b[36msrc.train_utils\u001b[0m:\u001b[36mtrain\u001b[0m:\u001b[36m130\u001b[0m - \u001b[1mStep 11500, Gradient Norms: {'grad_norm_user_embedding.weight': 0.61588454246521, 'grad_norm_item_embedding.weight': 0.7878352403640747, 'total_grad_norm': 0.9999990678031156}\u001b[0m\n",
      "\u001b[32m2024-09-08 16:31:55.570\u001b[0m | \u001b[1mINFO    \u001b[0m | \u001b[36msrc.train_utils\u001b[0m:\u001b[36mtrain\u001b[0m:\u001b[36m124\u001b[0m - \u001b[1mStep 11600, Global Loss: 3.8593\u001b[0m\n",
      "\u001b[32m2024-09-08 16:31:55.571\u001b[0m | \u001b[1mINFO    \u001b[0m | \u001b[36msrc.train_utils\u001b[0m:\u001b[36mtrain\u001b[0m:\u001b[36m127\u001b[0m - \u001b[1mStep 11600, Learning Rate: 0.009414\u001b[0m\n",
      "\u001b[32m2024-09-08 16:31:55.571\u001b[0m | \u001b[1mINFO    \u001b[0m | \u001b[36msrc.train_utils\u001b[0m:\u001b[36mtrain\u001b[0m:\u001b[36m130\u001b[0m - \u001b[1mStep 11600, Gradient Norms: {'grad_norm_user_embedding.weight': 0.7416451573371887, 'grad_norm_item_embedding.weight': 0.6707912087440491, 'total_grad_norm': 0.999999192564677}\u001b[0m\n",
      "\u001b[32m2024-09-08 16:31:57.752\u001b[0m | \u001b[1mINFO    \u001b[0m | \u001b[36msrc.train_utils\u001b[0m:\u001b[36mtrain\u001b[0m:\u001b[36m124\u001b[0m - \u001b[1mStep 11700, Global Loss: 3.8700\u001b[0m\n",
      "\u001b[32m2024-09-08 16:31:57.752\u001b[0m | \u001b[1mINFO    \u001b[0m | \u001b[36msrc.train_utils\u001b[0m:\u001b[36mtrain\u001b[0m:\u001b[36m127\u001b[0m - \u001b[1mStep 11700, Learning Rate: 0.009414\u001b[0m\n",
      "\u001b[32m2024-09-08 16:31:57.753\u001b[0m | \u001b[1mINFO    \u001b[0m | \u001b[36msrc.train_utils\u001b[0m:\u001b[36mtrain\u001b[0m:\u001b[36m130\u001b[0m - \u001b[1mStep 11700, Gradient Norms: {'grad_norm_user_embedding.weight': 0.8249604105949402, 'grad_norm_item_embedding.weight': 0.5651891231536865, 'total_grad_norm': 0.9999992119897921}\u001b[0m\n",
      "\u001b[32m2024-09-08 16:32:00.015\u001b[0m | \u001b[1mINFO    \u001b[0m | \u001b[36msrc.train_utils\u001b[0m:\u001b[36mtrain\u001b[0m:\u001b[36m124\u001b[0m - \u001b[1mStep 11800, Global Loss: 3.8866\u001b[0m\n",
      "\u001b[32m2024-09-08 16:32:00.016\u001b[0m | \u001b[1mINFO    \u001b[0m | \u001b[36msrc.train_utils\u001b[0m:\u001b[36mtrain\u001b[0m:\u001b[36m127\u001b[0m - \u001b[1mStep 11800, Learning Rate: 0.009414\u001b[0m\n",
      "\u001b[32m2024-09-08 16:32:00.016\u001b[0m | \u001b[1mINFO    \u001b[0m | \u001b[36msrc.train_utils\u001b[0m:\u001b[36mtrain\u001b[0m:\u001b[36m130\u001b[0m - \u001b[1mStep 11800, Gradient Norms: {'grad_norm_user_embedding.weight': 0.9038743376731873, 'grad_norm_item_embedding.weight': 0.4277969300746918, 'total_grad_norm': 0.9999995158426196}\u001b[0m\n",
      "\u001b[32m2024-09-08 16:32:02.064\u001b[0m | \u001b[1mINFO    \u001b[0m | \u001b[36msrc.train_utils\u001b[0m:\u001b[36mtrain\u001b[0m:\u001b[36m124\u001b[0m - \u001b[1mStep 11900, Global Loss: 3.9067\u001b[0m\n",
      "\u001b[32m2024-09-08 16:32:02.065\u001b[0m | \u001b[1mINFO    \u001b[0m | \u001b[36msrc.train_utils\u001b[0m:\u001b[36mtrain\u001b[0m:\u001b[36m127\u001b[0m - \u001b[1mStep 11900, Learning Rate: 0.009414\u001b[0m\n",
      "\u001b[32m2024-09-08 16:32:02.065\u001b[0m | \u001b[1mINFO    \u001b[0m | \u001b[36msrc.train_utils\u001b[0m:\u001b[36mtrain\u001b[0m:\u001b[36m130\u001b[0m - \u001b[1mStep 11900, Gradient Norms: {'grad_norm_user_embedding.weight': 0.7737792730331421, 'grad_norm_item_embedding.weight': 0.6334542036056519, 'total_grad_norm': 0.9999992957204362}\u001b[0m\n",
      "\u001b[32m2024-09-08 16:32:04.155\u001b[0m | \u001b[1mINFO    \u001b[0m | \u001b[36msrc.train_utils\u001b[0m:\u001b[36mtrain\u001b[0m:\u001b[36m124\u001b[0m - \u001b[1mStep 12000, Global Loss: 3.9258\u001b[0m\n",
      "\u001b[32m2024-09-08 16:32:04.156\u001b[0m | \u001b[1mINFO    \u001b[0m | \u001b[36msrc.train_utils\u001b[0m:\u001b[36mtrain\u001b[0m:\u001b[36m127\u001b[0m - \u001b[1mStep 12000, Learning Rate: 0.008473\u001b[0m\n",
      "\u001b[32m2024-09-08 16:32:04.156\u001b[0m | \u001b[1mINFO    \u001b[0m | \u001b[36msrc.train_utils\u001b[0m:\u001b[36mtrain\u001b[0m:\u001b[36m130\u001b[0m - \u001b[1mStep 12000, Gradient Norms: {'grad_norm_user_embedding.weight': 0.8669174909591675, 'grad_norm_item_embedding.weight': 0.4984504282474518, 'total_grad_norm': 0.9999993827753126}\u001b[0m\n",
      "\u001b[32m2024-09-08 16:32:06.233\u001b[0m | \u001b[1mINFO    \u001b[0m | \u001b[36msrc.train_utils\u001b[0m:\u001b[36mtrain\u001b[0m:\u001b[36m124\u001b[0m - \u001b[1mStep 12100, Global Loss: 3.9504\u001b[0m\n",
      "\u001b[32m2024-09-08 16:32:06.233\u001b[0m | \u001b[1mINFO    \u001b[0m | \u001b[36msrc.train_utils\u001b[0m:\u001b[36mtrain\u001b[0m:\u001b[36m127\u001b[0m - \u001b[1mStep 12100, Learning Rate: 0.008473\u001b[0m\n",
      "\u001b[32m2024-09-08 16:32:06.234\u001b[0m | \u001b[1mINFO    \u001b[0m | \u001b[36msrc.train_utils\u001b[0m:\u001b[36mtrain\u001b[0m:\u001b[36m130\u001b[0m - \u001b[1mStep 12100, Gradient Norms: {'grad_norm_user_embedding.weight': 0.9057847857475281, 'grad_norm_item_embedding.weight': 0.42373618483543396, 'total_grad_norm': 0.999999216214985}\u001b[0m\n",
      "\u001b[32m2024-09-08 16:32:08.312\u001b[0m | \u001b[1mINFO    \u001b[0m | \u001b[36msrc.train_utils\u001b[0m:\u001b[36mtrain\u001b[0m:\u001b[36m124\u001b[0m - \u001b[1mStep 12200, Global Loss: 3.9789\u001b[0m\n",
      "\u001b[32m2024-09-08 16:32:08.312\u001b[0m | \u001b[1mINFO    \u001b[0m | \u001b[36msrc.train_utils\u001b[0m:\u001b[36mtrain\u001b[0m:\u001b[36m127\u001b[0m - \u001b[1mStep 12200, Learning Rate: 0.008473\u001b[0m\n",
      "\u001b[32m2024-09-08 16:32:08.313\u001b[0m | \u001b[1mINFO    \u001b[0m | \u001b[36msrc.train_utils\u001b[0m:\u001b[36mtrain\u001b[0m:\u001b[36m130\u001b[0m - \u001b[1mStep 12200, Gradient Norms: {'grad_norm_user_embedding.weight': 0.8466591238975525, 'grad_norm_item_embedding.weight': 0.5321338176727295, 'total_grad_norm': 0.9999990359944978}\u001b[0m\n",
      "\u001b[32m2024-09-08 16:32:10.310\u001b[0m | \u001b[1mINFO    \u001b[0m | \u001b[36msrc.train_utils\u001b[0m:\u001b[36mtrain\u001b[0m:\u001b[36m124\u001b[0m - \u001b[1mStep 12300, Global Loss: 3.9988\u001b[0m\n",
      "\u001b[32m2024-09-08 16:32:10.311\u001b[0m | \u001b[1mINFO    \u001b[0m | \u001b[36msrc.train_utils\u001b[0m:\u001b[36mtrain\u001b[0m:\u001b[36m127\u001b[0m - \u001b[1mStep 12300, Learning Rate: 0.008473\u001b[0m\n",
      "\u001b[32m2024-09-08 16:32:10.311\u001b[0m | \u001b[1mINFO    \u001b[0m | \u001b[36msrc.train_utils\u001b[0m:\u001b[36mtrain\u001b[0m:\u001b[36m130\u001b[0m - \u001b[1mStep 12300, Gradient Norms: {'grad_norm_user_embedding.weight': 0.6486353278160095, 'grad_norm_item_embedding.weight': 0.7610987424850464, 'total_grad_norm': 0.9999995421515457}\u001b[0m\n",
      "\u001b[32m2024-09-08 16:32:12.390\u001b[0m | \u001b[1mINFO    \u001b[0m | \u001b[36msrc.train_utils\u001b[0m:\u001b[36mtrain\u001b[0m:\u001b[36m124\u001b[0m - \u001b[1mStep 12400, Global Loss: 4.0161\u001b[0m\n",
      "\u001b[32m2024-09-08 16:32:12.390\u001b[0m | \u001b[1mINFO    \u001b[0m | \u001b[36msrc.train_utils\u001b[0m:\u001b[36mtrain\u001b[0m:\u001b[36m127\u001b[0m - \u001b[1mStep 12400, Learning Rate: 0.008473\u001b[0m\n",
      "\u001b[32m2024-09-08 16:32:12.391\u001b[0m | \u001b[1mINFO    \u001b[0m | \u001b[36msrc.train_utils\u001b[0m:\u001b[36mtrain\u001b[0m:\u001b[36m130\u001b[0m - \u001b[1mStep 12400, Gradient Norms: {'grad_norm_user_embedding.weight': 0.8630147576332092, 'grad_norm_item_embedding.weight': 0.5051773190498352, 'total_grad_norm': 0.9999992977872963}\u001b[0m\n",
      "\u001b[32m2024-09-08 16:32:14.521\u001b[0m | \u001b[1mINFO    \u001b[0m | \u001b[36msrc.train_utils\u001b[0m:\u001b[36mtrain\u001b[0m:\u001b[36m124\u001b[0m - \u001b[1mStep 12500, Global Loss: 4.0236\u001b[0m\n",
      "\u001b[32m2024-09-08 16:32:14.521\u001b[0m | \u001b[1mINFO    \u001b[0m | \u001b[36msrc.train_utils\u001b[0m:\u001b[36mtrain\u001b[0m:\u001b[36m127\u001b[0m - \u001b[1mStep 12500, Learning Rate: 0.008473\u001b[0m\n",
      "\u001b[32m2024-09-08 16:32:14.522\u001b[0m | \u001b[1mINFO    \u001b[0m | \u001b[36msrc.train_utils\u001b[0m:\u001b[36mtrain\u001b[0m:\u001b[36m130\u001b[0m - \u001b[1mStep 12500, Gradient Norms: {'grad_norm_user_embedding.weight': 0.840661883354187, 'grad_norm_item_embedding.weight': 0.5415587425231934, 'total_grad_norm': 0.9999991368635831}\u001b[0m\n",
      "\u001b[32m2024-09-08 16:32:16.580\u001b[0m | \u001b[1mINFO    \u001b[0m | \u001b[36msrc.train_utils\u001b[0m:\u001b[36mtrain\u001b[0m:\u001b[36m124\u001b[0m - \u001b[1mStep 12600, Global Loss: 4.0278\u001b[0m\n",
      "\u001b[32m2024-09-08 16:32:16.580\u001b[0m | \u001b[1mINFO    \u001b[0m | \u001b[36msrc.train_utils\u001b[0m:\u001b[36mtrain\u001b[0m:\u001b[36m127\u001b[0m - \u001b[1mStep 12600, Learning Rate: 0.008473\u001b[0m\n",
      "\u001b[32m2024-09-08 16:32:16.580\u001b[0m | \u001b[1mINFO    \u001b[0m | \u001b[36msrc.train_utils\u001b[0m:\u001b[36mtrain\u001b[0m:\u001b[36m130\u001b[0m - \u001b[1mStep 12600, Gradient Norms: {'grad_norm_user_embedding.weight': 0.9442750811576843, 'grad_norm_item_embedding.weight': 0.32915475964546204, 'total_grad_norm': 0.9999991423459388}\u001b[0m\n",
      "\u001b[32m2024-09-08 16:32:18.728\u001b[0m | \u001b[1mINFO    \u001b[0m | \u001b[36msrc.train_utils\u001b[0m:\u001b[36mtrain\u001b[0m:\u001b[36m124\u001b[0m - \u001b[1mStep 12700, Global Loss: 4.0384\u001b[0m\n",
      "\u001b[32m2024-09-08 16:32:18.729\u001b[0m | \u001b[1mINFO    \u001b[0m | \u001b[36msrc.train_utils\u001b[0m:\u001b[36mtrain\u001b[0m:\u001b[36m127\u001b[0m - \u001b[1mStep 12700, Learning Rate: 0.008473\u001b[0m\n",
      "\u001b[32m2024-09-08 16:32:18.729\u001b[0m | \u001b[1mINFO    \u001b[0m | \u001b[36msrc.train_utils\u001b[0m:\u001b[36mtrain\u001b[0m:\u001b[36m130\u001b[0m - \u001b[1mStep 12700, Gradient Norms: {'grad_norm_user_embedding.weight': 0.9474033117294312, 'grad_norm_item_embedding.weight': 0.3200403153896332, 'total_grad_norm': 0.9999994192751261}\u001b[0m\n",
      "\u001b[32m2024-09-08 16:32:20.805\u001b[0m | \u001b[1mINFO    \u001b[0m | \u001b[36msrc.train_utils\u001b[0m:\u001b[36mtrain\u001b[0m:\u001b[36m124\u001b[0m - \u001b[1mStep 12800, Global Loss: 4.0487\u001b[0m\n",
      "\u001b[32m2024-09-08 16:32:20.805\u001b[0m | \u001b[1mINFO    \u001b[0m | \u001b[36msrc.train_utils\u001b[0m:\u001b[36mtrain\u001b[0m:\u001b[36m127\u001b[0m - \u001b[1mStep 12800, Learning Rate: 0.008473\u001b[0m\n",
      "\u001b[32m2024-09-08 16:32:20.805\u001b[0m | \u001b[1mINFO    \u001b[0m | \u001b[36msrc.train_utils\u001b[0m:\u001b[36mtrain\u001b[0m:\u001b[36m130\u001b[0m - \u001b[1mStep 12800, Gradient Norms: {'grad_norm_user_embedding.weight': 0.4316743016242981, 'grad_norm_item_embedding.weight': 0.902028501033783, 'total_grad_norm': 0.9999990596795973}\u001b[0m\n",
      "\u001b[32m2024-09-08 16:32:22.902\u001b[0m | \u001b[1mINFO    \u001b[0m | \u001b[36msrc.train_utils\u001b[0m:\u001b[36mtrain\u001b[0m:\u001b[36m124\u001b[0m - \u001b[1mStep 12900, Global Loss: 4.0576\u001b[0m\n",
      "\u001b[32m2024-09-08 16:32:22.903\u001b[0m | \u001b[1mINFO    \u001b[0m | \u001b[36msrc.train_utils\u001b[0m:\u001b[36mtrain\u001b[0m:\u001b[36m127\u001b[0m - \u001b[1mStep 12900, Learning Rate: 0.008473\u001b[0m\n",
      "\u001b[32m2024-09-08 16:32:22.903\u001b[0m | \u001b[1mINFO    \u001b[0m | \u001b[36msrc.train_utils\u001b[0m:\u001b[36mtrain\u001b[0m:\u001b[36m130\u001b[0m - \u001b[1mStep 12900, Gradient Norms: {'grad_norm_user_embedding.weight': 0.8525078892707825, 'grad_norm_item_embedding.weight': 0.5227128267288208, 'total_grad_norm': 0.9999992002475596}\u001b[0m\n",
      "\u001b[32m2024-09-08 16:32:25.033\u001b[0m | \u001b[1mINFO    \u001b[0m | \u001b[36msrc.train_utils\u001b[0m:\u001b[36mtrain\u001b[0m:\u001b[36m124\u001b[0m - \u001b[1mStep 13000, Global Loss: 4.0716\u001b[0m\n",
      "\u001b[32m2024-09-08 16:32:25.034\u001b[0m | \u001b[1mINFO    \u001b[0m | \u001b[36msrc.train_utils\u001b[0m:\u001b[36mtrain\u001b[0m:\u001b[36m127\u001b[0m - \u001b[1mStep 13000, Learning Rate: 0.007626\u001b[0m\n",
      "\u001b[32m2024-09-08 16:32:25.034\u001b[0m | \u001b[1mINFO    \u001b[0m | \u001b[36msrc.train_utils\u001b[0m:\u001b[36mtrain\u001b[0m:\u001b[36m130\u001b[0m - \u001b[1mStep 13000, Gradient Norms: {'grad_norm_user_embedding.weight': 0.9456520080566406, 'grad_norm_item_embedding.weight': 0.3251781165599823, 'total_grad_norm': 0.9999992639152562}\u001b[0m\n",
      "\u001b[32m2024-09-08 16:32:27.048\u001b[0m | \u001b[1mINFO    \u001b[0m | \u001b[36msrc.train_utils\u001b[0m:\u001b[36mtrain\u001b[0m:\u001b[36m124\u001b[0m - \u001b[1mStep 13100, Global Loss: 4.0974\u001b[0m\n",
      "\u001b[32m2024-09-08 16:32:27.049\u001b[0m | \u001b[1mINFO    \u001b[0m | \u001b[36msrc.train_utils\u001b[0m:\u001b[36mtrain\u001b[0m:\u001b[36m127\u001b[0m - \u001b[1mStep 13100, Learning Rate: 0.007626\u001b[0m\n",
      "\u001b[32m2024-09-08 16:32:27.049\u001b[0m | \u001b[1mINFO    \u001b[0m | \u001b[36msrc.train_utils\u001b[0m:\u001b[36mtrain\u001b[0m:\u001b[36m130\u001b[0m - \u001b[1mStep 13100, Gradient Norms: {'grad_norm_user_embedding.weight': 0.9834269285202026, 'grad_norm_item_embedding.weight': 0.1813022941350937, 'total_grad_norm': 0.99999952279855}\u001b[0m\n",
      "\u001b[32m2024-09-08 16:32:29.179\u001b[0m | \u001b[1mINFO    \u001b[0m | \u001b[36msrc.train_utils\u001b[0m:\u001b[36mtrain\u001b[0m:\u001b[36m124\u001b[0m - \u001b[1mStep 13200, Global Loss: 4.1243\u001b[0m\n",
      "\u001b[32m2024-09-08 16:32:29.180\u001b[0m | \u001b[1mINFO    \u001b[0m | \u001b[36msrc.train_utils\u001b[0m:\u001b[36mtrain\u001b[0m:\u001b[36m127\u001b[0m - \u001b[1mStep 13200, Learning Rate: 0.007626\u001b[0m\n",
      "\u001b[32m2024-09-08 16:32:29.180\u001b[0m | \u001b[1mINFO    \u001b[0m | \u001b[36msrc.train_utils\u001b[0m:\u001b[36mtrain\u001b[0m:\u001b[36m130\u001b[0m - \u001b[1mStep 13200, Gradient Norms: {'grad_norm_user_embedding.weight': 0.7325016856193542, 'grad_norm_item_embedding.weight': 0.6807642579078674, 'total_grad_norm': 0.9999993471398092}\u001b[0m\n",
      "\u001b[32m2024-09-08 16:32:31.208\u001b[0m | \u001b[1mINFO    \u001b[0m | \u001b[36msrc.train_utils\u001b[0m:\u001b[36mtrain\u001b[0m:\u001b[36m124\u001b[0m - \u001b[1mStep 13300, Global Loss: 4.1384\u001b[0m\n",
      "\u001b[32m2024-09-08 16:32:31.208\u001b[0m | \u001b[1mINFO    \u001b[0m | \u001b[36msrc.train_utils\u001b[0m:\u001b[36mtrain\u001b[0m:\u001b[36m127\u001b[0m - \u001b[1mStep 13300, Learning Rate: 0.007626\u001b[0m\n",
      "\u001b[32m2024-09-08 16:32:31.209\u001b[0m | \u001b[1mINFO    \u001b[0m | \u001b[36msrc.train_utils\u001b[0m:\u001b[36mtrain\u001b[0m:\u001b[36m130\u001b[0m - \u001b[1mStep 13300, Gradient Norms: {'grad_norm_user_embedding.weight': 0.9488806128501892, 'grad_norm_item_embedding.weight': 0.3156333267688751, 'total_grad_norm': 0.9999994072048933}\u001b[0m\n",
      "\u001b[32m2024-09-08 16:32:33.279\u001b[0m | \u001b[1mINFO    \u001b[0m | \u001b[36msrc.train_utils\u001b[0m:\u001b[36mtrain\u001b[0m:\u001b[36m124\u001b[0m - \u001b[1mStep 13400, Global Loss: 4.1544\u001b[0m\n",
      "\u001b[32m2024-09-08 16:32:33.280\u001b[0m | \u001b[1mINFO    \u001b[0m | \u001b[36msrc.train_utils\u001b[0m:\u001b[36mtrain\u001b[0m:\u001b[36m127\u001b[0m - \u001b[1mStep 13400, Learning Rate: 0.007626\u001b[0m\n",
      "\u001b[32m2024-09-08 16:32:33.280\u001b[0m | \u001b[1mINFO    \u001b[0m | \u001b[36msrc.train_utils\u001b[0m:\u001b[36mtrain\u001b[0m:\u001b[36m130\u001b[0m - \u001b[1mStep 13400, Gradient Norms: {'grad_norm_user_embedding.weight': 0.9359617829322815, 'grad_norm_item_embedding.weight': 0.35209977626800537, 'total_grad_norm': 0.9999993557786698}\u001b[0m\n",
      "\u001b[32m2024-09-08 16:32:35.375\u001b[0m | \u001b[1mINFO    \u001b[0m | \u001b[36msrc.train_utils\u001b[0m:\u001b[36mtrain\u001b[0m:\u001b[36m124\u001b[0m - \u001b[1mStep 13500, Global Loss: 4.1640\u001b[0m\n",
      "\u001b[32m2024-09-08 16:32:35.376\u001b[0m | \u001b[1mINFO    \u001b[0m | \u001b[36msrc.train_utils\u001b[0m:\u001b[36mtrain\u001b[0m:\u001b[36m127\u001b[0m - \u001b[1mStep 13500, Learning Rate: 0.007626\u001b[0m\n",
      "\u001b[32m2024-09-08 16:32:35.376\u001b[0m | \u001b[1mINFO    \u001b[0m | \u001b[36msrc.train_utils\u001b[0m:\u001b[36mtrain\u001b[0m:\u001b[36m130\u001b[0m - \u001b[1mStep 13500, Gradient Norms: {'grad_norm_user_embedding.weight': 0.9239147305488586, 'grad_norm_item_embedding.weight': 0.38259756565093994, 'total_grad_norm': 0.999999663283541}\u001b[0m\n",
      "\u001b[32m2024-09-08 16:32:36.910\u001b[0m | \u001b[1mINFO    \u001b[0m | \u001b[36msrc.train_utils\u001b[0m:\u001b[36mtrain\u001b[0m:\u001b[36m142\u001b[0m - \u001b[1mEpoch 3, Loss: 4.1742\u001b[0m\n",
      "\u001b[32m2024-09-08 16:32:49.529\u001b[0m | \u001b[1mINFO    \u001b[0m | \u001b[36msrc.train_utils\u001b[0m:\u001b[36mtrain\u001b[0m:\u001b[36m160\u001b[0m - \u001b[1mEpoch 3, Validation Loss: 12.6805\u001b[0m\n"
     ]
    },
    {
     "data": {
      "application/vnd.jupyter.widget-view+json": {
       "model_id": "",
       "version_major": 2,
       "version_minor": 0
      },
      "text/plain": [
       "Training Epoch 4:   0%|          | 0/4524 [00:00<?, ?it/s]"
      ]
     },
     "metadata": {},
     "output_type": "display_data"
    },
    {
     "name": "stderr",
     "output_type": "stream",
     "text": [
      "\u001b[32m2024-09-08 16:32:50.139\u001b[0m | \u001b[1mINFO    \u001b[0m | \u001b[36msrc.train_utils\u001b[0m:\u001b[36mtrain\u001b[0m:\u001b[36m124\u001b[0m - \u001b[1mStep 13600, Global Loss: 2.4200\u001b[0m\n",
      "\u001b[32m2024-09-08 16:32:50.139\u001b[0m | \u001b[1mINFO    \u001b[0m | \u001b[36msrc.train_utils\u001b[0m:\u001b[36mtrain\u001b[0m:\u001b[36m127\u001b[0m - \u001b[1mStep 13600, Learning Rate: 0.007626\u001b[0m\n",
      "\u001b[32m2024-09-08 16:32:50.140\u001b[0m | \u001b[1mINFO    \u001b[0m | \u001b[36msrc.train_utils\u001b[0m:\u001b[36mtrain\u001b[0m:\u001b[36m130\u001b[0m - \u001b[1mStep 13600, Gradient Norms: {'grad_norm_user_embedding.weight': 0.7173436880111694, 'grad_norm_item_embedding.weight': 0.6967180371284485, 'total_grad_norm': 0.999998994994287}\u001b[0m\n",
      "\u001b[32m2024-09-08 16:32:52.372\u001b[0m | \u001b[1mINFO    \u001b[0m | \u001b[36msrc.train_utils\u001b[0m:\u001b[36mtrain\u001b[0m:\u001b[36m124\u001b[0m - \u001b[1mStep 13700, Global Loss: 2.1328\u001b[0m\n",
      "\u001b[32m2024-09-08 16:32:52.373\u001b[0m | \u001b[1mINFO    \u001b[0m | \u001b[36msrc.train_utils\u001b[0m:\u001b[36mtrain\u001b[0m:\u001b[36m127\u001b[0m - \u001b[1mStep 13700, Learning Rate: 0.007626\u001b[0m\n",
      "\u001b[32m2024-09-08 16:32:52.373\u001b[0m | \u001b[1mINFO    \u001b[0m | \u001b[36msrc.train_utils\u001b[0m:\u001b[36mtrain\u001b[0m:\u001b[36m130\u001b[0m - \u001b[1mStep 13700, Gradient Norms: {'grad_norm_user_embedding.weight': 0.8249505758285522, 'grad_norm_item_embedding.weight': 0.4962416887283325, 'total_grad_norm': 0.9627041426065472}\u001b[0m\n",
      "\u001b[32m2024-09-08 16:32:54.639\u001b[0m | \u001b[1mINFO    \u001b[0m | \u001b[36msrc.train_utils\u001b[0m:\u001b[36mtrain\u001b[0m:\u001b[36m124\u001b[0m - \u001b[1mStep 13800, Global Loss: 2.1827\u001b[0m\n",
      "\u001b[32m2024-09-08 16:32:54.640\u001b[0m | \u001b[1mINFO    \u001b[0m | \u001b[36msrc.train_utils\u001b[0m:\u001b[36mtrain\u001b[0m:\u001b[36m127\u001b[0m - \u001b[1mStep 13800, Learning Rate: 0.007626\u001b[0m\n",
      "\u001b[32m2024-09-08 16:32:54.640\u001b[0m | \u001b[1mINFO    \u001b[0m | \u001b[36msrc.train_utils\u001b[0m:\u001b[36mtrain\u001b[0m:\u001b[36m130\u001b[0m - \u001b[1mStep 13800, Gradient Norms: {'grad_norm_user_embedding.weight': 0.6858214139938354, 'grad_norm_item_embedding.weight': 0.4849604070186615, 'total_grad_norm': 0.8399628612434062}\u001b[0m\n",
      "\u001b[32m2024-09-08 16:32:56.834\u001b[0m | \u001b[1mINFO    \u001b[0m | \u001b[36msrc.train_utils\u001b[0m:\u001b[36mtrain\u001b[0m:\u001b[36m124\u001b[0m - \u001b[1mStep 13900, Global Loss: 2.1045\u001b[0m\n",
      "\u001b[32m2024-09-08 16:32:56.835\u001b[0m | \u001b[1mINFO    \u001b[0m | \u001b[36msrc.train_utils\u001b[0m:\u001b[36mtrain\u001b[0m:\u001b[36m127\u001b[0m - \u001b[1mStep 13900, Learning Rate: 0.007626\u001b[0m\n",
      "\u001b[32m2024-09-08 16:32:56.835\u001b[0m | \u001b[1mINFO    \u001b[0m | \u001b[36msrc.train_utils\u001b[0m:\u001b[36mtrain\u001b[0m:\u001b[36m130\u001b[0m - \u001b[1mStep 13900, Gradient Norms: {'grad_norm_user_embedding.weight': 0.807426929473877, 'grad_norm_item_embedding.weight': 0.35535332560539246, 'total_grad_norm': 0.8821645155289489}\u001b[0m\n",
      "\u001b[32m2024-09-08 16:32:59.026\u001b[0m | \u001b[1mINFO    \u001b[0m | \u001b[36msrc.train_utils\u001b[0m:\u001b[36mtrain\u001b[0m:\u001b[36m124\u001b[0m - \u001b[1mStep 14000, Global Loss: 2.1553\u001b[0m\n",
      "\u001b[32m2024-09-08 16:32:59.026\u001b[0m | \u001b[1mINFO    \u001b[0m | \u001b[36msrc.train_utils\u001b[0m:\u001b[36mtrain\u001b[0m:\u001b[36m127\u001b[0m - \u001b[1mStep 14000, Learning Rate: 0.006863\u001b[0m\n",
      "\u001b[32m2024-09-08 16:32:59.027\u001b[0m | \u001b[1mINFO    \u001b[0m | \u001b[36msrc.train_utils\u001b[0m:\u001b[36mtrain\u001b[0m:\u001b[36m130\u001b[0m - \u001b[1mStep 14000, Gradient Norms: {'grad_norm_user_embedding.weight': 0.6867559552192688, 'grad_norm_item_embedding.weight': 0.6076765656471252, 'total_grad_norm': 0.9170084789497942}\u001b[0m\n",
      "\u001b[32m2024-09-08 16:33:01.254\u001b[0m | \u001b[1mINFO    \u001b[0m | \u001b[36msrc.train_utils\u001b[0m:\u001b[36mtrain\u001b[0m:\u001b[36m124\u001b[0m - \u001b[1mStep 14100, Global Loss: 2.1929\u001b[0m\n",
      "\u001b[32m2024-09-08 16:33:01.254\u001b[0m | \u001b[1mINFO    \u001b[0m | \u001b[36msrc.train_utils\u001b[0m:\u001b[36mtrain\u001b[0m:\u001b[36m127\u001b[0m - \u001b[1mStep 14100, Learning Rate: 0.006863\u001b[0m\n",
      "\u001b[32m2024-09-08 16:33:01.254\u001b[0m | \u001b[1mINFO    \u001b[0m | \u001b[36msrc.train_utils\u001b[0m:\u001b[36mtrain\u001b[0m:\u001b[36m130\u001b[0m - \u001b[1mStep 14100, Gradient Norms: {'grad_norm_user_embedding.weight': 0.2808934450149536, 'grad_norm_item_embedding.weight': 0.15354593098163605, 'total_grad_norm': 0.3201210401916533}\u001b[0m\n",
      "\u001b[32m2024-09-08 16:33:03.456\u001b[0m | \u001b[1mINFO    \u001b[0m | \u001b[36msrc.train_utils\u001b[0m:\u001b[36mtrain\u001b[0m:\u001b[36m124\u001b[0m - \u001b[1mStep 14200, Global Loss: 2.2157\u001b[0m\n",
      "\u001b[32m2024-09-08 16:33:03.456\u001b[0m | \u001b[1mINFO    \u001b[0m | \u001b[36msrc.train_utils\u001b[0m:\u001b[36mtrain\u001b[0m:\u001b[36m127\u001b[0m - \u001b[1mStep 14200, Learning Rate: 0.006863\u001b[0m\n",
      "\u001b[32m2024-09-08 16:33:03.457\u001b[0m | \u001b[1mINFO    \u001b[0m | \u001b[36msrc.train_utils\u001b[0m:\u001b[36mtrain\u001b[0m:\u001b[36m130\u001b[0m - \u001b[1mStep 14200, Gradient Norms: {'grad_norm_user_embedding.weight': 0.9181671738624573, 'grad_norm_item_embedding.weight': 0.3961917459964752, 'total_grad_norm': 0.9999994293769909}\u001b[0m\n",
      "\u001b[32m2024-09-08 16:33:05.604\u001b[0m | \u001b[1mINFO    \u001b[0m | \u001b[36msrc.train_utils\u001b[0m:\u001b[36mtrain\u001b[0m:\u001b[36m124\u001b[0m - \u001b[1mStep 14300, Global Loss: 2.2670\u001b[0m\n",
      "\u001b[32m2024-09-08 16:33:05.604\u001b[0m | \u001b[1mINFO    \u001b[0m | \u001b[36msrc.train_utils\u001b[0m:\u001b[36mtrain\u001b[0m:\u001b[36m127\u001b[0m - \u001b[1mStep 14300, Learning Rate: 0.006863\u001b[0m\n",
      "\u001b[32m2024-09-08 16:33:05.604\u001b[0m | \u001b[1mINFO    \u001b[0m | \u001b[36msrc.train_utils\u001b[0m:\u001b[36mtrain\u001b[0m:\u001b[36m130\u001b[0m - \u001b[1mStep 14300, Gradient Norms: {'grad_norm_user_embedding.weight': 0.47427818179130554, 'grad_norm_item_embedding.weight': 0.277320921421051, 'total_grad_norm': 0.549405758234374}\u001b[0m\n",
      "\u001b[32m2024-09-08 16:33:07.785\u001b[0m | \u001b[1mINFO    \u001b[0m | \u001b[36msrc.train_utils\u001b[0m:\u001b[36mtrain\u001b[0m:\u001b[36m124\u001b[0m - \u001b[1mStep 14400, Global Loss: 2.3012\u001b[0m\n",
      "\u001b[32m2024-09-08 16:33:07.786\u001b[0m | \u001b[1mINFO    \u001b[0m | \u001b[36msrc.train_utils\u001b[0m:\u001b[36mtrain\u001b[0m:\u001b[36m127\u001b[0m - \u001b[1mStep 14400, Learning Rate: 0.006863\u001b[0m\n",
      "\u001b[32m2024-09-08 16:33:07.786\u001b[0m | \u001b[1mINFO    \u001b[0m | \u001b[36msrc.train_utils\u001b[0m:\u001b[36mtrain\u001b[0m:\u001b[36m130\u001b[0m - \u001b[1mStep 14400, Gradient Norms: {'grad_norm_user_embedding.weight': 0.43856915831565857, 'grad_norm_item_embedding.weight': 0.33815810084342957, 'total_grad_norm': 0.5537994292085721}\u001b[0m\n",
      "\u001b[32m2024-09-08 16:33:09.982\u001b[0m | \u001b[1mINFO    \u001b[0m | \u001b[36msrc.train_utils\u001b[0m:\u001b[36mtrain\u001b[0m:\u001b[36m124\u001b[0m - \u001b[1mStep 14500, Global Loss: 2.3325\u001b[0m\n",
      "\u001b[32m2024-09-08 16:33:09.982\u001b[0m | \u001b[1mINFO    \u001b[0m | \u001b[36msrc.train_utils\u001b[0m:\u001b[36mtrain\u001b[0m:\u001b[36m127\u001b[0m - \u001b[1mStep 14500, Learning Rate: 0.006863\u001b[0m\n",
      "\u001b[32m2024-09-08 16:33:09.982\u001b[0m | \u001b[1mINFO    \u001b[0m | \u001b[36msrc.train_utils\u001b[0m:\u001b[36mtrain\u001b[0m:\u001b[36m130\u001b[0m - \u001b[1mStep 14500, Gradient Norms: {'grad_norm_user_embedding.weight': 0.3433588743209839, 'grad_norm_item_embedding.weight': 0.18335840106010437, 'total_grad_norm': 0.3892500736214334}\u001b[0m\n",
      "\u001b[32m2024-09-08 16:33:12.199\u001b[0m | \u001b[1mINFO    \u001b[0m | \u001b[36msrc.train_utils\u001b[0m:\u001b[36mtrain\u001b[0m:\u001b[36m124\u001b[0m - \u001b[1mStep 14600, Global Loss: 2.3657\u001b[0m\n",
      "\u001b[32m2024-09-08 16:33:12.200\u001b[0m | \u001b[1mINFO    \u001b[0m | \u001b[36msrc.train_utils\u001b[0m:\u001b[36mtrain\u001b[0m:\u001b[36m127\u001b[0m - \u001b[1mStep 14600, Learning Rate: 0.006863\u001b[0m\n",
      "\u001b[32m2024-09-08 16:33:12.200\u001b[0m | \u001b[1mINFO    \u001b[0m | \u001b[36msrc.train_utils\u001b[0m:\u001b[36mtrain\u001b[0m:\u001b[36m130\u001b[0m - \u001b[1mStep 14600, Gradient Norms: {'grad_norm_user_embedding.weight': 0.9282469153404236, 'grad_norm_item_embedding.weight': 0.3719630241394043, 'total_grad_norm': 0.9999994135827993}\u001b[0m\n",
      "\u001b[32m2024-09-08 16:33:14.439\u001b[0m | \u001b[1mINFO    \u001b[0m | \u001b[36msrc.train_utils\u001b[0m:\u001b[36mtrain\u001b[0m:\u001b[36m124\u001b[0m - \u001b[1mStep 14700, Global Loss: 2.4068\u001b[0m\n",
      "\u001b[32m2024-09-08 16:33:14.440\u001b[0m | \u001b[1mINFO    \u001b[0m | \u001b[36msrc.train_utils\u001b[0m:\u001b[36mtrain\u001b[0m:\u001b[36m127\u001b[0m - \u001b[1mStep 14700, Learning Rate: 0.006863\u001b[0m\n",
      "\u001b[32m2024-09-08 16:33:14.440\u001b[0m | \u001b[1mINFO    \u001b[0m | \u001b[36msrc.train_utils\u001b[0m:\u001b[36mtrain\u001b[0m:\u001b[36m130\u001b[0m - \u001b[1mStep 14700, Gradient Norms: {'grad_norm_user_embedding.weight': 0.6538276076316833, 'grad_norm_item_embedding.weight': 0.5484358668327332, 'total_grad_norm': 0.8533887979871436}\u001b[0m\n",
      "\u001b[32m2024-09-08 16:33:16.608\u001b[0m | \u001b[1mINFO    \u001b[0m | \u001b[36msrc.train_utils\u001b[0m:\u001b[36mtrain\u001b[0m:\u001b[36m124\u001b[0m - \u001b[1mStep 14800, Global Loss: 2.4264\u001b[0m\n",
      "\u001b[32m2024-09-08 16:33:16.609\u001b[0m | \u001b[1mINFO    \u001b[0m | \u001b[36msrc.train_utils\u001b[0m:\u001b[36mtrain\u001b[0m:\u001b[36m127\u001b[0m - \u001b[1mStep 14800, Learning Rate: 0.006863\u001b[0m\n",
      "\u001b[32m2024-09-08 16:33:16.609\u001b[0m | \u001b[1mINFO    \u001b[0m | \u001b[36msrc.train_utils\u001b[0m:\u001b[36mtrain\u001b[0m:\u001b[36m130\u001b[0m - \u001b[1mStep 14800, Gradient Norms: {'grad_norm_user_embedding.weight': 0.540022075176239, 'grad_norm_item_embedding.weight': 0.8416498899459839, 'total_grad_norm': 0.9999991894615406}\u001b[0m\n",
      "\u001b[32m2024-09-08 16:33:18.831\u001b[0m | \u001b[1mINFO    \u001b[0m | \u001b[36msrc.train_utils\u001b[0m:\u001b[36mtrain\u001b[0m:\u001b[36m124\u001b[0m - \u001b[1mStep 14900, Global Loss: 2.4677\u001b[0m\n",
      "\u001b[32m2024-09-08 16:33:18.831\u001b[0m | \u001b[1mINFO    \u001b[0m | \u001b[36msrc.train_utils\u001b[0m:\u001b[36mtrain\u001b[0m:\u001b[36m127\u001b[0m - \u001b[1mStep 14900, Learning Rate: 0.006863\u001b[0m\n",
      "\u001b[32m2024-09-08 16:33:18.831\u001b[0m | \u001b[1mINFO    \u001b[0m | \u001b[36msrc.train_utils\u001b[0m:\u001b[36mtrain\u001b[0m:\u001b[36m130\u001b[0m - \u001b[1mStep 14900, Gradient Norms: {'grad_norm_user_embedding.weight': 0.9319396018981934, 'grad_norm_item_embedding.weight': 0.36261165142059326, 'total_grad_norm': 0.9999993156658323}\u001b[0m\n",
      "\u001b[32m2024-09-08 16:33:20.951\u001b[0m | \u001b[1mINFO    \u001b[0m | \u001b[36msrc.train_utils\u001b[0m:\u001b[36mtrain\u001b[0m:\u001b[36m124\u001b[0m - \u001b[1mStep 15000, Global Loss: 2.4852\u001b[0m\n",
      "\u001b[32m2024-09-08 16:33:20.951\u001b[0m | \u001b[1mINFO    \u001b[0m | \u001b[36msrc.train_utils\u001b[0m:\u001b[36mtrain\u001b[0m:\u001b[36m127\u001b[0m - \u001b[1mStep 15000, Learning Rate: 0.006177\u001b[0m\n",
      "\u001b[32m2024-09-08 16:33:20.952\u001b[0m | \u001b[1mINFO    \u001b[0m | \u001b[36msrc.train_utils\u001b[0m:\u001b[36mtrain\u001b[0m:\u001b[36m130\u001b[0m - \u001b[1mStep 15000, Gradient Norms: {'grad_norm_user_embedding.weight': 0.7965691089630127, 'grad_norm_item_embedding.weight': 0.44596952199935913, 'total_grad_norm': 0.9129135555497382}\u001b[0m\n",
      "\u001b[32m2024-09-08 16:33:23.149\u001b[0m | \u001b[1mINFO    \u001b[0m | \u001b[36msrc.train_utils\u001b[0m:\u001b[36mtrain\u001b[0m:\u001b[36m124\u001b[0m - \u001b[1mStep 15100, Global Loss: 2.5215\u001b[0m\n",
      "\u001b[32m2024-09-08 16:33:23.150\u001b[0m | \u001b[1mINFO    \u001b[0m | \u001b[36msrc.train_utils\u001b[0m:\u001b[36mtrain\u001b[0m:\u001b[36m127\u001b[0m - \u001b[1mStep 15100, Learning Rate: 0.006177\u001b[0m\n",
      "\u001b[32m2024-09-08 16:33:23.150\u001b[0m | \u001b[1mINFO    \u001b[0m | \u001b[36msrc.train_utils\u001b[0m:\u001b[36mtrain\u001b[0m:\u001b[36m130\u001b[0m - \u001b[1mStep 15100, Gradient Norms: {'grad_norm_user_embedding.weight': 0.9551107883453369, 'grad_norm_item_embedding.weight': 0.29624685645103455, 'total_grad_norm': 0.9999994089852108}\u001b[0m\n",
      "\u001b[32m2024-09-08 16:33:25.344\u001b[0m | \u001b[1mINFO    \u001b[0m | \u001b[36msrc.train_utils\u001b[0m:\u001b[36mtrain\u001b[0m:\u001b[36m124\u001b[0m - \u001b[1mStep 15200, Global Loss: 2.5525\u001b[0m\n",
      "\u001b[32m2024-09-08 16:33:25.344\u001b[0m | \u001b[1mINFO    \u001b[0m | \u001b[36msrc.train_utils\u001b[0m:\u001b[36mtrain\u001b[0m:\u001b[36m127\u001b[0m - \u001b[1mStep 15200, Learning Rate: 0.006177\u001b[0m\n",
      "\u001b[32m2024-09-08 16:33:25.345\u001b[0m | \u001b[1mINFO    \u001b[0m | \u001b[36msrc.train_utils\u001b[0m:\u001b[36mtrain\u001b[0m:\u001b[36m130\u001b[0m - \u001b[1mStep 15200, Gradient Norms: {'grad_norm_user_embedding.weight': 0.5594127774238586, 'grad_norm_item_embedding.weight': 0.2677561640739441, 'total_grad_norm': 0.620190308651037}\u001b[0m\n",
      "\u001b[32m2024-09-08 16:33:27.444\u001b[0m | \u001b[1mINFO    \u001b[0m | \u001b[36msrc.train_utils\u001b[0m:\u001b[36mtrain\u001b[0m:\u001b[36m124\u001b[0m - \u001b[1mStep 15300, Global Loss: 2.5763\u001b[0m\n",
      "\u001b[32m2024-09-08 16:33:27.444\u001b[0m | \u001b[1mINFO    \u001b[0m | \u001b[36msrc.train_utils\u001b[0m:\u001b[36mtrain\u001b[0m:\u001b[36m127\u001b[0m - \u001b[1mStep 15300, Learning Rate: 0.006177\u001b[0m\n",
      "\u001b[32m2024-09-08 16:33:27.445\u001b[0m | \u001b[1mINFO    \u001b[0m | \u001b[36msrc.train_utils\u001b[0m:\u001b[36mtrain\u001b[0m:\u001b[36m130\u001b[0m - \u001b[1mStep 15300, Gradient Norms: {'grad_norm_user_embedding.weight': 0.4416004419326782, 'grad_norm_item_embedding.weight': 0.2401304692029953, 'total_grad_norm': 0.5026664824262579}\u001b[0m\n",
      "\u001b[32m2024-09-08 16:33:29.674\u001b[0m | \u001b[1mINFO    \u001b[0m | \u001b[36msrc.train_utils\u001b[0m:\u001b[36mtrain\u001b[0m:\u001b[36m124\u001b[0m - \u001b[1mStep 15400, Global Loss: 2.5810\u001b[0m\n",
      "\u001b[32m2024-09-08 16:33:29.674\u001b[0m | \u001b[1mINFO    \u001b[0m | \u001b[36msrc.train_utils\u001b[0m:\u001b[36mtrain\u001b[0m:\u001b[36m127\u001b[0m - \u001b[1mStep 15400, Learning Rate: 0.006177\u001b[0m\n",
      "\u001b[32m2024-09-08 16:33:29.674\u001b[0m | \u001b[1mINFO    \u001b[0m | \u001b[36msrc.train_utils\u001b[0m:\u001b[36mtrain\u001b[0m:\u001b[36m130\u001b[0m - \u001b[1mStep 15400, Gradient Norms: {'grad_norm_user_embedding.weight': 0.7952749133110046, 'grad_norm_item_embedding.weight': 0.44364580512046814, 'total_grad_norm': 0.9106502007592236}\u001b[0m\n",
      "\u001b[32m2024-09-08 16:33:31.875\u001b[0m | \u001b[1mINFO    \u001b[0m | \u001b[36msrc.train_utils\u001b[0m:\u001b[36mtrain\u001b[0m:\u001b[36m124\u001b[0m - \u001b[1mStep 15500, Global Loss: 2.5951\u001b[0m\n",
      "\u001b[32m2024-09-08 16:33:31.875\u001b[0m | \u001b[1mINFO    \u001b[0m | \u001b[36msrc.train_utils\u001b[0m:\u001b[36mtrain\u001b[0m:\u001b[36m127\u001b[0m - \u001b[1mStep 15500, Learning Rate: 0.006177\u001b[0m\n",
      "\u001b[32m2024-09-08 16:33:31.876\u001b[0m | \u001b[1mINFO    \u001b[0m | \u001b[36msrc.train_utils\u001b[0m:\u001b[36mtrain\u001b[0m:\u001b[36m130\u001b[0m - \u001b[1mStep 15500, Gradient Norms: {'grad_norm_user_embedding.weight': 0.7715234160423279, 'grad_norm_item_embedding.weight': 0.6361997127532959, 'total_grad_norm': 0.9999992280042016}\u001b[0m\n",
      "\u001b[32m2024-09-08 16:33:34.037\u001b[0m | \u001b[1mINFO    \u001b[0m | \u001b[36msrc.train_utils\u001b[0m:\u001b[36mtrain\u001b[0m:\u001b[36m124\u001b[0m - \u001b[1mStep 15600, Global Loss: 2.5992\u001b[0m\n",
      "\u001b[32m2024-09-08 16:33:34.038\u001b[0m | \u001b[1mINFO    \u001b[0m | \u001b[36msrc.train_utils\u001b[0m:\u001b[36mtrain\u001b[0m:\u001b[36m127\u001b[0m - \u001b[1mStep 15600, Learning Rate: 0.006177\u001b[0m\n",
      "\u001b[32m2024-09-08 16:33:34.038\u001b[0m | \u001b[1mINFO    \u001b[0m | \u001b[36msrc.train_utils\u001b[0m:\u001b[36mtrain\u001b[0m:\u001b[36m130\u001b[0m - \u001b[1mStep 15600, Gradient Norms: {'grad_norm_user_embedding.weight': 0.24170391261577606, 'grad_norm_item_embedding.weight': 0.14959031343460083, 'total_grad_norm': 0.2842499661340997}\u001b[0m\n",
      "\u001b[32m2024-09-08 16:33:36.229\u001b[0m | \u001b[1mINFO    \u001b[0m | \u001b[36msrc.train_utils\u001b[0m:\u001b[36mtrain\u001b[0m:\u001b[36m124\u001b[0m - \u001b[1mStep 15700, Global Loss: 2.6296\u001b[0m\n",
      "\u001b[32m2024-09-08 16:33:36.230\u001b[0m | \u001b[1mINFO    \u001b[0m | \u001b[36msrc.train_utils\u001b[0m:\u001b[36mtrain\u001b[0m:\u001b[36m127\u001b[0m - \u001b[1mStep 15700, Learning Rate: 0.006177\u001b[0m\n",
      "\u001b[32m2024-09-08 16:33:36.230\u001b[0m | \u001b[1mINFO    \u001b[0m | \u001b[36msrc.train_utils\u001b[0m:\u001b[36mtrain\u001b[0m:\u001b[36m130\u001b[0m - \u001b[1mStep 15700, Gradient Norms: {'grad_norm_user_embedding.weight': 0.969724714756012, 'grad_norm_item_embedding.weight': 0.24419713020324707, 'total_grad_norm': 0.999999130403687}\u001b[0m\n",
      "\u001b[32m2024-09-08 16:33:38.435\u001b[0m | \u001b[1mINFO    \u001b[0m | \u001b[36msrc.train_utils\u001b[0m:\u001b[36mtrain\u001b[0m:\u001b[36m124\u001b[0m - \u001b[1mStep 15800, Global Loss: 2.6384\u001b[0m\n",
      "\u001b[32m2024-09-08 16:33:38.436\u001b[0m | \u001b[1mINFO    \u001b[0m | \u001b[36msrc.train_utils\u001b[0m:\u001b[36mtrain\u001b[0m:\u001b[36m127\u001b[0m - \u001b[1mStep 15800, Learning Rate: 0.006177\u001b[0m\n",
      "\u001b[32m2024-09-08 16:33:38.436\u001b[0m | \u001b[1mINFO    \u001b[0m | \u001b[36msrc.train_utils\u001b[0m:\u001b[36mtrain\u001b[0m:\u001b[36m130\u001b[0m - \u001b[1mStep 15800, Gradient Norms: {'grad_norm_user_embedding.weight': 0.7905275225639343, 'grad_norm_item_embedding.weight': 0.49656349420547485, 'total_grad_norm': 0.9335465000248366}\u001b[0m\n",
      "\u001b[32m2024-09-08 16:33:40.639\u001b[0m | \u001b[1mINFO    \u001b[0m | \u001b[36msrc.train_utils\u001b[0m:\u001b[36mtrain\u001b[0m:\u001b[36m124\u001b[0m - \u001b[1mStep 15900, Global Loss: 2.6661\u001b[0m\n",
      "\u001b[32m2024-09-08 16:33:40.640\u001b[0m | \u001b[1mINFO    \u001b[0m | \u001b[36msrc.train_utils\u001b[0m:\u001b[36mtrain\u001b[0m:\u001b[36m127\u001b[0m - \u001b[1mStep 15900, Learning Rate: 0.006177\u001b[0m\n",
      "\u001b[32m2024-09-08 16:33:40.640\u001b[0m | \u001b[1mINFO    \u001b[0m | \u001b[36msrc.train_utils\u001b[0m:\u001b[36mtrain\u001b[0m:\u001b[36m130\u001b[0m - \u001b[1mStep 15900, Gradient Norms: {'grad_norm_user_embedding.weight': 0.9487285017967224, 'grad_norm_item_embedding.weight': 0.31609025597572327, 'total_grad_norm': 0.9999994100219518}\u001b[0m\n",
      "\u001b[32m2024-09-08 16:33:42.846\u001b[0m | \u001b[1mINFO    \u001b[0m | \u001b[36msrc.train_utils\u001b[0m:\u001b[36mtrain\u001b[0m:\u001b[36m124\u001b[0m - \u001b[1mStep 16000, Global Loss: 2.6766\u001b[0m\n",
      "\u001b[32m2024-09-08 16:33:42.846\u001b[0m | \u001b[1mINFO    \u001b[0m | \u001b[36msrc.train_utils\u001b[0m:\u001b[36mtrain\u001b[0m:\u001b[36m127\u001b[0m - \u001b[1mStep 16000, Learning Rate: 0.005559\u001b[0m\n",
      "\u001b[32m2024-09-08 16:33:42.847\u001b[0m | \u001b[1mINFO    \u001b[0m | \u001b[36msrc.train_utils\u001b[0m:\u001b[36mtrain\u001b[0m:\u001b[36m130\u001b[0m - \u001b[1mStep 16000, Gradient Norms: {'grad_norm_user_embedding.weight': 0.5678939819335938, 'grad_norm_item_embedding.weight': 0.2314959168434143, 'total_grad_norm': 0.613264978807339}\u001b[0m\n",
      "\u001b[32m2024-09-08 16:33:45.052\u001b[0m | \u001b[1mINFO    \u001b[0m | \u001b[36msrc.train_utils\u001b[0m:\u001b[36mtrain\u001b[0m:\u001b[36m124\u001b[0m - \u001b[1mStep 16100, Global Loss: 2.6960\u001b[0m\n",
      "\u001b[32m2024-09-08 16:33:45.053\u001b[0m | \u001b[1mINFO    \u001b[0m | \u001b[36msrc.train_utils\u001b[0m:\u001b[36mtrain\u001b[0m:\u001b[36m127\u001b[0m - \u001b[1mStep 16100, Learning Rate: 0.005559\u001b[0m\n",
      "\u001b[32m2024-09-08 16:33:45.053\u001b[0m | \u001b[1mINFO    \u001b[0m | \u001b[36msrc.train_utils\u001b[0m:\u001b[36mtrain\u001b[0m:\u001b[36m130\u001b[0m - \u001b[1mStep 16100, Gradient Norms: {'grad_norm_user_embedding.weight': 0.6637612581253052, 'grad_norm_item_embedding.weight': 0.423820823431015, 'total_grad_norm': 0.7875297443029258}\u001b[0m\n",
      "\u001b[32m2024-09-08 16:33:47.166\u001b[0m | \u001b[1mINFO    \u001b[0m | \u001b[36msrc.train_utils\u001b[0m:\u001b[36mtrain\u001b[0m:\u001b[36m124\u001b[0m - \u001b[1mStep 16200, Global Loss: 2.7249\u001b[0m\n",
      "\u001b[32m2024-09-08 16:33:47.167\u001b[0m | \u001b[1mINFO    \u001b[0m | \u001b[36msrc.train_utils\u001b[0m:\u001b[36mtrain\u001b[0m:\u001b[36m127\u001b[0m - \u001b[1mStep 16200, Learning Rate: 0.005559\u001b[0m\n",
      "\u001b[32m2024-09-08 16:33:47.167\u001b[0m | \u001b[1mINFO    \u001b[0m | \u001b[36msrc.train_utils\u001b[0m:\u001b[36mtrain\u001b[0m:\u001b[36m130\u001b[0m - \u001b[1mStep 16200, Gradient Norms: {'grad_norm_user_embedding.weight': 0.7113106846809387, 'grad_norm_item_embedding.weight': 0.3578300178050995, 'total_grad_norm': 0.7962444422309418}\u001b[0m\n",
      "\u001b[32m2024-09-08 16:33:49.422\u001b[0m | \u001b[1mINFO    \u001b[0m | \u001b[36msrc.train_utils\u001b[0m:\u001b[36mtrain\u001b[0m:\u001b[36m124\u001b[0m - \u001b[1mStep 16300, Global Loss: 2.7526\u001b[0m\n",
      "\u001b[32m2024-09-08 16:33:49.422\u001b[0m | \u001b[1mINFO    \u001b[0m | \u001b[36msrc.train_utils\u001b[0m:\u001b[36mtrain\u001b[0m:\u001b[36m127\u001b[0m - \u001b[1mStep 16300, Learning Rate: 0.005559\u001b[0m\n",
      "\u001b[32m2024-09-08 16:33:49.423\u001b[0m | \u001b[1mINFO    \u001b[0m | \u001b[36msrc.train_utils\u001b[0m:\u001b[36mtrain\u001b[0m:\u001b[36m130\u001b[0m - \u001b[1mStep 16300, Gradient Norms: {'grad_norm_user_embedding.weight': 0.4476862847805023, 'grad_norm_item_embedding.weight': 0.8941897749900818, 'total_grad_norm': 0.9999991816383562}\u001b[0m\n",
      "\u001b[32m2024-09-08 16:33:51.604\u001b[0m | \u001b[1mINFO    \u001b[0m | \u001b[36msrc.train_utils\u001b[0m:\u001b[36mtrain\u001b[0m:\u001b[36m124\u001b[0m - \u001b[1mStep 16400, Global Loss: 2.7736\u001b[0m\n",
      "\u001b[32m2024-09-08 16:33:51.604\u001b[0m | \u001b[1mINFO    \u001b[0m | \u001b[36msrc.train_utils\u001b[0m:\u001b[36mtrain\u001b[0m:\u001b[36m127\u001b[0m - \u001b[1mStep 16400, Learning Rate: 0.005559\u001b[0m\n",
      "\u001b[32m2024-09-08 16:33:51.605\u001b[0m | \u001b[1mINFO    \u001b[0m | \u001b[36msrc.train_utils\u001b[0m:\u001b[36mtrain\u001b[0m:\u001b[36m130\u001b[0m - \u001b[1mStep 16400, Gradient Norms: {'grad_norm_user_embedding.weight': 0.6715751886367798, 'grad_norm_item_embedding.weight': 0.5592135787010193, 'total_grad_norm': 0.8739182230598739}\u001b[0m\n",
      "\u001b[32m2024-09-08 16:33:53.856\u001b[0m | \u001b[1mINFO    \u001b[0m | \u001b[36msrc.train_utils\u001b[0m:\u001b[36mtrain\u001b[0m:\u001b[36m124\u001b[0m - \u001b[1mStep 16500, Global Loss: 2.7868\u001b[0m\n",
      "\u001b[32m2024-09-08 16:33:53.857\u001b[0m | \u001b[1mINFO    \u001b[0m | \u001b[36msrc.train_utils\u001b[0m:\u001b[36mtrain\u001b[0m:\u001b[36m127\u001b[0m - \u001b[1mStep 16500, Learning Rate: 0.005559\u001b[0m\n",
      "\u001b[32m2024-09-08 16:33:53.857\u001b[0m | \u001b[1mINFO    \u001b[0m | \u001b[36msrc.train_utils\u001b[0m:\u001b[36mtrain\u001b[0m:\u001b[36m130\u001b[0m - \u001b[1mStep 16500, Gradient Norms: {'grad_norm_user_embedding.weight': 0.9805606603622437, 'grad_norm_item_embedding.weight': 0.19621248543262482, 'total_grad_norm': 0.9999992740445802}\u001b[0m\n",
      "\u001b[32m2024-09-08 16:33:56.043\u001b[0m | \u001b[1mINFO    \u001b[0m | \u001b[36msrc.train_utils\u001b[0m:\u001b[36mtrain\u001b[0m:\u001b[36m124\u001b[0m - \u001b[1mStep 16600, Global Loss: 2.8114\u001b[0m\n",
      "\u001b[32m2024-09-08 16:33:56.044\u001b[0m | \u001b[1mINFO    \u001b[0m | \u001b[36msrc.train_utils\u001b[0m:\u001b[36mtrain\u001b[0m:\u001b[36m127\u001b[0m - \u001b[1mStep 16600, Learning Rate: 0.005559\u001b[0m\n",
      "\u001b[32m2024-09-08 16:33:56.044\u001b[0m | \u001b[1mINFO    \u001b[0m | \u001b[36msrc.train_utils\u001b[0m:\u001b[36mtrain\u001b[0m:\u001b[36m130\u001b[0m - \u001b[1mStep 16600, Gradient Norms: {'grad_norm_user_embedding.weight': 0.691625714302063, 'grad_norm_item_embedding.weight': 0.7222549319267273, 'total_grad_norm': 0.9999991576878055}\u001b[0m\n",
      "\u001b[32m2024-09-08 16:33:58.251\u001b[0m | \u001b[1mINFO    \u001b[0m | \u001b[36msrc.train_utils\u001b[0m:\u001b[36mtrain\u001b[0m:\u001b[36m124\u001b[0m - \u001b[1mStep 16700, Global Loss: 2.8346\u001b[0m\n",
      "\u001b[32m2024-09-08 16:33:58.252\u001b[0m | \u001b[1mINFO    \u001b[0m | \u001b[36msrc.train_utils\u001b[0m:\u001b[36mtrain\u001b[0m:\u001b[36m127\u001b[0m - \u001b[1mStep 16700, Learning Rate: 0.005559\u001b[0m\n",
      "\u001b[32m2024-09-08 16:33:58.252\u001b[0m | \u001b[1mINFO    \u001b[0m | \u001b[36msrc.train_utils\u001b[0m:\u001b[36mtrain\u001b[0m:\u001b[36m130\u001b[0m - \u001b[1mStep 16700, Gradient Norms: {'grad_norm_user_embedding.weight': 0.5804364085197449, 'grad_norm_item_embedding.weight': 0.8143046498298645, 'total_grad_norm': 0.9999992435346331}\u001b[0m\n",
      "\u001b[32m2024-09-08 16:34:00.439\u001b[0m | \u001b[1mINFO    \u001b[0m | \u001b[36msrc.train_utils\u001b[0m:\u001b[36mtrain\u001b[0m:\u001b[36m124\u001b[0m - \u001b[1mStep 16800, Global Loss: 2.8650\u001b[0m\n",
      "\u001b[32m2024-09-08 16:34:00.439\u001b[0m | \u001b[1mINFO    \u001b[0m | \u001b[36msrc.train_utils\u001b[0m:\u001b[36mtrain\u001b[0m:\u001b[36m127\u001b[0m - \u001b[1mStep 16800, Learning Rate: 0.005559\u001b[0m\n",
      "\u001b[32m2024-09-08 16:34:00.440\u001b[0m | \u001b[1mINFO    \u001b[0m | \u001b[36msrc.train_utils\u001b[0m:\u001b[36mtrain\u001b[0m:\u001b[36m130\u001b[0m - \u001b[1mStep 16800, Gradient Norms: {'grad_norm_user_embedding.weight': 0.9345569014549255, 'grad_norm_item_embedding.weight': 0.355811208486557, 'total_grad_norm': 0.9999991090704509}\u001b[0m\n",
      "\u001b[32m2024-09-08 16:34:02.648\u001b[0m | \u001b[1mINFO    \u001b[0m | \u001b[36msrc.train_utils\u001b[0m:\u001b[36mtrain\u001b[0m:\u001b[36m124\u001b[0m - \u001b[1mStep 16900, Global Loss: 2.8896\u001b[0m\n",
      "\u001b[32m2024-09-08 16:34:02.648\u001b[0m | \u001b[1mINFO    \u001b[0m | \u001b[36msrc.train_utils\u001b[0m:\u001b[36mtrain\u001b[0m:\u001b[36m127\u001b[0m - \u001b[1mStep 16900, Learning Rate: 0.005559\u001b[0m\n",
      "\u001b[32m2024-09-08 16:34:02.649\u001b[0m | \u001b[1mINFO    \u001b[0m | \u001b[36msrc.train_utils\u001b[0m:\u001b[36mtrain\u001b[0m:\u001b[36m130\u001b[0m - \u001b[1mStep 16900, Gradient Norms: {'grad_norm_user_embedding.weight': 0.29831570386886597, 'grad_norm_item_embedding.weight': 0.25216859579086304, 'total_grad_norm': 0.390616512551521}\u001b[0m\n",
      "\u001b[32m2024-09-08 16:34:04.738\u001b[0m | \u001b[1mINFO    \u001b[0m | \u001b[36msrc.train_utils\u001b[0m:\u001b[36mtrain\u001b[0m:\u001b[36m124\u001b[0m - \u001b[1mStep 17000, Global Loss: 2.9066\u001b[0m\n",
      "\u001b[32m2024-09-08 16:34:04.738\u001b[0m | \u001b[1mINFO    \u001b[0m | \u001b[36msrc.train_utils\u001b[0m:\u001b[36mtrain\u001b[0m:\u001b[36m127\u001b[0m - \u001b[1mStep 17000, Learning Rate: 0.005003\u001b[0m\n",
      "\u001b[32m2024-09-08 16:34:04.738\u001b[0m | \u001b[1mINFO    \u001b[0m | \u001b[36msrc.train_utils\u001b[0m:\u001b[36mtrain\u001b[0m:\u001b[36m130\u001b[0m - \u001b[1mStep 17000, Gradient Norms: {'grad_norm_user_embedding.weight': 0.9763711094856262, 'grad_norm_item_embedding.weight': 0.21609798073768616, 'total_grad_norm': 0.9999994403583924}\u001b[0m\n",
      "\u001b[32m2024-09-08 16:34:06.927\u001b[0m | \u001b[1mINFO    \u001b[0m | \u001b[36msrc.train_utils\u001b[0m:\u001b[36mtrain\u001b[0m:\u001b[36m124\u001b[0m - \u001b[1mStep 17100, Global Loss: 2.9376\u001b[0m\n",
      "\u001b[32m2024-09-08 16:34:06.928\u001b[0m | \u001b[1mINFO    \u001b[0m | \u001b[36msrc.train_utils\u001b[0m:\u001b[36mtrain\u001b[0m:\u001b[36m127\u001b[0m - \u001b[1mStep 17100, Learning Rate: 0.005003\u001b[0m\n",
      "\u001b[32m2024-09-08 16:34:06.928\u001b[0m | \u001b[1mINFO    \u001b[0m | \u001b[36msrc.train_utils\u001b[0m:\u001b[36mtrain\u001b[0m:\u001b[36m130\u001b[0m - \u001b[1mStep 17100, Gradient Norms: {'grad_norm_user_embedding.weight': 0.6822869181632996, 'grad_norm_item_embedding.weight': 0.7310833930969238, 'total_grad_norm': 0.9999991831791085}\u001b[0m\n",
      "\u001b[32m2024-09-08 16:34:09.160\u001b[0m | \u001b[1mINFO    \u001b[0m | \u001b[36msrc.train_utils\u001b[0m:\u001b[36mtrain\u001b[0m:\u001b[36m124\u001b[0m - \u001b[1mStep 17200, Global Loss: 2.9689\u001b[0m\n",
      "\u001b[32m2024-09-08 16:34:09.161\u001b[0m | \u001b[1mINFO    \u001b[0m | \u001b[36msrc.train_utils\u001b[0m:\u001b[36mtrain\u001b[0m:\u001b[36m127\u001b[0m - \u001b[1mStep 17200, Learning Rate: 0.005003\u001b[0m\n",
      "\u001b[32m2024-09-08 16:34:09.161\u001b[0m | \u001b[1mINFO    \u001b[0m | \u001b[36msrc.train_utils\u001b[0m:\u001b[36mtrain\u001b[0m:\u001b[36m130\u001b[0m - \u001b[1mStep 17200, Gradient Norms: {'grad_norm_user_embedding.weight': 0.8997847437858582, 'grad_norm_item_embedding.weight': 0.4363328516483307, 'total_grad_norm': 0.9999994712885335}\u001b[0m\n",
      "\u001b[32m2024-09-08 16:34:11.296\u001b[0m | \u001b[1mINFO    \u001b[0m | \u001b[36msrc.train_utils\u001b[0m:\u001b[36mtrain\u001b[0m:\u001b[36m124\u001b[0m - \u001b[1mStep 17300, Global Loss: 2.9961\u001b[0m\n",
      "\u001b[32m2024-09-08 16:34:11.296\u001b[0m | \u001b[1mINFO    \u001b[0m | \u001b[36msrc.train_utils\u001b[0m:\u001b[36mtrain\u001b[0m:\u001b[36m127\u001b[0m - \u001b[1mStep 17300, Learning Rate: 0.005003\u001b[0m\n",
      "\u001b[32m2024-09-08 16:34:11.296\u001b[0m | \u001b[1mINFO    \u001b[0m | \u001b[36msrc.train_utils\u001b[0m:\u001b[36mtrain\u001b[0m:\u001b[36m130\u001b[0m - \u001b[1mStep 17300, Gradient Norms: {'grad_norm_user_embedding.weight': 0.8007192015647888, 'grad_norm_item_embedding.weight': 0.59903883934021, 'total_grad_norm': 0.9999993853961205}\u001b[0m\n",
      "\u001b[32m2024-09-08 16:34:13.444\u001b[0m | \u001b[1mINFO    \u001b[0m | \u001b[36msrc.train_utils\u001b[0m:\u001b[36mtrain\u001b[0m:\u001b[36m124\u001b[0m - \u001b[1mStep 17400, Global Loss: 3.0123\u001b[0m\n",
      "\u001b[32m2024-09-08 16:34:13.445\u001b[0m | \u001b[1mINFO    \u001b[0m | \u001b[36msrc.train_utils\u001b[0m:\u001b[36mtrain\u001b[0m:\u001b[36m127\u001b[0m - \u001b[1mStep 17400, Learning Rate: 0.005003\u001b[0m\n",
      "\u001b[32m2024-09-08 16:34:13.445\u001b[0m | \u001b[1mINFO    \u001b[0m | \u001b[36msrc.train_utils\u001b[0m:\u001b[36mtrain\u001b[0m:\u001b[36m130\u001b[0m - \u001b[1mStep 17400, Gradient Norms: {'grad_norm_user_embedding.weight': 0.5508551597595215, 'grad_norm_item_embedding.weight': 0.8345997333526611, 'total_grad_norm': 0.9999990609725696}\u001b[0m\n",
      "\u001b[32m2024-09-08 16:34:15.626\u001b[0m | \u001b[1mINFO    \u001b[0m | \u001b[36msrc.train_utils\u001b[0m:\u001b[36mtrain\u001b[0m:\u001b[36m124\u001b[0m - \u001b[1mStep 17500, Global Loss: 3.0277\u001b[0m\n",
      "\u001b[32m2024-09-08 16:34:15.627\u001b[0m | \u001b[1mINFO    \u001b[0m | \u001b[36msrc.train_utils\u001b[0m:\u001b[36mtrain\u001b[0m:\u001b[36m127\u001b[0m - \u001b[1mStep 17500, Learning Rate: 0.005003\u001b[0m\n",
      "\u001b[32m2024-09-08 16:34:15.627\u001b[0m | \u001b[1mINFO    \u001b[0m | \u001b[36msrc.train_utils\u001b[0m:\u001b[36mtrain\u001b[0m:\u001b[36m130\u001b[0m - \u001b[1mStep 17500, Gradient Norms: {'grad_norm_user_embedding.weight': 0.8019858002662659, 'grad_norm_item_embedding.weight': 0.5973415970802307, 'total_grad_norm': 0.9999991037151401}\u001b[0m\n",
      "\u001b[32m2024-09-08 16:34:17.828\u001b[0m | \u001b[1mINFO    \u001b[0m | \u001b[36msrc.train_utils\u001b[0m:\u001b[36mtrain\u001b[0m:\u001b[36m124\u001b[0m - \u001b[1mStep 17600, Global Loss: 3.0497\u001b[0m\n",
      "\u001b[32m2024-09-08 16:34:17.828\u001b[0m | \u001b[1mINFO    \u001b[0m | \u001b[36msrc.train_utils\u001b[0m:\u001b[36mtrain\u001b[0m:\u001b[36m127\u001b[0m - \u001b[1mStep 17600, Learning Rate: 0.005003\u001b[0m\n",
      "\u001b[32m2024-09-08 16:34:17.829\u001b[0m | \u001b[1mINFO    \u001b[0m | \u001b[36msrc.train_utils\u001b[0m:\u001b[36mtrain\u001b[0m:\u001b[36m130\u001b[0m - \u001b[1mStep 17600, Gradient Norms: {'grad_norm_user_embedding.weight': 0.3067643642425537, 'grad_norm_item_embedding.weight': 0.8512197136878967, 'total_grad_norm': 0.9048090274417265}\u001b[0m\n",
      "\u001b[32m2024-09-08 16:34:20.048\u001b[0m | \u001b[1mINFO    \u001b[0m | \u001b[36msrc.train_utils\u001b[0m:\u001b[36mtrain\u001b[0m:\u001b[36m124\u001b[0m - \u001b[1mStep 17700, Global Loss: 3.0700\u001b[0m\n",
      "\u001b[32m2024-09-08 16:34:20.049\u001b[0m | \u001b[1mINFO    \u001b[0m | \u001b[36msrc.train_utils\u001b[0m:\u001b[36mtrain\u001b[0m:\u001b[36m127\u001b[0m - \u001b[1mStep 17700, Learning Rate: 0.005003\u001b[0m\n",
      "\u001b[32m2024-09-08 16:34:20.049\u001b[0m | \u001b[1mINFO    \u001b[0m | \u001b[36msrc.train_utils\u001b[0m:\u001b[36mtrain\u001b[0m:\u001b[36m130\u001b[0m - \u001b[1mStep 17700, Gradient Norms: {'grad_norm_user_embedding.weight': 0.9632006883621216, 'grad_norm_item_embedding.weight': 0.268781453371048, 'total_grad_norm': 0.9999995178686426}\u001b[0m\n",
      "\u001b[32m2024-09-08 16:34:22.213\u001b[0m | \u001b[1mINFO    \u001b[0m | \u001b[36msrc.train_utils\u001b[0m:\u001b[36mtrain\u001b[0m:\u001b[36m124\u001b[0m - \u001b[1mStep 17800, Global Loss: 3.0927\u001b[0m\n",
      "\u001b[32m2024-09-08 16:34:22.213\u001b[0m | \u001b[1mINFO    \u001b[0m | \u001b[36msrc.train_utils\u001b[0m:\u001b[36mtrain\u001b[0m:\u001b[36m127\u001b[0m - \u001b[1mStep 17800, Learning Rate: 0.005003\u001b[0m\n",
      "\u001b[32m2024-09-08 16:34:22.214\u001b[0m | \u001b[1mINFO    \u001b[0m | \u001b[36msrc.train_utils\u001b[0m:\u001b[36mtrain\u001b[0m:\u001b[36m130\u001b[0m - \u001b[1mStep 17800, Gradient Norms: {'grad_norm_user_embedding.weight': 0.6832435131072998, 'grad_norm_item_embedding.weight': 0.7301892042160034, 'total_grad_norm': 0.9999989860778886}\u001b[0m\n",
      "\u001b[32m2024-09-08 16:34:24.445\u001b[0m | \u001b[1mINFO    \u001b[0m | \u001b[36msrc.train_utils\u001b[0m:\u001b[36mtrain\u001b[0m:\u001b[36m124\u001b[0m - \u001b[1mStep 17900, Global Loss: 3.1048\u001b[0m\n",
      "\u001b[32m2024-09-08 16:34:24.445\u001b[0m | \u001b[1mINFO    \u001b[0m | \u001b[36msrc.train_utils\u001b[0m:\u001b[36mtrain\u001b[0m:\u001b[36m127\u001b[0m - \u001b[1mStep 17900, Learning Rate: 0.005003\u001b[0m\n",
      "\u001b[32m2024-09-08 16:34:24.445\u001b[0m | \u001b[1mINFO    \u001b[0m | \u001b[36msrc.train_utils\u001b[0m:\u001b[36mtrain\u001b[0m:\u001b[36m130\u001b[0m - \u001b[1mStep 17900, Gradient Norms: {'grad_norm_user_embedding.weight': 0.7347370386123657, 'grad_norm_item_embedding.weight': 0.6783510446548462, 'total_grad_norm': 0.9999993278463691}\u001b[0m\n",
      "\u001b[32m2024-09-08 16:34:26.657\u001b[0m | \u001b[1mINFO    \u001b[0m | \u001b[36msrc.train_utils\u001b[0m:\u001b[36mtrain\u001b[0m:\u001b[36m124\u001b[0m - \u001b[1mStep 18000, Global Loss: 3.1298\u001b[0m\n",
      "\u001b[32m2024-09-08 16:34:26.658\u001b[0m | \u001b[1mINFO    \u001b[0m | \u001b[36msrc.train_utils\u001b[0m:\u001b[36mtrain\u001b[0m:\u001b[36m127\u001b[0m - \u001b[1mStep 18000, Learning Rate: 0.004503\u001b[0m\n",
      "\u001b[32m2024-09-08 16:34:26.658\u001b[0m | \u001b[1mINFO    \u001b[0m | \u001b[36msrc.train_utils\u001b[0m:\u001b[36mtrain\u001b[0m:\u001b[36m130\u001b[0m - \u001b[1mStep 18000, Gradient Norms: {'grad_norm_user_embedding.weight': 0.5222557783126831, 'grad_norm_item_embedding.weight': 0.16865234076976776, 'total_grad_norm': 0.5488120899070175}\u001b[0m\n",
      "\u001b[32m2024-09-08 16:34:28.835\u001b[0m | \u001b[1mINFO    \u001b[0m | \u001b[36msrc.train_utils\u001b[0m:\u001b[36mtrain\u001b[0m:\u001b[36m142\u001b[0m - \u001b[1mEpoch 4, Loss: 3.1575\u001b[0m\n",
      "\u001b[32m2024-09-08 16:34:41.019\u001b[0m | \u001b[1mINFO    \u001b[0m | \u001b[36msrc.train_utils\u001b[0m:\u001b[36mtrain\u001b[0m:\u001b[36m160\u001b[0m - \u001b[1mEpoch 4, Validation Loss: 12.3064\u001b[0m\n"
     ]
    },
    {
     "data": {
      "application/vnd.jupyter.widget-view+json": {
       "model_id": "",
       "version_major": 2,
       "version_minor": 0
      },
      "text/plain": [
       "Training Epoch 5:   0%|          | 0/4524 [00:00<?, ?it/s]"
      ]
     },
     "metadata": {},
     "output_type": "display_data"
    },
    {
     "name": "stderr",
     "output_type": "stream",
     "text": [
      "\u001b[32m2024-09-08 16:34:41.116\u001b[0m | \u001b[1mINFO    \u001b[0m | \u001b[36msrc.train_utils\u001b[0m:\u001b[36mtrain\u001b[0m:\u001b[36m124\u001b[0m - \u001b[1mStep 18100, Global Loss: 1.7083\u001b[0m\n",
      "\u001b[32m2024-09-08 16:34:41.117\u001b[0m | \u001b[1mINFO    \u001b[0m | \u001b[36msrc.train_utils\u001b[0m:\u001b[36mtrain\u001b[0m:\u001b[36m127\u001b[0m - \u001b[1mStep 18100, Learning Rate: 0.004503\u001b[0m\n",
      "\u001b[32m2024-09-08 16:34:41.117\u001b[0m | \u001b[1mINFO    \u001b[0m | \u001b[36msrc.train_utils\u001b[0m:\u001b[36mtrain\u001b[0m:\u001b[36m130\u001b[0m - \u001b[1mStep 18100, Gradient Norms: {'grad_norm_user_embedding.weight': 0.3606943190097809, 'grad_norm_item_embedding.weight': 0.6916718482971191, 'total_grad_norm': 0.7800707259554627}\u001b[0m\n",
      "\u001b[32m2024-09-08 16:34:43.343\u001b[0m | \u001b[1mINFO    \u001b[0m | \u001b[36msrc.train_utils\u001b[0m:\u001b[36mtrain\u001b[0m:\u001b[36m124\u001b[0m - \u001b[1mStep 18200, Global Loss: 1.8452\u001b[0m\n",
      "\u001b[32m2024-09-08 16:34:43.343\u001b[0m | \u001b[1mINFO    \u001b[0m | \u001b[36msrc.train_utils\u001b[0m:\u001b[36mtrain\u001b[0m:\u001b[36m127\u001b[0m - \u001b[1mStep 18200, Learning Rate: 0.004503\u001b[0m\n",
      "\u001b[32m2024-09-08 16:34:43.344\u001b[0m | \u001b[1mINFO    \u001b[0m | \u001b[36msrc.train_utils\u001b[0m:\u001b[36mtrain\u001b[0m:\u001b[36m130\u001b[0m - \u001b[1mStep 18200, Gradient Norms: {'grad_norm_user_embedding.weight': 0.35776984691619873, 'grad_norm_item_embedding.weight': 0.3625970482826233, 'total_grad_norm': 0.5093877528815464}\u001b[0m\n",
      "\u001b[32m2024-09-08 16:34:45.581\u001b[0m | \u001b[1mINFO    \u001b[0m | \u001b[36msrc.train_utils\u001b[0m:\u001b[36mtrain\u001b[0m:\u001b[36m124\u001b[0m - \u001b[1mStep 18300, Global Loss: 1.7735\u001b[0m\n",
      "\u001b[32m2024-09-08 16:34:45.582\u001b[0m | \u001b[1mINFO    \u001b[0m | \u001b[36msrc.train_utils\u001b[0m:\u001b[36mtrain\u001b[0m:\u001b[36m127\u001b[0m - \u001b[1mStep 18300, Learning Rate: 0.004503\u001b[0m\n",
      "\u001b[32m2024-09-08 16:34:45.582\u001b[0m | \u001b[1mINFO    \u001b[0m | \u001b[36msrc.train_utils\u001b[0m:\u001b[36mtrain\u001b[0m:\u001b[36m130\u001b[0m - \u001b[1mStep 18300, Gradient Norms: {'grad_norm_user_embedding.weight': 0.6320906281471252, 'grad_norm_item_embedding.weight': 0.2990536689758301, 'total_grad_norm': 0.6992650850137827}\u001b[0m\n",
      "\u001b[32m2024-09-08 16:34:47.841\u001b[0m | \u001b[1mINFO    \u001b[0m | \u001b[36msrc.train_utils\u001b[0m:\u001b[36mtrain\u001b[0m:\u001b[36m124\u001b[0m - \u001b[1mStep 18400, Global Loss: 1.8143\u001b[0m\n",
      "\u001b[32m2024-09-08 16:34:47.841\u001b[0m | \u001b[1mINFO    \u001b[0m | \u001b[36msrc.train_utils\u001b[0m:\u001b[36mtrain\u001b[0m:\u001b[36m127\u001b[0m - \u001b[1mStep 18400, Learning Rate: 0.004503\u001b[0m\n",
      "\u001b[32m2024-09-08 16:34:47.842\u001b[0m | \u001b[1mINFO    \u001b[0m | \u001b[36msrc.train_utils\u001b[0m:\u001b[36mtrain\u001b[0m:\u001b[36m130\u001b[0m - \u001b[1mStep 18400, Gradient Norms: {'grad_norm_user_embedding.weight': 0.673862874507904, 'grad_norm_item_embedding.weight': 0.3518342971801758, 'total_grad_norm': 0.7601832320646934}\u001b[0m\n",
      "\u001b[32m2024-09-08 16:34:50.026\u001b[0m | \u001b[1mINFO    \u001b[0m | \u001b[36msrc.train_utils\u001b[0m:\u001b[36mtrain\u001b[0m:\u001b[36m124\u001b[0m - \u001b[1mStep 18500, Global Loss: 1.8562\u001b[0m\n",
      "\u001b[32m2024-09-08 16:34:50.026\u001b[0m | \u001b[1mINFO    \u001b[0m | \u001b[36msrc.train_utils\u001b[0m:\u001b[36mtrain\u001b[0m:\u001b[36m127\u001b[0m - \u001b[1mStep 18500, Learning Rate: 0.004503\u001b[0m\n",
      "\u001b[32m2024-09-08 16:34:50.026\u001b[0m | \u001b[1mINFO    \u001b[0m | \u001b[36msrc.train_utils\u001b[0m:\u001b[36mtrain\u001b[0m:\u001b[36m130\u001b[0m - \u001b[1mStep 18500, Gradient Norms: {'grad_norm_user_embedding.weight': 0.6841973662376404, 'grad_norm_item_embedding.weight': 0.32301706075668335, 'total_grad_norm': 0.7566148673575022}\u001b[0m\n",
      "\u001b[32m2024-09-08 16:34:52.250\u001b[0m | \u001b[1mINFO    \u001b[0m | \u001b[36msrc.train_utils\u001b[0m:\u001b[36mtrain\u001b[0m:\u001b[36m124\u001b[0m - \u001b[1mStep 18600, Global Loss: 1.9210\u001b[0m\n",
      "\u001b[32m2024-09-08 16:34:52.251\u001b[0m | \u001b[1mINFO    \u001b[0m | \u001b[36msrc.train_utils\u001b[0m:\u001b[36mtrain\u001b[0m:\u001b[36m127\u001b[0m - \u001b[1mStep 18600, Learning Rate: 0.004503\u001b[0m\n",
      "\u001b[32m2024-09-08 16:34:52.251\u001b[0m | \u001b[1mINFO    \u001b[0m | \u001b[36msrc.train_utils\u001b[0m:\u001b[36mtrain\u001b[0m:\u001b[36m130\u001b[0m - \u001b[1mStep 18600, Gradient Norms: {'grad_norm_user_embedding.weight': 0.9353662133216858, 'grad_norm_item_embedding.weight': 0.3536781370639801, 'total_grad_norm': 0.9999990888299833}\u001b[0m\n",
      "\u001b[32m2024-09-08 16:34:54.402\u001b[0m | \u001b[1mINFO    \u001b[0m | \u001b[36msrc.train_utils\u001b[0m:\u001b[36mtrain\u001b[0m:\u001b[36m124\u001b[0m - \u001b[1mStep 18700, Global Loss: 1.9306\u001b[0m\n",
      "\u001b[32m2024-09-08 16:34:54.403\u001b[0m | \u001b[1mINFO    \u001b[0m | \u001b[36msrc.train_utils\u001b[0m:\u001b[36mtrain\u001b[0m:\u001b[36m127\u001b[0m - \u001b[1mStep 18700, Learning Rate: 0.004503\u001b[0m\n",
      "\u001b[32m2024-09-08 16:34:54.403\u001b[0m | \u001b[1mINFO    \u001b[0m | \u001b[36msrc.train_utils\u001b[0m:\u001b[36mtrain\u001b[0m:\u001b[36m130\u001b[0m - \u001b[1mStep 18700, Gradient Norms: {'grad_norm_user_embedding.weight': 0.9601965546607971, 'grad_norm_item_embedding.weight': 0.2793225646018982, 'total_grad_norm': 0.999999259338849}\u001b[0m\n",
      "\u001b[32m2024-09-08 16:34:56.565\u001b[0m | \u001b[1mINFO    \u001b[0m | \u001b[36msrc.train_utils\u001b[0m:\u001b[36mtrain\u001b[0m:\u001b[36m124\u001b[0m - \u001b[1mStep 18800, Global Loss: 1.9150\u001b[0m\n",
      "\u001b[32m2024-09-08 16:34:56.565\u001b[0m | \u001b[1mINFO    \u001b[0m | \u001b[36msrc.train_utils\u001b[0m:\u001b[36mtrain\u001b[0m:\u001b[36m127\u001b[0m - \u001b[1mStep 18800, Learning Rate: 0.004503\u001b[0m\n",
      "\u001b[32m2024-09-08 16:34:56.566\u001b[0m | \u001b[1mINFO    \u001b[0m | \u001b[36msrc.train_utils\u001b[0m:\u001b[36mtrain\u001b[0m:\u001b[36m130\u001b[0m - \u001b[1mStep 18800, Gradient Norms: {'grad_norm_user_embedding.weight': 0.9674995541572571, 'grad_norm_item_embedding.weight': 0.2528698742389679, 'total_grad_norm': 0.9999992802958023}\u001b[0m\n",
      "\u001b[32m2024-09-08 16:34:58.733\u001b[0m | \u001b[1mINFO    \u001b[0m | \u001b[36msrc.train_utils\u001b[0m:\u001b[36mtrain\u001b[0m:\u001b[36m124\u001b[0m - \u001b[1mStep 18900, Global Loss: 1.9021\u001b[0m\n",
      "\u001b[32m2024-09-08 16:34:58.733\u001b[0m | \u001b[1mINFO    \u001b[0m | \u001b[36msrc.train_utils\u001b[0m:\u001b[36mtrain\u001b[0m:\u001b[36m127\u001b[0m - \u001b[1mStep 18900, Learning Rate: 0.004503\u001b[0m\n",
      "\u001b[32m2024-09-08 16:34:58.734\u001b[0m | \u001b[1mINFO    \u001b[0m | \u001b[36msrc.train_utils\u001b[0m:\u001b[36mtrain\u001b[0m:\u001b[36m130\u001b[0m - \u001b[1mStep 18900, Gradient Norms: {'grad_norm_user_embedding.weight': 0.6189083456993103, 'grad_norm_item_embedding.weight': 0.7854623198509216, 'total_grad_norm': 0.9999992981406779}\u001b[0m\n",
      "\u001b[32m2024-09-08 16:35:00.959\u001b[0m | \u001b[1mINFO    \u001b[0m | \u001b[36msrc.train_utils\u001b[0m:\u001b[36mtrain\u001b[0m:\u001b[36m124\u001b[0m - \u001b[1mStep 19000, Global Loss: 1.9485\u001b[0m\n",
      "\u001b[32m2024-09-08 16:35:00.959\u001b[0m | \u001b[1mINFO    \u001b[0m | \u001b[36msrc.train_utils\u001b[0m:\u001b[36mtrain\u001b[0m:\u001b[36m127\u001b[0m - \u001b[1mStep 19000, Learning Rate: 0.004053\u001b[0m\n",
      "\u001b[32m2024-09-08 16:35:00.959\u001b[0m | \u001b[1mINFO    \u001b[0m | \u001b[36msrc.train_utils\u001b[0m:\u001b[36mtrain\u001b[0m:\u001b[36m130\u001b[0m - \u001b[1mStep 19000, Gradient Norms: {'grad_norm_user_embedding.weight': 0.46683815121650696, 'grad_norm_item_embedding.weight': 0.5601962208747864, 'total_grad_norm': 0.7292171592287435}\u001b[0m\n",
      "\u001b[32m2024-09-08 16:35:03.188\u001b[0m | \u001b[1mINFO    \u001b[0m | \u001b[36msrc.train_utils\u001b[0m:\u001b[36mtrain\u001b[0m:\u001b[36m124\u001b[0m - \u001b[1mStep 19100, Global Loss: 1.9598\u001b[0m\n",
      "\u001b[32m2024-09-08 16:35:03.189\u001b[0m | \u001b[1mINFO    \u001b[0m | \u001b[36msrc.train_utils\u001b[0m:\u001b[36mtrain\u001b[0m:\u001b[36m127\u001b[0m - \u001b[1mStep 19100, Learning Rate: 0.004053\u001b[0m\n",
      "\u001b[32m2024-09-08 16:35:03.189\u001b[0m | \u001b[1mINFO    \u001b[0m | \u001b[36msrc.train_utils\u001b[0m:\u001b[36mtrain\u001b[0m:\u001b[36m130\u001b[0m - \u001b[1mStep 19100, Gradient Norms: {'grad_norm_user_embedding.weight': 0.571894645690918, 'grad_norm_item_embedding.weight': 0.33687645196914673, 'total_grad_norm': 0.6637388263927774}\u001b[0m\n",
      "\u001b[32m2024-09-08 16:35:05.361\u001b[0m | \u001b[1mINFO    \u001b[0m | \u001b[36msrc.train_utils\u001b[0m:\u001b[36mtrain\u001b[0m:\u001b[36m124\u001b[0m - \u001b[1mStep 19200, Global Loss: 2.0059\u001b[0m\n",
      "\u001b[32m2024-09-08 16:35:05.362\u001b[0m | \u001b[1mINFO    \u001b[0m | \u001b[36msrc.train_utils\u001b[0m:\u001b[36mtrain\u001b[0m:\u001b[36m127\u001b[0m - \u001b[1mStep 19200, Learning Rate: 0.004053\u001b[0m\n",
      "\u001b[32m2024-09-08 16:35:05.362\u001b[0m | \u001b[1mINFO    \u001b[0m | \u001b[36msrc.train_utils\u001b[0m:\u001b[36mtrain\u001b[0m:\u001b[36m130\u001b[0m - \u001b[1mStep 19200, Gradient Norms: {'grad_norm_user_embedding.weight': 0.9344881176948547, 'grad_norm_item_embedding.weight': 0.35599270462989807, 'total_grad_norm': 0.9999994239311253}\u001b[0m\n",
      "\u001b[32m2024-09-08 16:35:07.545\u001b[0m | \u001b[1mINFO    \u001b[0m | \u001b[36msrc.train_utils\u001b[0m:\u001b[36mtrain\u001b[0m:\u001b[36m124\u001b[0m - \u001b[1mStep 19300, Global Loss: 2.0023\u001b[0m\n",
      "\u001b[32m2024-09-08 16:35:07.546\u001b[0m | \u001b[1mINFO    \u001b[0m | \u001b[36msrc.train_utils\u001b[0m:\u001b[36mtrain\u001b[0m:\u001b[36m127\u001b[0m - \u001b[1mStep 19300, Learning Rate: 0.004053\u001b[0m\n",
      "\u001b[32m2024-09-08 16:35:07.546\u001b[0m | \u001b[1mINFO    \u001b[0m | \u001b[36msrc.train_utils\u001b[0m:\u001b[36mtrain\u001b[0m:\u001b[36m130\u001b[0m - \u001b[1mStep 19300, Gradient Norms: {'grad_norm_user_embedding.weight': 0.8205679059028625, 'grad_norm_item_embedding.weight': 0.5052239298820496, 'total_grad_norm': 0.9636300677766708}\u001b[0m\n",
      "\u001b[32m2024-09-08 16:35:09.762\u001b[0m | \u001b[1mINFO    \u001b[0m | \u001b[36msrc.train_utils\u001b[0m:\u001b[36mtrain\u001b[0m:\u001b[36m124\u001b[0m - \u001b[1mStep 19400, Global Loss: 2.0087\u001b[0m\n",
      "\u001b[32m2024-09-08 16:35:09.762\u001b[0m | \u001b[1mINFO    \u001b[0m | \u001b[36msrc.train_utils\u001b[0m:\u001b[36mtrain\u001b[0m:\u001b[36m127\u001b[0m - \u001b[1mStep 19400, Learning Rate: 0.004053\u001b[0m\n",
      "\u001b[32m2024-09-08 16:35:09.763\u001b[0m | \u001b[1mINFO    \u001b[0m | \u001b[36msrc.train_utils\u001b[0m:\u001b[36mtrain\u001b[0m:\u001b[36m130\u001b[0m - \u001b[1mStep 19400, Gradient Norms: {'grad_norm_user_embedding.weight': 0.745690107345581, 'grad_norm_item_embedding.weight': 0.36724981665611267, 'total_grad_norm': 0.8312196845762332}\u001b[0m\n",
      "\u001b[32m2024-09-08 16:35:11.829\u001b[0m | \u001b[1mINFO    \u001b[0m | \u001b[36msrc.train_utils\u001b[0m:\u001b[36mtrain\u001b[0m:\u001b[36m124\u001b[0m - \u001b[1mStep 19500, Global Loss: 2.0272\u001b[0m\n",
      "\u001b[32m2024-09-08 16:35:11.829\u001b[0m | \u001b[1mINFO    \u001b[0m | \u001b[36msrc.train_utils\u001b[0m:\u001b[36mtrain\u001b[0m:\u001b[36m127\u001b[0m - \u001b[1mStep 19500, Learning Rate: 0.004053\u001b[0m\n",
      "\u001b[32m2024-09-08 16:35:11.830\u001b[0m | \u001b[1mINFO    \u001b[0m | \u001b[36msrc.train_utils\u001b[0m:\u001b[36mtrain\u001b[0m:\u001b[36m130\u001b[0m - \u001b[1mStep 19500, Gradient Norms: {'grad_norm_user_embedding.weight': 0.6335547566413879, 'grad_norm_item_embedding.weight': 0.27176374197006226, 'total_grad_norm': 0.6893817238022044}\u001b[0m\n",
      "\u001b[32m2024-09-08 16:35:13.976\u001b[0m | \u001b[1mINFO    \u001b[0m | \u001b[36msrc.train_utils\u001b[0m:\u001b[36mtrain\u001b[0m:\u001b[36m124\u001b[0m - \u001b[1mStep 19600, Global Loss: 2.0584\u001b[0m\n",
      "\u001b[32m2024-09-08 16:35:13.977\u001b[0m | \u001b[1mINFO    \u001b[0m | \u001b[36msrc.train_utils\u001b[0m:\u001b[36mtrain\u001b[0m:\u001b[36m127\u001b[0m - \u001b[1mStep 19600, Learning Rate: 0.004053\u001b[0m\n",
      "\u001b[32m2024-09-08 16:35:13.977\u001b[0m | \u001b[1mINFO    \u001b[0m | \u001b[36msrc.train_utils\u001b[0m:\u001b[36mtrain\u001b[0m:\u001b[36m130\u001b[0m - \u001b[1mStep 19600, Gradient Norms: {'grad_norm_user_embedding.weight': 0.5727947950363159, 'grad_norm_item_embedding.weight': 0.6333401203155518, 'total_grad_norm': 0.853940036080996}\u001b[0m\n",
      "\u001b[32m2024-09-08 16:35:16.197\u001b[0m | \u001b[1mINFO    \u001b[0m | \u001b[36msrc.train_utils\u001b[0m:\u001b[36mtrain\u001b[0m:\u001b[36m124\u001b[0m - \u001b[1mStep 19700, Global Loss: 2.0815\u001b[0m\n",
      "\u001b[32m2024-09-08 16:35:16.197\u001b[0m | \u001b[1mINFO    \u001b[0m | \u001b[36msrc.train_utils\u001b[0m:\u001b[36mtrain\u001b[0m:\u001b[36m127\u001b[0m - \u001b[1mStep 19700, Learning Rate: 0.004053\u001b[0m\n",
      "\u001b[32m2024-09-08 16:35:16.197\u001b[0m | \u001b[1mINFO    \u001b[0m | \u001b[36msrc.train_utils\u001b[0m:\u001b[36mtrain\u001b[0m:\u001b[36m130\u001b[0m - \u001b[1mStep 19700, Gradient Norms: {'grad_norm_user_embedding.weight': 0.5226188898086548, 'grad_norm_item_embedding.weight': 0.43289291858673096, 'total_grad_norm': 0.678621236734726}\u001b[0m\n",
      "\u001b[32m2024-09-08 16:35:18.409\u001b[0m | \u001b[1mINFO    \u001b[0m | \u001b[36msrc.train_utils\u001b[0m:\u001b[36mtrain\u001b[0m:\u001b[36m124\u001b[0m - \u001b[1mStep 19800, Global Loss: 2.1014\u001b[0m\n",
      "\u001b[32m2024-09-08 16:35:18.409\u001b[0m | \u001b[1mINFO    \u001b[0m | \u001b[36msrc.train_utils\u001b[0m:\u001b[36mtrain\u001b[0m:\u001b[36m127\u001b[0m - \u001b[1mStep 19800, Learning Rate: 0.004053\u001b[0m\n",
      "\u001b[32m2024-09-08 16:35:18.409\u001b[0m | \u001b[1mINFO    \u001b[0m | \u001b[36msrc.train_utils\u001b[0m:\u001b[36mtrain\u001b[0m:\u001b[36m130\u001b[0m - \u001b[1mStep 19800, Gradient Norms: {'grad_norm_user_embedding.weight': 0.699871301651001, 'grad_norm_item_embedding.weight': 0.4083006680011749, 'total_grad_norm': 0.8102649408464321}\u001b[0m\n",
      "\u001b[32m2024-09-08 16:35:20.596\u001b[0m | \u001b[1mINFO    \u001b[0m | \u001b[36msrc.train_utils\u001b[0m:\u001b[36mtrain\u001b[0m:\u001b[36m124\u001b[0m - \u001b[1mStep 19900, Global Loss: 2.1205\u001b[0m\n",
      "\u001b[32m2024-09-08 16:35:20.597\u001b[0m | \u001b[1mINFO    \u001b[0m | \u001b[36msrc.train_utils\u001b[0m:\u001b[36mtrain\u001b[0m:\u001b[36m127\u001b[0m - \u001b[1mStep 19900, Learning Rate: 0.004053\u001b[0m\n",
      "\u001b[32m2024-09-08 16:35:20.597\u001b[0m | \u001b[1mINFO    \u001b[0m | \u001b[36msrc.train_utils\u001b[0m:\u001b[36mtrain\u001b[0m:\u001b[36m130\u001b[0m - \u001b[1mStep 19900, Gradient Norms: {'grad_norm_user_embedding.weight': 0.6794137954711914, 'grad_norm_item_embedding.weight': 0.7337543368339539, 'total_grad_norm': 0.9999992661493334}\u001b[0m\n",
      "\u001b[32m2024-09-08 16:35:22.748\u001b[0m | \u001b[1mINFO    \u001b[0m | \u001b[36msrc.train_utils\u001b[0m:\u001b[36mtrain\u001b[0m:\u001b[36m124\u001b[0m - \u001b[1mStep 20000, Global Loss: 2.1116\u001b[0m\n",
      "\u001b[32m2024-09-08 16:35:22.748\u001b[0m | \u001b[1mINFO    \u001b[0m | \u001b[36msrc.train_utils\u001b[0m:\u001b[36mtrain\u001b[0m:\u001b[36m127\u001b[0m - \u001b[1mStep 20000, Learning Rate: 0.003647\u001b[0m\n",
      "\u001b[32m2024-09-08 16:35:22.748\u001b[0m | \u001b[1mINFO    \u001b[0m | \u001b[36msrc.train_utils\u001b[0m:\u001b[36mtrain\u001b[0m:\u001b[36m130\u001b[0m - \u001b[1mStep 20000, Gradient Norms: {'grad_norm_user_embedding.weight': 0.8112912178039551, 'grad_norm_item_embedding.weight': 0.3922191262245178, 'total_grad_norm': 0.9011266742595897}\u001b[0m\n",
      "\u001b[32m2024-09-08 16:35:24.928\u001b[0m | \u001b[1mINFO    \u001b[0m | \u001b[36msrc.train_utils\u001b[0m:\u001b[36mtrain\u001b[0m:\u001b[36m124\u001b[0m - \u001b[1mStep 20100, Global Loss: 2.1319\u001b[0m\n",
      "\u001b[32m2024-09-08 16:35:24.929\u001b[0m | \u001b[1mINFO    \u001b[0m | \u001b[36msrc.train_utils\u001b[0m:\u001b[36mtrain\u001b[0m:\u001b[36m127\u001b[0m - \u001b[1mStep 20100, Learning Rate: 0.003647\u001b[0m\n",
      "\u001b[32m2024-09-08 16:35:24.929\u001b[0m | \u001b[1mINFO    \u001b[0m | \u001b[36msrc.train_utils\u001b[0m:\u001b[36mtrain\u001b[0m:\u001b[36m130\u001b[0m - \u001b[1mStep 20100, Gradient Norms: {'grad_norm_user_embedding.weight': 0.4447087347507477, 'grad_norm_item_embedding.weight': 0.146183043718338, 'total_grad_norm': 0.468118938982785}\u001b[0m\n",
      "\u001b[32m2024-09-08 16:35:27.094\u001b[0m | \u001b[1mINFO    \u001b[0m | \u001b[36msrc.train_utils\u001b[0m:\u001b[36mtrain\u001b[0m:\u001b[36m124\u001b[0m - \u001b[1mStep 20200, Global Loss: 2.1441\u001b[0m\n",
      "\u001b[32m2024-09-08 16:35:27.094\u001b[0m | \u001b[1mINFO    \u001b[0m | \u001b[36msrc.train_utils\u001b[0m:\u001b[36mtrain\u001b[0m:\u001b[36m127\u001b[0m - \u001b[1mStep 20200, Learning Rate: 0.003647\u001b[0m\n",
      "\u001b[32m2024-09-08 16:35:27.095\u001b[0m | \u001b[1mINFO    \u001b[0m | \u001b[36msrc.train_utils\u001b[0m:\u001b[36mtrain\u001b[0m:\u001b[36m130\u001b[0m - \u001b[1mStep 20200, Gradient Norms: {'grad_norm_user_embedding.weight': 0.5352015495300293, 'grad_norm_item_embedding.weight': 0.8447234034538269, 'total_grad_norm': 0.9999991634806308}\u001b[0m\n",
      "\u001b[32m2024-09-08 16:35:29.276\u001b[0m | \u001b[1mINFO    \u001b[0m | \u001b[36msrc.train_utils\u001b[0m:\u001b[36mtrain\u001b[0m:\u001b[36m124\u001b[0m - \u001b[1mStep 20300, Global Loss: 2.1699\u001b[0m\n",
      "\u001b[32m2024-09-08 16:35:29.276\u001b[0m | \u001b[1mINFO    \u001b[0m | \u001b[36msrc.train_utils\u001b[0m:\u001b[36mtrain\u001b[0m:\u001b[36m127\u001b[0m - \u001b[1mStep 20300, Learning Rate: 0.003647\u001b[0m\n",
      "\u001b[32m2024-09-08 16:35:29.276\u001b[0m | \u001b[1mINFO    \u001b[0m | \u001b[36msrc.train_utils\u001b[0m:\u001b[36mtrain\u001b[0m:\u001b[36m130\u001b[0m - \u001b[1mStep 20300, Gradient Norms: {'grad_norm_user_embedding.weight': 0.7531692981719971, 'grad_norm_item_embedding.weight': 0.6076675057411194, 'total_grad_norm': 0.9677415921838495}\u001b[0m\n",
      "\u001b[32m2024-09-08 16:35:31.432\u001b[0m | \u001b[1mINFO    \u001b[0m | \u001b[36msrc.train_utils\u001b[0m:\u001b[36mtrain\u001b[0m:\u001b[36m124\u001b[0m - \u001b[1mStep 20400, Global Loss: 2.1813\u001b[0m\n",
      "\u001b[32m2024-09-08 16:35:31.432\u001b[0m | \u001b[1mINFO    \u001b[0m | \u001b[36msrc.train_utils\u001b[0m:\u001b[36mtrain\u001b[0m:\u001b[36m127\u001b[0m - \u001b[1mStep 20400, Learning Rate: 0.003647\u001b[0m\n",
      "\u001b[32m2024-09-08 16:35:31.433\u001b[0m | \u001b[1mINFO    \u001b[0m | \u001b[36msrc.train_utils\u001b[0m:\u001b[36mtrain\u001b[0m:\u001b[36m130\u001b[0m - \u001b[1mStep 20400, Gradient Norms: {'grad_norm_user_embedding.weight': 0.7580006718635559, 'grad_norm_item_embedding.weight': 0.5141640305519104, 'total_grad_norm': 0.9159310393577609}\u001b[0m\n",
      "\u001b[32m2024-09-08 16:35:33.675\u001b[0m | \u001b[1mINFO    \u001b[0m | \u001b[36msrc.train_utils\u001b[0m:\u001b[36mtrain\u001b[0m:\u001b[36m124\u001b[0m - \u001b[1mStep 20500, Global Loss: 2.1859\u001b[0m\n",
      "\u001b[32m2024-09-08 16:35:33.676\u001b[0m | \u001b[1mINFO    \u001b[0m | \u001b[36msrc.train_utils\u001b[0m:\u001b[36mtrain\u001b[0m:\u001b[36m127\u001b[0m - \u001b[1mStep 20500, Learning Rate: 0.003647\u001b[0m\n",
      "\u001b[32m2024-09-08 16:35:33.676\u001b[0m | \u001b[1mINFO    \u001b[0m | \u001b[36msrc.train_utils\u001b[0m:\u001b[36mtrain\u001b[0m:\u001b[36m130\u001b[0m - \u001b[1mStep 20500, Gradient Norms: {'grad_norm_user_embedding.weight': 0.9667279124259949, 'grad_norm_item_embedding.weight': 0.2558044195175171, 'total_grad_norm': 0.999999378853915}\u001b[0m\n",
      "\u001b[32m2024-09-08 16:35:35.882\u001b[0m | \u001b[1mINFO    \u001b[0m | \u001b[36msrc.train_utils\u001b[0m:\u001b[36mtrain\u001b[0m:\u001b[36m124\u001b[0m - \u001b[1mStep 20600, Global Loss: 2.2007\u001b[0m\n",
      "\u001b[32m2024-09-08 16:35:35.882\u001b[0m | \u001b[1mINFO    \u001b[0m | \u001b[36msrc.train_utils\u001b[0m:\u001b[36mtrain\u001b[0m:\u001b[36m127\u001b[0m - \u001b[1mStep 20600, Learning Rate: 0.003647\u001b[0m\n",
      "\u001b[32m2024-09-08 16:35:35.883\u001b[0m | \u001b[1mINFO    \u001b[0m | \u001b[36msrc.train_utils\u001b[0m:\u001b[36mtrain\u001b[0m:\u001b[36m130\u001b[0m - \u001b[1mStep 20600, Gradient Norms: {'grad_norm_user_embedding.weight': 0.9169421195983887, 'grad_norm_item_embedding.weight': 0.39901888370513916, 'total_grad_norm': 0.9999994601232948}\u001b[0m\n",
      "\u001b[32m2024-09-08 16:35:38.070\u001b[0m | \u001b[1mINFO    \u001b[0m | \u001b[36msrc.train_utils\u001b[0m:\u001b[36mtrain\u001b[0m:\u001b[36m124\u001b[0m - \u001b[1mStep 20700, Global Loss: 2.2072\u001b[0m\n",
      "\u001b[32m2024-09-08 16:35:38.070\u001b[0m | \u001b[1mINFO    \u001b[0m | \u001b[36msrc.train_utils\u001b[0m:\u001b[36mtrain\u001b[0m:\u001b[36m127\u001b[0m - \u001b[1mStep 20700, Learning Rate: 0.003647\u001b[0m\n",
      "\u001b[32m2024-09-08 16:35:38.071\u001b[0m | \u001b[1mINFO    \u001b[0m | \u001b[36msrc.train_utils\u001b[0m:\u001b[36mtrain\u001b[0m:\u001b[36m130\u001b[0m - \u001b[1mStep 20700, Gradient Norms: {'grad_norm_user_embedding.weight': 0.7535797953605652, 'grad_norm_item_embedding.weight': 0.6573553681373596, 'total_grad_norm': 0.9999992939970882}\u001b[0m\n",
      "\u001b[32m2024-09-08 16:35:40.265\u001b[0m | \u001b[1mINFO    \u001b[0m | \u001b[36msrc.train_utils\u001b[0m:\u001b[36mtrain\u001b[0m:\u001b[36m124\u001b[0m - \u001b[1mStep 20800, Global Loss: 2.2238\u001b[0m\n",
      "\u001b[32m2024-09-08 16:35:40.265\u001b[0m | \u001b[1mINFO    \u001b[0m | \u001b[36msrc.train_utils\u001b[0m:\u001b[36mtrain\u001b[0m:\u001b[36m127\u001b[0m - \u001b[1mStep 20800, Learning Rate: 0.003647\u001b[0m\n",
      "\u001b[32m2024-09-08 16:35:40.266\u001b[0m | \u001b[1mINFO    \u001b[0m | \u001b[36msrc.train_utils\u001b[0m:\u001b[36mtrain\u001b[0m:\u001b[36m130\u001b[0m - \u001b[1mStep 20800, Gradient Norms: {'grad_norm_user_embedding.weight': 0.9023192524909973, 'grad_norm_item_embedding.weight': 0.43106696009635925, 'total_grad_norm': 0.9999993787511212}\u001b[0m\n",
      "\u001b[32m2024-09-08 16:35:42.480\u001b[0m | \u001b[1mINFO    \u001b[0m | \u001b[36msrc.train_utils\u001b[0m:\u001b[36mtrain\u001b[0m:\u001b[36m124\u001b[0m - \u001b[1mStep 20900, Global Loss: 2.2497\u001b[0m\n",
      "\u001b[32m2024-09-08 16:35:42.481\u001b[0m | \u001b[1mINFO    \u001b[0m | \u001b[36msrc.train_utils\u001b[0m:\u001b[36mtrain\u001b[0m:\u001b[36m127\u001b[0m - \u001b[1mStep 20900, Learning Rate: 0.003647\u001b[0m\n",
      "\u001b[32m2024-09-08 16:35:42.481\u001b[0m | \u001b[1mINFO    \u001b[0m | \u001b[36msrc.train_utils\u001b[0m:\u001b[36mtrain\u001b[0m:\u001b[36m130\u001b[0m - \u001b[1mStep 20900, Gradient Norms: {'grad_norm_user_embedding.weight': 0.26672306656837463, 'grad_norm_item_embedding.weight': 0.1562313735485077, 'total_grad_norm': 0.30911071854675465}\u001b[0m\n",
      "\u001b[32m2024-09-08 16:35:44.650\u001b[0m | \u001b[1mINFO    \u001b[0m | \u001b[36msrc.train_utils\u001b[0m:\u001b[36mtrain\u001b[0m:\u001b[36m124\u001b[0m - \u001b[1mStep 21000, Global Loss: 2.2582\u001b[0m\n",
      "\u001b[32m2024-09-08 16:35:44.650\u001b[0m | \u001b[1mINFO    \u001b[0m | \u001b[36msrc.train_utils\u001b[0m:\u001b[36mtrain\u001b[0m:\u001b[36m127\u001b[0m - \u001b[1mStep 21000, Learning Rate: 0.003283\u001b[0m\n",
      "\u001b[32m2024-09-08 16:35:44.650\u001b[0m | \u001b[1mINFO    \u001b[0m | \u001b[36msrc.train_utils\u001b[0m:\u001b[36mtrain\u001b[0m:\u001b[36m130\u001b[0m - \u001b[1mStep 21000, Gradient Norms: {'grad_norm_user_embedding.weight': 0.6635163426399231, 'grad_norm_item_embedding.weight': 0.4657444953918457, 'total_grad_norm': 0.8106613793305222}\u001b[0m\n",
      "\u001b[32m2024-09-08 16:35:46.804\u001b[0m | \u001b[1mINFO    \u001b[0m | \u001b[36msrc.train_utils\u001b[0m:\u001b[36mtrain\u001b[0m:\u001b[36m124\u001b[0m - \u001b[1mStep 21100, Global Loss: 2.2692\u001b[0m\n",
      "\u001b[32m2024-09-08 16:35:46.805\u001b[0m | \u001b[1mINFO    \u001b[0m | \u001b[36msrc.train_utils\u001b[0m:\u001b[36mtrain\u001b[0m:\u001b[36m127\u001b[0m - \u001b[1mStep 21100, Learning Rate: 0.003283\u001b[0m\n",
      "\u001b[32m2024-09-08 16:35:46.805\u001b[0m | \u001b[1mINFO    \u001b[0m | \u001b[36msrc.train_utils\u001b[0m:\u001b[36mtrain\u001b[0m:\u001b[36m130\u001b[0m - \u001b[1mStep 21100, Gradient Norms: {'grad_norm_user_embedding.weight': 0.48414355516433716, 'grad_norm_item_embedding.weight': 0.4141712188720703, 'total_grad_norm': 0.6371285431913563}\u001b[0m\n",
      "\u001b[32m2024-09-08 16:35:49.009\u001b[0m | \u001b[1mINFO    \u001b[0m | \u001b[36msrc.train_utils\u001b[0m:\u001b[36mtrain\u001b[0m:\u001b[36m124\u001b[0m - \u001b[1mStep 21200, Global Loss: 2.2915\u001b[0m\n",
      "\u001b[32m2024-09-08 16:35:49.009\u001b[0m | \u001b[1mINFO    \u001b[0m | \u001b[36msrc.train_utils\u001b[0m:\u001b[36mtrain\u001b[0m:\u001b[36m127\u001b[0m - \u001b[1mStep 21200, Learning Rate: 0.003283\u001b[0m\n",
      "\u001b[32m2024-09-08 16:35:49.010\u001b[0m | \u001b[1mINFO    \u001b[0m | \u001b[36msrc.train_utils\u001b[0m:\u001b[36mtrain\u001b[0m:\u001b[36m130\u001b[0m - \u001b[1mStep 21200, Gradient Norms: {'grad_norm_user_embedding.weight': 0.13360805809497833, 'grad_norm_item_embedding.weight': 0.09248480945825577, 'total_grad_norm': 0.1624947788959417}\u001b[0m\n",
      "\u001b[32m2024-09-08 16:35:51.113\u001b[0m | \u001b[1mINFO    \u001b[0m | \u001b[36msrc.train_utils\u001b[0m:\u001b[36mtrain\u001b[0m:\u001b[36m124\u001b[0m - \u001b[1mStep 21300, Global Loss: 2.3087\u001b[0m\n",
      "\u001b[32m2024-09-08 16:35:51.114\u001b[0m | \u001b[1mINFO    \u001b[0m | \u001b[36msrc.train_utils\u001b[0m:\u001b[36mtrain\u001b[0m:\u001b[36m127\u001b[0m - \u001b[1mStep 21300, Learning Rate: 0.003283\u001b[0m\n",
      "\u001b[32m2024-09-08 16:35:51.114\u001b[0m | \u001b[1mINFO    \u001b[0m | \u001b[36msrc.train_utils\u001b[0m:\u001b[36mtrain\u001b[0m:\u001b[36m130\u001b[0m - \u001b[1mStep 21300, Gradient Norms: {'grad_norm_user_embedding.weight': 0.9607338309288025, 'grad_norm_item_embedding.weight': 0.27746984362602234, 'total_grad_norm': 0.9999995040063681}\u001b[0m\n",
      "\u001b[32m2024-09-08 16:35:53.280\u001b[0m | \u001b[1mINFO    \u001b[0m | \u001b[36msrc.train_utils\u001b[0m:\u001b[36mtrain\u001b[0m:\u001b[36m124\u001b[0m - \u001b[1mStep 21400, Global Loss: 2.3286\u001b[0m\n",
      "\u001b[32m2024-09-08 16:35:53.280\u001b[0m | \u001b[1mINFO    \u001b[0m | \u001b[36msrc.train_utils\u001b[0m:\u001b[36mtrain\u001b[0m:\u001b[36m127\u001b[0m - \u001b[1mStep 21400, Learning Rate: 0.003283\u001b[0m\n",
      "\u001b[32m2024-09-08 16:35:53.281\u001b[0m | \u001b[1mINFO    \u001b[0m | \u001b[36msrc.train_utils\u001b[0m:\u001b[36mtrain\u001b[0m:\u001b[36m130\u001b[0m - \u001b[1mStep 21400, Gradient Norms: {'grad_norm_user_embedding.weight': 0.9896232485771179, 'grad_norm_item_embedding.weight': 0.14368268847465515, 'total_grad_norm': 0.9999994445456623}\u001b[0m\n",
      "\u001b[32m2024-09-08 16:35:55.382\u001b[0m | \u001b[1mINFO    \u001b[0m | \u001b[36msrc.train_utils\u001b[0m:\u001b[36mtrain\u001b[0m:\u001b[36m124\u001b[0m - \u001b[1mStep 21500, Global Loss: 2.3438\u001b[0m\n",
      "\u001b[32m2024-09-08 16:35:55.382\u001b[0m | \u001b[1mINFO    \u001b[0m | \u001b[36msrc.train_utils\u001b[0m:\u001b[36mtrain\u001b[0m:\u001b[36m127\u001b[0m - \u001b[1mStep 21500, Learning Rate: 0.003283\u001b[0m\n",
      "\u001b[32m2024-09-08 16:35:55.383\u001b[0m | \u001b[1mINFO    \u001b[0m | \u001b[36msrc.train_utils\u001b[0m:\u001b[36mtrain\u001b[0m:\u001b[36m130\u001b[0m - \u001b[1mStep 21500, Gradient Norms: {'grad_norm_user_embedding.weight': 0.7295363545417786, 'grad_norm_item_embedding.weight': 0.45150747895240784, 'total_grad_norm': 0.8579523857115071}\u001b[0m\n",
      "\u001b[32m2024-09-08 16:35:57.565\u001b[0m | \u001b[1mINFO    \u001b[0m | \u001b[36msrc.train_utils\u001b[0m:\u001b[36mtrain\u001b[0m:\u001b[36m124\u001b[0m - \u001b[1mStep 21600, Global Loss: 2.3642\u001b[0m\n",
      "\u001b[32m2024-09-08 16:35:57.565\u001b[0m | \u001b[1mINFO    \u001b[0m | \u001b[36msrc.train_utils\u001b[0m:\u001b[36mtrain\u001b[0m:\u001b[36m127\u001b[0m - \u001b[1mStep 21600, Learning Rate: 0.003283\u001b[0m\n",
      "\u001b[32m2024-09-08 16:35:57.565\u001b[0m | \u001b[1mINFO    \u001b[0m | \u001b[36msrc.train_utils\u001b[0m:\u001b[36mtrain\u001b[0m:\u001b[36m130\u001b[0m - \u001b[1mStep 21600, Gradient Norms: {'grad_norm_user_embedding.weight': 0.45301780104637146, 'grad_norm_item_embedding.weight': 0.7382645010948181, 'total_grad_norm': 0.8661752718945921}\u001b[0m\n",
      "\u001b[32m2024-09-08 16:35:59.815\u001b[0m | \u001b[1mINFO    \u001b[0m | \u001b[36msrc.train_utils\u001b[0m:\u001b[36mtrain\u001b[0m:\u001b[36m124\u001b[0m - \u001b[1mStep 21700, Global Loss: 2.3811\u001b[0m\n",
      "\u001b[32m2024-09-08 16:35:59.815\u001b[0m | \u001b[1mINFO    \u001b[0m | \u001b[36msrc.train_utils\u001b[0m:\u001b[36mtrain\u001b[0m:\u001b[36m127\u001b[0m - \u001b[1mStep 21700, Learning Rate: 0.003283\u001b[0m\n",
      "\u001b[32m2024-09-08 16:35:59.816\u001b[0m | \u001b[1mINFO    \u001b[0m | \u001b[36msrc.train_utils\u001b[0m:\u001b[36mtrain\u001b[0m:\u001b[36m130\u001b[0m - \u001b[1mStep 21700, Gradient Norms: {'grad_norm_user_embedding.weight': 0.5545228719711304, 'grad_norm_item_embedding.weight': 0.09418594092130661, 'total_grad_norm': 0.5624647606795847}\u001b[0m\n",
      "\u001b[32m2024-09-08 16:36:02.014\u001b[0m | \u001b[1mINFO    \u001b[0m | \u001b[36msrc.train_utils\u001b[0m:\u001b[36mtrain\u001b[0m:\u001b[36m124\u001b[0m - \u001b[1mStep 21800, Global Loss: 2.3927\u001b[0m\n",
      "\u001b[32m2024-09-08 16:36:02.015\u001b[0m | \u001b[1mINFO    \u001b[0m | \u001b[36msrc.train_utils\u001b[0m:\u001b[36mtrain\u001b[0m:\u001b[36m127\u001b[0m - \u001b[1mStep 21800, Learning Rate: 0.003283\u001b[0m\n",
      "\u001b[32m2024-09-08 16:36:02.015\u001b[0m | \u001b[1mINFO    \u001b[0m | \u001b[36msrc.train_utils\u001b[0m:\u001b[36mtrain\u001b[0m:\u001b[36m130\u001b[0m - \u001b[1mStep 21800, Gradient Norms: {'grad_norm_user_embedding.weight': 0.9263849854469299, 'grad_norm_item_embedding.weight': 0.3765758275985718, 'total_grad_norm': 0.9999992475962458}\u001b[0m\n",
      "\u001b[32m2024-09-08 16:36:04.239\u001b[0m | \u001b[1mINFO    \u001b[0m | \u001b[36msrc.train_utils\u001b[0m:\u001b[36mtrain\u001b[0m:\u001b[36m124\u001b[0m - \u001b[1mStep 21900, Global Loss: 2.4152\u001b[0m\n",
      "\u001b[32m2024-09-08 16:36:04.240\u001b[0m | \u001b[1mINFO    \u001b[0m | \u001b[36msrc.train_utils\u001b[0m:\u001b[36mtrain\u001b[0m:\u001b[36m127\u001b[0m - \u001b[1mStep 21900, Learning Rate: 0.003283\u001b[0m\n",
      "\u001b[32m2024-09-08 16:36:04.240\u001b[0m | \u001b[1mINFO    \u001b[0m | \u001b[36msrc.train_utils\u001b[0m:\u001b[36mtrain\u001b[0m:\u001b[36m130\u001b[0m - \u001b[1mStep 21900, Gradient Norms: {'grad_norm_user_embedding.weight': 0.9547524452209473, 'grad_norm_item_embedding.weight': 0.29739874601364136, 'total_grad_norm': 0.9999991228925474}\u001b[0m\n",
      "\u001b[32m2024-09-08 16:36:06.394\u001b[0m | \u001b[1mINFO    \u001b[0m | \u001b[36msrc.train_utils\u001b[0m:\u001b[36mtrain\u001b[0m:\u001b[36m124\u001b[0m - \u001b[1mStep 22000, Global Loss: 2.4442\u001b[0m\n",
      "\u001b[32m2024-09-08 16:36:06.395\u001b[0m | \u001b[1mINFO    \u001b[0m | \u001b[36msrc.train_utils\u001b[0m:\u001b[36mtrain\u001b[0m:\u001b[36m127\u001b[0m - \u001b[1mStep 22000, Learning Rate: 0.002954\u001b[0m\n",
      "\u001b[32m2024-09-08 16:36:06.395\u001b[0m | \u001b[1mINFO    \u001b[0m | \u001b[36msrc.train_utils\u001b[0m:\u001b[36mtrain\u001b[0m:\u001b[36m130\u001b[0m - \u001b[1mStep 22000, Gradient Norms: {'grad_norm_user_embedding.weight': 0.6809923648834229, 'grad_norm_item_embedding.weight': 0.19376809895038605, 'total_grad_norm': 0.7080230767428161}\u001b[0m\n",
      "\u001b[32m2024-09-08 16:36:08.635\u001b[0m | \u001b[1mINFO    \u001b[0m | \u001b[36msrc.train_utils\u001b[0m:\u001b[36mtrain\u001b[0m:\u001b[36m124\u001b[0m - \u001b[1mStep 22100, Global Loss: 2.4517\u001b[0m\n",
      "\u001b[32m2024-09-08 16:36:08.635\u001b[0m | \u001b[1mINFO    \u001b[0m | \u001b[36msrc.train_utils\u001b[0m:\u001b[36mtrain\u001b[0m:\u001b[36m127\u001b[0m - \u001b[1mStep 22100, Learning Rate: 0.002954\u001b[0m\n",
      "\u001b[32m2024-09-08 16:36:08.635\u001b[0m | \u001b[1mINFO    \u001b[0m | \u001b[36msrc.train_utils\u001b[0m:\u001b[36mtrain\u001b[0m:\u001b[36m130\u001b[0m - \u001b[1mStep 22100, Gradient Norms: {'grad_norm_user_embedding.weight': 0.4620630443096161, 'grad_norm_item_embedding.weight': 0.3714509606361389, 'total_grad_norm': 0.5928558619716775}\u001b[0m\n",
      "\u001b[32m2024-09-08 16:36:10.868\u001b[0m | \u001b[1mINFO    \u001b[0m | \u001b[36msrc.train_utils\u001b[0m:\u001b[36mtrain\u001b[0m:\u001b[36m124\u001b[0m - \u001b[1mStep 22200, Global Loss: 2.4721\u001b[0m\n",
      "\u001b[32m2024-09-08 16:36:10.869\u001b[0m | \u001b[1mINFO    \u001b[0m | \u001b[36msrc.train_utils\u001b[0m:\u001b[36mtrain\u001b[0m:\u001b[36m127\u001b[0m - \u001b[1mStep 22200, Learning Rate: 0.002954\u001b[0m\n",
      "\u001b[32m2024-09-08 16:36:10.869\u001b[0m | \u001b[1mINFO    \u001b[0m | \u001b[36msrc.train_utils\u001b[0m:\u001b[36mtrain\u001b[0m:\u001b[36m130\u001b[0m - \u001b[1mStep 22200, Gradient Norms: {'grad_norm_user_embedding.weight': 0.9750754833221436, 'grad_norm_item_embedding.weight': 0.22187094390392303, 'total_grad_norm': 0.9999994569622174}\u001b[0m\n",
      "\u001b[32m2024-09-08 16:36:13.084\u001b[0m | \u001b[1mINFO    \u001b[0m | \u001b[36msrc.train_utils\u001b[0m:\u001b[36mtrain\u001b[0m:\u001b[36m124\u001b[0m - \u001b[1mStep 22300, Global Loss: 2.4934\u001b[0m\n",
      "\u001b[32m2024-09-08 16:36:13.084\u001b[0m | \u001b[1mINFO    \u001b[0m | \u001b[36msrc.train_utils\u001b[0m:\u001b[36mtrain\u001b[0m:\u001b[36m127\u001b[0m - \u001b[1mStep 22300, Learning Rate: 0.002954\u001b[0m\n",
      "\u001b[32m2024-09-08 16:36:13.085\u001b[0m | \u001b[1mINFO    \u001b[0m | \u001b[36msrc.train_utils\u001b[0m:\u001b[36mtrain\u001b[0m:\u001b[36m130\u001b[0m - \u001b[1mStep 22300, Gradient Norms: {'grad_norm_user_embedding.weight': 0.5366080403327942, 'grad_norm_item_embedding.weight': 0.37100428342819214, 'total_grad_norm': 0.6523744072784186}\u001b[0m\n",
      "\u001b[32m2024-09-08 16:36:15.302\u001b[0m | \u001b[1mINFO    \u001b[0m | \u001b[36msrc.train_utils\u001b[0m:\u001b[36mtrain\u001b[0m:\u001b[36m124\u001b[0m - \u001b[1mStep 22400, Global Loss: 2.5118\u001b[0m\n",
      "\u001b[32m2024-09-08 16:36:15.303\u001b[0m | \u001b[1mINFO    \u001b[0m | \u001b[36msrc.train_utils\u001b[0m:\u001b[36mtrain\u001b[0m:\u001b[36m127\u001b[0m - \u001b[1mStep 22400, Learning Rate: 0.002954\u001b[0m\n",
      "\u001b[32m2024-09-08 16:36:15.303\u001b[0m | \u001b[1mINFO    \u001b[0m | \u001b[36msrc.train_utils\u001b[0m:\u001b[36mtrain\u001b[0m:\u001b[36m130\u001b[0m - \u001b[1mStep 22400, Gradient Norms: {'grad_norm_user_embedding.weight': 0.9473025798797607, 'grad_norm_item_embedding.weight': 0.32033771276474, 'total_grad_norm': 0.9999992140327889}\u001b[0m\n",
      "\u001b[32m2024-09-08 16:36:17.433\u001b[0m | \u001b[1mINFO    \u001b[0m | \u001b[36msrc.train_utils\u001b[0m:\u001b[36mtrain\u001b[0m:\u001b[36m124\u001b[0m - \u001b[1mStep 22500, Global Loss: 2.5206\u001b[0m\n",
      "\u001b[32m2024-09-08 16:36:17.433\u001b[0m | \u001b[1mINFO    \u001b[0m | \u001b[36msrc.train_utils\u001b[0m:\u001b[36mtrain\u001b[0m:\u001b[36m127\u001b[0m - \u001b[1mStep 22500, Learning Rate: 0.002954\u001b[0m\n",
      "\u001b[32m2024-09-08 16:36:17.433\u001b[0m | \u001b[1mINFO    \u001b[0m | \u001b[36msrc.train_utils\u001b[0m:\u001b[36mtrain\u001b[0m:\u001b[36m130\u001b[0m - \u001b[1mStep 22500, Gradient Norms: {'grad_norm_user_embedding.weight': 0.255629301071167, 'grad_norm_item_embedding.weight': 0.5449987053871155, 'total_grad_norm': 0.601971700696773}\u001b[0m\n",
      "\u001b[32m2024-09-08 16:36:19.549\u001b[0m | \u001b[1mINFO    \u001b[0m | \u001b[36msrc.train_utils\u001b[0m:\u001b[36mtrain\u001b[0m:\u001b[36m124\u001b[0m - \u001b[1mStep 22600, Global Loss: 2.5386\u001b[0m\n",
      "\u001b[32m2024-09-08 16:36:19.549\u001b[0m | \u001b[1mINFO    \u001b[0m | \u001b[36msrc.train_utils\u001b[0m:\u001b[36mtrain\u001b[0m:\u001b[36m127\u001b[0m - \u001b[1mStep 22600, Learning Rate: 0.002954\u001b[0m\n",
      "\u001b[32m2024-09-08 16:36:19.550\u001b[0m | \u001b[1mINFO    \u001b[0m | \u001b[36msrc.train_utils\u001b[0m:\u001b[36mtrain\u001b[0m:\u001b[36m130\u001b[0m - \u001b[1mStep 22600, Gradient Norms: {'grad_norm_user_embedding.weight': 0.8430356383323669, 'grad_norm_item_embedding.weight': 0.33355095982551575, 'total_grad_norm': 0.9066230364925569}\u001b[0m\n",
      "\u001b[32m2024-09-08 16:36:19.985\u001b[0m | \u001b[1mINFO    \u001b[0m | \u001b[36msrc.train_utils\u001b[0m:\u001b[36mtrain\u001b[0m:\u001b[36m142\u001b[0m - \u001b[1mEpoch 5, Loss: 2.5418\u001b[0m\n",
      "\u001b[32m2024-09-08 16:36:26.599\u001b[0m | \u001b[1mINFO    \u001b[0m | \u001b[36msrc.train_utils\u001b[0m:\u001b[36mtrain\u001b[0m:\u001b[36m160\u001b[0m - \u001b[1mEpoch 5, Validation Loss: 12.2603\u001b[0m\n"
     ]
    },
    {
     "data": {
      "application/vnd.jupyter.widget-view+json": {
       "model_id": "",
       "version_major": 2,
       "version_minor": 0
      },
      "text/plain": [
       "Training Epoch 6:   0%|          | 0/4524 [00:00<?, ?it/s]"
      ]
     },
     "metadata": {},
     "output_type": "display_data"
    },
    {
     "name": "stderr",
     "output_type": "stream",
     "text": [
      "\u001b[32m2024-09-08 16:36:28.394\u001b[0m | \u001b[1mINFO    \u001b[0m | \u001b[36msrc.train_utils\u001b[0m:\u001b[36mtrain\u001b[0m:\u001b[36m124\u001b[0m - \u001b[1mStep 22700, Global Loss: 1.4907\u001b[0m\n",
      "\u001b[32m2024-09-08 16:36:28.395\u001b[0m | \u001b[1mINFO    \u001b[0m | \u001b[36msrc.train_utils\u001b[0m:\u001b[36mtrain\u001b[0m:\u001b[36m127\u001b[0m - \u001b[1mStep 22700, Learning Rate: 0.002954\u001b[0m\n",
      "\u001b[32m2024-09-08 16:36:28.395\u001b[0m | \u001b[1mINFO    \u001b[0m | \u001b[36msrc.train_utils\u001b[0m:\u001b[36mtrain\u001b[0m:\u001b[36m130\u001b[0m - \u001b[1mStep 22700, Gradient Norms: {'grad_norm_user_embedding.weight': 0.8944264650344849, 'grad_norm_item_embedding.weight': 0.4472132623195648, 'total_grad_norm': 0.9999992016739776}\u001b[0m\n",
      "\u001b[32m2024-09-08 16:36:30.578\u001b[0m | \u001b[1mINFO    \u001b[0m | \u001b[36msrc.train_utils\u001b[0m:\u001b[36mtrain\u001b[0m:\u001b[36m124\u001b[0m - \u001b[1mStep 22800, Global Loss: 1.5668\u001b[0m\n",
      "\u001b[32m2024-09-08 16:36:30.578\u001b[0m | \u001b[1mINFO    \u001b[0m | \u001b[36msrc.train_utils\u001b[0m:\u001b[36mtrain\u001b[0m:\u001b[36m127\u001b[0m - \u001b[1mStep 22800, Learning Rate: 0.002954\u001b[0m\n",
      "\u001b[32m2024-09-08 16:36:30.578\u001b[0m | \u001b[1mINFO    \u001b[0m | \u001b[36msrc.train_utils\u001b[0m:\u001b[36mtrain\u001b[0m:\u001b[36m130\u001b[0m - \u001b[1mStep 22800, Gradient Norms: {'grad_norm_user_embedding.weight': 0.6023448705673218, 'grad_norm_item_embedding.weight': 0.34760233759880066, 'total_grad_norm': 0.6954471426376804}\u001b[0m\n",
      "\u001b[32m2024-09-08 16:36:32.771\u001b[0m | \u001b[1mINFO    \u001b[0m | \u001b[36msrc.train_utils\u001b[0m:\u001b[36mtrain\u001b[0m:\u001b[36m124\u001b[0m - \u001b[1mStep 22900, Global Loss: 1.5432\u001b[0m\n",
      "\u001b[32m2024-09-08 16:36:32.771\u001b[0m | \u001b[1mINFO    \u001b[0m | \u001b[36msrc.train_utils\u001b[0m:\u001b[36mtrain\u001b[0m:\u001b[36m127\u001b[0m - \u001b[1mStep 22900, Learning Rate: 0.002954\u001b[0m\n",
      "\u001b[32m2024-09-08 16:36:32.771\u001b[0m | \u001b[1mINFO    \u001b[0m | \u001b[36msrc.train_utils\u001b[0m:\u001b[36mtrain\u001b[0m:\u001b[36m130\u001b[0m - \u001b[1mStep 22900, Gradient Norms: {'grad_norm_user_embedding.weight': 0.9294586181640625, 'grad_norm_item_embedding.weight': 0.36892402172088623, 'total_grad_norm': 0.9999991283407008}\u001b[0m\n",
      "\u001b[32m2024-09-08 16:36:34.990\u001b[0m | \u001b[1mINFO    \u001b[0m | \u001b[36msrc.train_utils\u001b[0m:\u001b[36mtrain\u001b[0m:\u001b[36m124\u001b[0m - \u001b[1mStep 23000, Global Loss: 1.6221\u001b[0m\n",
      "\u001b[32m2024-09-08 16:36:34.991\u001b[0m | \u001b[1mINFO    \u001b[0m | \u001b[36msrc.train_utils\u001b[0m:\u001b[36mtrain\u001b[0m:\u001b[36m127\u001b[0m - \u001b[1mStep 23000, Learning Rate: 0.002659\u001b[0m\n",
      "\u001b[32m2024-09-08 16:36:34.991\u001b[0m | \u001b[1mINFO    \u001b[0m | \u001b[36msrc.train_utils\u001b[0m:\u001b[36mtrain\u001b[0m:\u001b[36m130\u001b[0m - \u001b[1mStep 23000, Gradient Norms: {'grad_norm_user_embedding.weight': 0.8655933737754822, 'grad_norm_item_embedding.weight': 0.4219510853290558, 'total_grad_norm': 0.962961373646103}\u001b[0m\n",
      "\u001b[32m2024-09-08 16:36:37.146\u001b[0m | \u001b[1mINFO    \u001b[0m | \u001b[36msrc.train_utils\u001b[0m:\u001b[36mtrain\u001b[0m:\u001b[36m124\u001b[0m - \u001b[1mStep 23100, Global Loss: 1.5652\u001b[0m\n",
      "\u001b[32m2024-09-08 16:36:37.146\u001b[0m | \u001b[1mINFO    \u001b[0m | \u001b[36msrc.train_utils\u001b[0m:\u001b[36mtrain\u001b[0m:\u001b[36m127\u001b[0m - \u001b[1mStep 23100, Learning Rate: 0.002659\u001b[0m\n",
      "\u001b[32m2024-09-08 16:36:37.147\u001b[0m | \u001b[1mINFO    \u001b[0m | \u001b[36msrc.train_utils\u001b[0m:\u001b[36mtrain\u001b[0m:\u001b[36m130\u001b[0m - \u001b[1mStep 23100, Gradient Norms: {'grad_norm_user_embedding.weight': 0.5551688075065613, 'grad_norm_item_embedding.weight': 0.4776526689529419, 'total_grad_norm': 0.7323690852200999}\u001b[0m\n",
      "\u001b[32m2024-09-08 16:36:39.331\u001b[0m | \u001b[1mINFO    \u001b[0m | \u001b[36msrc.train_utils\u001b[0m:\u001b[36mtrain\u001b[0m:\u001b[36m124\u001b[0m - \u001b[1mStep 23200, Global Loss: 1.6225\u001b[0m\n",
      "\u001b[32m2024-09-08 16:36:39.332\u001b[0m | \u001b[1mINFO    \u001b[0m | \u001b[36msrc.train_utils\u001b[0m:\u001b[36mtrain\u001b[0m:\u001b[36m127\u001b[0m - \u001b[1mStep 23200, Learning Rate: 0.002659\u001b[0m\n",
      "\u001b[32m2024-09-08 16:36:39.332\u001b[0m | \u001b[1mINFO    \u001b[0m | \u001b[36msrc.train_utils\u001b[0m:\u001b[36mtrain\u001b[0m:\u001b[36m130\u001b[0m - \u001b[1mStep 23200, Gradient Norms: {'grad_norm_user_embedding.weight': 0.5257461071014404, 'grad_norm_item_embedding.weight': 0.20321360230445862, 'total_grad_norm': 0.5636530291712039}\u001b[0m\n",
      "\u001b[32m2024-09-08 16:36:41.495\u001b[0m | \u001b[1mINFO    \u001b[0m | \u001b[36msrc.train_utils\u001b[0m:\u001b[36mtrain\u001b[0m:\u001b[36m124\u001b[0m - \u001b[1mStep 23300, Global Loss: 1.5931\u001b[0m\n",
      "\u001b[32m2024-09-08 16:36:41.496\u001b[0m | \u001b[1mINFO    \u001b[0m | \u001b[36msrc.train_utils\u001b[0m:\u001b[36mtrain\u001b[0m:\u001b[36m127\u001b[0m - \u001b[1mStep 23300, Learning Rate: 0.002659\u001b[0m\n",
      "\u001b[32m2024-09-08 16:36:41.496\u001b[0m | \u001b[1mINFO    \u001b[0m | \u001b[36msrc.train_utils\u001b[0m:\u001b[36mtrain\u001b[0m:\u001b[36m130\u001b[0m - \u001b[1mStep 23300, Gradient Norms: {'grad_norm_user_embedding.weight': 0.9567099809646606, 'grad_norm_item_embedding.weight': 0.2910408675670624, 'total_grad_norm': 0.999999387135607}\u001b[0m\n",
      "\u001b[32m2024-09-08 16:36:43.711\u001b[0m | \u001b[1mINFO    \u001b[0m | \u001b[36msrc.train_utils\u001b[0m:\u001b[36mtrain\u001b[0m:\u001b[36m124\u001b[0m - \u001b[1mStep 23400, Global Loss: 1.6062\u001b[0m\n",
      "\u001b[32m2024-09-08 16:36:43.711\u001b[0m | \u001b[1mINFO    \u001b[0m | \u001b[36msrc.train_utils\u001b[0m:\u001b[36mtrain\u001b[0m:\u001b[36m127\u001b[0m - \u001b[1mStep 23400, Learning Rate: 0.002659\u001b[0m\n",
      "\u001b[32m2024-09-08 16:36:43.711\u001b[0m | \u001b[1mINFO    \u001b[0m | \u001b[36msrc.train_utils\u001b[0m:\u001b[36mtrain\u001b[0m:\u001b[36m130\u001b[0m - \u001b[1mStep 23400, Gradient Norms: {'grad_norm_user_embedding.weight': 0.4150901138782501, 'grad_norm_item_embedding.weight': 0.22104577720165253, 'total_grad_norm': 0.4702776182832235}\u001b[0m\n",
      "\u001b[32m2024-09-08 16:36:45.948\u001b[0m | \u001b[1mINFO    \u001b[0m | \u001b[36msrc.train_utils\u001b[0m:\u001b[36mtrain\u001b[0m:\u001b[36m124\u001b[0m - \u001b[1mStep 23500, Global Loss: 1.6224\u001b[0m\n",
      "\u001b[32m2024-09-08 16:36:45.949\u001b[0m | \u001b[1mINFO    \u001b[0m | \u001b[36msrc.train_utils\u001b[0m:\u001b[36mtrain\u001b[0m:\u001b[36m127\u001b[0m - \u001b[1mStep 23500, Learning Rate: 0.002659\u001b[0m\n",
      "\u001b[32m2024-09-08 16:36:45.949\u001b[0m | \u001b[1mINFO    \u001b[0m | \u001b[36msrc.train_utils\u001b[0m:\u001b[36mtrain\u001b[0m:\u001b[36m130\u001b[0m - \u001b[1mStep 23500, Gradient Norms: {'grad_norm_user_embedding.weight': 0.47364312410354614, 'grad_norm_item_embedding.weight': 0.6381816267967224, 'total_grad_norm': 0.7947412143531241}\u001b[0m\n",
      "\u001b[32m2024-09-08 16:36:48.154\u001b[0m | \u001b[1mINFO    \u001b[0m | \u001b[36msrc.train_utils\u001b[0m:\u001b[36mtrain\u001b[0m:\u001b[36m124\u001b[0m - \u001b[1mStep 23600, Global Loss: 1.6160\u001b[0m\n",
      "\u001b[32m2024-09-08 16:36:48.154\u001b[0m | \u001b[1mINFO    \u001b[0m | \u001b[36msrc.train_utils\u001b[0m:\u001b[36mtrain\u001b[0m:\u001b[36m127\u001b[0m - \u001b[1mStep 23600, Learning Rate: 0.002659\u001b[0m\n",
      "\u001b[32m2024-09-08 16:36:48.155\u001b[0m | \u001b[1mINFO    \u001b[0m | \u001b[36msrc.train_utils\u001b[0m:\u001b[36mtrain\u001b[0m:\u001b[36m130\u001b[0m - \u001b[1mStep 23600, Gradient Norms: {'grad_norm_user_embedding.weight': 0.9573538899421692, 'grad_norm_item_embedding.weight': 0.288915753364563, 'total_grad_norm': 0.9999993915646229}\u001b[0m\n",
      "\u001b[32m2024-09-08 16:36:50.334\u001b[0m | \u001b[1mINFO    \u001b[0m | \u001b[36msrc.train_utils\u001b[0m:\u001b[36mtrain\u001b[0m:\u001b[36m124\u001b[0m - \u001b[1mStep 23700, Global Loss: 1.6795\u001b[0m\n",
      "\u001b[32m2024-09-08 16:36:50.335\u001b[0m | \u001b[1mINFO    \u001b[0m | \u001b[36msrc.train_utils\u001b[0m:\u001b[36mtrain\u001b[0m:\u001b[36m127\u001b[0m - \u001b[1mStep 23700, Learning Rate: 0.002659\u001b[0m\n",
      "\u001b[32m2024-09-08 16:36:50.335\u001b[0m | \u001b[1mINFO    \u001b[0m | \u001b[36msrc.train_utils\u001b[0m:\u001b[36mtrain\u001b[0m:\u001b[36m130\u001b[0m - \u001b[1mStep 23700, Gradient Norms: {'grad_norm_user_embedding.weight': 0.2117711454629898, 'grad_norm_item_embedding.weight': 0.22867105901241302, 'total_grad_norm': 0.3116688487490613}\u001b[0m\n",
      "\u001b[32m2024-09-08 16:36:52.484\u001b[0m | \u001b[1mINFO    \u001b[0m | \u001b[36msrc.train_utils\u001b[0m:\u001b[36mtrain\u001b[0m:\u001b[36m124\u001b[0m - \u001b[1mStep 23800, Global Loss: 1.6884\u001b[0m\n",
      "\u001b[32m2024-09-08 16:36:52.485\u001b[0m | \u001b[1mINFO    \u001b[0m | \u001b[36msrc.train_utils\u001b[0m:\u001b[36mtrain\u001b[0m:\u001b[36m127\u001b[0m - \u001b[1mStep 23800, Learning Rate: 0.002659\u001b[0m\n",
      "\u001b[32m2024-09-08 16:36:52.485\u001b[0m | \u001b[1mINFO    \u001b[0m | \u001b[36msrc.train_utils\u001b[0m:\u001b[36mtrain\u001b[0m:\u001b[36m130\u001b[0m - \u001b[1mStep 23800, Gradient Norms: {'grad_norm_user_embedding.weight': 0.4012669622898102, 'grad_norm_item_embedding.weight': 0.1234731525182724, 'total_grad_norm': 0.4198342463616951}\u001b[0m\n",
      "\u001b[32m2024-09-08 16:36:54.684\u001b[0m | \u001b[1mINFO    \u001b[0m | \u001b[36msrc.train_utils\u001b[0m:\u001b[36mtrain\u001b[0m:\u001b[36m124\u001b[0m - \u001b[1mStep 23900, Global Loss: 1.7057\u001b[0m\n",
      "\u001b[32m2024-09-08 16:36:54.684\u001b[0m | \u001b[1mINFO    \u001b[0m | \u001b[36msrc.train_utils\u001b[0m:\u001b[36mtrain\u001b[0m:\u001b[36m127\u001b[0m - \u001b[1mStep 23900, Learning Rate: 0.002659\u001b[0m\n",
      "\u001b[32m2024-09-08 16:36:54.685\u001b[0m | \u001b[1mINFO    \u001b[0m | \u001b[36msrc.train_utils\u001b[0m:\u001b[36mtrain\u001b[0m:\u001b[36m130\u001b[0m - \u001b[1mStep 23900, Gradient Norms: {'grad_norm_user_embedding.weight': 0.4693664014339447, 'grad_norm_item_embedding.weight': 0.3102569878101349, 'total_grad_norm': 0.5626403978386809}\u001b[0m\n",
      "\u001b[32m2024-09-08 16:36:56.822\u001b[0m | \u001b[1mINFO    \u001b[0m | \u001b[36msrc.train_utils\u001b[0m:\u001b[36mtrain\u001b[0m:\u001b[36m124\u001b[0m - \u001b[1mStep 24000, Global Loss: 1.7361\u001b[0m\n",
      "\u001b[32m2024-09-08 16:36:56.823\u001b[0m | \u001b[1mINFO    \u001b[0m | \u001b[36msrc.train_utils\u001b[0m:\u001b[36mtrain\u001b[0m:\u001b[36m127\u001b[0m - \u001b[1mStep 24000, Learning Rate: 0.002393\u001b[0m\n",
      "\u001b[32m2024-09-08 16:36:56.823\u001b[0m | \u001b[1mINFO    \u001b[0m | \u001b[36msrc.train_utils\u001b[0m:\u001b[36mtrain\u001b[0m:\u001b[36m130\u001b[0m - \u001b[1mStep 24000, Gradient Norms: {'grad_norm_user_embedding.weight': 0.8011277914047241, 'grad_norm_item_embedding.weight': 0.4338150918483734, 'total_grad_norm': 0.911044056056799}\u001b[0m\n",
      "\u001b[32m2024-09-08 16:36:59.042\u001b[0m | \u001b[1mINFO    \u001b[0m | \u001b[36msrc.train_utils\u001b[0m:\u001b[36mtrain\u001b[0m:\u001b[36m124\u001b[0m - \u001b[1mStep 24100, Global Loss: 1.7726\u001b[0m\n",
      "\u001b[32m2024-09-08 16:36:59.043\u001b[0m | \u001b[1mINFO    \u001b[0m | \u001b[36msrc.train_utils\u001b[0m:\u001b[36mtrain\u001b[0m:\u001b[36m127\u001b[0m - \u001b[1mStep 24100, Learning Rate: 0.002393\u001b[0m\n",
      "\u001b[32m2024-09-08 16:36:59.043\u001b[0m | \u001b[1mINFO    \u001b[0m | \u001b[36msrc.train_utils\u001b[0m:\u001b[36mtrain\u001b[0m:\u001b[36m130\u001b[0m - \u001b[1mStep 24100, Gradient Norms: {'grad_norm_user_embedding.weight': 0.5219712853431702, 'grad_norm_item_embedding.weight': 0.6059569120407104, 'total_grad_norm': 0.7997735941957039}\u001b[0m\n",
      "\u001b[32m2024-09-08 16:37:01.241\u001b[0m | \u001b[1mINFO    \u001b[0m | \u001b[36msrc.train_utils\u001b[0m:\u001b[36mtrain\u001b[0m:\u001b[36m124\u001b[0m - \u001b[1mStep 24200, Global Loss: 1.7841\u001b[0m\n",
      "\u001b[32m2024-09-08 16:37:01.242\u001b[0m | \u001b[1mINFO    \u001b[0m | \u001b[36msrc.train_utils\u001b[0m:\u001b[36mtrain\u001b[0m:\u001b[36m127\u001b[0m - \u001b[1mStep 24200, Learning Rate: 0.002393\u001b[0m\n",
      "\u001b[32m2024-09-08 16:37:01.242\u001b[0m | \u001b[1mINFO    \u001b[0m | \u001b[36msrc.train_utils\u001b[0m:\u001b[36mtrain\u001b[0m:\u001b[36m130\u001b[0m - \u001b[1mStep 24200, Gradient Norms: {'grad_norm_user_embedding.weight': 0.34754449129104614, 'grad_norm_item_embedding.weight': 0.19035114347934723, 'total_grad_norm': 0.3962584147379675}\u001b[0m\n",
      "\u001b[32m2024-09-08 16:37:03.454\u001b[0m | \u001b[1mINFO    \u001b[0m | \u001b[36msrc.train_utils\u001b[0m:\u001b[36mtrain\u001b[0m:\u001b[36m124\u001b[0m - \u001b[1mStep 24300, Global Loss: 1.7823\u001b[0m\n",
      "\u001b[32m2024-09-08 16:37:03.455\u001b[0m | \u001b[1mINFO    \u001b[0m | \u001b[36msrc.train_utils\u001b[0m:\u001b[36mtrain\u001b[0m:\u001b[36m127\u001b[0m - \u001b[1mStep 24300, Learning Rate: 0.002393\u001b[0m\n",
      "\u001b[32m2024-09-08 16:37:03.455\u001b[0m | \u001b[1mINFO    \u001b[0m | \u001b[36msrc.train_utils\u001b[0m:\u001b[36mtrain\u001b[0m:\u001b[36m130\u001b[0m - \u001b[1mStep 24300, Gradient Norms: {'grad_norm_user_embedding.weight': 0.9537370800971985, 'grad_norm_item_embedding.weight': 0.27568382024765015, 'total_grad_norm': 0.9927819431771856}\u001b[0m\n",
      "\u001b[32m2024-09-08 16:37:05.556\u001b[0m | \u001b[1mINFO    \u001b[0m | \u001b[36msrc.train_utils\u001b[0m:\u001b[36mtrain\u001b[0m:\u001b[36m124\u001b[0m - \u001b[1mStep 24400, Global Loss: 1.8101\u001b[0m\n",
      "\u001b[32m2024-09-08 16:37:05.556\u001b[0m | \u001b[1mINFO    \u001b[0m | \u001b[36msrc.train_utils\u001b[0m:\u001b[36mtrain\u001b[0m:\u001b[36m127\u001b[0m - \u001b[1mStep 24400, Learning Rate: 0.002393\u001b[0m\n",
      "\u001b[32m2024-09-08 16:37:05.556\u001b[0m | \u001b[1mINFO    \u001b[0m | \u001b[36msrc.train_utils\u001b[0m:\u001b[36mtrain\u001b[0m:\u001b[36m130\u001b[0m - \u001b[1mStep 24400, Gradient Norms: {'grad_norm_user_embedding.weight': 0.21795523166656494, 'grad_norm_item_embedding.weight': 0.13664637506008148, 'total_grad_norm': 0.2572483524298775}\u001b[0m\n",
      "\u001b[32m2024-09-08 16:37:07.759\u001b[0m | \u001b[1mINFO    \u001b[0m | \u001b[36msrc.train_utils\u001b[0m:\u001b[36mtrain\u001b[0m:\u001b[36m124\u001b[0m - \u001b[1mStep 24500, Global Loss: 1.8431\u001b[0m\n",
      "\u001b[32m2024-09-08 16:37:07.760\u001b[0m | \u001b[1mINFO    \u001b[0m | \u001b[36msrc.train_utils\u001b[0m:\u001b[36mtrain\u001b[0m:\u001b[36m127\u001b[0m - \u001b[1mStep 24500, Learning Rate: 0.002393\u001b[0m\n",
      "\u001b[32m2024-09-08 16:37:07.760\u001b[0m | \u001b[1mINFO    \u001b[0m | \u001b[36msrc.train_utils\u001b[0m:\u001b[36mtrain\u001b[0m:\u001b[36m130\u001b[0m - \u001b[1mStep 24500, Gradient Norms: {'grad_norm_user_embedding.weight': 0.7397681474685669, 'grad_norm_item_embedding.weight': 0.2080916315317154, 'total_grad_norm': 0.7684783920987021}\u001b[0m\n",
      "\u001b[32m2024-09-08 16:37:09.980\u001b[0m | \u001b[1mINFO    \u001b[0m | \u001b[36msrc.train_utils\u001b[0m:\u001b[36mtrain\u001b[0m:\u001b[36m124\u001b[0m - \u001b[1mStep 24600, Global Loss: 1.8616\u001b[0m\n",
      "\u001b[32m2024-09-08 16:37:09.981\u001b[0m | \u001b[1mINFO    \u001b[0m | \u001b[36msrc.train_utils\u001b[0m:\u001b[36mtrain\u001b[0m:\u001b[36m127\u001b[0m - \u001b[1mStep 24600, Learning Rate: 0.002393\u001b[0m\n",
      "\u001b[32m2024-09-08 16:37:09.981\u001b[0m | \u001b[1mINFO    \u001b[0m | \u001b[36msrc.train_utils\u001b[0m:\u001b[36mtrain\u001b[0m:\u001b[36m130\u001b[0m - \u001b[1mStep 24600, Gradient Norms: {'grad_norm_user_embedding.weight': 0.4305720925331116, 'grad_norm_item_embedding.weight': 0.1844944953918457, 'total_grad_norm': 0.46843414232764263}\u001b[0m\n",
      "\u001b[32m2024-09-08 16:37:12.191\u001b[0m | \u001b[1mINFO    \u001b[0m | \u001b[36msrc.train_utils\u001b[0m:\u001b[36mtrain\u001b[0m:\u001b[36m124\u001b[0m - \u001b[1mStep 24700, Global Loss: 1.8606\u001b[0m\n",
      "\u001b[32m2024-09-08 16:37:12.192\u001b[0m | \u001b[1mINFO    \u001b[0m | \u001b[36msrc.train_utils\u001b[0m:\u001b[36mtrain\u001b[0m:\u001b[36m127\u001b[0m - \u001b[1mStep 24700, Learning Rate: 0.002393\u001b[0m\n",
      "\u001b[32m2024-09-08 16:37:12.192\u001b[0m | \u001b[1mINFO    \u001b[0m | \u001b[36msrc.train_utils\u001b[0m:\u001b[36mtrain\u001b[0m:\u001b[36m130\u001b[0m - \u001b[1mStep 24700, Gradient Norms: {'grad_norm_user_embedding.weight': 0.2669702172279358, 'grad_norm_item_embedding.weight': 0.22720350325107574, 'total_grad_norm': 0.35056315946815175}\u001b[0m\n",
      "\u001b[32m2024-09-08 16:37:14.446\u001b[0m | \u001b[1mINFO    \u001b[0m | \u001b[36msrc.train_utils\u001b[0m:\u001b[36mtrain\u001b[0m:\u001b[36m124\u001b[0m - \u001b[1mStep 24800, Global Loss: 1.8813\u001b[0m\n",
      "\u001b[32m2024-09-08 16:37:14.446\u001b[0m | \u001b[1mINFO    \u001b[0m | \u001b[36msrc.train_utils\u001b[0m:\u001b[36mtrain\u001b[0m:\u001b[36m127\u001b[0m - \u001b[1mStep 24800, Learning Rate: 0.002393\u001b[0m\n",
      "\u001b[32m2024-09-08 16:37:14.447\u001b[0m | \u001b[1mINFO    \u001b[0m | \u001b[36msrc.train_utils\u001b[0m:\u001b[36mtrain\u001b[0m:\u001b[36m130\u001b[0m - \u001b[1mStep 24800, Gradient Norms: {'grad_norm_user_embedding.weight': 0.7384796738624573, 'grad_norm_item_embedding.weight': 0.2768407464027405, 'total_grad_norm': 0.7886653457435718}\u001b[0m\n",
      "\u001b[32m2024-09-08 16:37:16.671\u001b[0m | \u001b[1mINFO    \u001b[0m | \u001b[36msrc.train_utils\u001b[0m:\u001b[36mtrain\u001b[0m:\u001b[36m124\u001b[0m - \u001b[1mStep 24900, Global Loss: 1.8891\u001b[0m\n",
      "\u001b[32m2024-09-08 16:37:16.671\u001b[0m | \u001b[1mINFO    \u001b[0m | \u001b[36msrc.train_utils\u001b[0m:\u001b[36mtrain\u001b[0m:\u001b[36m127\u001b[0m - \u001b[1mStep 24900, Learning Rate: 0.002393\u001b[0m\n",
      "\u001b[32m2024-09-08 16:37:16.671\u001b[0m | \u001b[1mINFO    \u001b[0m | \u001b[36msrc.train_utils\u001b[0m:\u001b[36mtrain\u001b[0m:\u001b[36m130\u001b[0m - \u001b[1mStep 24900, Gradient Norms: {'grad_norm_user_embedding.weight': 0.4712240695953369, 'grad_norm_item_embedding.weight': 0.39207619428634644, 'total_grad_norm': 0.6130056002126374}\u001b[0m\n",
      "\u001b[32m2024-09-08 16:37:18.884\u001b[0m | \u001b[1mINFO    \u001b[0m | \u001b[36msrc.train_utils\u001b[0m:\u001b[36mtrain\u001b[0m:\u001b[36m124\u001b[0m - \u001b[1mStep 25000, Global Loss: 1.8956\u001b[0m\n",
      "\u001b[32m2024-09-08 16:37:18.885\u001b[0m | \u001b[1mINFO    \u001b[0m | \u001b[36msrc.train_utils\u001b[0m:\u001b[36mtrain\u001b[0m:\u001b[36m127\u001b[0m - \u001b[1mStep 25000, Learning Rate: 0.002154\u001b[0m\n",
      "\u001b[32m2024-09-08 16:37:18.885\u001b[0m | \u001b[1mINFO    \u001b[0m | \u001b[36msrc.train_utils\u001b[0m:\u001b[36mtrain\u001b[0m:\u001b[36m130\u001b[0m - \u001b[1mStep 25000, Gradient Norms: {'grad_norm_user_embedding.weight': 0.5678474307060242, 'grad_norm_item_embedding.weight': 0.34025639295578003, 'total_grad_norm': 0.6619857381444944}\u001b[0m\n",
      "\u001b[32m2024-09-08 16:37:21.124\u001b[0m | \u001b[1mINFO    \u001b[0m | \u001b[36msrc.train_utils\u001b[0m:\u001b[36mtrain\u001b[0m:\u001b[36m124\u001b[0m - \u001b[1mStep 25100, Global Loss: 1.9092\u001b[0m\n",
      "\u001b[32m2024-09-08 16:37:21.125\u001b[0m | \u001b[1mINFO    \u001b[0m | \u001b[36msrc.train_utils\u001b[0m:\u001b[36mtrain\u001b[0m:\u001b[36m127\u001b[0m - \u001b[1mStep 25100, Learning Rate: 0.002154\u001b[0m\n",
      "\u001b[32m2024-09-08 16:37:21.125\u001b[0m | \u001b[1mINFO    \u001b[0m | \u001b[36msrc.train_utils\u001b[0m:\u001b[36mtrain\u001b[0m:\u001b[36m130\u001b[0m - \u001b[1mStep 25100, Gradient Norms: {'grad_norm_user_embedding.weight': 0.7219825983047485, 'grad_norm_item_embedding.weight': 0.6469969153404236, 'total_grad_norm': 0.9694657707804331}\u001b[0m\n",
      "\u001b[32m2024-09-08 16:37:23.302\u001b[0m | \u001b[1mINFO    \u001b[0m | \u001b[36msrc.train_utils\u001b[0m:\u001b[36mtrain\u001b[0m:\u001b[36m124\u001b[0m - \u001b[1mStep 25200, Global Loss: 1.9287\u001b[0m\n",
      "\u001b[32m2024-09-08 16:37:23.302\u001b[0m | \u001b[1mINFO    \u001b[0m | \u001b[36msrc.train_utils\u001b[0m:\u001b[36mtrain\u001b[0m:\u001b[36m127\u001b[0m - \u001b[1mStep 25200, Learning Rate: 0.002154\u001b[0m\n",
      "\u001b[32m2024-09-08 16:37:23.303\u001b[0m | \u001b[1mINFO    \u001b[0m | \u001b[36msrc.train_utils\u001b[0m:\u001b[36mtrain\u001b[0m:\u001b[36m130\u001b[0m - \u001b[1mStep 25200, Gradient Norms: {'grad_norm_user_embedding.weight': 0.1877116709947586, 'grad_norm_item_embedding.weight': 0.07786500453948975, 'total_grad_norm': 0.2032206445211196}\u001b[0m\n",
      "\u001b[32m2024-09-08 16:37:25.520\u001b[0m | \u001b[1mINFO    \u001b[0m | \u001b[36msrc.train_utils\u001b[0m:\u001b[36mtrain\u001b[0m:\u001b[36m124\u001b[0m - \u001b[1mStep 25300, Global Loss: 1.9437\u001b[0m\n",
      "\u001b[32m2024-09-08 16:37:25.520\u001b[0m | \u001b[1mINFO    \u001b[0m | \u001b[36msrc.train_utils\u001b[0m:\u001b[36mtrain\u001b[0m:\u001b[36m127\u001b[0m - \u001b[1mStep 25300, Learning Rate: 0.002154\u001b[0m\n",
      "\u001b[32m2024-09-08 16:37:25.521\u001b[0m | \u001b[1mINFO    \u001b[0m | \u001b[36msrc.train_utils\u001b[0m:\u001b[36mtrain\u001b[0m:\u001b[36m130\u001b[0m - \u001b[1mStep 25300, Gradient Norms: {'grad_norm_user_embedding.weight': 0.6596413850784302, 'grad_norm_item_embedding.weight': 0.38606908917427063, 'total_grad_norm': 0.764314136022644}\u001b[0m\n",
      "\u001b[32m2024-09-08 16:37:27.666\u001b[0m | \u001b[1mINFO    \u001b[0m | \u001b[36msrc.train_utils\u001b[0m:\u001b[36mtrain\u001b[0m:\u001b[36m124\u001b[0m - \u001b[1mStep 25400, Global Loss: 1.9678\u001b[0m\n",
      "\u001b[32m2024-09-08 16:37:27.666\u001b[0m | \u001b[1mINFO    \u001b[0m | \u001b[36msrc.train_utils\u001b[0m:\u001b[36mtrain\u001b[0m:\u001b[36m127\u001b[0m - \u001b[1mStep 25400, Learning Rate: 0.002154\u001b[0m\n",
      "\u001b[32m2024-09-08 16:37:27.666\u001b[0m | \u001b[1mINFO    \u001b[0m | \u001b[36msrc.train_utils\u001b[0m:\u001b[36mtrain\u001b[0m:\u001b[36m130\u001b[0m - \u001b[1mStep 25400, Gradient Norms: {'grad_norm_user_embedding.weight': 0.8979621529579163, 'grad_norm_item_embedding.weight': 0.4400705099105835, 'total_grad_norm': 0.9999990409184286}\u001b[0m\n",
      "\u001b[32m2024-09-08 16:37:29.913\u001b[0m | \u001b[1mINFO    \u001b[0m | \u001b[36msrc.train_utils\u001b[0m:\u001b[36mtrain\u001b[0m:\u001b[36m124\u001b[0m - \u001b[1mStep 25500, Global Loss: 1.9767\u001b[0m\n",
      "\u001b[32m2024-09-08 16:37:29.913\u001b[0m | \u001b[1mINFO    \u001b[0m | \u001b[36msrc.train_utils\u001b[0m:\u001b[36mtrain\u001b[0m:\u001b[36m127\u001b[0m - \u001b[1mStep 25500, Learning Rate: 0.002154\u001b[0m\n",
      "\u001b[32m2024-09-08 16:37:29.913\u001b[0m | \u001b[1mINFO    \u001b[0m | \u001b[36msrc.train_utils\u001b[0m:\u001b[36mtrain\u001b[0m:\u001b[36m130\u001b[0m - \u001b[1mStep 25500, Gradient Norms: {'grad_norm_user_embedding.weight': 0.9427610635757446, 'grad_norm_item_embedding.weight': 0.3334670066833496, 'total_grad_norm': 0.9999993337701892}\u001b[0m\n",
      "\u001b[32m2024-09-08 16:37:32.118\u001b[0m | \u001b[1mINFO    \u001b[0m | \u001b[36msrc.train_utils\u001b[0m:\u001b[36mtrain\u001b[0m:\u001b[36m124\u001b[0m - \u001b[1mStep 25600, Global Loss: 1.9931\u001b[0m\n",
      "\u001b[32m2024-09-08 16:37:32.119\u001b[0m | \u001b[1mINFO    \u001b[0m | \u001b[36msrc.train_utils\u001b[0m:\u001b[36mtrain\u001b[0m:\u001b[36m127\u001b[0m - \u001b[1mStep 25600, Learning Rate: 0.002154\u001b[0m\n",
      "\u001b[32m2024-09-08 16:37:32.119\u001b[0m | \u001b[1mINFO    \u001b[0m | \u001b[36msrc.train_utils\u001b[0m:\u001b[36mtrain\u001b[0m:\u001b[36m130\u001b[0m - \u001b[1mStep 25600, Gradient Norms: {'grad_norm_user_embedding.weight': 0.2440740019083023, 'grad_norm_item_embedding.weight': 0.11953176558017731, 'total_grad_norm': 0.2717718922005151}\u001b[0m\n",
      "\u001b[32m2024-09-08 16:37:34.312\u001b[0m | \u001b[1mINFO    \u001b[0m | \u001b[36msrc.train_utils\u001b[0m:\u001b[36mtrain\u001b[0m:\u001b[36m124\u001b[0m - \u001b[1mStep 25700, Global Loss: 2.0036\u001b[0m\n",
      "\u001b[32m2024-09-08 16:37:34.312\u001b[0m | \u001b[1mINFO    \u001b[0m | \u001b[36msrc.train_utils\u001b[0m:\u001b[36mtrain\u001b[0m:\u001b[36m127\u001b[0m - \u001b[1mStep 25700, Learning Rate: 0.002154\u001b[0m\n",
      "\u001b[32m2024-09-08 16:37:34.313\u001b[0m | \u001b[1mINFO    \u001b[0m | \u001b[36msrc.train_utils\u001b[0m:\u001b[36mtrain\u001b[0m:\u001b[36m130\u001b[0m - \u001b[1mStep 25700, Gradient Norms: {'grad_norm_user_embedding.weight': 0.46573951840400696, 'grad_norm_item_embedding.weight': 0.18464632332324982, 'total_grad_norm': 0.5010065505759286}\u001b[0m\n",
      "\u001b[32m2024-09-08 16:37:36.478\u001b[0m | \u001b[1mINFO    \u001b[0m | \u001b[36msrc.train_utils\u001b[0m:\u001b[36mtrain\u001b[0m:\u001b[36m124\u001b[0m - \u001b[1mStep 25800, Global Loss: 2.0272\u001b[0m\n",
      "\u001b[32m2024-09-08 16:37:36.478\u001b[0m | \u001b[1mINFO    \u001b[0m | \u001b[36msrc.train_utils\u001b[0m:\u001b[36mtrain\u001b[0m:\u001b[36m127\u001b[0m - \u001b[1mStep 25800, Learning Rate: 0.002154\u001b[0m\n",
      "\u001b[32m2024-09-08 16:37:36.479\u001b[0m | \u001b[1mINFO    \u001b[0m | \u001b[36msrc.train_utils\u001b[0m:\u001b[36mtrain\u001b[0m:\u001b[36m130\u001b[0m - \u001b[1mStep 25800, Gradient Norms: {'grad_norm_user_embedding.weight': 0.9020736217498779, 'grad_norm_item_embedding.weight': 0.43158021569252014, 'total_grad_norm': 0.9999991508167114}\u001b[0m\n",
      "\u001b[32m2024-09-08 16:37:38.648\u001b[0m | \u001b[1mINFO    \u001b[0m | \u001b[36msrc.train_utils\u001b[0m:\u001b[36mtrain\u001b[0m:\u001b[36m124\u001b[0m - \u001b[1mStep 25900, Global Loss: 2.0366\u001b[0m\n",
      "\u001b[32m2024-09-08 16:37:38.649\u001b[0m | \u001b[1mINFO    \u001b[0m | \u001b[36msrc.train_utils\u001b[0m:\u001b[36mtrain\u001b[0m:\u001b[36m127\u001b[0m - \u001b[1mStep 25900, Learning Rate: 0.002154\u001b[0m\n",
      "\u001b[32m2024-09-08 16:37:38.649\u001b[0m | \u001b[1mINFO    \u001b[0m | \u001b[36msrc.train_utils\u001b[0m:\u001b[36mtrain\u001b[0m:\u001b[36m130\u001b[0m - \u001b[1mStep 25900, Gradient Norms: {'grad_norm_user_embedding.weight': 0.9161972403526306, 'grad_norm_item_embedding.weight': 0.4007260799407959, 'total_grad_norm': 0.9999993871870588}\u001b[0m\n",
      "\u001b[32m2024-09-08 16:37:40.816\u001b[0m | \u001b[1mINFO    \u001b[0m | \u001b[36msrc.train_utils\u001b[0m:\u001b[36mtrain\u001b[0m:\u001b[36m124\u001b[0m - \u001b[1mStep 26000, Global Loss: 2.0449\u001b[0m\n",
      "\u001b[32m2024-09-08 16:37:40.816\u001b[0m | \u001b[1mINFO    \u001b[0m | \u001b[36msrc.train_utils\u001b[0m:\u001b[36mtrain\u001b[0m:\u001b[36m127\u001b[0m - \u001b[1mStep 26000, Learning Rate: 0.001938\u001b[0m\n",
      "\u001b[32m2024-09-08 16:37:40.817\u001b[0m | \u001b[1mINFO    \u001b[0m | \u001b[36msrc.train_utils\u001b[0m:\u001b[36mtrain\u001b[0m:\u001b[36m130\u001b[0m - \u001b[1mStep 26000, Gradient Norms: {'grad_norm_user_embedding.weight': 0.9168965220451355, 'grad_norm_item_embedding.weight': 0.39912286400794983, 'total_grad_norm': 0.9999991463558227}\u001b[0m\n",
      "\u001b[32m2024-09-08 16:37:43.044\u001b[0m | \u001b[1mINFO    \u001b[0m | \u001b[36msrc.train_utils\u001b[0m:\u001b[36mtrain\u001b[0m:\u001b[36m124\u001b[0m - \u001b[1mStep 26100, Global Loss: 2.0570\u001b[0m\n",
      "\u001b[32m2024-09-08 16:37:43.044\u001b[0m | \u001b[1mINFO    \u001b[0m | \u001b[36msrc.train_utils\u001b[0m:\u001b[36mtrain\u001b[0m:\u001b[36m127\u001b[0m - \u001b[1mStep 26100, Learning Rate: 0.001938\u001b[0m\n",
      "\u001b[32m2024-09-08 16:37:43.045\u001b[0m | \u001b[1mINFO    \u001b[0m | \u001b[36msrc.train_utils\u001b[0m:\u001b[36mtrain\u001b[0m:\u001b[36m130\u001b[0m - \u001b[1mStep 26100, Gradient Norms: {'grad_norm_user_embedding.weight': 0.883669912815094, 'grad_norm_item_embedding.weight': 0.4191282093524933, 'total_grad_norm': 0.9780291256857657}\u001b[0m\n",
      "\u001b[32m2024-09-08 16:37:45.266\u001b[0m | \u001b[1mINFO    \u001b[0m | \u001b[36msrc.train_utils\u001b[0m:\u001b[36mtrain\u001b[0m:\u001b[36m124\u001b[0m - \u001b[1mStep 26200, Global Loss: 2.0742\u001b[0m\n",
      "\u001b[32m2024-09-08 16:37:45.266\u001b[0m | \u001b[1mINFO    \u001b[0m | \u001b[36msrc.train_utils\u001b[0m:\u001b[36mtrain\u001b[0m:\u001b[36m127\u001b[0m - \u001b[1mStep 26200, Learning Rate: 0.001938\u001b[0m\n",
      "\u001b[32m2024-09-08 16:37:45.266\u001b[0m | \u001b[1mINFO    \u001b[0m | \u001b[36msrc.train_utils\u001b[0m:\u001b[36mtrain\u001b[0m:\u001b[36m130\u001b[0m - \u001b[1mStep 26200, Gradient Norms: {'grad_norm_user_embedding.weight': 0.8044090270996094, 'grad_norm_item_embedding.weight': 0.5940748453140259, 'total_grad_norm': 0.9999994023569333}\u001b[0m\n",
      "\u001b[32m2024-09-08 16:37:47.478\u001b[0m | \u001b[1mINFO    \u001b[0m | \u001b[36msrc.train_utils\u001b[0m:\u001b[36mtrain\u001b[0m:\u001b[36m124\u001b[0m - \u001b[1mStep 26300, Global Loss: 2.0806\u001b[0m\n",
      "\u001b[32m2024-09-08 16:37:47.478\u001b[0m | \u001b[1mINFO    \u001b[0m | \u001b[36msrc.train_utils\u001b[0m:\u001b[36mtrain\u001b[0m:\u001b[36m127\u001b[0m - \u001b[1mStep 26300, Learning Rate: 0.001938\u001b[0m\n",
      "\u001b[32m2024-09-08 16:37:47.479\u001b[0m | \u001b[1mINFO    \u001b[0m | \u001b[36msrc.train_utils\u001b[0m:\u001b[36mtrain\u001b[0m:\u001b[36m130\u001b[0m - \u001b[1mStep 26300, Gradient Norms: {'grad_norm_user_embedding.weight': 0.45468056201934814, 'grad_norm_item_embedding.weight': 0.2647620439529419, 'total_grad_norm': 0.526149554210939}\u001b[0m\n",
      "\u001b[32m2024-09-08 16:37:49.678\u001b[0m | \u001b[1mINFO    \u001b[0m | \u001b[36msrc.train_utils\u001b[0m:\u001b[36mtrain\u001b[0m:\u001b[36m124\u001b[0m - \u001b[1mStep 26400, Global Loss: 2.0872\u001b[0m\n",
      "\u001b[32m2024-09-08 16:37:49.678\u001b[0m | \u001b[1mINFO    \u001b[0m | \u001b[36msrc.train_utils\u001b[0m:\u001b[36mtrain\u001b[0m:\u001b[36m127\u001b[0m - \u001b[1mStep 26400, Learning Rate: 0.001938\u001b[0m\n",
      "\u001b[32m2024-09-08 16:37:49.678\u001b[0m | \u001b[1mINFO    \u001b[0m | \u001b[36msrc.train_utils\u001b[0m:\u001b[36mtrain\u001b[0m:\u001b[36m130\u001b[0m - \u001b[1mStep 26400, Gradient Norms: {'grad_norm_user_embedding.weight': 0.5370321869850159, 'grad_norm_item_embedding.weight': 0.34590375423431396, 'total_grad_norm': 0.638790244956278}\u001b[0m\n",
      "\u001b[32m2024-09-08 16:37:51.788\u001b[0m | \u001b[1mINFO    \u001b[0m | \u001b[36msrc.train_utils\u001b[0m:\u001b[36mtrain\u001b[0m:\u001b[36m124\u001b[0m - \u001b[1mStep 26500, Global Loss: 2.0875\u001b[0m\n",
      "\u001b[32m2024-09-08 16:37:51.789\u001b[0m | \u001b[1mINFO    \u001b[0m | \u001b[36msrc.train_utils\u001b[0m:\u001b[36mtrain\u001b[0m:\u001b[36m127\u001b[0m - \u001b[1mStep 26500, Learning Rate: 0.001938\u001b[0m\n",
      "\u001b[32m2024-09-08 16:37:51.789\u001b[0m | \u001b[1mINFO    \u001b[0m | \u001b[36msrc.train_utils\u001b[0m:\u001b[36mtrain\u001b[0m:\u001b[36m130\u001b[0m - \u001b[1mStep 26500, Gradient Norms: {'grad_norm_user_embedding.weight': 0.8910561800003052, 'grad_norm_item_embedding.weight': 0.4538921117782593, 'total_grad_norm': 0.9999995825255449}\u001b[0m\n",
      "\u001b[32m2024-09-08 16:37:54.025\u001b[0m | \u001b[1mINFO    \u001b[0m | \u001b[36msrc.train_utils\u001b[0m:\u001b[36mtrain\u001b[0m:\u001b[36m124\u001b[0m - \u001b[1mStep 26600, Global Loss: 2.1028\u001b[0m\n",
      "\u001b[32m2024-09-08 16:37:54.026\u001b[0m | \u001b[1mINFO    \u001b[0m | \u001b[36msrc.train_utils\u001b[0m:\u001b[36mtrain\u001b[0m:\u001b[36m127\u001b[0m - \u001b[1mStep 26600, Learning Rate: 0.001938\u001b[0m\n",
      "\u001b[32m2024-09-08 16:37:54.026\u001b[0m | \u001b[1mINFO    \u001b[0m | \u001b[36msrc.train_utils\u001b[0m:\u001b[36mtrain\u001b[0m:\u001b[36m130\u001b[0m - \u001b[1mStep 26600, Gradient Norms: {'grad_norm_user_embedding.weight': 0.617821216583252, 'grad_norm_item_embedding.weight': 0.7863174676895142, 'total_grad_norm': 0.9999991078266318}\u001b[0m\n",
      "\u001b[32m2024-09-08 16:37:56.227\u001b[0m | \u001b[1mINFO    \u001b[0m | \u001b[36msrc.train_utils\u001b[0m:\u001b[36mtrain\u001b[0m:\u001b[36m124\u001b[0m - \u001b[1mStep 26700, Global Loss: 2.1157\u001b[0m\n",
      "\u001b[32m2024-09-08 16:37:56.227\u001b[0m | \u001b[1mINFO    \u001b[0m | \u001b[36msrc.train_utils\u001b[0m:\u001b[36mtrain\u001b[0m:\u001b[36m127\u001b[0m - \u001b[1mStep 26700, Learning Rate: 0.001938\u001b[0m\n",
      "\u001b[32m2024-09-08 16:37:56.227\u001b[0m | \u001b[1mINFO    \u001b[0m | \u001b[36msrc.train_utils\u001b[0m:\u001b[36mtrain\u001b[0m:\u001b[36m130\u001b[0m - \u001b[1mStep 26700, Gradient Norms: {'grad_norm_user_embedding.weight': 0.36171597242355347, 'grad_norm_item_embedding.weight': 0.9301517009735107, 'total_grad_norm': 0.998008332395192}\u001b[0m\n",
      "\u001b[32m2024-09-08 16:37:58.436\u001b[0m | \u001b[1mINFO    \u001b[0m | \u001b[36msrc.train_utils\u001b[0m:\u001b[36mtrain\u001b[0m:\u001b[36m124\u001b[0m - \u001b[1mStep 26800, Global Loss: 2.1324\u001b[0m\n",
      "\u001b[32m2024-09-08 16:37:58.437\u001b[0m | \u001b[1mINFO    \u001b[0m | \u001b[36msrc.train_utils\u001b[0m:\u001b[36mtrain\u001b[0m:\u001b[36m127\u001b[0m - \u001b[1mStep 26800, Learning Rate: 0.001938\u001b[0m\n",
      "\u001b[32m2024-09-08 16:37:58.437\u001b[0m | \u001b[1mINFO    \u001b[0m | \u001b[36msrc.train_utils\u001b[0m:\u001b[36mtrain\u001b[0m:\u001b[36m130\u001b[0m - \u001b[1mStep 26800, Gradient Norms: {'grad_norm_user_embedding.weight': 0.7268971800804138, 'grad_norm_item_embedding.weight': 0.21410484611988068, 'total_grad_norm': 0.7577733140859971}\u001b[0m\n",
      "\u001b[32m2024-09-08 16:38:00.616\u001b[0m | \u001b[1mINFO    \u001b[0m | \u001b[36msrc.train_utils\u001b[0m:\u001b[36mtrain\u001b[0m:\u001b[36m124\u001b[0m - \u001b[1mStep 26900, Global Loss: 2.1443\u001b[0m\n",
      "\u001b[32m2024-09-08 16:38:00.617\u001b[0m | \u001b[1mINFO    \u001b[0m | \u001b[36msrc.train_utils\u001b[0m:\u001b[36mtrain\u001b[0m:\u001b[36m127\u001b[0m - \u001b[1mStep 26900, Learning Rate: 0.001938\u001b[0m\n",
      "\u001b[32m2024-09-08 16:38:00.617\u001b[0m | \u001b[1mINFO    \u001b[0m | \u001b[36msrc.train_utils\u001b[0m:\u001b[36mtrain\u001b[0m:\u001b[36m130\u001b[0m - \u001b[1mStep 26900, Gradient Norms: {'grad_norm_user_embedding.weight': 0.8984755277633667, 'grad_norm_item_embedding.weight': 0.4390219449996948, 'total_grad_norm': 0.999999271090222}\u001b[0m\n",
      "\u001b[32m2024-09-08 16:38:02.759\u001b[0m | \u001b[1mINFO    \u001b[0m | \u001b[36msrc.train_utils\u001b[0m:\u001b[36mtrain\u001b[0m:\u001b[36m124\u001b[0m - \u001b[1mStep 27000, Global Loss: 2.1677\u001b[0m\n",
      "\u001b[32m2024-09-08 16:38:02.760\u001b[0m | \u001b[1mINFO    \u001b[0m | \u001b[36msrc.train_utils\u001b[0m:\u001b[36mtrain\u001b[0m:\u001b[36m127\u001b[0m - \u001b[1mStep 27000, Learning Rate: 0.001744\u001b[0m\n",
      "\u001b[32m2024-09-08 16:38:02.760\u001b[0m | \u001b[1mINFO    \u001b[0m | \u001b[36msrc.train_utils\u001b[0m:\u001b[36mtrain\u001b[0m:\u001b[36m130\u001b[0m - \u001b[1mStep 27000, Gradient Norms: {'grad_norm_user_embedding.weight': 0.3206537663936615, 'grad_norm_item_embedding.weight': 0.2864484190940857, 'total_grad_norm': 0.4299668995445368}\u001b[0m\n",
      "\u001b[32m2024-09-08 16:38:05.026\u001b[0m | \u001b[1mINFO    \u001b[0m | \u001b[36msrc.train_utils\u001b[0m:\u001b[36mtrain\u001b[0m:\u001b[36m124\u001b[0m - \u001b[1mStep 27100, Global Loss: 2.1839\u001b[0m\n",
      "\u001b[32m2024-09-08 16:38:05.026\u001b[0m | \u001b[1mINFO    \u001b[0m | \u001b[36msrc.train_utils\u001b[0m:\u001b[36mtrain\u001b[0m:\u001b[36m127\u001b[0m - \u001b[1mStep 27100, Learning Rate: 0.001744\u001b[0m\n",
      "\u001b[32m2024-09-08 16:38:05.027\u001b[0m | \u001b[1mINFO    \u001b[0m | \u001b[36msrc.train_utils\u001b[0m:\u001b[36mtrain\u001b[0m:\u001b[36m130\u001b[0m - \u001b[1mStep 27100, Gradient Norms: {'grad_norm_user_embedding.weight': 0.46318483352661133, 'grad_norm_item_embedding.weight': 0.2583313584327698, 'total_grad_norm': 0.5303539202822911}\u001b[0m\n",
      "\u001b[32m2024-09-08 16:38:05.985\u001b[0m | \u001b[1mINFO    \u001b[0m | \u001b[36msrc.train_utils\u001b[0m:\u001b[36mtrain\u001b[0m:\u001b[36m142\u001b[0m - \u001b[1mEpoch 6, Loss: 2.1884\u001b[0m\n",
      "\u001b[32m2024-09-08 16:38:18.178\u001b[0m | \u001b[1mINFO    \u001b[0m | \u001b[36msrc.train_utils\u001b[0m:\u001b[36mtrain\u001b[0m:\u001b[36m160\u001b[0m - \u001b[1mEpoch 6, Validation Loss: 12.2689\u001b[0m\n",
      "\u001b[32m2024-09-08 16:38:18.178\u001b[0m | \u001b[1mINFO    \u001b[0m | \u001b[36msrc.train_utils\u001b[0m:\u001b[36mtrain\u001b[0m:\u001b[36m170\u001b[0m - \u001b[1mEarly stopping at epoch 6\u001b[0m\n"
     ]
    }
   ],
   "source": [
    "n_epochs = 50\n",
    "\n",
    "metric_log_cb = MetricLogCallback()\n",
    "\n",
    "train(\n",
    "    model,\n",
    "    dataloader,\n",
    "    val_dataloader,\n",
    "    epochs=n_epochs,\n",
    "    patience=2,\n",
    "    print_steps=100,\n",
    "    lr=0.03,\n",
    "    device=device,\n",
    "    progress_bar_type='tqdm_notebook',\n",
    "    callbacks=[metric_log_cb.process_payload]\n",
    ")"
   ]
  },
  {
   "cell_type": "markdown",
   "id": "8891dc2a-7c64-4dc6-8184-faa079410646",
   "metadata": {},
   "source": [
    "# Visualize training"
   ]
  },
  {
   "cell_type": "code",
   "execution_count": 18,
   "id": "433a95ca-8822-4ff4-a518-79850eeadb74",
   "metadata": {
    "scrolled": true
   },
   "outputs": [
    {
     "data": {
      "text/html": [
       "<div>\n",
       "<style scoped>\n",
       "    .dataframe tbody tr th:only-of-type {\n",
       "        vertical-align: middle;\n",
       "    }\n",
       "\n",
       "    .dataframe tbody tr th {\n",
       "        vertical-align: top;\n",
       "    }\n",
       "\n",
       "    .dataframe thead th {\n",
       "        text-align: right;\n",
       "    }\n",
       "</style>\n",
       "<table border=\"1\" class=\"dataframe\">\n",
       "  <thead>\n",
       "    <tr style=\"text-align: right;\">\n",
       "      <th></th>\n",
       "      <th>step</th>\n",
       "      <th>dataset</th>\n",
       "      <th>global_loss</th>\n",
       "      <th>learning_rate</th>\n",
       "      <th>grad_norm_user_embedding.weight</th>\n",
       "      <th>grad_norm_item_embedding.weight</th>\n",
       "      <th>total_grad_norm</th>\n",
       "    </tr>\n",
       "  </thead>\n",
       "  <tbody>\n",
       "    <tr>\n",
       "      <th>0</th>\n",
       "      <td>100</td>\n",
       "      <td>train</td>\n",
       "      <td>19.603005</td>\n",
       "      <td>0.030000</td>\n",
       "      <td>0.064735</td>\n",
       "      <td>8.847127e-04</td>\n",
       "      <td>0.064741</td>\n",
       "    </tr>\n",
       "    <tr>\n",
       "      <th>1</th>\n",
       "      <td>200</td>\n",
       "      <td>train</td>\n",
       "      <td>19.501043</td>\n",
       "      <td>0.030000</td>\n",
       "      <td>0.281381</td>\n",
       "      <td>7.527627e-01</td>\n",
       "      <td>0.803634</td>\n",
       "    </tr>\n",
       "    <tr>\n",
       "      <th>2</th>\n",
       "      <td>300</td>\n",
       "      <td>train</td>\n",
       "      <td>19.484818</td>\n",
       "      <td>0.030000</td>\n",
       "      <td>0.635529</td>\n",
       "      <td>3.149323e-08</td>\n",
       "      <td>0.635529</td>\n",
       "    </tr>\n",
       "    <tr>\n",
       "      <th>3</th>\n",
       "      <td>400</td>\n",
       "      <td>train</td>\n",
       "      <td>19.560682</td>\n",
       "      <td>0.030000</td>\n",
       "      <td>0.459575</td>\n",
       "      <td>8.881384e-01</td>\n",
       "      <td>0.999999</td>\n",
       "    </tr>\n",
       "    <tr>\n",
       "      <th>4</th>\n",
       "      <td>500</td>\n",
       "      <td>train</td>\n",
       "      <td>19.454170</td>\n",
       "      <td>0.030000</td>\n",
       "      <td>0.734299</td>\n",
       "      <td>1.907607e-01</td>\n",
       "      <td>0.758673</td>\n",
       "    </tr>\n",
       "    <tr>\n",
       "      <th>...</th>\n",
       "      <td>...</td>\n",
       "      <td>...</td>\n",
       "      <td>...</td>\n",
       "      <td>...</td>\n",
       "      <td>...</td>\n",
       "      <td>...</td>\n",
       "      <td>...</td>\n",
       "    </tr>\n",
       "    <tr>\n",
       "      <th>266</th>\n",
       "      <td>26700</td>\n",
       "      <td>train</td>\n",
       "      <td>2.115695</td>\n",
       "      <td>0.001938</td>\n",
       "      <td>0.361716</td>\n",
       "      <td>9.301517e-01</td>\n",
       "      <td>0.998008</td>\n",
       "    </tr>\n",
       "    <tr>\n",
       "      <th>267</th>\n",
       "      <td>26800</td>\n",
       "      <td>train</td>\n",
       "      <td>2.132443</td>\n",
       "      <td>0.001938</td>\n",
       "      <td>0.726897</td>\n",
       "      <td>2.141048e-01</td>\n",
       "      <td>0.757773</td>\n",
       "    </tr>\n",
       "    <tr>\n",
       "      <th>268</th>\n",
       "      <td>26900</td>\n",
       "      <td>train</td>\n",
       "      <td>2.144303</td>\n",
       "      <td>0.001938</td>\n",
       "      <td>0.898476</td>\n",
       "      <td>4.390219e-01</td>\n",
       "      <td>0.999999</td>\n",
       "    </tr>\n",
       "    <tr>\n",
       "      <th>269</th>\n",
       "      <td>27000</td>\n",
       "      <td>train</td>\n",
       "      <td>2.167748</td>\n",
       "      <td>0.001744</td>\n",
       "      <td>0.320654</td>\n",
       "      <td>2.864484e-01</td>\n",
       "      <td>0.429967</td>\n",
       "    </tr>\n",
       "    <tr>\n",
       "      <th>270</th>\n",
       "      <td>27100</td>\n",
       "      <td>train</td>\n",
       "      <td>2.183872</td>\n",
       "      <td>0.001744</td>\n",
       "      <td>0.463185</td>\n",
       "      <td>2.583314e-01</td>\n",
       "      <td>0.530354</td>\n",
       "    </tr>\n",
       "  </tbody>\n",
       "</table>\n",
       "<p>271 rows × 7 columns</p>\n",
       "</div>"
      ],
      "text/plain": [
       "      step dataset  global_loss  learning_rate  \\\n",
       "0      100   train    19.603005       0.030000   \n",
       "1      200   train    19.501043       0.030000   \n",
       "2      300   train    19.484818       0.030000   \n",
       "3      400   train    19.560682       0.030000   \n",
       "4      500   train    19.454170       0.030000   \n",
       "..     ...     ...          ...            ...   \n",
       "266  26700   train     2.115695       0.001938   \n",
       "267  26800   train     2.132443       0.001938   \n",
       "268  26900   train     2.144303       0.001938   \n",
       "269  27000   train     2.167748       0.001744   \n",
       "270  27100   train     2.183872       0.001744   \n",
       "\n",
       "     grad_norm_user_embedding.weight  grad_norm_item_embedding.weight  \\\n",
       "0                           0.064735                     8.847127e-04   \n",
       "1                           0.281381                     7.527627e-01   \n",
       "2                           0.635529                     3.149323e-08   \n",
       "3                           0.459575                     8.881384e-01   \n",
       "4                           0.734299                     1.907607e-01   \n",
       "..                               ...                              ...   \n",
       "266                         0.361716                     9.301517e-01   \n",
       "267                         0.726897                     2.141048e-01   \n",
       "268                         0.898476                     4.390219e-01   \n",
       "269                         0.320654                     2.864484e-01   \n",
       "270                         0.463185                     2.583314e-01   \n",
       "\n",
       "     total_grad_norm  \n",
       "0           0.064741  \n",
       "1           0.803634  \n",
       "2           0.635529  \n",
       "3           0.999999  \n",
       "4           0.758673  \n",
       "..               ...  \n",
       "266         0.998008  \n",
       "267         0.757773  \n",
       "268         0.999999  \n",
       "269         0.429967  \n",
       "270         0.530354  \n",
       "\n",
       "[271 rows x 7 columns]"
      ]
     },
     "execution_count": 18,
     "metadata": {},
     "output_type": "execute_result"
    }
   ],
   "source": [
    "step_metrics = [p for p in metric_log_cb.payloads if 'step' in p]\n",
    "epoch_metrics = [p for p in metric_log_cb.payloads if 'epoch' in p]\n",
    "step_metrics_df = pd.DataFrame(step_metrics)\n",
    "step_metrics_df"
   ]
  },
  {
   "cell_type": "code",
   "execution_count": 19,
   "id": "a64c1c93-1727-4184-91a9-121ccce5919e",
   "metadata": {},
   "outputs": [
    {
     "data": {
      "text/html": [
       "<div>\n",
       "<style scoped>\n",
       "    .dataframe tbody tr th:only-of-type {\n",
       "        vertical-align: middle;\n",
       "    }\n",
       "\n",
       "    .dataframe tbody tr th {\n",
       "        vertical-align: top;\n",
       "    }\n",
       "\n",
       "    .dataframe thead th {\n",
       "        text-align: right;\n",
       "    }\n",
       "</style>\n",
       "<table border=\"1\" class=\"dataframe\">\n",
       "  <thead>\n",
       "    <tr style=\"text-align: right;\">\n",
       "      <th></th>\n",
       "      <th>epoch</th>\n",
       "      <th>loss_type</th>\n",
       "      <th>value</th>\n",
       "    </tr>\n",
       "  </thead>\n",
       "  <tbody>\n",
       "    <tr>\n",
       "      <th>0</th>\n",
       "      <td>1</td>\n",
       "      <td>train_loss</td>\n",
       "      <td>15.782813</td>\n",
       "    </tr>\n",
       "    <tr>\n",
       "      <th>1</th>\n",
       "      <td>2</td>\n",
       "      <td>train_loss</td>\n",
       "      <td>6.571830</td>\n",
       "    </tr>\n",
       "    <tr>\n",
       "      <th>2</th>\n",
       "      <td>3</td>\n",
       "      <td>train_loss</td>\n",
       "      <td>4.174215</td>\n",
       "    </tr>\n",
       "    <tr>\n",
       "      <th>3</th>\n",
       "      <td>4</td>\n",
       "      <td>train_loss</td>\n",
       "      <td>3.157484</td>\n",
       "    </tr>\n",
       "    <tr>\n",
       "      <th>4</th>\n",
       "      <td>5</td>\n",
       "      <td>train_loss</td>\n",
       "      <td>2.541785</td>\n",
       "    </tr>\n",
       "    <tr>\n",
       "      <th>5</th>\n",
       "      <td>1</td>\n",
       "      <td>val_loss</td>\n",
       "      <td>16.960800</td>\n",
       "    </tr>\n",
       "    <tr>\n",
       "      <th>6</th>\n",
       "      <td>2</td>\n",
       "      <td>val_loss</td>\n",
       "      <td>13.645085</td>\n",
       "    </tr>\n",
       "    <tr>\n",
       "      <th>7</th>\n",
       "      <td>3</td>\n",
       "      <td>val_loss</td>\n",
       "      <td>12.680533</td>\n",
       "    </tr>\n",
       "    <tr>\n",
       "      <th>8</th>\n",
       "      <td>4</td>\n",
       "      <td>val_loss</td>\n",
       "      <td>12.306402</td>\n",
       "    </tr>\n",
       "    <tr>\n",
       "      <th>9</th>\n",
       "      <td>5</td>\n",
       "      <td>val_loss</td>\n",
       "      <td>12.260325</td>\n",
       "    </tr>\n",
       "  </tbody>\n",
       "</table>\n",
       "</div>"
      ],
      "text/plain": [
       "   epoch   loss_type      value\n",
       "0      1  train_loss  15.782813\n",
       "1      2  train_loss   6.571830\n",
       "2      3  train_loss   4.174215\n",
       "3      4  train_loss   3.157484\n",
       "4      5  train_loss   2.541785\n",
       "5      1    val_loss  16.960800\n",
       "6      2    val_loss  13.645085\n",
       "7      3    val_loss  12.680533\n",
       "8      4    val_loss  12.306402\n",
       "9      5    val_loss  12.260325"
      ]
     },
     "execution_count": 19,
     "metadata": {},
     "output_type": "execute_result"
    }
   ],
   "source": [
    "epoch_metrics_df = pd.DataFrame(epoch_metrics)\n",
    "epoch_metrics_df = epoch_metrics_df.pipe(lambda df: pd.melt(df, id_vars=[\"epoch\"], var_name=\"loss_type\", value_name=\"value\"))\n",
    "epoch_metrics_df"
   ]
  },
  {
   "cell_type": "code",
   "execution_count": 39,
   "id": "398754a0-3250-4111-af38-abd54f735d44",
   "metadata": {},
   "outputs": [
    {
     "data": {
      "application/vnd.plotly.v1+json": {
       "config": {
        "plotlyServerURL": "https://plot.ly"
       },
       "data": [
        {
         "hovertemplate": "step=%{x}<br>global_loss=%{y}<extra></extra>",
         "legendgroup": "",
         "line": {
          "color": "#114B8F",
          "dash": "solid"
         },
         "marker": {
          "symbol": "circle"
         },
         "mode": "lines",
         "name": "",
         "orientation": "v",
         "showlegend": false,
         "type": "scatter",
         "x": [
          100,
          200,
          300,
          400,
          500,
          600,
          700,
          800,
          900,
          1000,
          1100,
          1200,
          1300,
          1400,
          1500,
          1600,
          1700,
          1800,
          1900,
          2000,
          2100,
          2200,
          2300,
          2400,
          2500,
          2600,
          2700,
          2800,
          2900,
          3000,
          3100,
          3200,
          3300,
          3400,
          3500,
          3600,
          3700,
          3800,
          3900,
          4000,
          4100,
          4200,
          4300,
          4400,
          4500,
          4600,
          4700,
          4800,
          4900,
          5000,
          5100,
          5200,
          5300,
          5400,
          5500,
          5600,
          5700,
          5800,
          5900,
          6000,
          6100,
          6200,
          6300,
          6400,
          6500,
          6600,
          6700,
          6800,
          6900,
          7000,
          7100,
          7200,
          7300,
          7400,
          7500,
          7600,
          7700,
          7800,
          7900,
          8000,
          8100,
          8200,
          8300,
          8400,
          8500,
          8600,
          8700,
          8800,
          8900,
          9000,
          9100,
          9200,
          9300,
          9400,
          9500,
          9600,
          9700,
          9800,
          9900,
          10000,
          10100,
          10200,
          10300,
          10400,
          10500,
          10600,
          10700,
          10800,
          10900,
          11000,
          11100,
          11200,
          11300,
          11400,
          11500,
          11600,
          11700,
          11800,
          11900,
          12000,
          12100,
          12200,
          12300,
          12400,
          12500,
          12600,
          12700,
          12800,
          12900,
          13000,
          13100,
          13200,
          13300,
          13400,
          13500,
          13600,
          13700,
          13800,
          13900,
          14000,
          14100,
          14200,
          14300,
          14400,
          14500,
          14600,
          14700,
          14800,
          14900,
          15000,
          15100,
          15200,
          15300,
          15400,
          15500,
          15600,
          15700,
          15800,
          15900,
          16000,
          16100,
          16200,
          16300,
          16400,
          16500,
          16600,
          16700,
          16800,
          16900,
          17000,
          17100,
          17200,
          17300,
          17400,
          17500,
          17600,
          17700,
          17800,
          17900,
          18000,
          18100,
          18200,
          18300,
          18400,
          18500,
          18600,
          18700,
          18800,
          18900,
          19000,
          19100,
          19200,
          19300,
          19400,
          19500,
          19600,
          19700,
          19800,
          19900,
          20000,
          20100,
          20200,
          20300,
          20400,
          20500,
          20600,
          20700,
          20800,
          20900,
          21000,
          21100,
          21200,
          21300,
          21400,
          21500,
          21600,
          21700,
          21800,
          21900,
          22000,
          22100,
          22200,
          22300,
          22400,
          22500,
          22600,
          22700,
          22800,
          22900,
          23000,
          23100,
          23200,
          23300,
          23400,
          23500,
          23600,
          23700,
          23800,
          23900,
          24000,
          24100,
          24200,
          24300,
          24400,
          24500,
          24600,
          24700,
          24800,
          24900,
          25000,
          25100,
          25200,
          25300,
          25400,
          25500,
          25600,
          25700,
          25800,
          25900,
          26000,
          26100,
          26200,
          26300,
          26400,
          26500,
          26600,
          26700,
          26800,
          26900,
          27000,
          27100
         ],
         "xaxis": "x",
         "y": [
          19.603005352767433,
          19.50104262097074,
          19.484818306859374,
          19.56068243652908,
          19.45417048349163,
          19.417603812081744,
          19.48368788668143,
          19.473704927265807,
          19.440321789295485,
          19.434185398047685,
          19.512633012790833,
          19.45124104709431,
          19.489811428539564,
          19.446309448451103,
          19.378521733480074,
          19.33632793087325,
          19.290023936941772,
          19.218455373880722,
          19.116519725201172,
          19.00997077117911,
          18.897148308181247,
          18.77967411863433,
          18.651825113476907,
          18.542088454322705,
          18.412990877182963,
          18.298086686991248,
          18.153621085015534,
          18.032383522078426,
          17.916882982961976,
          17.799074128404204,
          17.660369007254083,
          17.5302992536081,
          17.379114329931127,
          17.251439719245177,
          17.10791350540192,
          16.9502305177764,
          16.83338785289453,
          16.6997850088052,
          16.547554724213985,
          16.421937095672824,
          16.30559516245756,
          16.166403039996442,
          16.05166594110019,
          15.932161555354204,
          15.818900551998365,
          6.628014630609691,
          6.072091109692019,
          6.086873927856347,
          6.311303642846038,
          6.350627849739853,
          6.405032083049385,
          6.41994262272664,
          6.420257661670928,
          6.412982048179651,
          6.43916437802294,
          6.496052846625316,
          6.467538452277583,
          6.476101924069391,
          6.478072185872008,
          6.447189352580231,
          6.46425857205289,
          6.453467454396751,
          6.471923756566685,
          6.472324930779905,
          6.521615660374313,
          6.502546064460415,
          6.499787741463209,
          6.491334891292821,
          6.478161563637284,
          6.498926788471764,
          6.503601912413486,
          6.502928753065068,
          6.50235022222187,
          6.5096548361959075,
          6.549704107353878,
          6.552683893847182,
          6.552439108670066,
          6.55969105151853,
          6.576676189943551,
          6.577992250251017,
          6.5763784923270645,
          6.57191561755996,
          6.559002175499025,
          6.557074504572431,
          6.560658944529019,
          6.565098754852984,
          6.565833447963111,
          6.565234248932271,
          6.574392436762192,
          6.568936383138551,
          2.898286715778463,
          3.3230646941499518,
          3.4197992816922933,
          3.463641038110943,
          3.4575693650269677,
          3.494770027439054,
          3.49986071194587,
          3.5184509066803185,
          3.5049996645267294,
          3.49081382141197,
          3.5176610243307094,
          3.515369169080154,
          3.555618742831713,
          3.5585844765183094,
          3.5720220145044905,
          3.5973914552794675,
          3.616006898754306,
          3.680476769810138,
          3.688187299378898,
          3.7036940840097863,
          3.735142186078982,
          3.7621763502197814,
          3.776443956699677,
          3.827772859835238,
          3.8471969670803174,
          3.8593443507349128,
          3.8699652911088163,
          3.886599828744111,
          3.9067033513060236,
          3.925846236588336,
          3.950374789886932,
          3.9789497061677435,
          3.998797236003682,
          4.01613863988358,
          4.0236127252109615,
          4.027834025717999,
          4.038413144905826,
          4.048660669737784,
          4.057584066813907,
          4.071568342534784,
          4.09744854923585,
          4.124324030568606,
          4.138430547427576,
          4.154373846995912,
          4.164047418001343,
          2.420025211842033,
          2.132782035623582,
          2.182682854083343,
          2.104483689234915,
          2.155318158061591,
          2.192946383550782,
          2.2157199132169474,
          2.2669557895753973,
          2.301236274610536,
          2.3324553786414333,
          2.365744805292849,
          2.406787224405995,
          2.4263955990524,
          2.4677388611234643,
          2.4852166812396477,
          2.52154987213932,
          2.5524766911813277,
          2.576333872966075,
          2.581049626165515,
          2.5950519057135923,
          2.5991679209061265,
          2.629558118636676,
          2.6383749302798516,
          2.666091127115319,
          2.6765945351122684,
          2.6959944713882744,
          2.724916077183735,
          2.75258289120325,
          2.7736183304256854,
          2.78681337210325,
          2.811430904417968,
          2.834647060103815,
          2.8650042755731184,
          2.889640011190709,
          2.9066383731832777,
          2.937638968412044,
          2.968936433000831,
          2.996141258567555,
          3.0122694108165997,
          3.0276592949069885,
          3.0497097815927257,
          3.069994441953889,
          3.0926963712237745,
          3.1048039922115414,
          3.12982692472127,
          1.7083392953926069,
          1.8452445567171922,
          1.7735120450001467,
          1.8142876696718233,
          1.8561908818001895,
          1.9210127366217158,
          1.9306054013984604,
          1.915046870191947,
          1.9020766640697169,
          1.948543581615612,
          1.9597733485989328,
          2.00585032678619,
          2.0023353769400187,
          2.0087059698386347,
          2.0271878029208774,
          2.0583536136740053,
          2.0815420092901373,
          2.101448460572535,
          2.120547172052173,
          2.111577319506666,
          2.1318784188192965,
          2.1440733209254237,
          2.1698500339355693,
          2.1813435102410983,
          2.185891408619545,
          2.2006574430726435,
          2.207225837303438,
          2.2237841433438583,
          2.249654386609949,
          2.2582246509602304,
          2.2692339196585976,
          2.291476671719811,
          2.308681768225477,
          2.3286333825537087,
          2.3437929502931185,
          2.3642145309773523,
          2.3810784442925277,
          2.392675341771592,
          2.415218082818426,
          2.4441600596978086,
          2.4516547297335554,
          2.472125178253325,
          2.493404545159117,
          2.5118277759374017,
          2.5206367793357853,
          2.538647131885315,
          1.4906629434091134,
          1.5668447227203393,
          1.543226818555273,
          1.622112031731289,
          1.5652008833095963,
          1.6224840164022887,
          1.5931322861830093,
          1.6061778680237733,
          1.6224445589356629,
          1.6159874612986114,
          1.6795070833042782,
          1.6884148467037272,
          1.70566946722476,
          1.736073706243735,
          1.7725774912814067,
          1.7840689328033725,
          1.7823035969598107,
          1.810063664008528,
          1.84311397085332,
          1.8616256411020216,
          1.860635581153394,
          1.8813114626462466,
          1.8890969392882937,
          1.8955765511095328,
          1.909223830365022,
          1.9286896237750242,
          1.9436802560449105,
          1.967778287989764,
          1.9767492422474222,
          1.9931204279121597,
          2.0035829375484155,
          2.027235528655855,
          2.0365761715524475,
          2.044873069931698,
          2.057035612346487,
          2.0742459432303244,
          2.080635786263186,
          2.087211197839395,
          2.0875324732282983,
          2.102796787594008,
          2.1156947225221225,
          2.13244316542851,
          2.1443025678152767,
          2.1677482887158903,
          2.1838719510651727
         ],
         "yaxis": "y"
        }
       ],
       "layout": {
        "autosize": true,
        "legend": {
         "tracegroupgap": 0
        },
        "template": {
         "layout": {
          "colorway": [
           "#114B8F",
           "#248F11",
           "#8F6211",
           "#8F116C",
           "#1A293A"
          ],
          "font": {
           "family": "Inter Variable, Inter"
          },
          "showlegend": false,
          "template": {
           "data": {
            "bar": [
             {
              "error_x": {
               "color": "rgb(36,36,36)"
              },
              "error_y": {
               "color": "rgb(36,36,36)"
              },
              "marker": {
               "line": {
                "color": "white",
                "width": 0.5
               },
               "pattern": {
                "fillmode": "overlay",
                "size": 10,
                "solidity": 0.2
               }
              },
              "type": "bar"
             }
            ],
            "barpolar": [
             {
              "marker": {
               "line": {
                "color": "white",
                "width": 0.5
               },
               "pattern": {
                "fillmode": "overlay",
                "size": 10,
                "solidity": 0.2
               }
              },
              "type": "barpolar"
             }
            ],
            "carpet": [
             {
              "aaxis": {
               "endlinecolor": "rgb(36,36,36)",
               "gridcolor": "white",
               "linecolor": "white",
               "minorgridcolor": "white",
               "startlinecolor": "rgb(36,36,36)"
              },
              "baxis": {
               "endlinecolor": "rgb(36,36,36)",
               "gridcolor": "white",
               "linecolor": "white",
               "minorgridcolor": "white",
               "startlinecolor": "rgb(36,36,36)"
              },
              "type": "carpet"
             }
            ],
            "choropleth": [
             {
              "colorbar": {
               "outlinewidth": 1,
               "tickcolor": "rgb(36,36,36)",
               "ticks": "outside"
              },
              "type": "choropleth"
             }
            ],
            "contour": [
             {
              "colorbar": {
               "outlinewidth": 1,
               "tickcolor": "rgb(36,36,36)",
               "ticks": "outside"
              },
              "colorscale": [
               [
                0,
                "#440154"
               ],
               [
                0.1111111111111111,
                "#482878"
               ],
               [
                0.2222222222222222,
                "#3e4989"
               ],
               [
                0.3333333333333333,
                "#31688e"
               ],
               [
                0.4444444444444444,
                "#26828e"
               ],
               [
                0.5555555555555556,
                "#1f9e89"
               ],
               [
                0.6666666666666666,
                "#35b779"
               ],
               [
                0.7777777777777778,
                "#6ece58"
               ],
               [
                0.8888888888888888,
                "#b5de2b"
               ],
               [
                1,
                "#fde725"
               ]
              ],
              "type": "contour"
             }
            ],
            "contourcarpet": [
             {
              "colorbar": {
               "outlinewidth": 1,
               "tickcolor": "rgb(36,36,36)",
               "ticks": "outside"
              },
              "type": "contourcarpet"
             }
            ],
            "heatmap": [
             {
              "colorbar": {
               "outlinewidth": 1,
               "tickcolor": "rgb(36,36,36)",
               "ticks": "outside"
              },
              "colorscale": [
               [
                0,
                "#440154"
               ],
               [
                0.1111111111111111,
                "#482878"
               ],
               [
                0.2222222222222222,
                "#3e4989"
               ],
               [
                0.3333333333333333,
                "#31688e"
               ],
               [
                0.4444444444444444,
                "#26828e"
               ],
               [
                0.5555555555555556,
                "#1f9e89"
               ],
               [
                0.6666666666666666,
                "#35b779"
               ],
               [
                0.7777777777777778,
                "#6ece58"
               ],
               [
                0.8888888888888888,
                "#b5de2b"
               ],
               [
                1,
                "#fde725"
               ]
              ],
              "type": "heatmap"
             }
            ],
            "heatmapgl": [
             {
              "colorbar": {
               "outlinewidth": 1,
               "tickcolor": "rgb(36,36,36)",
               "ticks": "outside"
              },
              "colorscale": [
               [
                0,
                "#440154"
               ],
               [
                0.1111111111111111,
                "#482878"
               ],
               [
                0.2222222222222222,
                "#3e4989"
               ],
               [
                0.3333333333333333,
                "#31688e"
               ],
               [
                0.4444444444444444,
                "#26828e"
               ],
               [
                0.5555555555555556,
                "#1f9e89"
               ],
               [
                0.6666666666666666,
                "#35b779"
               ],
               [
                0.7777777777777778,
                "#6ece58"
               ],
               [
                0.8888888888888888,
                "#b5de2b"
               ],
               [
                1,
                "#fde725"
               ]
              ],
              "type": "heatmapgl"
             }
            ],
            "histogram": [
             {
              "marker": {
               "line": {
                "color": "white",
                "width": 0.6
               }
              },
              "type": "histogram"
             }
            ],
            "histogram2d": [
             {
              "colorbar": {
               "outlinewidth": 1,
               "tickcolor": "rgb(36,36,36)",
               "ticks": "outside"
              },
              "colorscale": [
               [
                0,
                "#440154"
               ],
               [
                0.1111111111111111,
                "#482878"
               ],
               [
                0.2222222222222222,
                "#3e4989"
               ],
               [
                0.3333333333333333,
                "#31688e"
               ],
               [
                0.4444444444444444,
                "#26828e"
               ],
               [
                0.5555555555555556,
                "#1f9e89"
               ],
               [
                0.6666666666666666,
                "#35b779"
               ],
               [
                0.7777777777777778,
                "#6ece58"
               ],
               [
                0.8888888888888888,
                "#b5de2b"
               ],
               [
                1,
                "#fde725"
               ]
              ],
              "type": "histogram2d"
             }
            ],
            "histogram2dcontour": [
             {
              "colorbar": {
               "outlinewidth": 1,
               "tickcolor": "rgb(36,36,36)",
               "ticks": "outside"
              },
              "colorscale": [
               [
                0,
                "#440154"
               ],
               [
                0.1111111111111111,
                "#482878"
               ],
               [
                0.2222222222222222,
                "#3e4989"
               ],
               [
                0.3333333333333333,
                "#31688e"
               ],
               [
                0.4444444444444444,
                "#26828e"
               ],
               [
                0.5555555555555556,
                "#1f9e89"
               ],
               [
                0.6666666666666666,
                "#35b779"
               ],
               [
                0.7777777777777778,
                "#6ece58"
               ],
               [
                0.8888888888888888,
                "#b5de2b"
               ],
               [
                1,
                "#fde725"
               ]
              ],
              "type": "histogram2dcontour"
             }
            ],
            "mesh3d": [
             {
              "colorbar": {
               "outlinewidth": 1,
               "tickcolor": "rgb(36,36,36)",
               "ticks": "outside"
              },
              "type": "mesh3d"
             }
            ],
            "parcoords": [
             {
              "line": {
               "colorbar": {
                "outlinewidth": 1,
                "tickcolor": "rgb(36,36,36)",
                "ticks": "outside"
               }
              },
              "type": "parcoords"
             }
            ],
            "pie": [
             {
              "automargin": true,
              "type": "pie"
             }
            ],
            "scatter": [
             {
              "fillpattern": {
               "fillmode": "overlay",
               "size": 10,
               "solidity": 0.2
              },
              "type": "scatter"
             }
            ],
            "scatter3d": [
             {
              "line": {
               "colorbar": {
                "outlinewidth": 1,
                "tickcolor": "rgb(36,36,36)",
                "ticks": "outside"
               }
              },
              "marker": {
               "colorbar": {
                "outlinewidth": 1,
                "tickcolor": "rgb(36,36,36)",
                "ticks": "outside"
               }
              },
              "type": "scatter3d"
             }
            ],
            "scattercarpet": [
             {
              "marker": {
               "colorbar": {
                "outlinewidth": 1,
                "tickcolor": "rgb(36,36,36)",
                "ticks": "outside"
               }
              },
              "type": "scattercarpet"
             }
            ],
            "scattergeo": [
             {
              "marker": {
               "colorbar": {
                "outlinewidth": 1,
                "tickcolor": "rgb(36,36,36)",
                "ticks": "outside"
               }
              },
              "type": "scattergeo"
             }
            ],
            "scattergl": [
             {
              "marker": {
               "colorbar": {
                "outlinewidth": 1,
                "tickcolor": "rgb(36,36,36)",
                "ticks": "outside"
               }
              },
              "type": "scattergl"
             }
            ],
            "scattermapbox": [
             {
              "marker": {
               "colorbar": {
                "outlinewidth": 1,
                "tickcolor": "rgb(36,36,36)",
                "ticks": "outside"
               }
              },
              "type": "scattermapbox"
             }
            ],
            "scatterpolar": [
             {
              "marker": {
               "colorbar": {
                "outlinewidth": 1,
                "tickcolor": "rgb(36,36,36)",
                "ticks": "outside"
               }
              },
              "type": "scatterpolar"
             }
            ],
            "scatterpolargl": [
             {
              "marker": {
               "colorbar": {
                "outlinewidth": 1,
                "tickcolor": "rgb(36,36,36)",
                "ticks": "outside"
               }
              },
              "type": "scatterpolargl"
             }
            ],
            "scatterternary": [
             {
              "marker": {
               "colorbar": {
                "outlinewidth": 1,
                "tickcolor": "rgb(36,36,36)",
                "ticks": "outside"
               }
              },
              "type": "scatterternary"
             }
            ],
            "surface": [
             {
              "colorbar": {
               "outlinewidth": 1,
               "tickcolor": "rgb(36,36,36)",
               "ticks": "outside"
              },
              "colorscale": [
               [
                0,
                "#440154"
               ],
               [
                0.1111111111111111,
                "#482878"
               ],
               [
                0.2222222222222222,
                "#3e4989"
               ],
               [
                0.3333333333333333,
                "#31688e"
               ],
               [
                0.4444444444444444,
                "#26828e"
               ],
               [
                0.5555555555555556,
                "#1f9e89"
               ],
               [
                0.6666666666666666,
                "#35b779"
               ],
               [
                0.7777777777777778,
                "#6ece58"
               ],
               [
                0.8888888888888888,
                "#b5de2b"
               ],
               [
                1,
                "#fde725"
               ]
              ],
              "type": "surface"
             }
            ],
            "table": [
             {
              "cells": {
               "fill": {
                "color": "rgb(237,237,237)"
               },
               "line": {
                "color": "white"
               }
              },
              "header": {
               "fill": {
                "color": "rgb(217,217,217)"
               },
               "line": {
                "color": "white"
               }
              },
              "type": "table"
             }
            ]
           },
           "layout": {
            "annotationdefaults": {
             "arrowhead": 0,
             "arrowwidth": 1
            },
            "autotypenumbers": "strict",
            "coloraxis": {
             "colorbar": {
              "outlinewidth": 1,
              "tickcolor": "rgb(36,36,36)",
              "ticks": "outside"
             }
            },
            "colorscale": {
             "diverging": [
              [
               0,
               "rgb(103,0,31)"
              ],
              [
               0.1,
               "rgb(178,24,43)"
              ],
              [
               0.2,
               "rgb(214,96,77)"
              ],
              [
               0.3,
               "rgb(244,165,130)"
              ],
              [
               0.4,
               "rgb(253,219,199)"
              ],
              [
               0.5,
               "rgb(247,247,247)"
              ],
              [
               0.6,
               "rgb(209,229,240)"
              ],
              [
               0.7,
               "rgb(146,197,222)"
              ],
              [
               0.8,
               "rgb(67,147,195)"
              ],
              [
               0.9,
               "rgb(33,102,172)"
              ],
              [
               1,
               "rgb(5,48,97)"
              ]
             ],
             "sequential": [
              [
               0,
               "#440154"
              ],
              [
               0.1111111111111111,
               "#482878"
              ],
              [
               0.2222222222222222,
               "#3e4989"
              ],
              [
               0.3333333333333333,
               "#31688e"
              ],
              [
               0.4444444444444444,
               "#26828e"
              ],
              [
               0.5555555555555556,
               "#1f9e89"
              ],
              [
               0.6666666666666666,
               "#35b779"
              ],
              [
               0.7777777777777778,
               "#6ece58"
              ],
              [
               0.8888888888888888,
               "#b5de2b"
              ],
              [
               1,
               "#fde725"
              ]
             ],
             "sequentialminus": [
              [
               0,
               "#440154"
              ],
              [
               0.1111111111111111,
               "#482878"
              ],
              [
               0.2222222222222222,
               "#3e4989"
              ],
              [
               0.3333333333333333,
               "#31688e"
              ],
              [
               0.4444444444444444,
               "#26828e"
              ],
              [
               0.5555555555555556,
               "#1f9e89"
              ],
              [
               0.6666666666666666,
               "#35b779"
              ],
              [
               0.7777777777777778,
               "#6ece58"
              ],
              [
               0.8888888888888888,
               "#b5de2b"
              ],
              [
               1,
               "#fde725"
              ]
             ]
            },
            "colorway": [
             "#1F77B4",
             "#FF7F0E",
             "#2CA02C",
             "#D62728",
             "#9467BD",
             "#8C564B",
             "#E377C2",
             "#7F7F7F",
             "#BCBD22",
             "#17BECF"
            ],
            "font": {
             "color": "rgb(36,36,36)"
            },
            "geo": {
             "bgcolor": "white",
             "lakecolor": "white",
             "landcolor": "white",
             "showlakes": true,
             "showland": true,
             "subunitcolor": "white"
            },
            "hoverlabel": {
             "align": "left"
            },
            "hovermode": "closest",
            "mapbox": {
             "style": "light"
            },
            "paper_bgcolor": "white",
            "plot_bgcolor": "white",
            "polar": {
             "angularaxis": {
              "gridcolor": "rgb(232,232,232)",
              "linecolor": "rgb(36,36,36)",
              "showgrid": false,
              "showline": true,
              "ticks": "outside"
             },
             "bgcolor": "white",
             "radialaxis": {
              "gridcolor": "rgb(232,232,232)",
              "linecolor": "rgb(36,36,36)",
              "showgrid": false,
              "showline": true,
              "ticks": "outside"
             }
            },
            "scene": {
             "xaxis": {
              "backgroundcolor": "white",
              "gridcolor": "rgb(232,232,232)",
              "gridwidth": 2,
              "linecolor": "rgb(36,36,36)",
              "showbackground": true,
              "showgrid": false,
              "showline": true,
              "ticks": "outside",
              "zeroline": false,
              "zerolinecolor": "rgb(36,36,36)"
             },
             "yaxis": {
              "backgroundcolor": "white",
              "gridcolor": "rgb(232,232,232)",
              "gridwidth": 2,
              "linecolor": "rgb(36,36,36)",
              "showbackground": true,
              "showgrid": false,
              "showline": true,
              "ticks": "outside",
              "zeroline": false,
              "zerolinecolor": "rgb(36,36,36)"
             },
             "zaxis": {
              "backgroundcolor": "white",
              "gridcolor": "rgb(232,232,232)",
              "gridwidth": 2,
              "linecolor": "rgb(36,36,36)",
              "showbackground": true,
              "showgrid": false,
              "showline": true,
              "ticks": "outside",
              "zeroline": false,
              "zerolinecolor": "rgb(36,36,36)"
             }
            },
            "shapedefaults": {
             "fillcolor": "black",
             "line": {
              "width": 0
             },
             "opacity": 0.3
            },
            "ternary": {
             "aaxis": {
              "gridcolor": "rgb(232,232,232)",
              "linecolor": "rgb(36,36,36)",
              "showgrid": false,
              "showline": true,
              "ticks": "outside"
             },
             "baxis": {
              "gridcolor": "rgb(232,232,232)",
              "linecolor": "rgb(36,36,36)",
              "showgrid": false,
              "showline": true,
              "ticks": "outside"
             },
             "bgcolor": "white",
             "caxis": {
              "gridcolor": "rgb(232,232,232)",
              "linecolor": "rgb(36,36,36)",
              "showgrid": false,
              "showline": true,
              "ticks": "outside"
             }
            },
            "title": {
             "x": 0.05
            },
            "xaxis": {
             "automargin": true,
             "gridcolor": "rgb(232,232,232)",
             "linecolor": "rgb(36,36,36)",
             "showgrid": false,
             "showline": true,
             "ticks": "outside",
             "title": {
              "standoff": 15
             },
             "zeroline": false,
             "zerolinecolor": "rgb(36,36,36)"
            },
            "yaxis": {
             "automargin": true,
             "gridcolor": "rgb(232,232,232)",
             "linecolor": "rgb(36,36,36)",
             "showgrid": false,
             "showline": true,
             "ticks": "outside",
             "title": {
              "standoff": 15
             },
             "zeroline": false,
             "zerolinecolor": "rgb(36,36,36)"
            }
           }
          },
          "title": {
           "font": {
            "family": "Inter Variable, Inter Tight, Inter",
            "weight": "bold"
           }
          },
          "xaxis": {
           "showgrid": false
          },
          "yaxis": {
           "showgrid": false
          }
         }
        },
        "title": {
         "text": "global_loss by step"
        },
        "xaxis": {
         "anchor": "y",
         "autorange": true,
         "domain": [
          0,
          1
         ],
         "range": [
          100,
          27100
         ],
         "title": {
          "text": "step"
         },
         "type": "linear"
        },
        "yaxis": {
         "anchor": "x",
         "autorange": true,
         "domain": [
          0,
          1
         ],
         "range": [
          0.48442169844476224,
          20.609246597731783
         ],
         "title": {
          "text": "global_loss"
         },
         "type": "linear"
        }
       }
      },
      "image/png": "[encoded data removed]",
      "text/html": [
       "<div>                            <div id=\"bf2dc8a5-1fa1-483c-bfcb-9964cc8210f8\" class=\"plotly-graph-div\" style=\"height:525px; width:100%;\"></div>            <script type=\"text/javascript\">                require([\"plotly\"], function(Plotly) {                    window.PLOTLYENV=window.PLOTLYENV || {};                                    if (document.getElementById(\"bf2dc8a5-1fa1-483c-bfcb-9964cc8210f8\")) {                    Plotly.newPlot(                        \"bf2dc8a5-1fa1-483c-bfcb-9964cc8210f8\",                        [{\"hovertemplate\":\"step=%{x}\\u003cbr\\u003eglobal_loss=%{y}\\u003cextra\\u003e\\u003c\\u002fextra\\u003e\",\"legendgroup\":\"\",\"line\":{\"color\":\"#114B8F\",\"dash\":\"solid\"},\"marker\":{\"symbol\":\"circle\"},\"mode\":\"lines\",\"name\":\"\",\"orientation\":\"v\",\"showlegend\":false,\"x\":[100,200,300,400,500,600,700,800,900,1000,1100,1200,1300,1400,1500,1600,1700,1800,1900,2000,2100,2200,2300,2400,2500,2600,2700,2800,2900,3000,3100,3200,3300,3400,3500,3600,3700,3800,3900,4000,4100,4200,4300,4400,4500,4600,4700,4800,4900,5000,5100,5200,5300,5400,5500,5600,5700,5800,5900,6000,6100,6200,6300,6400,6500,6600,6700,6800,6900,7000,7100,7200,7300,7400,7500,7600,7700,7800,7900,8000,8100,8200,8300,8400,8500,8600,8700,8800,8900,9000,9100,9200,9300,9400,9500,9600,9700,9800,9900,10000,10100,10200,10300,10400,10500,10600,10700,10800,10900,11000,11100,11200,11300,11400,11500,11600,11700,11800,11900,12000,12100,12200,12300,12400,12500,12600,12700,12800,12900,13000,13100,13200,13300,13400,13500,13600,13700,13800,13900,14000,14100,14200,14300,14400,14500,14600,14700,14800,14900,15000,15100,15200,15300,15400,15500,15600,15700,15800,15900,16000,16100,16200,16300,16400,16500,16600,16700,16800,16900,17000,17100,17200,17300,17400,17500,17600,17700,17800,17900,18000,18100,18200,18300,18400,18500,18600,18700,18800,18900,19000,19100,19200,19300,19400,19500,19600,19700,19800,19900,20000,20100,20200,20300,20400,20500,20600,20700,20800,20900,21000,21100,21200,21300,21400,21500,21600,21700,21800,21900,22000,22100,22200,22300,22400,22500,22600,22700,22800,22900,23000,23100,23200,23300,23400,23500,23600,23700,23800,23900,24000,24100,24200,24300,24400,24500,24600,24700,24800,24900,25000,25100,25200,25300,25400,25500,25600,25700,25800,25900,26000,26100,26200,26300,26400,26500,26600,26700,26800,26900,27000,27100],\"xaxis\":\"x\",\"y\":[19.603005352767433,19.50104262097074,19.484818306859374,19.56068243652908,19.45417048349163,19.417603812081744,19.48368788668143,19.473704927265807,19.440321789295485,19.434185398047685,19.512633012790833,19.45124104709431,19.489811428539564,19.446309448451103,19.378521733480074,19.33632793087325,19.290023936941772,19.218455373880722,19.116519725201172,19.00997077117911,18.897148308181247,18.77967411863433,18.651825113476907,18.542088454322705,18.412990877182963,18.298086686991248,18.153621085015534,18.032383522078426,17.916882982961976,17.799074128404204,17.660369007254083,17.5302992536081,17.379114329931127,17.251439719245177,17.10791350540192,16.9502305177764,16.83338785289453,16.6997850088052,16.547554724213985,16.421937095672824,16.30559516245756,16.166403039996442,16.05166594110019,15.932161555354204,15.818900551998365,6.628014630609691,6.072091109692019,6.086873927856347,6.311303642846038,6.350627849739853,6.405032083049385,6.41994262272664,6.420257661670928,6.412982048179651,6.43916437802294,6.496052846625316,6.467538452277583,6.476101924069391,6.478072185872008,6.447189352580231,6.46425857205289,6.453467454396751,6.471923756566685,6.472324930779905,6.521615660374313,6.502546064460415,6.499787741463209,6.491334891292821,6.478161563637284,6.498926788471764,6.503601912413486,6.502928753065068,6.50235022222187,6.5096548361959075,6.549704107353878,6.552683893847182,6.552439108670066,6.55969105151853,6.576676189943551,6.577992250251017,6.5763784923270645,6.57191561755996,6.559002175499025,6.557074504572431,6.560658944529019,6.565098754852984,6.565833447963111,6.565234248932271,6.574392436762192,6.568936383138551,2.898286715778463,3.3230646941499518,3.4197992816922933,3.463641038110943,3.4575693650269677,3.494770027439054,3.49986071194587,3.5184509066803185,3.5049996645267294,3.49081382141197,3.5176610243307094,3.515369169080154,3.555618742831713,3.5585844765183094,3.5720220145044905,3.5973914552794675,3.616006898754306,3.680476769810138,3.688187299378898,3.7036940840097863,3.735142186078982,3.7621763502197814,3.776443956699677,3.827772859835238,3.8471969670803174,3.8593443507349128,3.8699652911088163,3.886599828744111,3.9067033513060236,3.925846236588336,3.950374789886932,3.9789497061677435,3.998797236003682,4.01613863988358,4.0236127252109615,4.027834025717999,4.038413144905826,4.048660669737784,4.057584066813907,4.071568342534784,4.09744854923585,4.124324030568606,4.138430547427576,4.154373846995912,4.164047418001343,2.420025211842033,2.132782035623582,2.182682854083343,2.104483689234915,2.155318158061591,2.192946383550782,2.2157199132169474,2.2669557895753973,2.301236274610536,2.3324553786414333,2.365744805292849,2.406787224405995,2.4263955990524,2.4677388611234643,2.4852166812396477,2.52154987213932,2.5524766911813277,2.576333872966075,2.581049626165515,2.5950519057135923,2.5991679209061265,2.629558118636676,2.6383749302798516,2.666091127115319,2.6765945351122684,2.6959944713882744,2.724916077183735,2.75258289120325,2.7736183304256854,2.78681337210325,2.811430904417968,2.834647060103815,2.8650042755731184,2.889640011190709,2.9066383731832777,2.937638968412044,2.968936433000831,2.996141258567555,3.0122694108165997,3.0276592949069885,3.0497097815927257,3.069994441953889,3.0926963712237745,3.1048039922115414,3.12982692472127,1.7083392953926069,1.8452445567171922,1.7735120450001467,1.8142876696718233,1.8561908818001895,1.9210127366217158,1.9306054013984604,1.915046870191947,1.9020766640697169,1.948543581615612,1.9597733485989328,2.00585032678619,2.0023353769400187,2.0087059698386347,2.0271878029208774,2.0583536136740053,2.0815420092901373,2.101448460572535,2.120547172052173,2.111577319506666,2.1318784188192965,2.1440733209254237,2.1698500339355693,2.1813435102410983,2.185891408619545,2.2006574430726435,2.207225837303438,2.2237841433438583,2.249654386609949,2.2582246509602304,2.2692339196585976,2.291476671719811,2.308681768225477,2.3286333825537087,2.3437929502931185,2.3642145309773523,2.3810784442925277,2.392675341771592,2.415218082818426,2.4441600596978086,2.4516547297335554,2.472125178253325,2.493404545159117,2.5118277759374017,2.5206367793357853,2.538647131885315,1.4906629434091134,1.5668447227203393,1.543226818555273,1.622112031731289,1.5652008833095963,1.6224840164022887,1.5931322861830093,1.6061778680237733,1.6224445589356629,1.6159874612986114,1.6795070833042782,1.6884148467037272,1.70566946722476,1.736073706243735,1.7725774912814067,1.7840689328033725,1.7823035969598107,1.810063664008528,1.84311397085332,1.8616256411020216,1.860635581153394,1.8813114626462466,1.8890969392882937,1.8955765511095328,1.909223830365022,1.9286896237750242,1.9436802560449105,1.967778287989764,1.9767492422474222,1.9931204279121597,2.0035829375484155,2.027235528655855,2.0365761715524475,2.044873069931698,2.057035612346487,2.0742459432303244,2.080635786263186,2.087211197839395,2.0875324732282983,2.102796787594008,2.1156947225221225,2.13244316542851,2.1443025678152767,2.1677482887158903,2.1838719510651727],\"yaxis\":\"y\",\"type\":\"scatter\"}],                        {\"template\":{\"layout\":{\"colorway\":[\"#114B8F\",\"#248F11\",\"#8F6211\",\"#8F116C\",\"#1A293A\"],\"font\":{\"family\":\"Inter Variable, Inter\"},\"showlegend\":false,\"template\":{\"data\":{\"barpolar\":[{\"marker\":{\"line\":{\"color\":\"white\",\"width\":0.5},\"pattern\":{\"fillmode\":\"overlay\",\"size\":10,\"solidity\":0.2}},\"type\":\"barpolar\"}],\"bar\":[{\"error_x\":{\"color\":\"rgb(36,36,36)\"},\"error_y\":{\"color\":\"rgb(36,36,36)\"},\"marker\":{\"line\":{\"color\":\"white\",\"width\":0.5},\"pattern\":{\"fillmode\":\"overlay\",\"size\":10,\"solidity\":0.2}},\"type\":\"bar\"}],\"carpet\":[{\"aaxis\":{\"endlinecolor\":\"rgb(36,36,36)\",\"gridcolor\":\"white\",\"linecolor\":\"white\",\"minorgridcolor\":\"white\",\"startlinecolor\":\"rgb(36,36,36)\"},\"baxis\":{\"endlinecolor\":\"rgb(36,36,36)\",\"gridcolor\":\"white\",\"linecolor\":\"white\",\"minorgridcolor\":\"white\",\"startlinecolor\":\"rgb(36,36,36)\"},\"type\":\"carpet\"}],\"choropleth\":[{\"colorbar\":{\"outlinewidth\":1,\"tickcolor\":\"rgb(36,36,36)\",\"ticks\":\"outside\"},\"type\":\"choropleth\"}],\"contourcarpet\":[{\"colorbar\":{\"outlinewidth\":1,\"tickcolor\":\"rgb(36,36,36)\",\"ticks\":\"outside\"},\"type\":\"contourcarpet\"}],\"contour\":[{\"colorbar\":{\"outlinewidth\":1,\"tickcolor\":\"rgb(36,36,36)\",\"ticks\":\"outside\"},\"colorscale\":[[0.0,\"#440154\"],[0.1111111111111111,\"#482878\"],[0.2222222222222222,\"#3e4989\"],[0.3333333333333333,\"#31688e\"],[0.4444444444444444,\"#26828e\"],[0.5555555555555556,\"#1f9e89\"],[0.6666666666666666,\"#35b779\"],[0.7777777777777778,\"#6ece58\"],[0.8888888888888888,\"#b5de2b\"],[1.0,\"#fde725\"]],\"type\":\"contour\"}],\"heatmapgl\":[{\"colorbar\":{\"outlinewidth\":1,\"tickcolor\":\"rgb(36,36,36)\",\"ticks\":\"outside\"},\"colorscale\":[[0.0,\"#440154\"],[0.1111111111111111,\"#482878\"],[0.2222222222222222,\"#3e4989\"],[0.3333333333333333,\"#31688e\"],[0.4444444444444444,\"#26828e\"],[0.5555555555555556,\"#1f9e89\"],[0.6666666666666666,\"#35b779\"],[0.7777777777777778,\"#6ece58\"],[0.8888888888888888,\"#b5de2b\"],[1.0,\"#fde725\"]],\"type\":\"heatmapgl\"}],\"heatmap\":[{\"colorbar\":{\"outlinewidth\":1,\"tickcolor\":\"rgb(36,36,36)\",\"ticks\":\"outside\"},\"colorscale\":[[0.0,\"#440154\"],[0.1111111111111111,\"#482878\"],[0.2222222222222222,\"#3e4989\"],[0.3333333333333333,\"#31688e\"],[0.4444444444444444,\"#26828e\"],[0.5555555555555556,\"#1f9e89\"],[0.6666666666666666,\"#35b779\"],[0.7777777777777778,\"#6ece58\"],[0.8888888888888888,\"#b5de2b\"],[1.0,\"#fde725\"]],\"type\":\"heatmap\"}],\"histogram2dcontour\":[{\"colorbar\":{\"outlinewidth\":1,\"tickcolor\":\"rgb(36,36,36)\",\"ticks\":\"outside\"},\"colorscale\":[[0.0,\"#440154\"],[0.1111111111111111,\"#482878\"],[0.2222222222222222,\"#3e4989\"],[0.3333333333333333,\"#31688e\"],[0.4444444444444444,\"#26828e\"],[0.5555555555555556,\"#1f9e89\"],[0.6666666666666666,\"#35b779\"],[0.7777777777777778,\"#6ece58\"],[0.8888888888888888,\"#b5de2b\"],[1.0,\"#fde725\"]],\"type\":\"histogram2dcontour\"}],\"histogram2d\":[{\"colorbar\":{\"outlinewidth\":1,\"tickcolor\":\"rgb(36,36,36)\",\"ticks\":\"outside\"},\"colorscale\":[[0.0,\"#440154\"],[0.1111111111111111,\"#482878\"],[0.2222222222222222,\"#3e4989\"],[0.3333333333333333,\"#31688e\"],[0.4444444444444444,\"#26828e\"],[0.5555555555555556,\"#1f9e89\"],[0.6666666666666666,\"#35b779\"],[0.7777777777777778,\"#6ece58\"],[0.8888888888888888,\"#b5de2b\"],[1.0,\"#fde725\"]],\"type\":\"histogram2d\"}],\"histogram\":[{\"marker\":{\"line\":{\"color\":\"white\",\"width\":0.6}},\"type\":\"histogram\"}],\"mesh3d\":[{\"colorbar\":{\"outlinewidth\":1,\"tickcolor\":\"rgb(36,36,36)\",\"ticks\":\"outside\"},\"type\":\"mesh3d\"}],\"parcoords\":[{\"line\":{\"colorbar\":{\"outlinewidth\":1,\"tickcolor\":\"rgb(36,36,36)\",\"ticks\":\"outside\"}},\"type\":\"parcoords\"}],\"pie\":[{\"automargin\":true,\"type\":\"pie\"}],\"scatter3d\":[{\"line\":{\"colorbar\":{\"outlinewidth\":1,\"tickcolor\":\"rgb(36,36,36)\",\"ticks\":\"outside\"}},\"marker\":{\"colorbar\":{\"outlinewidth\":1,\"tickcolor\":\"rgb(36,36,36)\",\"ticks\":\"outside\"}},\"type\":\"scatter3d\"}],\"scattercarpet\":[{\"marker\":{\"colorbar\":{\"outlinewidth\":1,\"tickcolor\":\"rgb(36,36,36)\",\"ticks\":\"outside\"}},\"type\":\"scattercarpet\"}],\"scattergeo\":[{\"marker\":{\"colorbar\":{\"outlinewidth\":1,\"tickcolor\":\"rgb(36,36,36)\",\"ticks\":\"outside\"}},\"type\":\"scattergeo\"}],\"scattergl\":[{\"marker\":{\"colorbar\":{\"outlinewidth\":1,\"tickcolor\":\"rgb(36,36,36)\",\"ticks\":\"outside\"}},\"type\":\"scattergl\"}],\"scattermapbox\":[{\"marker\":{\"colorbar\":{\"outlinewidth\":1,\"tickcolor\":\"rgb(36,36,36)\",\"ticks\":\"outside\"}},\"type\":\"scattermapbox\"}],\"scatterpolargl\":[{\"marker\":{\"colorbar\":{\"outlinewidth\":1,\"tickcolor\":\"rgb(36,36,36)\",\"ticks\":\"outside\"}},\"type\":\"scatterpolargl\"}],\"scatterpolar\":[{\"marker\":{\"colorbar\":{\"outlinewidth\":1,\"tickcolor\":\"rgb(36,36,36)\",\"ticks\":\"outside\"}},\"type\":\"scatterpolar\"}],\"scatter\":[{\"fillpattern\":{\"fillmode\":\"overlay\",\"size\":10,\"solidity\":0.2},\"type\":\"scatter\"}],\"scatterternary\":[{\"marker\":{\"colorbar\":{\"outlinewidth\":1,\"tickcolor\":\"rgb(36,36,36)\",\"ticks\":\"outside\"}},\"type\":\"scatterternary\"}],\"surface\":[{\"colorbar\":{\"outlinewidth\":1,\"tickcolor\":\"rgb(36,36,36)\",\"ticks\":\"outside\"},\"colorscale\":[[0.0,\"#440154\"],[0.1111111111111111,\"#482878\"],[0.2222222222222222,\"#3e4989\"],[0.3333333333333333,\"#31688e\"],[0.4444444444444444,\"#26828e\"],[0.5555555555555556,\"#1f9e89\"],[0.6666666666666666,\"#35b779\"],[0.7777777777777778,\"#6ece58\"],[0.8888888888888888,\"#b5de2b\"],[1.0,\"#fde725\"]],\"type\":\"surface\"}],\"table\":[{\"cells\":{\"fill\":{\"color\":\"rgb(237,237,237)\"},\"line\":{\"color\":\"white\"}},\"header\":{\"fill\":{\"color\":\"rgb(217,217,217)\"},\"line\":{\"color\":\"white\"}},\"type\":\"table\"}]},\"layout\":{\"annotationdefaults\":{\"arrowhead\":0,\"arrowwidth\":1},\"autotypenumbers\":\"strict\",\"coloraxis\":{\"colorbar\":{\"outlinewidth\":1,\"tickcolor\":\"rgb(36,36,36)\",\"ticks\":\"outside\"}},\"colorscale\":{\"diverging\":[[0.0,\"rgb(103,0,31)\"],[0.1,\"rgb(178,24,43)\"],[0.2,\"rgb(214,96,77)\"],[0.3,\"rgb(244,165,130)\"],[0.4,\"rgb(253,219,199)\"],[0.5,\"rgb(247,247,247)\"],[0.6,\"rgb(209,229,240)\"],[0.7,\"rgb(146,197,222)\"],[0.8,\"rgb(67,147,195)\"],[0.9,\"rgb(33,102,172)\"],[1.0,\"rgb(5,48,97)\"]],\"sequential\":[[0.0,\"#440154\"],[0.1111111111111111,\"#482878\"],[0.2222222222222222,\"#3e4989\"],[0.3333333333333333,\"#31688e\"],[0.4444444444444444,\"#26828e\"],[0.5555555555555556,\"#1f9e89\"],[0.6666666666666666,\"#35b779\"],[0.7777777777777778,\"#6ece58\"],[0.8888888888888888,\"#b5de2b\"],[1.0,\"#fde725\"]],\"sequentialminus\":[[0.0,\"#440154\"],[0.1111111111111111,\"#482878\"],[0.2222222222222222,\"#3e4989\"],[0.3333333333333333,\"#31688e\"],[0.4444444444444444,\"#26828e\"],[0.5555555555555556,\"#1f9e89\"],[0.6666666666666666,\"#35b779\"],[0.7777777777777778,\"#6ece58\"],[0.8888888888888888,\"#b5de2b\"],[1.0,\"#fde725\"]]},\"colorway\":[\"#1F77B4\",\"#FF7F0E\",\"#2CA02C\",\"#D62728\",\"#9467BD\",\"#8C564B\",\"#E377C2\",\"#7F7F7F\",\"#BCBD22\",\"#17BECF\"],\"font\":{\"color\":\"rgb(36,36,36)\"},\"geo\":{\"bgcolor\":\"white\",\"lakecolor\":\"white\",\"landcolor\":\"white\",\"showlakes\":true,\"showland\":true,\"subunitcolor\":\"white\"},\"hoverlabel\":{\"align\":\"left\"},\"hovermode\":\"closest\",\"mapbox\":{\"style\":\"light\"},\"paper_bgcolor\":\"white\",\"plot_bgcolor\":\"white\",\"polar\":{\"angularaxis\":{\"gridcolor\":\"rgb(232,232,232)\",\"linecolor\":\"rgb(36,36,36)\",\"showgrid\":false,\"showline\":true,\"ticks\":\"outside\"},\"bgcolor\":\"white\",\"radialaxis\":{\"gridcolor\":\"rgb(232,232,232)\",\"linecolor\":\"rgb(36,36,36)\",\"showgrid\":false,\"showline\":true,\"ticks\":\"outside\"}},\"scene\":{\"xaxis\":{\"backgroundcolor\":\"white\",\"gridcolor\":\"rgb(232,232,232)\",\"gridwidth\":2,\"linecolor\":\"rgb(36,36,36)\",\"showbackground\":true,\"showgrid\":false,\"showline\":true,\"ticks\":\"outside\",\"zeroline\":false,\"zerolinecolor\":\"rgb(36,36,36)\"},\"yaxis\":{\"backgroundcolor\":\"white\",\"gridcolor\":\"rgb(232,232,232)\",\"gridwidth\":2,\"linecolor\":\"rgb(36,36,36)\",\"showbackground\":true,\"showgrid\":false,\"showline\":true,\"ticks\":\"outside\",\"zeroline\":false,\"zerolinecolor\":\"rgb(36,36,36)\"},\"zaxis\":{\"backgroundcolor\":\"white\",\"gridcolor\":\"rgb(232,232,232)\",\"gridwidth\":2,\"linecolor\":\"rgb(36,36,36)\",\"showbackground\":true,\"showgrid\":false,\"showline\":true,\"ticks\":\"outside\",\"zeroline\":false,\"zerolinecolor\":\"rgb(36,36,36)\"}},\"shapedefaults\":{\"fillcolor\":\"black\",\"line\":{\"width\":0},\"opacity\":0.3},\"ternary\":{\"aaxis\":{\"gridcolor\":\"rgb(232,232,232)\",\"linecolor\":\"rgb(36,36,36)\",\"showgrid\":false,\"showline\":true,\"ticks\":\"outside\"},\"baxis\":{\"gridcolor\":\"rgb(232,232,232)\",\"linecolor\":\"rgb(36,36,36)\",\"showgrid\":false,\"showline\":true,\"ticks\":\"outside\"},\"bgcolor\":\"white\",\"caxis\":{\"gridcolor\":\"rgb(232,232,232)\",\"linecolor\":\"rgb(36,36,36)\",\"showgrid\":false,\"showline\":true,\"ticks\":\"outside\"}},\"title\":{\"x\":0.05},\"xaxis\":{\"automargin\":true,\"gridcolor\":\"rgb(232,232,232)\",\"linecolor\":\"rgb(36,36,36)\",\"showgrid\":false,\"showline\":true,\"ticks\":\"outside\",\"title\":{\"standoff\":15},\"zeroline\":false,\"zerolinecolor\":\"rgb(36,36,36)\"},\"yaxis\":{\"automargin\":true,\"gridcolor\":\"rgb(232,232,232)\",\"linecolor\":\"rgb(36,36,36)\",\"showgrid\":false,\"showline\":true,\"ticks\":\"outside\",\"title\":{\"standoff\":15},\"zeroline\":false,\"zerolinecolor\":\"rgb(36,36,36)\"}}},\"title\":{\"font\":{\"family\":\"Inter Variable, Inter Tight, Inter\",\"weight\":\"bold\"}},\"xaxis\":{\"showgrid\":false},\"yaxis\":{\"showgrid\":false}}},\"xaxis\":{\"anchor\":\"y\",\"domain\":[0.0,1.0],\"title\":{\"text\":\"step\"}},\"yaxis\":{\"anchor\":\"x\",\"domain\":[0.0,1.0],\"title\":{\"text\":\"global_loss\"}},\"legend\":{\"tracegroupgap\":0},\"title\":{\"text\":\"global_loss by step\"}},                        {\"responsive\": true}                    ).then(function(){\n",
       "                            \n",
       "var gd = document.getElementById('bf2dc8a5-1fa1-483c-bfcb-9964cc8210f8');\n",
       "var x = new MutationObserver(function (mutations, observer) {{\n",
       "        var display = window.getComputedStyle(gd).display;\n",
       "        if (!display || display === 'none') {{\n",
       "            console.log([gd, 'removed!']);\n",
       "            Plotly.purge(gd);\n",
       "            observer.disconnect();\n",
       "        }}\n",
       "}});\n",
       "\n",
       "// Listen for the removal of the full notebook cells\n",
       "var notebookContainer = gd.closest('#notebook-container');\n",
       "if (notebookContainer) {{\n",
       "    x.observe(notebookContainer, {childList: true});\n",
       "}}\n",
       "\n",
       "// Listen for the clearing of the current output cell\n",
       "var outputEl = gd.closest('.output');\n",
       "if (outputEl) {{\n",
       "    x.observe(outputEl, {childList: true});\n",
       "}}\n",
       "\n",
       "                        })                };                });            </script>        </div>"
      ]
     },
     "metadata": {},
     "output_type": "display_data"
    },
    {
     "data": {
      "application/vnd.plotly.v1+json": {
       "config": {
        "plotlyServerURL": "https://plot.ly"
       },
       "data": [
        {
         "hovertemplate": "step=%{x}<br>learning_rate=%{y}<extra></extra>",
         "legendgroup": "",
         "line": {
          "color": "#114B8F",
          "dash": "solid"
         },
         "marker": {
          "symbol": "circle"
         },
         "mode": "lines",
         "name": "",
         "orientation": "v",
         "showlegend": false,
         "type": "scatter",
         "x": [
          100,
          200,
          300,
          400,
          500,
          600,
          700,
          800,
          900,
          1000,
          1100,
          1200,
          1300,
          1400,
          1500,
          1600,
          1700,
          1800,
          1900,
          2000,
          2100,
          2200,
          2300,
          2400,
          2500,
          2600,
          2700,
          2800,
          2900,
          3000,
          3100,
          3200,
          3300,
          3400,
          3500,
          3600,
          3700,
          3800,
          3900,
          4000,
          4100,
          4200,
          4300,
          4400,
          4500,
          4600,
          4700,
          4800,
          4900,
          5000,
          5100,
          5200,
          5300,
          5400,
          5500,
          5600,
          5700,
          5800,
          5900,
          6000,
          6100,
          6200,
          6300,
          6400,
          6500,
          6600,
          6700,
          6800,
          6900,
          7000,
          7100,
          7200,
          7300,
          7400,
          7500,
          7600,
          7700,
          7800,
          7900,
          8000,
          8100,
          8200,
          8300,
          8400,
          8500,
          8600,
          8700,
          8800,
          8900,
          9000,
          9100,
          9200,
          9300,
          9400,
          9500,
          9600,
          9700,
          9800,
          9900,
          10000,
          10100,
          10200,
          10300,
          10400,
          10500,
          10600,
          10700,
          10800,
          10900,
          11000,
          11100,
          11200,
          11300,
          11400,
          11500,
          11600,
          11700,
          11800,
          11900,
          12000,
          12100,
          12200,
          12300,
          12400,
          12500,
          12600,
          12700,
          12800,
          12900,
          13000,
          13100,
          13200,
          13300,
          13400,
          13500,
          13600,
          13700,
          13800,
          13900,
          14000,
          14100,
          14200,
          14300,
          14400,
          14500,
          14600,
          14700,
          14800,
          14900,
          15000,
          15100,
          15200,
          15300,
          15400,
          15500,
          15600,
          15700,
          15800,
          15900,
          16000,
          16100,
          16200,
          16300,
          16400,
          16500,
          16600,
          16700,
          16800,
          16900,
          17000,
          17100,
          17200,
          17300,
          17400,
          17500,
          17600,
          17700,
          17800,
          17900,
          18000,
          18100,
          18200,
          18300,
          18400,
          18500,
          18600,
          18700,
          18800,
          18900,
          19000,
          19100,
          19200,
          19300,
          19400,
          19500,
          19600,
          19700,
          19800,
          19900,
          20000,
          20100,
          20200,
          20300,
          20400,
          20500,
          20600,
          20700,
          20800,
          20900,
          21000,
          21100,
          21200,
          21300,
          21400,
          21500,
          21600,
          21700,
          21800,
          21900,
          22000,
          22100,
          22200,
          22300,
          22400,
          22500,
          22600,
          22700,
          22800,
          22900,
          23000,
          23100,
          23200,
          23300,
          23400,
          23500,
          23600,
          23700,
          23800,
          23900,
          24000,
          24100,
          24200,
          24300,
          24400,
          24500,
          24600,
          24700,
          24800,
          24900,
          25000,
          25100,
          25200,
          25300,
          25400,
          25500,
          25600,
          25700,
          25800,
          25900,
          26000,
          26100,
          26200,
          26300,
          26400,
          26500,
          26600,
          26700,
          26800,
          26900,
          27000,
          27100
         ],
         "xaxis": "x",
         "y": [
          0.03,
          0.03,
          0.03,
          0.03,
          0.03,
          0.03,
          0.03,
          0.03,
          0.03,
          0.027,
          0.027,
          0.027,
          0.027,
          0.027,
          0.027,
          0.027,
          0.027,
          0.027,
          0.027,
          0.0243,
          0.0243,
          0.0243,
          0.0243,
          0.0243,
          0.0243,
          0.0243,
          0.0243,
          0.0243,
          0.0243,
          0.02187,
          0.02187,
          0.02187,
          0.02187,
          0.02187,
          0.02187,
          0.02187,
          0.02187,
          0.02187,
          0.02187,
          0.019683000000000003,
          0.019683000000000003,
          0.019683000000000003,
          0.019683000000000003,
          0.019683000000000003,
          0.019683000000000003,
          0.019683000000000003,
          0.019683000000000003,
          0.019683000000000003,
          0.019683000000000003,
          0.017714700000000003,
          0.017714700000000003,
          0.017714700000000003,
          0.017714700000000003,
          0.017714700000000003,
          0.017714700000000003,
          0.017714700000000003,
          0.017714700000000003,
          0.017714700000000003,
          0.017714700000000003,
          0.015943230000000003,
          0.015943230000000003,
          0.015943230000000003,
          0.015943230000000003,
          0.015943230000000003,
          0.015943230000000003,
          0.015943230000000003,
          0.015943230000000003,
          0.015943230000000003,
          0.015943230000000003,
          0.014348907000000003,
          0.014348907000000003,
          0.014348907000000003,
          0.014348907000000003,
          0.014348907000000003,
          0.014348907000000003,
          0.014348907000000003,
          0.014348907000000003,
          0.014348907000000003,
          0.014348907000000003,
          0.012914016300000003,
          0.012914016300000003,
          0.012914016300000003,
          0.012914016300000003,
          0.012914016300000003,
          0.012914016300000003,
          0.012914016300000003,
          0.012914016300000003,
          0.012914016300000003,
          0.012914016300000003,
          0.011622614670000003,
          0.011622614670000003,
          0.011622614670000003,
          0.011622614670000003,
          0.011622614670000003,
          0.011622614670000003,
          0.011622614670000003,
          0.011622614670000003,
          0.011622614670000003,
          0.011622614670000003,
          0.010460353203000003,
          0.010460353203000003,
          0.010460353203000003,
          0.010460353203000003,
          0.010460353203000003,
          0.010460353203000003,
          0.010460353203000003,
          0.010460353203000003,
          0.010460353203000003,
          0.010460353203000003,
          0.009414317882700002,
          0.009414317882700002,
          0.009414317882700002,
          0.009414317882700002,
          0.009414317882700002,
          0.009414317882700002,
          0.009414317882700002,
          0.009414317882700002,
          0.009414317882700002,
          0.009414317882700002,
          0.008472886094430003,
          0.008472886094430003,
          0.008472886094430003,
          0.008472886094430003,
          0.008472886094430003,
          0.008472886094430003,
          0.008472886094430003,
          0.008472886094430003,
          0.008472886094430003,
          0.008472886094430003,
          0.007625597484987002,
          0.007625597484987002,
          0.007625597484987002,
          0.007625597484987002,
          0.007625597484987002,
          0.007625597484987002,
          0.007625597484987002,
          0.007625597484987002,
          0.007625597484987002,
          0.007625597484987002,
          0.006863037736488302,
          0.006863037736488302,
          0.006863037736488302,
          0.006863037736488302,
          0.006863037736488302,
          0.006863037736488302,
          0.006863037736488302,
          0.006863037736488302,
          0.006863037736488302,
          0.006863037736488302,
          0.0061767339628394724,
          0.0061767339628394724,
          0.0061767339628394724,
          0.0061767339628394724,
          0.0061767339628394724,
          0.0061767339628394724,
          0.0061767339628394724,
          0.0061767339628394724,
          0.0061767339628394724,
          0.0061767339628394724,
          0.005559060566555525,
          0.005559060566555525,
          0.005559060566555525,
          0.005559060566555525,
          0.005559060566555525,
          0.005559060566555525,
          0.005559060566555525,
          0.005559060566555525,
          0.005559060566555525,
          0.005559060566555525,
          0.005003154509899972,
          0.005003154509899972,
          0.005003154509899972,
          0.005003154509899972,
          0.005003154509899972,
          0.005003154509899972,
          0.005003154509899972,
          0.005003154509899972,
          0.005003154509899972,
          0.005003154509899972,
          0.004502839058909975,
          0.004502839058909975,
          0.004502839058909975,
          0.004502839058909975,
          0.004502839058909975,
          0.004502839058909975,
          0.004502839058909975,
          0.004502839058909975,
          0.004502839058909975,
          0.004502839058909975,
          0.004052555153018977,
          0.004052555153018977,
          0.004052555153018977,
          0.004052555153018977,
          0.004052555153018977,
          0.004052555153018977,
          0.004052555153018977,
          0.004052555153018977,
          0.004052555153018977,
          0.004052555153018977,
          0.0036472996377170793,
          0.0036472996377170793,
          0.0036472996377170793,
          0.0036472996377170793,
          0.0036472996377170793,
          0.0036472996377170793,
          0.0036472996377170793,
          0.0036472996377170793,
          0.0036472996377170793,
          0.0036472996377170793,
          0.0032825696739453717,
          0.0032825696739453717,
          0.0032825696739453717,
          0.0032825696739453717,
          0.0032825696739453717,
          0.0032825696739453717,
          0.0032825696739453717,
          0.0032825696739453717,
          0.0032825696739453717,
          0.0032825696739453717,
          0.0029543127065508345,
          0.0029543127065508345,
          0.0029543127065508345,
          0.0029543127065508345,
          0.0029543127065508345,
          0.0029543127065508345,
          0.0029543127065508345,
          0.0029543127065508345,
          0.0029543127065508345,
          0.0029543127065508345,
          0.002658881435895751,
          0.002658881435895751,
          0.002658881435895751,
          0.002658881435895751,
          0.002658881435895751,
          0.002658881435895751,
          0.002658881435895751,
          0.002658881435895751,
          0.002658881435895751,
          0.002658881435895751,
          0.002392993292306176,
          0.002392993292306176,
          0.002392993292306176,
          0.002392993292306176,
          0.002392993292306176,
          0.002392993292306176,
          0.002392993292306176,
          0.002392993292306176,
          0.002392993292306176,
          0.002392993292306176,
          0.0021536939630755585,
          0.0021536939630755585,
          0.0021536939630755585,
          0.0021536939630755585,
          0.0021536939630755585,
          0.0021536939630755585,
          0.0021536939630755585,
          0.0021536939630755585,
          0.0021536939630755585,
          0.0021536939630755585,
          0.0019383245667680027,
          0.0019383245667680027,
          0.0019383245667680027,
          0.0019383245667680027,
          0.0019383245667680027,
          0.0019383245667680027,
          0.0019383245667680027,
          0.0019383245667680027,
          0.0019383245667680027,
          0.0019383245667680027,
          0.0017444921100912025,
          0.0017444921100912025
         ],
         "yaxis": "y"
        }
       ],
       "layout": {
        "autosize": true,
        "legend": {
         "tracegroupgap": 0
        },
        "template": {
         "layout": {
          "colorway": [
           "#114B8F",
           "#248F11",
           "#8F6211",
           "#8F116C",
           "#1A293A"
          ],
          "font": {
           "family": "Inter Variable, Inter"
          },
          "showlegend": false,
          "template": {
           "data": {
            "bar": [
             {
              "error_x": {
               "color": "rgb(36,36,36)"
              },
              "error_y": {
               "color": "rgb(36,36,36)"
              },
              "marker": {
               "line": {
                "color": "white",
                "width": 0.5
               },
               "pattern": {
                "fillmode": "overlay",
                "size": 10,
                "solidity": 0.2
               }
              },
              "type": "bar"
             }
            ],
            "barpolar": [
             {
              "marker": {
               "line": {
                "color": "white",
                "width": 0.5
               },
               "pattern": {
                "fillmode": "overlay",
                "size": 10,
                "solidity": 0.2
               }
              },
              "type": "barpolar"
             }
            ],
            "carpet": [
             {
              "aaxis": {
               "endlinecolor": "rgb(36,36,36)",
               "gridcolor": "white",
               "linecolor": "white",
               "minorgridcolor": "white",
               "startlinecolor": "rgb(36,36,36)"
              },
              "baxis": {
               "endlinecolor": "rgb(36,36,36)",
               "gridcolor": "white",
               "linecolor": "white",
               "minorgridcolor": "white",
               "startlinecolor": "rgb(36,36,36)"
              },
              "type": "carpet"
             }
            ],
            "choropleth": [
             {
              "colorbar": {
               "outlinewidth": 1,
               "tickcolor": "rgb(36,36,36)",
               "ticks": "outside"
              },
              "type": "choropleth"
             }
            ],
            "contour": [
             {
              "colorbar": {
               "outlinewidth": 1,
               "tickcolor": "rgb(36,36,36)",
               "ticks": "outside"
              },
              "colorscale": [
               [
                0,
                "#440154"
               ],
               [
                0.1111111111111111,
                "#482878"
               ],
               [
                0.2222222222222222,
                "#3e4989"
               ],
               [
                0.3333333333333333,
                "#31688e"
               ],
               [
                0.4444444444444444,
                "#26828e"
               ],
               [
                0.5555555555555556,
                "#1f9e89"
               ],
               [
                0.6666666666666666,
                "#35b779"
               ],
               [
                0.7777777777777778,
                "#6ece58"
               ],
               [
                0.8888888888888888,
                "#b5de2b"
               ],
               [
                1,
                "#fde725"
               ]
              ],
              "type": "contour"
             }
            ],
            "contourcarpet": [
             {
              "colorbar": {
               "outlinewidth": 1,
               "tickcolor": "rgb(36,36,36)",
               "ticks": "outside"
              },
              "type": "contourcarpet"
             }
            ],
            "heatmap": [
             {
              "colorbar": {
               "outlinewidth": 1,
               "tickcolor": "rgb(36,36,36)",
               "ticks": "outside"
              },
              "colorscale": [
               [
                0,
                "#440154"
               ],
               [
                0.1111111111111111,
                "#482878"
               ],
               [
                0.2222222222222222,
                "#3e4989"
               ],
               [
                0.3333333333333333,
                "#31688e"
               ],
               [
                0.4444444444444444,
                "#26828e"
               ],
               [
                0.5555555555555556,
                "#1f9e89"
               ],
               [
                0.6666666666666666,
                "#35b779"
               ],
               [
                0.7777777777777778,
                "#6ece58"
               ],
               [
                0.8888888888888888,
                "#b5de2b"
               ],
               [
                1,
                "#fde725"
               ]
              ],
              "type": "heatmap"
             }
            ],
            "heatmapgl": [
             {
              "colorbar": {
               "outlinewidth": 1,
               "tickcolor": "rgb(36,36,36)",
               "ticks": "outside"
              },
              "colorscale": [
               [
                0,
                "#440154"
               ],
               [
                0.1111111111111111,
                "#482878"
               ],
               [
                0.2222222222222222,
                "#3e4989"
               ],
               [
                0.3333333333333333,
                "#31688e"
               ],
               [
                0.4444444444444444,
                "#26828e"
               ],
               [
                0.5555555555555556,
                "#1f9e89"
               ],
               [
                0.6666666666666666,
                "#35b779"
               ],
               [
                0.7777777777777778,
                "#6ece58"
               ],
               [
                0.8888888888888888,
                "#b5de2b"
               ],
               [
                1,
                "#fde725"
               ]
              ],
              "type": "heatmapgl"
             }
            ],
            "histogram": [
             {
              "marker": {
               "line": {
                "color": "white",
                "width": 0.6
               }
              },
              "type": "histogram"
             }
            ],
            "histogram2d": [
             {
              "colorbar": {
               "outlinewidth": 1,
               "tickcolor": "rgb(36,36,36)",
               "ticks": "outside"
              },
              "colorscale": [
               [
                0,
                "#440154"
               ],
               [
                0.1111111111111111,
                "#482878"
               ],
               [
                0.2222222222222222,
                "#3e4989"
               ],
               [
                0.3333333333333333,
                "#31688e"
               ],
               [
                0.4444444444444444,
                "#26828e"
               ],
               [
                0.5555555555555556,
                "#1f9e89"
               ],
               [
                0.6666666666666666,
                "#35b779"
               ],
               [
                0.7777777777777778,
                "#6ece58"
               ],
               [
                0.8888888888888888,
                "#b5de2b"
               ],
               [
                1,
                "#fde725"
               ]
              ],
              "type": "histogram2d"
             }
            ],
            "histogram2dcontour": [
             {
              "colorbar": {
               "outlinewidth": 1,
               "tickcolor": "rgb(36,36,36)",
               "ticks": "outside"
              },
              "colorscale": [
               [
                0,
                "#440154"
               ],
               [
                0.1111111111111111,
                "#482878"
               ],
               [
                0.2222222222222222,
                "#3e4989"
               ],
               [
                0.3333333333333333,
                "#31688e"
               ],
               [
                0.4444444444444444,
                "#26828e"
               ],
               [
                0.5555555555555556,
                "#1f9e89"
               ],
               [
                0.6666666666666666,
                "#35b779"
               ],
               [
                0.7777777777777778,
                "#6ece58"
               ],
               [
                0.8888888888888888,
                "#b5de2b"
               ],
               [
                1,
                "#fde725"
               ]
              ],
              "type": "histogram2dcontour"
             }
            ],
            "mesh3d": [
             {
              "colorbar": {
               "outlinewidth": 1,
               "tickcolor": "rgb(36,36,36)",
               "ticks": "outside"
              },
              "type": "mesh3d"
             }
            ],
            "parcoords": [
             {
              "line": {
               "colorbar": {
                "outlinewidth": 1,
                "tickcolor": "rgb(36,36,36)",
                "ticks": "outside"
               }
              },
              "type": "parcoords"
             }
            ],
            "pie": [
             {
              "automargin": true,
              "type": "pie"
             }
            ],
            "scatter": [
             {
              "fillpattern": {
               "fillmode": "overlay",
               "size": 10,
               "solidity": 0.2
              },
              "type": "scatter"
             }
            ],
            "scatter3d": [
             {
              "line": {
               "colorbar": {
                "outlinewidth": 1,
                "tickcolor": "rgb(36,36,36)",
                "ticks": "outside"
               }
              },
              "marker": {
               "colorbar": {
                "outlinewidth": 1,
                "tickcolor": "rgb(36,36,36)",
                "ticks": "outside"
               }
              },
              "type": "scatter3d"
             }
            ],
            "scattercarpet": [
             {
              "marker": {
               "colorbar": {
                "outlinewidth": 1,
                "tickcolor": "rgb(36,36,36)",
                "ticks": "outside"
               }
              },
              "type": "scattercarpet"
             }
            ],
            "scattergeo": [
             {
              "marker": {
               "colorbar": {
                "outlinewidth": 1,
                "tickcolor": "rgb(36,36,36)",
                "ticks": "outside"
               }
              },
              "type": "scattergeo"
             }
            ],
            "scattergl": [
             {
              "marker": {
               "colorbar": {
                "outlinewidth": 1,
                "tickcolor": "rgb(36,36,36)",
                "ticks": "outside"
               }
              },
              "type": "scattergl"
             }
            ],
            "scattermapbox": [
             {
              "marker": {
               "colorbar": {
                "outlinewidth": 1,
                "tickcolor": "rgb(36,36,36)",
                "ticks": "outside"
               }
              },
              "type": "scattermapbox"
             }
            ],
            "scatterpolar": [
             {
              "marker": {
               "colorbar": {
                "outlinewidth": 1,
                "tickcolor": "rgb(36,36,36)",
                "ticks": "outside"
               }
              },
              "type": "scatterpolar"
             }
            ],
            "scatterpolargl": [
             {
              "marker": {
               "colorbar": {
                "outlinewidth": 1,
                "tickcolor": "rgb(36,36,36)",
                "ticks": "outside"
               }
              },
              "type": "scatterpolargl"
             }
            ],
            "scatterternary": [
             {
              "marker": {
               "colorbar": {
                "outlinewidth": 1,
                "tickcolor": "rgb(36,36,36)",
                "ticks": "outside"
               }
              },
              "type": "scatterternary"
             }
            ],
            "surface": [
             {
              "colorbar": {
               "outlinewidth": 1,
               "tickcolor": "rgb(36,36,36)",
               "ticks": "outside"
              },
              "colorscale": [
               [
                0,
                "#440154"
               ],
               [
                0.1111111111111111,
                "#482878"
               ],
               [
                0.2222222222222222,
                "#3e4989"
               ],
               [
                0.3333333333333333,
                "#31688e"
               ],
               [
                0.4444444444444444,
                "#26828e"
               ],
               [
                0.5555555555555556,
                "#1f9e89"
               ],
               [
                0.6666666666666666,
                "#35b779"
               ],
               [
                0.7777777777777778,
                "#6ece58"
               ],
               [
                0.8888888888888888,
                "#b5de2b"
               ],
               [
                1,
                "#fde725"
               ]
              ],
              "type": "surface"
             }
            ],
            "table": [
             {
              "cells": {
               "fill": {
                "color": "rgb(237,237,237)"
               },
               "line": {
                "color": "white"
               }
              },
              "header": {
               "fill": {
                "color": "rgb(217,217,217)"
               },
               "line": {
                "color": "white"
               }
              },
              "type": "table"
             }
            ]
           },
           "layout": {
            "annotationdefaults": {
             "arrowhead": 0,
             "arrowwidth": 1
            },
            "autotypenumbers": "strict",
            "coloraxis": {
             "colorbar": {
              "outlinewidth": 1,
              "tickcolor": "rgb(36,36,36)",
              "ticks": "outside"
             }
            },
            "colorscale": {
             "diverging": [
              [
               0,
               "rgb(103,0,31)"
              ],
              [
               0.1,
               "rgb(178,24,43)"
              ],
              [
               0.2,
               "rgb(214,96,77)"
              ],
              [
               0.3,
               "rgb(244,165,130)"
              ],
              [
               0.4,
               "rgb(253,219,199)"
              ],
              [
               0.5,
               "rgb(247,247,247)"
              ],
              [
               0.6,
               "rgb(209,229,240)"
              ],
              [
               0.7,
               "rgb(146,197,222)"
              ],
              [
               0.8,
               "rgb(67,147,195)"
              ],
              [
               0.9,
               "rgb(33,102,172)"
              ],
              [
               1,
               "rgb(5,48,97)"
              ]
             ],
             "sequential": [
              [
               0,
               "#440154"
              ],
              [
               0.1111111111111111,
               "#482878"
              ],
              [
               0.2222222222222222,
               "#3e4989"
              ],
              [
               0.3333333333333333,
               "#31688e"
              ],
              [
               0.4444444444444444,
               "#26828e"
              ],
              [
               0.5555555555555556,
               "#1f9e89"
              ],
              [
               0.6666666666666666,
               "#35b779"
              ],
              [
               0.7777777777777778,
               "#6ece58"
              ],
              [
               0.8888888888888888,
               "#b5de2b"
              ],
              [
               1,
               "#fde725"
              ]
             ],
             "sequentialminus": [
              [
               0,
               "#440154"
              ],
              [
               0.1111111111111111,
               "#482878"
              ],
              [
               0.2222222222222222,
               "#3e4989"
              ],
              [
               0.3333333333333333,
               "#31688e"
              ],
              [
               0.4444444444444444,
               "#26828e"
              ],
              [
               0.5555555555555556,
               "#1f9e89"
              ],
              [
               0.6666666666666666,
               "#35b779"
              ],
              [
               0.7777777777777778,
               "#6ece58"
              ],
              [
               0.8888888888888888,
               "#b5de2b"
              ],
              [
               1,
               "#fde725"
              ]
             ]
            },
            "colorway": [
             "#1F77B4",
             "#FF7F0E",
             "#2CA02C",
             "#D62728",
             "#9467BD",
             "#8C564B",
             "#E377C2",
             "#7F7F7F",
             "#BCBD22",
             "#17BECF"
            ],
            "font": {
             "color": "rgb(36,36,36)"
            },
            "geo": {
             "bgcolor": "white",
             "lakecolor": "white",
             "landcolor": "white",
             "showlakes": true,
             "showland": true,
             "subunitcolor": "white"
            },
            "hoverlabel": {
             "align": "left"
            },
            "hovermode": "closest",
            "mapbox": {
             "style": "light"
            },
            "paper_bgcolor": "white",
            "plot_bgcolor": "white",
            "polar": {
             "angularaxis": {
              "gridcolor": "rgb(232,232,232)",
              "linecolor": "rgb(36,36,36)",
              "showgrid": false,
              "showline": true,
              "ticks": "outside"
             },
             "bgcolor": "white",
             "radialaxis": {
              "gridcolor": "rgb(232,232,232)",
              "linecolor": "rgb(36,36,36)",
              "showgrid": false,
              "showline": true,
              "ticks": "outside"
             }
            },
            "scene": {
             "xaxis": {
              "backgroundcolor": "white",
              "gridcolor": "rgb(232,232,232)",
              "gridwidth": 2,
              "linecolor": "rgb(36,36,36)",
              "showbackground": true,
              "showgrid": false,
              "showline": true,
              "ticks": "outside",
              "zeroline": false,
              "zerolinecolor": "rgb(36,36,36)"
             },
             "yaxis": {
              "backgroundcolor": "white",
              "gridcolor": "rgb(232,232,232)",
              "gridwidth": 2,
              "linecolor": "rgb(36,36,36)",
              "showbackground": true,
              "showgrid": false,
              "showline": true,
              "ticks": "outside",
              "zeroline": false,
              "zerolinecolor": "rgb(36,36,36)"
             },
             "zaxis": {
              "backgroundcolor": "white",
              "gridcolor": "rgb(232,232,232)",
              "gridwidth": 2,
              "linecolor": "rgb(36,36,36)",
              "showbackground": true,
              "showgrid": false,
              "showline": true,
              "ticks": "outside",
              "zeroline": false,
              "zerolinecolor": "rgb(36,36,36)"
             }
            },
            "shapedefaults": {
             "fillcolor": "black",
             "line": {
              "width": 0
             },
             "opacity": 0.3
            },
            "ternary": {
             "aaxis": {
              "gridcolor": "rgb(232,232,232)",
              "linecolor": "rgb(36,36,36)",
              "showgrid": false,
              "showline": true,
              "ticks": "outside"
             },
             "baxis": {
              "gridcolor": "rgb(232,232,232)",
              "linecolor": "rgb(36,36,36)",
              "showgrid": false,
              "showline": true,
              "ticks": "outside"
             },
             "bgcolor": "white",
             "caxis": {
              "gridcolor": "rgb(232,232,232)",
              "linecolor": "rgb(36,36,36)",
              "showgrid": false,
              "showline": true,
              "ticks": "outside"
             }
            },
            "title": {
             "x": 0.05
            },
            "xaxis": {
             "automargin": true,
             "gridcolor": "rgb(232,232,232)",
             "linecolor": "rgb(36,36,36)",
             "showgrid": false,
             "showline": true,
             "ticks": "outside",
             "title": {
              "standoff": 15
             },
             "zeroline": false,
             "zerolinecolor": "rgb(36,36,36)"
            },
            "yaxis": {
             "automargin": true,
             "gridcolor": "rgb(232,232,232)",
             "linecolor": "rgb(36,36,36)",
             "showgrid": false,
             "showline": true,
             "ticks": "outside",
             "title": {
              "standoff": 15
             },
             "zeroline": false,
             "zerolinecolor": "rgb(36,36,36)"
            }
           }
          },
          "title": {
           "font": {
            "family": "Inter Variable, Inter Tight, Inter",
            "weight": "bold"
           }
          },
          "xaxis": {
           "showgrid": false
          },
          "yaxis": {
           "showgrid": false
          }
         }
        },
        "title": {
         "text": "learning_rate by step"
        },
        "xaxis": {
         "anchor": "y",
         "autorange": true,
         "domain": [
          0,
          1
         ],
         "range": [
          100,
          27100
         ],
         "title": {
          "text": "step"
         },
         "type": "linear"
        },
        "yaxis": {
         "anchor": "x",
         "autorange": true,
         "domain": [
          0,
          1
         ],
         "range": [
          0.00017474167176293603,
          0.03156975043832826
         ],
         "title": {
          "text": "learning_rate"
         },
         "type": "linear"
        }
       }
      },
      "image/png": "[encoded data removed]",
      "text/html": [
       "<div>                            <div id=\"edb98b2d-6888-4f4d-9730-16bb658f59fe\" class=\"plotly-graph-div\" style=\"height:525px; width:100%;\"></div>            <script type=\"text/javascript\">                require([\"plotly\"], function(Plotly) {                    window.PLOTLYENV=window.PLOTLYENV || {};                                    if (document.getElementById(\"edb98b2d-6888-4f4d-9730-16bb658f59fe\")) {                    Plotly.newPlot(                        \"edb98b2d-6888-4f4d-9730-16bb658f59fe\",                        [{\"hovertemplate\":\"step=%{x}\\u003cbr\\u003elearning_rate=%{y}\\u003cextra\\u003e\\u003c\\u002fextra\\u003e\",\"legendgroup\":\"\",\"line\":{\"color\":\"#114B8F\",\"dash\":\"solid\"},\"marker\":{\"symbol\":\"circle\"},\"mode\":\"lines\",\"name\":\"\",\"orientation\":\"v\",\"showlegend\":false,\"x\":[100,200,300,400,500,600,700,800,900,1000,1100,1200,1300,1400,1500,1600,1700,1800,1900,2000,2100,2200,2300,2400,2500,2600,2700,2800,2900,3000,3100,3200,3300,3400,3500,3600,3700,3800,3900,4000,4100,4200,4300,4400,4500,4600,4700,4800,4900,5000,5100,5200,5300,5400,5500,5600,5700,5800,5900,6000,6100,6200,6300,6400,6500,6600,6700,6800,6900,7000,7100,7200,7300,7400,7500,7600,7700,7800,7900,8000,8100,8200,8300,8400,8500,8600,8700,8800,8900,9000,9100,9200,9300,9400,9500,9600,9700,9800,9900,10000,10100,10200,10300,10400,10500,10600,10700,10800,10900,11000,11100,11200,11300,11400,11500,11600,11700,11800,11900,12000,12100,12200,12300,12400,12500,12600,12700,12800,12900,13000,13100,13200,13300,13400,13500,13600,13700,13800,13900,14000,14100,14200,14300,14400,14500,14600,14700,14800,14900,15000,15100,15200,15300,15400,15500,15600,15700,15800,15900,16000,16100,16200,16300,16400,16500,16600,16700,16800,16900,17000,17100,17200,17300,17400,17500,17600,17700,17800,17900,18000,18100,18200,18300,18400,18500,18600,18700,18800,18900,19000,19100,19200,19300,19400,19500,19600,19700,19800,19900,20000,20100,20200,20300,20400,20500,20600,20700,20800,20900,21000,21100,21200,21300,21400,21500,21600,21700,21800,21900,22000,22100,22200,22300,22400,22500,22600,22700,22800,22900,23000,23100,23200,23300,23400,23500,23600,23700,23800,23900,24000,24100,24200,24300,24400,24500,24600,24700,24800,24900,25000,25100,25200,25300,25400,25500,25600,25700,25800,25900,26000,26100,26200,26300,26400,26500,26600,26700,26800,26900,27000,27100],\"xaxis\":\"x\",\"y\":[0.03,0.03,0.03,0.03,0.03,0.03,0.03,0.03,0.03,0.027,0.027,0.027,0.027,0.027,0.027,0.027,0.027,0.027,0.027,0.0243,0.0243,0.0243,0.0243,0.0243,0.0243,0.0243,0.0243,0.0243,0.0243,0.02187,0.02187,0.02187,0.02187,0.02187,0.02187,0.02187,0.02187,0.02187,0.02187,0.019683000000000003,0.019683000000000003,0.019683000000000003,0.019683000000000003,0.019683000000000003,0.019683000000000003,0.019683000000000003,0.019683000000000003,0.019683000000000003,0.019683000000000003,0.017714700000000003,0.017714700000000003,0.017714700000000003,0.017714700000000003,0.017714700000000003,0.017714700000000003,0.017714700000000003,0.017714700000000003,0.017714700000000003,0.017714700000000003,0.015943230000000003,0.015943230000000003,0.015943230000000003,0.015943230000000003,0.015943230000000003,0.015943230000000003,0.015943230000000003,0.015943230000000003,0.015943230000000003,0.015943230000000003,0.014348907000000003,0.014348907000000003,0.014348907000000003,0.014348907000000003,0.014348907000000003,0.014348907000000003,0.014348907000000003,0.014348907000000003,0.014348907000000003,0.014348907000000003,0.012914016300000003,0.012914016300000003,0.012914016300000003,0.012914016300000003,0.012914016300000003,0.012914016300000003,0.012914016300000003,0.012914016300000003,0.012914016300000003,0.012914016300000003,0.011622614670000003,0.011622614670000003,0.011622614670000003,0.011622614670000003,0.011622614670000003,0.011622614670000003,0.011622614670000003,0.011622614670000003,0.011622614670000003,0.011622614670000003,0.010460353203000003,0.010460353203000003,0.010460353203000003,0.010460353203000003,0.010460353203000003,0.010460353203000003,0.010460353203000003,0.010460353203000003,0.010460353203000003,0.010460353203000003,0.009414317882700002,0.009414317882700002,0.009414317882700002,0.009414317882700002,0.009414317882700002,0.009414317882700002,0.009414317882700002,0.009414317882700002,0.009414317882700002,0.009414317882700002,0.008472886094430003,0.008472886094430003,0.008472886094430003,0.008472886094430003,0.008472886094430003,0.008472886094430003,0.008472886094430003,0.008472886094430003,0.008472886094430003,0.008472886094430003,0.007625597484987002,0.007625597484987002,0.007625597484987002,0.007625597484987002,0.007625597484987002,0.007625597484987002,0.007625597484987002,0.007625597484987002,0.007625597484987002,0.007625597484987002,0.006863037736488302,0.006863037736488302,0.006863037736488302,0.006863037736488302,0.006863037736488302,0.006863037736488302,0.006863037736488302,0.006863037736488302,0.006863037736488302,0.006863037736488302,0.0061767339628394724,0.0061767339628394724,0.0061767339628394724,0.0061767339628394724,0.0061767339628394724,0.0061767339628394724,0.0061767339628394724,0.0061767339628394724,0.0061767339628394724,0.0061767339628394724,0.005559060566555525,0.005559060566555525,0.005559060566555525,0.005559060566555525,0.005559060566555525,0.005559060566555525,0.005559060566555525,0.005559060566555525,0.005559060566555525,0.005559060566555525,0.005003154509899972,0.005003154509899972,0.005003154509899972,0.005003154509899972,0.005003154509899972,0.005003154509899972,0.005003154509899972,0.005003154509899972,0.005003154509899972,0.005003154509899972,0.004502839058909975,0.004502839058909975,0.004502839058909975,0.004502839058909975,0.004502839058909975,0.004502839058909975,0.004502839058909975,0.004502839058909975,0.004502839058909975,0.004502839058909975,0.004052555153018977,0.004052555153018977,0.004052555153018977,0.004052555153018977,0.004052555153018977,0.004052555153018977,0.004052555153018977,0.004052555153018977,0.004052555153018977,0.004052555153018977,0.0036472996377170793,0.0036472996377170793,0.0036472996377170793,0.0036472996377170793,0.0036472996377170793,0.0036472996377170793,0.0036472996377170793,0.0036472996377170793,0.0036472996377170793,0.0036472996377170793,0.0032825696739453717,0.0032825696739453717,0.0032825696739453717,0.0032825696739453717,0.0032825696739453717,0.0032825696739453717,0.0032825696739453717,0.0032825696739453717,0.0032825696739453717,0.0032825696739453717,0.0029543127065508345,0.0029543127065508345,0.0029543127065508345,0.0029543127065508345,0.0029543127065508345,0.0029543127065508345,0.0029543127065508345,0.0029543127065508345,0.0029543127065508345,0.0029543127065508345,0.002658881435895751,0.002658881435895751,0.002658881435895751,0.002658881435895751,0.002658881435895751,0.002658881435895751,0.002658881435895751,0.002658881435895751,0.002658881435895751,0.002658881435895751,0.002392993292306176,0.002392993292306176,0.002392993292306176,0.002392993292306176,0.002392993292306176,0.002392993292306176,0.002392993292306176,0.002392993292306176,0.002392993292306176,0.002392993292306176,0.0021536939630755585,0.0021536939630755585,0.0021536939630755585,0.0021536939630755585,0.0021536939630755585,0.0021536939630755585,0.0021536939630755585,0.0021536939630755585,0.0021536939630755585,0.0021536939630755585,0.0019383245667680027,0.0019383245667680027,0.0019383245667680027,0.0019383245667680027,0.0019383245667680027,0.0019383245667680027,0.0019383245667680027,0.0019383245667680027,0.0019383245667680027,0.0019383245667680027,0.0017444921100912025,0.0017444921100912025],\"yaxis\":\"y\",\"type\":\"scatter\"}],                        {\"template\":{\"layout\":{\"colorway\":[\"#114B8F\",\"#248F11\",\"#8F6211\",\"#8F116C\",\"#1A293A\"],\"font\":{\"family\":\"Inter Variable, Inter\"},\"showlegend\":false,\"template\":{\"data\":{\"barpolar\":[{\"marker\":{\"line\":{\"color\":\"white\",\"width\":0.5},\"pattern\":{\"fillmode\":\"overlay\",\"size\":10,\"solidity\":0.2}},\"type\":\"barpolar\"}],\"bar\":[{\"error_x\":{\"color\":\"rgb(36,36,36)\"},\"error_y\":{\"color\":\"rgb(36,36,36)\"},\"marker\":{\"line\":{\"color\":\"white\",\"width\":0.5},\"pattern\":{\"fillmode\":\"overlay\",\"size\":10,\"solidity\":0.2}},\"type\":\"bar\"}],\"carpet\":[{\"aaxis\":{\"endlinecolor\":\"rgb(36,36,36)\",\"gridcolor\":\"white\",\"linecolor\":\"white\",\"minorgridcolor\":\"white\",\"startlinecolor\":\"rgb(36,36,36)\"},\"baxis\":{\"endlinecolor\":\"rgb(36,36,36)\",\"gridcolor\":\"white\",\"linecolor\":\"white\",\"minorgridcolor\":\"white\",\"startlinecolor\":\"rgb(36,36,36)\"},\"type\":\"carpet\"}],\"choropleth\":[{\"colorbar\":{\"outlinewidth\":1,\"tickcolor\":\"rgb(36,36,36)\",\"ticks\":\"outside\"},\"type\":\"choropleth\"}],\"contourcarpet\":[{\"colorbar\":{\"outlinewidth\":1,\"tickcolor\":\"rgb(36,36,36)\",\"ticks\":\"outside\"},\"type\":\"contourcarpet\"}],\"contour\":[{\"colorbar\":{\"outlinewidth\":1,\"tickcolor\":\"rgb(36,36,36)\",\"ticks\":\"outside\"},\"colorscale\":[[0.0,\"#440154\"],[0.1111111111111111,\"#482878\"],[0.2222222222222222,\"#3e4989\"],[0.3333333333333333,\"#31688e\"],[0.4444444444444444,\"#26828e\"],[0.5555555555555556,\"#1f9e89\"],[0.6666666666666666,\"#35b779\"],[0.7777777777777778,\"#6ece58\"],[0.8888888888888888,\"#b5de2b\"],[1.0,\"#fde725\"]],\"type\":\"contour\"}],\"heatmapgl\":[{\"colorbar\":{\"outlinewidth\":1,\"tickcolor\":\"rgb(36,36,36)\",\"ticks\":\"outside\"},\"colorscale\":[[0.0,\"#440154\"],[0.1111111111111111,\"#482878\"],[0.2222222222222222,\"#3e4989\"],[0.3333333333333333,\"#31688e\"],[0.4444444444444444,\"#26828e\"],[0.5555555555555556,\"#1f9e89\"],[0.6666666666666666,\"#35b779\"],[0.7777777777777778,\"#6ece58\"],[0.8888888888888888,\"#b5de2b\"],[1.0,\"#fde725\"]],\"type\":\"heatmapgl\"}],\"heatmap\":[{\"colorbar\":{\"outlinewidth\":1,\"tickcolor\":\"rgb(36,36,36)\",\"ticks\":\"outside\"},\"colorscale\":[[0.0,\"#440154\"],[0.1111111111111111,\"#482878\"],[0.2222222222222222,\"#3e4989\"],[0.3333333333333333,\"#31688e\"],[0.4444444444444444,\"#26828e\"],[0.5555555555555556,\"#1f9e89\"],[0.6666666666666666,\"#35b779\"],[0.7777777777777778,\"#6ece58\"],[0.8888888888888888,\"#b5de2b\"],[1.0,\"#fde725\"]],\"type\":\"heatmap\"}],\"histogram2dcontour\":[{\"colorbar\":{\"outlinewidth\":1,\"tickcolor\":\"rgb(36,36,36)\",\"ticks\":\"outside\"},\"colorscale\":[[0.0,\"#440154\"],[0.1111111111111111,\"#482878\"],[0.2222222222222222,\"#3e4989\"],[0.3333333333333333,\"#31688e\"],[0.4444444444444444,\"#26828e\"],[0.5555555555555556,\"#1f9e89\"],[0.6666666666666666,\"#35b779\"],[0.7777777777777778,\"#6ece58\"],[0.8888888888888888,\"#b5de2b\"],[1.0,\"#fde725\"]],\"type\":\"histogram2dcontour\"}],\"histogram2d\":[{\"colorbar\":{\"outlinewidth\":1,\"tickcolor\":\"rgb(36,36,36)\",\"ticks\":\"outside\"},\"colorscale\":[[0.0,\"#440154\"],[0.1111111111111111,\"#482878\"],[0.2222222222222222,\"#3e4989\"],[0.3333333333333333,\"#31688e\"],[0.4444444444444444,\"#26828e\"],[0.5555555555555556,\"#1f9e89\"],[0.6666666666666666,\"#35b779\"],[0.7777777777777778,\"#6ece58\"],[0.8888888888888888,\"#b5de2b\"],[1.0,\"#fde725\"]],\"type\":\"histogram2d\"}],\"histogram\":[{\"marker\":{\"line\":{\"color\":\"white\",\"width\":0.6}},\"type\":\"histogram\"}],\"mesh3d\":[{\"colorbar\":{\"outlinewidth\":1,\"tickcolor\":\"rgb(36,36,36)\",\"ticks\":\"outside\"},\"type\":\"mesh3d\"}],\"parcoords\":[{\"line\":{\"colorbar\":{\"outlinewidth\":1,\"tickcolor\":\"rgb(36,36,36)\",\"ticks\":\"outside\"}},\"type\":\"parcoords\"}],\"pie\":[{\"automargin\":true,\"type\":\"pie\"}],\"scatter3d\":[{\"line\":{\"colorbar\":{\"outlinewidth\":1,\"tickcolor\":\"rgb(36,36,36)\",\"ticks\":\"outside\"}},\"marker\":{\"colorbar\":{\"outlinewidth\":1,\"tickcolor\":\"rgb(36,36,36)\",\"ticks\":\"outside\"}},\"type\":\"scatter3d\"}],\"scattercarpet\":[{\"marker\":{\"colorbar\":{\"outlinewidth\":1,\"tickcolor\":\"rgb(36,36,36)\",\"ticks\":\"outside\"}},\"type\":\"scattercarpet\"}],\"scattergeo\":[{\"marker\":{\"colorbar\":{\"outlinewidth\":1,\"tickcolor\":\"rgb(36,36,36)\",\"ticks\":\"outside\"}},\"type\":\"scattergeo\"}],\"scattergl\":[{\"marker\":{\"colorbar\":{\"outlinewidth\":1,\"tickcolor\":\"rgb(36,36,36)\",\"ticks\":\"outside\"}},\"type\":\"scattergl\"}],\"scattermapbox\":[{\"marker\":{\"colorbar\":{\"outlinewidth\":1,\"tickcolor\":\"rgb(36,36,36)\",\"ticks\":\"outside\"}},\"type\":\"scattermapbox\"}],\"scatterpolargl\":[{\"marker\":{\"colorbar\":{\"outlinewidth\":1,\"tickcolor\":\"rgb(36,36,36)\",\"ticks\":\"outside\"}},\"type\":\"scatterpolargl\"}],\"scatterpolar\":[{\"marker\":{\"colorbar\":{\"outlinewidth\":1,\"tickcolor\":\"rgb(36,36,36)\",\"ticks\":\"outside\"}},\"type\":\"scatterpolar\"}],\"scatter\":[{\"fillpattern\":{\"fillmode\":\"overlay\",\"size\":10,\"solidity\":0.2},\"type\":\"scatter\"}],\"scatterternary\":[{\"marker\":{\"colorbar\":{\"outlinewidth\":1,\"tickcolor\":\"rgb(36,36,36)\",\"ticks\":\"outside\"}},\"type\":\"scatterternary\"}],\"surface\":[{\"colorbar\":{\"outlinewidth\":1,\"tickcolor\":\"rgb(36,36,36)\",\"ticks\":\"outside\"},\"colorscale\":[[0.0,\"#440154\"],[0.1111111111111111,\"#482878\"],[0.2222222222222222,\"#3e4989\"],[0.3333333333333333,\"#31688e\"],[0.4444444444444444,\"#26828e\"],[0.5555555555555556,\"#1f9e89\"],[0.6666666666666666,\"#35b779\"],[0.7777777777777778,\"#6ece58\"],[0.8888888888888888,\"#b5de2b\"],[1.0,\"#fde725\"]],\"type\":\"surface\"}],\"table\":[{\"cells\":{\"fill\":{\"color\":\"rgb(237,237,237)\"},\"line\":{\"color\":\"white\"}},\"header\":{\"fill\":{\"color\":\"rgb(217,217,217)\"},\"line\":{\"color\":\"white\"}},\"type\":\"table\"}]},\"layout\":{\"annotationdefaults\":{\"arrowhead\":0,\"arrowwidth\":1},\"autotypenumbers\":\"strict\",\"coloraxis\":{\"colorbar\":{\"outlinewidth\":1,\"tickcolor\":\"rgb(36,36,36)\",\"ticks\":\"outside\"}},\"colorscale\":{\"diverging\":[[0.0,\"rgb(103,0,31)\"],[0.1,\"rgb(178,24,43)\"],[0.2,\"rgb(214,96,77)\"],[0.3,\"rgb(244,165,130)\"],[0.4,\"rgb(253,219,199)\"],[0.5,\"rgb(247,247,247)\"],[0.6,\"rgb(209,229,240)\"],[0.7,\"rgb(146,197,222)\"],[0.8,\"rgb(67,147,195)\"],[0.9,\"rgb(33,102,172)\"],[1.0,\"rgb(5,48,97)\"]],\"sequential\":[[0.0,\"#440154\"],[0.1111111111111111,\"#482878\"],[0.2222222222222222,\"#3e4989\"],[0.3333333333333333,\"#31688e\"],[0.4444444444444444,\"#26828e\"],[0.5555555555555556,\"#1f9e89\"],[0.6666666666666666,\"#35b779\"],[0.7777777777777778,\"#6ece58\"],[0.8888888888888888,\"#b5de2b\"],[1.0,\"#fde725\"]],\"sequentialminus\":[[0.0,\"#440154\"],[0.1111111111111111,\"#482878\"],[0.2222222222222222,\"#3e4989\"],[0.3333333333333333,\"#31688e\"],[0.4444444444444444,\"#26828e\"],[0.5555555555555556,\"#1f9e89\"],[0.6666666666666666,\"#35b779\"],[0.7777777777777778,\"#6ece58\"],[0.8888888888888888,\"#b5de2b\"],[1.0,\"#fde725\"]]},\"colorway\":[\"#1F77B4\",\"#FF7F0E\",\"#2CA02C\",\"#D62728\",\"#9467BD\",\"#8C564B\",\"#E377C2\",\"#7F7F7F\",\"#BCBD22\",\"#17BECF\"],\"font\":{\"color\":\"rgb(36,36,36)\"},\"geo\":{\"bgcolor\":\"white\",\"lakecolor\":\"white\",\"landcolor\":\"white\",\"showlakes\":true,\"showland\":true,\"subunitcolor\":\"white\"},\"hoverlabel\":{\"align\":\"left\"},\"hovermode\":\"closest\",\"mapbox\":{\"style\":\"light\"},\"paper_bgcolor\":\"white\",\"plot_bgcolor\":\"white\",\"polar\":{\"angularaxis\":{\"gridcolor\":\"rgb(232,232,232)\",\"linecolor\":\"rgb(36,36,36)\",\"showgrid\":false,\"showline\":true,\"ticks\":\"outside\"},\"bgcolor\":\"white\",\"radialaxis\":{\"gridcolor\":\"rgb(232,232,232)\",\"linecolor\":\"rgb(36,36,36)\",\"showgrid\":false,\"showline\":true,\"ticks\":\"outside\"}},\"scene\":{\"xaxis\":{\"backgroundcolor\":\"white\",\"gridcolor\":\"rgb(232,232,232)\",\"gridwidth\":2,\"linecolor\":\"rgb(36,36,36)\",\"showbackground\":true,\"showgrid\":false,\"showline\":true,\"ticks\":\"outside\",\"zeroline\":false,\"zerolinecolor\":\"rgb(36,36,36)\"},\"yaxis\":{\"backgroundcolor\":\"white\",\"gridcolor\":\"rgb(232,232,232)\",\"gridwidth\":2,\"linecolor\":\"rgb(36,36,36)\",\"showbackground\":true,\"showgrid\":false,\"showline\":true,\"ticks\":\"outside\",\"zeroline\":false,\"zerolinecolor\":\"rgb(36,36,36)\"},\"zaxis\":{\"backgroundcolor\":\"white\",\"gridcolor\":\"rgb(232,232,232)\",\"gridwidth\":2,\"linecolor\":\"rgb(36,36,36)\",\"showbackground\":true,\"showgrid\":false,\"showline\":true,\"ticks\":\"outside\",\"zeroline\":false,\"zerolinecolor\":\"rgb(36,36,36)\"}},\"shapedefaults\":{\"fillcolor\":\"black\",\"line\":{\"width\":0},\"opacity\":0.3},\"ternary\":{\"aaxis\":{\"gridcolor\":\"rgb(232,232,232)\",\"linecolor\":\"rgb(36,36,36)\",\"showgrid\":false,\"showline\":true,\"ticks\":\"outside\"},\"baxis\":{\"gridcolor\":\"rgb(232,232,232)\",\"linecolor\":\"rgb(36,36,36)\",\"showgrid\":false,\"showline\":true,\"ticks\":\"outside\"},\"bgcolor\":\"white\",\"caxis\":{\"gridcolor\":\"rgb(232,232,232)\",\"linecolor\":\"rgb(36,36,36)\",\"showgrid\":false,\"showline\":true,\"ticks\":\"outside\"}},\"title\":{\"x\":0.05},\"xaxis\":{\"automargin\":true,\"gridcolor\":\"rgb(232,232,232)\",\"linecolor\":\"rgb(36,36,36)\",\"showgrid\":false,\"showline\":true,\"ticks\":\"outside\",\"title\":{\"standoff\":15},\"zeroline\":false,\"zerolinecolor\":\"rgb(36,36,36)\"},\"yaxis\":{\"automargin\":true,\"gridcolor\":\"rgb(232,232,232)\",\"linecolor\":\"rgb(36,36,36)\",\"showgrid\":false,\"showline\":true,\"ticks\":\"outside\",\"title\":{\"standoff\":15},\"zeroline\":false,\"zerolinecolor\":\"rgb(36,36,36)\"}}},\"title\":{\"font\":{\"family\":\"Inter Variable, Inter Tight, Inter\",\"weight\":\"bold\"}},\"xaxis\":{\"showgrid\":false},\"yaxis\":{\"showgrid\":false}}},\"xaxis\":{\"anchor\":\"y\",\"domain\":[0.0,1.0],\"title\":{\"text\":\"step\"}},\"yaxis\":{\"anchor\":\"x\",\"domain\":[0.0,1.0],\"title\":{\"text\":\"learning_rate\"}},\"legend\":{\"tracegroupgap\":0},\"title\":{\"text\":\"learning_rate by step\"}},                        {\"responsive\": true}                    ).then(function(){\n",
       "                            \n",
       "var gd = document.getElementById('edb98b2d-6888-4f4d-9730-16bb658f59fe');\n",
       "var x = new MutationObserver(function (mutations, observer) {{\n",
       "        var display = window.getComputedStyle(gd).display;\n",
       "        if (!display || display === 'none') {{\n",
       "            console.log([gd, 'removed!']);\n",
       "            Plotly.purge(gd);\n",
       "            observer.disconnect();\n",
       "        }}\n",
       "}});\n",
       "\n",
       "// Listen for the removal of the full notebook cells\n",
       "var notebookContainer = gd.closest('#notebook-container');\n",
       "if (notebookContainer) {{\n",
       "    x.observe(notebookContainer, {childList: true});\n",
       "}}\n",
       "\n",
       "// Listen for the clearing of the current output cell\n",
       "var outputEl = gd.closest('.output');\n",
       "if (outputEl) {{\n",
       "    x.observe(outputEl, {childList: true});\n",
       "}}\n",
       "\n",
       "                        })                };                });            </script>        </div>"
      ]
     },
     "metadata": {},
     "output_type": "display_data"
    },
    {
     "data": {
      "application/vnd.plotly.v1+json": {
       "config": {
        "plotlyServerURL": "https://plot.ly"
       },
       "data": [
        {
         "hovertemplate": "step=%{x}<br>total_grad_norm=%{y}<extra></extra>",
         "legendgroup": "",
         "line": {
          "color": "#114B8F",
          "dash": "solid"
         },
         "marker": {
          "symbol": "circle"
         },
         "mode": "lines",
         "name": "",
         "orientation": "v",
         "showlegend": false,
         "type": "scatter",
         "x": [
          100,
          200,
          300,
          400,
          500,
          600,
          700,
          800,
          900,
          1000,
          1100,
          1200,
          1300,
          1400,
          1500,
          1600,
          1700,
          1800,
          1900,
          2000,
          2100,
          2200,
          2300,
          2400,
          2500,
          2600,
          2700,
          2800,
          2900,
          3000,
          3100,
          3200,
          3300,
          3400,
          3500,
          3600,
          3700,
          3800,
          3900,
          4000,
          4100,
          4200,
          4300,
          4400,
          4500,
          4600,
          4700,
          4800,
          4900,
          5000,
          5100,
          5200,
          5300,
          5400,
          5500,
          5600,
          5700,
          5800,
          5900,
          6000,
          6100,
          6200,
          6300,
          6400,
          6500,
          6600,
          6700,
          6800,
          6900,
          7000,
          7100,
          7200,
          7300,
          7400,
          7500,
          7600,
          7700,
          7800,
          7900,
          8000,
          8100,
          8200,
          8300,
          8400,
          8500,
          8600,
          8700,
          8800,
          8900,
          9000,
          9100,
          9200,
          9300,
          9400,
          9500,
          9600,
          9700,
          9800,
          9900,
          10000,
          10100,
          10200,
          10300,
          10400,
          10500,
          10600,
          10700,
          10800,
          10900,
          11000,
          11100,
          11200,
          11300,
          11400,
          11500,
          11600,
          11700,
          11800,
          11900,
          12000,
          12100,
          12200,
          12300,
          12400,
          12500,
          12600,
          12700,
          12800,
          12900,
          13000,
          13100,
          13200,
          13300,
          13400,
          13500,
          13600,
          13700,
          13800,
          13900,
          14000,
          14100,
          14200,
          14300,
          14400,
          14500,
          14600,
          14700,
          14800,
          14900,
          15000,
          15100,
          15200,
          15300,
          15400,
          15500,
          15600,
          15700,
          15800,
          15900,
          16000,
          16100,
          16200,
          16300,
          16400,
          16500,
          16600,
          16700,
          16800,
          16900,
          17000,
          17100,
          17200,
          17300,
          17400,
          17500,
          17600,
          17700,
          17800,
          17900,
          18000,
          18100,
          18200,
          18300,
          18400,
          18500,
          18600,
          18700,
          18800,
          18900,
          19000,
          19100,
          19200,
          19300,
          19400,
          19500,
          19600,
          19700,
          19800,
          19900,
          20000,
          20100,
          20200,
          20300,
          20400,
          20500,
          20600,
          20700,
          20800,
          20900,
          21000,
          21100,
          21200,
          21300,
          21400,
          21500,
          21600,
          21700,
          21800,
          21900,
          22000,
          22100,
          22200,
          22300,
          22400,
          22500,
          22600,
          22700,
          22800,
          22900,
          23000,
          23100,
          23200,
          23300,
          23400,
          23500,
          23600,
          23700,
          23800,
          23900,
          24000,
          24100,
          24200,
          24300,
          24400,
          24500,
          24600,
          24700,
          24800,
          24900,
          25000,
          25100,
          25200,
          25300,
          25400,
          25500,
          25600,
          25700,
          25800,
          25900,
          26000,
          26100,
          26200,
          26300,
          26400,
          26500,
          26600,
          26700,
          26800,
          26900,
          27000,
          27100
         ],
         "xaxis": "x",
         "y": [
          0.06474130882344499,
          0.8036336177786509,
          0.6355288028717049,
          0.999999484288953,
          0.7586729720125175,
          0.9099592566490173,
          0.9999995871734431,
          0.9999992958342037,
          0.9999993941785211,
          0.9999990541224734,
          0.9999997630579752,
          0.9999994638371562,
          0.9999992099176761,
          0.9999994895003177,
          0.9999995837700699,
          0.9999994773018364,
          0.9999995231628418,
          0.9999994391797236,
          0.9999995479243213,
          0.9999996355041578,
          0.999999755959263,
          0.9999995627667001,
          0.9999997402586338,
          0.9999996173839062,
          0.9999996259914152,
          0.9999996733551518,
          0.9999995549913043,
          0.9999997805406794,
          0.9999995651387574,
          0.9999995897697577,
          0.9999995192649765,
          0.9999995921104524,
          0.9999996142203555,
          0.9999995451643833,
          0.9999995062527194,
          0.9999997029988407,
          0.9999997236209532,
          0.9999995827758354,
          0.9999995984508818,
          0.9999995558602235,
          0.9999995825100444,
          0.9999993233695086,
          0.9999996054580994,
          0.9999995191076961,
          0.9999996915486205,
          0.9999993828474075,
          0.9999995762713153,
          0.999999385561066,
          0.5994399576310392,
          0.999999503489416,
          0.9999995921601411,
          0.9999994758669567,
          0.9999997100330972,
          0.9999996130208311,
          0.9999994966460578,
          0.9999994421257312,
          0.9999994462317238,
          0.9999996025444357,
          0.999999026308972,
          0.9999996679391837,
          0.999999487973572,
          0.9999995623233034,
          0.9999993829229205,
          0.7387080132695869,
          0.9999996066792506,
          0.9999994393099363,
          0.9999991644433761,
          0.9999994808950563,
          0.9999994803325973,
          0.9999993444301811,
          0.9999994963392493,
          0.9999995499550778,
          0.999999414967449,
          0.9999996605669771,
          0.9999994390945809,
          0.9999992335702869,
          0.9999995343641856,
          0.9999993313871979,
          0.9999994459600352,
          0.9999993294719397,
          0.9999996150445504,
          0.9999991214554877,
          0.999999380189456,
          0.9999994173415411,
          0.9999995086888839,
          0.9999991289073366,
          0.9999996066712836,
          0.9999994256163947,
          0.9999991159913827,
          0.9999995477454403,
          0.9999990612135611,
          0.9695089254848022,
          0.9782636196737675,
          0.9999991769339799,
          0.9247245770300608,
          0.898359938766602,
          0.877317911490558,
          0.9999994855736154,
          0.6910383327926136,
          0.9999993425419521,
          0.9999993410106263,
          0.9999991669444513,
          0.9999990242893891,
          0.9999994972142792,
          0.9999992291967281,
          0.9958224571649357,
          0.5145276348191214,
          0.9999991214978148,
          0.8872012920045818,
          0.9999994552722806,
          0.999999449325409,
          0.9999994057911523,
          0.9999994663877929,
          0.9999995488930757,
          0.9999990678031156,
          0.999999192564677,
          0.9999992119897921,
          0.9999995158426196,
          0.9999992957204362,
          0.9999993827753126,
          0.999999216214985,
          0.9999990359944978,
          0.9999995421515457,
          0.9999992977872963,
          0.9999991368635831,
          0.9999991423459388,
          0.9999994192751261,
          0.9999990596795973,
          0.9999992002475596,
          0.9999992639152562,
          0.99999952279855,
          0.9999993471398092,
          0.9999994072048933,
          0.9999993557786698,
          0.999999663283541,
          0.999998994994287,
          0.9627041426065472,
          0.8399628612434062,
          0.8821645155289489,
          0.9170084789497942,
          0.3201210401916533,
          0.9999994293769909,
          0.549405758234374,
          0.5537994292085721,
          0.3892500736214334,
          0.9999994135827993,
          0.8533887979871436,
          0.9999991894615406,
          0.9999993156658323,
          0.9129135555497382,
          0.9999994089852108,
          0.620190308651037,
          0.5026664824262579,
          0.9106502007592236,
          0.9999992280042016,
          0.2842499661340997,
          0.999999130403687,
          0.9335465000248366,
          0.9999994100219518,
          0.613264978807339,
          0.7875297443029258,
          0.7962444422309418,
          0.9999991816383562,
          0.8739182230598739,
          0.9999992740445802,
          0.9999991576878055,
          0.9999992435346331,
          0.9999991090704509,
          0.390616512551521,
          0.9999994403583924,
          0.9999991831791085,
          0.9999994712885335,
          0.9999993853961205,
          0.9999990609725696,
          0.9999991037151401,
          0.9048090274417265,
          0.9999995178686426,
          0.9999989860778886,
          0.9999993278463691,
          0.5488120899070175,
          0.7800707259554627,
          0.5093877528815464,
          0.6992650850137827,
          0.7601832320646934,
          0.7566148673575022,
          0.9999990888299833,
          0.999999259338849,
          0.9999992802958023,
          0.9999992981406779,
          0.7292171592287435,
          0.6637388263927774,
          0.9999994239311253,
          0.9636300677766708,
          0.8312196845762332,
          0.6893817238022044,
          0.853940036080996,
          0.678621236734726,
          0.8102649408464321,
          0.9999992661493334,
          0.9011266742595897,
          0.468118938982785,
          0.9999991634806308,
          0.9677415921838495,
          0.9159310393577609,
          0.999999378853915,
          0.9999994601232948,
          0.9999992939970882,
          0.9999993787511212,
          0.30911071854675465,
          0.8106613793305222,
          0.6371285431913563,
          0.1624947788959417,
          0.9999995040063681,
          0.9999994445456623,
          0.8579523857115071,
          0.8661752718945921,
          0.5624647606795847,
          0.9999992475962458,
          0.9999991228925474,
          0.7080230767428161,
          0.5928558619716775,
          0.9999994569622174,
          0.6523744072784186,
          0.9999992140327889,
          0.601971700696773,
          0.9066230364925569,
          0.9999992016739776,
          0.6954471426376804,
          0.9999991283407008,
          0.962961373646103,
          0.7323690852200999,
          0.5636530291712039,
          0.999999387135607,
          0.4702776182832235,
          0.7947412143531241,
          0.9999993915646229,
          0.3116688487490613,
          0.4198342463616951,
          0.5626403978386809,
          0.911044056056799,
          0.7997735941957039,
          0.3962584147379675,
          0.9927819431771856,
          0.2572483524298775,
          0.7684783920987021,
          0.46843414232764263,
          0.35056315946815175,
          0.7886653457435718,
          0.6130056002126374,
          0.6619857381444944,
          0.9694657707804331,
          0.2032206445211196,
          0.764314136022644,
          0.9999990409184286,
          0.9999993337701892,
          0.2717718922005151,
          0.5010065505759286,
          0.9999991508167114,
          0.9999993871870588,
          0.9999991463558227,
          0.9780291256857657,
          0.9999994023569333,
          0.526149554210939,
          0.638790244956278,
          0.9999995825255449,
          0.9999991078266318,
          0.998008332395192,
          0.7577733140859971,
          0.999999271090222,
          0.4299668995445368,
          0.5303539202822911
         ],
         "yaxis": "y"
        }
       ],
       "layout": {
        "autosize": true,
        "legend": {
         "tracegroupgap": 0
        },
        "template": {
         "layout": {
          "colorway": [
           "#114B8F",
           "#248F11",
           "#8F6211",
           "#8F116C",
           "#1A293A"
          ],
          "font": {
           "family": "Inter Variable, Inter"
          },
          "showlegend": false,
          "template": {
           "data": {
            "bar": [
             {
              "error_x": {
               "color": "rgb(36,36,36)"
              },
              "error_y": {
               "color": "rgb(36,36,36)"
              },
              "marker": {
               "line": {
                "color": "white",
                "width": 0.5
               },
               "pattern": {
                "fillmode": "overlay",
                "size": 10,
                "solidity": 0.2
               }
              },
              "type": "bar"
             }
            ],
            "barpolar": [
             {
              "marker": {
               "line": {
                "color": "white",
                "width": 0.5
               },
               "pattern": {
                "fillmode": "overlay",
                "size": 10,
                "solidity": 0.2
               }
              },
              "type": "barpolar"
             }
            ],
            "carpet": [
             {
              "aaxis": {
               "endlinecolor": "rgb(36,36,36)",
               "gridcolor": "white",
               "linecolor": "white",
               "minorgridcolor": "white",
               "startlinecolor": "rgb(36,36,36)"
              },
              "baxis": {
               "endlinecolor": "rgb(36,36,36)",
               "gridcolor": "white",
               "linecolor": "white",
               "minorgridcolor": "white",
               "startlinecolor": "rgb(36,36,36)"
              },
              "type": "carpet"
             }
            ],
            "choropleth": [
             {
              "colorbar": {
               "outlinewidth": 1,
               "tickcolor": "rgb(36,36,36)",
               "ticks": "outside"
              },
              "type": "choropleth"
             }
            ],
            "contour": [
             {
              "colorbar": {
               "outlinewidth": 1,
               "tickcolor": "rgb(36,36,36)",
               "ticks": "outside"
              },
              "colorscale": [
               [
                0,
                "#440154"
               ],
               [
                0.1111111111111111,
                "#482878"
               ],
               [
                0.2222222222222222,
                "#3e4989"
               ],
               [
                0.3333333333333333,
                "#31688e"
               ],
               [
                0.4444444444444444,
                "#26828e"
               ],
               [
                0.5555555555555556,
                "#1f9e89"
               ],
               [
                0.6666666666666666,
                "#35b779"
               ],
               [
                0.7777777777777778,
                "#6ece58"
               ],
               [
                0.8888888888888888,
                "#b5de2b"
               ],
               [
                1,
                "#fde725"
               ]
              ],
              "type": "contour"
             }
            ],
            "contourcarpet": [
             {
              "colorbar": {
               "outlinewidth": 1,
               "tickcolor": "rgb(36,36,36)",
               "ticks": "outside"
              },
              "type": "contourcarpet"
             }
            ],
            "heatmap": [
             {
              "colorbar": {
               "outlinewidth": 1,
               "tickcolor": "rgb(36,36,36)",
               "ticks": "outside"
              },
              "colorscale": [
               [
                0,
                "#440154"
               ],
               [
                0.1111111111111111,
                "#482878"
               ],
               [
                0.2222222222222222,
                "#3e4989"
               ],
               [
                0.3333333333333333,
                "#31688e"
               ],
               [
                0.4444444444444444,
                "#26828e"
               ],
               [
                0.5555555555555556,
                "#1f9e89"
               ],
               [
                0.6666666666666666,
                "#35b779"
               ],
               [
                0.7777777777777778,
                "#6ece58"
               ],
               [
                0.8888888888888888,
                "#b5de2b"
               ],
               [
                1,
                "#fde725"
               ]
              ],
              "type": "heatmap"
             }
            ],
            "heatmapgl": [
             {
              "colorbar": {
               "outlinewidth": 1,
               "tickcolor": "rgb(36,36,36)",
               "ticks": "outside"
              },
              "colorscale": [
               [
                0,
                "#440154"
               ],
               [
                0.1111111111111111,
                "#482878"
               ],
               [
                0.2222222222222222,
                "#3e4989"
               ],
               [
                0.3333333333333333,
                "#31688e"
               ],
               [
                0.4444444444444444,
                "#26828e"
               ],
               [
                0.5555555555555556,
                "#1f9e89"
               ],
               [
                0.6666666666666666,
                "#35b779"
               ],
               [
                0.7777777777777778,
                "#6ece58"
               ],
               [
                0.8888888888888888,
                "#b5de2b"
               ],
               [
                1,
                "#fde725"
               ]
              ],
              "type": "heatmapgl"
             }
            ],
            "histogram": [
             {
              "marker": {
               "line": {
                "color": "white",
                "width": 0.6
               }
              },
              "type": "histogram"
             }
            ],
            "histogram2d": [
             {
              "colorbar": {
               "outlinewidth": 1,
               "tickcolor": "rgb(36,36,36)",
               "ticks": "outside"
              },
              "colorscale": [
               [
                0,
                "#440154"
               ],
               [
                0.1111111111111111,
                "#482878"
               ],
               [
                0.2222222222222222,
                "#3e4989"
               ],
               [
                0.3333333333333333,
                "#31688e"
               ],
               [
                0.4444444444444444,
                "#26828e"
               ],
               [
                0.5555555555555556,
                "#1f9e89"
               ],
               [
                0.6666666666666666,
                "#35b779"
               ],
               [
                0.7777777777777778,
                "#6ece58"
               ],
               [
                0.8888888888888888,
                "#b5de2b"
               ],
               [
                1,
                "#fde725"
               ]
              ],
              "type": "histogram2d"
             }
            ],
            "histogram2dcontour": [
             {
              "colorbar": {
               "outlinewidth": 1,
               "tickcolor": "rgb(36,36,36)",
               "ticks": "outside"
              },
              "colorscale": [
               [
                0,
                "#440154"
               ],
               [
                0.1111111111111111,
                "#482878"
               ],
               [
                0.2222222222222222,
                "#3e4989"
               ],
               [
                0.3333333333333333,
                "#31688e"
               ],
               [
                0.4444444444444444,
                "#26828e"
               ],
               [
                0.5555555555555556,
                "#1f9e89"
               ],
               [
                0.6666666666666666,
                "#35b779"
               ],
               [
                0.7777777777777778,
                "#6ece58"
               ],
               [
                0.8888888888888888,
                "#b5de2b"
               ],
               [
                1,
                "#fde725"
               ]
              ],
              "type": "histogram2dcontour"
             }
            ],
            "mesh3d": [
             {
              "colorbar": {
               "outlinewidth": 1,
               "tickcolor": "rgb(36,36,36)",
               "ticks": "outside"
              },
              "type": "mesh3d"
             }
            ],
            "parcoords": [
             {
              "line": {
               "colorbar": {
                "outlinewidth": 1,
                "tickcolor": "rgb(36,36,36)",
                "ticks": "outside"
               }
              },
              "type": "parcoords"
             }
            ],
            "pie": [
             {
              "automargin": true,
              "type": "pie"
             }
            ],
            "scatter": [
             {
              "fillpattern": {
               "fillmode": "overlay",
               "size": 10,
               "solidity": 0.2
              },
              "type": "scatter"
             }
            ],
            "scatter3d": [
             {
              "line": {
               "colorbar": {
                "outlinewidth": 1,
                "tickcolor": "rgb(36,36,36)",
                "ticks": "outside"
               }
              },
              "marker": {
               "colorbar": {
                "outlinewidth": 1,
                "tickcolor": "rgb(36,36,36)",
                "ticks": "outside"
               }
              },
              "type": "scatter3d"
             }
            ],
            "scattercarpet": [
             {
              "marker": {
               "colorbar": {
                "outlinewidth": 1,
                "tickcolor": "rgb(36,36,36)",
                "ticks": "outside"
               }
              },
              "type": "scattercarpet"
             }
            ],
            "scattergeo": [
             {
              "marker": {
               "colorbar": {
                "outlinewidth": 1,
                "tickcolor": "rgb(36,36,36)",
                "ticks": "outside"
               }
              },
              "type": "scattergeo"
             }
            ],
            "scattergl": [
             {
              "marker": {
               "colorbar": {
                "outlinewidth": 1,
                "tickcolor": "rgb(36,36,36)",
                "ticks": "outside"
               }
              },
              "type": "scattergl"
             }
            ],
            "scattermapbox": [
             {
              "marker": {
               "colorbar": {
                "outlinewidth": 1,
                "tickcolor": "rgb(36,36,36)",
                "ticks": "outside"
               }
              },
              "type": "scattermapbox"
             }
            ],
            "scatterpolar": [
             {
              "marker": {
               "colorbar": {
                "outlinewidth": 1,
                "tickcolor": "rgb(36,36,36)",
                "ticks": "outside"
               }
              },
              "type": "scatterpolar"
             }
            ],
            "scatterpolargl": [
             {
              "marker": {
               "colorbar": {
                "outlinewidth": 1,
                "tickcolor": "rgb(36,36,36)",
                "ticks": "outside"
               }
              },
              "type": "scatterpolargl"
             }
            ],
            "scatterternary": [
             {
              "marker": {
               "colorbar": {
                "outlinewidth": 1,
                "tickcolor": "rgb(36,36,36)",
                "ticks": "outside"
               }
              },
              "type": "scatterternary"
             }
            ],
            "surface": [
             {
              "colorbar": {
               "outlinewidth": 1,
               "tickcolor": "rgb(36,36,36)",
               "ticks": "outside"
              },
              "colorscale": [
               [
                0,
                "#440154"
               ],
               [
                0.1111111111111111,
                "#482878"
               ],
               [
                0.2222222222222222,
                "#3e4989"
               ],
               [
                0.3333333333333333,
                "#31688e"
               ],
               [
                0.4444444444444444,
                "#26828e"
               ],
               [
                0.5555555555555556,
                "#1f9e89"
               ],
               [
                0.6666666666666666,
                "#35b779"
               ],
               [
                0.7777777777777778,
                "#6ece58"
               ],
               [
                0.8888888888888888,
                "#b5de2b"
               ],
               [
                1,
                "#fde725"
               ]
              ],
              "type": "surface"
             }
            ],
            "table": [
             {
              "cells": {
               "fill": {
                "color": "rgb(237,237,237)"
               },
               "line": {
                "color": "white"
               }
              },
              "header": {
               "fill": {
                "color": "rgb(217,217,217)"
               },
               "line": {
                "color": "white"
               }
              },
              "type": "table"
             }
            ]
           },
           "layout": {
            "annotationdefaults": {
             "arrowhead": 0,
             "arrowwidth": 1
            },
            "autotypenumbers": "strict",
            "coloraxis": {
             "colorbar": {
              "outlinewidth": 1,
              "tickcolor": "rgb(36,36,36)",
              "ticks": "outside"
             }
            },
            "colorscale": {
             "diverging": [
              [
               0,
               "rgb(103,0,31)"
              ],
              [
               0.1,
               "rgb(178,24,43)"
              ],
              [
               0.2,
               "rgb(214,96,77)"
              ],
              [
               0.3,
               "rgb(244,165,130)"
              ],
              [
               0.4,
               "rgb(253,219,199)"
              ],
              [
               0.5,
               "rgb(247,247,247)"
              ],
              [
               0.6,
               "rgb(209,229,240)"
              ],
              [
               0.7,
               "rgb(146,197,222)"
              ],
              [
               0.8,
               "rgb(67,147,195)"
              ],
              [
               0.9,
               "rgb(33,102,172)"
              ],
              [
               1,
               "rgb(5,48,97)"
              ]
             ],
             "sequential": [
              [
               0,
               "#440154"
              ],
              [
               0.1111111111111111,
               "#482878"
              ],
              [
               0.2222222222222222,
               "#3e4989"
              ],
              [
               0.3333333333333333,
               "#31688e"
              ],
              [
               0.4444444444444444,
               "#26828e"
              ],
              [
               0.5555555555555556,
               "#1f9e89"
              ],
              [
               0.6666666666666666,
               "#35b779"
              ],
              [
               0.7777777777777778,
               "#6ece58"
              ],
              [
               0.8888888888888888,
               "#b5de2b"
              ],
              [
               1,
               "#fde725"
              ]
             ],
             "sequentialminus": [
              [
               0,
               "#440154"
              ],
              [
               0.1111111111111111,
               "#482878"
              ],
              [
               0.2222222222222222,
               "#3e4989"
              ],
              [
               0.3333333333333333,
               "#31688e"
              ],
              [
               0.4444444444444444,
               "#26828e"
              ],
              [
               0.5555555555555556,
               "#1f9e89"
              ],
              [
               0.6666666666666666,
               "#35b779"
              ],
              [
               0.7777777777777778,
               "#6ece58"
              ],
              [
               0.8888888888888888,
               "#b5de2b"
              ],
              [
               1,
               "#fde725"
              ]
             ]
            },
            "colorway": [
             "#1F77B4",
             "#FF7F0E",
             "#2CA02C",
             "#D62728",
             "#9467BD",
             "#8C564B",
             "#E377C2",
             "#7F7F7F",
             "#BCBD22",
             "#17BECF"
            ],
            "font": {
             "color": "rgb(36,36,36)"
            },
            "geo": {
             "bgcolor": "white",
             "lakecolor": "white",
             "landcolor": "white",
             "showlakes": true,
             "showland": true,
             "subunitcolor": "white"
            },
            "hoverlabel": {
             "align": "left"
            },
            "hovermode": "closest",
            "mapbox": {
             "style": "light"
            },
            "paper_bgcolor": "white",
            "plot_bgcolor": "white",
            "polar": {
             "angularaxis": {
              "gridcolor": "rgb(232,232,232)",
              "linecolor": "rgb(36,36,36)",
              "showgrid": false,
              "showline": true,
              "ticks": "outside"
             },
             "bgcolor": "white",
             "radialaxis": {
              "gridcolor": "rgb(232,232,232)",
              "linecolor": "rgb(36,36,36)",
              "showgrid": false,
              "showline": true,
              "ticks": "outside"
             }
            },
            "scene": {
             "xaxis": {
              "backgroundcolor": "white",
              "gridcolor": "rgb(232,232,232)",
              "gridwidth": 2,
              "linecolor": "rgb(36,36,36)",
              "showbackground": true,
              "showgrid": false,
              "showline": true,
              "ticks": "outside",
              "zeroline": false,
              "zerolinecolor": "rgb(36,36,36)"
             },
             "yaxis": {
              "backgroundcolor": "white",
              "gridcolor": "rgb(232,232,232)",
              "gridwidth": 2,
              "linecolor": "rgb(36,36,36)",
              "showbackground": true,
              "showgrid": false,
              "showline": true,
              "ticks": "outside",
              "zeroline": false,
              "zerolinecolor": "rgb(36,36,36)"
             },
             "zaxis": {
              "backgroundcolor": "white",
              "gridcolor": "rgb(232,232,232)",
              "gridwidth": 2,
              "linecolor": "rgb(36,36,36)",
              "showbackground": true,
              "showgrid": false,
              "showline": true,
              "ticks": "outside",
              "zeroline": false,
              "zerolinecolor": "rgb(36,36,36)"
             }
            },
            "shapedefaults": {
             "fillcolor": "black",
             "line": {
              "width": 0
             },
             "opacity": 0.3
            },
            "ternary": {
             "aaxis": {
              "gridcolor": "rgb(232,232,232)",
              "linecolor": "rgb(36,36,36)",
              "showgrid": false,
              "showline": true,
              "ticks": "outside"
             },
             "baxis": {
              "gridcolor": "rgb(232,232,232)",
              "linecolor": "rgb(36,36,36)",
              "showgrid": false,
              "showline": true,
              "ticks": "outside"
             },
             "bgcolor": "white",
             "caxis": {
              "gridcolor": "rgb(232,232,232)",
              "linecolor": "rgb(36,36,36)",
              "showgrid": false,
              "showline": true,
              "ticks": "outside"
             }
            },
            "title": {
             "x": 0.05
            },
            "xaxis": {
             "automargin": true,
             "gridcolor": "rgb(232,232,232)",
             "linecolor": "rgb(36,36,36)",
             "showgrid": false,
             "showline": true,
             "ticks": "outside",
             "title": {
              "standoff": 15
             },
             "zeroline": false,
             "zerolinecolor": "rgb(36,36,36)"
            },
            "yaxis": {
             "automargin": true,
             "gridcolor": "rgb(232,232,232)",
             "linecolor": "rgb(36,36,36)",
             "showgrid": false,
             "showline": true,
             "ticks": "outside",
             "title": {
              "standoff": 15
             },
             "zeroline": false,
             "zerolinecolor": "rgb(36,36,36)"
            }
           }
          },
          "title": {
           "font": {
            "family": "Inter Variable, Inter Tight, Inter",
            "weight": "bold"
           }
          },
          "xaxis": {
           "showgrid": false
          },
          "yaxis": {
           "showgrid": false
          }
         }
        },
        "title": {
         "text": "total_grad_norm by step"
        },
        "xaxis": {
         "anchor": "y",
         "autorange": true,
         "domain": [
          0,
          1
         ],
         "range": [
          100,
          27100
         ],
         "title": {
          "text": "step"
         },
         "type": "linear"
        },
        "yaxis": {
         "anchor": "x",
         "autorange": true,
         "domain": [
          0,
          1
         ],
         "range": [
          0.012782504839154184,
          1.0519585845249702
         ],
         "title": {
          "text": "total_grad_norm"
         },
         "type": "linear"
        }
       }
      },
      "image/png": "[encoded data removed]",
      "text/html": [
       "<div>                            <div id=\"9728d835-0408-4293-9329-1e439a7ccd24\" class=\"plotly-graph-div\" style=\"height:525px; width:100%;\"></div>            <script type=\"text/javascript\">                require([\"plotly\"], function(Plotly) {                    window.PLOTLYENV=window.PLOTLYENV || {};                                    if (document.getElementById(\"9728d835-0408-4293-9329-1e439a7ccd24\")) {                    Plotly.newPlot(                        \"9728d835-0408-4293-9329-1e439a7ccd24\",                        [{\"hovertemplate\":\"step=%{x}\\u003cbr\\u003etotal_grad_norm=%{y}\\u003cextra\\u003e\\u003c\\u002fextra\\u003e\",\"legendgroup\":\"\",\"line\":{\"color\":\"#114B8F\",\"dash\":\"solid\"},\"marker\":{\"symbol\":\"circle\"},\"mode\":\"lines\",\"name\":\"\",\"orientation\":\"v\",\"showlegend\":false,\"x\":[100,200,300,400,500,600,700,800,900,1000,1100,1200,1300,1400,1500,1600,1700,1800,1900,2000,2100,2200,2300,2400,2500,2600,2700,2800,2900,3000,3100,3200,3300,3400,3500,3600,3700,3800,3900,4000,4100,4200,4300,4400,4500,4600,4700,4800,4900,5000,5100,5200,5300,5400,5500,5600,5700,5800,5900,6000,6100,6200,6300,6400,6500,6600,6700,6800,6900,7000,7100,7200,7300,7400,7500,7600,7700,7800,7900,8000,8100,8200,8300,8400,8500,8600,8700,8800,8900,9000,9100,9200,9300,9400,9500,9600,9700,9800,9900,10000,10100,10200,10300,10400,10500,10600,10700,10800,10900,11000,11100,11200,11300,11400,11500,11600,11700,11800,11900,12000,12100,12200,12300,12400,12500,12600,12700,12800,12900,13000,13100,13200,13300,13400,13500,13600,13700,13800,13900,14000,14100,14200,14300,14400,14500,14600,14700,14800,14900,15000,15100,15200,15300,15400,15500,15600,15700,15800,15900,16000,16100,16200,16300,16400,16500,16600,16700,16800,16900,17000,17100,17200,17300,17400,17500,17600,17700,17800,17900,18000,18100,18200,18300,18400,18500,18600,18700,18800,18900,19000,19100,19200,19300,19400,19500,19600,19700,19800,19900,20000,20100,20200,20300,20400,20500,20600,20700,20800,20900,21000,21100,21200,21300,21400,21500,21600,21700,21800,21900,22000,22100,22200,22300,22400,22500,22600,22700,22800,22900,23000,23100,23200,23300,23400,23500,23600,23700,23800,23900,24000,24100,24200,24300,24400,24500,24600,24700,24800,24900,25000,25100,25200,25300,25400,25500,25600,25700,25800,25900,26000,26100,26200,26300,26400,26500,26600,26700,26800,26900,27000,27100],\"xaxis\":\"x\",\"y\":[0.06474130882344499,0.8036336177786509,0.6355288028717049,0.999999484288953,0.7586729720125175,0.9099592566490173,0.9999995871734431,0.9999992958342037,0.9999993941785211,0.9999990541224734,0.9999997630579752,0.9999994638371562,0.9999992099176761,0.9999994895003177,0.9999995837700699,0.9999994773018364,0.9999995231628418,0.9999994391797236,0.9999995479243213,0.9999996355041578,0.999999755959263,0.9999995627667001,0.9999997402586338,0.9999996173839062,0.9999996259914152,0.9999996733551518,0.9999995549913043,0.9999997805406794,0.9999995651387574,0.9999995897697577,0.9999995192649765,0.9999995921104524,0.9999996142203555,0.9999995451643833,0.9999995062527194,0.9999997029988407,0.9999997236209532,0.9999995827758354,0.9999995984508818,0.9999995558602235,0.9999995825100444,0.9999993233695086,0.9999996054580994,0.9999995191076961,0.9999996915486205,0.9999993828474075,0.9999995762713153,0.999999385561066,0.5994399576310392,0.999999503489416,0.9999995921601411,0.9999994758669567,0.9999997100330972,0.9999996130208311,0.9999994966460578,0.9999994421257312,0.9999994462317238,0.9999996025444357,0.999999026308972,0.9999996679391837,0.999999487973572,0.9999995623233034,0.9999993829229205,0.7387080132695869,0.9999996066792506,0.9999994393099363,0.9999991644433761,0.9999994808950563,0.9999994803325973,0.9999993444301811,0.9999994963392493,0.9999995499550778,0.999999414967449,0.9999996605669771,0.9999994390945809,0.9999992335702869,0.9999995343641856,0.9999993313871979,0.9999994459600352,0.9999993294719397,0.9999996150445504,0.9999991214554877,0.999999380189456,0.9999994173415411,0.9999995086888839,0.9999991289073366,0.9999996066712836,0.9999994256163947,0.9999991159913827,0.9999995477454403,0.9999990612135611,0.9695089254848022,0.9782636196737675,0.9999991769339799,0.9247245770300608,0.898359938766602,0.877317911490558,0.9999994855736154,0.6910383327926136,0.9999993425419521,0.9999993410106263,0.9999991669444513,0.9999990242893891,0.9999994972142792,0.9999992291967281,0.9958224571649357,0.5145276348191214,0.9999991214978148,0.8872012920045818,0.9999994552722806,0.999999449325409,0.9999994057911523,0.9999994663877929,0.9999995488930757,0.9999990678031156,0.999999192564677,0.9999992119897921,0.9999995158426196,0.9999992957204362,0.9999993827753126,0.999999216214985,0.9999990359944978,0.9999995421515457,0.9999992977872963,0.9999991368635831,0.9999991423459388,0.9999994192751261,0.9999990596795973,0.9999992002475596,0.9999992639152562,0.99999952279855,0.9999993471398092,0.9999994072048933,0.9999993557786698,0.999999663283541,0.999998994994287,0.9627041426065472,0.8399628612434062,0.8821645155289489,0.9170084789497942,0.3201210401916533,0.9999994293769909,0.549405758234374,0.5537994292085721,0.3892500736214334,0.9999994135827993,0.8533887979871436,0.9999991894615406,0.9999993156658323,0.9129135555497382,0.9999994089852108,0.620190308651037,0.5026664824262579,0.9106502007592236,0.9999992280042016,0.2842499661340997,0.999999130403687,0.9335465000248366,0.9999994100219518,0.613264978807339,0.7875297443029258,0.7962444422309418,0.9999991816383562,0.8739182230598739,0.9999992740445802,0.9999991576878055,0.9999992435346331,0.9999991090704509,0.390616512551521,0.9999994403583924,0.9999991831791085,0.9999994712885335,0.9999993853961205,0.9999990609725696,0.9999991037151401,0.9048090274417265,0.9999995178686426,0.9999989860778886,0.9999993278463691,0.5488120899070175,0.7800707259554627,0.5093877528815464,0.6992650850137827,0.7601832320646934,0.7566148673575022,0.9999990888299833,0.999999259338849,0.9999992802958023,0.9999992981406779,0.7292171592287435,0.6637388263927774,0.9999994239311253,0.9636300677766708,0.8312196845762332,0.6893817238022044,0.853940036080996,0.678621236734726,0.8102649408464321,0.9999992661493334,0.9011266742595897,0.468118938982785,0.9999991634806308,0.9677415921838495,0.9159310393577609,0.999999378853915,0.9999994601232948,0.9999992939970882,0.9999993787511212,0.30911071854675465,0.8106613793305222,0.6371285431913563,0.1624947788959417,0.9999995040063681,0.9999994445456623,0.8579523857115071,0.8661752718945921,0.5624647606795847,0.9999992475962458,0.9999991228925474,0.7080230767428161,0.5928558619716775,0.9999994569622174,0.6523744072784186,0.9999992140327889,0.601971700696773,0.9066230364925569,0.9999992016739776,0.6954471426376804,0.9999991283407008,0.962961373646103,0.7323690852200999,0.5636530291712039,0.999999387135607,0.4702776182832235,0.7947412143531241,0.9999993915646229,0.3116688487490613,0.4198342463616951,0.5626403978386809,0.911044056056799,0.7997735941957039,0.3962584147379675,0.9927819431771856,0.2572483524298775,0.7684783920987021,0.46843414232764263,0.35056315946815175,0.7886653457435718,0.6130056002126374,0.6619857381444944,0.9694657707804331,0.2032206445211196,0.764314136022644,0.9999990409184286,0.9999993337701892,0.2717718922005151,0.5010065505759286,0.9999991508167114,0.9999993871870588,0.9999991463558227,0.9780291256857657,0.9999994023569333,0.526149554210939,0.638790244956278,0.9999995825255449,0.9999991078266318,0.998008332395192,0.7577733140859971,0.999999271090222,0.4299668995445368,0.5303539202822911],\"yaxis\":\"y\",\"type\":\"scatter\"}],                        {\"template\":{\"layout\":{\"colorway\":[\"#114B8F\",\"#248F11\",\"#8F6211\",\"#8F116C\",\"#1A293A\"],\"font\":{\"family\":\"Inter Variable, Inter\"},\"showlegend\":false,\"template\":{\"data\":{\"barpolar\":[{\"marker\":{\"line\":{\"color\":\"white\",\"width\":0.5},\"pattern\":{\"fillmode\":\"overlay\",\"size\":10,\"solidity\":0.2}},\"type\":\"barpolar\"}],\"bar\":[{\"error_x\":{\"color\":\"rgb(36,36,36)\"},\"error_y\":{\"color\":\"rgb(36,36,36)\"},\"marker\":{\"line\":{\"color\":\"white\",\"width\":0.5},\"pattern\":{\"fillmode\":\"overlay\",\"size\":10,\"solidity\":0.2}},\"type\":\"bar\"}],\"carpet\":[{\"aaxis\":{\"endlinecolor\":\"rgb(36,36,36)\",\"gridcolor\":\"white\",\"linecolor\":\"white\",\"minorgridcolor\":\"white\",\"startlinecolor\":\"rgb(36,36,36)\"},\"baxis\":{\"endlinecolor\":\"rgb(36,36,36)\",\"gridcolor\":\"white\",\"linecolor\":\"white\",\"minorgridcolor\":\"white\",\"startlinecolor\":\"rgb(36,36,36)\"},\"type\":\"carpet\"}],\"choropleth\":[{\"colorbar\":{\"outlinewidth\":1,\"tickcolor\":\"rgb(36,36,36)\",\"ticks\":\"outside\"},\"type\":\"choropleth\"}],\"contourcarpet\":[{\"colorbar\":{\"outlinewidth\":1,\"tickcolor\":\"rgb(36,36,36)\",\"ticks\":\"outside\"},\"type\":\"contourcarpet\"}],\"contour\":[{\"colorbar\":{\"outlinewidth\":1,\"tickcolor\":\"rgb(36,36,36)\",\"ticks\":\"outside\"},\"colorscale\":[[0.0,\"#440154\"],[0.1111111111111111,\"#482878\"],[0.2222222222222222,\"#3e4989\"],[0.3333333333333333,\"#31688e\"],[0.4444444444444444,\"#26828e\"],[0.5555555555555556,\"#1f9e89\"],[0.6666666666666666,\"#35b779\"],[0.7777777777777778,\"#6ece58\"],[0.8888888888888888,\"#b5de2b\"],[1.0,\"#fde725\"]],\"type\":\"contour\"}],\"heatmapgl\":[{\"colorbar\":{\"outlinewidth\":1,\"tickcolor\":\"rgb(36,36,36)\",\"ticks\":\"outside\"},\"colorscale\":[[0.0,\"#440154\"],[0.1111111111111111,\"#482878\"],[0.2222222222222222,\"#3e4989\"],[0.3333333333333333,\"#31688e\"],[0.4444444444444444,\"#26828e\"],[0.5555555555555556,\"#1f9e89\"],[0.6666666666666666,\"#35b779\"],[0.7777777777777778,\"#6ece58\"],[0.8888888888888888,\"#b5de2b\"],[1.0,\"#fde725\"]],\"type\":\"heatmapgl\"}],\"heatmap\":[{\"colorbar\":{\"outlinewidth\":1,\"tickcolor\":\"rgb(36,36,36)\",\"ticks\":\"outside\"},\"colorscale\":[[0.0,\"#440154\"],[0.1111111111111111,\"#482878\"],[0.2222222222222222,\"#3e4989\"],[0.3333333333333333,\"#31688e\"],[0.4444444444444444,\"#26828e\"],[0.5555555555555556,\"#1f9e89\"],[0.6666666666666666,\"#35b779\"],[0.7777777777777778,\"#6ece58\"],[0.8888888888888888,\"#b5de2b\"],[1.0,\"#fde725\"]],\"type\":\"heatmap\"}],\"histogram2dcontour\":[{\"colorbar\":{\"outlinewidth\":1,\"tickcolor\":\"rgb(36,36,36)\",\"ticks\":\"outside\"},\"colorscale\":[[0.0,\"#440154\"],[0.1111111111111111,\"#482878\"],[0.2222222222222222,\"#3e4989\"],[0.3333333333333333,\"#31688e\"],[0.4444444444444444,\"#26828e\"],[0.5555555555555556,\"#1f9e89\"],[0.6666666666666666,\"#35b779\"],[0.7777777777777778,\"#6ece58\"],[0.8888888888888888,\"#b5de2b\"],[1.0,\"#fde725\"]],\"type\":\"histogram2dcontour\"}],\"histogram2d\":[{\"colorbar\":{\"outlinewidth\":1,\"tickcolor\":\"rgb(36,36,36)\",\"ticks\":\"outside\"},\"colorscale\":[[0.0,\"#440154\"],[0.1111111111111111,\"#482878\"],[0.2222222222222222,\"#3e4989\"],[0.3333333333333333,\"#31688e\"],[0.4444444444444444,\"#26828e\"],[0.5555555555555556,\"#1f9e89\"],[0.6666666666666666,\"#35b779\"],[0.7777777777777778,\"#6ece58\"],[0.8888888888888888,\"#b5de2b\"],[1.0,\"#fde725\"]],\"type\":\"histogram2d\"}],\"histogram\":[{\"marker\":{\"line\":{\"color\":\"white\",\"width\":0.6}},\"type\":\"histogram\"}],\"mesh3d\":[{\"colorbar\":{\"outlinewidth\":1,\"tickcolor\":\"rgb(36,36,36)\",\"ticks\":\"outside\"},\"type\":\"mesh3d\"}],\"parcoords\":[{\"line\":{\"colorbar\":{\"outlinewidth\":1,\"tickcolor\":\"rgb(36,36,36)\",\"ticks\":\"outside\"}},\"type\":\"parcoords\"}],\"pie\":[{\"automargin\":true,\"type\":\"pie\"}],\"scatter3d\":[{\"line\":{\"colorbar\":{\"outlinewidth\":1,\"tickcolor\":\"rgb(36,36,36)\",\"ticks\":\"outside\"}},\"marker\":{\"colorbar\":{\"outlinewidth\":1,\"tickcolor\":\"rgb(36,36,36)\",\"ticks\":\"outside\"}},\"type\":\"scatter3d\"}],\"scattercarpet\":[{\"marker\":{\"colorbar\":{\"outlinewidth\":1,\"tickcolor\":\"rgb(36,36,36)\",\"ticks\":\"outside\"}},\"type\":\"scattercarpet\"}],\"scattergeo\":[{\"marker\":{\"colorbar\":{\"outlinewidth\":1,\"tickcolor\":\"rgb(36,36,36)\",\"ticks\":\"outside\"}},\"type\":\"scattergeo\"}],\"scattergl\":[{\"marker\":{\"colorbar\":{\"outlinewidth\":1,\"tickcolor\":\"rgb(36,36,36)\",\"ticks\":\"outside\"}},\"type\":\"scattergl\"}],\"scattermapbox\":[{\"marker\":{\"colorbar\":{\"outlinewidth\":1,\"tickcolor\":\"rgb(36,36,36)\",\"ticks\":\"outside\"}},\"type\":\"scattermapbox\"}],\"scatterpolargl\":[{\"marker\":{\"colorbar\":{\"outlinewidth\":1,\"tickcolor\":\"rgb(36,36,36)\",\"ticks\":\"outside\"}},\"type\":\"scatterpolargl\"}],\"scatterpolar\":[{\"marker\":{\"colorbar\":{\"outlinewidth\":1,\"tickcolor\":\"rgb(36,36,36)\",\"ticks\":\"outside\"}},\"type\":\"scatterpolar\"}],\"scatter\":[{\"fillpattern\":{\"fillmode\":\"overlay\",\"size\":10,\"solidity\":0.2},\"type\":\"scatter\"}],\"scatterternary\":[{\"marker\":{\"colorbar\":{\"outlinewidth\":1,\"tickcolor\":\"rgb(36,36,36)\",\"ticks\":\"outside\"}},\"type\":\"scatterternary\"}],\"surface\":[{\"colorbar\":{\"outlinewidth\":1,\"tickcolor\":\"rgb(36,36,36)\",\"ticks\":\"outside\"},\"colorscale\":[[0.0,\"#440154\"],[0.1111111111111111,\"#482878\"],[0.2222222222222222,\"#3e4989\"],[0.3333333333333333,\"#31688e\"],[0.4444444444444444,\"#26828e\"],[0.5555555555555556,\"#1f9e89\"],[0.6666666666666666,\"#35b779\"],[0.7777777777777778,\"#6ece58\"],[0.8888888888888888,\"#b5de2b\"],[1.0,\"#fde725\"]],\"type\":\"surface\"}],\"table\":[{\"cells\":{\"fill\":{\"color\":\"rgb(237,237,237)\"},\"line\":{\"color\":\"white\"}},\"header\":{\"fill\":{\"color\":\"rgb(217,217,217)\"},\"line\":{\"color\":\"white\"}},\"type\":\"table\"}]},\"layout\":{\"annotationdefaults\":{\"arrowhead\":0,\"arrowwidth\":1},\"autotypenumbers\":\"strict\",\"coloraxis\":{\"colorbar\":{\"outlinewidth\":1,\"tickcolor\":\"rgb(36,36,36)\",\"ticks\":\"outside\"}},\"colorscale\":{\"diverging\":[[0.0,\"rgb(103,0,31)\"],[0.1,\"rgb(178,24,43)\"],[0.2,\"rgb(214,96,77)\"],[0.3,\"rgb(244,165,130)\"],[0.4,\"rgb(253,219,199)\"],[0.5,\"rgb(247,247,247)\"],[0.6,\"rgb(209,229,240)\"],[0.7,\"rgb(146,197,222)\"],[0.8,\"rgb(67,147,195)\"],[0.9,\"rgb(33,102,172)\"],[1.0,\"rgb(5,48,97)\"]],\"sequential\":[[0.0,\"#440154\"],[0.1111111111111111,\"#482878\"],[0.2222222222222222,\"#3e4989\"],[0.3333333333333333,\"#31688e\"],[0.4444444444444444,\"#26828e\"],[0.5555555555555556,\"#1f9e89\"],[0.6666666666666666,\"#35b779\"],[0.7777777777777778,\"#6ece58\"],[0.8888888888888888,\"#b5de2b\"],[1.0,\"#fde725\"]],\"sequentialminus\":[[0.0,\"#440154\"],[0.1111111111111111,\"#482878\"],[0.2222222222222222,\"#3e4989\"],[0.3333333333333333,\"#31688e\"],[0.4444444444444444,\"#26828e\"],[0.5555555555555556,\"#1f9e89\"],[0.6666666666666666,\"#35b779\"],[0.7777777777777778,\"#6ece58\"],[0.8888888888888888,\"#b5de2b\"],[1.0,\"#fde725\"]]},\"colorway\":[\"#1F77B4\",\"#FF7F0E\",\"#2CA02C\",\"#D62728\",\"#9467BD\",\"#8C564B\",\"#E377C2\",\"#7F7F7F\",\"#BCBD22\",\"#17BECF\"],\"font\":{\"color\":\"rgb(36,36,36)\"},\"geo\":{\"bgcolor\":\"white\",\"lakecolor\":\"white\",\"landcolor\":\"white\",\"showlakes\":true,\"showland\":true,\"subunitcolor\":\"white\"},\"hoverlabel\":{\"align\":\"left\"},\"hovermode\":\"closest\",\"mapbox\":{\"style\":\"light\"},\"paper_bgcolor\":\"white\",\"plot_bgcolor\":\"white\",\"polar\":{\"angularaxis\":{\"gridcolor\":\"rgb(232,232,232)\",\"linecolor\":\"rgb(36,36,36)\",\"showgrid\":false,\"showline\":true,\"ticks\":\"outside\"},\"bgcolor\":\"white\",\"radialaxis\":{\"gridcolor\":\"rgb(232,232,232)\",\"linecolor\":\"rgb(36,36,36)\",\"showgrid\":false,\"showline\":true,\"ticks\":\"outside\"}},\"scene\":{\"xaxis\":{\"backgroundcolor\":\"white\",\"gridcolor\":\"rgb(232,232,232)\",\"gridwidth\":2,\"linecolor\":\"rgb(36,36,36)\",\"showbackground\":true,\"showgrid\":false,\"showline\":true,\"ticks\":\"outside\",\"zeroline\":false,\"zerolinecolor\":\"rgb(36,36,36)\"},\"yaxis\":{\"backgroundcolor\":\"white\",\"gridcolor\":\"rgb(232,232,232)\",\"gridwidth\":2,\"linecolor\":\"rgb(36,36,36)\",\"showbackground\":true,\"showgrid\":false,\"showline\":true,\"ticks\":\"outside\",\"zeroline\":false,\"zerolinecolor\":\"rgb(36,36,36)\"},\"zaxis\":{\"backgroundcolor\":\"white\",\"gridcolor\":\"rgb(232,232,232)\",\"gridwidth\":2,\"linecolor\":\"rgb(36,36,36)\",\"showbackground\":true,\"showgrid\":false,\"showline\":true,\"ticks\":\"outside\",\"zeroline\":false,\"zerolinecolor\":\"rgb(36,36,36)\"}},\"shapedefaults\":{\"fillcolor\":\"black\",\"line\":{\"width\":0},\"opacity\":0.3},\"ternary\":{\"aaxis\":{\"gridcolor\":\"rgb(232,232,232)\",\"linecolor\":\"rgb(36,36,36)\",\"showgrid\":false,\"showline\":true,\"ticks\":\"outside\"},\"baxis\":{\"gridcolor\":\"rgb(232,232,232)\",\"linecolor\":\"rgb(36,36,36)\",\"showgrid\":false,\"showline\":true,\"ticks\":\"outside\"},\"bgcolor\":\"white\",\"caxis\":{\"gridcolor\":\"rgb(232,232,232)\",\"linecolor\":\"rgb(36,36,36)\",\"showgrid\":false,\"showline\":true,\"ticks\":\"outside\"}},\"title\":{\"x\":0.05},\"xaxis\":{\"automargin\":true,\"gridcolor\":\"rgb(232,232,232)\",\"linecolor\":\"rgb(36,36,36)\",\"showgrid\":false,\"showline\":true,\"ticks\":\"outside\",\"title\":{\"standoff\":15},\"zeroline\":false,\"zerolinecolor\":\"rgb(36,36,36)\"},\"yaxis\":{\"automargin\":true,\"gridcolor\":\"rgb(232,232,232)\",\"linecolor\":\"rgb(36,36,36)\",\"showgrid\":false,\"showline\":true,\"ticks\":\"outside\",\"title\":{\"standoff\":15},\"zeroline\":false,\"zerolinecolor\":\"rgb(36,36,36)\"}}},\"title\":{\"font\":{\"family\":\"Inter Variable, Inter Tight, Inter\",\"weight\":\"bold\"}},\"xaxis\":{\"showgrid\":false},\"yaxis\":{\"showgrid\":false}}},\"xaxis\":{\"anchor\":\"y\",\"domain\":[0.0,1.0],\"title\":{\"text\":\"step\"}},\"yaxis\":{\"anchor\":\"x\",\"domain\":[0.0,1.0],\"title\":{\"text\":\"total_grad_norm\"}},\"legend\":{\"tracegroupgap\":0},\"title\":{\"text\":\"total_grad_norm by step\"}},                        {\"responsive\": true}                    ).then(function(){\n",
       "                            \n",
       "var gd = document.getElementById('9728d835-0408-4293-9329-1e439a7ccd24');\n",
       "var x = new MutationObserver(function (mutations, observer) {{\n",
       "        var display = window.getComputedStyle(gd).display;\n",
       "        if (!display || display === 'none') {{\n",
       "            console.log([gd, 'removed!']);\n",
       "            Plotly.purge(gd);\n",
       "            observer.disconnect();\n",
       "        }}\n",
       "}});\n",
       "\n",
       "// Listen for the removal of the full notebook cells\n",
       "var notebookContainer = gd.closest('#notebook-container');\n",
       "if (notebookContainer) {{\n",
       "    x.observe(notebookContainer, {childList: true});\n",
       "}}\n",
       "\n",
       "// Listen for the clearing of the current output cell\n",
       "var outputEl = gd.closest('.output');\n",
       "if (outputEl) {{\n",
       "    x.observe(outputEl, {childList: true});\n",
       "}}\n",
       "\n",
       "                        })                };                });            </script>        </div>"
      ]
     },
     "metadata": {},
     "output_type": "display_data"
    },
    {
     "data": {
      "application/vnd.plotly.v1+json": {
       "config": {
        "plotlyServerURL": "https://plot.ly"
       },
       "data": [
        {
         "hovertemplate": "loss_type=train_loss<br>epoch=%{x}<br>value=%{y}<extra></extra>",
         "legendgroup": "train_loss",
         "line": {
          "color": "#114B8F",
          "dash": "solid"
         },
         "marker": {
          "symbol": "circle"
         },
         "mode": "lines",
         "name": "train_loss",
         "orientation": "v",
         "showlegend": true,
         "type": "scatter",
         "x": [
          1,
          2,
          3,
          4,
          5
         ],
         "xaxis": "x",
         "y": [
          15.782812911700796,
          6.571830002848302,
          4.174215379745788,
          3.1574835047043566,
          2.5417852866371895
         ],
         "yaxis": "y"
        },
        {
         "hovertemplate": "loss_type=val_loss<br>epoch=%{x}<br>value=%{y}<extra></extra>",
         "legendgroup": "val_loss",
         "line": {
          "color": "#248F11",
          "dash": "solid"
         },
         "marker": {
          "symbol": "circle"
         },
         "mode": "lines",
         "name": "val_loss",
         "orientation": "v",
         "showlegend": true,
         "type": "scatter",
         "x": [
          1,
          2,
          3,
          4,
          5
         ],
         "xaxis": "x",
         "y": [
          16.960799936495743,
          13.64508530057872,
          12.680532505270344,
          12.306402370519349,
          12.26032452885475
         ],
         "yaxis": "y"
        }
       ],
       "layout": {
        "autosize": true,
        "legend": {
         "title": {
          "text": "loss_type"
         },
         "tracegroupgap": 0
        },
        "showlegend": true,
        "template": {
         "layout": {
          "colorway": [
           "#114B8F",
           "#248F11",
           "#8F6211",
           "#8F116C",
           "#1A293A"
          ],
          "font": {
           "family": "Inter Variable, Inter"
          },
          "showlegend": false,
          "template": {
           "data": {
            "bar": [
             {
              "error_x": {
               "color": "rgb(36,36,36)"
              },
              "error_y": {
               "color": "rgb(36,36,36)"
              },
              "marker": {
               "line": {
                "color": "white",
                "width": 0.5
               },
               "pattern": {
                "fillmode": "overlay",
                "size": 10,
                "solidity": 0.2
               }
              },
              "type": "bar"
             }
            ],
            "barpolar": [
             {
              "marker": {
               "line": {
                "color": "white",
                "width": 0.5
               },
               "pattern": {
                "fillmode": "overlay",
                "size": 10,
                "solidity": 0.2
               }
              },
              "type": "barpolar"
             }
            ],
            "carpet": [
             {
              "aaxis": {
               "endlinecolor": "rgb(36,36,36)",
               "gridcolor": "white",
               "linecolor": "white",
               "minorgridcolor": "white",
               "startlinecolor": "rgb(36,36,36)"
              },
              "baxis": {
               "endlinecolor": "rgb(36,36,36)",
               "gridcolor": "white",
               "linecolor": "white",
               "minorgridcolor": "white",
               "startlinecolor": "rgb(36,36,36)"
              },
              "type": "carpet"
             }
            ],
            "choropleth": [
             {
              "colorbar": {
               "outlinewidth": 1,
               "tickcolor": "rgb(36,36,36)",
               "ticks": "outside"
              },
              "type": "choropleth"
             }
            ],
            "contour": [
             {
              "colorbar": {
               "outlinewidth": 1,
               "tickcolor": "rgb(36,36,36)",
               "ticks": "outside"
              },
              "colorscale": [
               [
                0,
                "#440154"
               ],
               [
                0.1111111111111111,
                "#482878"
               ],
               [
                0.2222222222222222,
                "#3e4989"
               ],
               [
                0.3333333333333333,
                "#31688e"
               ],
               [
                0.4444444444444444,
                "#26828e"
               ],
               [
                0.5555555555555556,
                "#1f9e89"
               ],
               [
                0.6666666666666666,
                "#35b779"
               ],
               [
                0.7777777777777778,
                "#6ece58"
               ],
               [
                0.8888888888888888,
                "#b5de2b"
               ],
               [
                1,
                "#fde725"
               ]
              ],
              "type": "contour"
             }
            ],
            "contourcarpet": [
             {
              "colorbar": {
               "outlinewidth": 1,
               "tickcolor": "rgb(36,36,36)",
               "ticks": "outside"
              },
              "type": "contourcarpet"
             }
            ],
            "heatmap": [
             {
              "colorbar": {
               "outlinewidth": 1,
               "tickcolor": "rgb(36,36,36)",
               "ticks": "outside"
              },
              "colorscale": [
               [
                0,
                "#440154"
               ],
               [
                0.1111111111111111,
                "#482878"
               ],
               [
                0.2222222222222222,
                "#3e4989"
               ],
               [
                0.3333333333333333,
                "#31688e"
               ],
               [
                0.4444444444444444,
                "#26828e"
               ],
               [
                0.5555555555555556,
                "#1f9e89"
               ],
               [
                0.6666666666666666,
                "#35b779"
               ],
               [
                0.7777777777777778,
                "#6ece58"
               ],
               [
                0.8888888888888888,
                "#b5de2b"
               ],
               [
                1,
                "#fde725"
               ]
              ],
              "type": "heatmap"
             }
            ],
            "heatmapgl": [
             {
              "colorbar": {
               "outlinewidth": 1,
               "tickcolor": "rgb(36,36,36)",
               "ticks": "outside"
              },
              "colorscale": [
               [
                0,
                "#440154"
               ],
               [
                0.1111111111111111,
                "#482878"
               ],
               [
                0.2222222222222222,
                "#3e4989"
               ],
               [
                0.3333333333333333,
                "#31688e"
               ],
               [
                0.4444444444444444,
                "#26828e"
               ],
               [
                0.5555555555555556,
                "#1f9e89"
               ],
               [
                0.6666666666666666,
                "#35b779"
               ],
               [
                0.7777777777777778,
                "#6ece58"
               ],
               [
                0.8888888888888888,
                "#b5de2b"
               ],
               [
                1,
                "#fde725"
               ]
              ],
              "type": "heatmapgl"
             }
            ],
            "histogram": [
             {
              "marker": {
               "line": {
                "color": "white",
                "width": 0.6
               }
              },
              "type": "histogram"
             }
            ],
            "histogram2d": [
             {
              "colorbar": {
               "outlinewidth": 1,
               "tickcolor": "rgb(36,36,36)",
               "ticks": "outside"
              },
              "colorscale": [
               [
                0,
                "#440154"
               ],
               [
                0.1111111111111111,
                "#482878"
               ],
               [
                0.2222222222222222,
                "#3e4989"
               ],
               [
                0.3333333333333333,
                "#31688e"
               ],
               [
                0.4444444444444444,
                "#26828e"
               ],
               [
                0.5555555555555556,
                "#1f9e89"
               ],
               [
                0.6666666666666666,
                "#35b779"
               ],
               [
                0.7777777777777778,
                "#6ece58"
               ],
               [
                0.8888888888888888,
                "#b5de2b"
               ],
               [
                1,
                "#fde725"
               ]
              ],
              "type": "histogram2d"
             }
            ],
            "histogram2dcontour": [
             {
              "colorbar": {
               "outlinewidth": 1,
               "tickcolor": "rgb(36,36,36)",
               "ticks": "outside"
              },
              "colorscale": [
               [
                0,
                "#440154"
               ],
               [
                0.1111111111111111,
                "#482878"
               ],
               [
                0.2222222222222222,
                "#3e4989"
               ],
               [
                0.3333333333333333,
                "#31688e"
               ],
               [
                0.4444444444444444,
                "#26828e"
               ],
               [
                0.5555555555555556,
                "#1f9e89"
               ],
               [
                0.6666666666666666,
                "#35b779"
               ],
               [
                0.7777777777777778,
                "#6ece58"
               ],
               [
                0.8888888888888888,
                "#b5de2b"
               ],
               [
                1,
                "#fde725"
               ]
              ],
              "type": "histogram2dcontour"
             }
            ],
            "mesh3d": [
             {
              "colorbar": {
               "outlinewidth": 1,
               "tickcolor": "rgb(36,36,36)",
               "ticks": "outside"
              },
              "type": "mesh3d"
             }
            ],
            "parcoords": [
             {
              "line": {
               "colorbar": {
                "outlinewidth": 1,
                "tickcolor": "rgb(36,36,36)",
                "ticks": "outside"
               }
              },
              "type": "parcoords"
             }
            ],
            "pie": [
             {
              "automargin": true,
              "type": "pie"
             }
            ],
            "scatter": [
             {
              "fillpattern": {
               "fillmode": "overlay",
               "size": 10,
               "solidity": 0.2
              },
              "type": "scatter"
             }
            ],
            "scatter3d": [
             {
              "line": {
               "colorbar": {
                "outlinewidth": 1,
                "tickcolor": "rgb(36,36,36)",
                "ticks": "outside"
               }
              },
              "marker": {
               "colorbar": {
                "outlinewidth": 1,
                "tickcolor": "rgb(36,36,36)",
                "ticks": "outside"
               }
              },
              "type": "scatter3d"
             }
            ],
            "scattercarpet": [
             {
              "marker": {
               "colorbar": {
                "outlinewidth": 1,
                "tickcolor": "rgb(36,36,36)",
                "ticks": "outside"
               }
              },
              "type": "scattercarpet"
             }
            ],
            "scattergeo": [
             {
              "marker": {
               "colorbar": {
                "outlinewidth": 1,
                "tickcolor": "rgb(36,36,36)",
                "ticks": "outside"
               }
              },
              "type": "scattergeo"
             }
            ],
            "scattergl": [
             {
              "marker": {
               "colorbar": {
                "outlinewidth": 1,
                "tickcolor": "rgb(36,36,36)",
                "ticks": "outside"
               }
              },
              "type": "scattergl"
             }
            ],
            "scattermapbox": [
             {
              "marker": {
               "colorbar": {
                "outlinewidth": 1,
                "tickcolor": "rgb(36,36,36)",
                "ticks": "outside"
               }
              },
              "type": "scattermapbox"
             }
            ],
            "scatterpolar": [
             {
              "marker": {
               "colorbar": {
                "outlinewidth": 1,
                "tickcolor": "rgb(36,36,36)",
                "ticks": "outside"
               }
              },
              "type": "scatterpolar"
             }
            ],
            "scatterpolargl": [
             {
              "marker": {
               "colorbar": {
                "outlinewidth": 1,
                "tickcolor": "rgb(36,36,36)",
                "ticks": "outside"
               }
              },
              "type": "scatterpolargl"
             }
            ],
            "scatterternary": [
             {
              "marker": {
               "colorbar": {
                "outlinewidth": 1,
                "tickcolor": "rgb(36,36,36)",
                "ticks": "outside"
               }
              },
              "type": "scatterternary"
             }
            ],
            "surface": [
             {
              "colorbar": {
               "outlinewidth": 1,
               "tickcolor": "rgb(36,36,36)",
               "ticks": "outside"
              },
              "colorscale": [
               [
                0,
                "#440154"
               ],
               [
                0.1111111111111111,
                "#482878"
               ],
               [
                0.2222222222222222,
                "#3e4989"
               ],
               [
                0.3333333333333333,
                "#31688e"
               ],
               [
                0.4444444444444444,
                "#26828e"
               ],
               [
                0.5555555555555556,
                "#1f9e89"
               ],
               [
                0.6666666666666666,
                "#35b779"
               ],
               [
                0.7777777777777778,
                "#6ece58"
               ],
               [
                0.8888888888888888,
                "#b5de2b"
               ],
               [
                1,
                "#fde725"
               ]
              ],
              "type": "surface"
             }
            ],
            "table": [
             {
              "cells": {
               "fill": {
                "color": "rgb(237,237,237)"
               },
               "line": {
                "color": "white"
               }
              },
              "header": {
               "fill": {
                "color": "rgb(217,217,217)"
               },
               "line": {
                "color": "white"
               }
              },
              "type": "table"
             }
            ]
           },
           "layout": {
            "annotationdefaults": {
             "arrowhead": 0,
             "arrowwidth": 1
            },
            "autotypenumbers": "strict",
            "coloraxis": {
             "colorbar": {
              "outlinewidth": 1,
              "tickcolor": "rgb(36,36,36)",
              "ticks": "outside"
             }
            },
            "colorscale": {
             "diverging": [
              [
               0,
               "rgb(103,0,31)"
              ],
              [
               0.1,
               "rgb(178,24,43)"
              ],
              [
               0.2,
               "rgb(214,96,77)"
              ],
              [
               0.3,
               "rgb(244,165,130)"
              ],
              [
               0.4,
               "rgb(253,219,199)"
              ],
              [
               0.5,
               "rgb(247,247,247)"
              ],
              [
               0.6,
               "rgb(209,229,240)"
              ],
              [
               0.7,
               "rgb(146,197,222)"
              ],
              [
               0.8,
               "rgb(67,147,195)"
              ],
              [
               0.9,
               "rgb(33,102,172)"
              ],
              [
               1,
               "rgb(5,48,97)"
              ]
             ],
             "sequential": [
              [
               0,
               "#440154"
              ],
              [
               0.1111111111111111,
               "#482878"
              ],
              [
               0.2222222222222222,
               "#3e4989"
              ],
              [
               0.3333333333333333,
               "#31688e"
              ],
              [
               0.4444444444444444,
               "#26828e"
              ],
              [
               0.5555555555555556,
               "#1f9e89"
              ],
              [
               0.6666666666666666,
               "#35b779"
              ],
              [
               0.7777777777777778,
               "#6ece58"
              ],
              [
               0.8888888888888888,
               "#b5de2b"
              ],
              [
               1,
               "#fde725"
              ]
             ],
             "sequentialminus": [
              [
               0,
               "#440154"
              ],
              [
               0.1111111111111111,
               "#482878"
              ],
              [
               0.2222222222222222,
               "#3e4989"
              ],
              [
               0.3333333333333333,
               "#31688e"
              ],
              [
               0.4444444444444444,
               "#26828e"
              ],
              [
               0.5555555555555556,
               "#1f9e89"
              ],
              [
               0.6666666666666666,
               "#35b779"
              ],
              [
               0.7777777777777778,
               "#6ece58"
              ],
              [
               0.8888888888888888,
               "#b5de2b"
              ],
              [
               1,
               "#fde725"
              ]
             ]
            },
            "colorway": [
             "#1F77B4",
             "#FF7F0E",
             "#2CA02C",
             "#D62728",
             "#9467BD",
             "#8C564B",
             "#E377C2",
             "#7F7F7F",
             "#BCBD22",
             "#17BECF"
            ],
            "font": {
             "color": "rgb(36,36,36)"
            },
            "geo": {
             "bgcolor": "white",
             "lakecolor": "white",
             "landcolor": "white",
             "showlakes": true,
             "showland": true,
             "subunitcolor": "white"
            },
            "hoverlabel": {
             "align": "left"
            },
            "hovermode": "closest",
            "mapbox": {
             "style": "light"
            },
            "paper_bgcolor": "white",
            "plot_bgcolor": "white",
            "polar": {
             "angularaxis": {
              "gridcolor": "rgb(232,232,232)",
              "linecolor": "rgb(36,36,36)",
              "showgrid": false,
              "showline": true,
              "ticks": "outside"
             },
             "bgcolor": "white",
             "radialaxis": {
              "gridcolor": "rgb(232,232,232)",
              "linecolor": "rgb(36,36,36)",
              "showgrid": false,
              "showline": true,
              "ticks": "outside"
             }
            },
            "scene": {
             "xaxis": {
              "backgroundcolor": "white",
              "gridcolor": "rgb(232,232,232)",
              "gridwidth": 2,
              "linecolor": "rgb(36,36,36)",
              "showbackground": true,
              "showgrid": false,
              "showline": true,
              "ticks": "outside",
              "zeroline": false,
              "zerolinecolor": "rgb(36,36,36)"
             },
             "yaxis": {
              "backgroundcolor": "white",
              "gridcolor": "rgb(232,232,232)",
              "gridwidth": 2,
              "linecolor": "rgb(36,36,36)",
              "showbackground": true,
              "showgrid": false,
              "showline": true,
              "ticks": "outside",
              "zeroline": false,
              "zerolinecolor": "rgb(36,36,36)"
             },
             "zaxis": {
              "backgroundcolor": "white",
              "gridcolor": "rgb(232,232,232)",
              "gridwidth": 2,
              "linecolor": "rgb(36,36,36)",
              "showbackground": true,
              "showgrid": false,
              "showline": true,
              "ticks": "outside",
              "zeroline": false,
              "zerolinecolor": "rgb(36,36,36)"
             }
            },
            "shapedefaults": {
             "fillcolor": "black",
             "line": {
              "width": 0
             },
             "opacity": 0.3
            },
            "ternary": {
             "aaxis": {
              "gridcolor": "rgb(232,232,232)",
              "linecolor": "rgb(36,36,36)",
              "showgrid": false,
              "showline": true,
              "ticks": "outside"
             },
             "baxis": {
              "gridcolor": "rgb(232,232,232)",
              "linecolor": "rgb(36,36,36)",
              "showgrid": false,
              "showline": true,
              "ticks": "outside"
             },
             "bgcolor": "white",
             "caxis": {
              "gridcolor": "rgb(232,232,232)",
              "linecolor": "rgb(36,36,36)",
              "showgrid": false,
              "showline": true,
              "ticks": "outside"
             }
            },
            "title": {
             "x": 0.05
            },
            "xaxis": {
             "automargin": true,
             "gridcolor": "rgb(232,232,232)",
             "linecolor": "rgb(36,36,36)",
             "showgrid": false,
             "showline": true,
             "ticks": "outside",
             "title": {
              "standoff": 15
             },
             "zeroline": false,
             "zerolinecolor": "rgb(36,36,36)"
            },
            "yaxis": {
             "automargin": true,
             "gridcolor": "rgb(232,232,232)",
             "linecolor": "rgb(36,36,36)",
             "showgrid": false,
             "showline": true,
             "ticks": "outside",
             "title": {
              "standoff": 15
             },
             "zeroline": false,
             "zerolinecolor": "rgb(36,36,36)"
            }
           }
          },
          "title": {
           "font": {
            "family": "Inter Variable, Inter Tight, Inter",
            "weight": "bold"
           }
          },
          "xaxis": {
           "showgrid": false
          },
          "yaxis": {
           "showgrid": false
          }
         }
        },
        "title": {
         "text": "value by epoch"
        },
        "xaxis": {
         "anchor": "y",
         "autorange": true,
         "domain": [
          0,
          1
         ],
         "range": [
          1,
          5
         ],
         "title": {
          "text": "epoch"
         },
         "type": "linear"
        },
        "yaxis": {
         "anchor": "x",
         "autorange": true,
         "domain": [
          0,
          1
         ],
         "range": [
          1.7407289172006033,
          17.76185630593233
         ],
         "title": {
          "text": "value"
         },
         "type": "linear"
        }
       }
      },
      "image/png": "[encoded data removed]",
      "text/html": [
       "<div>                            <div id=\"879516ec-4cc9-4648-8f25-7027a35e9f46\" class=\"plotly-graph-div\" style=\"height:525px; width:100%;\"></div>            <script type=\"text/javascript\">                require([\"plotly\"], function(Plotly) {                    window.PLOTLYENV=window.PLOTLYENV || {};                                    if (document.getElementById(\"879516ec-4cc9-4648-8f25-7027a35e9f46\")) {                    Plotly.newPlot(                        \"879516ec-4cc9-4648-8f25-7027a35e9f46\",                        [{\"hovertemplate\":\"loss_type=train_loss\\u003cbr\\u003eepoch=%{x}\\u003cbr\\u003evalue=%{y}\\u003cextra\\u003e\\u003c\\u002fextra\\u003e\",\"legendgroup\":\"train_loss\",\"line\":{\"color\":\"#114B8F\",\"dash\":\"solid\"},\"marker\":{\"symbol\":\"circle\"},\"mode\":\"lines\",\"name\":\"train_loss\",\"orientation\":\"v\",\"showlegend\":true,\"x\":[1,2,3,4,5],\"xaxis\":\"x\",\"y\":[15.782812911700796,6.571830002848302,4.174215379745788,3.1574835047043566,2.5417852866371895],\"yaxis\":\"y\",\"type\":\"scatter\"},{\"hovertemplate\":\"loss_type=val_loss\\u003cbr\\u003eepoch=%{x}\\u003cbr\\u003evalue=%{y}\\u003cextra\\u003e\\u003c\\u002fextra\\u003e\",\"legendgroup\":\"val_loss\",\"line\":{\"color\":\"#248F11\",\"dash\":\"solid\"},\"marker\":{\"symbol\":\"circle\"},\"mode\":\"lines\",\"name\":\"val_loss\",\"orientation\":\"v\",\"showlegend\":true,\"x\":[1,2,3,4,5],\"xaxis\":\"x\",\"y\":[16.960799936495743,13.64508530057872,12.680532505270344,12.306402370519349,12.26032452885475],\"yaxis\":\"y\",\"type\":\"scatter\"}],                        {\"template\":{\"layout\":{\"colorway\":[\"#114B8F\",\"#248F11\",\"#8F6211\",\"#8F116C\",\"#1A293A\"],\"font\":{\"family\":\"Inter Variable, Inter\"},\"showlegend\":false,\"template\":{\"data\":{\"barpolar\":[{\"marker\":{\"line\":{\"color\":\"white\",\"width\":0.5},\"pattern\":{\"fillmode\":\"overlay\",\"size\":10,\"solidity\":0.2}},\"type\":\"barpolar\"}],\"bar\":[{\"error_x\":{\"color\":\"rgb(36,36,36)\"},\"error_y\":{\"color\":\"rgb(36,36,36)\"},\"marker\":{\"line\":{\"color\":\"white\",\"width\":0.5},\"pattern\":{\"fillmode\":\"overlay\",\"size\":10,\"solidity\":0.2}},\"type\":\"bar\"}],\"carpet\":[{\"aaxis\":{\"endlinecolor\":\"rgb(36,36,36)\",\"gridcolor\":\"white\",\"linecolor\":\"white\",\"minorgridcolor\":\"white\",\"startlinecolor\":\"rgb(36,36,36)\"},\"baxis\":{\"endlinecolor\":\"rgb(36,36,36)\",\"gridcolor\":\"white\",\"linecolor\":\"white\",\"minorgridcolor\":\"white\",\"startlinecolor\":\"rgb(36,36,36)\"},\"type\":\"carpet\"}],\"choropleth\":[{\"colorbar\":{\"outlinewidth\":1,\"tickcolor\":\"rgb(36,36,36)\",\"ticks\":\"outside\"},\"type\":\"choropleth\"}],\"contourcarpet\":[{\"colorbar\":{\"outlinewidth\":1,\"tickcolor\":\"rgb(36,36,36)\",\"ticks\":\"outside\"},\"type\":\"contourcarpet\"}],\"contour\":[{\"colorbar\":{\"outlinewidth\":1,\"tickcolor\":\"rgb(36,36,36)\",\"ticks\":\"outside\"},\"colorscale\":[[0.0,\"#440154\"],[0.1111111111111111,\"#482878\"],[0.2222222222222222,\"#3e4989\"],[0.3333333333333333,\"#31688e\"],[0.4444444444444444,\"#26828e\"],[0.5555555555555556,\"#1f9e89\"],[0.6666666666666666,\"#35b779\"],[0.7777777777777778,\"#6ece58\"],[0.8888888888888888,\"#b5de2b\"],[1.0,\"#fde725\"]],\"type\":\"contour\"}],\"heatmapgl\":[{\"colorbar\":{\"outlinewidth\":1,\"tickcolor\":\"rgb(36,36,36)\",\"ticks\":\"outside\"},\"colorscale\":[[0.0,\"#440154\"],[0.1111111111111111,\"#482878\"],[0.2222222222222222,\"#3e4989\"],[0.3333333333333333,\"#31688e\"],[0.4444444444444444,\"#26828e\"],[0.5555555555555556,\"#1f9e89\"],[0.6666666666666666,\"#35b779\"],[0.7777777777777778,\"#6ece58\"],[0.8888888888888888,\"#b5de2b\"],[1.0,\"#fde725\"]],\"type\":\"heatmapgl\"}],\"heatmap\":[{\"colorbar\":{\"outlinewidth\":1,\"tickcolor\":\"rgb(36,36,36)\",\"ticks\":\"outside\"},\"colorscale\":[[0.0,\"#440154\"],[0.1111111111111111,\"#482878\"],[0.2222222222222222,\"#3e4989\"],[0.3333333333333333,\"#31688e\"],[0.4444444444444444,\"#26828e\"],[0.5555555555555556,\"#1f9e89\"],[0.6666666666666666,\"#35b779\"],[0.7777777777777778,\"#6ece58\"],[0.8888888888888888,\"#b5de2b\"],[1.0,\"#fde725\"]],\"type\":\"heatmap\"}],\"histogram2dcontour\":[{\"colorbar\":{\"outlinewidth\":1,\"tickcolor\":\"rgb(36,36,36)\",\"ticks\":\"outside\"},\"colorscale\":[[0.0,\"#440154\"],[0.1111111111111111,\"#482878\"],[0.2222222222222222,\"#3e4989\"],[0.3333333333333333,\"#31688e\"],[0.4444444444444444,\"#26828e\"],[0.5555555555555556,\"#1f9e89\"],[0.6666666666666666,\"#35b779\"],[0.7777777777777778,\"#6ece58\"],[0.8888888888888888,\"#b5de2b\"],[1.0,\"#fde725\"]],\"type\":\"histogram2dcontour\"}],\"histogram2d\":[{\"colorbar\":{\"outlinewidth\":1,\"tickcolor\":\"rgb(36,36,36)\",\"ticks\":\"outside\"},\"colorscale\":[[0.0,\"#440154\"],[0.1111111111111111,\"#482878\"],[0.2222222222222222,\"#3e4989\"],[0.3333333333333333,\"#31688e\"],[0.4444444444444444,\"#26828e\"],[0.5555555555555556,\"#1f9e89\"],[0.6666666666666666,\"#35b779\"],[0.7777777777777778,\"#6ece58\"],[0.8888888888888888,\"#b5de2b\"],[1.0,\"#fde725\"]],\"type\":\"histogram2d\"}],\"histogram\":[{\"marker\":{\"line\":{\"color\":\"white\",\"width\":0.6}},\"type\":\"histogram\"}],\"mesh3d\":[{\"colorbar\":{\"outlinewidth\":1,\"tickcolor\":\"rgb(36,36,36)\",\"ticks\":\"outside\"},\"type\":\"mesh3d\"}],\"parcoords\":[{\"line\":{\"colorbar\":{\"outlinewidth\":1,\"tickcolor\":\"rgb(36,36,36)\",\"ticks\":\"outside\"}},\"type\":\"parcoords\"}],\"pie\":[{\"automargin\":true,\"type\":\"pie\"}],\"scatter3d\":[{\"line\":{\"colorbar\":{\"outlinewidth\":1,\"tickcolor\":\"rgb(36,36,36)\",\"ticks\":\"outside\"}},\"marker\":{\"colorbar\":{\"outlinewidth\":1,\"tickcolor\":\"rgb(36,36,36)\",\"ticks\":\"outside\"}},\"type\":\"scatter3d\"}],\"scattercarpet\":[{\"marker\":{\"colorbar\":{\"outlinewidth\":1,\"tickcolor\":\"rgb(36,36,36)\",\"ticks\":\"outside\"}},\"type\":\"scattercarpet\"}],\"scattergeo\":[{\"marker\":{\"colorbar\":{\"outlinewidth\":1,\"tickcolor\":\"rgb(36,36,36)\",\"ticks\":\"outside\"}},\"type\":\"scattergeo\"}],\"scattergl\":[{\"marker\":{\"colorbar\":{\"outlinewidth\":1,\"tickcolor\":\"rgb(36,36,36)\",\"ticks\":\"outside\"}},\"type\":\"scattergl\"}],\"scattermapbox\":[{\"marker\":{\"colorbar\":{\"outlinewidth\":1,\"tickcolor\":\"rgb(36,36,36)\",\"ticks\":\"outside\"}},\"type\":\"scattermapbox\"}],\"scatterpolargl\":[{\"marker\":{\"colorbar\":{\"outlinewidth\":1,\"tickcolor\":\"rgb(36,36,36)\",\"ticks\":\"outside\"}},\"type\":\"scatterpolargl\"}],\"scatterpolar\":[{\"marker\":{\"colorbar\":{\"outlinewidth\":1,\"tickcolor\":\"rgb(36,36,36)\",\"ticks\":\"outside\"}},\"type\":\"scatterpolar\"}],\"scatter\":[{\"fillpattern\":{\"fillmode\":\"overlay\",\"size\":10,\"solidity\":0.2},\"type\":\"scatter\"}],\"scatterternary\":[{\"marker\":{\"colorbar\":{\"outlinewidth\":1,\"tickcolor\":\"rgb(36,36,36)\",\"ticks\":\"outside\"}},\"type\":\"scatterternary\"}],\"surface\":[{\"colorbar\":{\"outlinewidth\":1,\"tickcolor\":\"rgb(36,36,36)\",\"ticks\":\"outside\"},\"colorscale\":[[0.0,\"#440154\"],[0.1111111111111111,\"#482878\"],[0.2222222222222222,\"#3e4989\"],[0.3333333333333333,\"#31688e\"],[0.4444444444444444,\"#26828e\"],[0.5555555555555556,\"#1f9e89\"],[0.6666666666666666,\"#35b779\"],[0.7777777777777778,\"#6ece58\"],[0.8888888888888888,\"#b5de2b\"],[1.0,\"#fde725\"]],\"type\":\"surface\"}],\"table\":[{\"cells\":{\"fill\":{\"color\":\"rgb(237,237,237)\"},\"line\":{\"color\":\"white\"}},\"header\":{\"fill\":{\"color\":\"rgb(217,217,217)\"},\"line\":{\"color\":\"white\"}},\"type\":\"table\"}]},\"layout\":{\"annotationdefaults\":{\"arrowhead\":0,\"arrowwidth\":1},\"autotypenumbers\":\"strict\",\"coloraxis\":{\"colorbar\":{\"outlinewidth\":1,\"tickcolor\":\"rgb(36,36,36)\",\"ticks\":\"outside\"}},\"colorscale\":{\"diverging\":[[0.0,\"rgb(103,0,31)\"],[0.1,\"rgb(178,24,43)\"],[0.2,\"rgb(214,96,77)\"],[0.3,\"rgb(244,165,130)\"],[0.4,\"rgb(253,219,199)\"],[0.5,\"rgb(247,247,247)\"],[0.6,\"rgb(209,229,240)\"],[0.7,\"rgb(146,197,222)\"],[0.8,\"rgb(67,147,195)\"],[0.9,\"rgb(33,102,172)\"],[1.0,\"rgb(5,48,97)\"]],\"sequential\":[[0.0,\"#440154\"],[0.1111111111111111,\"#482878\"],[0.2222222222222222,\"#3e4989\"],[0.3333333333333333,\"#31688e\"],[0.4444444444444444,\"#26828e\"],[0.5555555555555556,\"#1f9e89\"],[0.6666666666666666,\"#35b779\"],[0.7777777777777778,\"#6ece58\"],[0.8888888888888888,\"#b5de2b\"],[1.0,\"#fde725\"]],\"sequentialminus\":[[0.0,\"#440154\"],[0.1111111111111111,\"#482878\"],[0.2222222222222222,\"#3e4989\"],[0.3333333333333333,\"#31688e\"],[0.4444444444444444,\"#26828e\"],[0.5555555555555556,\"#1f9e89\"],[0.6666666666666666,\"#35b779\"],[0.7777777777777778,\"#6ece58\"],[0.8888888888888888,\"#b5de2b\"],[1.0,\"#fde725\"]]},\"colorway\":[\"#1F77B4\",\"#FF7F0E\",\"#2CA02C\",\"#D62728\",\"#9467BD\",\"#8C564B\",\"#E377C2\",\"#7F7F7F\",\"#BCBD22\",\"#17BECF\"],\"font\":{\"color\":\"rgb(36,36,36)\"},\"geo\":{\"bgcolor\":\"white\",\"lakecolor\":\"white\",\"landcolor\":\"white\",\"showlakes\":true,\"showland\":true,\"subunitcolor\":\"white\"},\"hoverlabel\":{\"align\":\"left\"},\"hovermode\":\"closest\",\"mapbox\":{\"style\":\"light\"},\"paper_bgcolor\":\"white\",\"plot_bgcolor\":\"white\",\"polar\":{\"angularaxis\":{\"gridcolor\":\"rgb(232,232,232)\",\"linecolor\":\"rgb(36,36,36)\",\"showgrid\":false,\"showline\":true,\"ticks\":\"outside\"},\"bgcolor\":\"white\",\"radialaxis\":{\"gridcolor\":\"rgb(232,232,232)\",\"linecolor\":\"rgb(36,36,36)\",\"showgrid\":false,\"showline\":true,\"ticks\":\"outside\"}},\"scene\":{\"xaxis\":{\"backgroundcolor\":\"white\",\"gridcolor\":\"rgb(232,232,232)\",\"gridwidth\":2,\"linecolor\":\"rgb(36,36,36)\",\"showbackground\":true,\"showgrid\":false,\"showline\":true,\"ticks\":\"outside\",\"zeroline\":false,\"zerolinecolor\":\"rgb(36,36,36)\"},\"yaxis\":{\"backgroundcolor\":\"white\",\"gridcolor\":\"rgb(232,232,232)\",\"gridwidth\":2,\"linecolor\":\"rgb(36,36,36)\",\"showbackground\":true,\"showgrid\":false,\"showline\":true,\"ticks\":\"outside\",\"zeroline\":false,\"zerolinecolor\":\"rgb(36,36,36)\"},\"zaxis\":{\"backgroundcolor\":\"white\",\"gridcolor\":\"rgb(232,232,232)\",\"gridwidth\":2,\"linecolor\":\"rgb(36,36,36)\",\"showbackground\":true,\"showgrid\":false,\"showline\":true,\"ticks\":\"outside\",\"zeroline\":false,\"zerolinecolor\":\"rgb(36,36,36)\"}},\"shapedefaults\":{\"fillcolor\":\"black\",\"line\":{\"width\":0},\"opacity\":0.3},\"ternary\":{\"aaxis\":{\"gridcolor\":\"rgb(232,232,232)\",\"linecolor\":\"rgb(36,36,36)\",\"showgrid\":false,\"showline\":true,\"ticks\":\"outside\"},\"baxis\":{\"gridcolor\":\"rgb(232,232,232)\",\"linecolor\":\"rgb(36,36,36)\",\"showgrid\":false,\"showline\":true,\"ticks\":\"outside\"},\"bgcolor\":\"white\",\"caxis\":{\"gridcolor\":\"rgb(232,232,232)\",\"linecolor\":\"rgb(36,36,36)\",\"showgrid\":false,\"showline\":true,\"ticks\":\"outside\"}},\"title\":{\"x\":0.05},\"xaxis\":{\"automargin\":true,\"gridcolor\":\"rgb(232,232,232)\",\"linecolor\":\"rgb(36,36,36)\",\"showgrid\":false,\"showline\":true,\"ticks\":\"outside\",\"title\":{\"standoff\":15},\"zeroline\":false,\"zerolinecolor\":\"rgb(36,36,36)\"},\"yaxis\":{\"automargin\":true,\"gridcolor\":\"rgb(232,232,232)\",\"linecolor\":\"rgb(36,36,36)\",\"showgrid\":false,\"showline\":true,\"ticks\":\"outside\",\"title\":{\"standoff\":15},\"zeroline\":false,\"zerolinecolor\":\"rgb(36,36,36)\"}}},\"title\":{\"font\":{\"family\":\"Inter Variable, Inter Tight, Inter\",\"weight\":\"bold\"}},\"xaxis\":{\"showgrid\":false},\"yaxis\":{\"showgrid\":false}}},\"xaxis\":{\"anchor\":\"y\",\"domain\":[0.0,1.0],\"title\":{\"text\":\"epoch\"}},\"yaxis\":{\"anchor\":\"x\",\"domain\":[0.0,1.0],\"title\":{\"text\":\"value\"}},\"legend\":{\"title\":{\"text\":\"loss_type\"},\"tracegroupgap\":0},\"title\":{\"text\":\"value by epoch\"},\"showlegend\":true},                        {\"responsive\": true}                    ).then(function(){\n",
       "                            \n",
       "var gd = document.getElementById('879516ec-4cc9-4648-8f25-7027a35e9f46');\n",
       "var x = new MutationObserver(function (mutations, observer) {{\n",
       "        var display = window.getComputedStyle(gd).display;\n",
       "        if (!display || display === 'none') {{\n",
       "            console.log([gd, 'removed!']);\n",
       "            Plotly.purge(gd);\n",
       "            observer.disconnect();\n",
       "        }}\n",
       "}});\n",
       "\n",
       "// Listen for the removal of the full notebook cells\n",
       "var notebookContainer = gd.closest('#notebook-container');\n",
       "if (notebookContainer) {{\n",
       "    x.observe(notebookContainer, {childList: true});\n",
       "}}\n",
       "\n",
       "// Listen for the clearing of the current output cell\n",
       "var outputEl = gd.closest('.output');\n",
       "if (outputEl) {{\n",
       "    x.observe(outputEl, {childList: true});\n",
       "}}\n",
       "\n",
       "                        })                };                });            </script>        </div>"
      ]
     },
     "metadata": {},
     "output_type": "display_data"
    }
   ],
   "source": [
    "def plot_metric(df, index='step', col: str = None, color=None):\n",
    "    # Create the plot\n",
    "    cols = [index, col]\n",
    "    if color:\n",
    "        cols.append(color)\n",
    "    fig = px.line(\n",
    "        df[cols].dropna(),\n",
    "        x=index,\n",
    "        y=col,\n",
    "        color=color,\n",
    "        labels={'x': index, 'y': col},\n",
    "        title=f'{col} by {index}',\n",
    "    )\n",
    "\n",
    "    if color:\n",
    "        fig.update_layout(showlegend=True)\n",
    "\n",
    "    fig.show()\n",
    "\n",
    "plot_metric(step_metrics_df, col='global_loss')\n",
    "plot_metric(step_metrics_df, col='learning_rate')\n",
    "plot_metric(step_metrics_df, col='total_grad_norm')\n",
    "plot_metric(epoch_metrics_df, index='epoch', col='value', color='loss_type')"
   ]
  },
  {
   "cell_type": "code",
   "execution_count": 36,
   "id": "f83681cb-0364-4dcc-a2b1-9194b8b088cf",
   "metadata": {},
   "outputs": [
    {
     "data": {
      "application/vnd.plotly.v1+json": {
       "config": {
        "plotlyServerURL": "https://plot.ly"
       },
       "data": [
        {
         "alignmentgroup": "True",
         "hovertemplate": "variable=grad_norm_user_embedding.weight<br>step=%{x}<br>value=%{y}<extra></extra>",
         "legendgroup": "grad_norm_user_embedding.weight",
         "marker": {
          "color": "#114B8F",
          "pattern": {
           "shape": ""
          }
         },
         "name": "grad_norm_user_embedding.weight",
         "offsetgroup": "grad_norm_user_embedding.weight",
         "orientation": "v",
         "showlegend": true,
         "textposition": "auto",
         "type": "bar",
         "x": [
          100,
          200,
          300,
          400,
          500,
          600,
          700,
          800,
          900,
          1000,
          1100,
          1200,
          1300,
          1400,
          1500,
          1600,
          1700,
          1800,
          1900,
          2000,
          2100,
          2200,
          2300,
          2400,
          2500,
          2600,
          2700,
          2800,
          2900,
          3000,
          3100,
          3200,
          3300,
          3400,
          3500,
          3600,
          3700,
          3800,
          3900,
          4000,
          4100,
          4200,
          4300,
          4400,
          4500,
          4600,
          4700,
          4800,
          4900,
          5000,
          5100,
          5200,
          5300,
          5400,
          5500,
          5600,
          5700,
          5800,
          5900,
          6000,
          6100,
          6200,
          6300,
          6400,
          6500,
          6600,
          6700,
          6800,
          6900,
          7000,
          7100,
          7200,
          7300,
          7400,
          7500,
          7600,
          7700,
          7800,
          7900,
          8000,
          8100,
          8200,
          8300,
          8400,
          8500,
          8600,
          8700,
          8800,
          8900,
          9000,
          9100,
          9200,
          9300,
          9400,
          9500,
          9600,
          9700,
          9800,
          9900,
          10000,
          10100,
          10200,
          10300,
          10400,
          10500,
          10600,
          10700,
          10800,
          10900,
          11000,
          11100,
          11200,
          11300,
          11400,
          11500,
          11600,
          11700,
          11800,
          11900,
          12000,
          12100,
          12200,
          12300,
          12400,
          12500,
          12600,
          12700,
          12800,
          12900,
          13000,
          13100,
          13200,
          13300,
          13400,
          13500,
          13600,
          13700,
          13800,
          13900,
          14000,
          14100,
          14200,
          14300,
          14400,
          14500,
          14600,
          14700,
          14800,
          14900,
          15000,
          15100,
          15200,
          15300,
          15400,
          15500,
          15600,
          15700,
          15800,
          15900,
          16000,
          16100,
          16200,
          16300,
          16400,
          16500,
          16600,
          16700,
          16800,
          16900,
          17000,
          17100,
          17200,
          17300,
          17400,
          17500,
          17600,
          17700,
          17800,
          17900,
          18000,
          18100,
          18200,
          18300,
          18400,
          18500,
          18600,
          18700,
          18800,
          18900,
          19000,
          19100,
          19200,
          19300,
          19400,
          19500,
          19600,
          19700,
          19800,
          19900,
          20000,
          20100,
          20200,
          20300,
          20400,
          20500,
          20600,
          20700,
          20800,
          20900,
          21000,
          21100,
          21200,
          21300,
          21400,
          21500,
          21600,
          21700,
          21800,
          21900,
          22000,
          22100,
          22200,
          22300,
          22400,
          22500,
          22600,
          22700,
          22800,
          22900,
          23000,
          23100,
          23200,
          23300,
          23400,
          23500,
          23600,
          23700,
          23800,
          23900,
          24000,
          24100,
          24200,
          24300,
          24400,
          24500,
          24600,
          24700,
          24800,
          24900,
          25000,
          25100,
          25200,
          25300,
          25400,
          25500,
          25600,
          25700,
          25800,
          25900,
          26000,
          26100,
          26200,
          26300,
          26400,
          26500,
          26600,
          26700,
          26800,
          26900,
          27000,
          27100
         ],
         "xaxis": "x",
         "y": [
          0.06473526358604431,
          0.2813809812068939,
          0.6355288028717041,
          0.4595750570297241,
          0.7342990040779114,
          0.9099592566490173,
          0.7419120073318481,
          0.015421750955283642,
          0.8304107785224915,
          0.9708406925201416,
          0.8435892462730408,
          0.6782269477844238,
          0.9659106731414795,
          0.8040230870246887,
          0.8853427171707153,
          0.6822764277458191,
          0.9999995231628418,
          0.8281010389328003,
          0.914289653301239,
          0.7480943202972412,
          0.8789045214653015,
          0.7279229164123535,
          0.5677443146705627,
          0.6745503544807434,
          0.8070776462554932,
          0.8113741874694824,
          0.969851553440094,
          0.9254881739616394,
          0.7883198857307434,
          0.226396843791008,
          0.7727325558662415,
          0.8191093802452087,
          0.5226826071739197,
          0.7442845702171326,
          0.8856076002120972,
          0.9489402770996094,
          0.733106791973114,
          0.8208772540092468,
          0.5624525547027588,
          0.8747405409812927,
          0.6865845322608948,
          0.9484149813652039,
          0.9491726756095886,
          0.5698162317276001,
          0.7402499318122864,
          0.7003979682922363,
          0.8735626339912415,
          0.8479399681091309,
          0.5831387639045715,
          0.9040622115135193,
          0.9441209435462952,
          0.86041659116745,
          0.8888217806816101,
          0.771017849445343,
          0.7343288064002991,
          0.8103250861167908,
          0.5110272169113159,
          0.9678674936294556,
          0.8953063488006592,
          0.9006145596504211,
          0.8177870512008667,
          0.8492855429649353,
          0.6245821118354797,
          0.4719718396663666,
          0.7403541207313538,
          0.9619347453117371,
          0.6203312277793884,
          0.8156640529632568,
          0.9972104430198669,
          0.6631593108177185,
          0.9026142954826355,
          0.8458263278007507,
          0.9076120853424072,
          0.8568668365478516,
          0.9763343334197998,
          0.891052782535553,
          0.6307148337364197,
          0.913790225982666,
          0.8272259831428528,
          0.9147000312805176,
          0.9067508578300476,
          0.5497609972953796,
          0.4530583918094635,
          0.4244443476200104,
          0.7079461216926575,
          0.46973052620887756,
          0.8597012758255005,
          0.9166503548622131,
          0.7923138737678528,
          0.9082573652267456,
          0.8506601452827454,
          0.7824446558952332,
          0.8283146023750305,
          0.7876299619674683,
          0.754868745803833,
          0.8085206747055054,
          0.75569748878479,
          0.8942585587501526,
          0.5442838072776794,
          0.9509258270263672,
          0.825594961643219,
          0.7401996850967407,
          0.6822741031646729,
          0.876612663269043,
          0.8703711628913879,
          0.7138301730155945,
          0.4239307641983032,
          0.7731059193611145,
          0.803665041923523,
          0.9597447514533997,
          0.6578037142753601,
          0.888947606086731,
          0.8217433094978333,
          0.9495874047279358,
          0.61588454246521,
          0.7416451573371887,
          0.8249604105949402,
          0.9038743376731873,
          0.7737792730331421,
          0.8669174909591675,
          0.9057847857475281,
          0.8466591238975525,
          0.6486353278160095,
          0.8630147576332092,
          0.840661883354187,
          0.9442750811576843,
          0.9474033117294312,
          0.4316743016242981,
          0.8525078892707825,
          0.9456520080566406,
          0.9834269285202026,
          0.7325016856193542,
          0.9488806128501892,
          0.9359617829322815,
          0.9239147305488586,
          0.7173436880111694,
          0.8249505758285522,
          0.6858214139938354,
          0.807426929473877,
          0.6867559552192688,
          0.2808934450149536,
          0.9181671738624573,
          0.47427818179130554,
          0.43856915831565857,
          0.3433588743209839,
          0.9282469153404236,
          0.6538276076316833,
          0.540022075176239,
          0.9319396018981934,
          0.7965691089630127,
          0.9551107883453369,
          0.5594127774238586,
          0.4416004419326782,
          0.7952749133110046,
          0.7715234160423279,
          0.24170391261577606,
          0.969724714756012,
          0.7905275225639343,
          0.9487285017967224,
          0.5678939819335938,
          0.6637612581253052,
          0.7113106846809387,
          0.4476862847805023,
          0.6715751886367798,
          0.9805606603622437,
          0.691625714302063,
          0.5804364085197449,
          0.9345569014549255,
          0.29831570386886597,
          0.9763711094856262,
          0.6822869181632996,
          0.8997847437858582,
          0.8007192015647888,
          0.5508551597595215,
          0.8019858002662659,
          0.3067643642425537,
          0.9632006883621216,
          0.6832435131072998,
          0.7347370386123657,
          0.5222557783126831,
          0.3606943190097809,
          0.35776984691619873,
          0.6320906281471252,
          0.673862874507904,
          0.6841973662376404,
          0.9353662133216858,
          0.9601965546607971,
          0.9674995541572571,
          0.6189083456993103,
          0.46683815121650696,
          0.571894645690918,
          0.9344881176948547,
          0.8205679059028625,
          0.745690107345581,
          0.6335547566413879,
          0.5727947950363159,
          0.5226188898086548,
          0.699871301651001,
          0.6794137954711914,
          0.8112912178039551,
          0.4447087347507477,
          0.5352015495300293,
          0.7531692981719971,
          0.7580006718635559,
          0.9667279124259949,
          0.9169421195983887,
          0.7535797953605652,
          0.9023192524909973,
          0.26672306656837463,
          0.6635163426399231,
          0.48414355516433716,
          0.13360805809497833,
          0.9607338309288025,
          0.9896232485771179,
          0.7295363545417786,
          0.45301780104637146,
          0.5545228719711304,
          0.9263849854469299,
          0.9547524452209473,
          0.6809923648834229,
          0.4620630443096161,
          0.9750754833221436,
          0.5366080403327942,
          0.9473025798797607,
          0.255629301071167,
          0.8430356383323669,
          0.8944264650344849,
          0.6023448705673218,
          0.9294586181640625,
          0.8655933737754822,
          0.5551688075065613,
          0.5257461071014404,
          0.9567099809646606,
          0.4150901138782501,
          0.47364312410354614,
          0.9573538899421692,
          0.2117711454629898,
          0.4012669622898102,
          0.4693664014339447,
          0.8011277914047241,
          0.5219712853431702,
          0.34754449129104614,
          0.9537370800971985,
          0.21795523166656494,
          0.7397681474685669,
          0.4305720925331116,
          0.2669702172279358,
          0.7384796738624573,
          0.4712240695953369,
          0.5678474307060242,
          0.7219825983047485,
          0.1877116709947586,
          0.6596413850784302,
          0.8979621529579163,
          0.9427610635757446,
          0.2440740019083023,
          0.46573951840400696,
          0.9020736217498779,
          0.9161972403526306,
          0.9168965220451355,
          0.883669912815094,
          0.8044090270996094,
          0.45468056201934814,
          0.5370321869850159,
          0.8910561800003052,
          0.617821216583252,
          0.36171597242355347,
          0.7268971800804138,
          0.8984755277633667,
          0.3206537663936615,
          0.46318483352661133
         ],
         "yaxis": "y"
        },
        {
         "alignmentgroup": "True",
         "hovertemplate": "variable=grad_norm_item_embedding.weight<br>step=%{x}<br>value=%{y}<extra></extra>",
         "legendgroup": "grad_norm_item_embedding.weight",
         "marker": {
          "color": "#248F11",
          "pattern": {
           "shape": ""
          }
         },
         "name": "grad_norm_item_embedding.weight",
         "offsetgroup": "grad_norm_item_embedding.weight",
         "orientation": "v",
         "showlegend": true,
         "textposition": "auto",
         "type": "bar",
         "x": [
          100,
          200,
          300,
          400,
          500,
          600,
          700,
          800,
          900,
          1000,
          1100,
          1200,
          1300,
          1400,
          1500,
          1600,
          1700,
          1800,
          1900,
          2000,
          2100,
          2200,
          2300,
          2400,
          2500,
          2600,
          2700,
          2800,
          2900,
          3000,
          3100,
          3200,
          3300,
          3400,
          3500,
          3600,
          3700,
          3800,
          3900,
          4000,
          4100,
          4200,
          4300,
          4400,
          4500,
          4600,
          4700,
          4800,
          4900,
          5000,
          5100,
          5200,
          5300,
          5400,
          5500,
          5600,
          5700,
          5800,
          5900,
          6000,
          6100,
          6200,
          6300,
          6400,
          6500,
          6600,
          6700,
          6800,
          6900,
          7000,
          7100,
          7200,
          7300,
          7400,
          7500,
          7600,
          7700,
          7800,
          7900,
          8000,
          8100,
          8200,
          8300,
          8400,
          8500,
          8600,
          8700,
          8800,
          8900,
          9000,
          9100,
          9200,
          9300,
          9400,
          9500,
          9600,
          9700,
          9800,
          9900,
          10000,
          10100,
          10200,
          10300,
          10400,
          10500,
          10600,
          10700,
          10800,
          10900,
          11000,
          11100,
          11200,
          11300,
          11400,
          11500,
          11600,
          11700,
          11800,
          11900,
          12000,
          12100,
          12200,
          12300,
          12400,
          12500,
          12600,
          12700,
          12800,
          12900,
          13000,
          13100,
          13200,
          13300,
          13400,
          13500,
          13600,
          13700,
          13800,
          13900,
          14000,
          14100,
          14200,
          14300,
          14400,
          14500,
          14600,
          14700,
          14800,
          14900,
          15000,
          15100,
          15200,
          15300,
          15400,
          15500,
          15600,
          15700,
          15800,
          15900,
          16000,
          16100,
          16200,
          16300,
          16400,
          16500,
          16600,
          16700,
          16800,
          16900,
          17000,
          17100,
          17200,
          17300,
          17400,
          17500,
          17600,
          17700,
          17800,
          17900,
          18000,
          18100,
          18200,
          18300,
          18400,
          18500,
          18600,
          18700,
          18800,
          18900,
          19000,
          19100,
          19200,
          19300,
          19400,
          19500,
          19600,
          19700,
          19800,
          19900,
          20000,
          20100,
          20200,
          20300,
          20400,
          20500,
          20600,
          20700,
          20800,
          20900,
          21000,
          21100,
          21200,
          21300,
          21400,
          21500,
          21600,
          21700,
          21800,
          21900,
          22000,
          22100,
          22200,
          22300,
          22400,
          22500,
          22600,
          22700,
          22800,
          22900,
          23000,
          23100,
          23200,
          23300,
          23400,
          23500,
          23600,
          23700,
          23800,
          23900,
          24000,
          24100,
          24200,
          24300,
          24400,
          24500,
          24600,
          24700,
          24800,
          24900,
          25000,
          25100,
          25200,
          25300,
          25400,
          25500,
          25600,
          25700,
          25800,
          25900,
          26000,
          26100,
          26200,
          26300,
          26400,
          26500,
          26600,
          26700,
          26800,
          26900,
          27000,
          27100
         ],
         "xaxis": "x",
         "y": [
          0.0008847127319313586,
          0.7527627348899841,
          3.1493225804979375e-08,
          0.8881383538246155,
          0.19076071679592133,
          2.237895979639859e-11,
          0.6704966425895691,
          0.9998803734779358,
          0.5571505427360535,
          0.2397216260433197,
          0.5369885563850403,
          0.7348517775535583,
          0.25887253880500793,
          0.5945972204208374,
          0.46493810415267944,
          0.7310935854911804,
          0,
          0.5605778694152832,
          0.40505990386009216,
          0.6635918617248535,
          0.4769972264766693,
          0.68565833568573,
          0.8232046365737915,
          0.7382283210754395,
          0.5904446840286255,
          0.584526538848877,
          0.24369463324546814,
          0.3787759244441986,
          0.615264892578125,
          0.9740347266197205,
          0.6347309947013855,
          0.5736366510391235,
          0.8525269031524658,
          0.6678619384765625,
          0.4644331932067871,
          0.3154548406600952,
          0.6801131367683411,
          0.5711039304733276,
          0.8268290758132935,
          0.48459064960479736,
          0.7270494103431702,
          0.3170294463634491,
          0.31475457549095154,
          0.8217715620994568,
          0.6723313331604004,
          0.7137516736984253,
          0.48671087622642517,
          0.5300911068916321,
          0.13884323835372925,
          0.42739972472190857,
          0.32959797978401184,
          0.5095902681350708,
          0.4582524001598358,
          0.6368129253387451,
          0.67879319190979,
          0.5859796404838562,
          0.8595638871192932,
          0.25145918130874634,
          0.44544875621795654,
          0.43461793661117554,
          0.5755200386047363,
          0.5279329419136047,
          0.780958354473114,
          0.5682711601257324,
          0.6722164750099182,
          0.2732771933078766,
          0.7843388915061951,
          0.5785249471664429,
          0.07463439553976059,
          0.7484773993492126,
          0.43044909834861755,
          0.5334575176239014,
          0.41980844736099243,
          0.5155371427536011,
          0.21626406908035278,
          0.45389801263809204,
          0.7760140895843506,
          0.4061847925186157,
          0.5618683695793152,
          0.40413179993629456,
          0.42166587710380554,
          0.8353209495544434,
          0.8914801478385925,
          0.9054533839225769,
          0.7062657475471497,
          0.8828088641166687,
          0.5107963681221008,
          0.39968860149383545,
          0.6101122498512268,
          0.41841086745262146,
          0.5257142186164856,
          0.572475254535675,
          0.5204753875732422,
          0.6161472201347351,
          0.5341242551803589,
          0.39159277081489563,
          0.44565460085868835,
          0.4475495517253876,
          0.42578059434890747,
          0.309416800737381,
          0.5642620325088501,
          0.6723858714103699,
          0.7310951352119446,
          0.4811956286430359,
          0.49239465594291687,
          0.6943405866622925,
          0.2915842831134796,
          0.6342755556106567,
          0.37583059072494507,
          0.280871719121933,
          0.7531886696815491,
          0.4580076038837433,
          0.5698568820953369,
          0.3135009706020355,
          0.7878352403640747,
          0.6707912087440491,
          0.5651891231536865,
          0.4277969300746918,
          0.6334542036056519,
          0.4984504282474518,
          0.42373618483543396,
          0.5321338176727295,
          0.7610987424850464,
          0.5051773190498352,
          0.5415587425231934,
          0.32915475964546204,
          0.3200403153896332,
          0.902028501033783,
          0.5227128267288208,
          0.3251781165599823,
          0.1813022941350937,
          0.6807642579078674,
          0.3156333267688751,
          0.35209977626800537,
          0.38259756565093994,
          0.6967180371284485,
          0.4962416887283325,
          0.4849604070186615,
          0.35535332560539246,
          0.6076765656471252,
          0.15354593098163605,
          0.3961917459964752,
          0.277320921421051,
          0.33815810084342957,
          0.18335840106010437,
          0.3719630241394043,
          0.5484358668327332,
          0.8416498899459839,
          0.36261165142059326,
          0.44596952199935913,
          0.29624685645103455,
          0.2677561640739441,
          0.2401304692029953,
          0.44364580512046814,
          0.6361997127532959,
          0.14959031343460083,
          0.24419713020324707,
          0.49656349420547485,
          0.31609025597572327,
          0.2314959168434143,
          0.423820823431015,
          0.3578300178050995,
          0.8941897749900818,
          0.5592135787010193,
          0.19621248543262482,
          0.7222549319267273,
          0.8143046498298645,
          0.355811208486557,
          0.25216859579086304,
          0.21609798073768616,
          0.7310833930969238,
          0.4363328516483307,
          0.59903883934021,
          0.8345997333526611,
          0.5973415970802307,
          0.8512197136878967,
          0.268781453371048,
          0.7301892042160034,
          0.6783510446548462,
          0.16865234076976776,
          0.6916718482971191,
          0.3625970482826233,
          0.2990536689758301,
          0.3518342971801758,
          0.32301706075668335,
          0.3536781370639801,
          0.2793225646018982,
          0.2528698742389679,
          0.7854623198509216,
          0.5601962208747864,
          0.33687645196914673,
          0.35599270462989807,
          0.5052239298820496,
          0.36724981665611267,
          0.27176374197006226,
          0.6333401203155518,
          0.43289291858673096,
          0.4083006680011749,
          0.7337543368339539,
          0.3922191262245178,
          0.146183043718338,
          0.8447234034538269,
          0.6076675057411194,
          0.5141640305519104,
          0.2558044195175171,
          0.39901888370513916,
          0.6573553681373596,
          0.43106696009635925,
          0.1562313735485077,
          0.4657444953918457,
          0.4141712188720703,
          0.09248480945825577,
          0.27746984362602234,
          0.14368268847465515,
          0.45150747895240784,
          0.7382645010948181,
          0.09418594092130661,
          0.3765758275985718,
          0.29739874601364136,
          0.19376809895038605,
          0.3714509606361389,
          0.22187094390392303,
          0.37100428342819214,
          0.32033771276474,
          0.5449987053871155,
          0.33355095982551575,
          0.4472132623195648,
          0.34760233759880066,
          0.36892402172088623,
          0.4219510853290558,
          0.4776526689529419,
          0.20321360230445862,
          0.2910408675670624,
          0.22104577720165253,
          0.6381816267967224,
          0.288915753364563,
          0.22867105901241302,
          0.1234731525182724,
          0.3102569878101349,
          0.4338150918483734,
          0.6059569120407104,
          0.19035114347934723,
          0.27568382024765015,
          0.13664637506008148,
          0.2080916315317154,
          0.1844944953918457,
          0.22720350325107574,
          0.2768407464027405,
          0.39207619428634644,
          0.34025639295578003,
          0.6469969153404236,
          0.07786500453948975,
          0.38606908917427063,
          0.4400705099105835,
          0.3334670066833496,
          0.11953176558017731,
          0.18464632332324982,
          0.43158021569252014,
          0.4007260799407959,
          0.39912286400794983,
          0.4191282093524933,
          0.5940748453140259,
          0.2647620439529419,
          0.34590375423431396,
          0.4538921117782593,
          0.7863174676895142,
          0.9301517009735107,
          0.21410484611988068,
          0.4390219449996948,
          0.2864484190940857,
          0.2583313584327698
         ],
         "yaxis": "y"
        }
       ],
       "layout": {
        "autosize": true,
        "barmode": "stack",
        "legend": {
         "title": {
          "text": "variable"
         },
         "tracegroupgap": 0
        },
        "showlegend": true,
        "template": {
         "layout": {
          "colorway": [
           "#114B8F",
           "#248F11",
           "#8F6211",
           "#8F116C",
           "#1A293A"
          ],
          "font": {
           "family": "Inter Variable, Inter"
          },
          "showlegend": false,
          "template": {
           "data": {
            "bar": [
             {
              "error_x": {
               "color": "rgb(36,36,36)"
              },
              "error_y": {
               "color": "rgb(36,36,36)"
              },
              "marker": {
               "line": {
                "color": "white",
                "width": 0.5
               },
               "pattern": {
                "fillmode": "overlay",
                "size": 10,
                "solidity": 0.2
               }
              },
              "type": "bar"
             }
            ],
            "barpolar": [
             {
              "marker": {
               "line": {
                "color": "white",
                "width": 0.5
               },
               "pattern": {
                "fillmode": "overlay",
                "size": 10,
                "solidity": 0.2
               }
              },
              "type": "barpolar"
             }
            ],
            "carpet": [
             {
              "aaxis": {
               "endlinecolor": "rgb(36,36,36)",
               "gridcolor": "white",
               "linecolor": "white",
               "minorgridcolor": "white",
               "startlinecolor": "rgb(36,36,36)"
              },
              "baxis": {
               "endlinecolor": "rgb(36,36,36)",
               "gridcolor": "white",
               "linecolor": "white",
               "minorgridcolor": "white",
               "startlinecolor": "rgb(36,36,36)"
              },
              "type": "carpet"
             }
            ],
            "choropleth": [
             {
              "colorbar": {
               "outlinewidth": 1,
               "tickcolor": "rgb(36,36,36)",
               "ticks": "outside"
              },
              "type": "choropleth"
             }
            ],
            "contour": [
             {
              "colorbar": {
               "outlinewidth": 1,
               "tickcolor": "rgb(36,36,36)",
               "ticks": "outside"
              },
              "colorscale": [
               [
                0,
                "#440154"
               ],
               [
                0.1111111111111111,
                "#482878"
               ],
               [
                0.2222222222222222,
                "#3e4989"
               ],
               [
                0.3333333333333333,
                "#31688e"
               ],
               [
                0.4444444444444444,
                "#26828e"
               ],
               [
                0.5555555555555556,
                "#1f9e89"
               ],
               [
                0.6666666666666666,
                "#35b779"
               ],
               [
                0.7777777777777778,
                "#6ece58"
               ],
               [
                0.8888888888888888,
                "#b5de2b"
               ],
               [
                1,
                "#fde725"
               ]
              ],
              "type": "contour"
             }
            ],
            "contourcarpet": [
             {
              "colorbar": {
               "outlinewidth": 1,
               "tickcolor": "rgb(36,36,36)",
               "ticks": "outside"
              },
              "type": "contourcarpet"
             }
            ],
            "heatmap": [
             {
              "colorbar": {
               "outlinewidth": 1,
               "tickcolor": "rgb(36,36,36)",
               "ticks": "outside"
              },
              "colorscale": [
               [
                0,
                "#440154"
               ],
               [
                0.1111111111111111,
                "#482878"
               ],
               [
                0.2222222222222222,
                "#3e4989"
               ],
               [
                0.3333333333333333,
                "#31688e"
               ],
               [
                0.4444444444444444,
                "#26828e"
               ],
               [
                0.5555555555555556,
                "#1f9e89"
               ],
               [
                0.6666666666666666,
                "#35b779"
               ],
               [
                0.7777777777777778,
                "#6ece58"
               ],
               [
                0.8888888888888888,
                "#b5de2b"
               ],
               [
                1,
                "#fde725"
               ]
              ],
              "type": "heatmap"
             }
            ],
            "heatmapgl": [
             {
              "colorbar": {
               "outlinewidth": 1,
               "tickcolor": "rgb(36,36,36)",
               "ticks": "outside"
              },
              "colorscale": [
               [
                0,
                "#440154"
               ],
               [
                0.1111111111111111,
                "#482878"
               ],
               [
                0.2222222222222222,
                "#3e4989"
               ],
               [
                0.3333333333333333,
                "#31688e"
               ],
               [
                0.4444444444444444,
                "#26828e"
               ],
               [
                0.5555555555555556,
                "#1f9e89"
               ],
               [
                0.6666666666666666,
                "#35b779"
               ],
               [
                0.7777777777777778,
                "#6ece58"
               ],
               [
                0.8888888888888888,
                "#b5de2b"
               ],
               [
                1,
                "#fde725"
               ]
              ],
              "type": "heatmapgl"
             }
            ],
            "histogram": [
             {
              "marker": {
               "line": {
                "color": "white",
                "width": 0.6
               }
              },
              "type": "histogram"
             }
            ],
            "histogram2d": [
             {
              "colorbar": {
               "outlinewidth": 1,
               "tickcolor": "rgb(36,36,36)",
               "ticks": "outside"
              },
              "colorscale": [
               [
                0,
                "#440154"
               ],
               [
                0.1111111111111111,
                "#482878"
               ],
               [
                0.2222222222222222,
                "#3e4989"
               ],
               [
                0.3333333333333333,
                "#31688e"
               ],
               [
                0.4444444444444444,
                "#26828e"
               ],
               [
                0.5555555555555556,
                "#1f9e89"
               ],
               [
                0.6666666666666666,
                "#35b779"
               ],
               [
                0.7777777777777778,
                "#6ece58"
               ],
               [
                0.8888888888888888,
                "#b5de2b"
               ],
               [
                1,
                "#fde725"
               ]
              ],
              "type": "histogram2d"
             }
            ],
            "histogram2dcontour": [
             {
              "colorbar": {
               "outlinewidth": 1,
               "tickcolor": "rgb(36,36,36)",
               "ticks": "outside"
              },
              "colorscale": [
               [
                0,
                "#440154"
               ],
               [
                0.1111111111111111,
                "#482878"
               ],
               [
                0.2222222222222222,
                "#3e4989"
               ],
               [
                0.3333333333333333,
                "#31688e"
               ],
               [
                0.4444444444444444,
                "#26828e"
               ],
               [
                0.5555555555555556,
                "#1f9e89"
               ],
               [
                0.6666666666666666,
                "#35b779"
               ],
               [
                0.7777777777777778,
                "#6ece58"
               ],
               [
                0.8888888888888888,
                "#b5de2b"
               ],
               [
                1,
                "#fde725"
               ]
              ],
              "type": "histogram2dcontour"
             }
            ],
            "mesh3d": [
             {
              "colorbar": {
               "outlinewidth": 1,
               "tickcolor": "rgb(36,36,36)",
               "ticks": "outside"
              },
              "type": "mesh3d"
             }
            ],
            "parcoords": [
             {
              "line": {
               "colorbar": {
                "outlinewidth": 1,
                "tickcolor": "rgb(36,36,36)",
                "ticks": "outside"
               }
              },
              "type": "parcoords"
             }
            ],
            "pie": [
             {
              "automargin": true,
              "type": "pie"
             }
            ],
            "scatter": [
             {
              "fillpattern": {
               "fillmode": "overlay",
               "size": 10,
               "solidity": 0.2
              },
              "type": "scatter"
             }
            ],
            "scatter3d": [
             {
              "line": {
               "colorbar": {
                "outlinewidth": 1,
                "tickcolor": "rgb(36,36,36)",
                "ticks": "outside"
               }
              },
              "marker": {
               "colorbar": {
                "outlinewidth": 1,
                "tickcolor": "rgb(36,36,36)",
                "ticks": "outside"
               }
              },
              "type": "scatter3d"
             }
            ],
            "scattercarpet": [
             {
              "marker": {
               "colorbar": {
                "outlinewidth": 1,
                "tickcolor": "rgb(36,36,36)",
                "ticks": "outside"
               }
              },
              "type": "scattercarpet"
             }
            ],
            "scattergeo": [
             {
              "marker": {
               "colorbar": {
                "outlinewidth": 1,
                "tickcolor": "rgb(36,36,36)",
                "ticks": "outside"
               }
              },
              "type": "scattergeo"
             }
            ],
            "scattergl": [
             {
              "marker": {
               "colorbar": {
                "outlinewidth": 1,
                "tickcolor": "rgb(36,36,36)",
                "ticks": "outside"
               }
              },
              "type": "scattergl"
             }
            ],
            "scattermapbox": [
             {
              "marker": {
               "colorbar": {
                "outlinewidth": 1,
                "tickcolor": "rgb(36,36,36)",
                "ticks": "outside"
               }
              },
              "type": "scattermapbox"
             }
            ],
            "scatterpolar": [
             {
              "marker": {
               "colorbar": {
                "outlinewidth": 1,
                "tickcolor": "rgb(36,36,36)",
                "ticks": "outside"
               }
              },
              "type": "scatterpolar"
             }
            ],
            "scatterpolargl": [
             {
              "marker": {
               "colorbar": {
                "outlinewidth": 1,
                "tickcolor": "rgb(36,36,36)",
                "ticks": "outside"
               }
              },
              "type": "scatterpolargl"
             }
            ],
            "scatterternary": [
             {
              "marker": {
               "colorbar": {
                "outlinewidth": 1,
                "tickcolor": "rgb(36,36,36)",
                "ticks": "outside"
               }
              },
              "type": "scatterternary"
             }
            ],
            "surface": [
             {
              "colorbar": {
               "outlinewidth": 1,
               "tickcolor": "rgb(36,36,36)",
               "ticks": "outside"
              },
              "colorscale": [
               [
                0,
                "#440154"
               ],
               [
                0.1111111111111111,
                "#482878"
               ],
               [
                0.2222222222222222,
                "#3e4989"
               ],
               [
                0.3333333333333333,
                "#31688e"
               ],
               [
                0.4444444444444444,
                "#26828e"
               ],
               [
                0.5555555555555556,
                "#1f9e89"
               ],
               [
                0.6666666666666666,
                "#35b779"
               ],
               [
                0.7777777777777778,
                "#6ece58"
               ],
               [
                0.8888888888888888,
                "#b5de2b"
               ],
               [
                1,
                "#fde725"
               ]
              ],
              "type": "surface"
             }
            ],
            "table": [
             {
              "cells": {
               "fill": {
                "color": "rgb(237,237,237)"
               },
               "line": {
                "color": "white"
               }
              },
              "header": {
               "fill": {
                "color": "rgb(217,217,217)"
               },
               "line": {
                "color": "white"
               }
              },
              "type": "table"
             }
            ]
           },
           "layout": {
            "annotationdefaults": {
             "arrowhead": 0,
             "arrowwidth": 1
            },
            "autotypenumbers": "strict",
            "coloraxis": {
             "colorbar": {
              "outlinewidth": 1,
              "tickcolor": "rgb(36,36,36)",
              "ticks": "outside"
             }
            },
            "colorscale": {
             "diverging": [
              [
               0,
               "rgb(103,0,31)"
              ],
              [
               0.1,
               "rgb(178,24,43)"
              ],
              [
               0.2,
               "rgb(214,96,77)"
              ],
              [
               0.3,
               "rgb(244,165,130)"
              ],
              [
               0.4,
               "rgb(253,219,199)"
              ],
              [
               0.5,
               "rgb(247,247,247)"
              ],
              [
               0.6,
               "rgb(209,229,240)"
              ],
              [
               0.7,
               "rgb(146,197,222)"
              ],
              [
               0.8,
               "rgb(67,147,195)"
              ],
              [
               0.9,
               "rgb(33,102,172)"
              ],
              [
               1,
               "rgb(5,48,97)"
              ]
             ],
             "sequential": [
              [
               0,
               "#440154"
              ],
              [
               0.1111111111111111,
               "#482878"
              ],
              [
               0.2222222222222222,
               "#3e4989"
              ],
              [
               0.3333333333333333,
               "#31688e"
              ],
              [
               0.4444444444444444,
               "#26828e"
              ],
              [
               0.5555555555555556,
               "#1f9e89"
              ],
              [
               0.6666666666666666,
               "#35b779"
              ],
              [
               0.7777777777777778,
               "#6ece58"
              ],
              [
               0.8888888888888888,
               "#b5de2b"
              ],
              [
               1,
               "#fde725"
              ]
             ],
             "sequentialminus": [
              [
               0,
               "#440154"
              ],
              [
               0.1111111111111111,
               "#482878"
              ],
              [
               0.2222222222222222,
               "#3e4989"
              ],
              [
               0.3333333333333333,
               "#31688e"
              ],
              [
               0.4444444444444444,
               "#26828e"
              ],
              [
               0.5555555555555556,
               "#1f9e89"
              ],
              [
               0.6666666666666666,
               "#35b779"
              ],
              [
               0.7777777777777778,
               "#6ece58"
              ],
              [
               0.8888888888888888,
               "#b5de2b"
              ],
              [
               1,
               "#fde725"
              ]
             ]
            },
            "colorway": [
             "#1F77B4",
             "#FF7F0E",
             "#2CA02C",
             "#D62728",
             "#9467BD",
             "#8C564B",
             "#E377C2",
             "#7F7F7F",
             "#BCBD22",
             "#17BECF"
            ],
            "font": {
             "color": "rgb(36,36,36)"
            },
            "geo": {
             "bgcolor": "white",
             "lakecolor": "white",
             "landcolor": "white",
             "showlakes": true,
             "showland": true,
             "subunitcolor": "white"
            },
            "hoverlabel": {
             "align": "left"
            },
            "hovermode": "closest",
            "mapbox": {
             "style": "light"
            },
            "paper_bgcolor": "white",
            "plot_bgcolor": "white",
            "polar": {
             "angularaxis": {
              "gridcolor": "rgb(232,232,232)",
              "linecolor": "rgb(36,36,36)",
              "showgrid": false,
              "showline": true,
              "ticks": "outside"
             },
             "bgcolor": "white",
             "radialaxis": {
              "gridcolor": "rgb(232,232,232)",
              "linecolor": "rgb(36,36,36)",
              "showgrid": false,
              "showline": true,
              "ticks": "outside"
             }
            },
            "scene": {
             "xaxis": {
              "backgroundcolor": "white",
              "gridcolor": "rgb(232,232,232)",
              "gridwidth": 2,
              "linecolor": "rgb(36,36,36)",
              "showbackground": true,
              "showgrid": false,
              "showline": true,
              "ticks": "outside",
              "zeroline": false,
              "zerolinecolor": "rgb(36,36,36)"
             },
             "yaxis": {
              "backgroundcolor": "white",
              "gridcolor": "rgb(232,232,232)",
              "gridwidth": 2,
              "linecolor": "rgb(36,36,36)",
              "showbackground": true,
              "showgrid": false,
              "showline": true,
              "ticks": "outside",
              "zeroline": false,
              "zerolinecolor": "rgb(36,36,36)"
             },
             "zaxis": {
              "backgroundcolor": "white",
              "gridcolor": "rgb(232,232,232)",
              "gridwidth": 2,
              "linecolor": "rgb(36,36,36)",
              "showbackground": true,
              "showgrid": false,
              "showline": true,
              "ticks": "outside",
              "zeroline": false,
              "zerolinecolor": "rgb(36,36,36)"
             }
            },
            "shapedefaults": {
             "fillcolor": "black",
             "line": {
              "width": 0
             },
             "opacity": 0.3
            },
            "ternary": {
             "aaxis": {
              "gridcolor": "rgb(232,232,232)",
              "linecolor": "rgb(36,36,36)",
              "showgrid": false,
              "showline": true,
              "ticks": "outside"
             },
             "baxis": {
              "gridcolor": "rgb(232,232,232)",
              "linecolor": "rgb(36,36,36)",
              "showgrid": false,
              "showline": true,
              "ticks": "outside"
             },
             "bgcolor": "white",
             "caxis": {
              "gridcolor": "rgb(232,232,232)",
              "linecolor": "rgb(36,36,36)",
              "showgrid": false,
              "showline": true,
              "ticks": "outside"
             }
            },
            "title": {
             "x": 0.05
            },
            "xaxis": {
             "automargin": true,
             "gridcolor": "rgb(232,232,232)",
             "linecolor": "rgb(36,36,36)",
             "showgrid": false,
             "showline": true,
             "ticks": "outside",
             "title": {
              "standoff": 15
             },
             "zeroline": false,
             "zerolinecolor": "rgb(36,36,36)"
            },
            "yaxis": {
             "automargin": true,
             "gridcolor": "rgb(232,232,232)",
             "linecolor": "rgb(36,36,36)",
             "showgrid": false,
             "showline": true,
             "ticks": "outside",
             "title": {
              "standoff": 15
             },
             "zeroline": false,
             "zerolinecolor": "rgb(36,36,36)"
            }
           }
          },
          "title": {
           "font": {
            "family": "Inter Variable, Inter Tight, Inter",
            "weight": "bold"
           }
          },
          "xaxis": {
           "showgrid": false
          },
          "yaxis": {
           "showgrid": false
          }
         }
        },
        "title": {
         "text": "Norm gradients of user embeddings and item embeddings"
        },
        "xaxis": {
         "anchor": "y",
         "autorange": true,
         "domain": [
          0,
          1
         ],
         "range": [
          50,
          27150
         ],
         "title": {
          "text": "step"
         },
         "type": "linear"
        },
        "yaxis": {
         "anchor": "x",
         "autorange": true,
         "domain": [
          0,
          1
         ],
         "range": [
          0,
          1.4886440728840076
         ],
         "title": {
          "text": "value"
         },
         "type": "linear"
        }
       }
      },
      "image/png": "[encoded data removed]",
      "text/html": [
       "<div>                            <div id=\"23821a2b-33d0-4d01-a310-da77a145cc18\" class=\"plotly-graph-div\" style=\"height:500px; width:100%;\"></div>            <script type=\"text/javascript\">                require([\"plotly\"], function(Plotly) {                    window.PLOTLYENV=window.PLOTLYENV || {};                                    if (document.getElementById(\"23821a2b-33d0-4d01-a310-da77a145cc18\")) {                    Plotly.newPlot(                        \"23821a2b-33d0-4d01-a310-da77a145cc18\",                        [{\"alignmentgroup\":\"True\",\"hovertemplate\":\"variable=grad_norm_user_embedding.weight\\u003cbr\\u003estep=%{x}\\u003cbr\\u003evalue=%{y}\\u003cextra\\u003e\\u003c\\u002fextra\\u003e\",\"legendgroup\":\"grad_norm_user_embedding.weight\",\"marker\":{\"color\":\"#114B8F\",\"pattern\":{\"shape\":\"\"}},\"name\":\"grad_norm_user_embedding.weight\",\"offsetgroup\":\"grad_norm_user_embedding.weight\",\"orientation\":\"v\",\"showlegend\":true,\"textposition\":\"auto\",\"x\":[100,200,300,400,500,600,700,800,900,1000,1100,1200,1300,1400,1500,1600,1700,1800,1900,2000,2100,2200,2300,2400,2500,2600,2700,2800,2900,3000,3100,3200,3300,3400,3500,3600,3700,3800,3900,4000,4100,4200,4300,4400,4500,4600,4700,4800,4900,5000,5100,5200,5300,5400,5500,5600,5700,5800,5900,6000,6100,6200,6300,6400,6500,6600,6700,6800,6900,7000,7100,7200,7300,7400,7500,7600,7700,7800,7900,8000,8100,8200,8300,8400,8500,8600,8700,8800,8900,9000,9100,9200,9300,9400,9500,9600,9700,9800,9900,10000,10100,10200,10300,10400,10500,10600,10700,10800,10900,11000,11100,11200,11300,11400,11500,11600,11700,11800,11900,12000,12100,12200,12300,12400,12500,12600,12700,12800,12900,13000,13100,13200,13300,13400,13500,13600,13700,13800,13900,14000,14100,14200,14300,14400,14500,14600,14700,14800,14900,15000,15100,15200,15300,15400,15500,15600,15700,15800,15900,16000,16100,16200,16300,16400,16500,16600,16700,16800,16900,17000,17100,17200,17300,17400,17500,17600,17700,17800,17900,18000,18100,18200,18300,18400,18500,18600,18700,18800,18900,19000,19100,19200,19300,19400,19500,19600,19700,19800,19900,20000,20100,20200,20300,20400,20500,20600,20700,20800,20900,21000,21100,21200,21300,21400,21500,21600,21700,21800,21900,22000,22100,22200,22300,22400,22500,22600,22700,22800,22900,23000,23100,23200,23300,23400,23500,23600,23700,23800,23900,24000,24100,24200,24300,24400,24500,24600,24700,24800,24900,25000,25100,25200,25300,25400,25500,25600,25700,25800,25900,26000,26100,26200,26300,26400,26500,26600,26700,26800,26900,27000,27100],\"xaxis\":\"x\",\"y\":[0.06473526358604431,0.2813809812068939,0.6355288028717041,0.4595750570297241,0.7342990040779114,0.9099592566490173,0.7419120073318481,0.015421750955283642,0.8304107785224915,0.9708406925201416,0.8435892462730408,0.6782269477844238,0.9659106731414795,0.8040230870246887,0.8853427171707153,0.6822764277458191,0.9999995231628418,0.8281010389328003,0.914289653301239,0.7480943202972412,0.8789045214653015,0.7279229164123535,0.5677443146705627,0.6745503544807434,0.8070776462554932,0.8113741874694824,0.969851553440094,0.9254881739616394,0.7883198857307434,0.226396843791008,0.7727325558662415,0.8191093802452087,0.5226826071739197,0.7442845702171326,0.8856076002120972,0.9489402770996094,0.733106791973114,0.8208772540092468,0.5624525547027588,0.8747405409812927,0.6865845322608948,0.9484149813652039,0.9491726756095886,0.5698162317276001,0.7402499318122864,0.7003979682922363,0.8735626339912415,0.8479399681091309,0.5831387639045715,0.9040622115135193,0.9441209435462952,0.86041659116745,0.8888217806816101,0.771017849445343,0.7343288064002991,0.8103250861167908,0.5110272169113159,0.9678674936294556,0.8953063488006592,0.9006145596504211,0.8177870512008667,0.8492855429649353,0.6245821118354797,0.4719718396663666,0.7403541207313538,0.9619347453117371,0.6203312277793884,0.8156640529632568,0.9972104430198669,0.6631593108177185,0.9026142954826355,0.8458263278007507,0.9076120853424072,0.8568668365478516,0.9763343334197998,0.891052782535553,0.6307148337364197,0.913790225982666,0.8272259831428528,0.9147000312805176,0.9067508578300476,0.5497609972953796,0.4530583918094635,0.4244443476200104,0.7079461216926575,0.46973052620887756,0.8597012758255005,0.9166503548622131,0.7923138737678528,0.9082573652267456,0.8506601452827454,0.7824446558952332,0.8283146023750305,0.7876299619674683,0.754868745803833,0.8085206747055054,0.75569748878479,0.8942585587501526,0.5442838072776794,0.9509258270263672,0.825594961643219,0.7401996850967407,0.6822741031646729,0.876612663269043,0.8703711628913879,0.7138301730155945,0.4239307641983032,0.7731059193611145,0.803665041923523,0.9597447514533997,0.6578037142753601,0.888947606086731,0.8217433094978333,0.9495874047279358,0.61588454246521,0.7416451573371887,0.8249604105949402,0.9038743376731873,0.7737792730331421,0.8669174909591675,0.9057847857475281,0.8466591238975525,0.6486353278160095,0.8630147576332092,0.840661883354187,0.9442750811576843,0.9474033117294312,0.4316743016242981,0.8525078892707825,0.9456520080566406,0.9834269285202026,0.7325016856193542,0.9488806128501892,0.9359617829322815,0.9239147305488586,0.7173436880111694,0.8249505758285522,0.6858214139938354,0.807426929473877,0.6867559552192688,0.2808934450149536,0.9181671738624573,0.47427818179130554,0.43856915831565857,0.3433588743209839,0.9282469153404236,0.6538276076316833,0.540022075176239,0.9319396018981934,0.7965691089630127,0.9551107883453369,0.5594127774238586,0.4416004419326782,0.7952749133110046,0.7715234160423279,0.24170391261577606,0.969724714756012,0.7905275225639343,0.9487285017967224,0.5678939819335938,0.6637612581253052,0.7113106846809387,0.4476862847805023,0.6715751886367798,0.9805606603622437,0.691625714302063,0.5804364085197449,0.9345569014549255,0.29831570386886597,0.9763711094856262,0.6822869181632996,0.8997847437858582,0.8007192015647888,0.5508551597595215,0.8019858002662659,0.3067643642425537,0.9632006883621216,0.6832435131072998,0.7347370386123657,0.5222557783126831,0.3606943190097809,0.35776984691619873,0.6320906281471252,0.673862874507904,0.6841973662376404,0.9353662133216858,0.9601965546607971,0.9674995541572571,0.6189083456993103,0.46683815121650696,0.571894645690918,0.9344881176948547,0.8205679059028625,0.745690107345581,0.6335547566413879,0.5727947950363159,0.5226188898086548,0.699871301651001,0.6794137954711914,0.8112912178039551,0.4447087347507477,0.5352015495300293,0.7531692981719971,0.7580006718635559,0.9667279124259949,0.9169421195983887,0.7535797953605652,0.9023192524909973,0.26672306656837463,0.6635163426399231,0.48414355516433716,0.13360805809497833,0.9607338309288025,0.9896232485771179,0.7295363545417786,0.45301780104637146,0.5545228719711304,0.9263849854469299,0.9547524452209473,0.6809923648834229,0.4620630443096161,0.9750754833221436,0.5366080403327942,0.9473025798797607,0.255629301071167,0.8430356383323669,0.8944264650344849,0.6023448705673218,0.9294586181640625,0.8655933737754822,0.5551688075065613,0.5257461071014404,0.9567099809646606,0.4150901138782501,0.47364312410354614,0.9573538899421692,0.2117711454629898,0.4012669622898102,0.4693664014339447,0.8011277914047241,0.5219712853431702,0.34754449129104614,0.9537370800971985,0.21795523166656494,0.7397681474685669,0.4305720925331116,0.2669702172279358,0.7384796738624573,0.4712240695953369,0.5678474307060242,0.7219825983047485,0.1877116709947586,0.6596413850784302,0.8979621529579163,0.9427610635757446,0.2440740019083023,0.46573951840400696,0.9020736217498779,0.9161972403526306,0.9168965220451355,0.883669912815094,0.8044090270996094,0.45468056201934814,0.5370321869850159,0.8910561800003052,0.617821216583252,0.36171597242355347,0.7268971800804138,0.8984755277633667,0.3206537663936615,0.46318483352661133],\"yaxis\":\"y\",\"type\":\"bar\"},{\"alignmentgroup\":\"True\",\"hovertemplate\":\"variable=grad_norm_item_embedding.weight\\u003cbr\\u003estep=%{x}\\u003cbr\\u003evalue=%{y}\\u003cextra\\u003e\\u003c\\u002fextra\\u003e\",\"legendgroup\":\"grad_norm_item_embedding.weight\",\"marker\":{\"color\":\"#248F11\",\"pattern\":{\"shape\":\"\"}},\"name\":\"grad_norm_item_embedding.weight\",\"offsetgroup\":\"grad_norm_item_embedding.weight\",\"orientation\":\"v\",\"showlegend\":true,\"textposition\":\"auto\",\"x\":[100,200,300,400,500,600,700,800,900,1000,1100,1200,1300,1400,1500,1600,1700,1800,1900,2000,2100,2200,2300,2400,2500,2600,2700,2800,2900,3000,3100,3200,3300,3400,3500,3600,3700,3800,3900,4000,4100,4200,4300,4400,4500,4600,4700,4800,4900,5000,5100,5200,5300,5400,5500,5600,5700,5800,5900,6000,6100,6200,6300,6400,6500,6600,6700,6800,6900,7000,7100,7200,7300,7400,7500,7600,7700,7800,7900,8000,8100,8200,8300,8400,8500,8600,8700,8800,8900,9000,9100,9200,9300,9400,9500,9600,9700,9800,9900,10000,10100,10200,10300,10400,10500,10600,10700,10800,10900,11000,11100,11200,11300,11400,11500,11600,11700,11800,11900,12000,12100,12200,12300,12400,12500,12600,12700,12800,12900,13000,13100,13200,13300,13400,13500,13600,13700,13800,13900,14000,14100,14200,14300,14400,14500,14600,14700,14800,14900,15000,15100,15200,15300,15400,15500,15600,15700,15800,15900,16000,16100,16200,16300,16400,16500,16600,16700,16800,16900,17000,17100,17200,17300,17400,17500,17600,17700,17800,17900,18000,18100,18200,18300,18400,18500,18600,18700,18800,18900,19000,19100,19200,19300,19400,19500,19600,19700,19800,19900,20000,20100,20200,20300,20400,20500,20600,20700,20800,20900,21000,21100,21200,21300,21400,21500,21600,21700,21800,21900,22000,22100,22200,22300,22400,22500,22600,22700,22800,22900,23000,23100,23200,23300,23400,23500,23600,23700,23800,23900,24000,24100,24200,24300,24400,24500,24600,24700,24800,24900,25000,25100,25200,25300,25400,25500,25600,25700,25800,25900,26000,26100,26200,26300,26400,26500,26600,26700,26800,26900,27000,27100],\"xaxis\":\"x\",\"y\":[0.0008847127319313586,0.7527627348899841,3.1493225804979375e-08,0.8881383538246155,0.19076071679592133,2.237895979639859e-11,0.6704966425895691,0.9998803734779358,0.5571505427360535,0.2397216260433197,0.5369885563850403,0.7348517775535583,0.25887253880500793,0.5945972204208374,0.46493810415267944,0.7310935854911804,0.0,0.5605778694152832,0.40505990386009216,0.6635918617248535,0.4769972264766693,0.68565833568573,0.8232046365737915,0.7382283210754395,0.5904446840286255,0.584526538848877,0.24369463324546814,0.3787759244441986,0.615264892578125,0.9740347266197205,0.6347309947013855,0.5736366510391235,0.8525269031524658,0.6678619384765625,0.4644331932067871,0.3154548406600952,0.6801131367683411,0.5711039304733276,0.8268290758132935,0.48459064960479736,0.7270494103431702,0.3170294463634491,0.31475457549095154,0.8217715620994568,0.6723313331604004,0.7137516736984253,0.48671087622642517,0.5300911068916321,0.13884323835372925,0.42739972472190857,0.32959797978401184,0.5095902681350708,0.4582524001598358,0.6368129253387451,0.67879319190979,0.5859796404838562,0.8595638871192932,0.25145918130874634,0.44544875621795654,0.43461793661117554,0.5755200386047363,0.5279329419136047,0.780958354473114,0.5682711601257324,0.6722164750099182,0.2732771933078766,0.7843388915061951,0.5785249471664429,0.07463439553976059,0.7484773993492126,0.43044909834861755,0.5334575176239014,0.41980844736099243,0.5155371427536011,0.21626406908035278,0.45389801263809204,0.7760140895843506,0.4061847925186157,0.5618683695793152,0.40413179993629456,0.42166587710380554,0.8353209495544434,0.8914801478385925,0.9054533839225769,0.7062657475471497,0.8828088641166687,0.5107963681221008,0.39968860149383545,0.6101122498512268,0.41841086745262146,0.5257142186164856,0.572475254535675,0.5204753875732422,0.6161472201347351,0.5341242551803589,0.39159277081489563,0.44565460085868835,0.4475495517253876,0.42578059434890747,0.309416800737381,0.5642620325088501,0.6723858714103699,0.7310951352119446,0.4811956286430359,0.49239465594291687,0.6943405866622925,0.2915842831134796,0.6342755556106567,0.37583059072494507,0.280871719121933,0.7531886696815491,0.4580076038837433,0.5698568820953369,0.3135009706020355,0.7878352403640747,0.6707912087440491,0.5651891231536865,0.4277969300746918,0.6334542036056519,0.4984504282474518,0.42373618483543396,0.5321338176727295,0.7610987424850464,0.5051773190498352,0.5415587425231934,0.32915475964546204,0.3200403153896332,0.902028501033783,0.5227128267288208,0.3251781165599823,0.1813022941350937,0.6807642579078674,0.3156333267688751,0.35209977626800537,0.38259756565093994,0.6967180371284485,0.4962416887283325,0.4849604070186615,0.35535332560539246,0.6076765656471252,0.15354593098163605,0.3961917459964752,0.277320921421051,0.33815810084342957,0.18335840106010437,0.3719630241394043,0.5484358668327332,0.8416498899459839,0.36261165142059326,0.44596952199935913,0.29624685645103455,0.2677561640739441,0.2401304692029953,0.44364580512046814,0.6361997127532959,0.14959031343460083,0.24419713020324707,0.49656349420547485,0.31609025597572327,0.2314959168434143,0.423820823431015,0.3578300178050995,0.8941897749900818,0.5592135787010193,0.19621248543262482,0.7222549319267273,0.8143046498298645,0.355811208486557,0.25216859579086304,0.21609798073768616,0.7310833930969238,0.4363328516483307,0.59903883934021,0.8345997333526611,0.5973415970802307,0.8512197136878967,0.268781453371048,0.7301892042160034,0.6783510446548462,0.16865234076976776,0.6916718482971191,0.3625970482826233,0.2990536689758301,0.3518342971801758,0.32301706075668335,0.3536781370639801,0.2793225646018982,0.2528698742389679,0.7854623198509216,0.5601962208747864,0.33687645196914673,0.35599270462989807,0.5052239298820496,0.36724981665611267,0.27176374197006226,0.6333401203155518,0.43289291858673096,0.4083006680011749,0.7337543368339539,0.3922191262245178,0.146183043718338,0.8447234034538269,0.6076675057411194,0.5141640305519104,0.2558044195175171,0.39901888370513916,0.6573553681373596,0.43106696009635925,0.1562313735485077,0.4657444953918457,0.4141712188720703,0.09248480945825577,0.27746984362602234,0.14368268847465515,0.45150747895240784,0.7382645010948181,0.09418594092130661,0.3765758275985718,0.29739874601364136,0.19376809895038605,0.3714509606361389,0.22187094390392303,0.37100428342819214,0.32033771276474,0.5449987053871155,0.33355095982551575,0.4472132623195648,0.34760233759880066,0.36892402172088623,0.4219510853290558,0.4776526689529419,0.20321360230445862,0.2910408675670624,0.22104577720165253,0.6381816267967224,0.288915753364563,0.22867105901241302,0.1234731525182724,0.3102569878101349,0.4338150918483734,0.6059569120407104,0.19035114347934723,0.27568382024765015,0.13664637506008148,0.2080916315317154,0.1844944953918457,0.22720350325107574,0.2768407464027405,0.39207619428634644,0.34025639295578003,0.6469969153404236,0.07786500453948975,0.38606908917427063,0.4400705099105835,0.3334670066833496,0.11953176558017731,0.18464632332324982,0.43158021569252014,0.4007260799407959,0.39912286400794983,0.4191282093524933,0.5940748453140259,0.2647620439529419,0.34590375423431396,0.4538921117782593,0.7863174676895142,0.9301517009735107,0.21410484611988068,0.4390219449996948,0.2864484190940857,0.2583313584327698],\"yaxis\":\"y\",\"type\":\"bar\"}],                        {\"template\":{\"layout\":{\"colorway\":[\"#114B8F\",\"#248F11\",\"#8F6211\",\"#8F116C\",\"#1A293A\"],\"font\":{\"family\":\"Inter Variable, Inter\"},\"showlegend\":false,\"template\":{\"data\":{\"barpolar\":[{\"marker\":{\"line\":{\"color\":\"white\",\"width\":0.5},\"pattern\":{\"fillmode\":\"overlay\",\"size\":10,\"solidity\":0.2}},\"type\":\"barpolar\"}],\"bar\":[{\"error_x\":{\"color\":\"rgb(36,36,36)\"},\"error_y\":{\"color\":\"rgb(36,36,36)\"},\"marker\":{\"line\":{\"color\":\"white\",\"width\":0.5},\"pattern\":{\"fillmode\":\"overlay\",\"size\":10,\"solidity\":0.2}},\"type\":\"bar\"}],\"carpet\":[{\"aaxis\":{\"endlinecolor\":\"rgb(36,36,36)\",\"gridcolor\":\"white\",\"linecolor\":\"white\",\"minorgridcolor\":\"white\",\"startlinecolor\":\"rgb(36,36,36)\"},\"baxis\":{\"endlinecolor\":\"rgb(36,36,36)\",\"gridcolor\":\"white\",\"linecolor\":\"white\",\"minorgridcolor\":\"white\",\"startlinecolor\":\"rgb(36,36,36)\"},\"type\":\"carpet\"}],\"choropleth\":[{\"colorbar\":{\"outlinewidth\":1,\"tickcolor\":\"rgb(36,36,36)\",\"ticks\":\"outside\"},\"type\":\"choropleth\"}],\"contourcarpet\":[{\"colorbar\":{\"outlinewidth\":1,\"tickcolor\":\"rgb(36,36,36)\",\"ticks\":\"outside\"},\"type\":\"contourcarpet\"}],\"contour\":[{\"colorbar\":{\"outlinewidth\":1,\"tickcolor\":\"rgb(36,36,36)\",\"ticks\":\"outside\"},\"colorscale\":[[0.0,\"#440154\"],[0.1111111111111111,\"#482878\"],[0.2222222222222222,\"#3e4989\"],[0.3333333333333333,\"#31688e\"],[0.4444444444444444,\"#26828e\"],[0.5555555555555556,\"#1f9e89\"],[0.6666666666666666,\"#35b779\"],[0.7777777777777778,\"#6ece58\"],[0.8888888888888888,\"#b5de2b\"],[1.0,\"#fde725\"]],\"type\":\"contour\"}],\"heatmapgl\":[{\"colorbar\":{\"outlinewidth\":1,\"tickcolor\":\"rgb(36,36,36)\",\"ticks\":\"outside\"},\"colorscale\":[[0.0,\"#440154\"],[0.1111111111111111,\"#482878\"],[0.2222222222222222,\"#3e4989\"],[0.3333333333333333,\"#31688e\"],[0.4444444444444444,\"#26828e\"],[0.5555555555555556,\"#1f9e89\"],[0.6666666666666666,\"#35b779\"],[0.7777777777777778,\"#6ece58\"],[0.8888888888888888,\"#b5de2b\"],[1.0,\"#fde725\"]],\"type\":\"heatmapgl\"}],\"heatmap\":[{\"colorbar\":{\"outlinewidth\":1,\"tickcolor\":\"rgb(36,36,36)\",\"ticks\":\"outside\"},\"colorscale\":[[0.0,\"#440154\"],[0.1111111111111111,\"#482878\"],[0.2222222222222222,\"#3e4989\"],[0.3333333333333333,\"#31688e\"],[0.4444444444444444,\"#26828e\"],[0.5555555555555556,\"#1f9e89\"],[0.6666666666666666,\"#35b779\"],[0.7777777777777778,\"#6ece58\"],[0.8888888888888888,\"#b5de2b\"],[1.0,\"#fde725\"]],\"type\":\"heatmap\"}],\"histogram2dcontour\":[{\"colorbar\":{\"outlinewidth\":1,\"tickcolor\":\"rgb(36,36,36)\",\"ticks\":\"outside\"},\"colorscale\":[[0.0,\"#440154\"],[0.1111111111111111,\"#482878\"],[0.2222222222222222,\"#3e4989\"],[0.3333333333333333,\"#31688e\"],[0.4444444444444444,\"#26828e\"],[0.5555555555555556,\"#1f9e89\"],[0.6666666666666666,\"#35b779\"],[0.7777777777777778,\"#6ece58\"],[0.8888888888888888,\"#b5de2b\"],[1.0,\"#fde725\"]],\"type\":\"histogram2dcontour\"}],\"histogram2d\":[{\"colorbar\":{\"outlinewidth\":1,\"tickcolor\":\"rgb(36,36,36)\",\"ticks\":\"outside\"},\"colorscale\":[[0.0,\"#440154\"],[0.1111111111111111,\"#482878\"],[0.2222222222222222,\"#3e4989\"],[0.3333333333333333,\"#31688e\"],[0.4444444444444444,\"#26828e\"],[0.5555555555555556,\"#1f9e89\"],[0.6666666666666666,\"#35b779\"],[0.7777777777777778,\"#6ece58\"],[0.8888888888888888,\"#b5de2b\"],[1.0,\"#fde725\"]],\"type\":\"histogram2d\"}],\"histogram\":[{\"marker\":{\"line\":{\"color\":\"white\",\"width\":0.6}},\"type\":\"histogram\"}],\"mesh3d\":[{\"colorbar\":{\"outlinewidth\":1,\"tickcolor\":\"rgb(36,36,36)\",\"ticks\":\"outside\"},\"type\":\"mesh3d\"}],\"parcoords\":[{\"line\":{\"colorbar\":{\"outlinewidth\":1,\"tickcolor\":\"rgb(36,36,36)\",\"ticks\":\"outside\"}},\"type\":\"parcoords\"}],\"pie\":[{\"automargin\":true,\"type\":\"pie\"}],\"scatter3d\":[{\"line\":{\"colorbar\":{\"outlinewidth\":1,\"tickcolor\":\"rgb(36,36,36)\",\"ticks\":\"outside\"}},\"marker\":{\"colorbar\":{\"outlinewidth\":1,\"tickcolor\":\"rgb(36,36,36)\",\"ticks\":\"outside\"}},\"type\":\"scatter3d\"}],\"scattercarpet\":[{\"marker\":{\"colorbar\":{\"outlinewidth\":1,\"tickcolor\":\"rgb(36,36,36)\",\"ticks\":\"outside\"}},\"type\":\"scattercarpet\"}],\"scattergeo\":[{\"marker\":{\"colorbar\":{\"outlinewidth\":1,\"tickcolor\":\"rgb(36,36,36)\",\"ticks\":\"outside\"}},\"type\":\"scattergeo\"}],\"scattergl\":[{\"marker\":{\"colorbar\":{\"outlinewidth\":1,\"tickcolor\":\"rgb(36,36,36)\",\"ticks\":\"outside\"}},\"type\":\"scattergl\"}],\"scattermapbox\":[{\"marker\":{\"colorbar\":{\"outlinewidth\":1,\"tickcolor\":\"rgb(36,36,36)\",\"ticks\":\"outside\"}},\"type\":\"scattermapbox\"}],\"scatterpolargl\":[{\"marker\":{\"colorbar\":{\"outlinewidth\":1,\"tickcolor\":\"rgb(36,36,36)\",\"ticks\":\"outside\"}},\"type\":\"scatterpolargl\"}],\"scatterpolar\":[{\"marker\":{\"colorbar\":{\"outlinewidth\":1,\"tickcolor\":\"rgb(36,36,36)\",\"ticks\":\"outside\"}},\"type\":\"scatterpolar\"}],\"scatter\":[{\"fillpattern\":{\"fillmode\":\"overlay\",\"size\":10,\"solidity\":0.2},\"type\":\"scatter\"}],\"scatterternary\":[{\"marker\":{\"colorbar\":{\"outlinewidth\":1,\"tickcolor\":\"rgb(36,36,36)\",\"ticks\":\"outside\"}},\"type\":\"scatterternary\"}],\"surface\":[{\"colorbar\":{\"outlinewidth\":1,\"tickcolor\":\"rgb(36,36,36)\",\"ticks\":\"outside\"},\"colorscale\":[[0.0,\"#440154\"],[0.1111111111111111,\"#482878\"],[0.2222222222222222,\"#3e4989\"],[0.3333333333333333,\"#31688e\"],[0.4444444444444444,\"#26828e\"],[0.5555555555555556,\"#1f9e89\"],[0.6666666666666666,\"#35b779\"],[0.7777777777777778,\"#6ece58\"],[0.8888888888888888,\"#b5de2b\"],[1.0,\"#fde725\"]],\"type\":\"surface\"}],\"table\":[{\"cells\":{\"fill\":{\"color\":\"rgb(237,237,237)\"},\"line\":{\"color\":\"white\"}},\"header\":{\"fill\":{\"color\":\"rgb(217,217,217)\"},\"line\":{\"color\":\"white\"}},\"type\":\"table\"}]},\"layout\":{\"annotationdefaults\":{\"arrowhead\":0,\"arrowwidth\":1},\"autotypenumbers\":\"strict\",\"coloraxis\":{\"colorbar\":{\"outlinewidth\":1,\"tickcolor\":\"rgb(36,36,36)\",\"ticks\":\"outside\"}},\"colorscale\":{\"diverging\":[[0.0,\"rgb(103,0,31)\"],[0.1,\"rgb(178,24,43)\"],[0.2,\"rgb(214,96,77)\"],[0.3,\"rgb(244,165,130)\"],[0.4,\"rgb(253,219,199)\"],[0.5,\"rgb(247,247,247)\"],[0.6,\"rgb(209,229,240)\"],[0.7,\"rgb(146,197,222)\"],[0.8,\"rgb(67,147,195)\"],[0.9,\"rgb(33,102,172)\"],[1.0,\"rgb(5,48,97)\"]],\"sequential\":[[0.0,\"#440154\"],[0.1111111111111111,\"#482878\"],[0.2222222222222222,\"#3e4989\"],[0.3333333333333333,\"#31688e\"],[0.4444444444444444,\"#26828e\"],[0.5555555555555556,\"#1f9e89\"],[0.6666666666666666,\"#35b779\"],[0.7777777777777778,\"#6ece58\"],[0.8888888888888888,\"#b5de2b\"],[1.0,\"#fde725\"]],\"sequentialminus\":[[0.0,\"#440154\"],[0.1111111111111111,\"#482878\"],[0.2222222222222222,\"#3e4989\"],[0.3333333333333333,\"#31688e\"],[0.4444444444444444,\"#26828e\"],[0.5555555555555556,\"#1f9e89\"],[0.6666666666666666,\"#35b779\"],[0.7777777777777778,\"#6ece58\"],[0.8888888888888888,\"#b5de2b\"],[1.0,\"#fde725\"]]},\"colorway\":[\"#1F77B4\",\"#FF7F0E\",\"#2CA02C\",\"#D62728\",\"#9467BD\",\"#8C564B\",\"#E377C2\",\"#7F7F7F\",\"#BCBD22\",\"#17BECF\"],\"font\":{\"color\":\"rgb(36,36,36)\"},\"geo\":{\"bgcolor\":\"white\",\"lakecolor\":\"white\",\"landcolor\":\"white\",\"showlakes\":true,\"showland\":true,\"subunitcolor\":\"white\"},\"hoverlabel\":{\"align\":\"left\"},\"hovermode\":\"closest\",\"mapbox\":{\"style\":\"light\"},\"paper_bgcolor\":\"white\",\"plot_bgcolor\":\"white\",\"polar\":{\"angularaxis\":{\"gridcolor\":\"rgb(232,232,232)\",\"linecolor\":\"rgb(36,36,36)\",\"showgrid\":false,\"showline\":true,\"ticks\":\"outside\"},\"bgcolor\":\"white\",\"radialaxis\":{\"gridcolor\":\"rgb(232,232,232)\",\"linecolor\":\"rgb(36,36,36)\",\"showgrid\":false,\"showline\":true,\"ticks\":\"outside\"}},\"scene\":{\"xaxis\":{\"backgroundcolor\":\"white\",\"gridcolor\":\"rgb(232,232,232)\",\"gridwidth\":2,\"linecolor\":\"rgb(36,36,36)\",\"showbackground\":true,\"showgrid\":false,\"showline\":true,\"ticks\":\"outside\",\"zeroline\":false,\"zerolinecolor\":\"rgb(36,36,36)\"},\"yaxis\":{\"backgroundcolor\":\"white\",\"gridcolor\":\"rgb(232,232,232)\",\"gridwidth\":2,\"linecolor\":\"rgb(36,36,36)\",\"showbackground\":true,\"showgrid\":false,\"showline\":true,\"ticks\":\"outside\",\"zeroline\":false,\"zerolinecolor\":\"rgb(36,36,36)\"},\"zaxis\":{\"backgroundcolor\":\"white\",\"gridcolor\":\"rgb(232,232,232)\",\"gridwidth\":2,\"linecolor\":\"rgb(36,36,36)\",\"showbackground\":true,\"showgrid\":false,\"showline\":true,\"ticks\":\"outside\",\"zeroline\":false,\"zerolinecolor\":\"rgb(36,36,36)\"}},\"shapedefaults\":{\"fillcolor\":\"black\",\"line\":{\"width\":0},\"opacity\":0.3},\"ternary\":{\"aaxis\":{\"gridcolor\":\"rgb(232,232,232)\",\"linecolor\":\"rgb(36,36,36)\",\"showgrid\":false,\"showline\":true,\"ticks\":\"outside\"},\"baxis\":{\"gridcolor\":\"rgb(232,232,232)\",\"linecolor\":\"rgb(36,36,36)\",\"showgrid\":false,\"showline\":true,\"ticks\":\"outside\"},\"bgcolor\":\"white\",\"caxis\":{\"gridcolor\":\"rgb(232,232,232)\",\"linecolor\":\"rgb(36,36,36)\",\"showgrid\":false,\"showline\":true,\"ticks\":\"outside\"}},\"title\":{\"x\":0.05},\"xaxis\":{\"automargin\":true,\"gridcolor\":\"rgb(232,232,232)\",\"linecolor\":\"rgb(36,36,36)\",\"showgrid\":false,\"showline\":true,\"ticks\":\"outside\",\"title\":{\"standoff\":15},\"zeroline\":false,\"zerolinecolor\":\"rgb(36,36,36)\"},\"yaxis\":{\"automargin\":true,\"gridcolor\":\"rgb(232,232,232)\",\"linecolor\":\"rgb(36,36,36)\",\"showgrid\":false,\"showline\":true,\"ticks\":\"outside\",\"title\":{\"standoff\":15},\"zeroline\":false,\"zerolinecolor\":\"rgb(36,36,36)\"}}},\"title\":{\"font\":{\"family\":\"Inter Variable, Inter Tight, Inter\",\"weight\":\"bold\"}},\"xaxis\":{\"showgrid\":false},\"yaxis\":{\"showgrid\":false}}},\"xaxis\":{\"anchor\":\"y\",\"domain\":[0.0,1.0],\"title\":{\"text\":\"step\"}},\"yaxis\":{\"anchor\":\"x\",\"domain\":[0.0,1.0],\"title\":{\"text\":\"value\"}},\"legend\":{\"title\":{\"text\":\"variable\"},\"tracegroupgap\":0},\"title\":{\"text\":\"Norm gradients of user embeddings and item embeddings\"},\"barmode\":\"stack\",\"height\":500,\"showlegend\":true},                        {\"responsive\": true}                    ).then(function(){\n",
       "                            \n",
       "var gd = document.getElementById('23821a2b-33d0-4d01-a310-da77a145cc18');\n",
       "var x = new MutationObserver(function (mutations, observer) {{\n",
       "        var display = window.getComputedStyle(gd).display;\n",
       "        if (!display || display === 'none') {{\n",
       "            console.log([gd, 'removed!']);\n",
       "            Plotly.purge(gd);\n",
       "            observer.disconnect();\n",
       "        }}\n",
       "}});\n",
       "\n",
       "// Listen for the removal of the full notebook cells\n",
       "var notebookContainer = gd.closest('#notebook-container');\n",
       "if (notebookContainer) {{\n",
       "    x.observe(notebookContainer, {childList: true});\n",
       "}}\n",
       "\n",
       "// Listen for the clearing of the current output cell\n",
       "var outputEl = gd.closest('.output');\n",
       "if (outputEl) {{\n",
       "    x.observe(outputEl, {childList: true});\n",
       "}}\n",
       "\n",
       "                        })                };                });            </script>        </div>"
      ]
     },
     "metadata": {},
     "output_type": "display_data"
    }
   ],
   "source": [
    "fig = px.bar(\n",
    "    step_metrics_df,\n",
    "    x='step',\n",
    "    y=['grad_norm_user_embedding.weight', 'grad_norm_item_embedding.weight'],\n",
    "    title='Norm gradients of user embeddings and item embeddings',\n",
    "    height=500\n",
    ")\n",
    "fig.update_layout(showlegend=True, barmode='stack')\n",
    "fig.show()"
   ]
  },
  {
   "cell_type": "markdown",
   "id": "7a07c8e4-0e63-4e60-b865-4ee6b93c6524",
   "metadata": {},
   "source": [
    "# Predict"
   ]
  },
  {
   "cell_type": "code",
   "execution_count": 21,
   "id": "5ebe0aa1-0001-47f5-8488-ae784d0e5558",
   "metadata": {},
   "outputs": [
    {
     "data": {
      "text/html": [
       "<div>\n",
       "<style scoped>\n",
       "    .dataframe tbody tr th:only-of-type {\n",
       "        vertical-align: middle;\n",
       "    }\n",
       "\n",
       "    .dataframe tbody tr th {\n",
       "        vertical-align: top;\n",
       "    }\n",
       "\n",
       "    .dataframe thead th {\n",
       "        text-align: right;\n",
       "    }\n",
       "</style>\n",
       "<table border=\"1\" class=\"dataframe\">\n",
       "  <thead>\n",
       "    <tr style=\"text-align: right;\">\n",
       "      <th></th>\n",
       "      <th>user_id</th>\n",
       "      <th>parent_asin</th>\n",
       "      <th>rating</th>\n",
       "      <th>timestamp</th>\n",
       "    </tr>\n",
       "  </thead>\n",
       "  <tbody>\n",
       "    <tr>\n",
       "      <th>1</th>\n",
       "      <td>AEVPPTMG43C6GWSR7I2UGRQN7WFQ</td>\n",
       "      <td>B0863MT183</td>\n",
       "      <td>4.0</td>\n",
       "      <td>1613701986538</td>\n",
       "    </tr>\n",
       "    <tr>\n",
       "      <th>2</th>\n",
       "      <td>AEVPPTMG43C6GWSR7I2UGRQN7WFQ</td>\n",
       "      <td>B08P8P7686</td>\n",
       "      <td>5.0</td>\n",
       "      <td>1613702112995</td>\n",
       "    </tr>\n",
       "    <tr>\n",
       "      <th>3</th>\n",
       "      <td>AEVPPTMG43C6GWSR7I2UGRQN7WFQ</td>\n",
       "      <td>B0B7LV3DN2</td>\n",
       "      <td>4.0</td>\n",
       "      <td>1617641445475</td>\n",
       "    </tr>\n",
       "    <tr>\n",
       "      <th>4</th>\n",
       "      <td>AEVPPTMG43C6GWSR7I2UGRQN7WFQ</td>\n",
       "      <td>B09WMQ6DXG</td>\n",
       "      <td>5.0</td>\n",
       "      <td>1620231368468</td>\n",
       "    </tr>\n",
       "    <tr>\n",
       "      <th>70</th>\n",
       "      <td>AHV6QCNBJNSGLATP56JAWJ3C4G2A</td>\n",
       "      <td>B019WRM1IA</td>\n",
       "      <td>5.0</td>\n",
       "      <td>1451860309000</td>\n",
       "    </tr>\n",
       "    <tr>\n",
       "      <th>...</th>\n",
       "      <td>...</td>\n",
       "      <td>...</td>\n",
       "      <td>...</td>\n",
       "      <td>...</td>\n",
       "    </tr>\n",
       "    <tr>\n",
       "      <th>735704</th>\n",
       "      <td>AHS2PQ33BWQLXC5NNUZS2BFXD34Q</td>\n",
       "      <td>B07TZT67KX</td>\n",
       "      <td>5.0</td>\n",
       "      <td>1622844181866</td>\n",
       "    </tr>\n",
       "    <tr>\n",
       "      <th>735800</th>\n",
       "      <td>AFO5SNKILFVJMSJJ2E3BRLDGE4NA</td>\n",
       "      <td>B09T5VN7D1</td>\n",
       "      <td>4.0</td>\n",
       "      <td>1601154352542</td>\n",
       "    </tr>\n",
       "    <tr>\n",
       "      <th>735801</th>\n",
       "      <td>AFO5SNKILFVJMSJJ2E3BRLDGE4NA</td>\n",
       "      <td>B09918MSTF</td>\n",
       "      <td>5.0</td>\n",
       "      <td>1602615880364</td>\n",
       "    </tr>\n",
       "    <tr>\n",
       "      <th>736772</th>\n",
       "      <td>AEFPHMM7CLX4UJNXJFQF4ZF5GNAA</td>\n",
       "      <td>B07P27XFP7</td>\n",
       "      <td>5.0</td>\n",
       "      <td>1599585146628</td>\n",
       "    </tr>\n",
       "    <tr>\n",
       "      <th>736773</th>\n",
       "      <td>AEFPHMM7CLX4UJNXJFQF4ZF5GNAA</td>\n",
       "      <td>B09ZPHLDSF</td>\n",
       "      <td>1.0</td>\n",
       "      <td>1619848589277</td>\n",
       "    </tr>\n",
       "  </tbody>\n",
       "</table>\n",
       "<p>18095 rows × 4 columns</p>\n",
       "</div>"
      ],
      "text/plain": [
       "                             user_id parent_asin  rating      timestamp\n",
       "1       AEVPPTMG43C6GWSR7I2UGRQN7WFQ  B0863MT183     4.0  1613701986538\n",
       "2       AEVPPTMG43C6GWSR7I2UGRQN7WFQ  B08P8P7686     5.0  1613702112995\n",
       "3       AEVPPTMG43C6GWSR7I2UGRQN7WFQ  B0B7LV3DN2     4.0  1617641445475\n",
       "4       AEVPPTMG43C6GWSR7I2UGRQN7WFQ  B09WMQ6DXG     5.0  1620231368468\n",
       "70      AHV6QCNBJNSGLATP56JAWJ3C4G2A  B019WRM1IA     5.0  1451860309000\n",
       "...                              ...         ...     ...            ...\n",
       "735704  AHS2PQ33BWQLXC5NNUZS2BFXD34Q  B07TZT67KX     5.0  1622844181866\n",
       "735800  AFO5SNKILFVJMSJJ2E3BRLDGE4NA  B09T5VN7D1     4.0  1601154352542\n",
       "735801  AFO5SNKILFVJMSJJ2E3BRLDGE4NA  B09918MSTF     5.0  1602615880364\n",
       "736772  AEFPHMM7CLX4UJNXJFQF4ZF5GNAA  B07P27XFP7     5.0  1599585146628\n",
       "736773  AEFPHMM7CLX4UJNXJFQF4ZF5GNAA  B09ZPHLDSF     1.0  1619848589277\n",
       "\n",
       "[18095 rows x 4 columns]"
      ]
     },
     "execution_count": 21,
     "metadata": {},
     "output_type": "execute_result"
    }
   ],
   "source": [
    "train_df"
   ]
  },
  {
   "cell_type": "code",
   "execution_count": 22,
   "id": "568e6612-f7e5-4960-8903-5a87edb42d29",
   "metadata": {},
   "outputs": [
    {
     "data": {
      "text/html": [
       "<div>\n",
       "<style scoped>\n",
       "    .dataframe tbody tr th:only-of-type {\n",
       "        vertical-align: middle;\n",
       "    }\n",
       "\n",
       "    .dataframe tbody tr th {\n",
       "        vertical-align: top;\n",
       "    }\n",
       "\n",
       "    .dataframe thead th {\n",
       "        text-align: right;\n",
       "    }\n",
       "</style>\n",
       "<table border=\"1\" class=\"dataframe\">\n",
       "  <thead>\n",
       "    <tr style=\"text-align: right;\">\n",
       "      <th></th>\n",
       "      <th>user_id</th>\n",
       "      <th>parent_asin</th>\n",
       "      <th>rating</th>\n",
       "      <th>timestamp</th>\n",
       "    </tr>\n",
       "  </thead>\n",
       "  <tbody>\n",
       "    <tr>\n",
       "      <th>34367</th>\n",
       "      <td>AEHW2B54HDLZ3APBEWXHYLZ6SSYQ</td>\n",
       "      <td>B07MYVF61Y</td>\n",
       "      <td>4.0</td>\n",
       "      <td>1654225907045</td>\n",
       "    </tr>\n",
       "  </tbody>\n",
       "</table>\n",
       "</div>"
      ],
      "text/plain": [
       "                            user_id parent_asin  rating      timestamp\n",
       "34367  AEHW2B54HDLZ3APBEWXHYLZ6SSYQ  B07MYVF61Y     4.0  1654225907045"
      ]
     },
     "execution_count": 22,
     "metadata": {},
     "output_type": "execute_result"
    }
   ],
   "source": [
    "user_id = 'AEHW2B54HDLZ3APBEWXHYLZ6SSYQ'\n",
    "val_df.loc[lambda df: df['user_id'].eq(user_id)]"
   ]
  },
  {
   "cell_type": "code",
   "execution_count": 23,
   "id": "5aad5b21-6234-41a5-b922-c7bd77ba7011",
   "metadata": {},
   "outputs": [
    {
     "data": {
      "text/plain": [
       "tensor([4.8345], grad_fn=<SumBackward1>)"
      ]
     },
     "execution_count": 23,
     "metadata": {},
     "output_type": "execute_result"
    }
   ],
   "source": [
    "item_id = 'B07MYVF61Y'\n",
    "user_indice = idm.get_user_index(user_id)\n",
    "item_indice = idm.get_item_index(item_id)\n",
    "\n",
    "model.predict([user_indice], [item_indice])"
   ]
  },
  {
   "cell_type": "code",
   "execution_count": null,
   "id": "623cdc93-abd9-4fa9-9553-a2c37da64e2e",
   "metadata": {},
   "outputs": [],
   "source": []
  },
  {
   "cell_type": "code",
   "execution_count": null,
   "id": "d4ce6982-efec-4a48-afe9-8bbdbcbe1aad",
   "metadata": {},
   "outputs": [],
   "source": []
  }
 ],
 "metadata": {
  "kernelspec": {
   "display_name": "Python 3 (ipykernel)",
   "language": "python",
   "name": "python3"
  },
  "language_info": {
   "codemirror_mode": {
    "name": "ipython",
    "version": 3
   },
   "file_extension": ".py",
   "mimetype": "text/x-python",
   "name": "python",
   "nbconvert_exporter": "python",
   "pygments_lexer": "ipython3",
   "version": "3.11.9"
  }
 },
 "nbformat": 4,
 "nbformat_minor": 5
}
