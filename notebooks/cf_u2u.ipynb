{
 "cells": [
  {
   "cell_type": "code",
   "execution_count": 1,
   "id": "3c8f6e8d-f776-4d39-898c-d783c5ae3407",
   "metadata": {},
   "outputs": [],
   "source": [
    "%load_ext autoreload\n",
    "%autoreload 2"
   ]
  },
  {
   "cell_type": "code",
   "execution_count": 2,
   "id": "35b3499d-dc9c-405a-8714-a26341b581e1",
   "metadata": {},
   "outputs": [],
   "source": [
    "import sys\n",
    "from loguru import logger\n",
    "\n",
    "import pandas as pd\n",
    "import numpy as np\n",
    "import plotly.express as px\n",
    "\n",
    "sys.path.insert(0, '..')\n",
    "\n",
    "from src.viz import blueq_colors"
   ]
  },
  {
   "cell_type": "markdown",
   "id": "a5acedcb-89e6-41c6-8969-bf3437fc7898",
   "metadata": {},
   "source": [
    "# Implement"
   ]
  },
  {
   "cell_type": "code",
   "execution_count": 3,
   "id": "d6053118-029e-4d7c-9c02-6f988508e643",
   "metadata": {},
   "outputs": [],
   "source": [
    "from src.train_utils import mse_loss, train, MetricLogCallback\n",
    "from src.model import User2UserCollaborativeFiltering"
   ]
  },
  {
   "cell_type": "markdown",
   "id": "377a71da-1ee3-474c-b3f4-4488d2a45dd3",
   "metadata": {},
   "source": [
    "# Test implementation"
   ]
  },
  {
   "cell_type": "code",
   "execution_count": 4,
   "id": "ce5326d7-ec9d-422c-bbd8-03c837a23e1e",
   "metadata": {},
   "outputs": [
    {
     "name": "stdout",
     "output_type": "stream",
     "text": [
      "Mock User IDs: [0, 0, 1, 1, 2, 2, 2]\n",
      "Mock Item IDs: [0, 1, 1, 2, 3, 1, 2]\n",
      "Ratings: [1, 4, 4, 5, 3, 2, 4]\n",
      "[3 3 3]\n"
     ]
    }
   ],
   "source": [
    "# Mock data\n",
    "user_ids = [0, 0, 1, 1, 2, 2, 2]\n",
    "item_ids = [0, 1, 1, 2, 3, 1, 2]\n",
    "ratings = [1, 4, 4, 5, 3, 2, 4]\n",
    "n_users = len(set(user_ids))\n",
    "n_items = len(set(item_ids))\n",
    "\n",
    "val_user_ids = [0, 1, 2]\n",
    "val_item_ids = [2, 1, 2]\n",
    "val_ratings = [2, 4, 5]\n",
    "\n",
    "print(\"Mock User IDs:\", user_ids)\n",
    "print(\"Mock Item IDs:\", item_ids)\n",
    "print(\"Ratings:\", ratings)\n",
    "\n",
    "model = User2UserCollaborativeFiltering(n_users, n_items)\n",
    "\n",
    "users = [0, 1, 2]\n",
    "items = [2, 2, 0]\n",
    "predictions = model.predict(users, items)\n",
    "print(predictions)"
   ]
  },
  {
   "cell_type": "code",
   "execution_count": 5,
   "id": "28f926b4-1bb9-4552-825a-58b0a4389725",
   "metadata": {},
   "outputs": [
    {
     "name": "stdout",
     "output_type": "stream",
     "text": [
      "[4.62714989 4.         1.        ]\n"
     ]
    }
   ],
   "source": [
    "model.fit(user_ids, item_ids, ratings)\n",
    "predictions = model.predict(users, items)\n",
    "print(predictions)"
   ]
  },
  {
   "cell_type": "code",
   "execution_count": 6,
   "id": "15903bdd-0846-4588-9a8f-584d8f523ce0",
   "metadata": {},
   "outputs": [
    {
     "data": {
      "text/plain": [
       "array([[1., 4., 0., 0.],\n",
       "       [0., 4., 5., 0.],\n",
       "       [0., 2., 4., 3.]])"
      ]
     },
     "execution_count": 6,
     "metadata": {},
     "output_type": "execute_result"
    }
   ],
   "source": [
    "model.user_item_matrix"
   ]
  },
  {
   "cell_type": "code",
   "execution_count": 7,
   "id": "496f9749-183a-478d-a624-16ed59c9818f",
   "metadata": {},
   "outputs": [
    {
     "data": {
      "text/plain": [
       "array([[0.        , 0.60604322, 0.36030188],\n",
       "       [0.60604322, 0.        , 0.81202071],\n",
       "       [0.36030188, 0.81202071, 0.        ]])"
      ]
     },
     "execution_count": 7,
     "metadata": {},
     "output_type": "execute_result"
    }
   ],
   "source": [
    "model.user_similarity"
   ]
  },
  {
   "cell_type": "code",
   "execution_count": 8,
   "id": "8d434a72-4f4e-49ea-98ea-31e6a539e4e0",
   "metadata": {},
   "outputs": [
    {
     "name": "stdout",
     "output_type": "stream",
     "text": [
      "sim_scores=array([0.        , 0.60604322, 0.36030188])\n"
     ]
    }
   ],
   "source": [
    "user = 0\n",
    "item = 2\n",
    "\n",
    "# Compute prediction using weighted average of ratings from similar users\n",
    "sim_scores = model.user_similarity[user]\n",
    "print(f\"{sim_scores=}\")"
   ]
  },
  {
   "cell_type": "code",
   "execution_count": 9,
   "id": "4a44f130-422c-47d6-8e62-1913e3afdc9f",
   "metadata": {},
   "outputs": [
    {
     "name": "stdout",
     "output_type": "stream",
     "text": [
      "user_ratings=array([0., 5., 4.])\n",
      "sim_scores=array([0.60604322, 0.36030188])\n",
      "user_ratings=array([5., 4.])\n"
     ]
    }
   ],
   "source": [
    "# Only consider users who have rated the item\n",
    "user_ratings = model.user_item_matrix[:, item]\n",
    "print(f\"{user_ratings=}\")\n",
    "sim_scores = sim_scores[user_ratings != 0]\n",
    "print(f\"{sim_scores=}\")\n",
    "user_ratings = user_ratings[user_ratings != 0]\n",
    "print(f\"{user_ratings=}\")"
   ]
  },
  {
   "cell_type": "code",
   "execution_count": 10,
   "id": "5c4af833-c0e2-4ac9-8f54-84dca24799e8",
   "metadata": {},
   "outputs": [
    {
     "name": "stdout",
     "output_type": "stream",
     "text": [
      "Weighted average: 4.471423593469625\n",
      "Normalization factor: 0.9663450945516922\n",
      "Predicted rating: 4.627149885356445\n"
     ]
    }
   ],
   "source": [
    "# Weighted average of ratings\n",
    "print(f\"Weighted average: {np.dot(sim_scores, user_ratings)}\")\n",
    "print(f\"Normalization factor: {np.sum(sim_scores)}\")\n",
    "print(f\"Predicted rating: {np.dot(sim_scores, user_ratings) / np.sum(sim_scores)}\")"
   ]
  },
  {
   "cell_type": "markdown",
   "id": "170dec89-a874-4dce-8f94-07d978fcc5b8",
   "metadata": {},
   "source": [
    "# Prep data"
   ]
  },
  {
   "cell_type": "code",
   "execution_count": 11,
   "id": "83803362-5eaa-40bb-b28b-878316d5db5d",
   "metadata": {},
   "outputs": [],
   "source": [
    "train_df = pd.read_parquet(\"../data/train.parquet\")\n",
    "val_df = pd.read_parquet(\"../data/val.parquet\")"
   ]
  },
  {
   "cell_type": "code",
   "execution_count": 12,
   "id": "b0d4bfbb-f3bb-40bc-ae22-23e8d8f9d092",
   "metadata": {},
   "outputs": [],
   "source": [
    "from src.id_mapper import IDMapper"
   ]
  },
  {
   "cell_type": "code",
   "execution_count": 13,
   "id": "17d6c998-5fc4-43f7-8e19-0f469bb0374b",
   "metadata": {},
   "outputs": [
    {
     "name": "stderr",
     "output_type": "stream",
     "text": [
      "\u001b[32m2024-09-12 13:05:04.089\u001b[0m | \u001b[1mINFO    \u001b[0m | \u001b[36m__main__\u001b[0m:\u001b[36m<module>\u001b[0m:\u001b[36m8\u001b[0m - \u001b[1mlen(unique_user_ids)=5,223, len(unique_item_ids)=2,653\u001b[0m\n"
     ]
    }
   ],
   "source": [
    "user_ids = train_df['user_id'].values\n",
    "item_ids = train_df['parent_asin'].values\n",
    "unique_user_ids = list(set(user_ids))\n",
    "unique_item_ids = list(set(item_ids))\n",
    "n_users = len(unique_user_ids)\n",
    "n_items = len(unique_item_ids)\n",
    "\n",
    "logger.info(f\"{len(unique_user_ids)=:,.0f}, {len(unique_item_ids)=:,.0f}\")"
   ]
  },
  {
   "cell_type": "code",
   "execution_count": 14,
   "id": "d652b08a-bdeb-485a-9700-39651c225241",
   "metadata": {},
   "outputs": [],
   "source": [
    "idm = IDMapper()\n",
    "idm.fit(unique_user_ids, unique_item_ids)"
   ]
  },
  {
   "cell_type": "code",
   "execution_count": 15,
   "id": "a8861682-ac7c-410d-b263-17056ceb2466",
   "metadata": {},
   "outputs": [],
   "source": [
    "user_indices = [idm.get_user_index(user_id) for user_id in user_ids]\n",
    "item_indices = [idm.get_item_index(item_id) for item_id in item_ids]\n",
    "ratings = train_df['rating'].values.tolist()"
   ]
  },
  {
   "cell_type": "code",
   "execution_count": 16,
   "id": "e73143ed-5992-4f7d-83d1-d2dc4978af5f",
   "metadata": {},
   "outputs": [],
   "source": [
    "val_user_indices = [idm.get_user_index(user_id) for user_id in val_df['user_id']]\n",
    "val_item_indices = [idm.get_item_index(item_id) for item_id in val_df['parent_asin']]\n",
    "val_ratings = val_df['rating'].values.tolist()"
   ]
  },
  {
   "cell_type": "markdown",
   "id": "5260fbe7-2f90-44a1-be74-ce5db9b511ee",
   "metadata": {},
   "source": [
    "# Train"
   ]
  },
  {
   "cell_type": "code",
   "execution_count": 17,
   "id": "12749354-d57a-4458-bf60-b23f068ec6c7",
   "metadata": {},
   "outputs": [],
   "source": [
    "model = User2UserCollaborativeFiltering(n_users, n_items)"
   ]
  },
  {
   "cell_type": "markdown",
   "id": "b8cbb2a8-a578-4ad2-941e-efd01d930336",
   "metadata": {},
   "source": [
    "#### Predict before train"
   ]
  },
  {
   "cell_type": "code",
   "execution_count": 18,
   "id": "9eb1583b-40f7-4157-a383-5891389ac119",
   "metadata": {
    "scrolled": true
   },
   "outputs": [
    {
     "data": {
      "text/html": [
       "<div>\n",
       "<style scoped>\n",
       "    .dataframe tbody tr th:only-of-type {\n",
       "        vertical-align: middle;\n",
       "    }\n",
       "\n",
       "    .dataframe tbody tr th {\n",
       "        vertical-align: top;\n",
       "    }\n",
       "\n",
       "    .dataframe thead th {\n",
       "        text-align: right;\n",
       "    }\n",
       "</style>\n",
       "<table border=\"1\" class=\"dataframe\">\n",
       "  <thead>\n",
       "    <tr style=\"text-align: right;\">\n",
       "      <th></th>\n",
       "      <th>user_id</th>\n",
       "      <th>parent_asin</th>\n",
       "      <th>rating</th>\n",
       "      <th>timestamp</th>\n",
       "    </tr>\n",
       "  </thead>\n",
       "  <tbody>\n",
       "    <tr>\n",
       "      <th>34367</th>\n",
       "      <td>AEHW2B54HDLZ3APBEWXHYLZ6SSYQ</td>\n",
       "      <td>B07MYVF61Y</td>\n",
       "      <td>4.0</td>\n",
       "      <td>1654225907045</td>\n",
       "    </tr>\n",
       "  </tbody>\n",
       "</table>\n",
       "</div>"
      ],
      "text/plain": [
       "                            user_id parent_asin  rating      timestamp\n",
       "34367  AEHW2B54HDLZ3APBEWXHYLZ6SSYQ  B07MYVF61Y     4.0  1654225907045"
      ]
     },
     "execution_count": 18,
     "metadata": {},
     "output_type": "execute_result"
    }
   ],
   "source": [
    "user_id = 'AEHW2B54HDLZ3APBEWXHYLZ6SSYQ'\n",
    "val_df.loc[lambda df: df['user_id'].eq(user_id)]"
   ]
  },
  {
   "cell_type": "code",
   "execution_count": 19,
   "id": "c48fbc80-eda8-4dff-a246-95f8f2f75082",
   "metadata": {
    "scrolled": true
   },
   "outputs": [
    {
     "data": {
      "text/plain": [
       "array([3])"
      ]
     },
     "execution_count": 19,
     "metadata": {},
     "output_type": "execute_result"
    }
   ],
   "source": [
    "item_id = 'B07MYVF61Y'\n",
    "user_indice = idm.get_user_index(user_id)\n",
    "item_indice = idm.get_item_index(item_id)\n",
    "\n",
    "model.predict([user_indice], [item_indice])"
   ]
  },
  {
   "cell_type": "markdown",
   "id": "c2fd217c-c0c8-4e7c-81fe-6eb36f4729b5",
   "metadata": {},
   "source": [
    "#### Training loop"
   ]
  },
  {
   "cell_type": "code",
   "execution_count": 20,
   "id": "ad0bf9b5-da26-4ea1-84ec-78eeb43d4a66",
   "metadata": {},
   "outputs": [],
   "source": [
    "model.fit(user_indices, item_indices, ratings)"
   ]
  },
  {
   "cell_type": "markdown",
   "id": "fd2bba59-2e12-4921-b36f-66e82105637c",
   "metadata": {},
   "source": [
    "# Evaluate"
   ]
  },
  {
   "cell_type": "code",
   "execution_count": 21,
   "id": "f2d0c6b6-6a78-40da-924c-929408460779",
   "metadata": {},
   "outputs": [],
   "source": [
    "from tqdm.notebook import tqdm"
   ]
  },
  {
   "cell_type": "code",
   "execution_count": 22,
   "id": "0dbc2c38-4bae-4116-9450-ea038ab351e1",
   "metadata": {},
   "outputs": [
    {
     "data": {
      "application/vnd.jupyter.widget-view+json": {
       "model_id": "8bc5c95db7df47279ca019405507e436",
       "version_major": 2,
       "version_minor": 0
      },
      "text/plain": [
       "  0%|          | 0/4259 [00:00<?, ?it/s]"
      ]
     },
     "metadata": {},
     "output_type": "display_data"
    }
   ],
   "source": [
    "val_predictions = []\n",
    "for i in tqdm(range(len(val_ratings))):\n",
    "    user_indice = val_user_indices[i]\n",
    "    item_indice = val_item_indices[i]\n",
    "    prediction = model.predict([user_indice], [item_indice])\n",
    "    prediction = float(prediction[0])\n",
    "    val_predictions.append(prediction)"
   ]
  },
  {
   "cell_type": "code",
   "execution_count": 23,
   "id": "5cf0733c-5cc2-49de-83cb-35f26330f9e3",
   "metadata": {},
   "outputs": [
    {
     "data": {
      "text/plain": [
       "np.float64(2.9705283669091798)"
      ]
     },
     "execution_count": 23,
     "metadata": {},
     "output_type": "execute_result"
    }
   ],
   "source": [
    "def mse(predictions, ratings):\n",
    "    predictions = np.array(predictions)\n",
    "    ratings = np.array(ratings)\n",
    "    return np.mean((predictions - ratings) ** 2)\n",
    "\n",
    "mse(val_predictions, val_ratings)"
   ]
  },
  {
   "cell_type": "code",
   "execution_count": 24,
   "id": "edfd693d-77cd-4c1f-92e1-084ce7734104",
   "metadata": {},
   "outputs": [
    {
     "data": {
      "text/plain": [
       "[3.0, 3.0, 3.8216000860564616, 3.0, 3.0]"
      ]
     },
     "execution_count": 24,
     "metadata": {},
     "output_type": "execute_result"
    }
   ],
   "source": [
    "val_predictions[:5]"
   ]
  },
  {
   "cell_type": "code",
   "execution_count": 25,
   "id": "4a0c7059-a9c4-4718-b146-f1056fcb7dd9",
   "metadata": {},
   "outputs": [
    {
     "data": {
      "text/plain": [
       "[5.0, 5.0, 5.0, 5.0, 2.0]"
      ]
     },
     "execution_count": 25,
     "metadata": {},
     "output_type": "execute_result"
    }
   ],
   "source": [
    "val_ratings[:5]"
   ]
  },
  {
   "cell_type": "markdown",
   "id": "7a07c8e4-0e63-4e60-b865-4ee6b93c6524",
   "metadata": {},
   "source": [
    "# Predict"
   ]
  },
  {
   "cell_type": "code",
   "execution_count": 26,
   "id": "b574c11e-00fe-4458-92b0-5861e19d4ba7",
   "metadata": {
    "scrolled": true
   },
   "outputs": [
    {
     "data": {
      "text/plain": [
       "3.8216000860564616"
      ]
     },
     "execution_count": 26,
     "metadata": {},
     "output_type": "execute_result"
    }
   ],
   "source": [
    "val_predictions[2]"
   ]
  },
  {
   "cell_type": "code",
   "execution_count": 27,
   "id": "5ebe0aa1-0001-47f5-8488-ae784d0e5558",
   "metadata": {},
   "outputs": [
    {
     "data": {
      "text/html": [
       "<div>\n",
       "<style scoped>\n",
       "    .dataframe tbody tr th:only-of-type {\n",
       "        vertical-align: middle;\n",
       "    }\n",
       "\n",
       "    .dataframe tbody tr th {\n",
       "        vertical-align: top;\n",
       "    }\n",
       "\n",
       "    .dataframe thead th {\n",
       "        text-align: right;\n",
       "    }\n",
       "</style>\n",
       "<table border=\"1\" class=\"dataframe\">\n",
       "  <thead>\n",
       "    <tr style=\"text-align: right;\">\n",
       "      <th></th>\n",
       "      <th>user_id</th>\n",
       "      <th>parent_asin</th>\n",
       "      <th>rating</th>\n",
       "      <th>timestamp</th>\n",
       "    </tr>\n",
       "  </thead>\n",
       "  <tbody>\n",
       "    <tr>\n",
       "      <th>6758</th>\n",
       "      <td>AFQAPWVESEJYTNZC23LDPQOH7QBA</td>\n",
       "      <td>B09GM4283G</td>\n",
       "      <td>5.0</td>\n",
       "      <td>1630119475785</td>\n",
       "    </tr>\n",
       "  </tbody>\n",
       "</table>\n",
       "</div>"
      ],
      "text/plain": [
       "                           user_id parent_asin  rating      timestamp\n",
       "6758  AFQAPWVESEJYTNZC23LDPQOH7QBA  B09GM4283G     5.0  1630119475785"
      ]
     },
     "execution_count": 27,
     "metadata": {},
     "output_type": "execute_result"
    }
   ],
   "source": [
    "val_df.iloc[[2]]"
   ]
  },
  {
   "cell_type": "code",
   "execution_count": 28,
   "id": "568e6612-f7e5-4960-8903-5a87edb42d29",
   "metadata": {},
   "outputs": [],
   "source": [
    "user_id = 'AFQAPWVESEJYTNZC23LDPQOH7QBA'"
   ]
  },
  {
   "cell_type": "code",
   "execution_count": 29,
   "id": "5aad5b21-6234-41a5-b922-c7bd77ba7011",
   "metadata": {},
   "outputs": [
    {
     "data": {
      "text/plain": [
       "array([3.82160009])"
      ]
     },
     "execution_count": 29,
     "metadata": {},
     "output_type": "execute_result"
    }
   ],
   "source": [
    "item_id = 'B09GM4283G'\n",
    "user_indice = idm.get_user_index(user_id)\n",
    "item_indice = idm.get_item_index(item_id)\n",
    "\n",
    "model.predict([user_indice], [item_indice])"
   ]
  },
  {
   "cell_type": "code",
   "execution_count": null,
   "id": "d4ce6982-efec-4a48-afe9-8bbdbcbe1aad",
   "metadata": {},
   "outputs": [],
   "source": []
  }
 ],
 "metadata": {
  "kernelspec": {
   "display_name": "Python 3 (ipykernel)",
   "language": "python",
   "name": "python3"
  },
  "language_info": {
   "codemirror_mode": {
    "name": "ipython",
    "version": 3
   },
   "file_extension": ".py",
   "mimetype": "text/x-python",
   "name": "python",
   "nbconvert_exporter": "python",
   "pygments_lexer": "ipython3",
   "version": "3.11.9"
  }
 },
 "nbformat": 4,
 "nbformat_minor": 5
}
