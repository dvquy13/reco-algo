{
 "cells": [
  {
   "cell_type": "code",
   "execution_count": 1,
   "id": "4e04963c-64b3-466a-94b1-6fbfb1608c5b",
   "metadata": {},
   "outputs": [],
   "source": [
    "import sys\n",
    "import numpy as np\n",
    "sys.path.insert(0, '..')\n",
    "\n",
    "from src.vector_search import FaissNN"
   ]
  },
  {
   "cell_type": "code",
   "execution_count": 2,
   "id": "eb39d55f-4e3e-494a-914d-d6630f2cbb6e",
   "metadata": {},
   "outputs": [
    {
     "name": "stdout",
     "output_type": "stream",
     "text": [
      "Nearest neighbors (indices): [[ 0 13 80 75 41]]\n",
      "Distances: [[0.        4.1427436 5.514675  5.7016993 6.1198487]]\n"
     ]
    }
   ],
   "source": [
    "# Step 1: Create a list of embeddings (100 samples, 50 dimensions)\n",
    "np.random.seed(42)\n",
    "embeddings = np.random.rand(100, 50).astype('float32')\n",
    "\n",
    "# Step 2: Initialize the FAISS class with embedding dimension, using GPU if available\n",
    "nn_search = FaissNN(embedding_dim=50, use_gpu=False, metric='L2')\n",
    "\n",
    "# Step 3: Add embeddings to the index\n",
    "nn_search.add_embeddings(embeddings)\n",
    "\n",
    "# Step 4: Search for the 5 nearest neighbors of the first embedding\n",
    "query_embedding = embeddings[0]\n",
    "distances, indices = nn_search.search(query_embedding, k=5)\n",
    "\n",
    "# Step 5: Output the results\n",
    "print(\"Nearest neighbors (indices):\", indices)\n",
    "print(\"Distances:\", distances)"
   ]
  }
 ],
 "metadata": {
  "kernelspec": {
   "display_name": "Python 3 (ipykernel)",
   "language": "python",
   "name": "python3"
  },
  "language_info": {
   "codemirror_mode": {
    "name": "ipython",
    "version": 3
   },
   "file_extension": ".py",
   "mimetype": "text/x-python",
   "name": "python",
   "nbconvert_exporter": "python",
   "pygments_lexer": "ipython3",
   "version": "3.11.9"
  }
 },
 "nbformat": 4,
 "nbformat_minor": 5
}
