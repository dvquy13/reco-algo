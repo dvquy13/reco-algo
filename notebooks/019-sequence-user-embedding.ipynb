{
 "cells": [
  {
   "cell_type": "code",
   "execution_count": 1,
   "id": "3c8f6e8d-f776-4d39-898c-d783c5ae3407",
   "metadata": {},
   "outputs": [],
   "source": [
    "%load_ext autoreload\n",
    "%autoreload 2"
   ]
  },
  {
   "cell_type": "code",
   "execution_count": 2,
   "id": "35b3499d-dc9c-405a-8714-a26341b581e1",
   "metadata": {},
   "outputs": [],
   "source": [
    "import sys\n",
    "import os\n",
    "from loguru import logger\n",
    "from typing import Literal\n",
    "\n",
    "import torch\n",
    "import torch.nn as nn\n",
    "import torch.nn.functional as F\n",
    "import torch.sparse as sparse\n",
    "import torch.optim as optim\n",
    "\n",
    "import pandas as pd\n",
    "import plotly.express as px\n",
    "from pydantic import BaseModel\n",
    "from dotenv import load_dotenv\n",
    "import mlflow\n",
    "\n",
    "load_dotenv()\n",
    "\n",
    "sys.path.insert(0, '..')\n",
    "\n",
    "from src.viz import blueq_colors"
   ]
  },
  {
   "cell_type": "markdown",
   "id": "43dcecad-90d4-46fa-a8c6-a71e6246fb23",
   "metadata": {},
   "source": [
    "# Controller"
   ]
  },
  {
   "cell_type": "code",
   "execution_count": 3,
   "id": "980a3920-0b95-4b4b-a2fa-1f843db17121",
   "metadata": {},
   "outputs": [
    {
     "name": "stderr",
     "output_type": "stream",
     "text": [
      "\u001b[32m2024-09-18 06:27:24.939\u001b[0m | \u001b[1mINFO    \u001b[0m | \u001b[36m__main__\u001b[0m:\u001b[36minit\u001b[0m:\u001b[36m35\u001b[0m - \u001b[1mSetting up MLflow experiment FSDS RecSys - L5 - Reco Algo - run 028-sequence-relu-and-dropout...\u001b[0m\n"
     ]
    },
    {
     "name": "stdout",
     "output_type": "stream",
     "text": [
      "{\n",
      "  \"testing\": false,\n",
      "  \"log_to_mlflow\": true,\n",
      "  \"experiment_name\": \"FSDS RecSys - L5 - Reco Algo\",\n",
      "  \"run_name\": \"028-sequence-relu-and-dropout\",\n",
      "  \"notebook_persist_dp\": \"/home/jupyter/frostmourne/reco-algo/notebooks/data/028-sequence-relu-and-dropout\",\n",
      "  \"random_seed\": 41,\n",
      "  \"user_col\": \"user_id\",\n",
      "  \"item_col\": \"parent_asin\",\n",
      "  \"rating_col\": \"rating\",\n",
      "  \"timestamp_col\": \"timestamp\",\n",
      "  \"top_K\": 100,\n",
      "  \"top_k\": 10,\n",
      "  \"batch_size\": 128,\n",
      "  \"learning_task\": \"ranking\",\n",
      "  \"num_negative_samples\": 5,\n",
      "  \"embedding_dim\": 128,\n",
      "  \"max_input_sequence_length\": 5,\n",
      "  \"learning_rate\": 0.001\n",
      "}\n"
     ]
    }
   ],
   "source": [
    "class Args(BaseModel):\n",
    "    testing: bool = False\n",
    "    log_to_mlflow: bool = True\n",
    "    experiment_name: str = \"FSDS RecSys - L5 - Reco Algo\"\n",
    "    run_name: str = '028-sequence-relu-and-dropout'\n",
    "    notebook_persist_dp: str = None\n",
    "    random_seed: int = 41\n",
    "\n",
    "    user_col: str = 'user_id'\n",
    "    item_col: str = 'parent_asin'\n",
    "    rating_col: str = 'rating'\n",
    "    timestamp_col: str = 'timestamp'\n",
    "    \n",
    "    top_K: int = 100\n",
    "    top_k: int = 10\n",
    "\n",
    "    batch_size: int = 128\n",
    "\n",
    "    learning_task: Literal[\"rating\", \"ranking\"] = \"ranking\"\n",
    "    num_negative_samples: int = 5\n",
    "    embedding_dim: int = 128\n",
    "    max_input_sequence_length: int = 5\n",
    "    learning_rate: float = 0.001\n",
    "\n",
    "    def init(self):\n",
    "        self.notebook_persist_dp = os.path.abspath(f\"data/{self.run_name}\")\n",
    "        \n",
    "        if not os.environ.get(\"MLFLOW_TRACKING_URI\"):\n",
    "            logger.warning(\n",
    "                f\"Environment variable MLFLOW_TRACKING_URI is not set. Setting self.log_to_mlflow to false.\"\n",
    "            )\n",
    "            self.log_to_mlflow = False\n",
    "\n",
    "        if self.log_to_mlflow:\n",
    "            logger.info(\n",
    "                f\"Setting up MLflow experiment {self.experiment_name} - run {self.run_name}...\"\n",
    "            )\n",
    "            import mlflow\n",
    "\n",
    "            mlflow.set_experiment(self.experiment_name)\n",
    "            mlflow.start_run(run_name=self.run_name)\n",
    "\n",
    "        return self\n",
    "    \n",
    "args = Args().init()\n",
    "\n",
    "print(args.model_dump_json(indent=2))"
   ]
  },
  {
   "cell_type": "markdown",
   "id": "a5acedcb-89e6-41c6-8969-bf3437fc7898",
   "metadata": {},
   "source": [
    "# Implement"
   ]
  },
  {
   "cell_type": "code",
   "execution_count": 4,
   "id": "d6053118-029e-4d7c-9c02-6f988508e643",
   "metadata": {},
   "outputs": [],
   "source": [
    "from src.train_utils import train, MetricLogCallback, MLflowLogCallback\n",
    "# from src.model import GRUPairwiseRanking as SequencePairwiseRanking, GRURatingPrediction as SequenceRatingPrediction\n",
    "from src.model import SequenceUserPairwiseRanking as SequencePairwiseRanking, SequenceUserRatingPrediction as SequenceRatingPrediction\n",
    "from torch.utils.data import DataLoader\n",
    "from src.dataset_loader import ItemSequenceDataset, ItemSequencePairwiseDataset"
   ]
  },
  {
   "cell_type": "code",
   "execution_count": 5,
   "id": "c97edc46-b10b-444d-8240-1ae2ae81c5d3",
   "metadata": {},
   "outputs": [],
   "source": [
    "def init_model():\n",
    "    if args.learning_task == 'ranking':\n",
    "        model = SequencePairwiseRanking(n_users, n_items, embedding_dim, max_input_sequence_length=max_input_sequence_length, device=device)\n",
    "    else:\n",
    "        model = SequenceRatingPrediction(n_users, n_items, embedding_dim, max_input_sequence_length=max_input_sequence_length, device=device)\n",
    "    return model"
   ]
  },
  {
   "cell_type": "code",
   "execution_count": 6,
   "id": "182f6ed4-bdd3-4703-b987-e67c44c94f1b",
   "metadata": {},
   "outputs": [
    {
     "name": "stderr",
     "output_type": "stream",
     "text": [
      "\u001b[32m2024-09-18 06:27:25.757\u001b[0m | \u001b[1mINFO    \u001b[0m | \u001b[36m__main__\u001b[0m:\u001b[36m<module>\u001b[0m:\u001b[36m9\u001b[0m - \u001b[1mUsing cuda device\u001b[0m\n"
     ]
    }
   ],
   "source": [
    "device = (\n",
    "    \"cuda\"\n",
    "    if torch.cuda.is_available()\n",
    "    # else \"mps\"\n",
    "    # if torch.backends.mps.is_available()\n",
    "    else \"cpu\"\n",
    ")\n",
    "# device = 'cpu'\n",
    "logger.info(f\"Using {device} device\")"
   ]
  },
  {
   "cell_type": "markdown",
   "id": "377a71da-1ee3-474c-b3f4-4488d2a45dd3",
   "metadata": {},
   "source": [
    "# Test implementation"
   ]
  },
  {
   "cell_type": "code",
   "execution_count": 7,
   "id": "ce5326d7-ec9d-422c-bbd8-03c837a23e1e",
   "metadata": {},
   "outputs": [
    {
     "name": "stdout",
     "output_type": "stream",
     "text": [
      "tensor([[0.2703]], device='cuda:0', grad_fn=<AddmmBackward0>)\n"
     ]
    }
   ],
   "source": [
    "embedding_dim = 8\n",
    "max_input_sequence_length = 5\n",
    "batch_size = 4\n",
    "\n",
    "# Mock data\n",
    "user_ids = [0, 0, 1, 2, 2]\n",
    "item_ids = [0, 1, 2, 3, 4]\n",
    "timestamps = [0, 1, 2, 3, 4]\n",
    "ratings = [1, 4, 5, 3, 2]\n",
    "val_timestamp = 5\n",
    "n_users = len(set(user_ids))\n",
    "n_items = len(set(item_ids))\n",
    "\n",
    "val_user_ids = [0, 1, 2]\n",
    "val_item_ids = [2, 1, 2]\n",
    "val_timestamps = [6, 7, 8]\n",
    "val_ratings = [2, 4, 5]\n",
    "\n",
    "model = init_model()\n",
    "\n",
    "# Example forward pass\n",
    "user = torch.tensor([0])\n",
    "input_sequence = torch.tensor([[0, 1]]) # simulate batch_size = 1\n",
    "target_item = torch.tensor([2])\n",
    "predictions = model.predict(user, input_sequence, target_item)\n",
    "print(predictions)"
   ]
  },
  {
   "cell_type": "code",
   "execution_count": 8,
   "id": "dbfd7650-caad-441e-911a-5dd786cc5ccb",
   "metadata": {},
   "outputs": [
    {
     "data": {
      "text/html": [
       "<div>\n",
       "<style scoped>\n",
       "    .dataframe tbody tr th:only-of-type {\n",
       "        vertical-align: middle;\n",
       "    }\n",
       "\n",
       "    .dataframe tbody tr th {\n",
       "        vertical-align: top;\n",
       "    }\n",
       "\n",
       "    .dataframe thead th {\n",
       "        text-align: right;\n",
       "    }\n",
       "</style>\n",
       "<table border=\"1\" class=\"dataframe\">\n",
       "  <thead>\n",
       "    <tr style=\"text-align: right;\">\n",
       "      <th></th>\n",
       "      <th>user_indice</th>\n",
       "      <th>item_indice</th>\n",
       "      <th>rating</th>\n",
       "      <th>timestamp</th>\n",
       "    </tr>\n",
       "  </thead>\n",
       "  <tbody>\n",
       "    <tr>\n",
       "      <th>0</th>\n",
       "      <td>0</td>\n",
       "      <td>0</td>\n",
       "      <td>1</td>\n",
       "      <td>0</td>\n",
       "    </tr>\n",
       "    <tr>\n",
       "      <th>1</th>\n",
       "      <td>0</td>\n",
       "      <td>1</td>\n",
       "      <td>4</td>\n",
       "      <td>1</td>\n",
       "    </tr>\n",
       "    <tr>\n",
       "      <th>2</th>\n",
       "      <td>1</td>\n",
       "      <td>2</td>\n",
       "      <td>5</td>\n",
       "      <td>2</td>\n",
       "    </tr>\n",
       "    <tr>\n",
       "      <th>3</th>\n",
       "      <td>2</td>\n",
       "      <td>3</td>\n",
       "      <td>3</td>\n",
       "      <td>3</td>\n",
       "    </tr>\n",
       "    <tr>\n",
       "      <th>4</th>\n",
       "      <td>2</td>\n",
       "      <td>4</td>\n",
       "      <td>2</td>\n",
       "      <td>4</td>\n",
       "    </tr>\n",
       "    <tr>\n",
       "      <th>5</th>\n",
       "      <td>0</td>\n",
       "      <td>2</td>\n",
       "      <td>2</td>\n",
       "      <td>6</td>\n",
       "    </tr>\n",
       "    <tr>\n",
       "      <th>6</th>\n",
       "      <td>1</td>\n",
       "      <td>1</td>\n",
       "      <td>4</td>\n",
       "      <td>7</td>\n",
       "    </tr>\n",
       "    <tr>\n",
       "      <th>7</th>\n",
       "      <td>2</td>\n",
       "      <td>2</td>\n",
       "      <td>5</td>\n",
       "      <td>8</td>\n",
       "    </tr>\n",
       "  </tbody>\n",
       "</table>\n",
       "</div>"
      ],
      "text/plain": [
       "   user_indice  item_indice  rating  timestamp\n",
       "0            0            0       1          0\n",
       "1            0            1       4          1\n",
       "2            1            2       5          2\n",
       "3            2            3       3          3\n",
       "4            2            4       2          4\n",
       "5            0            2       2          6\n",
       "6            1            1       4          7\n",
       "7            2            2       5          8"
      ]
     },
     "execution_count": 8,
     "metadata": {},
     "output_type": "execute_result"
    }
   ],
   "source": [
    "full_df = pd.DataFrame({\n",
    "    \"user_indice\": user_ids + val_user_ids,\n",
    "    \"item_indice\": item_ids + val_item_ids,\n",
    "    args.rating_col: ratings + val_ratings,\n",
    "    args.timestamp_col: timestamps + val_timestamps,\n",
    "})\n",
    "full_df"
   ]
  },
  {
   "cell_type": "code",
   "execution_count": 9,
   "id": "ff7e6d50-d797-406d-b023-a979dd0f5980",
   "metadata": {
    "scrolled": true
   },
   "outputs": [
    {
     "name": "stdout",
     "output_type": "stream",
     "text": [
      "Mock User IDs: [0, 0, 1, 2, 2]\n",
      "Mock Item IDs: [0, 1, 2, 3, 4]\n",
      "Ratings: [1, 4, 5, 3, 2]\n"
     ]
    }
   ],
   "source": [
    "import random\n",
    "import numpy as np\n",
    "\n",
    "# Display mock dataset\n",
    "print(\"Mock User IDs:\", user_ids)\n",
    "print(\"Mock Item IDs:\", item_ids)\n",
    "print(\"Ratings:\", ratings)\n",
    "\n",
    "if args.learning_task == 'ranking':\n",
    "    rating_dataset = ItemSequencePairwiseDataset(\n",
    "        full_df,\n",
    "        \"user_indice\",\n",
    "        \"item_indice\",\n",
    "        args.rating_col,\n",
    "        args.timestamp_col,\n",
    "        val_timestamp=val_timestamp,\n",
    "        is_train=True,\n",
    "        max_input_sequence_length=args.max_input_sequence_length,\n",
    "        num_negative_samples=2,\n",
    "    )\n",
    "    val_rating_dataset = ItemSequencePairwiseDataset(\n",
    "        full_df,\n",
    "        \"user_indice\",\n",
    "        \"item_indice\",\n",
    "        args.rating_col,\n",
    "        args.timestamp_col,\n",
    "        val_timestamp=val_timestamp,\n",
    "        is_train=False,\n",
    "        max_input_sequence_length=args.max_input_sequence_length,\n",
    "        num_negative_samples=2,\n",
    "    )\n",
    "else:\n",
    "    rating_dataset = ItemSequenceDataset(\n",
    "        full_df,\n",
    "        'user_indice',\n",
    "        'item_indice',\n",
    "        'rating',\n",
    "        'timestamp',\n",
    "        val_timestamp=val_timestamp,\n",
    "        is_train=True\n",
    "    )    \n",
    "    val_rating_dataset = ItemSequenceDataset(\n",
    "        full_df,\n",
    "        'user_indice',\n",
    "        'item_indice',\n",
    "        'rating',\n",
    "        'timestamp',\n",
    "        val_timestamp=val_timestamp,\n",
    "        is_train=False\n",
    "    )\n",
    "\n",
    "dataloader = DataLoader(rating_dataset, batch_size=batch_size, shuffle=True)\n",
    "val_dataloader = DataLoader(val_rating_dataset, batch_size=batch_size, shuffle=True)"
   ]
  },
  {
   "cell_type": "code",
   "execution_count": 10,
   "id": "0297856d-e6c9-4ae9-813d-8dce4d7cfece",
   "metadata": {},
   "outputs": [
    {
     "name": "stdout",
     "output_type": "stream",
     "text": [
      "{'user_indice': tensor([1, 2, 0, 0]), 'item_sequence': tensor([[-1, -1, -1, -1, -1],\n",
      "        [-1, -1, -1, -1, -1],\n",
      "        [-1, -1, -1, -1,  0],\n",
      "        [-1, -1, -1, -1, -1]]), 'target': tensor([2, 3, 1, 0]), 'rating': tensor([5., 3., 4., 1.]), 'neg_items': tensor([[4, 0],\n",
      "        [1, 0],\n",
      "        [0, 3],\n",
      "        [4, 3]]), 'labels': tensor([[5., 5.],\n",
      "        [3., 3.],\n",
      "        [3., 4.],\n",
      "        [1., 1.]]), 'pos_item_metadata': tensor([], size=(4, 0)), 'neg_item_metadata': tensor([], size=(4, 0))}\n",
      "{'user_indice': tensor([2]), 'item_sequence': tensor([[-1, -1, -1, -1,  3]]), 'target': tensor([4]), 'rating': tensor([2.]), 'neg_items': tensor([[1, 0]]), 'labels': tensor([[2., 2.]]), 'pos_item_metadata': tensor([], size=(1, 0)), 'neg_item_metadata': tensor([], size=(1, 0))}\n"
     ]
    }
   ],
   "source": [
    "for batch_input in dataloader:\n",
    "    print(batch_input)"
   ]
  },
  {
   "cell_type": "code",
   "execution_count": 11,
   "id": "bfe70bdb-2040-4d21-b16a-53f4bb0b26be",
   "metadata": {
    "scrolled": true
   },
   "outputs": [
    {
     "data": {
      "application/vnd.jupyter.widget-view+json": {
       "model_id": "55b442840fd140809df85421ae7db961",
       "version_major": 2,
       "version_minor": 0
      },
      "text/plain": [
       "Epochs:   0%|          | 0/50 [00:00<?, ?it/s]"
      ]
     },
     "metadata": {},
     "output_type": "display_data"
    },
    {
     "data": {
      "application/vnd.jupyter.widget-view+json": {
       "model_id": "",
       "version_major": 2,
       "version_minor": 0
      },
      "text/plain": [
       "Training Epoch 1:   0%|          | 0/2 [00:00<?, ?it/s]"
      ]
     },
     "metadata": {},
     "output_type": "display_data"
    },
    {
     "name": "stderr",
     "output_type": "stream",
     "text": [
      "\u001b[32m2024-09-18 06:27:28.943\u001b[0m | \u001b[1mINFO    \u001b[0m | \u001b[36msrc.train_utils\u001b[0m:\u001b[36mtrain\u001b[0m:\u001b[36m161\u001b[0m - \u001b[1mStep 1, Global Loss: 0.9770\u001b[0m\n",
      "\u001b[32m2024-09-18 06:27:28.944\u001b[0m | \u001b[1mINFO    \u001b[0m | \u001b[36msrc.train_utils\u001b[0m:\u001b[36mtrain\u001b[0m:\u001b[36m164\u001b[0m - \u001b[1mStep 1, Learning Rate: 0.001000\u001b[0m\n",
      "\u001b[32m2024-09-18 06:27:28.945\u001b[0m | \u001b[1mINFO    \u001b[0m | \u001b[36msrc.train_utils\u001b[0m:\u001b[36mtrain\u001b[0m:\u001b[36m167\u001b[0m - \u001b[1mStep 1, Gradient Norms: {'grad_norm_item_embedding.weight': 0.34048643708229065, 'grad_norm_user_embedding.weight': 0.1401926875114441, 'grad_norm_fc_rating.0.weight': 2.2439517974853516, 'grad_norm_fc_rating.0.bias': 0.4760269820690155, 'grad_norm_fc_rating.3.weight': 0.9475918412208557, 'grad_norm_fc_rating.3.bias': 0.0, 'total_grad_norm': 2.5090708754661515}\u001b[0m\n",
      "\u001b[32m2024-09-18 06:27:28.957\u001b[0m | \u001b[1mINFO    \u001b[0m | \u001b[36msrc.train_utils\u001b[0m:\u001b[36mtrain\u001b[0m:\u001b[36m161\u001b[0m - \u001b[1mStep 2, Global Loss: 1.1417\u001b[0m\n",
      "\u001b[32m2024-09-18 06:27:28.958\u001b[0m | \u001b[1mINFO    \u001b[0m | \u001b[36msrc.train_utils\u001b[0m:\u001b[36mtrain\u001b[0m:\u001b[36m164\u001b[0m - \u001b[1mStep 2, Learning Rate: 0.001000\u001b[0m\n",
      "\u001b[32m2024-09-18 06:27:28.959\u001b[0m | \u001b[1mINFO    \u001b[0m | \u001b[36msrc.train_utils\u001b[0m:\u001b[36mtrain\u001b[0m:\u001b[36m167\u001b[0m - \u001b[1mStep 2, Gradient Norms: {'grad_norm_item_embedding.weight': 0.9959349036216736, 'grad_norm_user_embedding.weight': 0.5277839303016663, 'grad_norm_fc_rating.0.weight': 7.3189873695373535, 'grad_norm_fc_rating.0.bias': 1.1734380722045898, 'grad_norm_fc_rating.3.weight': 2.196401596069336, 'grad_norm_fc_rating.3.bias': 0.0, 'total_grad_norm': 7.812755928947163}\u001b[0m\n",
      "\u001b[32m2024-09-18 06:27:28.961\u001b[0m | \u001b[1mINFO    \u001b[0m | \u001b[36msrc.train_utils\u001b[0m:\u001b[36mtrain\u001b[0m:\u001b[36m179\u001b[0m - \u001b[1mEpoch 1, Loss: 1.1417\u001b[0m\n",
      "\u001b[32m2024-09-18 06:27:28.973\u001b[0m | \u001b[1mINFO    \u001b[0m | \u001b[36msrc.train_utils\u001b[0m:\u001b[36mtrain\u001b[0m:\u001b[36m191\u001b[0m - \u001b[1mEpoch 1, Validation Loss: 1.1716\u001b[0m\n",
      "\u001b[32m2024-09-18 06:27:28.973\u001b[0m | \u001b[1mINFO    \u001b[0m | \u001b[36msrc.train_utils\u001b[0m:\u001b[36mtrain\u001b[0m:\u001b[36m207\u001b[0m - \u001b[1mEpoch 1 time: 0.47 seconds\u001b[0m\n"
     ]
    },
    {
     "data": {
      "application/vnd.jupyter.widget-view+json": {
       "model_id": "",
       "version_major": 2,
       "version_minor": 0
      },
      "text/plain": [
       "Training Epoch 2:   0%|          | 0/2 [00:00<?, ?it/s]"
      ]
     },
     "metadata": {},
     "output_type": "display_data"
    },
    {
     "name": "stderr",
     "output_type": "stream",
     "text": [
      "\u001b[32m2024-09-18 06:27:28.998\u001b[0m | \u001b[1mINFO    \u001b[0m | \u001b[36msrc.train_utils\u001b[0m:\u001b[36mtrain\u001b[0m:\u001b[36m161\u001b[0m - \u001b[1mStep 3, Global Loss: 0.9837\u001b[0m\n",
      "\u001b[32m2024-09-18 06:27:28.998\u001b[0m | \u001b[1mINFO    \u001b[0m | \u001b[36msrc.train_utils\u001b[0m:\u001b[36mtrain\u001b[0m:\u001b[36m164\u001b[0m - \u001b[1mStep 3, Learning Rate: 0.001000\u001b[0m\n",
      "\u001b[32m2024-09-18 06:27:28.999\u001b[0m | \u001b[1mINFO    \u001b[0m | \u001b[36msrc.train_utils\u001b[0m:\u001b[36mtrain\u001b[0m:\u001b[36m167\u001b[0m - \u001b[1mStep 3, Gradient Norms: {'grad_norm_item_embedding.weight': 0.3038548529148102, 'grad_norm_user_embedding.weight': 0.28274211287498474, 'grad_norm_fc_rating.0.weight': 3.140876054763794, 'grad_norm_fc_rating.0.bias': 0.3895033299922943, 'grad_norm_fc_rating.3.weight': 1.5145330429077148, 'grad_norm_fc_rating.3.bias': 0.0, 'total_grad_norm': 3.5331142703790173}\u001b[0m\n",
      "\u001b[32m2024-09-18 06:27:29.008\u001b[0m | \u001b[1mINFO    \u001b[0m | \u001b[36msrc.train_utils\u001b[0m:\u001b[36mtrain\u001b[0m:\u001b[36m161\u001b[0m - \u001b[1mStep 4, Global Loss: 0.7313\u001b[0m\n",
      "\u001b[32m2024-09-18 06:27:29.009\u001b[0m | \u001b[1mINFO    \u001b[0m | \u001b[36msrc.train_utils\u001b[0m:\u001b[36mtrain\u001b[0m:\u001b[36m164\u001b[0m - \u001b[1mStep 4, Learning Rate: 0.001000\u001b[0m\n",
      "\u001b[32m2024-09-18 06:27:29.009\u001b[0m | \u001b[1mINFO    \u001b[0m | \u001b[36msrc.train_utils\u001b[0m:\u001b[36mtrain\u001b[0m:\u001b[36m167\u001b[0m - \u001b[1mStep 4, Gradient Norms: {'grad_norm_item_embedding.weight': 0.19782298803329468, 'grad_norm_user_embedding.weight': 0.14931583404541016, 'grad_norm_fc_rating.0.weight': 2.3031833171844482, 'grad_norm_fc_rating.0.bias': 0.35480111837387085, 'grad_norm_fc_rating.3.weight': 1.3215595483779907, 'grad_norm_fc_rating.3.bias': 0.0, 'total_grad_norm': 2.6904434613937243}\u001b[0m\n",
      "\u001b[32m2024-09-18 06:27:29.011\u001b[0m | \u001b[1mINFO    \u001b[0m | \u001b[36msrc.train_utils\u001b[0m:\u001b[36mtrain\u001b[0m:\u001b[36m179\u001b[0m - \u001b[1mEpoch 2, Loss: 0.7313\u001b[0m\n",
      "\u001b[32m2024-09-18 06:27:29.021\u001b[0m | \u001b[1mINFO    \u001b[0m | \u001b[36msrc.train_utils\u001b[0m:\u001b[36mtrain\u001b[0m:\u001b[36m191\u001b[0m - \u001b[1mEpoch 2, Validation Loss: 1.3945\u001b[0m\n",
      "\u001b[32m2024-09-18 06:27:29.022\u001b[0m | \u001b[1mINFO    \u001b[0m | \u001b[36msrc.train_utils\u001b[0m:\u001b[36mtrain\u001b[0m:\u001b[36m207\u001b[0m - \u001b[1mEpoch 2 time: 0.05 seconds\u001b[0m\n"
     ]
    },
    {
     "data": {
      "application/vnd.jupyter.widget-view+json": {
       "model_id": "",
       "version_major": 2,
       "version_minor": 0
      },
      "text/plain": [
       "Training Epoch 3:   0%|          | 0/2 [00:00<?, ?it/s]"
      ]
     },
     "metadata": {},
     "output_type": "display_data"
    },
    {
     "name": "stderr",
     "output_type": "stream",
     "text": [
      "\u001b[32m2024-09-18 06:27:29.045\u001b[0m | \u001b[1mINFO    \u001b[0m | \u001b[36msrc.train_utils\u001b[0m:\u001b[36mtrain\u001b[0m:\u001b[36m161\u001b[0m - \u001b[1mStep 5, Global Loss: 0.8093\u001b[0m\n",
      "\u001b[32m2024-09-18 06:27:29.046\u001b[0m | \u001b[1mINFO    \u001b[0m | \u001b[36msrc.train_utils\u001b[0m:\u001b[36mtrain\u001b[0m:\u001b[36m164\u001b[0m - \u001b[1mStep 5, Learning Rate: 0.001000\u001b[0m\n",
      "\u001b[32m2024-09-18 06:27:29.047\u001b[0m | \u001b[1mINFO    \u001b[0m | \u001b[36msrc.train_utils\u001b[0m:\u001b[36mtrain\u001b[0m:\u001b[36m167\u001b[0m - \u001b[1mStep 5, Gradient Norms: {'grad_norm_item_embedding.weight': 0.21851514279842377, 'grad_norm_user_embedding.weight': 0.24283650517463684, 'grad_norm_fc_rating.0.weight': 2.4859731197357178, 'grad_norm_fc_rating.0.bias': 0.6722594499588013, 'grad_norm_fc_rating.3.weight': 0.6974145174026489, 'grad_norm_fc_rating.3.bias': 0.0, 'total_grad_norm': 2.687954717823398}\u001b[0m\n",
      "\u001b[32m2024-09-18 06:27:29.056\u001b[0m | \u001b[1mINFO    \u001b[0m | \u001b[36msrc.train_utils\u001b[0m:\u001b[36mtrain\u001b[0m:\u001b[36m161\u001b[0m - \u001b[1mStep 6, Global Loss: 2.0070\u001b[0m\n",
      "\u001b[32m2024-09-18 06:27:29.057\u001b[0m | \u001b[1mINFO    \u001b[0m | \u001b[36msrc.train_utils\u001b[0m:\u001b[36mtrain\u001b[0m:\u001b[36m164\u001b[0m - \u001b[1mStep 6, Learning Rate: 0.001000\u001b[0m\n",
      "\u001b[32m2024-09-18 06:27:29.057\u001b[0m | \u001b[1mINFO    \u001b[0m | \u001b[36msrc.train_utils\u001b[0m:\u001b[36mtrain\u001b[0m:\u001b[36m167\u001b[0m - \u001b[1mStep 6, Gradient Norms: {'grad_norm_item_embedding.weight': 1.2734038829803467, 'grad_norm_user_embedding.weight': 0.8736910820007324, 'grad_norm_fc_rating.0.weight': 8.82526683807373, 'grad_norm_fc_rating.0.bias': 2.0923662185668945, 'grad_norm_fc_rating.3.weight': 6.799179553985596, 'grad_norm_fc_rating.3.bias': 0.0, 'total_grad_norm': 11.440151542663088}\u001b[0m\n",
      "\u001b[32m2024-09-18 06:27:29.059\u001b[0m | \u001b[1mINFO    \u001b[0m | \u001b[36msrc.train_utils\u001b[0m:\u001b[36mtrain\u001b[0m:\u001b[36m179\u001b[0m - \u001b[1mEpoch 3, Loss: 2.0070\u001b[0m\n",
      "\u001b[32m2024-09-18 06:27:29.070\u001b[0m | \u001b[1mINFO    \u001b[0m | \u001b[36msrc.train_utils\u001b[0m:\u001b[36mtrain\u001b[0m:\u001b[36m191\u001b[0m - \u001b[1mEpoch 3, Validation Loss: 1.1909\u001b[0m\n",
      "\u001b[32m2024-09-18 06:27:29.071\u001b[0m | \u001b[1mINFO    \u001b[0m | \u001b[36msrc.train_utils\u001b[0m:\u001b[36mtrain\u001b[0m:\u001b[36m201\u001b[0m - \u001b[1mEarly stopping at epoch 3\u001b[0m\n",
      "\u001b[32m2024-09-18 06:27:29.072\u001b[0m | \u001b[1mINFO    \u001b[0m | \u001b[36msrc.train_utils\u001b[0m:\u001b[36mtrain\u001b[0m:\u001b[36m207\u001b[0m - \u001b[1mEpoch 3 time: 0.05 seconds\u001b[0m\n",
      "\u001b[32m2024-09-18 06:27:29.073\u001b[0m | \u001b[1mINFO    \u001b[0m | \u001b[36msrc.train_utils\u001b[0m:\u001b[36mtrain\u001b[0m:\u001b[36m217\u001b[0m - \u001b[1mTotal training time: 0.57 seconds\u001b[0m\n",
      "\u001b[32m2024-09-18 06:27:29.074\u001b[0m | \u001b[1mINFO    \u001b[0m | \u001b[36msrc.train_utils\u001b[0m:\u001b[36mtrain\u001b[0m:\u001b[36m218\u001b[0m - \u001b[1mAverage training time per epoch: 0.19 seconds\u001b[0m\n"
     ]
    }
   ],
   "source": [
    "# Training loop\n",
    "n_epochs = 50\n",
    "\n",
    "train(model, dataloader, val_dataloader, epochs=n_epochs, patience=2, print_steps=1, lr=0.001, device=device, progress_bar_type='tqdm_notebook')"
   ]
  },
  {
   "cell_type": "markdown",
   "id": "170dec89-a874-4dce-8f94-07d978fcc5b8",
   "metadata": {},
   "source": [
    "# Prep data"
   ]
  },
  {
   "cell_type": "code",
   "execution_count": 12,
   "id": "b0d4bfbb-f3bb-40bc-ae22-23e8d8f9d092",
   "metadata": {},
   "outputs": [],
   "source": [
    "from src.id_mapper import IDMapper\n",
    "from src.train_utils import map_indice"
   ]
  },
  {
   "cell_type": "code",
   "execution_count": 13,
   "id": "83803362-5eaa-40bb-b28b-878316d5db5d",
   "metadata": {
    "scrolled": true
   },
   "outputs": [],
   "source": [
    "train_df = pd.read_parquet(\"../data/train.parquet\")\n",
    "val_df = pd.read_parquet(\"../data/val.parquet\")\n",
    "val_timestamp = 1628643414042  # https://amazon-reviews-2023.github.io/data_processing/5core.html\n",
    "full_df = pd.concat([train_df, val_df], axis=0)"
   ]
  },
  {
   "cell_type": "code",
   "execution_count": 14,
   "id": "948f45f4-41d6-425f-a148-a8e40f9b2654",
   "metadata": {},
   "outputs": [],
   "source": [
    "user_col = 'user_id'\n",
    "item_col = 'parent_asin'\n",
    "timestamp_col = 'timestamp' \n",
    "rating_col = 'rating'"
   ]
  },
  {
   "cell_type": "code",
   "execution_count": 15,
   "id": "17d6c998-5fc4-43f7-8e19-0f469bb0374b",
   "metadata": {},
   "outputs": [
    {
     "name": "stderr",
     "output_type": "stream",
     "text": [
      "\u001b[32m2024-09-18 06:27:29.298\u001b[0m | \u001b[1mINFO    \u001b[0m | \u001b[36m__main__\u001b[0m:\u001b[36m<module>\u001b[0m:\u001b[36m6\u001b[0m - \u001b[1mlen(unique_user_ids)=2,000, len(unique_item_ids)=24,723\u001b[0m\n"
     ]
    }
   ],
   "source": [
    "user_ids = full_df['user_id'].values\n",
    "item_ids = full_df['parent_asin'].values\n",
    "unique_user_ids = list(set(user_ids))\n",
    "unique_item_ids = list(set(item_ids))\n",
    "\n",
    "logger.info(f\"{len(unique_user_ids)=:,.0f}, {len(unique_item_ids)=:,.0f}\")"
   ]
  },
  {
   "cell_type": "code",
   "execution_count": 16,
   "id": "d652b08a-bdeb-485a-9700-39651c225241",
   "metadata": {},
   "outputs": [],
   "source": [
    "idm = IDMapper()\n",
    "idm.fit(unique_user_ids, unique_item_ids)"
   ]
  },
  {
   "cell_type": "code",
   "execution_count": 17,
   "id": "198589d7-0137-47d2-979f-ce5693f04bcd",
   "metadata": {},
   "outputs": [],
   "source": [
    "train_df = train_df.pipe(map_indice, idm)\n",
    "val_df = val_df.pipe(map_indice, idm)\n",
    "full_df = full_df.pipe(map_indice, idm)\n",
    "\n",
    "if args.learning_task == 'rating':\n",
    "    user_indices = [idm.get_user_index(user_id) for user_id in user_ids]\n",
    "    item_indices = [idm.get_item_index(item_id) for item_id in item_ids]\n",
    "    ratings = train_df[rating_col].values.tolist()\n",
    "\n",
    "    val_user_indices = [idm.get_user_index(user_id) for user_id in val_df[user_col]]\n",
    "    val_item_indices = [idm.get_item_index(item_id) for item_id in val_df[item_col]]\n",
    "    val_ratings = val_df[rating_col].values.tolist()"
   ]
  },
  {
   "cell_type": "markdown",
   "id": "5260fbe7-2f90-44a1-be74-ce5db9b511ee",
   "metadata": {},
   "source": [
    "# Train"
   ]
  },
  {
   "cell_type": "code",
   "execution_count": 18,
   "id": "4e6645ae-23be-4db3-9352-de66dcbace1d",
   "metadata": {},
   "outputs": [
    {
     "data": {
      "text/html": [
       "<div>\n",
       "<style scoped>\n",
       "    .dataframe tbody tr th:only-of-type {\n",
       "        vertical-align: middle;\n",
       "    }\n",
       "\n",
       "    .dataframe tbody tr th {\n",
       "        vertical-align: top;\n",
       "    }\n",
       "\n",
       "    .dataframe thead th {\n",
       "        text-align: right;\n",
       "    }\n",
       "</style>\n",
       "<table border=\"1\" class=\"dataframe\">\n",
       "  <thead>\n",
       "    <tr style=\"text-align: right;\">\n",
       "      <th></th>\n",
       "      <th>user_id</th>\n",
       "      <th>parent_asin</th>\n",
       "      <th>rating</th>\n",
       "      <th>timestamp</th>\n",
       "      <th>user_indice</th>\n",
       "      <th>item_indice</th>\n",
       "    </tr>\n",
       "  </thead>\n",
       "  <tbody>\n",
       "    <tr>\n",
       "      <th>23</th>\n",
       "      <td>AHXBL3QDWZGJYH7A5CMPFNUPMF7Q</td>\n",
       "      <td>0920668372</td>\n",
       "      <td>5.0</td>\n",
       "      <td>1430056169000</td>\n",
       "      <td>925</td>\n",
       "      <td>9969</td>\n",
       "    </tr>\n",
       "    <tr>\n",
       "      <th>24</th>\n",
       "      <td>AHXBL3QDWZGJYH7A5CMPFNUPMF7Q</td>\n",
       "      <td>1589255208</td>\n",
       "      <td>5.0</td>\n",
       "      <td>1443926150000</td>\n",
       "      <td>925</td>\n",
       "      <td>5390</td>\n",
       "    </tr>\n",
       "    <tr>\n",
       "      <th>25</th>\n",
       "      <td>AHXBL3QDWZGJYH7A5CMPFNUPMF7Q</td>\n",
       "      <td>2764322836</td>\n",
       "      <td>5.0</td>\n",
       "      <td>1463967052000</td>\n",
       "      <td>925</td>\n",
       "      <td>9390</td>\n",
       "    </tr>\n",
       "    <tr>\n",
       "      <th>26</th>\n",
       "      <td>AHXBL3QDWZGJYH7A5CMPFNUPMF7Q</td>\n",
       "      <td>2764330898</td>\n",
       "      <td>5.0</td>\n",
       "      <td>1489085694000</td>\n",
       "      <td>925</td>\n",
       "      <td>23852</td>\n",
       "    </tr>\n",
       "    <tr>\n",
       "      <th>27</th>\n",
       "      <td>AHXBL3QDWZGJYH7A5CMPFNUPMF7Q</td>\n",
       "      <td>0062380761</td>\n",
       "      <td>5.0</td>\n",
       "      <td>1526591330983</td>\n",
       "      <td>925</td>\n",
       "      <td>1043</td>\n",
       "    </tr>\n",
       "    <tr>\n",
       "      <th>...</th>\n",
       "      <td>...</td>\n",
       "      <td>...</td>\n",
       "      <td>...</td>\n",
       "      <td>...</td>\n",
       "      <td>...</td>\n",
       "      <td>...</td>\n",
       "    </tr>\n",
       "    <tr>\n",
       "      <th>422078</th>\n",
       "      <td>AF7F5V4G3SWPRIKQEATNV7WACR6A</td>\n",
       "      <td>0062915320</td>\n",
       "      <td>5.0</td>\n",
       "      <td>1638675622205</td>\n",
       "      <td>1247</td>\n",
       "      <td>13203</td>\n",
       "    </tr>\n",
       "    <tr>\n",
       "      <th>422346</th>\n",
       "      <td>AF2T4ZDAXUTFGFFRDG5GA5BWQXRA</td>\n",
       "      <td>1733090312</td>\n",
       "      <td>4.0</td>\n",
       "      <td>1630014011916</td>\n",
       "      <td>311</td>\n",
       "      <td>18514</td>\n",
       "    </tr>\n",
       "    <tr>\n",
       "      <th>422347</th>\n",
       "      <td>AF2T4ZDAXUTFGFFRDG5GA5BWQXRA</td>\n",
       "      <td>1501128035</td>\n",
       "      <td>4.0</td>\n",
       "      <td>1630014353678</td>\n",
       "      <td>311</td>\n",
       "      <td>10699</td>\n",
       "    </tr>\n",
       "    <tr>\n",
       "      <th>423566</th>\n",
       "      <td>AG3A7NFV7ZKBXWF6FV3VMF6CK3BA</td>\n",
       "      <td>1101930926</td>\n",
       "      <td>5.0</td>\n",
       "      <td>1637012094603</td>\n",
       "      <td>974</td>\n",
       "      <td>20780</td>\n",
       "    </tr>\n",
       "    <tr>\n",
       "      <th>425440</th>\n",
       "      <td>AFM4K7CAFB2KE6BHWQSS7KEHTWLA</td>\n",
       "      <td>0452282314</td>\n",
       "      <td>5.0</td>\n",
       "      <td>1643339582810</td>\n",
       "      <td>956</td>\n",
       "      <td>9418</td>\n",
       "    </tr>\n",
       "  </tbody>\n",
       "</table>\n",
       "<p>31272 rows × 6 columns</p>\n",
       "</div>"
      ],
      "text/plain": [
       "                             user_id parent_asin  rating      timestamp  \\\n",
       "23      AHXBL3QDWZGJYH7A5CMPFNUPMF7Q  0920668372     5.0  1430056169000   \n",
       "24      AHXBL3QDWZGJYH7A5CMPFNUPMF7Q  1589255208     5.0  1443926150000   \n",
       "25      AHXBL3QDWZGJYH7A5CMPFNUPMF7Q  2764322836     5.0  1463967052000   \n",
       "26      AHXBL3QDWZGJYH7A5CMPFNUPMF7Q  2764330898     5.0  1489085694000   \n",
       "27      AHXBL3QDWZGJYH7A5CMPFNUPMF7Q  0062380761     5.0  1526591330983   \n",
       "...                              ...         ...     ...            ...   \n",
       "422078  AF7F5V4G3SWPRIKQEATNV7WACR6A  0062915320     5.0  1638675622205   \n",
       "422346  AF2T4ZDAXUTFGFFRDG5GA5BWQXRA  1733090312     4.0  1630014011916   \n",
       "422347  AF2T4ZDAXUTFGFFRDG5GA5BWQXRA  1501128035     4.0  1630014353678   \n",
       "423566  AG3A7NFV7ZKBXWF6FV3VMF6CK3BA  1101930926     5.0  1637012094603   \n",
       "425440  AFM4K7CAFB2KE6BHWQSS7KEHTWLA  0452282314     5.0  1643339582810   \n",
       "\n",
       "        user_indice  item_indice  \n",
       "23              925         9969  \n",
       "24              925         5390  \n",
       "25              925         9390  \n",
       "26              925        23852  \n",
       "27              925         1043  \n",
       "...             ...          ...  \n",
       "422078         1247        13203  \n",
       "422346          311        18514  \n",
       "422347          311        10699  \n",
       "423566          974        20780  \n",
       "425440          956         9418  \n",
       "\n",
       "[31272 rows x 6 columns]"
      ]
     },
     "execution_count": 18,
     "metadata": {},
     "output_type": "execute_result"
    }
   ],
   "source": [
    "full_df"
   ]
  },
  {
   "cell_type": "code",
   "execution_count": 19,
   "id": "240a04ed-8898-443f-b0f4-7399bfa63810",
   "metadata": {},
   "outputs": [],
   "source": [
    "batch_size = args.batch_size\n",
    "\n",
    "if args.learning_task == 'ranking':\n",
    "    rating_dataset = ItemSequencePairwiseDataset(\n",
    "        full_df,\n",
    "        \"user_indice\",\n",
    "        \"item_indice\",\n",
    "        args.rating_col,\n",
    "        args.timestamp_col,\n",
    "        val_timestamp=val_timestamp,\n",
    "        is_train=True,\n",
    "        max_input_sequence_length=args.max_input_sequence_length,\n",
    "        num_negative_samples=args.num_negative_samples,\n",
    "    )\n",
    "    val_rating_dataset = ItemSequencePairwiseDataset(\n",
    "        full_df,\n",
    "        \"user_indice\",\n",
    "        \"item_indice\",\n",
    "        args.rating_col,\n",
    "        args.timestamp_col,\n",
    "        val_timestamp=val_timestamp,\n",
    "        is_train=False,\n",
    "        max_input_sequence_length=args.max_input_sequence_length,\n",
    "        num_negative_samples=args.num_negative_samples,\n",
    "    )\n",
    "else:\n",
    "    rating_dataset = ItemSequenceDataset(\n",
    "        full_df,\n",
    "        'user_id',\n",
    "        'item_id',\n",
    "        'rating',\n",
    "        'timestamp',\n",
    "        val_timestamp=val_timestamp,\n",
    "        is_train=True\n",
    "    )    \n",
    "    val_rating_dataset = ItemSequenceDataset(\n",
    "        full_df,\n",
    "        'user_id',\n",
    "        'item_id',\n",
    "        'rating',\n",
    "        'timestamp',\n",
    "        val_timestamp=val_timestamp,\n",
    "        is_train=False\n",
    "    )\n",
    "\n",
    "dataloader = DataLoader(rating_dataset, batch_size=batch_size, shuffle=True)\n",
    "val_dataloader = DataLoader(val_rating_dataset, batch_size=batch_size, shuffle=True)"
   ]
  },
  {
   "cell_type": "code",
   "execution_count": 20,
   "id": "22dcf157-425f-4d15-9b53-e1ff93887def",
   "metadata": {
    "scrolled": true
   },
   "outputs": [],
   "source": [
    "embedding_dim = args.embedding_dim\n",
    "max_input_sequence_length = args.max_input_sequence_length\n",
    "n_items = len(unique_item_ids)\n",
    "n_users = len(unique_user_ids)\n",
    "\n",
    "model = init_model()"
   ]
  },
  {
   "cell_type": "markdown",
   "id": "b8cbb2a8-a578-4ad2-941e-efd01d930336",
   "metadata": {},
   "source": [
    "#### Predict before train"
   ]
  },
  {
   "cell_type": "code",
   "execution_count": 21,
   "id": "acd70341-2f64-4176-af75-a078313306f6",
   "metadata": {},
   "outputs": [
    {
     "data": {
      "text/html": [
       "<div>\n",
       "<style scoped>\n",
       "    .dataframe tbody tr th:only-of-type {\n",
       "        vertical-align: middle;\n",
       "    }\n",
       "\n",
       "    .dataframe tbody tr th {\n",
       "        vertical-align: top;\n",
       "    }\n",
       "\n",
       "    .dataframe thead th {\n",
       "        text-align: right;\n",
       "    }\n",
       "</style>\n",
       "<table border=\"1\" class=\"dataframe\">\n",
       "  <thead>\n",
       "    <tr style=\"text-align: right;\">\n",
       "      <th></th>\n",
       "      <th>user_id</th>\n",
       "      <th>parent_asin</th>\n",
       "      <th>rating</th>\n",
       "      <th>timestamp</th>\n",
       "      <th>user_indice</th>\n",
       "      <th>item_indice</th>\n",
       "    </tr>\n",
       "  </thead>\n",
       "  <tbody>\n",
       "    <tr>\n",
       "      <th>4</th>\n",
       "      <td>AHXBL3QDWZGJYH7A5CMPFNUPMF7Q</td>\n",
       "      <td>0451450523</td>\n",
       "      <td>2.0</td>\n",
       "      <td>1635710722120</td>\n",
       "      <td>925</td>\n",
       "      <td>21664</td>\n",
       "    </tr>\n",
       "    <tr>\n",
       "      <th>293</th>\n",
       "      <td>AFG6YQ3GOY7TVFKQ3SKDVS6Q6RDQ</td>\n",
       "      <td>B08CV9SPDQ</td>\n",
       "      <td>4.0</td>\n",
       "      <td>1635609140286</td>\n",
       "      <td>1566</td>\n",
       "      <td>4725</td>\n",
       "    </tr>\n",
       "    <tr>\n",
       "      <th>294</th>\n",
       "      <td>AFG6YQ3GOY7TVFKQ3SKDVS6Q6RDQ</td>\n",
       "      <td>B07R3QYGHY</td>\n",
       "      <td>4.0</td>\n",
       "      <td>1657998389024</td>\n",
       "      <td>1566</td>\n",
       "      <td>12891</td>\n",
       "    </tr>\n",
       "    <tr>\n",
       "      <th>763</th>\n",
       "      <td>AFBXVB2GIANS2DHWDK3HXISL2WEA</td>\n",
       "      <td>1291332162</td>\n",
       "      <td>5.0</td>\n",
       "      <td>1651000430747</td>\n",
       "      <td>496</td>\n",
       "      <td>13967</td>\n",
       "    </tr>\n",
       "    <tr>\n",
       "      <th>1205</th>\n",
       "      <td>AGSGLHB6G6QSTSIXWRD6ZZ7V5VZA</td>\n",
       "      <td>B0C8GJYMNH</td>\n",
       "      <td>5.0</td>\n",
       "      <td>1656800368338</td>\n",
       "      <td>1559</td>\n",
       "      <td>15772</td>\n",
       "    </tr>\n",
       "    <tr>\n",
       "      <th>...</th>\n",
       "      <td>...</td>\n",
       "      <td>...</td>\n",
       "      <td>...</td>\n",
       "      <td>...</td>\n",
       "      <td>...</td>\n",
       "      <td>...</td>\n",
       "    </tr>\n",
       "    <tr>\n",
       "      <th>422078</th>\n",
       "      <td>AF7F5V4G3SWPRIKQEATNV7WACR6A</td>\n",
       "      <td>0062915320</td>\n",
       "      <td>5.0</td>\n",
       "      <td>1638675622205</td>\n",
       "      <td>1247</td>\n",
       "      <td>13203</td>\n",
       "    </tr>\n",
       "    <tr>\n",
       "      <th>422346</th>\n",
       "      <td>AF2T4ZDAXUTFGFFRDG5GA5BWQXRA</td>\n",
       "      <td>1733090312</td>\n",
       "      <td>4.0</td>\n",
       "      <td>1630014011916</td>\n",
       "      <td>311</td>\n",
       "      <td>18514</td>\n",
       "    </tr>\n",
       "    <tr>\n",
       "      <th>422347</th>\n",
       "      <td>AF2T4ZDAXUTFGFFRDG5GA5BWQXRA</td>\n",
       "      <td>1501128035</td>\n",
       "      <td>4.0</td>\n",
       "      <td>1630014353678</td>\n",
       "      <td>311</td>\n",
       "      <td>10699</td>\n",
       "    </tr>\n",
       "    <tr>\n",
       "      <th>423566</th>\n",
       "      <td>AG3A7NFV7ZKBXWF6FV3VMF6CK3BA</td>\n",
       "      <td>1101930926</td>\n",
       "      <td>5.0</td>\n",
       "      <td>1637012094603</td>\n",
       "      <td>974</td>\n",
       "      <td>20780</td>\n",
       "    </tr>\n",
       "    <tr>\n",
       "      <th>425440</th>\n",
       "      <td>AFM4K7CAFB2KE6BHWQSS7KEHTWLA</td>\n",
       "      <td>0452282314</td>\n",
       "      <td>5.0</td>\n",
       "      <td>1643339582810</td>\n",
       "      <td>956</td>\n",
       "      <td>9418</td>\n",
       "    </tr>\n",
       "  </tbody>\n",
       "</table>\n",
       "<p>955 rows × 6 columns</p>\n",
       "</div>"
      ],
      "text/plain": [
       "                             user_id parent_asin  rating      timestamp  \\\n",
       "4       AHXBL3QDWZGJYH7A5CMPFNUPMF7Q  0451450523     2.0  1635710722120   \n",
       "293     AFG6YQ3GOY7TVFKQ3SKDVS6Q6RDQ  B08CV9SPDQ     4.0  1635609140286   \n",
       "294     AFG6YQ3GOY7TVFKQ3SKDVS6Q6RDQ  B07R3QYGHY     4.0  1657998389024   \n",
       "763     AFBXVB2GIANS2DHWDK3HXISL2WEA  1291332162     5.0  1651000430747   \n",
       "1205    AGSGLHB6G6QSTSIXWRD6ZZ7V5VZA  B0C8GJYMNH     5.0  1656800368338   \n",
       "...                              ...         ...     ...            ...   \n",
       "422078  AF7F5V4G3SWPRIKQEATNV7WACR6A  0062915320     5.0  1638675622205   \n",
       "422346  AF2T4ZDAXUTFGFFRDG5GA5BWQXRA  1733090312     4.0  1630014011916   \n",
       "422347  AF2T4ZDAXUTFGFFRDG5GA5BWQXRA  1501128035     4.0  1630014353678   \n",
       "423566  AG3A7NFV7ZKBXWF6FV3VMF6CK3BA  1101930926     5.0  1637012094603   \n",
       "425440  AFM4K7CAFB2KE6BHWQSS7KEHTWLA  0452282314     5.0  1643339582810   \n",
       "\n",
       "        user_indice  item_indice  \n",
       "4               925        21664  \n",
       "293            1566         4725  \n",
       "294            1566        12891  \n",
       "763             496        13967  \n",
       "1205           1559        15772  \n",
       "...             ...          ...  \n",
       "422078         1247        13203  \n",
       "422346          311        18514  \n",
       "422347          311        10699  \n",
       "423566          974        20780  \n",
       "425440          956         9418  \n",
       "\n",
       "[955 rows x 6 columns]"
      ]
     },
     "execution_count": 21,
     "metadata": {},
     "output_type": "execute_result"
    }
   ],
   "source": [
    "val_df"
   ]
  },
  {
   "cell_type": "code",
   "execution_count": 22,
   "id": "9eb1583b-40f7-4157-a383-5891389ac119",
   "metadata": {
    "scrolled": true
   },
   "outputs": [
    {
     "data": {
      "text/html": [
       "<div>\n",
       "<style scoped>\n",
       "    .dataframe tbody tr th:only-of-type {\n",
       "        vertical-align: middle;\n",
       "    }\n",
       "\n",
       "    .dataframe tbody tr th {\n",
       "        vertical-align: top;\n",
       "    }\n",
       "\n",
       "    .dataframe thead th {\n",
       "        text-align: right;\n",
       "    }\n",
       "</style>\n",
       "<table border=\"1\" class=\"dataframe\">\n",
       "  <thead>\n",
       "    <tr style=\"text-align: right;\">\n",
       "      <th></th>\n",
       "      <th>user_id</th>\n",
       "      <th>parent_asin</th>\n",
       "      <th>rating</th>\n",
       "      <th>timestamp</th>\n",
       "      <th>user_indice</th>\n",
       "      <th>item_indice</th>\n",
       "    </tr>\n",
       "  </thead>\n",
       "  <tbody>\n",
       "    <tr>\n",
       "      <th>4</th>\n",
       "      <td>AHXBL3QDWZGJYH7A5CMPFNUPMF7Q</td>\n",
       "      <td>0451450523</td>\n",
       "      <td>2.0</td>\n",
       "      <td>1635710722120</td>\n",
       "      <td>925</td>\n",
       "      <td>21664</td>\n",
       "    </tr>\n",
       "  </tbody>\n",
       "</table>\n",
       "</div>"
      ],
      "text/plain": [
       "                        user_id parent_asin  rating      timestamp  \\\n",
       "4  AHXBL3QDWZGJYH7A5CMPFNUPMF7Q  0451450523     2.0  1635710722120   \n",
       "\n",
       "   user_indice  item_indice  \n",
       "4          925        21664  "
      ]
     },
     "execution_count": 22,
     "metadata": {},
     "output_type": "execute_result"
    }
   ],
   "source": [
    "user_id = 'AHXBL3QDWZGJYH7A5CMPFNUPMF7Q'\n",
    "val_df.loc[lambda df: df['user_id'].eq(user_id)]"
   ]
  },
  {
   "cell_type": "code",
   "execution_count": 23,
   "id": "31e13017-04ac-4125-93cf-571f7ba2b13e",
   "metadata": {},
   "outputs": [
    {
     "data": {
      "text/html": [
       "<div>\n",
       "<style scoped>\n",
       "    .dataframe tbody tr th:only-of-type {\n",
       "        vertical-align: middle;\n",
       "    }\n",
       "\n",
       "    .dataframe tbody tr th {\n",
       "        vertical-align: top;\n",
       "    }\n",
       "\n",
       "    .dataframe thead th {\n",
       "        text-align: right;\n",
       "    }\n",
       "</style>\n",
       "<table border=\"1\" class=\"dataframe\">\n",
       "  <thead>\n",
       "    <tr style=\"text-align: right;\">\n",
       "      <th></th>\n",
       "      <th>user_id</th>\n",
       "      <th>parent_asin</th>\n",
       "      <th>rating</th>\n",
       "      <th>timestamp</th>\n",
       "      <th>user_indice</th>\n",
       "      <th>item_indice</th>\n",
       "    </tr>\n",
       "  </thead>\n",
       "  <tbody>\n",
       "    <tr>\n",
       "      <th>23</th>\n",
       "      <td>AHXBL3QDWZGJYH7A5CMPFNUPMF7Q</td>\n",
       "      <td>0920668372</td>\n",
       "      <td>5.0</td>\n",
       "      <td>1430056169000</td>\n",
       "      <td>925</td>\n",
       "      <td>9969</td>\n",
       "    </tr>\n",
       "    <tr>\n",
       "      <th>24</th>\n",
       "      <td>AHXBL3QDWZGJYH7A5CMPFNUPMF7Q</td>\n",
       "      <td>1589255208</td>\n",
       "      <td>5.0</td>\n",
       "      <td>1443926150000</td>\n",
       "      <td>925</td>\n",
       "      <td>5390</td>\n",
       "    </tr>\n",
       "    <tr>\n",
       "      <th>25</th>\n",
       "      <td>AHXBL3QDWZGJYH7A5CMPFNUPMF7Q</td>\n",
       "      <td>2764322836</td>\n",
       "      <td>5.0</td>\n",
       "      <td>1463967052000</td>\n",
       "      <td>925</td>\n",
       "      <td>9390</td>\n",
       "    </tr>\n",
       "    <tr>\n",
       "      <th>26</th>\n",
       "      <td>AHXBL3QDWZGJYH7A5CMPFNUPMF7Q</td>\n",
       "      <td>2764330898</td>\n",
       "      <td>5.0</td>\n",
       "      <td>1489085694000</td>\n",
       "      <td>925</td>\n",
       "      <td>23852</td>\n",
       "    </tr>\n",
       "    <tr>\n",
       "      <th>27</th>\n",
       "      <td>AHXBL3QDWZGJYH7A5CMPFNUPMF7Q</td>\n",
       "      <td>0062380761</td>\n",
       "      <td>5.0</td>\n",
       "      <td>1526591330983</td>\n",
       "      <td>925</td>\n",
       "      <td>1043</td>\n",
       "    </tr>\n",
       "    <tr>\n",
       "      <th>28</th>\n",
       "      <td>AHXBL3QDWZGJYH7A5CMPFNUPMF7Q</td>\n",
       "      <td>0385467974</td>\n",
       "      <td>1.0</td>\n",
       "      <td>1613173700911</td>\n",
       "      <td>925</td>\n",
       "      <td>12480</td>\n",
       "    </tr>\n",
       "    <tr>\n",
       "      <th>29</th>\n",
       "      <td>AHXBL3QDWZGJYH7A5CMPFNUPMF7Q</td>\n",
       "      <td>0765357151</td>\n",
       "      <td>2.0</td>\n",
       "      <td>1622466348378</td>\n",
       "      <td>925</td>\n",
       "      <td>11136</td>\n",
       "    </tr>\n",
       "  </tbody>\n",
       "</table>\n",
       "</div>"
      ],
      "text/plain": [
       "                         user_id parent_asin  rating      timestamp  \\\n",
       "23  AHXBL3QDWZGJYH7A5CMPFNUPMF7Q  0920668372     5.0  1430056169000   \n",
       "24  AHXBL3QDWZGJYH7A5CMPFNUPMF7Q  1589255208     5.0  1443926150000   \n",
       "25  AHXBL3QDWZGJYH7A5CMPFNUPMF7Q  2764322836     5.0  1463967052000   \n",
       "26  AHXBL3QDWZGJYH7A5CMPFNUPMF7Q  2764330898     5.0  1489085694000   \n",
       "27  AHXBL3QDWZGJYH7A5CMPFNUPMF7Q  0062380761     5.0  1526591330983   \n",
       "28  AHXBL3QDWZGJYH7A5CMPFNUPMF7Q  0385467974     1.0  1613173700911   \n",
       "29  AHXBL3QDWZGJYH7A5CMPFNUPMF7Q  0765357151     2.0  1622466348378   \n",
       "\n",
       "    user_indice  item_indice  \n",
       "23          925         9969  \n",
       "24          925         5390  \n",
       "25          925         9390  \n",
       "26          925        23852  \n",
       "27          925         1043  \n",
       "28          925        12480  \n",
       "29          925        11136  "
      ]
     },
     "execution_count": 23,
     "metadata": {},
     "output_type": "execute_result"
    }
   ],
   "source": [
    "timestamp = 1635710722120\n",
    "full_df.loc[lambda df: df['user_id'].eq(user_id) & df['timestamp'].lt(timestamp)].sort_values(timestamp_col)"
   ]
  },
  {
   "cell_type": "code",
   "execution_count": 24,
   "id": "d3644561-f7ee-432e-89ce-5f4d96d816b9",
   "metadata": {},
   "outputs": [
    {
     "data": {
      "text/plain": [
       "array([[ 9390, 23852,  1043, 12480, 11136]])"
      ]
     },
     "execution_count": 24,
     "metadata": {},
     "output_type": "execute_result"
    }
   ],
   "source": [
    "item_id = '0451450523'\n",
    "user_indice = idm.get_user_index(user_id)\n",
    "item_indice = idm.get_item_index(item_id)\n",
    "target = [idm.get_item_index(item_id)]\n",
    "item_sequence = rating_dataset.get_item_sequence(user_indice, timestamp).reshape(1, -1)\n",
    "item_sequence"
   ]
  },
  {
   "cell_type": "code",
   "execution_count": 25,
   "id": "0e5654ec-18f9-4b9a-8f52-265b95134a67",
   "metadata": {
    "scrolled": true
   },
   "outputs": [
    {
     "data": {
      "text/plain": [
       "tensor([[-0.2168]], device='cuda:0', grad_fn=<AddmmBackward0>)"
      ]
     },
     "execution_count": 25,
     "metadata": {},
     "output_type": "execute_result"
    }
   ],
   "source": [
    "model.predict([user_indice], item_sequence, target)"
   ]
  },
  {
   "cell_type": "markdown",
   "id": "c2fd217c-c0c8-4e7c-81fe-6eb36f4729b5",
   "metadata": {},
   "source": [
    "#### Training loop"
   ]
  },
  {
   "cell_type": "code",
   "execution_count": null,
   "id": "c63eb300-bda8-4c35-93ad-71a4c2e025fe",
   "metadata": {
    "scrolled": true
   },
   "outputs": [
    {
     "data": {
      "application/vnd.jupyter.widget-view+json": {
       "model_id": "926c7022f026426db8d6fbf7f3e981b2",
       "version_major": 2,
       "version_minor": 0
      },
      "text/plain": [
       "Epochs:   0%|          | 0/50 [00:00<?, ?it/s]"
      ]
     },
     "metadata": {},
     "output_type": "display_data"
    },
    {
     "data": {
      "application/vnd.jupyter.widget-view+json": {
       "model_id": "",
       "version_major": 2,
       "version_minor": 0
      },
      "text/plain": [
       "Training Epoch 1:   0%|          | 0/237 [00:00<?, ?it/s]"
      ]
     },
     "metadata": {},
     "output_type": "display_data"
    },
    {
     "name": "stderr",
     "output_type": "stream",
     "text": [
      "\u001b[32m2024-09-18 06:28:06.152\u001b[0m | \u001b[1mINFO    \u001b[0m | \u001b[36msrc.train_utils\u001b[0m:\u001b[36mtrain\u001b[0m:\u001b[36m161\u001b[0m - \u001b[1mStep 100, Global Loss: 1.0143\u001b[0m\n",
      "\u001b[32m2024-09-18 06:28:06.154\u001b[0m | \u001b[1mINFO    \u001b[0m | \u001b[36msrc.train_utils\u001b[0m:\u001b[36mtrain\u001b[0m:\u001b[36m164\u001b[0m - \u001b[1mStep 100, Learning Rate: 0.001000\u001b[0m\n",
      "\u001b[32m2024-09-18 06:28:06.155\u001b[0m | \u001b[1mINFO    \u001b[0m | \u001b[36msrc.train_utils\u001b[0m:\u001b[36mtrain\u001b[0m:\u001b[36m167\u001b[0m - \u001b[1mStep 100, Gradient Norms: {'grad_norm_item_embedding.weight': 0.03459254279732704, 'grad_norm_user_embedding.weight': 0.023554233834147453, 'grad_norm_fc_rating.0.weight': 1.3074274063110352, 'grad_norm_fc_rating.0.bias': 0.05893808230757713, 'grad_norm_fc_rating.3.weight': 0.8521343469619751, 'grad_norm_fc_rating.3.bias': 0.0, 'total_grad_norm': 1.5622818284612754}\u001b[0m\n",
      "\u001b[32m2024-09-18 06:28:42.342\u001b[0m | \u001b[1mINFO    \u001b[0m | \u001b[36msrc.train_utils\u001b[0m:\u001b[36mtrain\u001b[0m:\u001b[36m161\u001b[0m - \u001b[1mStep 200, Global Loss: 1.0086\u001b[0m\n",
      "\u001b[32m2024-09-18 06:28:42.343\u001b[0m | \u001b[1mINFO    \u001b[0m | \u001b[36msrc.train_utils\u001b[0m:\u001b[36mtrain\u001b[0m:\u001b[36m164\u001b[0m - \u001b[1mStep 200, Learning Rate: 0.001000\u001b[0m\n",
      "\u001b[32m2024-09-18 06:28:42.344\u001b[0m | \u001b[1mINFO    \u001b[0m | \u001b[36msrc.train_utils\u001b[0m:\u001b[36mtrain\u001b[0m:\u001b[36m167\u001b[0m - \u001b[1mStep 200, Gradient Norms: {'grad_norm_item_embedding.weight': 0.030623991042375565, 'grad_norm_user_embedding.weight': 0.019385289400815964, 'grad_norm_fc_rating.0.weight': 1.0365296602249146, 'grad_norm_fc_rating.0.bias': 0.059107691049575806, 'grad_norm_fc_rating.3.weight': 0.97987300157547, 'grad_norm_fc_rating.3.bias': 0.0, 'total_grad_norm': 1.4280588829443368}\u001b[0m\n",
      "\u001b[32m2024-09-18 06:28:55.736\u001b[0m | \u001b[1mINFO    \u001b[0m | \u001b[36msrc.train_utils\u001b[0m:\u001b[36mtrain\u001b[0m:\u001b[36m179\u001b[0m - \u001b[1mEpoch 1, Loss: 1.0061\u001b[0m\n",
      "\u001b[32m2024-09-18 06:28:58.420\u001b[0m | \u001b[1mINFO    \u001b[0m | \u001b[36msrc.train_utils\u001b[0m:\u001b[36mtrain\u001b[0m:\u001b[36m191\u001b[0m - \u001b[1mEpoch 1, Validation Loss: 0.9623\u001b[0m\n",
      "\u001b[32m2024-09-18 06:28:58.421\u001b[0m | \u001b[1mINFO    \u001b[0m | \u001b[36msrc.train_utils\u001b[0m:\u001b[36mtrain\u001b[0m:\u001b[36m207\u001b[0m - \u001b[1mEpoch 1 time: 88.46 seconds\u001b[0m\n"
     ]
    },
    {
     "data": {
      "application/vnd.jupyter.widget-view+json": {
       "model_id": "",
       "version_major": 2,
       "version_minor": 0
      },
      "text/plain": [
       "Training Epoch 2:   0%|          | 0/237 [00:00<?, ?it/s]"
      ]
     },
     "metadata": {},
     "output_type": "display_data"
    },
    {
     "name": "stderr",
     "output_type": "stream",
     "text": [
      "\u001b[32m2024-09-18 06:29:21.224\u001b[0m | \u001b[1mINFO    \u001b[0m | \u001b[36msrc.train_utils\u001b[0m:\u001b[36mtrain\u001b[0m:\u001b[36m161\u001b[0m - \u001b[1mStep 300, Global Loss: 0.9445\u001b[0m\n",
      "\u001b[32m2024-09-18 06:29:21.225\u001b[0m | \u001b[1mINFO    \u001b[0m | \u001b[36msrc.train_utils\u001b[0m:\u001b[36mtrain\u001b[0m:\u001b[36m164\u001b[0m - \u001b[1mStep 300, Learning Rate: 0.001000\u001b[0m\n",
      "\u001b[32m2024-09-18 06:29:21.226\u001b[0m | \u001b[1mINFO    \u001b[0m | \u001b[36msrc.train_utils\u001b[0m:\u001b[36mtrain\u001b[0m:\u001b[36m167\u001b[0m - \u001b[1mStep 300, Gradient Norms: {'grad_norm_item_embedding.weight': 0.0350610613822937, 'grad_norm_user_embedding.weight': 0.02117985486984253, 'grad_norm_fc_rating.0.weight': 0.9963933825492859, 'grad_norm_fc_rating.0.bias': 0.05379411205649376, 'grad_norm_fc_rating.3.weight': 0.8388879895210266, 'grad_norm_fc_rating.3.bias': 0.0, 'total_grad_norm': 1.3042639696473044}\u001b[0m\n",
      "\u001b[32m2024-09-18 06:29:57.139\u001b[0m | \u001b[1mINFO    \u001b[0m | \u001b[36msrc.train_utils\u001b[0m:\u001b[36mtrain\u001b[0m:\u001b[36m161\u001b[0m - \u001b[1mStep 400, Global Loss: 0.9499\u001b[0m\n",
      "\u001b[32m2024-09-18 06:29:57.140\u001b[0m | \u001b[1mINFO    \u001b[0m | \u001b[36msrc.train_utils\u001b[0m:\u001b[36mtrain\u001b[0m:\u001b[36m164\u001b[0m - \u001b[1mStep 400, Learning Rate: 0.001000\u001b[0m\n",
      "\u001b[32m2024-09-18 06:29:57.141\u001b[0m | \u001b[1mINFO    \u001b[0m | \u001b[36msrc.train_utils\u001b[0m:\u001b[36mtrain\u001b[0m:\u001b[36m167\u001b[0m - \u001b[1mStep 400, Gradient Norms: {'grad_norm_item_embedding.weight': 0.03727848827838898, 'grad_norm_user_embedding.weight': 0.02380434237420559, 'grad_norm_fc_rating.0.weight': 1.061462640762329, 'grad_norm_fc_rating.0.bias': 0.05797897279262543, 'grad_norm_fc_rating.3.weight': 0.8755714297294617, 'grad_norm_fc_rating.3.bias': 2.384185791015625e-07, 'total_grad_norm': 1.3779136983073237}\u001b[0m\n",
      "\u001b[32m2024-09-18 06:30:23.914\u001b[0m | \u001b[1mINFO    \u001b[0m | \u001b[36msrc.train_utils\u001b[0m:\u001b[36mtrain\u001b[0m:\u001b[36m179\u001b[0m - \u001b[1mEpoch 2, Loss: 0.9513\u001b[0m\n",
      "\u001b[32m2024-09-18 06:30:26.608\u001b[0m | \u001b[1mINFO    \u001b[0m | \u001b[36msrc.train_utils\u001b[0m:\u001b[36mtrain\u001b[0m:\u001b[36m191\u001b[0m - \u001b[1mEpoch 2, Validation Loss: 0.9515\u001b[0m\n",
      "\u001b[32m2024-09-18 06:30:26.609\u001b[0m | \u001b[1mINFO    \u001b[0m | \u001b[36msrc.train_utils\u001b[0m:\u001b[36mtrain\u001b[0m:\u001b[36m207\u001b[0m - \u001b[1mEpoch 2 time: 88.16 seconds\u001b[0m\n"
     ]
    },
    {
     "data": {
      "application/vnd.jupyter.widget-view+json": {
       "model_id": "",
       "version_major": 2,
       "version_minor": 0
      },
      "text/plain": [
       "Training Epoch 3:   0%|          | 0/237 [00:00<?, ?it/s]"
      ]
     },
     "metadata": {},
     "output_type": "display_data"
    },
    {
     "name": "stderr",
     "output_type": "stream",
     "text": [
      "\u001b[32m2024-09-18 06:30:35.972\u001b[0m | \u001b[1mINFO    \u001b[0m | \u001b[36msrc.train_utils\u001b[0m:\u001b[36mtrain\u001b[0m:\u001b[36m161\u001b[0m - \u001b[1mStep 500, Global Loss: 0.8902\u001b[0m\n",
      "\u001b[32m2024-09-18 06:30:35.973\u001b[0m | \u001b[1mINFO    \u001b[0m | \u001b[36msrc.train_utils\u001b[0m:\u001b[36mtrain\u001b[0m:\u001b[36m164\u001b[0m - \u001b[1mStep 500, Learning Rate: 0.001000\u001b[0m\n",
      "\u001b[32m2024-09-18 06:30:35.974\u001b[0m | \u001b[1mINFO    \u001b[0m | \u001b[36msrc.train_utils\u001b[0m:\u001b[36mtrain\u001b[0m:\u001b[36m167\u001b[0m - \u001b[1mStep 500, Gradient Norms: {'grad_norm_item_embedding.weight': 0.04008409008383751, 'grad_norm_user_embedding.weight': 0.024294305592775345, 'grad_norm_fc_rating.0.weight': 1.041199803352356, 'grad_norm_fc_rating.0.bias': 0.06197928637266159, 'grad_norm_fc_rating.3.weight': 0.8244413733482361, 'grad_norm_fc_rating.3.bias': 0.0, 'total_grad_norm': 1.3303529562077347}\u001b[0m\n",
      "\u001b[32m2024-09-18 06:31:12.603\u001b[0m | \u001b[1mINFO    \u001b[0m | \u001b[36msrc.train_utils\u001b[0m:\u001b[36mtrain\u001b[0m:\u001b[36m161\u001b[0m - \u001b[1mStep 600, Global Loss: 0.8864\u001b[0m\n",
      "\u001b[32m2024-09-18 06:31:12.605\u001b[0m | \u001b[1mINFO    \u001b[0m | \u001b[36msrc.train_utils\u001b[0m:\u001b[36mtrain\u001b[0m:\u001b[36m164\u001b[0m - \u001b[1mStep 600, Learning Rate: 0.001000\u001b[0m\n",
      "\u001b[32m2024-09-18 06:31:12.605\u001b[0m | \u001b[1mINFO    \u001b[0m | \u001b[36msrc.train_utils\u001b[0m:\u001b[36mtrain\u001b[0m:\u001b[36m167\u001b[0m - \u001b[1mStep 600, Gradient Norms: {'grad_norm_item_embedding.weight': 0.04968680068850517, 'grad_norm_user_embedding.weight': 0.03127214312553406, 'grad_norm_fc_rating.0.weight': 1.2378809452056885, 'grad_norm_fc_rating.0.bias': 0.06931847333908081, 'grad_norm_fc_rating.3.weight': 0.8044187426567078, 'grad_norm_fc_rating.3.bias': 0.0, 'total_grad_norm': 1.4790843532013687}\u001b[0m\n",
      "\u001b[32m2024-09-18 06:31:48.743\u001b[0m | \u001b[1mINFO    \u001b[0m | \u001b[36msrc.train_utils\u001b[0m:\u001b[36mtrain\u001b[0m:\u001b[36m161\u001b[0m - \u001b[1mStep 700, Global Loss: 0.8944\u001b[0m\n",
      "\u001b[32m2024-09-18 06:31:48.744\u001b[0m | \u001b[1mINFO    \u001b[0m | \u001b[36msrc.train_utils\u001b[0m:\u001b[36mtrain\u001b[0m:\u001b[36m164\u001b[0m - \u001b[1mStep 700, Learning Rate: 0.001000\u001b[0m\n",
      "\u001b[32m2024-09-18 06:31:48.745\u001b[0m | \u001b[1mINFO    \u001b[0m | \u001b[36msrc.train_utils\u001b[0m:\u001b[36mtrain\u001b[0m:\u001b[36m167\u001b[0m - \u001b[1mStep 700, Gradient Norms: {'grad_norm_item_embedding.weight': 0.050312340259552, 'grad_norm_user_embedding.weight': 0.033143822103738785, 'grad_norm_fc_rating.0.weight': 1.192022681236267, 'grad_norm_fc_rating.0.bias': 0.06708843261003494, 'grad_norm_fc_rating.3.weight': 0.7995513677597046, 'grad_norm_fc_rating.3.bias': 0.0, 'total_grad_norm': 1.4381693796574249}\u001b[0m\n",
      "\u001b[32m2024-09-18 06:31:52.775\u001b[0m | \u001b[1mINFO    \u001b[0m | \u001b[36msrc.train_utils\u001b[0m:\u001b[36mtrain\u001b[0m:\u001b[36m179\u001b[0m - \u001b[1mEpoch 3, Loss: 0.8941\u001b[0m\n",
      "\u001b[32m2024-09-18 06:31:55.466\u001b[0m | \u001b[1mINFO    \u001b[0m | \u001b[36msrc.train_utils\u001b[0m:\u001b[36mtrain\u001b[0m:\u001b[36m191\u001b[0m - \u001b[1mEpoch 3, Validation Loss: 0.9190\u001b[0m\n",
      "\u001b[32m2024-09-18 06:31:55.467\u001b[0m | \u001b[1mINFO    \u001b[0m | \u001b[36msrc.train_utils\u001b[0m:\u001b[36mtrain\u001b[0m:\u001b[36m207\u001b[0m - \u001b[1mEpoch 3 time: 88.83 seconds\u001b[0m\n"
     ]
    },
    {
     "data": {
      "application/vnd.jupyter.widget-view+json": {
       "model_id": "",
       "version_major": 2,
       "version_minor": 0
      },
      "text/plain": [
       "Training Epoch 4:   0%|          | 0/237 [00:00<?, ?it/s]"
      ]
     },
     "metadata": {},
     "output_type": "display_data"
    },
    {
     "name": "stderr",
     "output_type": "stream",
     "text": [
      "\u001b[32m2024-09-18 06:32:27.593\u001b[0m | \u001b[1mINFO    \u001b[0m | \u001b[36msrc.train_utils\u001b[0m:\u001b[36mtrain\u001b[0m:\u001b[36m161\u001b[0m - \u001b[1mStep 800, Global Loss: 0.8061\u001b[0m\n",
      "\u001b[32m2024-09-18 06:32:27.594\u001b[0m | \u001b[1mINFO    \u001b[0m | \u001b[36msrc.train_utils\u001b[0m:\u001b[36mtrain\u001b[0m:\u001b[36m164\u001b[0m - \u001b[1mStep 800, Learning Rate: 0.001000\u001b[0m\n",
      "\u001b[32m2024-09-18 06:32:27.595\u001b[0m | \u001b[1mINFO    \u001b[0m | \u001b[36msrc.train_utils\u001b[0m:\u001b[36mtrain\u001b[0m:\u001b[36m167\u001b[0m - \u001b[1mStep 800, Gradient Norms: {'grad_norm_item_embedding.weight': 0.05636896565556526, 'grad_norm_user_embedding.weight': 0.03619137033820152, 'grad_norm_fc_rating.0.weight': 1.2539727687835693, 'grad_norm_fc_rating.0.bias': 0.06464296579360962, 'grad_norm_fc_rating.3.weight': 0.6900045275688171, 'grad_norm_fc_rating.3.bias': 0.0, 'total_grad_norm': 1.4343012032062257}\u001b[0m\n",
      "\u001b[32m2024-09-18 06:33:03.900\u001b[0m | \u001b[1mINFO    \u001b[0m | \u001b[36msrc.train_utils\u001b[0m:\u001b[36mtrain\u001b[0m:\u001b[36m161\u001b[0m - \u001b[1mStep 900, Global Loss: 0.8162\u001b[0m\n",
      "\u001b[32m2024-09-18 06:33:03.902\u001b[0m | \u001b[1mINFO    \u001b[0m | \u001b[36msrc.train_utils\u001b[0m:\u001b[36mtrain\u001b[0m:\u001b[36m164\u001b[0m - \u001b[1mStep 900, Learning Rate: 0.001000\u001b[0m\n",
      "\u001b[32m2024-09-18 06:33:03.902\u001b[0m | \u001b[1mINFO    \u001b[0m | \u001b[36msrc.train_utils\u001b[0m:\u001b[36mtrain\u001b[0m:\u001b[36m167\u001b[0m - \u001b[1mStep 900, Gradient Norms: {'grad_norm_item_embedding.weight': 0.059319112449884415, 'grad_norm_user_embedding.weight': 0.03714409098029137, 'grad_norm_fc_rating.0.weight': 1.165870189666748, 'grad_norm_fc_rating.0.bias': 0.08380415290594101, 'grad_norm_fc_rating.3.weight': 0.6591632962226868, 'grad_norm_fc_rating.3.bias': 0.0, 'total_grad_norm': 1.343752628604541}\u001b[0m\n",
      "\u001b[32m2024-09-18 06:33:21.398\u001b[0m | \u001b[1mINFO    \u001b[0m | \u001b[36msrc.train_utils\u001b[0m:\u001b[36mtrain\u001b[0m:\u001b[36m179\u001b[0m - \u001b[1mEpoch 4, Loss: 0.8184\u001b[0m\n",
      "\u001b[32m2024-09-18 06:33:24.097\u001b[0m | \u001b[1mINFO    \u001b[0m | \u001b[36msrc.train_utils\u001b[0m:\u001b[36mtrain\u001b[0m:\u001b[36m191\u001b[0m - \u001b[1mEpoch 4, Validation Loss: 0.8953\u001b[0m\n",
      "\u001b[32m2024-09-18 06:33:24.098\u001b[0m | \u001b[1mINFO    \u001b[0m | \u001b[36msrc.train_utils\u001b[0m:\u001b[36mtrain\u001b[0m:\u001b[36m207\u001b[0m - \u001b[1mEpoch 4 time: 88.61 seconds\u001b[0m\n"
     ]
    },
    {
     "data": {
      "application/vnd.jupyter.widget-view+json": {
       "model_id": "22d44b9904884f0f8843f43f3252d42a",
       "version_major": 2,
       "version_minor": 0
      },
      "text/plain": [
       "Training Epoch 5:   0%|          | 0/237 [00:00<?, ?it/s]"
      ]
     },
     "metadata": {},
     "output_type": "display_data"
    }
   ],
   "source": [
    "n_epochs = 50\n",
    "\n",
    "metric_log_cb = MetricLogCallback()\n",
    "mlflow_log_cb = MLflowLogCallback()\n",
    "\n",
    "train(\n",
    "    model,\n",
    "    dataloader,\n",
    "    val_dataloader,\n",
    "    epochs=n_epochs,\n",
    "    patience=3,\n",
    "    print_steps=100,\n",
    "    lr=args.learning_rate,\n",
    "    gradient_clipping=False,\n",
    "    device=device,\n",
    "    progress_bar_type='tqdm_notebook',\n",
    "    callbacks=[metric_log_cb.process_payload, mlflow_log_cb.process_payload]\n",
    ")"
   ]
  },
  {
   "cell_type": "markdown",
   "id": "8891dc2a-7c64-4dc6-8184-faa079410646",
   "metadata": {},
   "source": [
    "# Visualize training"
   ]
  },
  {
   "cell_type": "code",
   "execution_count": null,
   "id": "433a95ca-8822-4ff4-a518-79850eeadb74",
   "metadata": {
    "scrolled": true
   },
   "outputs": [],
   "source": [
    "step_metrics = [p for p in metric_log_cb.payloads if 'step' in p]\n",
    "epoch_metrics = [p for p in metric_log_cb.payloads if 'epoch' in p]\n",
    "step_metrics_df = pd.DataFrame(step_metrics)\n",
    "step_metrics_df"
   ]
  },
  {
   "cell_type": "code",
   "execution_count": null,
   "id": "a64c1c93-1727-4184-91a9-121ccce5919e",
   "metadata": {
    "scrolled": true
   },
   "outputs": [],
   "source": [
    "epoch_metrics_df = pd.DataFrame(epoch_metrics)\n",
    "epoch_metrics_df = epoch_metrics_df.pipe(lambda df: pd.melt(df, id_vars=[\"epoch\"], var_name=\"loss_type\", value_name=\"value\"))\n",
    "epoch_metrics_df"
   ]
  },
  {
   "cell_type": "code",
   "execution_count": null,
   "id": "398754a0-3250-4111-af38-abd54f735d44",
   "metadata": {},
   "outputs": [],
   "source": [
    "from src.eval import plot_metric, plot_train_vs_val_loss\n",
    "\n",
    "plot_metric(step_metrics_df, col='global_loss')\n",
    "plot_metric(step_metrics_df, col='learning_rate')\n",
    "plot_metric(step_metrics_df, col='total_grad_norm')"
   ]
  },
  {
   "cell_type": "code",
   "execution_count": null,
   "id": "d5f78216-41ab-468d-ad6c-224daa54c570",
   "metadata": {},
   "outputs": [],
   "source": [
    "plot_train_vs_val_loss(epoch_metrics_df, height=500)"
   ]
  },
  {
   "cell_type": "markdown",
   "id": "ab1ddcaf-af45-42d1-8a3d-e57cfd403702",
   "metadata": {},
   "source": [
    "# Evaluate"
   ]
  },
  {
   "cell_type": "markdown",
   "id": "ace9a091-e83b-4721-95fc-105776a212c4",
   "metadata": {},
   "source": [
    "## Ranking metrics"
   ]
  },
  {
   "cell_type": "code",
   "execution_count": null,
   "id": "d55b9656-a897-461d-a91e-dc6fdf72ce41",
   "metadata": {},
   "outputs": [],
   "source": [
    "user_col = args.user_col\n",
    "item_col = args.item_col\n",
    "rating_col = args.rating_col"
   ]
  },
  {
   "cell_type": "code",
   "execution_count": null,
   "id": "f7d5b189-b02f-4970-ad65-6873da1420d0",
   "metadata": {},
   "outputs": [],
   "source": [
    "from src.eval import create_label_df, create_rec_df, merge_recs_with_target"
   ]
  },
  {
   "cell_type": "code",
   "execution_count": null,
   "id": "38a84f73-b82a-4c7b-8e93-20af332ae2f0",
   "metadata": {
    "scrolled": true
   },
   "outputs": [],
   "source": [
    "val_user_indices = val_df['user_indice'].unique()\n",
    "val_timestamps = np.array([val_timestamp] * len(val_user_indices))\n",
    "val_item_sequences = np.array([rating_dataset.get_item_sequence(val_user_indices[i], val_timestamps[i]) for i in range(len(val_user_indices))])"
   ]
  },
  {
   "cell_type": "code",
   "execution_count": null,
   "id": "56b45e45-7f8a-4987-a640-ec7de20b39e5",
   "metadata": {},
   "outputs": [],
   "source": [
    "user = val_user_indices[0]\n",
    "user"
   ]
  },
  {
   "cell_type": "code",
   "execution_count": null,
   "id": "8bab2724-fc59-4c5c-99b6-56c6db0ad4d0",
   "metadata": {},
   "outputs": [],
   "source": [
    "input_seq = val_item_sequences[0]\n",
    "input_seq"
   ]
  },
  {
   "cell_type": "code",
   "execution_count": null,
   "id": "0144f8d1-de47-44f3-9705-b8610bad43ef",
   "metadata": {},
   "outputs": [],
   "source": [
    "model.predict([user], np.array([input_seq]), [22042])"
   ]
  },
  {
   "cell_type": "code",
   "execution_count": null,
   "id": "4f54d237-1d66-4f1a-bd03-e5a0ea6e40de",
   "metadata": {},
   "outputs": [],
   "source": [
    "recommendations = model.recommend(\n",
    "    val_user_indices,\n",
    "    user_item_sequences=val_item_sequences,\n",
    "    k=args.top_K,\n",
    "    batch_size=4,\n",
    "    progress_bar_type='tqdm_notebook'\n",
    ")"
   ]
  },
  {
   "cell_type": "code",
   "execution_count": null,
   "id": "ad3ef129-8cec-4269-ba60-6ccfec25e187",
   "metadata": {
    "scrolled": true
   },
   "outputs": [],
   "source": [
    "recommendations_df = pd.DataFrame(recommendations).pipe(create_rec_df, idm)\n",
    "recommendations_df"
   ]
  },
  {
   "cell_type": "code",
   "execution_count": null,
   "id": "7ea595f7-b317-425f-97d4-43a7bd10b324",
   "metadata": {},
   "outputs": [],
   "source": [
    "label_df = create_label_df(val_df)\n",
    "label_df"
   ]
  },
  {
   "cell_type": "code",
   "execution_count": null,
   "id": "5e478c56-6bf3-4983-9f1c-1309b26a9a28",
   "metadata": {
    "scrolled": true
   },
   "outputs": [],
   "source": [
    "eval_df = merge_recs_with_target(recommendations_df, label_df, k=args.top_K)\n",
    "eval_df"
   ]
  },
  {
   "cell_type": "code",
   "execution_count": null,
   "id": "900dc12e-6274-490d-af56-7303479839d7",
   "metadata": {},
   "outputs": [],
   "source": [
    "recommendations_df.sample(10)"
   ]
  },
  {
   "cell_type": "code",
   "execution_count": null,
   "id": "a81fda92-5ba3-47cb-8953-846b3a363cb9",
   "metadata": {},
   "outputs": [],
   "source": [
    "recommendations_df.loc[lambda df: df['user_id'].eq('AELCDBVDWEXMFQSCLNEMM2KGDZDQ')]"
   ]
  },
  {
   "cell_type": "code",
   "execution_count": null,
   "id": "b7bd6ddc-dd5a-40c5-8e69-024afbd269dc",
   "metadata": {},
   "outputs": [],
   "source": [
    "recommendations_df.loc[lambda df: df['user_id'].eq('AH5ZE3FDA4UALJY4VU6RNF74DLDQ')]"
   ]
  },
  {
   "cell_type": "markdown",
   "id": "ab7ecccf-e265-4f81-a702-98d71fd922fc",
   "metadata": {},
   "source": [
    "### Visualize"
   ]
  },
  {
   "cell_type": "code",
   "execution_count": null,
   "id": "7b083f46-7f62-42cc-ac38-f7300c6c6bf6",
   "metadata": {},
   "outputs": [],
   "source": [
    "from evidently.pipeline.column_mapping import ColumnMapping\n",
    "from evidently.report import Report\n",
    "from evidently.metrics import PrecisionTopKMetric\n",
    "from evidently.metrics import RecallTopKMetric\n",
    "from evidently.metrics import FBetaTopKMetric\n",
    "from evidently.metrics import NDCGKMetric\n",
    "from evidently.metrics import PersonalizationMetric\n",
    "import warnings\n",
    "\n",
    "warnings.filterwarnings(\n",
    "    action='ignore',\n",
    "    category=FutureWarning,\n",
    "    module=r'evidently.metrics.recsys.precision_recall_k'\n",
    ")\n",
    "\n",
    "from src.viz import color_scheme"
   ]
  },
  {
   "cell_type": "code",
   "execution_count": null,
   "id": "fdc2968f-338e-4fa4-8ecb-980d5c156f8f",
   "metadata": {
    "scrolled": true
   },
   "outputs": [],
   "source": [
    "column_mapping = ColumnMapping(\n",
    "    recommendations_type='rank',\n",
    "    target=rating_col,\n",
    "    prediction='rec_ranking',\n",
    "    item_id=item_col,\n",
    "    user_id=user_col\n",
    ")\n",
    "\n",
    "report = Report(metrics=[\n",
    "    NDCGKMetric(k=args.top_k),\n",
    "    RecallTopKMetric(k=args.top_K),\n",
    "    PrecisionTopKMetric(k=args.top_k),\n",
    "    FBetaTopKMetric(k=args.top_k),\n",
    "    PersonalizationMetric(k=args.top_k),\n",
    "], options=[color_scheme])\n",
    "\n",
    "report.run(\n",
    "    reference_data=None,\n",
    "    current_data=eval_df,\n",
    "    column_mapping=column_mapping\n",
    ")\n",
    "\n",
    "evidently_report_fp = f\"{args.notebook_persist_dp}/evidently_report.html\"\n",
    "os.makedirs(args.notebook_persist_dp, exist_ok=True)\n",
    "report.save_html(evidently_report_fp)\n",
    "\n",
    "if args.log_to_mlflow:\n",
    "    mlflow.log_artifact(evidently_report_fp)\n",
    "    for metric_result in report.as_dict()['metrics']:\n",
    "        metric = metric_result['metric']\n",
    "        if metric == 'PersonalizationMetric':\n",
    "            metric_value = float(metric_result['result']['current_value'])\n",
    "            mlflow.log_metric(f\"val_{metric}\", metric_value)\n",
    "            continue\n",
    "        result = metric_result['result']['current'].to_dict()\n",
    "        for kth, metric_value in result.items():\n",
    "            mlflow.log_metric(f\"val_{metric}_at_k_as_step\", metric_value, step=kth)"
   ]
  },
  {
   "cell_type": "markdown",
   "id": "7a07c8e4-0e63-4e60-b865-4ee6b93c6524",
   "metadata": {},
   "source": [
    "# Predict"
   ]
  },
  {
   "cell_type": "code",
   "execution_count": null,
   "id": "5ebe0aa1-0001-47f5-8488-ae784d0e5558",
   "metadata": {},
   "outputs": [],
   "source": [
    "full_df"
   ]
  },
  {
   "cell_type": "code",
   "execution_count": null,
   "id": "805d5e9f-f51e-4290-b724-0c084c2d3cc9",
   "metadata": {
    "scrolled": true
   },
   "outputs": [],
   "source": [
    "user_id = 'AHXBL3QDWZGJYH7A5CMPFNUPMF7Q'\n",
    "val_df.loc[lambda df: df['user_id'].eq(user_id)]"
   ]
  },
  {
   "cell_type": "code",
   "execution_count": null,
   "id": "99f1e0b7-61d1-4515-99be-c94972682f63",
   "metadata": {},
   "outputs": [],
   "source": [
    "timestamp = 1635710722120\n",
    "full_df.loc[lambda df: df['user_id'].eq(user_id) & df['timestamp'].lt(timestamp)].sort_values(timestamp_col)"
   ]
  },
  {
   "cell_type": "code",
   "execution_count": null,
   "id": "3b77e454-6256-4921-a5df-4cfa9568d138",
   "metadata": {},
   "outputs": [],
   "source": [
    "item_id = '0451450523'\n",
    "user_indice = idm.get_user_index(user_id)\n",
    "item_indice = idm.get_item_index(item_id)\n",
    "target = [idm.get_item_index(item_id)]\n",
    "item_sequence = rating_dataset.get_item_sequence(user_indice, timestamp).reshape(1, -1)\n",
    "item_sequence"
   ]
  },
  {
   "cell_type": "code",
   "execution_count": null,
   "id": "2ef0a522-1d7f-4509-97f3-03a474614e57",
   "metadata": {
    "scrolled": true
   },
   "outputs": [],
   "source": [
    "model.predict([user_indice], item_sequence, target)"
   ]
  },
  {
   "cell_type": "markdown",
   "id": "70a228e5-1bea-4dfe-865e-1f1446483158",
   "metadata": {},
   "source": [
    "# Clean up"
   ]
  },
  {
   "cell_type": "code",
   "execution_count": null,
   "id": "a88ddbf8-4af1-4d53-b686-6870bedba6db",
   "metadata": {},
   "outputs": [],
   "source": [
    "all_params = [args]\n",
    "\n",
    "if args.log_to_mlflow:\n",
    "    for params in all_params:\n",
    "        params_dict = params.dict()\n",
    "        params_ = {f\"{params.__repr_name__()}.{k}\": v for k, v in params_dict.items()}\n",
    "        mlflow.log_params(params_)\n",
    "\n",
    "    mlflow.end_run()"
   ]
  },
  {
   "cell_type": "code",
   "execution_count": null,
   "id": "623cdc93-abd9-4fa9-9553-a2c37da64e2e",
   "metadata": {},
   "outputs": [],
   "source": []
  },
  {
   "cell_type": "code",
   "execution_count": null,
   "id": "d4ce6982-efec-4a48-afe9-8bbdbcbe1aad",
   "metadata": {},
   "outputs": [],
   "source": []
  },
  {
   "cell_type": "code",
   "execution_count": null,
   "id": "25eac4b2-60f0-4440-8db9-deff20e86f32",
   "metadata": {},
   "outputs": [],
   "source": []
  }
 ],
 "metadata": {
  "kernelspec": {
   "display_name": "Python 3 (ipykernel)",
   "language": "python",
   "name": "python3"
  },
  "language_info": {
   "codemirror_mode": {
    "name": "ipython",
    "version": 3
   },
   "file_extension": ".py",
   "mimetype": "text/x-python",
   "name": "python",
   "nbconvert_exporter": "python",
   "pygments_lexer": "ipython3",
   "version": "3.11.9"
  }
 },
 "nbformat": 4,
 "nbformat_minor": 5
}
