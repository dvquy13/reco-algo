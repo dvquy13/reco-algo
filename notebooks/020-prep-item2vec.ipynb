{
 "cells": [
  {
   "cell_type": "markdown",
   "id": "9327920e-f1b7-4dc6-9378-9b009eccd9c2",
   "metadata": {},
   "source": [
    "# Build sequence data loaders for Skip Gram"
   ]
  },
  {
   "cell_type": "markdown",
   "id": "32a6ffed-14dc-4c14-9758-000201389036",
   "metadata": {},
   "source": [
    "# Set up"
   ]
  },
  {
   "cell_type": "code",
   "execution_count": 1,
   "id": "8e7b8b86-b92f-4c06-92eb-718be5a66d85",
   "metadata": {},
   "outputs": [],
   "source": [
    "%load_ext autoreload\n",
    "%autoreload 2"
   ]
  },
  {
   "cell_type": "code",
   "execution_count": 2,
   "id": "1e9436e1-1542-452e-9f0c-d621591ed7cc",
   "metadata": {},
   "outputs": [],
   "source": [
    "import json\n",
    "import sys\n",
    "\n",
    "import pandas as pd\n",
    "from loguru import logger\n",
    "from pydantic import BaseModel\n",
    "from torch.utils.data import DataLoader\n",
    "from tqdm.auto import tqdm\n",
    "\n",
    "sys.path.insert(0, \"..\")\n",
    "from src.skipgram.dataset import SkipGramDataset"
   ]
  },
  {
   "cell_type": "markdown",
   "id": "3719ad7c-84b1-4c85-bf35-4cb016a923e3",
   "metadata": {},
   "source": [
    "# Controller"
   ]
  },
  {
   "cell_type": "code",
   "execution_count": 3,
   "id": "14a7f8d7-cdbe-4e1e-809f-adfbcb3cd3f1",
   "metadata": {},
   "outputs": [
    {
     "name": "stdout",
     "output_type": "stream",
     "text": [
      "{\n",
      "  \"num_negative_samples\": 5,\n",
      "  \"window_size\": 1,\n",
      "  \"batch_size\": 16,\n",
      "  \"user_col\": \"user_id\",\n",
      "  \"item_col\": \"parent_asin\"\n",
      "}\n"
     ]
    }
   ],
   "source": [
    "class Args(BaseModel):\n",
    "    num_negative_samples: int = 5\n",
    "    window_size: int = 1\n",
    "    batch_size: int = 16\n",
    "\n",
    "    user_col: str = \"user_id\"\n",
    "    item_col: str = \"parent_asin\"\n",
    "\n",
    "\n",
    "args = Args()\n",
    "print(args.model_dump_json(indent=2))"
   ]
  },
  {
   "cell_type": "markdown",
   "id": "03ff335f-42ef-4364-987c-06536f275f1e",
   "metadata": {},
   "source": [
    "# Test implementation"
   ]
  },
  {
   "cell_type": "code",
   "execution_count": 4,
   "id": "b7b41cb9-bcdb-492b-a0b4-6ff53c9736f1",
   "metadata": {},
   "outputs": [
    {
     "name": "stderr",
     "output_type": "stream",
     "text": [
      "\u001b[32m2024-09-24 21:03:02.961\u001b[0m | \u001b[1mINFO    \u001b[0m | \u001b[36msrc.skipgram.dataset\u001b[0m:\u001b[36m__init__\u001b[0m:\u001b[36m53\u001b[0m - \u001b[1mProcessing sequences to build interaction data...\u001b[0m\n"
     ]
    },
    {
     "data": {
      "application/vnd.jupyter.widget-view+json": {
       "model_id": "5ce0383c67454d0c9ab6f09756577895",
       "version_major": 2,
       "version_minor": 0
      },
      "text/plain": [
       "Building interactions:   0%|          | 0/5 [00:00<?, ?it/s]"
      ]
     },
     "metadata": {},
     "output_type": "display_data"
    },
    {
     "name": "stderr",
     "output_type": "stream",
     "text": [
      "\u001b[32m2024-09-24 21:03:02.973\u001b[0m | \u001b[1mINFO    \u001b[0m | \u001b[36msrc.skipgram.dataset\u001b[0m:\u001b[36m__init__\u001b[0m:\u001b[36m53\u001b[0m - \u001b[1mProcessing sequences to build interaction data...\u001b[0m\n"
     ]
    },
    {
     "data": {
      "application/vnd.jupyter.widget-view+json": {
       "model_id": "a9d16f9056864e8eb32a8c478e20ada2",
       "version_major": 2,
       "version_minor": 0
      },
      "text/plain": [
       "Building interactions:   0%|          | 0/3 [00:00<?, ?it/s]"
      ]
     },
     "metadata": {},
     "output_type": "display_data"
    },
    {
     "name": "stdout",
     "output_type": "stream",
     "text": [
      "tensor([0, 0, 0]) tensor([ 1, 12, 11]) tensor([1., 0., 0.])\n"
     ]
    }
   ],
   "source": [
    "# Example sequences of item IDs\n",
    "# sequences = [\n",
    "#     [1, 2, 3, 4, 0],\n",
    "#     [5, 1, 1, 1, 10],\n",
    "#     [6, 12, 10, 11, 7],\n",
    "#     [1, 2, 10],\n",
    "#     [9, 8, 2],\n",
    "# ]\n",
    "\n",
    "# val_sequences = [\n",
    "#     [5, 11, 12],\n",
    "#     [8, 7],\n",
    "#     [9, 4, 0]\n",
    "# ]\n",
    "\n",
    "sequences = [\n",
    "    [\"b\", \"c\", \"d\", \"e\", \"a\"],\n",
    "    [\"f\", \"b\", \"b\", \"b\", \"k\"],\n",
    "    [\"g\", \"m\", \"k\", \"l\", \"h\"],\n",
    "    [\"b\", \"c\", \"k\"],\n",
    "    [\"j\", \"i\", \"c\"],\n",
    "]\n",
    "\n",
    "val_sequences = [[\"f\", \"l\", \"m\"], [\"i\", \"h\"], [\"j\", \"e\", \"a\"]]\n",
    "\n",
    "# Create dataset with frequency-based negative sampling\n",
    "dataset = SkipGramDataset(sequences, window_size=1, negative_samples=2)\n",
    "val_dataset = SkipGramDataset(\n",
    "    val_sequences,\n",
    "    interacted=dataset.interacted,\n",
    "    item_freq=dataset.item_freq,\n",
    "    window_size=1,\n",
    "    negative_samples=2,\n",
    ")\n",
    "\n",
    "# Example of getting an item\n",
    "inp = dataset[0]\n",
    "target_items = inp[\"target_items\"]\n",
    "context_items = inp[\"context_items\"]\n",
    "labels = inp[\"labels\"]\n",
    "print(target_items, context_items, labels)"
   ]
  },
  {
   "cell_type": "code",
   "execution_count": 5,
   "id": "b0672310-b7f1-4585-b104-ba93c3cc6d44",
   "metadata": {},
   "outputs": [
    {
     "data": {
      "text/plain": [
       "array([0.13537454, 0.13537454, 0.05938764, 0.05938764, 0.05938764,\n",
       "       0.05938764, 0.13537454, 0.05938764, 0.05938764, 0.05938764,\n",
       "       0.05938764, 0.05938764, 0.05938764])"
      ]
     },
     "execution_count": 5,
     "metadata": {},
     "output_type": "execute_result"
    }
   ],
   "source": [
    "dataset.sampling_probs"
   ]
  },
  {
   "cell_type": "code",
   "execution_count": 6,
   "id": "2bd363b7-c544-47b8-8c7b-2b17968567f9",
   "metadata": {},
   "outputs": [
    {
     "data": {
      "text/plain": [
       "defaultdict(set,\n",
       "            {0: {0, 1, 2, 3, 4, 5, 6},\n",
       "             1: {0, 1, 2, 3, 4, 6, 11, 12},\n",
       "             2: {0, 1, 2, 3, 4},\n",
       "             3: {0, 1, 2, 3, 4},\n",
       "             4: {0, 1, 2, 3, 4},\n",
       "             5: {0, 5, 6},\n",
       "             6: {0, 1, 5, 6, 7, 8, 9, 10},\n",
       "             7: {6, 7, 8, 9, 10},\n",
       "             8: {6, 7, 8, 9, 10},\n",
       "             9: {6, 7, 8, 9, 10},\n",
       "             10: {6, 7, 8, 9, 10},\n",
       "             11: {1, 11, 12},\n",
       "             12: {1, 11, 12}})"
      ]
     },
     "execution_count": 6,
     "metadata": {},
     "output_type": "execute_result"
    }
   ],
   "source": [
    "dataset.interacted"
   ]
  },
  {
   "cell_type": "code",
   "execution_count": 7,
   "id": "26b4120d-61e5-42df-917e-1cc4ef22e815",
   "metadata": {},
   "outputs": [
    {
     "name": "stdout",
     "output_type": "stream",
     "text": [
      "(tensor(0), tensor(1))\n",
      "(tensor(0), tensor(12))\n",
      "(tensor(0), tensor(11))\n"
     ]
    }
   ],
   "source": [
    "for i in zip(target_items, context_items):\n",
    "    print(i)"
   ]
  },
  {
   "cell_type": "code",
   "execution_count": 8,
   "id": "01a5c23c-bd60-4ed1-8f95-ff82ddf1875b",
   "metadata": {},
   "outputs": [
    {
     "data": {
      "text/plain": [
       "array([0.12918587, 0.12918587, 0.07681438, 0.07681438, 0.07681438,\n",
       "       0.07681438, 0.12918587, 0.07681438, 0.0456741 , 0.0456741 ,\n",
       "       0.0456741 , 0.0456741 , 0.0456741 ])"
      ]
     },
     "execution_count": 8,
     "metadata": {},
     "output_type": "execute_result"
    }
   ],
   "source": [
    "val_dataset.sampling_probs"
   ]
  },
  {
   "cell_type": "code",
   "execution_count": 9,
   "id": "13c3144f-d88f-44bf-b3ab-64aedd5657bc",
   "metadata": {},
   "outputs": [
    {
     "data": {
      "text/plain": [
       "defaultdict(set,\n",
       "            {0: {0, 1, 2, 3, 4, 5, 6},\n",
       "             1: {0, 1, 2, 3, 4, 6, 11, 12},\n",
       "             2: {0, 1, 2, 3, 4},\n",
       "             3: {0, 1, 2, 3, 4},\n",
       "             4: {0, 1, 2, 3, 4},\n",
       "             5: {0, 5, 6, 7},\n",
       "             6: {0, 1, 5, 6, 7, 8, 9, 10},\n",
       "             7: {5, 6, 7, 8, 9, 10},\n",
       "             8: {6, 7, 8, 9, 10},\n",
       "             9: {6, 7, 8, 9, 10},\n",
       "             10: {6, 7, 8, 9, 10},\n",
       "             11: {1, 11, 12},\n",
       "             12: {1, 11, 12}})"
      ]
     },
     "execution_count": 9,
     "metadata": {},
     "output_type": "execute_result"
    }
   ],
   "source": [
    "val_dataset.interacted"
   ]
  },
  {
   "cell_type": "markdown",
   "id": "c1c908ef-d593-46e3-af40-836cb54bd2fe",
   "metadata": {},
   "source": [
    "## Test no conflicting labels"
   ]
  },
  {
   "cell_type": "code",
   "execution_count": 10,
   "id": "9b50a1df-1ee8-4534-bfd1-c7f17cfcc2ed",
   "metadata": {},
   "outputs": [],
   "source": [
    "dataloader = DataLoader(\n",
    "    dataset,\n",
    "    batch_size=args.batch_size,\n",
    "    shuffle=False,\n",
    "    drop_last=True,\n",
    "    collate_fn=dataset.collate_fn,\n",
    ")"
   ]
  },
  {
   "cell_type": "code",
   "execution_count": 11,
   "id": "de8a9e89-7bcb-4d8b-b7c4-63061e4a9877",
   "metadata": {
    "scrolled": true
   },
   "outputs": [
    {
     "data": {
      "application/vnd.jupyter.widget-view+json": {
       "model_id": "b95cff07565c45f9841080b519dbda51",
       "version_major": 2,
       "version_minor": 0
      },
      "text/plain": [
       "  0%|          | 0/1 [00:00<?, ?it/s]"
      ]
     },
     "metadata": {},
     "output_type": "display_data"
    }
   ],
   "source": [
    "target_items = []\n",
    "context_items = []\n",
    "labels = []\n",
    "\n",
    "for i, batch_input in tqdm(enumerate(dataloader), total=len(dataloader)):\n",
    "    _target_items = batch_input[\"target_items\"].cpu().detach().numpy()\n",
    "    _context_items = batch_input[\"context_items\"].cpu().detach().numpy()\n",
    "    _labels = batch_input[\"labels\"].cpu().detach().numpy()\n",
    "\n",
    "    target_items.extend(_target_items)\n",
    "    context_items.extend(_context_items)\n",
    "    labels.extend(_labels)\n",
    "\n",
    "test_df = pd.DataFrame(\n",
    "    {\"target_items\": target_items, \"context_items\": context_items, \"labels\": labels}\n",
    ")\n",
    "assert (\n",
    "    test_df.groupby([\"target_items\", \"context_items\"])[\"labels\"]\n",
    "    .nunique()\n",
    "    .loc[lambda s: s > 1]\n",
    "    .shape[0]\n",
    "    == 0\n",
    "), \"Conflicting labels!\""
   ]
  },
  {
   "cell_type": "markdown",
   "id": "8795ca93-372d-43ca-9cea-bb76c67aabba",
   "metadata": {},
   "source": [
    "# Load data"
   ]
  },
  {
   "cell_type": "code",
   "execution_count": 13,
   "id": "494e14aa-03c1-47d8-8720-e82c12d3cc13",
   "metadata": {},
   "outputs": [],
   "source": [
    "train_df = pd.read_parquet(\"../data/train_features.parquet\")\n",
    "val_df = pd.read_parquet(\"../data/val_features.parquet\")"
   ]
  },
  {
   "cell_type": "code",
   "execution_count": 14,
   "id": "20a6ebd8-2da5-4647-8773-b1362ad29315",
   "metadata": {
    "scrolled": true
   },
   "outputs": [
    {
     "data": {
      "text/html": [
       "<div>\n",
       "<style scoped>\n",
       "    .dataframe tbody tr th:only-of-type {\n",
       "        vertical-align: middle;\n",
       "    }\n",
       "\n",
       "    .dataframe tbody tr th {\n",
       "        vertical-align: top;\n",
       "    }\n",
       "\n",
       "    .dataframe thead th {\n",
       "        text-align: right;\n",
       "    }\n",
       "</style>\n",
       "<table border=\"1\" class=\"dataframe\">\n",
       "  <thead>\n",
       "    <tr style=\"text-align: right;\">\n",
       "      <th></th>\n",
       "      <th>user_id</th>\n",
       "      <th>parent_asin</th>\n",
       "      <th>rating</th>\n",
       "      <th>timestamp</th>\n",
       "      <th>user_indice</th>\n",
       "      <th>item_indice</th>\n",
       "      <th>main_category</th>\n",
       "      <th>title</th>\n",
       "      <th>description</th>\n",
       "      <th>categories</th>\n",
       "      <th>price</th>\n",
       "      <th>item_sequence</th>\n",
       "    </tr>\n",
       "  </thead>\n",
       "  <tbody>\n",
       "    <tr>\n",
       "      <th>0</th>\n",
       "      <td>AEN7JFLQCURF54WR5OHY7HOWWMSQ</td>\n",
       "      <td>B08FC5TTBF</td>\n",
       "      <td>5.0</td>\n",
       "      <td>1628644724721</td>\n",
       "      <td>4534</td>\n",
       "      <td>2964</td>\n",
       "      <td>Video Games</td>\n",
       "      <td>Demon's Souls - PlayStation 5</td>\n",
       "      <td>[From Bluepoint Games comes a remake of the Pl...</td>\n",
       "      <td>[Video Games, PlayStation 5, Games]</td>\n",
       "      <td>29.99</td>\n",
       "      <td>[-1, -1, -1, -1, 1193, 2555, 2128, 2005, 746, ...</td>\n",
       "    </tr>\n",
       "    <tr>\n",
       "      <th>1</th>\n",
       "      <td>AELH2ZF5QSSIFBF6WXAZLCF7JIWA</td>\n",
       "      <td>B0C6DH316S</td>\n",
       "      <td>2.0</td>\n",
       "      <td>1628653733506</td>\n",
       "      <td>9742</td>\n",
       "      <td>1011</td>\n",
       "      <td>Computers</td>\n",
       "      <td>Logitech G PRO X Wireless Lightspeed Gaming He...</td>\n",
       "      <td>[]</td>\n",
       "      <td>[Video Games, PC, Accessories, Headsets]</td>\n",
       "      <td>253.82</td>\n",
       "      <td>[-1, -1, -1, -1, 1718, 236, 3743, 717, 445, 4206]</td>\n",
       "    </tr>\n",
       "    <tr>\n",
       "      <th>2</th>\n",
       "      <td>AGD4QHNPSC45XTUPSUE6TYQOF3WQ</td>\n",
       "      <td>B0BN5DC36N</td>\n",
       "      <td>5.0</td>\n",
       "      <td>1628679010802</td>\n",
       "      <td>5590</td>\n",
       "      <td>121</td>\n",
       "      <td>Computers</td>\n",
       "      <td>Seagate Horizon Forbidden West Limited Edition...</td>\n",
       "      <td>[Discover new worlds with the officially-licen...</td>\n",
       "      <td>[Video Games, Legacy Systems, PlayStation Syst...</td>\n",
       "      <td>89.99</td>\n",
       "      <td>[3198, 1343, 3527, 4239, 1099, 404, 1764, 2918...</td>\n",
       "    </tr>\n",
       "    <tr>\n",
       "      <th>3</th>\n",
       "      <td>AFMOSTKHH2HFLI35E3YMI7GLYDCQ</td>\n",
       "      <td>B07KRWJCQW</td>\n",
       "      <td>5.0</td>\n",
       "      <td>1628687441776</td>\n",
       "      <td>14779</td>\n",
       "      <td>1340</td>\n",
       "      <td>Video Games</td>\n",
       "      <td>$40 Xbox Gift Card [Digital Code]</td>\n",
       "      <td>[Buy an Xbox Gift Card for yourself or a frien...</td>\n",
       "      <td>[Video Games, Online Game Services, Xbox Live,...</td>\n",
       "      <td>40.0</td>\n",
       "      <td>[-1, -1, 4159, 1210, 3623, 1622, 416, 184, 404...</td>\n",
       "    </tr>\n",
       "    <tr>\n",
       "      <th>4</th>\n",
       "      <td>AGK34QNFABMBLRESDKG2VRC3VIIQ</td>\n",
       "      <td>B0BL65X86R</td>\n",
       "      <td>5.0</td>\n",
       "      <td>1628702768435</td>\n",
       "      <td>1124</td>\n",
       "      <td>259</td>\n",
       "      <td>Video Games</td>\n",
       "      <td>$25 PlayStation Store Gift Card [Digital Code]</td>\n",
       "      <td>[Redeem against anything on PlayStation Store....</td>\n",
       "      <td>[Video Games, Online Game Services, PlayStatio...</td>\n",
       "      <td>25.0</td>\n",
       "      <td>[3296, 4268, 299, 4312, 2745, 4253, 3533, 273,...</td>\n",
       "    </tr>\n",
       "    <tr>\n",
       "      <th>...</th>\n",
       "      <td>...</td>\n",
       "      <td>...</td>\n",
       "      <td>...</td>\n",
       "      <td>...</td>\n",
       "      <td>...</td>\n",
       "      <td>...</td>\n",
       "      <td>...</td>\n",
       "      <td>...</td>\n",
       "      <td>...</td>\n",
       "      <td>...</td>\n",
       "      <td>...</td>\n",
       "      <td>...</td>\n",
       "    </tr>\n",
       "    <tr>\n",
       "      <th>944</th>\n",
       "      <td>AEKYV77UMZZGHT4PZIETDQ6ELJBQ</td>\n",
       "      <td>B08F4C6HCD</td>\n",
       "      <td>5.0</td>\n",
       "      <td>1657816667680</td>\n",
       "      <td>12287</td>\n",
       "      <td>3316</td>\n",
       "      <td>Video Games</td>\n",
       "      <td>Legend of Zelda Link's Awakening - Nintendo Sw...</td>\n",
       "      <td>[“Castaway, you should know the truth!” As Lin...</td>\n",
       "      <td>[Video Games, Nintendo Switch, Games]</td>\n",
       "      <td>59.88</td>\n",
       "      <td>[3447, 928, 3817, 2783, 3978, 3042, 2199, 2717...</td>\n",
       "    </tr>\n",
       "    <tr>\n",
       "      <th>945</th>\n",
       "      <td>AGUFCRCH7HOUQ5FQYSJETEEFAYOA</td>\n",
       "      <td>B00DBDPOZ4</td>\n",
       "      <td>5.0</td>\n",
       "      <td>1657855227062</td>\n",
       "      <td>5263</td>\n",
       "      <td>4030</td>\n",
       "      <td>Video Games</td>\n",
       "      <td>Xbox One Play and Charge Kit</td>\n",
       "      <td>[Keep the action going with the Xbox One Play ...</td>\n",
       "      <td>[Video Games, Xbox One, Accessories]</td>\n",
       "      <td>34.99</td>\n",
       "      <td>[-1, -1, -1, -1, -1, 826, 4046, 2798, 512, 3847]</td>\n",
       "    </tr>\n",
       "    <tr>\n",
       "      <th>946</th>\n",
       "      <td>AHJUZFMUESAEQBPC2QQMBDVUBYFQ</td>\n",
       "      <td>B0B1PB5L93</td>\n",
       "      <td>4.0</td>\n",
       "      <td>1657883331431</td>\n",
       "      <td>1380</td>\n",
       "      <td>32</td>\n",
       "      <td>Computers</td>\n",
       "      <td>Razer Viper Ultimate Lightweight Wireless Gami...</td>\n",
       "      <td>[Forget about average and claim the unfair adv...</td>\n",
       "      <td>[Video Games, PC, Accessories, Gaming Mice]</td>\n",
       "      <td>89.99</td>\n",
       "      <td>[-1, -1, -1, 2092, 3505, 2594, 4336, 4023, 272...</td>\n",
       "    </tr>\n",
       "    <tr>\n",
       "      <th>947</th>\n",
       "      <td>AE5UUBPDQX4MRFFDW7D3IKHQYIEQ</td>\n",
       "      <td>B00ZJBSBD8</td>\n",
       "      <td>5.0</td>\n",
       "      <td>1657945454164</td>\n",
       "      <td>20279</td>\n",
       "      <td>1722</td>\n",
       "      <td>Video Games</td>\n",
       "      <td>Trackmania Turbo-Nla</td>\n",
       "      <td>[Step into the wild car fantasy world of Track...</td>\n",
       "      <td>[Video Games, PlayStation 4, Games]</td>\n",
       "      <td>13.68</td>\n",
       "      <td>[3827, 759, 2376, 3337, 2196, 1980, 2, 2266, 4...</td>\n",
       "    </tr>\n",
       "    <tr>\n",
       "      <th>948</th>\n",
       "      <td>AF54JR3WONKVAUZUYDLOOPZN7NFQ</td>\n",
       "      <td>B0C37RBK2R</td>\n",
       "      <td>5.0</td>\n",
       "      <td>1657950291114</td>\n",
       "      <td>6176</td>\n",
       "      <td>3544</td>\n",
       "      <td>Video Games</td>\n",
       "      <td>Xbox Series S</td>\n",
       "      <td>[Introducing the Xbox Series S, the smallest, ...</td>\n",
       "      <td>[]</td>\n",
       "      <td>279.0</td>\n",
       "      <td>[-1, -1, -1, 1822, 654, 3554, 4167, 1078, 1096...</td>\n",
       "    </tr>\n",
       "  </tbody>\n",
       "</table>\n",
       "<p>949 rows × 12 columns</p>\n",
       "</div>"
      ],
      "text/plain": [
       "                          user_id parent_asin  rating      timestamp  \\\n",
       "0    AEN7JFLQCURF54WR5OHY7HOWWMSQ  B08FC5TTBF     5.0  1628644724721   \n",
       "1    AELH2ZF5QSSIFBF6WXAZLCF7JIWA  B0C6DH316S     2.0  1628653733506   \n",
       "2    AGD4QHNPSC45XTUPSUE6TYQOF3WQ  B0BN5DC36N     5.0  1628679010802   \n",
       "3    AFMOSTKHH2HFLI35E3YMI7GLYDCQ  B07KRWJCQW     5.0  1628687441776   \n",
       "4    AGK34QNFABMBLRESDKG2VRC3VIIQ  B0BL65X86R     5.0  1628702768435   \n",
       "..                            ...         ...     ...            ...   \n",
       "944  AEKYV77UMZZGHT4PZIETDQ6ELJBQ  B08F4C6HCD     5.0  1657816667680   \n",
       "945  AGUFCRCH7HOUQ5FQYSJETEEFAYOA  B00DBDPOZ4     5.0  1657855227062   \n",
       "946  AHJUZFMUESAEQBPC2QQMBDVUBYFQ  B0B1PB5L93     4.0  1657883331431   \n",
       "947  AE5UUBPDQX4MRFFDW7D3IKHQYIEQ  B00ZJBSBD8     5.0  1657945454164   \n",
       "948  AF54JR3WONKVAUZUYDLOOPZN7NFQ  B0C37RBK2R     5.0  1657950291114   \n",
       "\n",
       "     user_indice  item_indice main_category  \\\n",
       "0           4534         2964   Video Games   \n",
       "1           9742         1011     Computers   \n",
       "2           5590          121     Computers   \n",
       "3          14779         1340   Video Games   \n",
       "4           1124          259   Video Games   \n",
       "..           ...          ...           ...   \n",
       "944        12287         3316   Video Games   \n",
       "945         5263         4030   Video Games   \n",
       "946         1380           32     Computers   \n",
       "947        20279         1722   Video Games   \n",
       "948         6176         3544   Video Games   \n",
       "\n",
       "                                                 title  \\\n",
       "0                        Demon's Souls - PlayStation 5   \n",
       "1    Logitech G PRO X Wireless Lightspeed Gaming He...   \n",
       "2    Seagate Horizon Forbidden West Limited Edition...   \n",
       "3                    $40 Xbox Gift Card [Digital Code]   \n",
       "4       $25 PlayStation Store Gift Card [Digital Code]   \n",
       "..                                                 ...   \n",
       "944  Legend of Zelda Link's Awakening - Nintendo Sw...   \n",
       "945                       Xbox One Play and Charge Kit   \n",
       "946  Razer Viper Ultimate Lightweight Wireless Gami...   \n",
       "947                               Trackmania Turbo-Nla   \n",
       "948                                      Xbox Series S   \n",
       "\n",
       "                                           description  \\\n",
       "0    [From Bluepoint Games comes a remake of the Pl...   \n",
       "1                                                   []   \n",
       "2    [Discover new worlds with the officially-licen...   \n",
       "3    [Buy an Xbox Gift Card for yourself or a frien...   \n",
       "4    [Redeem against anything on PlayStation Store....   \n",
       "..                                                 ...   \n",
       "944  [“Castaway, you should know the truth!” As Lin...   \n",
       "945  [Keep the action going with the Xbox One Play ...   \n",
       "946  [Forget about average and claim the unfair adv...   \n",
       "947  [Step into the wild car fantasy world of Track...   \n",
       "948  [Introducing the Xbox Series S, the smallest, ...   \n",
       "\n",
       "                                            categories   price  \\\n",
       "0                  [Video Games, PlayStation 5, Games]   29.99   \n",
       "1             [Video Games, PC, Accessories, Headsets]  253.82   \n",
       "2    [Video Games, Legacy Systems, PlayStation Syst...   89.99   \n",
       "3    [Video Games, Online Game Services, Xbox Live,...    40.0   \n",
       "4    [Video Games, Online Game Services, PlayStatio...    25.0   \n",
       "..                                                 ...     ...   \n",
       "944              [Video Games, Nintendo Switch, Games]   59.88   \n",
       "945               [Video Games, Xbox One, Accessories]   34.99   \n",
       "946        [Video Games, PC, Accessories, Gaming Mice]   89.99   \n",
       "947                [Video Games, PlayStation 4, Games]   13.68   \n",
       "948                                                 []   279.0   \n",
       "\n",
       "                                         item_sequence  \n",
       "0    [-1, -1, -1, -1, 1193, 2555, 2128, 2005, 746, ...  \n",
       "1    [-1, -1, -1, -1, 1718, 236, 3743, 717, 445, 4206]  \n",
       "2    [3198, 1343, 3527, 4239, 1099, 404, 1764, 2918...  \n",
       "3    [-1, -1, 4159, 1210, 3623, 1622, 416, 184, 404...  \n",
       "4    [3296, 4268, 299, 4312, 2745, 4253, 3533, 273,...  \n",
       "..                                                 ...  \n",
       "944  [3447, 928, 3817, 2783, 3978, 3042, 2199, 2717...  \n",
       "945   [-1, -1, -1, -1, -1, 826, 4046, 2798, 512, 3847]  \n",
       "946  [-1, -1, -1, 2092, 3505, 2594, 4336, 4023, 272...  \n",
       "947  [3827, 759, 2376, 3337, 2196, 1980, 2, 2266, 4...  \n",
       "948  [-1, -1, -1, 1822, 654, 3554, 4167, 1078, 1096...  \n",
       "\n",
       "[949 rows x 12 columns]"
      ]
     },
     "execution_count": 14,
     "metadata": {},
     "output_type": "execute_result"
    }
   ],
   "source": [
    "val_df"
   ]
  },
  {
   "cell_type": "code",
   "execution_count": 15,
   "id": "a7fe194e-94a7-4f2b-bef4-22db0a223149",
   "metadata": {},
   "outputs": [],
   "source": [
    "def get_sequence(df, user_col=args.user_col, item_col=args.item_col):\n",
    "    return (\n",
    "        df.groupby(user_col)[item_col]\n",
    "        .agg(list)\n",
    "        .loc[lambda s: s.apply(len) > 1]  # Remove sequence with only one item\n",
    "    ).values.tolist()"
   ]
  },
  {
   "cell_type": "code",
   "execution_count": 16,
   "id": "27ce7e75-4903-4d75-9c70-2da337864c26",
   "metadata": {
    "scrolled": true
   },
   "outputs": [
    {
     "data": {
      "text/plain": [
       "20366"
      ]
     },
     "execution_count": 16,
     "metadata": {},
     "output_type": "execute_result"
    }
   ],
   "source": [
    "item_sequence = train_df.pipe(get_sequence)\n",
    "len(item_sequence)"
   ]
  },
  {
   "cell_type": "code",
   "execution_count": 17,
   "id": "b23939a8-ee72-4b93-82d2-a83423a3ff01",
   "metadata": {
    "scrolled": true
   },
   "outputs": [
    {
     "data": {
      "text/plain": [
       "147"
      ]
     },
     "execution_count": 17,
     "metadata": {},
     "output_type": "execute_result"
    }
   ],
   "source": [
    "val_item_sequence = val_df.pipe(get_sequence)\n",
    "len(val_item_sequence)"
   ]
  },
  {
   "cell_type": "markdown",
   "id": "832beb3a-e6dd-46a0-9d88-579862bc2be5",
   "metadata": {},
   "source": [
    "## Persist"
   ]
  },
  {
   "cell_type": "code",
   "execution_count": 18,
   "id": "a30d14cf-c33b-40b3-a981-380a483dd837",
   "metadata": {
    "scrolled": true
   },
   "outputs": [
    {
     "name": "stderr",
     "output_type": "stream",
     "text": [
      "\u001b[32m2024-09-24 21:03:03.828\u001b[0m | \u001b[1mINFO    \u001b[0m | \u001b[36m__main__\u001b[0m:\u001b[36m<module>\u001b[0m:\u001b[36m11\u001b[0m - \u001b[1mlen(item_sequence)=20,366 len(val_item_sequence)=147\u001b[0m\n"
     ]
    }
   ],
   "source": [
    "with open(\"../data/item_sequence.json\", \"w\") as f:\n",
    "    json.dump(item_sequence, f)\n",
    "with open(\"../data/val_item_sequence.json\", \"w\") as f:\n",
    "    json.dump(val_item_sequence, f)\n",
    "\n",
    "with open(\"../data/item_sequence.json\", \"r\") as f:\n",
    "    item_sequence = json.load(f)\n",
    "with open(\"../data/val_item_sequence.json\", \"r\") as f:\n",
    "    val_item_sequence = json.load(f)\n",
    "\n",
    "logger.info(f\"{len(item_sequence)=:,.0f} {len(val_item_sequence)=:,.0f}\")"
   ]
  },
  {
   "cell_type": "markdown",
   "id": "3b0ec31a-4a48-49c8-af9d-9d23c98a7d90",
   "metadata": {},
   "source": [
    "# Run with all data"
   ]
  },
  {
   "cell_type": "code",
   "execution_count": 19,
   "id": "b5523eb7-e47e-4ca2-9cba-efe0e7ad7499",
   "metadata": {},
   "outputs": [
    {
     "name": "stderr",
     "output_type": "stream",
     "text": [
      "\u001b[32m2024-09-24 21:03:03.836\u001b[0m | \u001b[1mINFO    \u001b[0m | \u001b[36msrc.skipgram.dataset\u001b[0m:\u001b[36m__init__\u001b[0m:\u001b[36m53\u001b[0m - \u001b[1mProcessing sequences to build interaction data...\u001b[0m\n"
     ]
    },
    {
     "data": {
      "application/vnd.jupyter.widget-view+json": {
       "model_id": "b15ad0c0d01e486586d2300664d0fab7",
       "version_major": 2,
       "version_minor": 0
      },
      "text/plain": [
       "Building interactions:   0%|          | 0/20366 [00:00<?, ?it/s]"
      ]
     },
     "metadata": {},
     "output_type": "display_data"
    },
    {
     "name": "stdout",
     "output_type": "stream",
     "text": [
      "target_items context_items labels\n"
     ]
    }
   ],
   "source": [
    "# Create dataset with frequency-based negative sampling\n",
    "dataset = SkipGramDataset(\n",
    "    item_sequence,\n",
    "    window_size=args.window_size,\n",
    "    negative_samples=args.num_negative_samples,\n",
    ")\n",
    "\n",
    "# Example of getting the first item\n",
    "target_items, context_items, labels = dataset[0]\n",
    "print(target_items, context_items, labels)"
   ]
  },
  {
   "cell_type": "code",
   "execution_count": 20,
   "id": "159cc17e-7b60-491f-8f30-8e941f9c6929",
   "metadata": {},
   "outputs": [],
   "source": [
    "dataloader = DataLoader(\n",
    "    dataset,\n",
    "    batch_size=args.batch_size,\n",
    "    shuffle=False,\n",
    "    drop_last=True,\n",
    "    collate_fn=dataset.collate_fn,\n",
    ")"
   ]
  },
  {
   "cell_type": "code",
   "execution_count": 21,
   "id": "6d1e528a-87d6-4274-9c43-1a57e361abbe",
   "metadata": {},
   "outputs": [
    {
     "name": "stdout",
     "output_type": "stream",
     "text": [
      "{'target_items': tensor([ 0,  0,  0,  0,  0,  0,  1,  1,  1,  1,  1,  1,  1,  1,  1,  1,  1,  1,\n",
      "         2,  2,  2,  2,  2,  2,  2,  2,  2,  2,  2,  2,  3,  3,  3,  3,  3,  3,\n",
      "         3,  3,  3,  3,  3,  3,  4,  4,  4,  4,  4,  4,  4,  4,  4,  4,  4,  4,\n",
      "         5,  5,  5,  5,  5,  5,  5,  5,  5,  5,  5,  5,  6,  6,  6,  6,  6,  6,\n",
      "         6,  6,  6,  6,  6,  6,  7,  7,  7,  7,  7,  7,  8,  8,  8,  8,  8,  8,\n",
      "         9,  9,  9,  9,  9,  9,  9,  9,  9,  9,  9,  9, 10, 10, 10, 10, 10, 10,\n",
      "        10, 10, 10, 10, 10, 10, 11, 11, 11, 11, 11, 11, 11, 11, 11, 11, 11, 11,\n",
      "        12, 12, 12, 12, 12, 12, 12, 12, 12, 12, 12, 12, 13, 13, 13, 13, 13, 13,\n",
      "        14, 14, 14, 14, 14, 14, 15, 15, 15, 15, 15, 15, 15, 15, 15, 15, 15, 15]), 'context_items': tensor([   1, 1128, 3849, 2060,  219, 3500,    0,    2, 1894, 4237, 2116, 3459,\n",
      "        4362,  852, 3532, 1046, 4429, 1353,    1,    3,  226, 2099, 3950, 2171,\n",
      "        4628, 4091, 2499,  341,  766,   44,    2,    4, 1658, 1788, 2629, 4057,\n",
      "         960, 3029,  478,  157, 4253, 2795,    3,    5, 1278, 3938, 4302, 1582,\n",
      "        4229, 1334, 1372, 2029,   45,   57,    4,    6,  813, 3332, 2258, 4042,\n",
      "        3370, 4321,  205, 2585,  723, 3898,    5,    7, 2259, 2593, 3144, 1065,\n",
      "         119, 2923, 1921, 2978, 3321, 1976,    6, 4109,  291,  920, 2338,  569,\n",
      "           9, 2028, 2612, 4432, 4278, 1201,    8,   10, 2950, 4547, 4043, 1758,\n",
      "         449, 4207, 2898,  985, 4515, 3151,    9,   11, 1150,  790, 4486, 3798,\n",
      "        4238, 1981, 1587,  192, 1056, 3366,   10,   12, 1652,  154, 1408,  654,\n",
      "        4414, 3611, 4055,  777,  966, 1694,   11,   13, 1252,  402,  128,  592,\n",
      "        1679, 4306, 1016, 3216, 4355, 1049,   12, 2713,  591,   49,  381, 1368,\n",
      "          15, 3452, 2404, 2691, 2985,  585,   14,   16, 1941, 1846, 1440, 2663,\n",
      "          65,  988,  103,  148,  779, 2305]), 'labels': tensor([1., 0., 0., 0., 0., 0., 1., 1., 0., 0., 0., 0., 0., 0., 0., 0., 0., 0.,\n",
      "        1., 1., 0., 0., 0., 0., 0., 0., 0., 0., 0., 0., 1., 1., 0., 0., 0., 0.,\n",
      "        0., 0., 0., 0., 0., 0., 1., 1., 0., 0., 0., 0., 0., 0., 0., 0., 0., 0.,\n",
      "        1., 1., 0., 0., 0., 0., 0., 0., 0., 0., 0., 0., 1., 1., 0., 0., 0., 0.,\n",
      "        0., 0., 0., 0., 0., 0., 1., 0., 0., 0., 0., 0., 1., 0., 0., 0., 0., 0.,\n",
      "        1., 1., 0., 0., 0., 0., 0., 0., 0., 0., 0., 0., 1., 1., 0., 0., 0., 0.,\n",
      "        0., 0., 0., 0., 0., 0., 1., 1., 0., 0., 0., 0., 0., 0., 0., 0., 0., 0.,\n",
      "        1., 1., 0., 0., 0., 0., 0., 0., 0., 0., 0., 0., 1., 0., 0., 0., 0., 0.,\n",
      "        1., 0., 0., 0., 0., 0., 1., 1., 0., 0., 0., 0., 0., 0., 0., 0., 0., 0.])}\n"
     ]
    }
   ],
   "source": [
    "for batch_input in dataloader:\n",
    "    print(batch_input)\n",
    "    break"
   ]
  },
  {
   "cell_type": "code",
   "execution_count": 22,
   "id": "f1b40bb3-ae77-4262-b7ee-ad47954d290e",
   "metadata": {},
   "outputs": [
    {
     "data": {
      "text/plain": [
       "['B00029QOQS',\n",
       " 'B0006B7DXA',\n",
       " 'B001LETH2Q',\n",
       " 'B0009XEC02',\n",
       " 'B000NNDN1M',\n",
       " 'B00136MBHA',\n",
       " 'B007VTVRFA',\n",
       " 'B0053BCML6']"
      ]
     },
     "execution_count": 22,
     "metadata": {},
     "output_type": "execute_result"
    }
   ],
   "source": [
    "item_sequence[0]"
   ]
  },
  {
   "cell_type": "code",
   "execution_count": 23,
   "id": "0759b19d-6977-4d07-8dd9-907bca7c8c42",
   "metadata": {
    "scrolled": true
   },
   "outputs": [
    {
     "data": {
      "text/plain": [
       "{28,\n",
       " 34,\n",
       " 80,\n",
       " 82,\n",
       " 99,\n",
       " 139,\n",
       " 160,\n",
       " 200,\n",
       " 232,\n",
       " 249,\n",
       " 269,\n",
       " 294,\n",
       " 327,\n",
       " 342,\n",
       " 370,\n",
       " 378,\n",
       " 488,\n",
       " 496,\n",
       " 534,\n",
       " 543,\n",
       " 585,\n",
       " 590,\n",
       " 609,\n",
       " 611,\n",
       " 629,\n",
       " 731,\n",
       " 747,\n",
       " 756,\n",
       " 858,\n",
       " 955,\n",
       " 987,\n",
       " 1014,\n",
       " 1111,\n",
       " 1116,\n",
       " 1148,\n",
       " 1183,\n",
       " 1194,\n",
       " 1267,\n",
       " 1366,\n",
       " 1373,\n",
       " 1456,\n",
       " 1490,\n",
       " 1509,\n",
       " 1513,\n",
       " 1539,\n",
       " 1615,\n",
       " 1884,\n",
       " 1935,\n",
       " 1973,\n",
       " 2190,\n",
       " 2228,\n",
       " 2251,\n",
       " 2314,\n",
       " 2323,\n",
       " 2332,\n",
       " 2548,\n",
       " 2595,\n",
       " 2663,\n",
       " 2679,\n",
       " 2682,\n",
       " 2717,\n",
       " 2721,\n",
       " 2764,\n",
       " 2787,\n",
       " 2813,\n",
       " 2833,\n",
       " 3000,\n",
       " 3002,\n",
       " 3079,\n",
       " 3152,\n",
       " 3169,\n",
       " 3214,\n",
       " 3225,\n",
       " 3307,\n",
       " 3531,\n",
       " 3562,\n",
       " 3633,\n",
       " 3899,\n",
       " 4005,\n",
       " 4034,\n",
       " 4046,\n",
       " 4087,\n",
       " 4288,\n",
       " 4333,\n",
       " 4355,\n",
       " 4660}"
      ]
     },
     "execution_count": 23,
     "metadata": {},
     "output_type": "execute_result"
    }
   ],
   "source": [
    "dataset.interacted[2314]"
   ]
  },
  {
   "cell_type": "code",
   "execution_count": 24,
   "id": "6333ab2c-14f9-4d44-bdaa-20f00c9d8c6c",
   "metadata": {},
   "outputs": [
    {
     "name": "stderr",
     "output_type": "stream",
     "text": [
      "\u001b[32m2024-09-24 21:03:04.380\u001b[0m | \u001b[1mINFO    \u001b[0m | \u001b[36msrc.skipgram.dataset\u001b[0m:\u001b[36m__init__\u001b[0m:\u001b[36m53\u001b[0m - \u001b[1mProcessing sequences to build interaction data...\u001b[0m\n"
     ]
    },
    {
     "data": {
      "application/vnd.jupyter.widget-view+json": {
       "model_id": "426e945adff1450bb6bee7b87984a13e",
       "version_major": 2,
       "version_minor": 0
      },
      "text/plain": [
       "Building interactions:   0%|          | 0/147 [00:00<?, ?it/s]"
      ]
     },
     "metadata": {},
     "output_type": "display_data"
    }
   ],
   "source": [
    "val_dataset = SkipGramDataset(\n",
    "    val_item_sequence,\n",
    "    interacted=dataset.interacted,\n",
    "    item_freq=dataset.item_freq,\n",
    "    window_size=args.window_size,\n",
    "    negative_samples=args.num_negative_samples,\n",
    ")\n",
    "val_dataloader = DataLoader(\n",
    "    val_dataset,\n",
    "    batch_size=args.batch_size,\n",
    "    shuffle=False,\n",
    "    drop_last=True,\n",
    "    collate_fn=val_dataset.collate_fn,\n",
    ")"
   ]
  },
  {
   "cell_type": "code",
   "execution_count": 25,
   "id": "b3f32e26-bb25-4f53-a932-c5aa169fa496",
   "metadata": {},
   "outputs": [
    {
     "name": "stdout",
     "output_type": "stream",
     "text": [
      "{'target_items': tensor([ 0,  0,  0,  0,  0,  0,  1,  1,  1,  1,  1,  1,  2,  2,  2,  2,  2,  2,\n",
      "         3,  3,  3,  3,  3,  3,  3,  3,  3,  3,  3,  3,  4,  4,  4,  4,  4,  4,\n",
      "         4,  4,  4,  4,  4,  4,  5,  5,  5,  5,  5,  5,  5,  5,  5,  5,  5,  5,\n",
      "         6,  6,  6,  6,  6,  6,  6,  6,  6,  6,  6,  6,  7,  7,  7,  7,  7,  7,\n",
      "         7,  7,  7,  7,  7,  7,  8,  8,  8,  8,  8,  8,  9,  9,  9,  9,  9,  9,\n",
      "        10, 10, 10, 10, 10, 10, 11, 11, 11, 11, 11, 11, 12, 12, 12, 12, 12, 12,\n",
      "        12, 12, 12, 12, 12, 12, 13, 13, 13, 13, 13, 13, 13, 13, 13, 13, 13, 13,\n",
      "        14, 14, 14, 14, 14, 14, 14, 14, 14, 14, 14, 14, 15, 15, 15, 15, 15, 15,\n",
      "        15, 15, 15, 15, 15, 15]), 'context_items': tensor([   1, 1920, 1035, 4528, 4050, 3105,    0, 1668,  915, 3968,  265, 3868,\n",
      "           3, 2074, 2169, 2328, 2155,  285,    2,    4,  572,  833, 1703, 2509,\n",
      "        2937, 4450,  475,  136, 1612,  483,    3,    5,  163,  925, 1516, 4230,\n",
      "         894, 3983, 1130, 2980, 2146, 3770,    4,    6,  657, 2921, 1590, 3521,\n",
      "        1185, 2546, 4137, 1900,  894, 3353,    5,    7,  505, 2255, 2734, 2095,\n",
      "         191, 2438, 2358, 4344, 2450, 2674,    6,    8,  344, 1581,   40, 4188,\n",
      "        2527, 1722, 2875,   98, 2690, 1773,    7, 3855, 1164, 2011, 2793, 3343,\n",
      "          10, 3191, 4399, 4419, 3188,  698,    9,  541,  353, 4213, 3258, 3475,\n",
      "          12,  599,  228, 3252, 1316,  960,   11,   13,  208, 4446,  383,  190,\n",
      "        2312, 2317, 1127, 3219, 4253, 1295,   12,   14, 1816, 3885,  303, 4342,\n",
      "        1307, 2121, 2426, 1896, 1496, 2940,   13,   15, 3203,  940,   94, 1705,\n",
      "        2440,  941, 2123,  846, 2468,  980,   14,   16, 3280, 3951, 1640, 1228,\n",
      "         500,    7, 2503, 1023,  213, 3205]), 'labels': tensor([1., 0., 0., 0., 0., 0., 1., 0., 0., 0., 0., 0., 1., 0., 0., 0., 0., 0.,\n",
      "        1., 1., 0., 0., 0., 0., 0., 0., 0., 0., 0., 0., 1., 1., 0., 0., 0., 0.,\n",
      "        0., 0., 0., 0., 0., 0., 1., 1., 0., 0., 0., 0., 0., 0., 0., 0., 0., 0.,\n",
      "        1., 1., 0., 0., 0., 0., 0., 0., 0., 0., 0., 0., 1., 1., 0., 0., 0., 0.,\n",
      "        0., 0., 0., 0., 0., 0., 1., 0., 0., 0., 0., 0., 1., 0., 0., 0., 0., 0.,\n",
      "        1., 0., 0., 0., 0., 0., 1., 0., 0., 0., 0., 0., 1., 1., 0., 0., 0., 0.,\n",
      "        0., 0., 0., 0., 0., 0., 1., 1., 0., 0., 0., 0., 0., 0., 0., 0., 0., 0.,\n",
      "        1., 1., 0., 0., 0., 0., 0., 0., 0., 0., 0., 0., 1., 1., 0., 0., 0., 0.,\n",
      "        0., 0., 0., 0., 0., 0.])}\n"
     ]
    }
   ],
   "source": [
    "for batch_input in val_dataloader:\n",
    "    print(batch_input)\n",
    "    break"
   ]
  },
  {
   "cell_type": "code",
   "execution_count": 26,
   "id": "cf0df372-8e5c-40ed-a629-c6ef371061db",
   "metadata": {
    "scrolled": true
   },
   "outputs": [
    {
     "data": {
      "text/plain": [
       "{'target_items': tensor([0, 0, 0, 0, 0, 0]),\n",
       " 'context_items': tensor([   1, 3677, 1900,  884, 3292, 3148]),\n",
       " 'labels': tensor([1., 0., 0., 0., 0., 0.])}"
      ]
     },
     "execution_count": 26,
     "metadata": {},
     "output_type": "execute_result"
    }
   ],
   "source": [
    "val_dataset[0]"
   ]
  },
  {
   "cell_type": "code",
   "execution_count": null,
   "id": "86f8a882-dea1-4bef-b923-023661118d31",
   "metadata": {},
   "outputs": [],
   "source": []
  },
  {
   "cell_type": "code",
   "execution_count": null,
   "id": "eff8da2a-2ab3-476d-8774-786a1f4a41e9",
   "metadata": {},
   "outputs": [],
   "source": []
  }
 ],
 "metadata": {
  "kernelspec": {
   "display_name": "Python 3 (ipykernel)",
   "language": "python",
   "name": "python3"
  },
  "language_info": {
   "codemirror_mode": {
    "name": "ipython",
    "version": 3
   },
   "file_extension": ".py",
   "mimetype": "text/x-python",
   "name": "python",
   "nbconvert_exporter": "python",
   "pygments_lexer": "ipython3",
   "version": "3.11.9"
  }
 },
 "nbformat": 4,
 "nbformat_minor": 5
}
