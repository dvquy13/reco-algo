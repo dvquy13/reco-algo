{
 "cells": [
  {
   "cell_type": "markdown",
   "id": "9327920e-f1b7-4dc6-9378-9b009eccd9c2",
   "metadata": {},
   "source": [
    "# Build sequence data loaders for Skip Gram"
   ]
  },
  {
   "cell_type": "markdown",
   "id": "32a6ffed-14dc-4c14-9758-000201389036",
   "metadata": {},
   "source": [
    "# Set up"
   ]
  },
  {
   "cell_type": "code",
   "execution_count": 1,
   "id": "8e7b8b86-b92f-4c06-92eb-718be5a66d85",
   "metadata": {},
   "outputs": [],
   "source": [
    "%load_ext autoreload\n",
    "%autoreload 2"
   ]
  },
  {
   "cell_type": "code",
   "execution_count": 2,
   "id": "1e9436e1-1542-452e-9f0c-d621591ed7cc",
   "metadata": {},
   "outputs": [],
   "source": [
    "import json\n",
    "import sys\n",
    "\n",
    "import pandas as pd\n",
    "from loguru import logger\n",
    "from pydantic import BaseModel\n",
    "from torch.utils.data import DataLoader\n",
    "from tqdm.auto import tqdm\n",
    "\n",
    "sys.path.insert(0, \"..\")\n",
    "from src.skipgram.dataset import SkipGramDataset"
   ]
  },
  {
   "cell_type": "markdown",
   "id": "3719ad7c-84b1-4c85-bf35-4cb016a923e3",
   "metadata": {},
   "source": [
    "# Controller"
   ]
  },
  {
   "cell_type": "code",
   "execution_count": 3,
   "id": "14a7f8d7-cdbe-4e1e-809f-adfbcb3cd3f1",
   "metadata": {},
   "outputs": [
    {
     "name": "stdout",
     "output_type": "stream",
     "text": [
      "{\n",
      "  \"num_negative_samples\": 5,\n",
      "  \"window_size\": 1,\n",
      "  \"batch_size\": 16,\n",
      "  \"user_col\": \"user_id\",\n",
      "  \"item_col\": \"parent_asin\"\n",
      "}\n"
     ]
    }
   ],
   "source": [
    "class Args(BaseModel):\n",
    "    num_negative_samples: int = 5\n",
    "    window_size: int = 1\n",
    "    batch_size: int = 16\n",
    "\n",
    "    user_col: str = \"user_id\"\n",
    "    item_col: str = \"parent_asin\"\n",
    "\n",
    "\n",
    "args = Args()\n",
    "print(args.model_dump_json(indent=2))"
   ]
  },
  {
   "cell_type": "markdown",
   "id": "03ff335f-42ef-4364-987c-06536f275f1e",
   "metadata": {},
   "source": [
    "# Test implementation"
   ]
  },
  {
   "cell_type": "code",
   "execution_count": 4,
   "id": "b7b41cb9-bcdb-492b-a0b4-6ff53c9736f1",
   "metadata": {},
   "outputs": [
    {
     "name": "stderr",
     "output_type": "stream",
     "text": [
      "\u001b[32m2024-09-25 02:30:46.234\u001b[0m | \u001b[1mINFO    \u001b[0m | \u001b[36msrc.skipgram.dataset\u001b[0m:\u001b[36m__init__\u001b[0m:\u001b[36m53\u001b[0m - \u001b[1mProcessing sequences to build interaction data...\u001b[0m\n"
     ]
    },
    {
     "data": {
      "application/vnd.jupyter.widget-view+json": {
       "model_id": "4fc2fd6f09a6489790979c08429971fb",
       "version_major": 2,
       "version_minor": 0
      },
      "text/plain": [
       "Building interactions:   0%|          | 0/5 [00:00<?, ?it/s]"
      ]
     },
     "metadata": {},
     "output_type": "display_data"
    },
    {
     "name": "stderr",
     "output_type": "stream",
     "text": [
      "\u001b[32m2024-09-25 02:30:46.244\u001b[0m | \u001b[1mINFO    \u001b[0m | \u001b[36msrc.skipgram.dataset\u001b[0m:\u001b[36m__init__\u001b[0m:\u001b[36m53\u001b[0m - \u001b[1mProcessing sequences to build interaction data...\u001b[0m\n"
     ]
    },
    {
     "data": {
      "application/vnd.jupyter.widget-view+json": {
       "model_id": "c6646a2c92c044f98f4ee5a1db1cf028",
       "version_major": 2,
       "version_minor": 0
      },
      "text/plain": [
       "Building interactions:   0%|          | 0/3 [00:00<?, ?it/s]"
      ]
     },
     "metadata": {},
     "output_type": "display_data"
    },
    {
     "name": "stdout",
     "output_type": "stream",
     "text": [
      "tensor([0, 0, 0]) tensor([ 1, 11,  7]) tensor([1., 0., 0.])\n"
     ]
    }
   ],
   "source": [
    "# Example sequences of item IDs\n",
    "# sequences = [\n",
    "#     [1, 2, 3, 4, 0],\n",
    "#     [5, 1, 1, 1, 10],\n",
    "#     [6, 12, 10, 11, 7],\n",
    "#     [1, 2, 10],\n",
    "#     [9, 8, 2],\n",
    "# ]\n",
    "\n",
    "# val_sequences = [\n",
    "#     [5, 11, 12],\n",
    "#     [8, 7],\n",
    "#     [9, 4, 0]\n",
    "# ]\n",
    "\n",
    "sequences = [\n",
    "    [\"b\", \"c\", \"d\", \"e\", \"a\"],\n",
    "    [\"f\", \"b\", \"b\", \"b\", \"k\"],\n",
    "    [\"g\", \"m\", \"k\", \"l\", \"h\"],\n",
    "    [\"b\", \"c\", \"k\"],\n",
    "    [\"j\", \"i\", \"c\"],\n",
    "]\n",
    "\n",
    "val_sequences = [[\"f\", \"l\", \"m\"], [\"i\", \"h\"], [\"j\", \"e\", \"a\"]]\n",
    "\n",
    "# Create dataset with frequency-based negative sampling\n",
    "dataset = SkipGramDataset(sequences, window_size=1, negative_samples=2)\n",
    "val_dataset = SkipGramDataset(\n",
    "    val_sequences,\n",
    "    interacted=dataset.interacted,\n",
    "    item_freq=dataset.item_freq,\n",
    "    window_size=1,\n",
    "    negative_samples=2,\n",
    ")\n",
    "\n",
    "# Example of getting an item\n",
    "inp = dataset[0]\n",
    "target_items = inp[\"target_items\"]\n",
    "context_items = inp[\"context_items\"]\n",
    "labels = inp[\"labels\"]\n",
    "print(target_items, context_items, labels)"
   ]
  },
  {
   "cell_type": "code",
   "execution_count": 5,
   "id": "b0672310-b7f1-4585-b104-ba93c3cc6d44",
   "metadata": {},
   "outputs": [
    {
     "data": {
      "text/plain": [
       "array([0.13537454, 0.13537454, 0.05938764, 0.05938764, 0.05938764,\n",
       "       0.05938764, 0.13537454, 0.05938764, 0.05938764, 0.05938764,\n",
       "       0.05938764, 0.05938764, 0.05938764])"
      ]
     },
     "execution_count": 5,
     "metadata": {},
     "output_type": "execute_result"
    }
   ],
   "source": [
    "dataset.sampling_probs"
   ]
  },
  {
   "cell_type": "code",
   "execution_count": 6,
   "id": "2bd363b7-c544-47b8-8c7b-2b17968567f9",
   "metadata": {},
   "outputs": [
    {
     "data": {
      "text/plain": [
       "defaultdict(set,\n",
       "            {0: {0, 1, 2, 3, 4, 5, 6},\n",
       "             1: {0, 1, 2, 3, 4, 6, 11, 12},\n",
       "             2: {0, 1, 2, 3, 4},\n",
       "             3: {0, 1, 2, 3, 4},\n",
       "             4: {0, 1, 2, 3, 4},\n",
       "             5: {0, 5, 6},\n",
       "             6: {0, 1, 5, 6, 7, 8, 9, 10},\n",
       "             7: {6, 7, 8, 9, 10},\n",
       "             8: {6, 7, 8, 9, 10},\n",
       "             9: {6, 7, 8, 9, 10},\n",
       "             10: {6, 7, 8, 9, 10},\n",
       "             11: {1, 11, 12},\n",
       "             12: {1, 11, 12}})"
      ]
     },
     "execution_count": 6,
     "metadata": {},
     "output_type": "execute_result"
    }
   ],
   "source": [
    "dataset.interacted"
   ]
  },
  {
   "cell_type": "code",
   "execution_count": 7,
   "id": "26b4120d-61e5-42df-917e-1cc4ef22e815",
   "metadata": {},
   "outputs": [
    {
     "name": "stdout",
     "output_type": "stream",
     "text": [
      "(tensor(0), tensor(1))\n",
      "(tensor(0), tensor(11))\n",
      "(tensor(0), tensor(7))\n"
     ]
    }
   ],
   "source": [
    "for i in zip(target_items, context_items):\n",
    "    print(i)"
   ]
  },
  {
   "cell_type": "code",
   "execution_count": 8,
   "id": "01a5c23c-bd60-4ed1-8f95-ff82ddf1875b",
   "metadata": {},
   "outputs": [
    {
     "data": {
      "text/plain": [
       "array([0.12918587, 0.12918587, 0.07681438, 0.07681438, 0.07681438,\n",
       "       0.07681438, 0.12918587, 0.07681438, 0.0456741 , 0.0456741 ,\n",
       "       0.0456741 , 0.0456741 , 0.0456741 ])"
      ]
     },
     "execution_count": 8,
     "metadata": {},
     "output_type": "execute_result"
    }
   ],
   "source": [
    "val_dataset.sampling_probs"
   ]
  },
  {
   "cell_type": "code",
   "execution_count": 9,
   "id": "13c3144f-d88f-44bf-b3ab-64aedd5657bc",
   "metadata": {},
   "outputs": [
    {
     "data": {
      "text/plain": [
       "defaultdict(set,\n",
       "            {0: {0, 1, 2, 3, 4, 5, 6},\n",
       "             1: {0, 1, 2, 3, 4, 6, 11, 12},\n",
       "             2: {0, 1, 2, 3, 4},\n",
       "             3: {0, 1, 2, 3, 4},\n",
       "             4: {0, 1, 2, 3, 4},\n",
       "             5: {0, 5, 6, 7},\n",
       "             6: {0, 1, 5, 6, 7, 8, 9, 10},\n",
       "             7: {5, 6, 7, 8, 9, 10},\n",
       "             8: {6, 7, 8, 9, 10},\n",
       "             9: {6, 7, 8, 9, 10},\n",
       "             10: {6, 7, 8, 9, 10},\n",
       "             11: {1, 11, 12},\n",
       "             12: {1, 11, 12}})"
      ]
     },
     "execution_count": 9,
     "metadata": {},
     "output_type": "execute_result"
    }
   ],
   "source": [
    "val_dataset.interacted"
   ]
  },
  {
   "cell_type": "markdown",
   "id": "c1c908ef-d593-46e3-af40-836cb54bd2fe",
   "metadata": {},
   "source": [
    "## Test no conflicting labels"
   ]
  },
  {
   "cell_type": "code",
   "execution_count": 10,
   "id": "9b50a1df-1ee8-4534-bfd1-c7f17cfcc2ed",
   "metadata": {},
   "outputs": [],
   "source": [
    "dataloader = DataLoader(\n",
    "    dataset,\n",
    "    batch_size=args.batch_size,\n",
    "    shuffle=False,\n",
    "    drop_last=True,\n",
    "    collate_fn=dataset.collate_fn,\n",
    ")"
   ]
  },
  {
   "cell_type": "code",
   "execution_count": 11,
   "id": "de8a9e89-7bcb-4d8b-b7c4-63061e4a9877",
   "metadata": {
    "scrolled": true
   },
   "outputs": [
    {
     "data": {
      "application/vnd.jupyter.widget-view+json": {
       "model_id": "af31e322cd494e869d0aa25aa8745876",
       "version_major": 2,
       "version_minor": 0
      },
      "text/plain": [
       "  0%|          | 0/1 [00:00<?, ?it/s]"
      ]
     },
     "metadata": {},
     "output_type": "display_data"
    }
   ],
   "source": [
    "target_items = []\n",
    "context_items = []\n",
    "labels = []\n",
    "\n",
    "for i, batch_input in tqdm(enumerate(dataloader), total=len(dataloader)):\n",
    "    _target_items = batch_input[\"target_items\"].cpu().detach().numpy()\n",
    "    _context_items = batch_input[\"context_items\"].cpu().detach().numpy()\n",
    "    _labels = batch_input[\"labels\"].cpu().detach().numpy()\n",
    "\n",
    "    target_items.extend(_target_items)\n",
    "    context_items.extend(_context_items)\n",
    "    labels.extend(_labels)\n",
    "\n",
    "test_df = pd.DataFrame(\n",
    "    {\"target_items\": target_items, \"context_items\": context_items, \"labels\": labels}\n",
    ")\n",
    "assert (\n",
    "    test_df.groupby([\"target_items\", \"context_items\"])[\"labels\"]\n",
    "    .nunique()\n",
    "    .loc[lambda s: s > 1]\n",
    "    .shape[0]\n",
    "    == 0\n",
    "), \"Conflicting labels!\""
   ]
  },
  {
   "cell_type": "markdown",
   "id": "8795ca93-372d-43ca-9cea-bb76c67aabba",
   "metadata": {},
   "source": [
    "# Load data"
   ]
  },
  {
   "cell_type": "code",
   "execution_count": 12,
   "id": "494e14aa-03c1-47d8-8720-e82c12d3cc13",
   "metadata": {},
   "outputs": [],
   "source": [
    "train_df = pd.read_parquet(\"../data/train_features.parquet\")\n",
    "val_df = pd.read_parquet(\"../data/val_features.parquet\")"
   ]
  },
  {
   "cell_type": "code",
   "execution_count": 13,
   "id": "20a6ebd8-2da5-4647-8773-b1362ad29315",
   "metadata": {
    "scrolled": true
   },
   "outputs": [
    {
     "data": {
      "text/html": [
       "<div>\n",
       "<style scoped>\n",
       "    .dataframe tbody tr th:only-of-type {\n",
       "        vertical-align: middle;\n",
       "    }\n",
       "\n",
       "    .dataframe tbody tr th {\n",
       "        vertical-align: top;\n",
       "    }\n",
       "\n",
       "    .dataframe thead th {\n",
       "        text-align: right;\n",
       "    }\n",
       "</style>\n",
       "<table border=\"1\" class=\"dataframe\">\n",
       "  <thead>\n",
       "    <tr style=\"text-align: right;\">\n",
       "      <th></th>\n",
       "      <th>user_id</th>\n",
       "      <th>parent_asin</th>\n",
       "      <th>rating</th>\n",
       "      <th>timestamp</th>\n",
       "      <th>user_indice</th>\n",
       "      <th>item_indice</th>\n",
       "      <th>main_category</th>\n",
       "      <th>title</th>\n",
       "      <th>description</th>\n",
       "      <th>categories</th>\n",
       "      <th>price</th>\n",
       "      <th>item_sequence</th>\n",
       "    </tr>\n",
       "  </thead>\n",
       "  <tbody>\n",
       "    <tr>\n",
       "      <th>0</th>\n",
       "      <td>AEN7JFLQCURF54WR5OHY7HOWWMSQ</td>\n",
       "      <td>B08FC5TTBF</td>\n",
       "      <td>5.0</td>\n",
       "      <td>1628644724721</td>\n",
       "      <td>17850</td>\n",
       "      <td>910</td>\n",
       "      <td>Video Games</td>\n",
       "      <td>Demon's Souls - PlayStation 5</td>\n",
       "      <td>[From Bluepoint Games comes a remake of the Pl...</td>\n",
       "      <td>[Video Games, PlayStation 5, Games]</td>\n",
       "      <td>29.99</td>\n",
       "      <td>[-1, -1, -1, -1, 3936, 1800, 965, 1011, 3700, ...</td>\n",
       "    </tr>\n",
       "    <tr>\n",
       "      <th>1</th>\n",
       "      <td>AELH2ZF5QSSIFBF6WXAZLCF7JIWA</td>\n",
       "      <td>B0C6DH316S</td>\n",
       "      <td>2.0</td>\n",
       "      <td>1628653733506</td>\n",
       "      <td>3036</td>\n",
       "      <td>1463</td>\n",
       "      <td>Computers</td>\n",
       "      <td>Logitech G PRO X Wireless Lightspeed Gaming He...</td>\n",
       "      <td>[]</td>\n",
       "      <td>[Video Games, PC, Accessories, Headsets]</td>\n",
       "      <td>253.82</td>\n",
       "      <td>[-1, -1, -1, -1, 1887, 3080, 4631, 4656, 8, 4457]</td>\n",
       "    </tr>\n",
       "    <tr>\n",
       "      <th>2</th>\n",
       "      <td>AGD4QHNPSC45XTUPSUE6TYQOF3WQ</td>\n",
       "      <td>B0BN5DC36N</td>\n",
       "      <td>5.0</td>\n",
       "      <td>1628679010802</td>\n",
       "      <td>7636</td>\n",
       "      <td>3256</td>\n",
       "      <td>Computers</td>\n",
       "      <td>Seagate Horizon Forbidden West Limited Edition...</td>\n",
       "      <td>[Discover new worlds with the officially-licen...</td>\n",
       "      <td>[Video Games, Legacy Systems, PlayStation Syst...</td>\n",
       "      <td>89.99</td>\n",
       "      <td>[386, 2180, 3829, 3275, 4504, 2829, 1506, 3624...</td>\n",
       "    </tr>\n",
       "    <tr>\n",
       "      <th>3</th>\n",
       "      <td>AFMOSTKHH2HFLI35E3YMI7GLYDCQ</td>\n",
       "      <td>B07KRWJCQW</td>\n",
       "      <td>5.0</td>\n",
       "      <td>1628687441776</td>\n",
       "      <td>11417</td>\n",
       "      <td>3586</td>\n",
       "      <td>Video Games</td>\n",
       "      <td>$40 Xbox Gift Card [Digital Code]</td>\n",
       "      <td>[Buy an Xbox Gift Card for yourself or a frien...</td>\n",
       "      <td>[Video Games, Online Game Services, Xbox Live,...</td>\n",
       "      <td>40.0</td>\n",
       "      <td>[-1, -1, 2079, 2955, 4278, 4298, 780, 3645, 17...</td>\n",
       "    </tr>\n",
       "    <tr>\n",
       "      <th>4</th>\n",
       "      <td>AGK34QNFABMBLRESDKG2VRC3VIIQ</td>\n",
       "      <td>B0BL65X86R</td>\n",
       "      <td>5.0</td>\n",
       "      <td>1628702768435</td>\n",
       "      <td>16434</td>\n",
       "      <td>3104</td>\n",
       "      <td>Video Games</td>\n",
       "      <td>$25 PlayStation Store Gift Card [Digital Code]</td>\n",
       "      <td>[Redeem against anything on PlayStation Store....</td>\n",
       "      <td>[Video Games, Online Game Services, PlayStatio...</td>\n",
       "      <td>25.0</td>\n",
       "      <td>[918, 3196, 465, 397, 1068, 2077, 2238, 4349, ...</td>\n",
       "    </tr>\n",
       "    <tr>\n",
       "      <th>...</th>\n",
       "      <td>...</td>\n",
       "      <td>...</td>\n",
       "      <td>...</td>\n",
       "      <td>...</td>\n",
       "      <td>...</td>\n",
       "      <td>...</td>\n",
       "      <td>...</td>\n",
       "      <td>...</td>\n",
       "      <td>...</td>\n",
       "      <td>...</td>\n",
       "      <td>...</td>\n",
       "      <td>...</td>\n",
       "    </tr>\n",
       "    <tr>\n",
       "      <th>944</th>\n",
       "      <td>AEKYV77UMZZGHT4PZIETDQ6ELJBQ</td>\n",
       "      <td>B08F4C6HCD</td>\n",
       "      <td>5.0</td>\n",
       "      <td>1657816667680</td>\n",
       "      <td>15474</td>\n",
       "      <td>2647</td>\n",
       "      <td>Video Games</td>\n",
       "      <td>Legend of Zelda Link's Awakening - Nintendo Sw...</td>\n",
       "      <td>[“Castaway, you should know the truth!” As Lin...</td>\n",
       "      <td>[Video Games, Nintendo Switch, Games]</td>\n",
       "      <td>59.88</td>\n",
       "      <td>[1424, 1041, 2933, 3347, 3152, 801, 2420, 1680...</td>\n",
       "    </tr>\n",
       "    <tr>\n",
       "      <th>945</th>\n",
       "      <td>AGUFCRCH7HOUQ5FQYSJETEEFAYOA</td>\n",
       "      <td>B00DBDPOZ4</td>\n",
       "      <td>5.0</td>\n",
       "      <td>1657855227062</td>\n",
       "      <td>19776</td>\n",
       "      <td>1150</td>\n",
       "      <td>Video Games</td>\n",
       "      <td>Xbox One Play and Charge Kit</td>\n",
       "      <td>[Keep the action going with the Xbox One Play ...</td>\n",
       "      <td>[Video Games, Xbox One, Accessories]</td>\n",
       "      <td>34.99</td>\n",
       "      <td>[-1, -1, -1, -1, -1, 2006, 171, 3263, 1825, 2759]</td>\n",
       "    </tr>\n",
       "    <tr>\n",
       "      <th>946</th>\n",
       "      <td>AHJUZFMUESAEQBPC2QQMBDVUBYFQ</td>\n",
       "      <td>B0B1PB5L93</td>\n",
       "      <td>4.0</td>\n",
       "      <td>1657883331431</td>\n",
       "      <td>6226</td>\n",
       "      <td>4672</td>\n",
       "      <td>Computers</td>\n",
       "      <td>Razer Viper Ultimate Lightweight Wireless Gami...</td>\n",
       "      <td>[Forget about average and claim the unfair adv...</td>\n",
       "      <td>[Video Games, PC, Accessories, Gaming Mice]</td>\n",
       "      <td>89.99</td>\n",
       "      <td>[-1, -1, -1, 3382, 1427, 3577, 751, 989, 1482,...</td>\n",
       "    </tr>\n",
       "    <tr>\n",
       "      <th>947</th>\n",
       "      <td>AE5UUBPDQX4MRFFDW7D3IKHQYIEQ</td>\n",
       "      <td>B00ZJBSBD8</td>\n",
       "      <td>5.0</td>\n",
       "      <td>1657945454164</td>\n",
       "      <td>9616</td>\n",
       "      <td>2395</td>\n",
       "      <td>Video Games</td>\n",
       "      <td>Trackmania Turbo-Nla</td>\n",
       "      <td>[Step into the wild car fantasy world of Track...</td>\n",
       "      <td>[Video Games, PlayStation 4, Games]</td>\n",
       "      <td>13.68</td>\n",
       "      <td>[2505, 2993, 1367, 221, 4253, 4625, 3150, 4257...</td>\n",
       "    </tr>\n",
       "    <tr>\n",
       "      <th>948</th>\n",
       "      <td>AF54JR3WONKVAUZUYDLOOPZN7NFQ</td>\n",
       "      <td>B0C37RBK2R</td>\n",
       "      <td>5.0</td>\n",
       "      <td>1657950291114</td>\n",
       "      <td>2508</td>\n",
       "      <td>4279</td>\n",
       "      <td>Video Games</td>\n",
       "      <td>Xbox Series S</td>\n",
       "      <td>[Introducing the Xbox Series S, the smallest, ...</td>\n",
       "      <td>[]</td>\n",
       "      <td>279.0</td>\n",
       "      <td>[-1, -1, -1, 1988, 600, 855, 674, 1920, 92, 3045]</td>\n",
       "    </tr>\n",
       "  </tbody>\n",
       "</table>\n",
       "<p>949 rows × 12 columns</p>\n",
       "</div>"
      ],
      "text/plain": [
       "                          user_id parent_asin  rating      timestamp  \\\n",
       "0    AEN7JFLQCURF54WR5OHY7HOWWMSQ  B08FC5TTBF     5.0  1628644724721   \n",
       "1    AELH2ZF5QSSIFBF6WXAZLCF7JIWA  B0C6DH316S     2.0  1628653733506   \n",
       "2    AGD4QHNPSC45XTUPSUE6TYQOF3WQ  B0BN5DC36N     5.0  1628679010802   \n",
       "3    AFMOSTKHH2HFLI35E3YMI7GLYDCQ  B07KRWJCQW     5.0  1628687441776   \n",
       "4    AGK34QNFABMBLRESDKG2VRC3VIIQ  B0BL65X86R     5.0  1628702768435   \n",
       "..                            ...         ...     ...            ...   \n",
       "944  AEKYV77UMZZGHT4PZIETDQ6ELJBQ  B08F4C6HCD     5.0  1657816667680   \n",
       "945  AGUFCRCH7HOUQ5FQYSJETEEFAYOA  B00DBDPOZ4     5.0  1657855227062   \n",
       "946  AHJUZFMUESAEQBPC2QQMBDVUBYFQ  B0B1PB5L93     4.0  1657883331431   \n",
       "947  AE5UUBPDQX4MRFFDW7D3IKHQYIEQ  B00ZJBSBD8     5.0  1657945454164   \n",
       "948  AF54JR3WONKVAUZUYDLOOPZN7NFQ  B0C37RBK2R     5.0  1657950291114   \n",
       "\n",
       "     user_indice  item_indice main_category  \\\n",
       "0          17850          910   Video Games   \n",
       "1           3036         1463     Computers   \n",
       "2           7636         3256     Computers   \n",
       "3          11417         3586   Video Games   \n",
       "4          16434         3104   Video Games   \n",
       "..           ...          ...           ...   \n",
       "944        15474         2647   Video Games   \n",
       "945        19776         1150   Video Games   \n",
       "946         6226         4672     Computers   \n",
       "947         9616         2395   Video Games   \n",
       "948         2508         4279   Video Games   \n",
       "\n",
       "                                                 title  \\\n",
       "0                        Demon's Souls - PlayStation 5   \n",
       "1    Logitech G PRO X Wireless Lightspeed Gaming He...   \n",
       "2    Seagate Horizon Forbidden West Limited Edition...   \n",
       "3                    $40 Xbox Gift Card [Digital Code]   \n",
       "4       $25 PlayStation Store Gift Card [Digital Code]   \n",
       "..                                                 ...   \n",
       "944  Legend of Zelda Link's Awakening - Nintendo Sw...   \n",
       "945                       Xbox One Play and Charge Kit   \n",
       "946  Razer Viper Ultimate Lightweight Wireless Gami...   \n",
       "947                               Trackmania Turbo-Nla   \n",
       "948                                      Xbox Series S   \n",
       "\n",
       "                                           description  \\\n",
       "0    [From Bluepoint Games comes a remake of the Pl...   \n",
       "1                                                   []   \n",
       "2    [Discover new worlds with the officially-licen...   \n",
       "3    [Buy an Xbox Gift Card for yourself or a frien...   \n",
       "4    [Redeem against anything on PlayStation Store....   \n",
       "..                                                 ...   \n",
       "944  [“Castaway, you should know the truth!” As Lin...   \n",
       "945  [Keep the action going with the Xbox One Play ...   \n",
       "946  [Forget about average and claim the unfair adv...   \n",
       "947  [Step into the wild car fantasy world of Track...   \n",
       "948  [Introducing the Xbox Series S, the smallest, ...   \n",
       "\n",
       "                                            categories   price  \\\n",
       "0                  [Video Games, PlayStation 5, Games]   29.99   \n",
       "1             [Video Games, PC, Accessories, Headsets]  253.82   \n",
       "2    [Video Games, Legacy Systems, PlayStation Syst...   89.99   \n",
       "3    [Video Games, Online Game Services, Xbox Live,...    40.0   \n",
       "4    [Video Games, Online Game Services, PlayStatio...    25.0   \n",
       "..                                                 ...     ...   \n",
       "944              [Video Games, Nintendo Switch, Games]   59.88   \n",
       "945               [Video Games, Xbox One, Accessories]   34.99   \n",
       "946        [Video Games, PC, Accessories, Gaming Mice]   89.99   \n",
       "947                [Video Games, PlayStation 4, Games]   13.68   \n",
       "948                                                 []   279.0   \n",
       "\n",
       "                                         item_sequence  \n",
       "0    [-1, -1, -1, -1, 3936, 1800, 965, 1011, 3700, ...  \n",
       "1    [-1, -1, -1, -1, 1887, 3080, 4631, 4656, 8, 4457]  \n",
       "2    [386, 2180, 3829, 3275, 4504, 2829, 1506, 3624...  \n",
       "3    [-1, -1, 2079, 2955, 4278, 4298, 780, 3645, 17...  \n",
       "4    [918, 3196, 465, 397, 1068, 2077, 2238, 4349, ...  \n",
       "..                                                 ...  \n",
       "944  [1424, 1041, 2933, 3347, 3152, 801, 2420, 1680...  \n",
       "945  [-1, -1, -1, -1, -1, 2006, 171, 3263, 1825, 2759]  \n",
       "946  [-1, -1, -1, 3382, 1427, 3577, 751, 989, 1482,...  \n",
       "947  [2505, 2993, 1367, 221, 4253, 4625, 3150, 4257...  \n",
       "948  [-1, -1, -1, 1988, 600, 855, 674, 1920, 92, 3045]  \n",
       "\n",
       "[949 rows x 12 columns]"
      ]
     },
     "execution_count": 13,
     "metadata": {},
     "output_type": "execute_result"
    }
   ],
   "source": [
    "val_df"
   ]
  },
  {
   "cell_type": "code",
   "execution_count": 14,
   "id": "a7fe194e-94a7-4f2b-bef4-22db0a223149",
   "metadata": {},
   "outputs": [],
   "source": [
    "def get_sequence(df, user_col=args.user_col, item_col=args.item_col):\n",
    "    return (\n",
    "        df.groupby(user_col)[item_col]\n",
    "        .agg(list)\n",
    "        .loc[lambda s: s.apply(len) > 1]  # Remove sequence with only one item\n",
    "    ).values.tolist()"
   ]
  },
  {
   "cell_type": "code",
   "execution_count": 15,
   "id": "27ce7e75-4903-4d75-9c70-2da337864c26",
   "metadata": {
    "scrolled": true
   },
   "outputs": [
    {
     "data": {
      "text/plain": [
       "20366"
      ]
     },
     "execution_count": 15,
     "metadata": {},
     "output_type": "execute_result"
    }
   ],
   "source": [
    "item_sequence = train_df.pipe(get_sequence)\n",
    "len(item_sequence)"
   ]
  },
  {
   "cell_type": "code",
   "execution_count": 16,
   "id": "b23939a8-ee72-4b93-82d2-a83423a3ff01",
   "metadata": {
    "scrolled": true
   },
   "outputs": [
    {
     "data": {
      "text/plain": [
       "147"
      ]
     },
     "execution_count": 16,
     "metadata": {},
     "output_type": "execute_result"
    }
   ],
   "source": [
    "val_item_sequence = val_df.pipe(get_sequence)\n",
    "len(val_item_sequence)"
   ]
  },
  {
   "cell_type": "markdown",
   "id": "832beb3a-e6dd-46a0-9d88-579862bc2be5",
   "metadata": {},
   "source": [
    "## Persist"
   ]
  },
  {
   "cell_type": "code",
   "execution_count": 17,
   "id": "a30d14cf-c33b-40b3-a981-380a483dd837",
   "metadata": {
    "scrolled": true
   },
   "outputs": [
    {
     "name": "stderr",
     "output_type": "stream",
     "text": [
      "\u001b[32m2024-09-25 02:30:48.947\u001b[0m | \u001b[1mINFO    \u001b[0m | \u001b[36m__main__\u001b[0m:\u001b[36m<module>\u001b[0m:\u001b[36m11\u001b[0m - \u001b[1mlen(item_sequence)=20,366 len(val_item_sequence)=147\u001b[0m\n"
     ]
    }
   ],
   "source": [
    "with open(\"../data/item_sequence.json\", \"w\") as f:\n",
    "    json.dump(item_sequence, f)\n",
    "with open(\"../data/val_item_sequence.json\", \"w\") as f:\n",
    "    json.dump(val_item_sequence, f)\n",
    "\n",
    "with open(\"../data/item_sequence.json\", \"r\") as f:\n",
    "    item_sequence = json.load(f)\n",
    "with open(\"../data/val_item_sequence.json\", \"r\") as f:\n",
    "    val_item_sequence = json.load(f)\n",
    "\n",
    "logger.info(f\"{len(item_sequence)=:,.0f} {len(val_item_sequence)=:,.0f}\")"
   ]
  },
  {
   "cell_type": "markdown",
   "id": "3b0ec31a-4a48-49c8-af9d-9d23c98a7d90",
   "metadata": {},
   "source": [
    "# Run with all data"
   ]
  },
  {
   "cell_type": "code",
   "execution_count": 18,
   "id": "b5523eb7-e47e-4ca2-9cba-efe0e7ad7499",
   "metadata": {},
   "outputs": [
    {
     "name": "stderr",
     "output_type": "stream",
     "text": [
      "\u001b[32m2024-09-25 02:30:48.969\u001b[0m | \u001b[1mINFO    \u001b[0m | \u001b[36msrc.skipgram.dataset\u001b[0m:\u001b[36m__init__\u001b[0m:\u001b[36m53\u001b[0m - \u001b[1mProcessing sequences to build interaction data...\u001b[0m\n"
     ]
    },
    {
     "data": {
      "application/vnd.jupyter.widget-view+json": {
       "model_id": "d1485a3cc8c843d2b8564c6f534050e8",
       "version_major": 2,
       "version_minor": 0
      },
      "text/plain": [
       "Building interactions:   0%|          | 0/20366 [00:00<?, ?it/s]"
      ]
     },
     "metadata": {},
     "output_type": "display_data"
    },
    {
     "name": "stdout",
     "output_type": "stream",
     "text": [
      "target_items context_items labels\n"
     ]
    }
   ],
   "source": [
    "# Create dataset with frequency-based negative sampling\n",
    "dataset = SkipGramDataset(\n",
    "    item_sequence,\n",
    "    window_size=args.window_size,\n",
    "    negative_samples=args.num_negative_samples,\n",
    ")\n",
    "\n",
    "# Example of getting the first item\n",
    "target_items, context_items, labels = dataset[0]\n",
    "print(target_items, context_items, labels)"
   ]
  },
  {
   "cell_type": "code",
   "execution_count": 19,
   "id": "159cc17e-7b60-491f-8f30-8e941f9c6929",
   "metadata": {},
   "outputs": [],
   "source": [
    "dataloader = DataLoader(\n",
    "    dataset,\n",
    "    batch_size=args.batch_size,\n",
    "    shuffle=False,\n",
    "    drop_last=True,\n",
    "    collate_fn=dataset.collate_fn,\n",
    ")"
   ]
  },
  {
   "cell_type": "code",
   "execution_count": 20,
   "id": "6d1e528a-87d6-4274-9c43-1a57e361abbe",
   "metadata": {},
   "outputs": [
    {
     "name": "stdout",
     "output_type": "stream",
     "text": [
      "{'target_items': tensor([ 0,  0,  0,  0,  0,  0,  1,  1,  1,  1,  1,  1,  1,  1,  1,  1,  1,  1,\n",
      "         2,  2,  2,  2,  2,  2,  2,  2,  2,  2,  2,  2,  3,  3,  3,  3,  3,  3,\n",
      "         3,  3,  3,  3,  3,  3,  4,  4,  4,  4,  4,  4,  4,  4,  4,  4,  4,  4,\n",
      "         5,  5,  5,  5,  5,  5,  5,  5,  5,  5,  5,  5,  6,  6,  6,  6,  6,  6,\n",
      "         6,  6,  6,  6,  6,  6,  7,  7,  7,  7,  7,  7,  8,  8,  8,  8,  8,  8,\n",
      "         9,  9,  9,  9,  9,  9,  9,  9,  9,  9,  9,  9, 10, 10, 10, 10, 10, 10,\n",
      "        10, 10, 10, 10, 10, 10, 11, 11, 11, 11, 11, 11, 11, 11, 11, 11, 11, 11,\n",
      "        12, 12, 12, 12, 12, 12, 12, 12, 12, 12, 12, 12, 13, 13, 13, 13, 13, 13,\n",
      "        14, 14, 14, 14, 14, 14, 15, 15, 15, 15, 15, 15, 15, 15, 15, 15, 15, 15]), 'context_items': tensor([   1,  154, 3970, 2756, 2263, 3872,    0,    2, 4463, 2582, 2225, 3085,\n",
      "        1543,   74,  387,  219, 1235,  326,    1,    3,  683, 3041, 4417, 2100,\n",
      "         973, 3115,  438, 1644, 3161, 4155,    2,    4, 2977,   64, 3047, 1826,\n",
      "        4243, 3788, 1476, 3043, 1252, 1005,    3,    5, 1250, 2481,  974,  768,\n",
      "         351, 1703, 2521,  786,  720,   49,    4,    6,  369, 4309, 2038, 1913,\n",
      "        1524, 3516, 3658, 3462,  642,  683,    5,    7,  346, 4547, 2651,  831,\n",
      "        3491, 1609,   81, 1599, 1221, 2077,    6, 1377, 1317, 4092,  295, 4637,\n",
      "           9, 3407,  430,  138, 2154, 2252,    8,   10, 1093, 2383, 1453, 3345,\n",
      "        2849,   44, 1271, 3024, 1844, 3734,    9,   11, 2968, 1695,  562, 1543,\n",
      "        2688, 4563, 2337, 4452, 4616, 1106,   10,   12, 4410,  183, 2267, 1001,\n",
      "        3585, 2286, 1352, 4507, 2230, 4682,   11,   13, 1476,   22, 1108,  956,\n",
      "        3377, 2230,  769,  289, 3545,  471,   12, 3226,  396, 1998,   55,  960,\n",
      "          15,  159,  152, 1505, 1194, 2893,   14,   16,  708,  355, 4628, 1926,\n",
      "         958, 4533, 2416, 1425, 3067, 3840]), 'labels': tensor([1., 0., 0., 0., 0., 0., 1., 1., 0., 0., 0., 0., 0., 0., 0., 0., 0., 0.,\n",
      "        1., 1., 0., 0., 0., 0., 0., 0., 0., 0., 0., 0., 1., 1., 0., 0., 0., 0.,\n",
      "        0., 0., 0., 0., 0., 0., 1., 1., 0., 0., 0., 0., 0., 0., 0., 0., 0., 0.,\n",
      "        1., 1., 0., 0., 0., 0., 0., 0., 0., 0., 0., 0., 1., 1., 0., 0., 0., 0.,\n",
      "        0., 0., 0., 0., 0., 0., 1., 0., 0., 0., 0., 0., 1., 0., 0., 0., 0., 0.,\n",
      "        1., 1., 0., 0., 0., 0., 0., 0., 0., 0., 0., 0., 1., 1., 0., 0., 0., 0.,\n",
      "        0., 0., 0., 0., 0., 0., 1., 1., 0., 0., 0., 0., 0., 0., 0., 0., 0., 0.,\n",
      "        1., 1., 0., 0., 0., 0., 0., 0., 0., 0., 0., 0., 1., 0., 0., 0., 0., 0.,\n",
      "        1., 0., 0., 0., 0., 0., 1., 1., 0., 0., 0., 0., 0., 0., 0., 0., 0., 0.])}\n"
     ]
    }
   ],
   "source": [
    "for batch_input in dataloader:\n",
    "    print(batch_input)\n",
    "    break"
   ]
  },
  {
   "cell_type": "code",
   "execution_count": 21,
   "id": "f1b40bb3-ae77-4262-b7ee-ad47954d290e",
   "metadata": {},
   "outputs": [
    {
     "data": {
      "text/plain": [
       "['B00029QOQS',\n",
       " 'B0006B7DXA',\n",
       " 'B001LETH2Q',\n",
       " 'B0009XEC02',\n",
       " 'B000NNDN1M',\n",
       " 'B00136MBHA',\n",
       " 'B007VTVRFA',\n",
       " 'B0053BCML6']"
      ]
     },
     "execution_count": 21,
     "metadata": {},
     "output_type": "execute_result"
    }
   ],
   "source": [
    "item_sequence[0]"
   ]
  },
  {
   "cell_type": "code",
   "execution_count": 22,
   "id": "0759b19d-6977-4d07-8dd9-907bca7c8c42",
   "metadata": {
    "scrolled": true
   },
   "outputs": [
    {
     "data": {
      "text/plain": [
       "{28,\n",
       " 34,\n",
       " 80,\n",
       " 82,\n",
       " 99,\n",
       " 139,\n",
       " 160,\n",
       " 200,\n",
       " 232,\n",
       " 249,\n",
       " 269,\n",
       " 294,\n",
       " 327,\n",
       " 342,\n",
       " 370,\n",
       " 378,\n",
       " 488,\n",
       " 496,\n",
       " 534,\n",
       " 543,\n",
       " 585,\n",
       " 590,\n",
       " 609,\n",
       " 611,\n",
       " 629,\n",
       " 731,\n",
       " 747,\n",
       " 756,\n",
       " 858,\n",
       " 955,\n",
       " 987,\n",
       " 1014,\n",
       " 1111,\n",
       " 1116,\n",
       " 1148,\n",
       " 1183,\n",
       " 1194,\n",
       " 1267,\n",
       " 1366,\n",
       " 1373,\n",
       " 1456,\n",
       " 1490,\n",
       " 1509,\n",
       " 1513,\n",
       " 1539,\n",
       " 1615,\n",
       " 1884,\n",
       " 1935,\n",
       " 1973,\n",
       " 2190,\n",
       " 2228,\n",
       " 2251,\n",
       " 2314,\n",
       " 2323,\n",
       " 2332,\n",
       " 2548,\n",
       " 2595,\n",
       " 2663,\n",
       " 2679,\n",
       " 2682,\n",
       " 2717,\n",
       " 2721,\n",
       " 2764,\n",
       " 2787,\n",
       " 2813,\n",
       " 2833,\n",
       " 3000,\n",
       " 3002,\n",
       " 3079,\n",
       " 3152,\n",
       " 3169,\n",
       " 3214,\n",
       " 3225,\n",
       " 3307,\n",
       " 3531,\n",
       " 3562,\n",
       " 3633,\n",
       " 3899,\n",
       " 4005,\n",
       " 4034,\n",
       " 4046,\n",
       " 4087,\n",
       " 4288,\n",
       " 4333,\n",
       " 4355,\n",
       " 4660}"
      ]
     },
     "execution_count": 22,
     "metadata": {},
     "output_type": "execute_result"
    }
   ],
   "source": [
    "dataset.interacted[2314]"
   ]
  },
  {
   "cell_type": "code",
   "execution_count": 23,
   "id": "6333ab2c-14f9-4d44-bdaa-20f00c9d8c6c",
   "metadata": {},
   "outputs": [
    {
     "name": "stderr",
     "output_type": "stream",
     "text": [
      "\u001b[32m2024-09-25 02:30:50.373\u001b[0m | \u001b[1mINFO    \u001b[0m | \u001b[36msrc.skipgram.dataset\u001b[0m:\u001b[36m__init__\u001b[0m:\u001b[36m53\u001b[0m - \u001b[1mProcessing sequences to build interaction data...\u001b[0m\n"
     ]
    },
    {
     "data": {
      "application/vnd.jupyter.widget-view+json": {
       "model_id": "bd60d88ef2704a9e88051cd467971ed3",
       "version_major": 2,
       "version_minor": 0
      },
      "text/plain": [
       "Building interactions:   0%|          | 0/147 [00:00<?, ?it/s]"
      ]
     },
     "metadata": {},
     "output_type": "display_data"
    }
   ],
   "source": [
    "val_dataset = SkipGramDataset(\n",
    "    val_item_sequence,\n",
    "    interacted=dataset.interacted,\n",
    "    item_freq=dataset.item_freq,\n",
    "    window_size=args.window_size,\n",
    "    negative_samples=args.num_negative_samples,\n",
    ")\n",
    "val_dataloader = DataLoader(\n",
    "    val_dataset,\n",
    "    batch_size=args.batch_size,\n",
    "    shuffle=False,\n",
    "    drop_last=True,\n",
    "    collate_fn=val_dataset.collate_fn,\n",
    ")"
   ]
  },
  {
   "cell_type": "code",
   "execution_count": 24,
   "id": "b3f32e26-bb25-4f53-a932-c5aa169fa496",
   "metadata": {},
   "outputs": [
    {
     "name": "stdout",
     "output_type": "stream",
     "text": [
      "{'target_items': tensor([ 0,  0,  0,  0,  0,  0,  1,  1,  1,  1,  1,  1,  2,  2,  2,  2,  2,  2,\n",
      "         3,  3,  3,  3,  3,  3,  3,  3,  3,  3,  3,  3,  4,  4,  4,  4,  4,  4,\n",
      "         4,  4,  4,  4,  4,  4,  5,  5,  5,  5,  5,  5,  5,  5,  5,  5,  5,  5,\n",
      "         6,  6,  6,  6,  6,  6,  6,  6,  6,  6,  6,  6,  7,  7,  7,  7,  7,  7,\n",
      "         7,  7,  7,  7,  7,  7,  8,  8,  8,  8,  8,  8,  9,  9,  9,  9,  9,  9,\n",
      "        10, 10, 10, 10, 10, 10, 11, 11, 11, 11, 11, 11, 12, 12, 12, 12, 12, 12,\n",
      "        12, 12, 12, 12, 12, 12, 13, 13, 13, 13, 13, 13, 13, 13, 13, 13, 13, 13,\n",
      "        14, 14, 14, 14, 14, 14, 14, 14, 14, 14, 14, 14, 15, 15, 15, 15, 15, 15,\n",
      "        15, 15, 15, 15, 15, 15]), 'context_items': tensor([   1, 1215,  909, 2612, 3991, 1387,    0, 1185,   37,  143, 2452,  431,\n",
      "           3, 3092, 3762, 3375,  248, 1437,    2,    4, 2555, 3171, 2780, 4002,\n",
      "         802, 2673,  469, 1489, 1475, 1381,    3,    5,  428, 2750, 1192, 2637,\n",
      "        3527,  285, 1348,  529, 1914, 3912,    4,    6,  986, 2918,  151, 2442,\n",
      "        4488, 2197,  657, 2681,  341, 1609,    5,    7, 4521, 2804,  869, 3984,\n",
      "        4017,  418, 1407,  708, 2125,  664,    6,    8, 4202,  421,  645, 1781,\n",
      "        1099, 3598, 1700, 3329, 4617, 1516,    7, 1701,  378, 3159, 2421, 3139,\n",
      "          10, 2331, 4016, 1124, 2019,  997,    9, 3566,  785, 2813, 2045, 3811,\n",
      "          12,  874, 2797,  687, 2192,  580,   11,   13, 1020, 1597,  456, 2273,\n",
      "         853, 3079, 4562, 2814, 3368, 1282,   12,   14, 2401, 3984,  990, 2614,\n",
      "        1851,  155, 2224, 1401, 4012, 1242,   13,   15, 2678,  232,  567, 3545,\n",
      "         123,  370, 3227,  402, 1885,  401,   14,   16,  528,  403,  123, 2208,\n",
      "        3163, 3168,  152, 4413, 1849, 1771]), 'labels': tensor([1., 0., 0., 0., 0., 0., 1., 0., 0., 0., 0., 0., 1., 0., 0., 0., 0., 0.,\n",
      "        1., 1., 0., 0., 0., 0., 0., 0., 0., 0., 0., 0., 1., 1., 0., 0., 0., 0.,\n",
      "        0., 0., 0., 0., 0., 0., 1., 1., 0., 0., 0., 0., 0., 0., 0., 0., 0., 0.,\n",
      "        1., 1., 0., 0., 0., 0., 0., 0., 0., 0., 0., 0., 1., 1., 0., 0., 0., 0.,\n",
      "        0., 0., 0., 0., 0., 0., 1., 0., 0., 0., 0., 0., 1., 0., 0., 0., 0., 0.,\n",
      "        1., 0., 0., 0., 0., 0., 1., 0., 0., 0., 0., 0., 1., 1., 0., 0., 0., 0.,\n",
      "        0., 0., 0., 0., 0., 0., 1., 1., 0., 0., 0., 0., 0., 0., 0., 0., 0., 0.,\n",
      "        1., 1., 0., 0., 0., 0., 0., 0., 0., 0., 0., 0., 1., 1., 0., 0., 0., 0.,\n",
      "        0., 0., 0., 0., 0., 0.])}\n"
     ]
    }
   ],
   "source": [
    "for batch_input in val_dataloader:\n",
    "    print(batch_input)\n",
    "    break"
   ]
  },
  {
   "cell_type": "code",
   "execution_count": 25,
   "id": "cf0df372-8e5c-40ed-a629-c6ef371061db",
   "metadata": {
    "scrolled": true
   },
   "outputs": [
    {
     "data": {
      "text/plain": [
       "{'target_items': tensor([0, 0, 0, 0, 0, 0]),\n",
       " 'context_items': tensor([   1, 1481, 1448, 1739, 2406, 3044]),\n",
       " 'labels': tensor([1., 0., 0., 0., 0., 0.])}"
      ]
     },
     "execution_count": 25,
     "metadata": {},
     "output_type": "execute_result"
    }
   ],
   "source": [
    "val_dataset[0]"
   ]
  },
  {
   "cell_type": "code",
   "execution_count": null,
   "id": "86f8a882-dea1-4bef-b923-023661118d31",
   "metadata": {},
   "outputs": [],
   "source": []
  },
  {
   "cell_type": "code",
   "execution_count": null,
   "id": "eff8da2a-2ab3-476d-8774-786a1f4a41e9",
   "metadata": {},
   "outputs": [],
   "source": []
  }
 ],
 "metadata": {
  "kernelspec": {
   "display_name": "Python 3 (ipykernel)",
   "language": "python",
   "name": "python3"
  },
  "language_info": {
   "codemirror_mode": {
    "name": "ipython",
    "version": 3
   },
   "file_extension": ".py",
   "mimetype": "text/x-python",
   "name": "python",
   "nbconvert_exporter": "python",
   "pygments_lexer": "ipython3",
   "version": "3.11.9"
  }
 },
 "nbformat": 4,
 "nbformat_minor": 5
}
