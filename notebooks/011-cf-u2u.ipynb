{
 "cells": [
  {
   "cell_type": "markdown",
   "id": "40773de3-7e3e-4a89-9db8-f5df2b2f67b4",
   "metadata": {
    "editable": true,
    "slideshow": {
     "slide_type": ""
    },
    "tags": []
   },
   "source": [
    "# KNN User-User Collaborative Filtering"
   ]
  },
  {
   "cell_type": "markdown",
   "id": "6a045489-6f14-42cf-8504-3fb87864e276",
   "metadata": {
    "editable": true,
    "slideshow": {
     "slide_type": ""
    },
    "tags": []
   },
   "source": [
    "The idea is to find similar users based on their preferences or behavior and recommend items that similar users liked but the target user has not interacted with. If User A and User B have rated a lot of the same items similarly, User B might enjoy items that User A has rated highly but hasn’t yet discovered.\n",
    "\n",
    "Based on [Introduction to Recommender System](https://towardsdatascience.com/introduction-to-recommender-systems-6c66cf15ada):\n",
    "\n",
    "> Collaborative methods for recommender systems are methods that are **based solely on the past interactions** recorded between users and items in order to produce new recommendations. These interactions are stored in the so-called “user-item interactions matrix”. Then, the main idea that rules collaborative methods is that these past user-item interactions are sufficient to detect similar users and/or similar items and make predictions based on these estimated proximities.\n",
    "\n",
    "> User-User CF is **applying KNN to find the neighbor users** with similar prior item preferences, and prediction of target item I for user U will be computed from the preferences of the neighbors.\n",
    "Notice that, when computing similarity between users, the number of “common interactions” (how much items have already been considered by both users?) should be considered carefully! Indeed, most of the time, we want to avoid that someone that only have one interaction in common with our reference user could have a 100% match and be considered as being “closer” than someone having 100 common interactions and agreeing “only” on 98% of them. So, we consider that two users are similar if they have interacted with a lot of common items in the same way (similar rating, similar time hovering…).\n",
    "\n",
    "In this notebook, we would take a very simple and straight-forward approach to implement KNN User-User CF. We formulate the problem as predicting the rating between user U and item I based on the rating records.\n",
    "\n",
    "Specifically, we will:\n",
    "- Collect input containing user-item rating\n",
    "- Build user-user similarity matrix\n",
    "- Measure similarities between users by using plain item rating vectors\n",
    "- Predict the rating between user U and item I by getting all users who have rated I, identify N neighbors and weighted average their ratings based on how similar the users are to the user U"
   ]
  },
  {
   "cell_type": "markdown",
   "id": "544aa34c-e391-4a68-965e-8da9deb10238",
   "metadata": {
    "editable": true,
    "slideshow": {
     "slide_type": ""
    },
    "tags": []
   },
   "source": [
    "# Set up"
   ]
  },
  {
   "cell_type": "code",
   "execution_count": 1,
   "id": "3c8f6e8d-f776-4d39-898c-d783c5ae3407",
   "metadata": {},
   "outputs": [],
   "source": [
    "%load_ext autoreload\n",
    "%autoreload 2"
   ]
  },
  {
   "cell_type": "code",
   "execution_count": 2,
   "id": "35b3499d-dc9c-405a-8714-a26341b581e1",
   "metadata": {},
   "outputs": [],
   "source": [
    "import os\n",
    "import sys\n",
    "\n",
    "import mlflow\n",
    "import numpy as np\n",
    "import pandas as pd\n",
    "from dotenv import load_dotenv\n",
    "from loguru import logger\n",
    "from pydantic import BaseModel\n",
    "\n",
    "load_dotenv()\n",
    "\n",
    "sys.path.insert(0, \"..\")\n",
    "\n",
    "from src.eval import (\n",
    "    create_label_df,\n",
    "    create_rec_df,\n",
    "    log_classification_metrics,\n",
    "    log_ranking_metrics,\n",
    "    merge_recs_with_target,\n",
    ")\n",
    "from src.id_mapper import IDMapper\n",
    "from src.math_utils import sigmoid\n",
    "from src.model import User2UserCollaborativeFiltering\n",
    "from src.train_utils import map_indice\n",
    "from src.viz import blueq_colors"
   ]
  },
  {
   "cell_type": "markdown",
   "id": "08eea90b-693f-4546-98dd-9d74289dc2ae",
   "metadata": {},
   "source": [
    "# Controller"
   ]
  },
  {
   "cell_type": "code",
   "execution_count": 3,
   "id": "0276b67f-8e3a-4fa9-a326-0e30174cb96a",
   "metadata": {
    "editable": true,
    "slideshow": {
     "slide_type": ""
    },
    "tags": []
   },
   "outputs": [
    {
     "name": "stderr",
     "output_type": "stream",
     "text": [
      "\u001b[32m2024-09-26 22:58:56.894\u001b[0m | \u001b[1mINFO    \u001b[0m | \u001b[36m__main__\u001b[0m:\u001b[36minit\u001b[0m:\u001b[36m29\u001b[0m - \u001b[1mSetting up MLflow experiment FSDS RecSys - L4 - Reco Algo - run 002-cf-u2u...\u001b[0m\n"
     ]
    },
    {
     "name": "stdout",
     "output_type": "stream",
     "text": [
      "{\n",
      "  \"testing\": false,\n",
      "  \"log_to_mlflow\": true,\n",
      "  \"experiment_name\": \"FSDS RecSys - L4 - Reco Algo\",\n",
      "  \"run_name\": \"002-cf-u2u\",\n",
      "  \"notebook_persist_dp\": \"/Users/dvq/frostmourne/reco-algo/notebooks/data/002-cf-u2u\",\n",
      "  \"random_seed\": 41,\n",
      "  \"user_col\": \"user_id\",\n",
      "  \"item_col\": \"parent_asin\",\n",
      "  \"rating_col\": \"rating\",\n",
      "  \"timestamp_col\": \"timestamp\",\n",
      "  \"top_K\": 100,\n",
      "  \"top_k\": 10,\n",
      "  \"batch_size\": 128\n",
      "}\n"
     ]
    }
   ],
   "source": [
    "class Args(BaseModel):\n",
    "    testing: bool = False\n",
    "    log_to_mlflow: bool = True\n",
    "    experiment_name: str = \"FSDS RecSys - L4 - Reco Algo\"\n",
    "    run_name: str = \"002-cf-u2u\"\n",
    "    notebook_persist_dp: str = None\n",
    "    random_seed: int = 41\n",
    "\n",
    "    user_col: str = \"user_id\"\n",
    "    item_col: str = \"parent_asin\"\n",
    "    rating_col: str = \"rating\"\n",
    "    timestamp_col: str = \"timestamp\"\n",
    "\n",
    "    top_K: int = 100\n",
    "    top_k: int = 10\n",
    "\n",
    "    batch_size: int = 128\n",
    "\n",
    "    def init(self):\n",
    "        self.notebook_persist_dp = os.path.abspath(f\"data/{self.run_name}\")\n",
    "\n",
    "        if not os.environ.get(\"MLFLOW_TRACKING_URI\"):\n",
    "            logger.warning(\n",
    "                f\"Environment variable MLFLOW_TRACKING_URI is not set. Setting self.log_to_mlflow to false.\"\n",
    "            )\n",
    "            self.log_to_mlflow = False\n",
    "\n",
    "        if self.log_to_mlflow:\n",
    "            logger.info(\n",
    "                f\"Setting up MLflow experiment {self.experiment_name} - run {self.run_name}...\"\n",
    "            )\n",
    "\n",
    "            mlflow.set_experiment(self.experiment_name)\n",
    "            mlflow.start_run(run_name=self.run_name)\n",
    "\n",
    "        return self\n",
    "\n",
    "\n",
    "args = Args().init()\n",
    "\n",
    "print(args.model_dump_json(indent=2))"
   ]
  },
  {
   "cell_type": "markdown",
   "id": "a5acedcb-89e6-41c6-8969-bf3437fc7898",
   "metadata": {},
   "source": [
    "# Implement"
   ]
  },
  {
   "cell_type": "code",
   "execution_count": 4,
   "id": "31e188fd-3b27-4a65-aae5-fdc5978c6e4c",
   "metadata": {},
   "outputs": [],
   "source": [
    "def init_model(n_users, n_items):\n",
    "    model = User2UserCollaborativeFiltering(n_users, n_items)\n",
    "    return model"
   ]
  },
  {
   "cell_type": "markdown",
   "id": "377a71da-1ee3-474c-b3f4-4488d2a45dd3",
   "metadata": {},
   "source": [
    "# Test implementation"
   ]
  },
  {
   "cell_type": "code",
   "execution_count": 5,
   "id": "ce5326d7-ec9d-422c-bbd8-03c837a23e1e",
   "metadata": {
    "scrolled": true
   },
   "outputs": [
    {
     "name": "stdout",
     "output_type": "stream",
     "text": [
      "Mock User IDs: [0, 0, 1, 1, 2, 2, 2]\n",
      "Mock Item IDs: [0, 1, 1, 2, 3, 1, 2]\n",
      "Ratings: [1, 4, 4, 5, 3, 2, 4]\n",
      "[0.5 0.5 0.5]\n"
     ]
    }
   ],
   "source": [
    "# Mock data\n",
    "user_indices = [0, 0, 1, 1, 2, 2, 2]\n",
    "item_indices = [0, 1, 1, 2, 3, 1, 2]\n",
    "ratings = [1, 4, 4, 5, 3, 2, 4]\n",
    "n_users = len(set(user_indices))\n",
    "n_items = len(set(item_indices))\n",
    "\n",
    "val_user_indices = [0, 1, 2]\n",
    "val_item_indices = [2, 1, 2]\n",
    "val_ratings = [2, 4, 5]\n",
    "\n",
    "print(\"Mock User IDs:\", user_indices)\n",
    "print(\"Mock Item IDs:\", item_indices)\n",
    "print(\"Ratings:\", ratings)\n",
    "\n",
    "model = init_model(n_users, n_items)\n",
    "\n",
    "users = [0, 1, 2]\n",
    "items = [2, 2, 0]\n",
    "predictions = model.predict(users, items)\n",
    "print(predictions)"
   ]
  },
  {
   "cell_type": "code",
   "execution_count": 6,
   "id": "28f926b4-1bb9-4552-825a-58b0a4389725",
   "metadata": {},
   "outputs": [
    {
     "name": "stdout",
     "output_type": "stream",
     "text": [
      "[0.99031217 0.98201379 0.73105858]\n"
     ]
    }
   ],
   "source": [
    "model.fit(user_indices, item_indices, ratings)\n",
    "predictions = model.predict(users, items)\n",
    "print(predictions)"
   ]
  },
  {
   "cell_type": "markdown",
   "id": "fa774082-5c93-42e8-b076-e462df08db90",
   "metadata": {
    "editable": true,
    "slideshow": {
     "slide_type": ""
    },
    "tags": []
   },
   "source": [
    "#### 🧐 Go into details"
   ]
  },
  {
   "cell_type": "code",
   "execution_count": 7,
   "id": "15903bdd-0846-4588-9a8f-584d8f523ce0",
   "metadata": {},
   "outputs": [
    {
     "data": {
      "text/plain": [
       "array([[1., 4., 0., 0.],\n",
       "       [0., 4., 5., 0.],\n",
       "       [0., 2., 4., 3.]])"
      ]
     },
     "execution_count": 7,
     "metadata": {},
     "output_type": "execute_result"
    }
   ],
   "source": [
    "model.user_item_matrix"
   ]
  },
  {
   "cell_type": "code",
   "execution_count": 8,
   "id": "496f9749-183a-478d-a624-16ed59c9818f",
   "metadata": {},
   "outputs": [
    {
     "data": {
      "text/plain": [
       "array([[0.        , 0.60604322, 0.36030188],\n",
       "       [0.60604322, 0.        , 0.81202071],\n",
       "       [0.36030188, 0.81202071, 0.        ]])"
      ]
     },
     "execution_count": 8,
     "metadata": {},
     "output_type": "execute_result"
    }
   ],
   "source": [
    "model.user_similarity"
   ]
  },
  {
   "cell_type": "code",
   "execution_count": 9,
   "id": "8d434a72-4f4e-49ea-98ea-31e6a539e4e0",
   "metadata": {},
   "outputs": [
    {
     "name": "stdout",
     "output_type": "stream",
     "text": [
      "sim_scores=array([0.        , 0.60604322, 0.36030188])\n"
     ]
    }
   ],
   "source": [
    "# Inspect one example\n",
    "user = 0\n",
    "item = 2\n",
    "\n",
    "sim_scores = model.user_similarity[user]\n",
    "print(f\"{sim_scores=}\")"
   ]
  },
  {
   "cell_type": "code",
   "execution_count": 10,
   "id": "4a44f130-422c-47d6-8e62-1913e3afdc9f",
   "metadata": {
    "editable": true,
    "slideshow": {
     "slide_type": ""
    },
    "tags": []
   },
   "outputs": [
    {
     "name": "stdout",
     "output_type": "stream",
     "text": [
      "user_ratings=array([0., 5., 4.])\n",
      "sim_scores=array([0.60604322, 0.36030188])\n",
      "user_ratings=array([5., 4.])\n"
     ]
    }
   ],
   "source": [
    "# Only consider users who have rated the item\n",
    "user_ratings = model.user_item_matrix[:, item]\n",
    "print(f\"{user_ratings=}\")\n",
    "sim_scores = sim_scores[user_ratings != 0]\n",
    "print(f\"{sim_scores=}\")\n",
    "user_ratings = user_ratings[user_ratings != 0]\n",
    "print(f\"{user_ratings=}\")"
   ]
  },
  {
   "cell_type": "code",
   "execution_count": 11,
   "id": "5c4af833-c0e2-4ac9-8f54-84dca24799e8",
   "metadata": {
    "editable": true,
    "slideshow": {
     "slide_type": ""
    },
    "tags": []
   },
   "outputs": [
    {
     "name": "stdout",
     "output_type": "stream",
     "text": [
      "Weighted average: 4.471423593469625\n",
      "Normalization factor: 0.9663450945516922\n",
      "Predicted rating: 4.627149885356445\n",
      "Predicted rating - sigmoid: 0.9903121712214553\n"
     ]
    }
   ],
   "source": [
    "# Weighted average of ratings\n",
    "print(f\"Weighted average: {np.dot(sim_scores, user_ratings)}\")\n",
    "print(f\"Normalization factor: {np.sum(sim_scores)}\")\n",
    "print(f\"Predicted rating: {np.dot(sim_scores, user_ratings) / np.sum(sim_scores)}\")\n",
    "print(\n",
    "    f\"Predicted rating - sigmoid: {sigmoid(np.dot(sim_scores, user_ratings) / np.sum(sim_scores))}\"\n",
    ")"
   ]
  },
  {
   "cell_type": "code",
   "execution_count": 12,
   "id": "aba0db41-990a-4012-87e7-e25bef99699c",
   "metadata": {},
   "outputs": [
    {
     "data": {
      "application/vnd.jupyter.widget-view+json": {
       "model_id": "0ca73244b3fa49f08ba7a436f792bdf7",
       "version_major": 2,
       "version_minor": 0
      },
      "text/plain": [
       "Generating recommendations:   0%|          | 0/3 [00:00<?, ?it/s]"
      ]
     },
     "metadata": {},
     "output_type": "display_data"
    }
   ],
   "source": [
    "recommendations = model.recommend(val_user_indices, k=2)"
   ]
  },
  {
   "cell_type": "code",
   "execution_count": 13,
   "id": "75c875dd-6431-4a71-9fec-b61e03905217",
   "metadata": {
    "scrolled": true
   },
   "outputs": [
    {
     "data": {
      "text/plain": [
       "{'user_indice': [np.int64(0),\n",
       "  np.int64(0),\n",
       "  np.int64(1),\n",
       "  np.int64(1),\n",
       "  np.int64(2),\n",
       "  np.int64(2)],\n",
       " 'recommendation': [np.int64(2),\n",
       "  np.int64(1),\n",
       "  np.int64(2),\n",
       "  np.int64(3),\n",
       "  np.int64(2),\n",
       "  np.int64(1)],\n",
       " 'score': [np.float64(0.9903121712214553),\n",
       "  np.float64(0.9628273118576526),\n",
       "  np.float64(0.9820137900379085),\n",
       "  np.float64(0.9525741268224334),\n",
       "  np.float64(0.9933071490757153),\n",
       "  np.float64(0.9820137900379085)]}"
      ]
     },
     "execution_count": 13,
     "metadata": {},
     "output_type": "execute_result"
    }
   ],
   "source": [
    "recommendations"
   ]
  },
  {
   "cell_type": "markdown",
   "id": "170dec89-a874-4dce-8f94-07d978fcc5b8",
   "metadata": {},
   "source": [
    "# Prep data"
   ]
  },
  {
   "cell_type": "code",
   "execution_count": 14,
   "id": "83803362-5eaa-40bb-b28b-878316d5db5d",
   "metadata": {},
   "outputs": [
    {
     "name": "stdout",
     "output_type": "stream",
     "text": [
      "val_timestamp=np.int64(1628641464793)\n"
     ]
    }
   ],
   "source": [
    "train_df = pd.read_parquet(\"../data/train_features_neg_df.parquet\")\n",
    "val_df = pd.read_parquet(\"../data/val_features_neg_df.parquet\")\n",
    "idm = IDMapper().load(\"../data/idm.json\")\n",
    "assert (val_df[args.timestamp_col].min() - train_df[args.timestamp_col].max()) > 0\n",
    "val_timestamp = train_df[args.timestamp_col].max() + 1\n",
    "print(f\"{val_timestamp=}\")"
   ]
  },
  {
   "cell_type": "code",
   "execution_count": 15,
   "id": "17d6c998-5fc4-43f7-8e19-0f469bb0374b",
   "metadata": {},
   "outputs": [
    {
     "name": "stderr",
     "output_type": "stream",
     "text": [
      "\u001b[32m2024-09-26 22:58:58.170\u001b[0m | \u001b[1mINFO    \u001b[0m | \u001b[36m__main__\u001b[0m:\u001b[36m<module>\u001b[0m:\u001b[36m8\u001b[0m - \u001b[1mlen(unique_user_ids)=20,366, len(unique_item_ids)=4,696\u001b[0m\n"
     ]
    }
   ],
   "source": [
    "user_ids = train_df[args.user_col].values\n",
    "item_ids = train_df[args.item_col].values\n",
    "unique_user_ids = list(set(user_ids))\n",
    "unique_item_ids = list(set(item_ids))\n",
    "n_users = len(unique_user_ids)\n",
    "n_items = len(unique_item_ids)\n",
    "\n",
    "logger.info(f\"{len(unique_user_ids)=:,.0f}, {len(unique_item_ids)=:,.0f}\")"
   ]
  },
  {
   "cell_type": "code",
   "execution_count": 16,
   "id": "14c48421-1e0d-46d8-a841-46f380393bdd",
   "metadata": {},
   "outputs": [],
   "source": [
    "train_df = train_df.pipe(map_indice, idm, args.user_col, args.item_col)\n",
    "val_df = val_df.pipe(map_indice, idm, args.user_col, args.item_col)\n",
    "\n",
    "user_indices = [idm.get_user_index(user_id) for user_id in user_ids]\n",
    "item_indices = [idm.get_item_index(item_id) for item_id in item_ids]\n",
    "ratings = train_df[args.rating_col].values.tolist()\n",
    "\n",
    "val_user_indices = [idm.get_user_index(user_id) for user_id in val_df[args.user_col]]\n",
    "val_item_indices = [idm.get_item_index(item_id) for item_id in val_df[args.item_col]]\n",
    "val_ratings = val_df[args.rating_col].values.tolist()"
   ]
  },
  {
   "cell_type": "markdown",
   "id": "5260fbe7-2f90-44a1-be74-ce5db9b511ee",
   "metadata": {},
   "source": [
    "# Train"
   ]
  },
  {
   "cell_type": "code",
   "execution_count": 17,
   "id": "12749354-d57a-4458-bf60-b23f068ec6c7",
   "metadata": {},
   "outputs": [],
   "source": [
    "model = init_model(n_users, n_items)"
   ]
  },
  {
   "cell_type": "markdown",
   "id": "b8cbb2a8-a578-4ad2-941e-efd01d930336",
   "metadata": {},
   "source": [
    "#### Predict before train"
   ]
  },
  {
   "cell_type": "code",
   "execution_count": 18,
   "id": "9eb1583b-40f7-4157-a383-5891389ac119",
   "metadata": {
    "editable": true,
    "scrolled": true,
    "slideshow": {
     "slide_type": ""
    },
    "tags": []
   },
   "outputs": [
    {
     "data": {
      "text/html": [
       "<div>\n",
       "<style scoped>\n",
       "    .dataframe tbody tr th:only-of-type {\n",
       "        vertical-align: middle;\n",
       "    }\n",
       "\n",
       "    .dataframe tbody tr th {\n",
       "        vertical-align: top;\n",
       "    }\n",
       "\n",
       "    .dataframe thead th {\n",
       "        text-align: right;\n",
       "    }\n",
       "</style>\n",
       "<table border=\"1\" class=\"dataframe\">\n",
       "  <thead>\n",
       "    <tr style=\"text-align: right;\">\n",
       "      <th></th>\n",
       "      <th>user_id</th>\n",
       "      <th>parent_asin</th>\n",
       "      <th>rating</th>\n",
       "      <th>timestamp</th>\n",
       "      <th>user_indice</th>\n",
       "      <th>item_indice</th>\n",
       "      <th>main_category</th>\n",
       "      <th>title</th>\n",
       "      <th>description</th>\n",
       "      <th>categories</th>\n",
       "      <th>price</th>\n",
       "      <th>item_sequence</th>\n",
       "    </tr>\n",
       "  </thead>\n",
       "  <tbody>\n",
       "    <tr>\n",
       "      <th>216</th>\n",
       "      <td>AFUWPAK6VCGEL2OVIL2YGZNFQJZQ</td>\n",
       "      <td>B00W9DHUBS</td>\n",
       "      <td>0.0</td>\n",
       "      <td>1636157516787</td>\n",
       "      <td>17530</td>\n",
       "      <td>1851</td>\n",
       "      <td>Video Games</td>\n",
       "      <td>Star Wars Battlefront Outer Rim - Xbox One Dig...</td>\n",
       "      <td>[As part of the STAR WARS Battlefront Season P...</td>\n",
       "      <td>[Video Games, Xbox One, Downloadable Content]</td>\n",
       "      <td>14.99</td>\n",
       "      <td>[-1, -1, -1, -1, -1, 118, 2849, 2809, 1259, 863]</td>\n",
       "    </tr>\n",
       "    <tr>\n",
       "      <th>423</th>\n",
       "      <td>AFUWPAK6VCGEL2OVIL2YGZNFQJZQ</td>\n",
       "      <td>B0C6DH316S</td>\n",
       "      <td>4.0</td>\n",
       "      <td>1642700155462</td>\n",
       "      <td>17530</td>\n",
       "      <td>3059</td>\n",
       "      <td>Computers</td>\n",
       "      <td>Logitech G PRO X Wireless Lightspeed Gaming He...</td>\n",
       "      <td>[]</td>\n",
       "      <td>[Video Games, PC, Accessories, Headsets]</td>\n",
       "      <td>253.82</td>\n",
       "      <td>[-1, -1, -1, 118, 2849, 2809, 1259, 863, 2699,...</td>\n",
       "    </tr>\n",
       "    <tr>\n",
       "      <th>1554</th>\n",
       "      <td>AFUWPAK6VCGEL2OVIL2YGZNFQJZQ</td>\n",
       "      <td>B001G6064W</td>\n",
       "      <td>0.0</td>\n",
       "      <td>1642700155462</td>\n",
       "      <td>17530</td>\n",
       "      <td>3097</td>\n",
       "      <td>Video Games</td>\n",
       "      <td>PROTOTYPE - Playstation 3</td>\n",
       "      <td>[Product Description, You are Alex Mercer, the...</td>\n",
       "      <td>[Video Games, Legacy Systems, PlayStation Syst...</td>\n",
       "      <td>28.0</td>\n",
       "      <td>[-1, -1, -1, 118, 2849, 2809, 1259, 863, 2699,...</td>\n",
       "    </tr>\n",
       "    <tr>\n",
       "      <th>1722</th>\n",
       "      <td>AFUWPAK6VCGEL2OVIL2YGZNFQJZQ</td>\n",
       "      <td>B004ZCPKDG</td>\n",
       "      <td>0.0</td>\n",
       "      <td>1642699950266</td>\n",
       "      <td>17530</td>\n",
       "      <td>4311</td>\n",
       "      <td>Video Games</td>\n",
       "      <td>Wii Sports Resort</td>\n",
       "      <td>[Product Description, Wii Sports Resort, Amazo...</td>\n",
       "      <td>[Video Games, Legacy Systems, Nintendo Systems...</td>\n",
       "      <td>99.95</td>\n",
       "      <td>[-1, -1, -1, -1, 118, 2849, 2809, 1259, 863, 2...</td>\n",
       "    </tr>\n",
       "    <tr>\n",
       "      <th>1861</th>\n",
       "      <td>AFUWPAK6VCGEL2OVIL2YGZNFQJZQ</td>\n",
       "      <td>B0BF5VRLHV</td>\n",
       "      <td>5.0</td>\n",
       "      <td>1636157516787</td>\n",
       "      <td>17530</td>\n",
       "      <td>2699</td>\n",
       "      <td>Computers</td>\n",
       "      <td>Logitech G PRO Mechanical Gaming Keyboard - Sh...</td>\n",
       "      <td>[]</td>\n",
       "      <td>[Video Games, PC, Accessories, Gaming Keyboards]</td>\n",
       "      <td>148.0</td>\n",
       "      <td>[-1, -1, -1, -1, -1, 118, 2849, 2809, 1259, 863]</td>\n",
       "    </tr>\n",
       "    <tr>\n",
       "      <th>1891</th>\n",
       "      <td>AFUWPAK6VCGEL2OVIL2YGZNFQJZQ</td>\n",
       "      <td>B08N6NCR3Q</td>\n",
       "      <td>4.0</td>\n",
       "      <td>1642699950266</td>\n",
       "      <td>17530</td>\n",
       "      <td>3644</td>\n",
       "      <td>Video Games</td>\n",
       "      <td>Thrustmaster T 16000M SPACE SIM DUO STICK (PC)</td>\n",
       "      <td>[The THRUSTMASTER T.16000M FCS Space Sim Duo c...</td>\n",
       "      <td>[Video Games, PC, Accessories, Controllers, Fl...</td>\n",
       "      <td>119.51</td>\n",
       "      <td>[-1, -1, -1, -1, 118, 2849, 2809, 1259, 863, 2...</td>\n",
       "    </tr>\n",
       "  </tbody>\n",
       "</table>\n",
       "</div>"
      ],
      "text/plain": [
       "                           user_id parent_asin  rating      timestamp  \\\n",
       "216   AFUWPAK6VCGEL2OVIL2YGZNFQJZQ  B00W9DHUBS     0.0  1636157516787   \n",
       "423   AFUWPAK6VCGEL2OVIL2YGZNFQJZQ  B0C6DH316S     4.0  1642700155462   \n",
       "1554  AFUWPAK6VCGEL2OVIL2YGZNFQJZQ  B001G6064W     0.0  1642700155462   \n",
       "1722  AFUWPAK6VCGEL2OVIL2YGZNFQJZQ  B004ZCPKDG     0.0  1642699950266   \n",
       "1861  AFUWPAK6VCGEL2OVIL2YGZNFQJZQ  B0BF5VRLHV     5.0  1636157516787   \n",
       "1891  AFUWPAK6VCGEL2OVIL2YGZNFQJZQ  B08N6NCR3Q     4.0  1642699950266   \n",
       "\n",
       "      user_indice  item_indice main_category  \\\n",
       "216         17530         1851   Video Games   \n",
       "423         17530         3059     Computers   \n",
       "1554        17530         3097   Video Games   \n",
       "1722        17530         4311   Video Games   \n",
       "1861        17530         2699     Computers   \n",
       "1891        17530         3644   Video Games   \n",
       "\n",
       "                                                  title  \\\n",
       "216   Star Wars Battlefront Outer Rim - Xbox One Dig...   \n",
       "423   Logitech G PRO X Wireless Lightspeed Gaming He...   \n",
       "1554                          PROTOTYPE - Playstation 3   \n",
       "1722                                  Wii Sports Resort   \n",
       "1861  Logitech G PRO Mechanical Gaming Keyboard - Sh...   \n",
       "1891     Thrustmaster T 16000M SPACE SIM DUO STICK (PC)   \n",
       "\n",
       "                                            description  \\\n",
       "216   [As part of the STAR WARS Battlefront Season P...   \n",
       "423                                                  []   \n",
       "1554  [Product Description, You are Alex Mercer, the...   \n",
       "1722  [Product Description, Wii Sports Resort, Amazo...   \n",
       "1861                                                 []   \n",
       "1891  [The THRUSTMASTER T.16000M FCS Space Sim Duo c...   \n",
       "\n",
       "                                             categories   price  \\\n",
       "216       [Video Games, Xbox One, Downloadable Content]   14.99   \n",
       "423            [Video Games, PC, Accessories, Headsets]  253.82   \n",
       "1554  [Video Games, Legacy Systems, PlayStation Syst...    28.0   \n",
       "1722  [Video Games, Legacy Systems, Nintendo Systems...   99.95   \n",
       "1861   [Video Games, PC, Accessories, Gaming Keyboards]   148.0   \n",
       "1891  [Video Games, PC, Accessories, Controllers, Fl...  119.51   \n",
       "\n",
       "                                          item_sequence  \n",
       "216    [-1, -1, -1, -1, -1, 118, 2849, 2809, 1259, 863]  \n",
       "423   [-1, -1, -1, 118, 2849, 2809, 1259, 863, 2699,...  \n",
       "1554  [-1, -1, -1, 118, 2849, 2809, 1259, 863, 2699,...  \n",
       "1722  [-1, -1, -1, -1, 118, 2849, 2809, 1259, 863, 2...  \n",
       "1861   [-1, -1, -1, -1, -1, 118, 2849, 2809, 1259, 863]  \n",
       "1891  [-1, -1, -1, -1, 118, 2849, 2809, 1259, 863, 2...  "
      ]
     },
     "execution_count": 18,
     "metadata": {},
     "output_type": "execute_result"
    }
   ],
   "source": [
    "user_id = val_df.sample(1)[args.user_col].values[0]\n",
    "test_df = val_df.loc[lambda df: df[args.user_col].eq(user_id)]\n",
    "test_df"
   ]
  },
  {
   "cell_type": "code",
   "execution_count": 19,
   "id": "c48fbc80-eda8-4dff-a246-95f8f2f75082",
   "metadata": {
    "editable": true,
    "scrolled": true,
    "slideshow": {
     "slide_type": ""
    },
    "tags": []
   },
   "outputs": [
    {
     "name": "stderr",
     "output_type": "stream",
     "text": [
      "\u001b[32m2024-09-26 22:58:58.420\u001b[0m | \u001b[1mINFO    \u001b[0m | \u001b[36m__main__\u001b[0m:\u001b[36m<module>\u001b[0m:\u001b[36m2\u001b[0m - \u001b[1mTest predicting before training with user_id = AFUWPAK6VCGEL2OVIL2YGZNFQJZQ and parent_asin = B0C6DH316S\u001b[0m\n"
     ]
    },
    {
     "data": {
      "text/plain": [
       "array([0.5])"
      ]
     },
     "execution_count": 19,
     "metadata": {},
     "output_type": "execute_result"
    }
   ],
   "source": [
    "item_id = test_df.loc[lambda df: df[args.rating_col].gt(0)][args.item_col].values[0]\n",
    "logger.info(\n",
    "    f\"Test predicting before training with {args.user_col} = {user_id} and {args.item_col} = {item_id}\"\n",
    ")\n",
    "user_indice = idm.get_user_index(user_id)\n",
    "item_indice = idm.get_item_index(item_id)\n",
    "\n",
    "model.predict([user_indice], [item_indice])"
   ]
  },
  {
   "cell_type": "markdown",
   "id": "c2fd217c-c0c8-4e7c-81fe-6eb36f4729b5",
   "metadata": {},
   "source": [
    "#### Training loop"
   ]
  },
  {
   "cell_type": "code",
   "execution_count": 20,
   "id": "ad0bf9b5-da26-4ea1-84ec-78eeb43d4a66",
   "metadata": {},
   "outputs": [],
   "source": [
    "model.fit(user_indices, item_indices, ratings)"
   ]
  },
  {
   "cell_type": "markdown",
   "id": "d98aad70-7bca-4406-92df-c46b2ff8fce0",
   "metadata": {},
   "source": [
    "# Predict"
   ]
  },
  {
   "cell_type": "code",
   "execution_count": 21,
   "id": "98ab8614-2c48-4dcb-97b0-b7d1460140d4",
   "metadata": {
    "scrolled": true
   },
   "outputs": [
    {
     "name": "stderr",
     "output_type": "stream",
     "text": [
      "\u001b[32m2024-09-26 22:59:07.009\u001b[0m | \u001b[1mINFO    \u001b[0m | \u001b[36m__main__\u001b[0m:\u001b[36m<module>\u001b[0m:\u001b[36m1\u001b[0m - \u001b[1mTest predicting before training with user_id = AFUWPAK6VCGEL2OVIL2YGZNFQJZQ and parent_asin = B0C6DH316S\u001b[0m\n"
     ]
    },
    {
     "data": {
      "text/plain": [
       "array([0.5])"
      ]
     },
     "execution_count": 21,
     "metadata": {},
     "output_type": "execute_result"
    }
   ],
   "source": [
    "logger.info(\n",
    "    f\"Test predicting before training with {args.user_col} = {user_id} and {args.item_col} = {item_id}\"\n",
    ")\n",
    "model.predict([user_indice], [item_indice])"
   ]
  },
  {
   "cell_type": "markdown",
   "id": "fd2bba59-2e12-4921-b36f-66e82105637c",
   "metadata": {},
   "source": [
    "# Evaluate"
   ]
  },
  {
   "cell_type": "markdown",
   "id": "febee4e0-88ea-4d07-95d8-7c7a3114815b",
   "metadata": {},
   "source": [
    "## Ranking metrics"
   ]
  },
  {
   "cell_type": "code",
   "execution_count": 22,
   "id": "13f0285d-a482-4a33-8dce-e72fc445c6f5",
   "metadata": {},
   "outputs": [
    {
     "data": {
      "application/vnd.jupyter.widget-view+json": {
       "model_id": "84214ef7ed7a4553a086fe6685e82fa4",
       "version_major": 2,
       "version_minor": 0
      },
      "text/plain": [
       "Generating recommendations:   0%|          | 0/1898 [00:00<?, ?it/s]"
      ]
     },
     "metadata": {},
     "output_type": "display_data"
    }
   ],
   "source": [
    "recommendations = model.recommend(val_user_indices, k=args.top_K)"
   ]
  },
  {
   "cell_type": "code",
   "execution_count": 23,
   "id": "5ae32aa8-b14d-4e88-bf0f-31b1df76c6aa",
   "metadata": {
    "scrolled": true
   },
   "outputs": [
    {
     "data": {
      "text/html": [
       "<div>\n",
       "<style scoped>\n",
       "    .dataframe tbody tr th:only-of-type {\n",
       "        vertical-align: middle;\n",
       "    }\n",
       "\n",
       "    .dataframe tbody tr th {\n",
       "        vertical-align: top;\n",
       "    }\n",
       "\n",
       "    .dataframe thead th {\n",
       "        text-align: right;\n",
       "    }\n",
       "</style>\n",
       "<table border=\"1\" class=\"dataframe\">\n",
       "  <thead>\n",
       "    <tr style=\"text-align: right;\">\n",
       "      <th></th>\n",
       "      <th>user_indice</th>\n",
       "      <th>recommendation</th>\n",
       "      <th>score</th>\n",
       "      <th>rec_ranking</th>\n",
       "      <th>user_id</th>\n",
       "      <th>parent_asin</th>\n",
       "    </tr>\n",
       "  </thead>\n",
       "  <tbody>\n",
       "    <tr>\n",
       "      <th>0</th>\n",
       "      <td>10525</td>\n",
       "      <td>3636</td>\n",
       "      <td>0.993307</td>\n",
       "      <td>1.0</td>\n",
       "      <td>AEHCPMCLIMWHW7TEFRCOZN4MOFGA</td>\n",
       "      <td>B073SQ2S3K</td>\n",
       "    </tr>\n",
       "    <tr>\n",
       "      <th>1</th>\n",
       "      <td>10525</td>\n",
       "      <td>1279</td>\n",
       "      <td>0.993307</td>\n",
       "      <td>2.0</td>\n",
       "      <td>AEHCPMCLIMWHW7TEFRCOZN4MOFGA</td>\n",
       "      <td>B01K1JV9KE</td>\n",
       "    </tr>\n",
       "    <tr>\n",
       "      <th>2</th>\n",
       "      <td>10525</td>\n",
       "      <td>2364</td>\n",
       "      <td>0.993307</td>\n",
       "      <td>3.0</td>\n",
       "      <td>AEHCPMCLIMWHW7TEFRCOZN4MOFGA</td>\n",
       "      <td>B0002ILS1K</td>\n",
       "    </tr>\n",
       "    <tr>\n",
       "      <th>3</th>\n",
       "      <td>10525</td>\n",
       "      <td>1273</td>\n",
       "      <td>0.993307</td>\n",
       "      <td>4.0</td>\n",
       "      <td>AEHCPMCLIMWHW7TEFRCOZN4MOFGA</td>\n",
       "      <td>B002BSA298</td>\n",
       "    </tr>\n",
       "    <tr>\n",
       "      <th>4</th>\n",
       "      <td>10525</td>\n",
       "      <td>3666</td>\n",
       "      <td>0.993307</td>\n",
       "      <td>5.0</td>\n",
       "      <td>AEHCPMCLIMWHW7TEFRCOZN4MOFGA</td>\n",
       "      <td>B002JTX7HI</td>\n",
       "    </tr>\n",
       "    <tr>\n",
       "      <th>...</th>\n",
       "      <td>...</td>\n",
       "      <td>...</td>\n",
       "      <td>...</td>\n",
       "      <td>...</td>\n",
       "      <td>...</td>\n",
       "      <td>...</td>\n",
       "    </tr>\n",
       "    <tr>\n",
       "      <th>189795</th>\n",
       "      <td>14213</td>\n",
       "      <td>2566</td>\n",
       "      <td>0.993307</td>\n",
       "      <td>196.0</td>\n",
       "      <td>AHAKU6TTWIHJPZIODW7MGC52M2DA</td>\n",
       "      <td>B00KWEH61U</td>\n",
       "    </tr>\n",
       "    <tr>\n",
       "      <th>189796</th>\n",
       "      <td>14213</td>\n",
       "      <td>2572</td>\n",
       "      <td>0.993307</td>\n",
       "      <td>197.0</td>\n",
       "      <td>AHAKU6TTWIHJPZIODW7MGC52M2DA</td>\n",
       "      <td>B01NAUEFNR</td>\n",
       "    </tr>\n",
       "    <tr>\n",
       "      <th>189797</th>\n",
       "      <td>14213</td>\n",
       "      <td>2573</td>\n",
       "      <td>0.993307</td>\n",
       "      <td>198.0</td>\n",
       "      <td>AHAKU6TTWIHJPZIODW7MGC52M2DA</td>\n",
       "      <td>B08N7PZK77</td>\n",
       "    </tr>\n",
       "    <tr>\n",
       "      <th>189798</th>\n",
       "      <td>14213</td>\n",
       "      <td>2586</td>\n",
       "      <td>0.993307</td>\n",
       "      <td>199.0</td>\n",
       "      <td>AHAKU6TTWIHJPZIODW7MGC52M2DA</td>\n",
       "      <td>B0722GG88M</td>\n",
       "    </tr>\n",
       "    <tr>\n",
       "      <th>189799</th>\n",
       "      <td>14213</td>\n",
       "      <td>2594</td>\n",
       "      <td>0.993307</td>\n",
       "      <td>200.0</td>\n",
       "      <td>AHAKU6TTWIHJPZIODW7MGC52M2DA</td>\n",
       "      <td>B007BJNR6C</td>\n",
       "    </tr>\n",
       "  </tbody>\n",
       "</table>\n",
       "<p>189800 rows × 6 columns</p>\n",
       "</div>"
      ],
      "text/plain": [
       "        user_indice  recommendation     score  rec_ranking  \\\n",
       "0             10525            3636  0.993307          1.0   \n",
       "1             10525            1279  0.993307          2.0   \n",
       "2             10525            2364  0.993307          3.0   \n",
       "3             10525            1273  0.993307          4.0   \n",
       "4             10525            3666  0.993307          5.0   \n",
       "...             ...             ...       ...          ...   \n",
       "189795        14213            2566  0.993307        196.0   \n",
       "189796        14213            2572  0.993307        197.0   \n",
       "189797        14213            2573  0.993307        198.0   \n",
       "189798        14213            2586  0.993307        199.0   \n",
       "189799        14213            2594  0.993307        200.0   \n",
       "\n",
       "                             user_id parent_asin  \n",
       "0       AEHCPMCLIMWHW7TEFRCOZN4MOFGA  B073SQ2S3K  \n",
       "1       AEHCPMCLIMWHW7TEFRCOZN4MOFGA  B01K1JV9KE  \n",
       "2       AEHCPMCLIMWHW7TEFRCOZN4MOFGA  B0002ILS1K  \n",
       "3       AEHCPMCLIMWHW7TEFRCOZN4MOFGA  B002BSA298  \n",
       "4       AEHCPMCLIMWHW7TEFRCOZN4MOFGA  B002JTX7HI  \n",
       "...                              ...         ...  \n",
       "189795  AHAKU6TTWIHJPZIODW7MGC52M2DA  B00KWEH61U  \n",
       "189796  AHAKU6TTWIHJPZIODW7MGC52M2DA  B01NAUEFNR  \n",
       "189797  AHAKU6TTWIHJPZIODW7MGC52M2DA  B08N7PZK77  \n",
       "189798  AHAKU6TTWIHJPZIODW7MGC52M2DA  B0722GG88M  \n",
       "189799  AHAKU6TTWIHJPZIODW7MGC52M2DA  B007BJNR6C  \n",
       "\n",
       "[189800 rows x 6 columns]"
      ]
     },
     "execution_count": 23,
     "metadata": {},
     "output_type": "execute_result"
    }
   ],
   "source": [
    "recommendations_df = pd.DataFrame(recommendations).pipe(create_rec_df, idm)\n",
    "recommendations_df"
   ]
  },
  {
   "cell_type": "code",
   "execution_count": 24,
   "id": "2702e214-ba09-4e61-a479-623196d04a94",
   "metadata": {},
   "outputs": [
    {
     "data": {
      "text/html": [
       "<div>\n",
       "<style scoped>\n",
       "    .dataframe tbody tr th:only-of-type {\n",
       "        vertical-align: middle;\n",
       "    }\n",
       "\n",
       "    .dataframe tbody tr th {\n",
       "        vertical-align: top;\n",
       "    }\n",
       "\n",
       "    .dataframe thead th {\n",
       "        text-align: right;\n",
       "    }\n",
       "</style>\n",
       "<table border=\"1\" class=\"dataframe\">\n",
       "  <thead>\n",
       "    <tr style=\"text-align: right;\">\n",
       "      <th></th>\n",
       "      <th>user_id</th>\n",
       "      <th>parent_asin</th>\n",
       "      <th>rating</th>\n",
       "      <th>rating_rank</th>\n",
       "    </tr>\n",
       "  </thead>\n",
       "  <tbody>\n",
       "    <tr>\n",
       "      <th>509</th>\n",
       "      <td>AFUQQLR2N2LY7XPE4VJ5YF3LDZVA</td>\n",
       "      <td>B07YN82X3B</td>\n",
       "      <td>5.0</td>\n",
       "      <td>1.0</td>\n",
       "    </tr>\n",
       "    <tr>\n",
       "      <th>250</th>\n",
       "      <td>AGJO7OFBOKRLDTSEL2HHSZSKDQ4Q</td>\n",
       "      <td>B07PZ8NZSZ</td>\n",
       "      <td>1.0</td>\n",
       "      <td>1.0</td>\n",
       "    </tr>\n",
       "    <tr>\n",
       "      <th>1549</th>\n",
       "      <td>AF4QBZD2EXOTKIOOH4BOC4HZDHYA</td>\n",
       "      <td>B08NRVRF3J</td>\n",
       "      <td>3.0</td>\n",
       "      <td>1.0</td>\n",
       "    </tr>\n",
       "    <tr>\n",
       "      <th>395</th>\n",
       "      <td>AH6YPZLRQH6OSGLGBVTGCNSF7JQQ</td>\n",
       "      <td>B0BVVTQ5JP</td>\n",
       "      <td>5.0</td>\n",
       "      <td>1.0</td>\n",
       "    </tr>\n",
       "    <tr>\n",
       "      <th>1325</th>\n",
       "      <td>AESEOKCWWKUG7YPP43J2CRWAXQIA</td>\n",
       "      <td>B09GM4283G</td>\n",
       "      <td>5.0</td>\n",
       "      <td>1.0</td>\n",
       "    </tr>\n",
       "    <tr>\n",
       "      <th>...</th>\n",
       "      <td>...</td>\n",
       "      <td>...</td>\n",
       "      <td>...</td>\n",
       "      <td>...</td>\n",
       "    </tr>\n",
       "    <tr>\n",
       "      <th>1365</th>\n",
       "      <td>AG4RCXKPTC6QRORJLUSBY4SO2IAA</td>\n",
       "      <td>B00LMRL00O</td>\n",
       "      <td>0.0</td>\n",
       "      <td>18.0</td>\n",
       "    </tr>\n",
       "    <tr>\n",
       "      <th>528</th>\n",
       "      <td>AFB6FYPPCN33UMUU5536IHXNOHCQ</td>\n",
       "      <td>B00Z9TM72Q</td>\n",
       "      <td>0.0</td>\n",
       "      <td>18.0</td>\n",
       "    </tr>\n",
       "    <tr>\n",
       "      <th>1670</th>\n",
       "      <td>AESD4RLWUKM6JTD6SNNWYLHLLQQA</td>\n",
       "      <td>B07NKN4VR4</td>\n",
       "      <td>0.0</td>\n",
       "      <td>18.0</td>\n",
       "    </tr>\n",
       "    <tr>\n",
       "      <th>311</th>\n",
       "      <td>AFB6FYPPCN33UMUU5536IHXNOHCQ</td>\n",
       "      <td>B002Z01QO2</td>\n",
       "      <td>0.0</td>\n",
       "      <td>19.0</td>\n",
       "    </tr>\n",
       "    <tr>\n",
       "      <th>1677</th>\n",
       "      <td>AFB6FYPPCN33UMUU5536IHXNOHCQ</td>\n",
       "      <td>B00C1TTF86</td>\n",
       "      <td>0.0</td>\n",
       "      <td>20.0</td>\n",
       "    </tr>\n",
       "  </tbody>\n",
       "</table>\n",
       "<p>1898 rows × 4 columns</p>\n",
       "</div>"
      ],
      "text/plain": [
       "                           user_id parent_asin  rating  rating_rank\n",
       "509   AFUQQLR2N2LY7XPE4VJ5YF3LDZVA  B07YN82X3B     5.0          1.0\n",
       "250   AGJO7OFBOKRLDTSEL2HHSZSKDQ4Q  B07PZ8NZSZ     1.0          1.0\n",
       "1549  AF4QBZD2EXOTKIOOH4BOC4HZDHYA  B08NRVRF3J     3.0          1.0\n",
       "395   AH6YPZLRQH6OSGLGBVTGCNSF7JQQ  B0BVVTQ5JP     5.0          1.0\n",
       "1325  AESEOKCWWKUG7YPP43J2CRWAXQIA  B09GM4283G     5.0          1.0\n",
       "...                            ...         ...     ...          ...\n",
       "1365  AG4RCXKPTC6QRORJLUSBY4SO2IAA  B00LMRL00O     0.0         18.0\n",
       "528   AFB6FYPPCN33UMUU5536IHXNOHCQ  B00Z9TM72Q     0.0         18.0\n",
       "1670  AESD4RLWUKM6JTD6SNNWYLHLLQQA  B07NKN4VR4     0.0         18.0\n",
       "311   AFB6FYPPCN33UMUU5536IHXNOHCQ  B002Z01QO2     0.0         19.0\n",
       "1677  AFB6FYPPCN33UMUU5536IHXNOHCQ  B00C1TTF86     0.0         20.0\n",
       "\n",
       "[1898 rows x 4 columns]"
      ]
     },
     "execution_count": 24,
     "metadata": {},
     "output_type": "execute_result"
    }
   ],
   "source": [
    "label_df = create_label_df(val_df)\n",
    "label_df"
   ]
  },
  {
   "cell_type": "code",
   "execution_count": 25,
   "id": "86f1186e-2382-456e-b7ce-46de20b2aba2",
   "metadata": {
    "scrolled": true
   },
   "outputs": [
    {
     "data": {
      "text/html": [
       "<div>\n",
       "<style scoped>\n",
       "    .dataframe tbody tr th:only-of-type {\n",
       "        vertical-align: middle;\n",
       "    }\n",
       "\n",
       "    .dataframe tbody tr th {\n",
       "        vertical-align: top;\n",
       "    }\n",
       "\n",
       "    .dataframe thead th {\n",
       "        text-align: right;\n",
       "    }\n",
       "</style>\n",
       "<table border=\"1\" class=\"dataframe\">\n",
       "  <thead>\n",
       "    <tr style=\"text-align: right;\">\n",
       "      <th></th>\n",
       "      <th>user_indice</th>\n",
       "      <th>recommendation</th>\n",
       "      <th>score</th>\n",
       "      <th>rec_ranking</th>\n",
       "      <th>user_id</th>\n",
       "      <th>parent_asin</th>\n",
       "      <th>rating</th>\n",
       "      <th>rating_rank</th>\n",
       "    </tr>\n",
       "  </thead>\n",
       "  <tbody>\n",
       "    <tr>\n",
       "      <th>101</th>\n",
       "      <td>16168.0</td>\n",
       "      <td>0.0</td>\n",
       "      <td>0.993307</td>\n",
       "      <td>1</td>\n",
       "      <td>AE2AZ2MNROPF33U6SS53VI22OXJA</td>\n",
       "      <td>B00DBKSN8M</td>\n",
       "      <td>0</td>\n",
       "      <td>NaN</td>\n",
       "    </tr>\n",
       "    <tr>\n",
       "      <th>181</th>\n",
       "      <td>16168.0</td>\n",
       "      <td>3009.0</td>\n",
       "      <td>0.993307</td>\n",
       "      <td>2</td>\n",
       "      <td>AE2AZ2MNROPF33U6SS53VI22OXJA</td>\n",
       "      <td>B07MVY7989</td>\n",
       "      <td>0</td>\n",
       "      <td>NaN</td>\n",
       "    </tr>\n",
       "    <tr>\n",
       "      <th>10</th>\n",
       "      <td>16168.0</td>\n",
       "      <td>2982.0</td>\n",
       "      <td>0.993307</td>\n",
       "      <td>3</td>\n",
       "      <td>AE2AZ2MNROPF33U6SS53VI22OXJA</td>\n",
       "      <td>B000FUWCRY</td>\n",
       "      <td>0</td>\n",
       "      <td>NaN</td>\n",
       "    </tr>\n",
       "    <tr>\n",
       "      <th>68</th>\n",
       "      <td>16168.0</td>\n",
       "      <td>2983.0</td>\n",
       "      <td>0.993307</td>\n",
       "      <td>4</td>\n",
       "      <td>AE2AZ2MNROPF33U6SS53VI22OXJA</td>\n",
       "      <td>B0056JPS84</td>\n",
       "      <td>0</td>\n",
       "      <td>NaN</td>\n",
       "    </tr>\n",
       "    <tr>\n",
       "      <th>193</th>\n",
       "      <td>16168.0</td>\n",
       "      <td>2984.0</td>\n",
       "      <td>0.993307</td>\n",
       "      <td>5</td>\n",
       "      <td>AE2AZ2MNROPF33U6SS53VI22OXJA</td>\n",
       "      <td>B09MFBJJQJ</td>\n",
       "      <td>0</td>\n",
       "      <td>NaN</td>\n",
       "    </tr>\n",
       "    <tr>\n",
       "      <th>...</th>\n",
       "      <td>...</td>\n",
       "      <td>...</td>\n",
       "      <td>...</td>\n",
       "      <td>...</td>\n",
       "      <td>...</td>\n",
       "      <td>...</td>\n",
       "      <td>...</td>\n",
       "      <td>...</td>\n",
       "    </tr>\n",
       "    <tr>\n",
       "      <th>191520</th>\n",
       "      <td>1883.0</td>\n",
       "      <td>2574.0</td>\n",
       "      <td>0.993307</td>\n",
       "      <td>196</td>\n",
       "      <td>AHZNHP6OKXRZV2UJMYDPLWCKFKEA</td>\n",
       "      <td>B006JKASAC</td>\n",
       "      <td>0</td>\n",
       "      <td>NaN</td>\n",
       "    </tr>\n",
       "    <tr>\n",
       "      <th>191498</th>\n",
       "      <td>1883.0</td>\n",
       "      <td>749.0</td>\n",
       "      <td>0.993307</td>\n",
       "      <td>197</td>\n",
       "      <td>AHZNHP6OKXRZV2UJMYDPLWCKFKEA</td>\n",
       "      <td>B0037M5W24</td>\n",
       "      <td>0</td>\n",
       "      <td>NaN</td>\n",
       "    </tr>\n",
       "    <tr>\n",
       "      <th>191614</th>\n",
       "      <td>1883.0</td>\n",
       "      <td>4018.0</td>\n",
       "      <td>0.993307</td>\n",
       "      <td>198</td>\n",
       "      <td>AHZNHP6OKXRZV2UJMYDPLWCKFKEA</td>\n",
       "      <td>B07CV6LH3V</td>\n",
       "      <td>0</td>\n",
       "      <td>NaN</td>\n",
       "    </tr>\n",
       "    <tr>\n",
       "      <th>191566</th>\n",
       "      <td>1883.0</td>\n",
       "      <td>3443.0</td>\n",
       "      <td>0.993307</td>\n",
       "      <td>199</td>\n",
       "      <td>AHZNHP6OKXRZV2UJMYDPLWCKFKEA</td>\n",
       "      <td>B00WOK8YX4</td>\n",
       "      <td>0</td>\n",
       "      <td>NaN</td>\n",
       "    </tr>\n",
       "    <tr>\n",
       "      <th>191596</th>\n",
       "      <td>1883.0</td>\n",
       "      <td>407.0</td>\n",
       "      <td>0.993307</td>\n",
       "      <td>200</td>\n",
       "      <td>AHZNHP6OKXRZV2UJMYDPLWCKFKEA</td>\n",
       "      <td>B01NASEX0C</td>\n",
       "      <td>0</td>\n",
       "      <td>NaN</td>\n",
       "    </tr>\n",
       "  </tbody>\n",
       "</table>\n",
       "<p>191647 rows × 8 columns</p>\n",
       "</div>"
      ],
      "text/plain": [
       "        user_indice  recommendation     score  rec_ranking  \\\n",
       "101         16168.0             0.0  0.993307            1   \n",
       "181         16168.0          3009.0  0.993307            2   \n",
       "10          16168.0          2982.0  0.993307            3   \n",
       "68          16168.0          2983.0  0.993307            4   \n",
       "193         16168.0          2984.0  0.993307            5   \n",
       "...             ...             ...       ...          ...   \n",
       "191520       1883.0          2574.0  0.993307          196   \n",
       "191498       1883.0           749.0  0.993307          197   \n",
       "191614       1883.0          4018.0  0.993307          198   \n",
       "191566       1883.0          3443.0  0.993307          199   \n",
       "191596       1883.0           407.0  0.993307          200   \n",
       "\n",
       "                             user_id parent_asin  rating  rating_rank  \n",
       "101     AE2AZ2MNROPF33U6SS53VI22OXJA  B00DBKSN8M       0          NaN  \n",
       "181     AE2AZ2MNROPF33U6SS53VI22OXJA  B07MVY7989       0          NaN  \n",
       "10      AE2AZ2MNROPF33U6SS53VI22OXJA  B000FUWCRY       0          NaN  \n",
       "68      AE2AZ2MNROPF33U6SS53VI22OXJA  B0056JPS84       0          NaN  \n",
       "193     AE2AZ2MNROPF33U6SS53VI22OXJA  B09MFBJJQJ       0          NaN  \n",
       "...                              ...         ...     ...          ...  \n",
       "191520  AHZNHP6OKXRZV2UJMYDPLWCKFKEA  B006JKASAC       0          NaN  \n",
       "191498  AHZNHP6OKXRZV2UJMYDPLWCKFKEA  B0037M5W24       0          NaN  \n",
       "191614  AHZNHP6OKXRZV2UJMYDPLWCKFKEA  B07CV6LH3V       0          NaN  \n",
       "191566  AHZNHP6OKXRZV2UJMYDPLWCKFKEA  B00WOK8YX4       0          NaN  \n",
       "191596  AHZNHP6OKXRZV2UJMYDPLWCKFKEA  B01NASEX0C       0          NaN  \n",
       "\n",
       "[191647 rows x 8 columns]"
      ]
     },
     "execution_count": 25,
     "metadata": {},
     "output_type": "execute_result"
    }
   ],
   "source": [
    "eval_df = merge_recs_with_target(recommendations_df, label_df, k=args.top_K)\n",
    "eval_df"
   ]
  },
  {
   "cell_type": "code",
   "execution_count": 26,
   "id": "105850af-291c-4187-9671-8208c0afc6bb",
   "metadata": {},
   "outputs": [
    {
     "name": "stderr",
     "output_type": "stream",
     "text": [
      "/Users/dvq/frostmourne/reco-algo/.venv/lib/python3.11/site-packages/evidently/metrics/recsys/f_beta_top_k.py:61: RuntimeWarning: invalid value encountered in divide\n",
      "  return (1 + beta_sqr) * precision_arr * recall_arr / (beta_sqr * precision_arr + recall_arr)\n"
     ]
    }
   ],
   "source": [
    "ranking_report = log_ranking_metrics(args, eval_df)"
   ]
  },
  {
   "cell_type": "markdown",
   "id": "b3eb2dbc-864b-4f5c-8361-901f090363ff",
   "metadata": {},
   "source": [
    "## Classification metrics"
   ]
  },
  {
   "cell_type": "code",
   "execution_count": 27,
   "id": "e37258b7-d439-48bd-8380-8cf239cb5f3f",
   "metadata": {},
   "outputs": [],
   "source": [
    "val_user_indices = val_df[\"user_indice\"].values\n",
    "val_item_indices = val_df[\"item_indice\"].values"
   ]
  },
  {
   "cell_type": "code",
   "execution_count": 28,
   "id": "bc7a8dfa-dea6-459e-b9cd-000ba18cdc45",
   "metadata": {},
   "outputs": [],
   "source": [
    "classifications = model.predict(val_user_indices, val_item_indices)"
   ]
  },
  {
   "cell_type": "code",
   "execution_count": 29,
   "id": "736db564-303a-4d6a-a1f6-3c274c698826",
   "metadata": {
    "scrolled": true
   },
   "outputs": [
    {
     "data": {
      "text/html": [
       "<div>\n",
       "<style scoped>\n",
       "    .dataframe tbody tr th:only-of-type {\n",
       "        vertical-align: middle;\n",
       "    }\n",
       "\n",
       "    .dataframe tbody tr th {\n",
       "        vertical-align: top;\n",
       "    }\n",
       "\n",
       "    .dataframe thead th {\n",
       "        text-align: right;\n",
       "    }\n",
       "</style>\n",
       "<table border=\"1\" class=\"dataframe\">\n",
       "  <thead>\n",
       "    <tr style=\"text-align: right;\">\n",
       "      <th></th>\n",
       "      <th>user_id</th>\n",
       "      <th>parent_asin</th>\n",
       "      <th>rating</th>\n",
       "      <th>timestamp</th>\n",
       "      <th>user_indice</th>\n",
       "      <th>item_indice</th>\n",
       "      <th>main_category</th>\n",
       "      <th>title</th>\n",
       "      <th>description</th>\n",
       "      <th>categories</th>\n",
       "      <th>price</th>\n",
       "      <th>item_sequence</th>\n",
       "      <th>classification_proba</th>\n",
       "      <th>label</th>\n",
       "    </tr>\n",
       "  </thead>\n",
       "  <tbody>\n",
       "    <tr>\n",
       "      <th>0</th>\n",
       "      <td>AEHCPMCLIMWHW7TEFRCOZN4MOFGA</td>\n",
       "      <td>B00V5V3E38</td>\n",
       "      <td>0.0</td>\n",
       "      <td>1633967679730</td>\n",
       "      <td>10525</td>\n",
       "      <td>4119</td>\n",
       "      <td>Video Games</td>\n",
       "      <td>Legend of Kay Anniversary - Nintendo Wii U</td>\n",
       "      <td>[10 years after its initial release, Legend of...</td>\n",
       "      <td>[Video Games, Legacy Systems, Nintendo Systems...</td>\n",
       "      <td>None</td>\n",
       "      <td>[-1, -1, -1, -1, 3766, 4102, 2872, 2810, 502, ...</td>\n",
       "      <td>0.982014</td>\n",
       "      <td>0</td>\n",
       "    </tr>\n",
       "    <tr>\n",
       "      <th>1</th>\n",
       "      <td>AGFPKXT34G5FGWARKXZC4GJTJQUQ</td>\n",
       "      <td>B01GY3651O</td>\n",
       "      <td>0.0</td>\n",
       "      <td>1630491281842</td>\n",
       "      <td>11724</td>\n",
       "      <td>2977</td>\n",
       "      <td>Video Games</td>\n",
       "      <td>XCOM 2 Deluxe Edition [Online Game Code]</td>\n",
       "      <td>[The XCOM 2 Digital Deluxe Edition includes th...</td>\n",
       "      <td>[Video Games, PC, Games]</td>\n",
       "      <td>None</td>\n",
       "      <td>[594, 4578, 3289, 4664, 1057, 3845, 3010, 2691...</td>\n",
       "      <td>0.969248</td>\n",
       "      <td>0</td>\n",
       "    </tr>\n",
       "    <tr>\n",
       "      <th>2</th>\n",
       "      <td>AH4AOFTTDPHPAFAAVFMAF25H2LIQ</td>\n",
       "      <td>B09B14PJCG</td>\n",
       "      <td>0.0</td>\n",
       "      <td>1641748747823</td>\n",
       "      <td>7401</td>\n",
       "      <td>4682</td>\n",
       "      <td>Video Games</td>\n",
       "      <td>A Plague Tale: Innocence (XB1) - Xbox One</td>\n",
       "      <td>[Follow the grim tale of young Amicia and her ...</td>\n",
       "      <td>[Video Games, Xbox One, Games]</td>\n",
       "      <td>59.99</td>\n",
       "      <td>[4064, 24, 1441, 1805, 2619, 2254, 2274, 1454,...</td>\n",
       "      <td>0.988758</td>\n",
       "      <td>0</td>\n",
       "    </tr>\n",
       "    <tr>\n",
       "      <th>3</th>\n",
       "      <td>AEXTTZIJDNXIXQZFR5O7IJRXO3GA</td>\n",
       "      <td>B081243BT6</td>\n",
       "      <td>0.0</td>\n",
       "      <td>1637074638494</td>\n",
       "      <td>5074</td>\n",
       "      <td>3104</td>\n",
       "      <td>Cell Phones &amp; Accessories</td>\n",
       "      <td>Orzly Carrying case for Nintendo Switch OLED a...</td>\n",
       "      <td>[]</td>\n",
       "      <td>[Video Games, Nintendo Switch, Accessories, Ca...</td>\n",
       "      <td>29.99</td>\n",
       "      <td>[-1, -1, -1, -1, -1, 811, 2540, 313, 4394, 1846]</td>\n",
       "      <td>0.500000</td>\n",
       "      <td>0</td>\n",
       "    </tr>\n",
       "    <tr>\n",
       "      <th>4</th>\n",
       "      <td>AEWCUX5UKUYPDZJIOB6XMLCBJ3KA</td>\n",
       "      <td>B0BLFYF8K2</td>\n",
       "      <td>4.0</td>\n",
       "      <td>1630263342566</td>\n",
       "      <td>1616</td>\n",
       "      <td>4127</td>\n",
       "      <td>Computers</td>\n",
       "      <td>Logitech G600 MMO Gaming Mouse, RGB Backlit, 2...</td>\n",
       "      <td>[With 20 buttons, the Logitech G600 MMO Gaming...</td>\n",
       "      <td>[Video Games, PC, Accessories, Gaming Mice]</td>\n",
       "      <td>37.99</td>\n",
       "      <td>[1459, 1860, 3264, 569, 2143, 773, 4483, 296, ...</td>\n",
       "      <td>0.981448</td>\n",
       "      <td>1</td>\n",
       "    </tr>\n",
       "    <tr>\n",
       "      <th>...</th>\n",
       "      <td>...</td>\n",
       "      <td>...</td>\n",
       "      <td>...</td>\n",
       "      <td>...</td>\n",
       "      <td>...</td>\n",
       "      <td>...</td>\n",
       "      <td>...</td>\n",
       "      <td>...</td>\n",
       "      <td>...</td>\n",
       "      <td>...</td>\n",
       "      <td>...</td>\n",
       "      <td>...</td>\n",
       "      <td>...</td>\n",
       "      <td>...</td>\n",
       "    </tr>\n",
       "    <tr>\n",
       "      <th>1893</th>\n",
       "      <td>AFPSHZKKUL2YDGIDBQQUNRGE5MXQ</td>\n",
       "      <td>B07DD7QTBM</td>\n",
       "      <td>0.0</td>\n",
       "      <td>1641121394999</td>\n",
       "      <td>1672</td>\n",
       "      <td>2700</td>\n",
       "      <td>None</td>\n",
       "      <td>Just Dance 2019 - Xbox One Standard Edition</td>\n",
       "      <td>[Dance to your own beat with Just Dance 2019, ...</td>\n",
       "      <td>[Video Games, Xbox One, Games]</td>\n",
       "      <td>12.3</td>\n",
       "      <td>[-1, -1, -1, 2830, 1342, 1294, 1749, 2558, 385...</td>\n",
       "      <td>0.993307</td>\n",
       "      <td>0</td>\n",
       "    </tr>\n",
       "    <tr>\n",
       "      <th>1894</th>\n",
       "      <td>AFH63KLSVQQYRNFS7NLQGD3GSP3A</td>\n",
       "      <td>B094YHB1QK</td>\n",
       "      <td>5.0</td>\n",
       "      <td>1652564728981</td>\n",
       "      <td>49</td>\n",
       "      <td>1887</td>\n",
       "      <td>Video Games</td>\n",
       "      <td>PlayStation DualSense Wireless Controller – Ga...</td>\n",
       "      <td>[Plot a course for astronomical adventures on ...</td>\n",
       "      <td>[Video Games, PlayStation 5, Accessories, Cont...</td>\n",
       "      <td>74.99</td>\n",
       "      <td>[-1, 3179, 1489, 2225, 3399, 3142, 4247, 3801,...</td>\n",
       "      <td>0.731059</td>\n",
       "      <td>1</td>\n",
       "    </tr>\n",
       "    <tr>\n",
       "      <th>1895</th>\n",
       "      <td>AFPPTJOEUPVXA5C63SNRGID3EQNA</td>\n",
       "      <td>B0BVVTQ5JP</td>\n",
       "      <td>4.0</td>\n",
       "      <td>1635968491390</td>\n",
       "      <td>6619</td>\n",
       "      <td>2246</td>\n",
       "      <td>Computers</td>\n",
       "      <td>Logitech G502 HERO High Performance Wired Gami...</td>\n",
       "      <td>[Logitech updated its iconic G502 gaming mouse...</td>\n",
       "      <td>[Video Games, PC, Accessories, Gaming Mice]</td>\n",
       "      <td>45.87</td>\n",
       "      <td>[-1, -1, -1, -1, -1, 2780, 3158, 130, 1164, 1030]</td>\n",
       "      <td>0.980681</td>\n",
       "      <td>1</td>\n",
       "    </tr>\n",
       "    <tr>\n",
       "      <th>1896</th>\n",
       "      <td>AEBTSECUK7ZEECNSRHQLMKO3E5VA</td>\n",
       "      <td>B002BSA388</td>\n",
       "      <td>0.0</td>\n",
       "      <td>1642567970979</td>\n",
       "      <td>18651</td>\n",
       "      <td>3724</td>\n",
       "      <td>Video Games</td>\n",
       "      <td>Super Mario Galaxy 2</td>\n",
       "      <td>[Product Description, Launch into a new univer...</td>\n",
       "      <td>[Video Games, Legacy Systems, Nintendo Systems...</td>\n",
       "      <td>80.82</td>\n",
       "      <td>[-1, -1, -1, -1, 2135, 2729, 14, 3639, 3118, 955]</td>\n",
       "      <td>0.993307</td>\n",
       "      <td>0</td>\n",
       "    </tr>\n",
       "    <tr>\n",
       "      <th>1897</th>\n",
       "      <td>AHAKU6TTWIHJPZIODW7MGC52M2DA</td>\n",
       "      <td>B06Y2GDXMC</td>\n",
       "      <td>5.0</td>\n",
       "      <td>1639190433307</td>\n",
       "      <td>14213</td>\n",
       "      <td>490</td>\n",
       "      <td>Video Games</td>\n",
       "      <td>HTC Vive Deluxe Audio Strap</td>\n",
       "      <td>[The Vive Deluxe Audio Strap provides integrat...</td>\n",
       "      <td>[Video Games, PC, Virtual Reality, Accessories]</td>\n",
       "      <td>66.64</td>\n",
       "      <td>[-1, -1, 2796, 1785, 91, 328, 2794, 1573, 4057...</td>\n",
       "      <td>0.987778</td>\n",
       "      <td>1</td>\n",
       "    </tr>\n",
       "  </tbody>\n",
       "</table>\n",
       "<p>1898 rows × 14 columns</p>\n",
       "</div>"
      ],
      "text/plain": [
       "                           user_id parent_asin  rating      timestamp  \\\n",
       "0     AEHCPMCLIMWHW7TEFRCOZN4MOFGA  B00V5V3E38     0.0  1633967679730   \n",
       "1     AGFPKXT34G5FGWARKXZC4GJTJQUQ  B01GY3651O     0.0  1630491281842   \n",
       "2     AH4AOFTTDPHPAFAAVFMAF25H2LIQ  B09B14PJCG     0.0  1641748747823   \n",
       "3     AEXTTZIJDNXIXQZFR5O7IJRXO3GA  B081243BT6     0.0  1637074638494   \n",
       "4     AEWCUX5UKUYPDZJIOB6XMLCBJ3KA  B0BLFYF8K2     4.0  1630263342566   \n",
       "...                            ...         ...     ...            ...   \n",
       "1893  AFPSHZKKUL2YDGIDBQQUNRGE5MXQ  B07DD7QTBM     0.0  1641121394999   \n",
       "1894  AFH63KLSVQQYRNFS7NLQGD3GSP3A  B094YHB1QK     5.0  1652564728981   \n",
       "1895  AFPPTJOEUPVXA5C63SNRGID3EQNA  B0BVVTQ5JP     4.0  1635968491390   \n",
       "1896  AEBTSECUK7ZEECNSRHQLMKO3E5VA  B002BSA388     0.0  1642567970979   \n",
       "1897  AHAKU6TTWIHJPZIODW7MGC52M2DA  B06Y2GDXMC     5.0  1639190433307   \n",
       "\n",
       "      user_indice  item_indice              main_category  \\\n",
       "0           10525         4119                Video Games   \n",
       "1           11724         2977                Video Games   \n",
       "2            7401         4682                Video Games   \n",
       "3            5074         3104  Cell Phones & Accessories   \n",
       "4            1616         4127                  Computers   \n",
       "...           ...          ...                        ...   \n",
       "1893         1672         2700                       None   \n",
       "1894           49         1887                Video Games   \n",
       "1895         6619         2246                  Computers   \n",
       "1896        18651         3724                Video Games   \n",
       "1897        14213          490                Video Games   \n",
       "\n",
       "                                                  title  \\\n",
       "0            Legend of Kay Anniversary - Nintendo Wii U   \n",
       "1              XCOM 2 Deluxe Edition [Online Game Code]   \n",
       "2             A Plague Tale: Innocence (XB1) - Xbox One   \n",
       "3     Orzly Carrying case for Nintendo Switch OLED a...   \n",
       "4     Logitech G600 MMO Gaming Mouse, RGB Backlit, 2...   \n",
       "...                                                 ...   \n",
       "1893        Just Dance 2019 - Xbox One Standard Edition   \n",
       "1894  PlayStation DualSense Wireless Controller – Ga...   \n",
       "1895  Logitech G502 HERO High Performance Wired Gami...   \n",
       "1896                               Super Mario Galaxy 2   \n",
       "1897                        HTC Vive Deluxe Audio Strap   \n",
       "\n",
       "                                            description  \\\n",
       "0     [10 years after its initial release, Legend of...   \n",
       "1     [The XCOM 2 Digital Deluxe Edition includes th...   \n",
       "2     [Follow the grim tale of young Amicia and her ...   \n",
       "3                                                    []   \n",
       "4     [With 20 buttons, the Logitech G600 MMO Gaming...   \n",
       "...                                                 ...   \n",
       "1893  [Dance to your own beat with Just Dance 2019, ...   \n",
       "1894  [Plot a course for astronomical adventures on ...   \n",
       "1895  [Logitech updated its iconic G502 gaming mouse...   \n",
       "1896  [Product Description, Launch into a new univer...   \n",
       "1897  [The Vive Deluxe Audio Strap provides integrat...   \n",
       "\n",
       "                                             categories  price  \\\n",
       "0     [Video Games, Legacy Systems, Nintendo Systems...   None   \n",
       "1                              [Video Games, PC, Games]   None   \n",
       "2                        [Video Games, Xbox One, Games]  59.99   \n",
       "3     [Video Games, Nintendo Switch, Accessories, Ca...  29.99   \n",
       "4           [Video Games, PC, Accessories, Gaming Mice]  37.99   \n",
       "...                                                 ...    ...   \n",
       "1893                     [Video Games, Xbox One, Games]   12.3   \n",
       "1894  [Video Games, PlayStation 5, Accessories, Cont...  74.99   \n",
       "1895        [Video Games, PC, Accessories, Gaming Mice]  45.87   \n",
       "1896  [Video Games, Legacy Systems, Nintendo Systems...  80.82   \n",
       "1897    [Video Games, PC, Virtual Reality, Accessories]  66.64   \n",
       "\n",
       "                                          item_sequence  classification_proba  \\\n",
       "0     [-1, -1, -1, -1, 3766, 4102, 2872, 2810, 502, ...              0.982014   \n",
       "1     [594, 4578, 3289, 4664, 1057, 3845, 3010, 2691...              0.969248   \n",
       "2     [4064, 24, 1441, 1805, 2619, 2254, 2274, 1454,...              0.988758   \n",
       "3      [-1, -1, -1, -1, -1, 811, 2540, 313, 4394, 1846]              0.500000   \n",
       "4     [1459, 1860, 3264, 569, 2143, 773, 4483, 296, ...              0.981448   \n",
       "...                                                 ...                   ...   \n",
       "1893  [-1, -1, -1, 2830, 1342, 1294, 1749, 2558, 385...              0.993307   \n",
       "1894  [-1, 3179, 1489, 2225, 3399, 3142, 4247, 3801,...              0.731059   \n",
       "1895  [-1, -1, -1, -1, -1, 2780, 3158, 130, 1164, 1030]              0.980681   \n",
       "1896  [-1, -1, -1, -1, 2135, 2729, 14, 3639, 3118, 955]              0.993307   \n",
       "1897  [-1, -1, 2796, 1785, 91, 328, 2794, 1573, 4057...              0.987778   \n",
       "\n",
       "      label  \n",
       "0         0  \n",
       "1         0  \n",
       "2         0  \n",
       "3         0  \n",
       "4         1  \n",
       "...     ...  \n",
       "1893      0  \n",
       "1894      1  \n",
       "1895      1  \n",
       "1896      0  \n",
       "1897      1  \n",
       "\n",
       "[1898 rows x 14 columns]"
      ]
     },
     "execution_count": 29,
     "metadata": {},
     "output_type": "execute_result"
    }
   ],
   "source": [
    "eval_classification_df = val_df.assign(\n",
    "    classification_proba=classifications,\n",
    "    label=lambda df: df[args.rating_col].gt(0).astype(int),\n",
    ")\n",
    "eval_classification_df"
   ]
  },
  {
   "cell_type": "code",
   "execution_count": 30,
   "id": "a2aa9621-2567-4ab9-aa6e-04a37dbe01d4",
   "metadata": {},
   "outputs": [
    {
     "name": "stderr",
     "output_type": "stream",
     "text": [
      "/Users/dvq/frostmourne/reco-algo/.venv/lib/python3.11/site-packages/sklearn/metrics/_classification.py:1531: UndefinedMetricWarning:\n",
      "\n",
      "Precision is ill-defined and being set to 0.0 in labels with no predicted samples. Use `zero_division` parameter to control this behavior.\n",
      "\n",
      "/Users/dvq/frostmourne/reco-algo/.venv/lib/python3.11/site-packages/sklearn/metrics/_classification.py:1531: UndefinedMetricWarning:\n",
      "\n",
      "Precision is ill-defined and being set to 0.0 in labels with no predicted samples. Use `zero_division` parameter to control this behavior.\n",
      "\n",
      "/Users/dvq/frostmourne/reco-algo/.venv/lib/python3.11/site-packages/sklearn/metrics/_classification.py:1531: UndefinedMetricWarning:\n",
      "\n",
      "Precision is ill-defined and being set to 0.0 in labels with no predicted samples. Use `zero_division` parameter to control this behavior.\n",
      "\n"
     ]
    }
   ],
   "source": [
    "classification_report = log_classification_metrics(\n",
    "    args,\n",
    "    eval_classification_df,\n",
    "    target_col=\"label\",\n",
    "    prediction_col=\"classification_proba\",\n",
    ")"
   ]
  },
  {
   "cell_type": "markdown",
   "id": "065874f8-8657-4207-91ec-ee7668be92aa",
   "metadata": {},
   "source": [
    "# Clean up"
   ]
  },
  {
   "cell_type": "code",
   "execution_count": 31,
   "id": "fbe3b58e-1e9e-4acd-9c02-f8345db258dd",
   "metadata": {},
   "outputs": [
    {
     "name": "stderr",
     "output_type": "stream",
     "text": [
      "2024/09/26 23:13:05 INFO mlflow.tracking._tracking_service.client: 🏃 View run 002-cf-u2u at: http://localhost:5003/#/experiments/3/runs/e2a9e61d0a1c426fa7ba95ca9f57f6a7.\n",
      "2024/09/26 23:13:05 INFO mlflow.tracking._tracking_service.client: 🧪 View experiment at: http://localhost:5003/#/experiments/3.\n"
     ]
    }
   ],
   "source": [
    "all_params = [args]\n",
    "\n",
    "if args.log_to_mlflow:\n",
    "    for params in all_params:\n",
    "        params_dict = params.dict()\n",
    "        params_ = {f\"{params.__repr_name__()}.{k}\": v for k, v in params_dict.items()}\n",
    "        mlflow.log_params(params_)\n",
    "\n",
    "    mlflow.end_run()"
   ]
  },
  {
   "cell_type": "markdown",
   "id": "89b93184-99b2-40bc-9dd0-1a12640b3a27",
   "metadata": {
    "editable": true,
    "jp-MarkdownHeadingCollapsed": true,
    "slideshow": {
     "slide_type": ""
    },
    "tags": []
   },
   "source": [
    "# Appendix"
   ]
  },
  {
   "cell_type": "markdown",
   "id": "2b75e9d9-1335-4cdb-b24b-fa230a82cd63",
   "metadata": {},
   "source": [
    "## Model returning same score for every user-item in top 100"
   ]
  },
  {
   "cell_type": "raw",
   "id": "9b132834-ed36-4770-97d9-609f242f559b",
   "metadata": {},
   "source": [
    "tmp = model.predict([10] * n_items, np.arange(n_items))"
   ]
  },
  {
   "cell_type": "raw",
   "id": "d2238e63-2a67-417d-be66-cc8adc15f35a",
   "metadata": {},
   "source": [
    "pd.Series(tmp).value_counts()"
   ]
  },
  {
   "cell_type": "raw",
   "id": "1a3d6c47-2c68-4d10-ab8c-85b3b22293a2",
   "metadata": {},
   "source": [
    "model.forward(9, 4691, debug=False)"
   ]
  },
  {
   "cell_type": "raw",
   "id": "d5a057f5-46f6-4532-b6d8-940553fc3fea",
   "metadata": {},
   "source": []
  }
 ],
 "metadata": {
  "kernelspec": {
   "display_name": "Python 3 (ipykernel)",
   "language": "python",
   "name": "python3"
  },
  "language_info": {
   "codemirror_mode": {
    "name": "ipython",
    "version": 3
   },
   "file_extension": ".py",
   "mimetype": "text/x-python",
   "name": "python",
   "nbconvert_exporter": "python",
   "pygments_lexer": "ipython3",
   "version": "3.11.9"
  }
 },
 "nbformat": 4,
 "nbformat_minor": 5
}
