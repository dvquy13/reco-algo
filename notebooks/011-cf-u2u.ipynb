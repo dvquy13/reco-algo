{
 "cells": [
  {
   "cell_type": "code",
   "execution_count": 1,
   "id": "3c8f6e8d-f776-4d39-898c-d783c5ae3407",
   "metadata": {},
   "outputs": [],
   "source": [
    "%load_ext autoreload\n",
    "%autoreload 2"
   ]
  },
  {
   "cell_type": "code",
   "execution_count": 2,
   "id": "35b3499d-dc9c-405a-8714-a26341b581e1",
   "metadata": {},
   "outputs": [],
   "source": [
    "import sys\n",
    "import os\n",
    "from loguru import logger\n",
    "\n",
    "import pandas as pd\n",
    "import numpy as np\n",
    "from pydantic import BaseModel\n",
    "import plotly.express as px\n",
    "from dotenv import load_dotenv\n",
    "import mlflow\n",
    "\n",
    "load_dotenv()\n",
    "\n",
    "sys.path.insert(0, '..')\n",
    "\n",
    "from src.viz import blueq_colors"
   ]
  },
  {
   "cell_type": "markdown",
   "id": "08eea90b-693f-4546-98dd-9d74289dc2ae",
   "metadata": {},
   "source": [
    "# Controller"
   ]
  },
  {
   "cell_type": "code",
   "execution_count": 3,
   "id": "0276b67f-8e3a-4fa9-a326-0e30174cb96a",
   "metadata": {},
   "outputs": [
    {
     "name": "stderr",
     "output_type": "stream",
     "text": [
      "\u001b[32m2024-09-15 12:02:36.864\u001b[0m | \u001b[1mINFO    \u001b[0m | \u001b[36m__main__\u001b[0m:\u001b[36minit\u001b[0m:\u001b[36m31\u001b[0m - \u001b[1mSetting up MLflow experiment FSDS RecSys - L5 - Reco Algo - run 011-cf-u2u...\u001b[0m\n"
     ]
    },
    {
     "name": "stdout",
     "output_type": "stream",
     "text": [
      "{\n",
      "  \"testing\": false,\n",
      "  \"log_to_mlflow\": true,\n",
      "  \"experiment_name\": \"FSDS RecSys - L5 - Reco Algo\",\n",
      "  \"run_name\": \"011-cf-u2u\",\n",
      "  \"notebook_persist_dp\": \"/home/dvquys/frostmourne/reco-algo/notebooks/data/011-cf-u2u\",\n",
      "  \"random_seed\": 41,\n",
      "  \"user_col\": \"user_id\",\n",
      "  \"item_col\": \"parent_asin\",\n",
      "  \"rating_col\": \"rating\",\n",
      "  \"top_K\": 100,\n",
      "  \"top_k\": 10,\n",
      "  \"batch_size\": 128,\n",
      "  \"learning_task\": \"rating\"\n",
      "}\n"
     ]
    }
   ],
   "source": [
    "class Args(BaseModel):\n",
    "    testing: bool = False\n",
    "    log_to_mlflow: bool = True\n",
    "    experiment_name: str = \"FSDS RecSys - L5 - Reco Algo\"\n",
    "    run_name: str = '011-cf-u2u'\n",
    "    notebook_persist_dp: str = None\n",
    "    random_seed: int = 41\n",
    "\n",
    "    user_col: str = 'user_id'\n",
    "    item_col: str = 'parent_asin'\n",
    "    rating_col: str = 'rating'\n",
    "    \n",
    "    top_K: int = 100\n",
    "    top_k: int = 10\n",
    "\n",
    "    batch_size: int = 128\n",
    "\n",
    "    def init(self):\n",
    "        self.notebook_persist_dp = os.path.abspath(f\"data/{self.run_name}\")\n",
    "        \n",
    "        if not os.environ.get(\"MLFLOW_TRACKING_URI\"):\n",
    "            logger.warning(\n",
    "                f\"Environment variable MLFLOW_TRACKING_URI is not set. Setting self.log_to_mlflow to false.\"\n",
    "            )\n",
    "            self.log_to_mlflow = False\n",
    "\n",
    "        if self.log_to_mlflow:\n",
    "            logger.info(\n",
    "                f\"Setting up MLflow experiment {self.experiment_name} - run {self.run_name}...\"\n",
    "            )\n",
    "            import mlflow\n",
    "\n",
    "            mlflow.set_experiment(self.experiment_name)\n",
    "            mlflow.start_run(run_name=self.run_name)\n",
    "\n",
    "        return self\n",
    "    \n",
    "args = Args().init()\n",
    "\n",
    "print(args.model_dump_json(indent=2))"
   ]
  },
  {
   "cell_type": "markdown",
   "id": "a5acedcb-89e6-41c6-8969-bf3437fc7898",
   "metadata": {},
   "source": [
    "# Implement"
   ]
  },
  {
   "cell_type": "code",
   "execution_count": 4,
   "id": "d6053118-029e-4d7c-9c02-6f988508e643",
   "metadata": {},
   "outputs": [],
   "source": [
    "from src.train_utils import train, MetricLogCallback\n",
    "from src.model import User2UserCollaborativeFiltering"
   ]
  },
  {
   "cell_type": "markdown",
   "id": "377a71da-1ee3-474c-b3f4-4488d2a45dd3",
   "metadata": {},
   "source": [
    "# Test implementation"
   ]
  },
  {
   "cell_type": "code",
   "execution_count": 5,
   "id": "ce5326d7-ec9d-422c-bbd8-03c837a23e1e",
   "metadata": {},
   "outputs": [
    {
     "name": "stdout",
     "output_type": "stream",
     "text": [
      "Mock User IDs: [0, 0, 1, 1, 2, 2, 2]\n",
      "Mock Item IDs: [0, 1, 1, 2, 3, 1, 2]\n",
      "Ratings: [1, 4, 4, 5, 3, 2, 4]\n",
      "[3 3 3]\n"
     ]
    }
   ],
   "source": [
    "# Mock data\n",
    "user_ids = [0, 0, 1, 1, 2, 2, 2]\n",
    "item_ids = [0, 1, 1, 2, 3, 1, 2]\n",
    "ratings = [1, 4, 4, 5, 3, 2, 4]\n",
    "n_users = len(set(user_ids))\n",
    "n_items = len(set(item_ids))\n",
    "\n",
    "val_user_ids = [0, 1, 2]\n",
    "val_item_ids = [2, 1, 2]\n",
    "val_ratings = [2, 4, 5]\n",
    "\n",
    "print(\"Mock User IDs:\", user_ids)\n",
    "print(\"Mock Item IDs:\", item_ids)\n",
    "print(\"Ratings:\", ratings)\n",
    "\n",
    "model = User2UserCollaborativeFiltering(n_users, n_items)\n",
    "\n",
    "users = [0, 1, 2]\n",
    "items = [2, 2, 0]\n",
    "predictions = model.predict(users, items)\n",
    "print(predictions)"
   ]
  },
  {
   "cell_type": "code",
   "execution_count": 6,
   "id": "28f926b4-1bb9-4552-825a-58b0a4389725",
   "metadata": {},
   "outputs": [
    {
     "name": "stdout",
     "output_type": "stream",
     "text": [
      "[4.62714989 4.         1.        ]\n"
     ]
    }
   ],
   "source": [
    "model.fit(user_ids, item_ids, ratings)\n",
    "predictions = model.predict(users, items)\n",
    "print(predictions)"
   ]
  },
  {
   "cell_type": "code",
   "execution_count": 7,
   "id": "15903bdd-0846-4588-9a8f-584d8f523ce0",
   "metadata": {},
   "outputs": [
    {
     "data": {
      "text/plain": [
       "array([[1., 4., 0., 0.],\n",
       "       [0., 4., 5., 0.],\n",
       "       [0., 2., 4., 3.]])"
      ]
     },
     "execution_count": 7,
     "metadata": {},
     "output_type": "execute_result"
    }
   ],
   "source": [
    "model.user_item_matrix"
   ]
  },
  {
   "cell_type": "code",
   "execution_count": 8,
   "id": "496f9749-183a-478d-a624-16ed59c9818f",
   "metadata": {},
   "outputs": [
    {
     "data": {
      "text/plain": [
       "array([[0.        , 0.60604322, 0.36030188],\n",
       "       [0.60604322, 0.        , 0.81202071],\n",
       "       [0.36030188, 0.81202071, 0.        ]])"
      ]
     },
     "execution_count": 8,
     "metadata": {},
     "output_type": "execute_result"
    }
   ],
   "source": [
    "model.user_similarity"
   ]
  },
  {
   "cell_type": "code",
   "execution_count": 9,
   "id": "8d434a72-4f4e-49ea-98ea-31e6a539e4e0",
   "metadata": {},
   "outputs": [
    {
     "name": "stdout",
     "output_type": "stream",
     "text": [
      "sim_scores=array([0.        , 0.60604322, 0.36030188])\n"
     ]
    }
   ],
   "source": [
    "user = 0\n",
    "item = 2\n",
    "\n",
    "# Compute prediction using weighted average of ratings from similar users\n",
    "sim_scores = model.user_similarity[user]\n",
    "print(f\"{sim_scores=}\")"
   ]
  },
  {
   "cell_type": "code",
   "execution_count": 10,
   "id": "4a44f130-422c-47d6-8e62-1913e3afdc9f",
   "metadata": {},
   "outputs": [
    {
     "name": "stdout",
     "output_type": "stream",
     "text": [
      "user_ratings=array([0., 5., 4.])\n",
      "sim_scores=array([0.60604322, 0.36030188])\n",
      "user_ratings=array([5., 4.])\n"
     ]
    }
   ],
   "source": [
    "# Only consider users who have rated the item\n",
    "user_ratings = model.user_item_matrix[:, item]\n",
    "print(f\"{user_ratings=}\")\n",
    "sim_scores = sim_scores[user_ratings != 0]\n",
    "print(f\"{sim_scores=}\")\n",
    "user_ratings = user_ratings[user_ratings != 0]\n",
    "print(f\"{user_ratings=}\")"
   ]
  },
  {
   "cell_type": "code",
   "execution_count": 11,
   "id": "5c4af833-c0e2-4ac9-8f54-84dca24799e8",
   "metadata": {},
   "outputs": [
    {
     "name": "stdout",
     "output_type": "stream",
     "text": [
      "Weighted average: 4.471423593469625\n",
      "Normalization factor: 0.9663450945516922\n",
      "Predicted rating: 4.627149885356445\n"
     ]
    }
   ],
   "source": [
    "# Weighted average of ratings\n",
    "print(f\"Weighted average: {np.dot(sim_scores, user_ratings)}\")\n",
    "print(f\"Normalization factor: {np.sum(sim_scores)}\")\n",
    "print(f\"Predicted rating: {np.dot(sim_scores, user_ratings) / np.sum(sim_scores)}\")"
   ]
  },
  {
   "cell_type": "markdown",
   "id": "170dec89-a874-4dce-8f94-07d978fcc5b8",
   "metadata": {},
   "source": [
    "# Prep data"
   ]
  },
  {
   "cell_type": "code",
   "execution_count": 12,
   "id": "83803362-5eaa-40bb-b28b-878316d5db5d",
   "metadata": {},
   "outputs": [],
   "source": [
    "train_df = pd.read_parquet(\"../data/train.parquet\")\n",
    "val_df = pd.read_parquet(\"../data/val.parquet\")"
   ]
  },
  {
   "cell_type": "code",
   "execution_count": 13,
   "id": "b0d4bfbb-f3bb-40bc-ae22-23e8d8f9d092",
   "metadata": {},
   "outputs": [],
   "source": [
    "from src.id_mapper import IDMapper"
   ]
  },
  {
   "cell_type": "code",
   "execution_count": 14,
   "id": "17d6c998-5fc4-43f7-8e19-0f469bb0374b",
   "metadata": {},
   "outputs": [
    {
     "name": "stderr",
     "output_type": "stream",
     "text": [
      "\u001b[32m2024-09-15 12:02:38.416\u001b[0m | \u001b[1mINFO    \u001b[0m | \u001b[36m__main__\u001b[0m:\u001b[36m<module>\u001b[0m:\u001b[36m8\u001b[0m - \u001b[1mlen(unique_user_ids)=12,397, len(unique_item_ids)=5,429\u001b[0m\n"
     ]
    }
   ],
   "source": [
    "user_ids = train_df['user_id'].values\n",
    "item_ids = train_df['parent_asin'].values\n",
    "unique_user_ids = list(set(user_ids))\n",
    "unique_item_ids = list(set(item_ids))\n",
    "n_users = len(unique_user_ids)\n",
    "n_items = len(unique_item_ids)\n",
    "\n",
    "logger.info(f\"{len(unique_user_ids)=:,.0f}, {len(unique_item_ids)=:,.0f}\")"
   ]
  },
  {
   "cell_type": "code",
   "execution_count": 15,
   "id": "d652b08a-bdeb-485a-9700-39651c225241",
   "metadata": {},
   "outputs": [],
   "source": [
    "idm = IDMapper()\n",
    "idm.fit(unique_user_ids, unique_item_ids)"
   ]
  },
  {
   "cell_type": "code",
   "execution_count": 16,
   "id": "a8861682-ac7c-410d-b263-17056ceb2466",
   "metadata": {},
   "outputs": [],
   "source": [
    "user_indices = [idm.get_user_index(user_id) for user_id in user_ids]\n",
    "item_indices = [idm.get_item_index(item_id) for item_id in item_ids]\n",
    "ratings = train_df['rating'].values.tolist()"
   ]
  },
  {
   "cell_type": "code",
   "execution_count": 17,
   "id": "e73143ed-5992-4f7d-83d1-d2dc4978af5f",
   "metadata": {},
   "outputs": [],
   "source": [
    "val_user_indices = [idm.get_user_index(user_id) for user_id in val_df['user_id']]\n",
    "val_item_indices = [idm.get_item_index(item_id) for item_id in val_df['parent_asin']]\n",
    "val_ratings = val_df['rating'].values.tolist()"
   ]
  },
  {
   "cell_type": "markdown",
   "id": "5260fbe7-2f90-44a1-be74-ce5db9b511ee",
   "metadata": {},
   "source": [
    "# Train"
   ]
  },
  {
   "cell_type": "code",
   "execution_count": 18,
   "id": "12749354-d57a-4458-bf60-b23f068ec6c7",
   "metadata": {},
   "outputs": [],
   "source": [
    "model = User2UserCollaborativeFiltering(n_users, n_items)"
   ]
  },
  {
   "cell_type": "markdown",
   "id": "b8cbb2a8-a578-4ad2-941e-efd01d930336",
   "metadata": {},
   "source": [
    "#### Predict before train"
   ]
  },
  {
   "cell_type": "code",
   "execution_count": 19,
   "id": "9eb1583b-40f7-4157-a383-5891389ac119",
   "metadata": {
    "scrolled": true
   },
   "outputs": [
    {
     "data": {
      "text/html": [
       "<div>\n",
       "<style scoped>\n",
       "    .dataframe tbody tr th:only-of-type {\n",
       "        vertical-align: middle;\n",
       "    }\n",
       "\n",
       "    .dataframe tbody tr th {\n",
       "        vertical-align: top;\n",
       "    }\n",
       "\n",
       "    .dataframe thead th {\n",
       "        text-align: right;\n",
       "    }\n",
       "</style>\n",
       "<table border=\"1\" class=\"dataframe\">\n",
       "  <thead>\n",
       "    <tr style=\"text-align: right;\">\n",
       "      <th></th>\n",
       "      <th>user_id</th>\n",
       "      <th>parent_asin</th>\n",
       "      <th>rating</th>\n",
       "      <th>timestamp</th>\n",
       "    </tr>\n",
       "  </thead>\n",
       "  <tbody>\n",
       "    <tr>\n",
       "      <th>34367</th>\n",
       "      <td>AEHW2B54HDLZ3APBEWXHYLZ6SSYQ</td>\n",
       "      <td>B07MYVF61Y</td>\n",
       "      <td>4.0</td>\n",
       "      <td>1654225907045</td>\n",
       "    </tr>\n",
       "    <tr>\n",
       "      <th>34366</th>\n",
       "      <td>AEHW2B54HDLZ3APBEWXHYLZ6SSYQ</td>\n",
       "      <td>B08WPW7XVG</td>\n",
       "      <td>4.0</td>\n",
       "      <td>1629347738853</td>\n",
       "    </tr>\n",
       "  </tbody>\n",
       "</table>\n",
       "</div>"
      ],
      "text/plain": [
       "                            user_id parent_asin  rating      timestamp\n",
       "34367  AEHW2B54HDLZ3APBEWXHYLZ6SSYQ  B07MYVF61Y     4.0  1654225907045\n",
       "34366  AEHW2B54HDLZ3APBEWXHYLZ6SSYQ  B08WPW7XVG     4.0  1629347738853"
      ]
     },
     "execution_count": 19,
     "metadata": {},
     "output_type": "execute_result"
    }
   ],
   "source": [
    "user_id = 'AEHW2B54HDLZ3APBEWXHYLZ6SSYQ'\n",
    "val_df.loc[lambda df: df['user_id'].eq(user_id)]"
   ]
  },
  {
   "cell_type": "code",
   "execution_count": 20,
   "id": "c48fbc80-eda8-4dff-a246-95f8f2f75082",
   "metadata": {
    "scrolled": true
   },
   "outputs": [
    {
     "data": {
      "text/plain": [
       "array([3])"
      ]
     },
     "execution_count": 20,
     "metadata": {},
     "output_type": "execute_result"
    }
   ],
   "source": [
    "item_id = 'B07MYVF61Y'\n",
    "user_indice = idm.get_user_index(user_id)\n",
    "item_indice = idm.get_item_index(item_id)\n",
    "\n",
    "model.predict([user_indice], [item_indice])"
   ]
  },
  {
   "cell_type": "markdown",
   "id": "c2fd217c-c0c8-4e7c-81fe-6eb36f4729b5",
   "metadata": {},
   "source": [
    "#### Training loop"
   ]
  },
  {
   "cell_type": "code",
   "execution_count": 21,
   "id": "ad0bf9b5-da26-4ea1-84ec-78eeb43d4a66",
   "metadata": {},
   "outputs": [],
   "source": [
    "model.fit(user_indices, item_indices, ratings)"
   ]
  },
  {
   "cell_type": "markdown",
   "id": "fd2bba59-2e12-4921-b36f-66e82105637c",
   "metadata": {},
   "source": [
    "# Evaluate"
   ]
  },
  {
   "cell_type": "markdown",
   "id": "4ebc5924-7808-4863-a0dc-f0f91467ec76",
   "metadata": {},
   "source": [
    "## MSE"
   ]
  },
  {
   "cell_type": "code",
   "execution_count": 22,
   "id": "f2d0c6b6-6a78-40da-924c-929408460779",
   "metadata": {},
   "outputs": [],
   "source": [
    "from tqdm.notebook import tqdm"
   ]
  },
  {
   "cell_type": "code",
   "execution_count": 23,
   "id": "0dbc2c38-4bae-4116-9450-ea038ab351e1",
   "metadata": {},
   "outputs": [
    {
     "data": {
      "application/vnd.jupyter.widget-view+json": {
       "model_id": "4c4ce6a1ab884b28a9d943ca5fb7cd2c",
       "version_major": 2,
       "version_minor": 0
      },
      "text/plain": [
       "  0%|          | 0/15257 [00:00<?, ?it/s]"
      ]
     },
     "metadata": {},
     "output_type": "display_data"
    }
   ],
   "source": [
    "val_predictions = []\n",
    "for i in tqdm(range(len(val_ratings))):\n",
    "    user_indice = val_user_indices[i]\n",
    "    item_indice = val_item_indices[i]\n",
    "    prediction = model.predict([user_indice], [item_indice])\n",
    "    prediction = float(prediction[0])\n",
    "    val_predictions.append(prediction)"
   ]
  },
  {
   "cell_type": "code",
   "execution_count": 24,
   "id": "5cf0733c-5cc2-49de-83cb-35f26330f9e3",
   "metadata": {},
   "outputs": [
    {
     "data": {
      "text/plain": [
       "np.float64(2.905881666948432)"
      ]
     },
     "execution_count": 24,
     "metadata": {},
     "output_type": "execute_result"
    }
   ],
   "source": [
    "def mse(predictions, ratings):\n",
    "    predictions = np.array(predictions)\n",
    "    ratings = np.array(ratings)\n",
    "    return np.mean((predictions - ratings) ** 2)\n",
    "\n",
    "mse_loss = mse(val_predictions, val_ratings)\n",
    "mse_loss"
   ]
  },
  {
   "cell_type": "code",
   "execution_count": 25,
   "id": "edfd693d-77cd-4c1f-92e1-084ce7734104",
   "metadata": {},
   "outputs": [
    {
     "data": {
      "text/plain": [
       "[3.0, 3.0, 3.0, 4.505111675558792, 3.0]"
      ]
     },
     "execution_count": 25,
     "metadata": {},
     "output_type": "execute_result"
    }
   ],
   "source": [
    "val_predictions[:5]"
   ]
  },
  {
   "cell_type": "code",
   "execution_count": 26,
   "id": "4a0c7059-a9c4-4718-b146-f1056fcb7dd9",
   "metadata": {},
   "outputs": [
    {
     "data": {
      "text/plain": [
       "[3.0, 5.0, 5.0, 5.0, 5.0]"
      ]
     },
     "execution_count": 26,
     "metadata": {},
     "output_type": "execute_result"
    }
   ],
   "source": [
    "val_ratings[:5]"
   ]
  },
  {
   "cell_type": "code",
   "execution_count": 27,
   "id": "c41d20d5-ce90-4172-b8e8-ca806106ed07",
   "metadata": {},
   "outputs": [],
   "source": [
    "if args.log_to_mlflow:\n",
    "    mlflow.log_metric(\"val_MSE\", float(mse_loss))"
   ]
  },
  {
   "cell_type": "markdown",
   "id": "febee4e0-88ea-4d07-95d8-7c7a3114815b",
   "metadata": {},
   "source": [
    "## Ranking metrics"
   ]
  },
  {
   "cell_type": "code",
   "execution_count": 28,
   "id": "74dd1620-da67-4017-b31e-31112088a04d",
   "metadata": {},
   "outputs": [],
   "source": [
    "user_col = args.user_col\n",
    "item_col = args.item_col\n",
    "rating_col = args.rating_col"
   ]
  },
  {
   "cell_type": "code",
   "execution_count": 29,
   "id": "4e39b134-bc9a-499d-a1a6-5e29d2f47d9d",
   "metadata": {},
   "outputs": [],
   "source": [
    "from src.eval import create_label_df, create_rec_df, merge_recs_with_target"
   ]
  },
  {
   "cell_type": "code",
   "execution_count": 30,
   "id": "13f0285d-a482-4a33-8dce-e72fc445c6f5",
   "metadata": {},
   "outputs": [
    {
     "data": {
      "application/vnd.jupyter.widget-view+json": {
       "model_id": "b712949f47e84525a60b87828d150b94",
       "version_major": 2,
       "version_minor": 0
      },
      "text/plain": [
       "Generating Recommendations:   0%|          | 0/15257 [00:00<?, ?it/s]"
      ]
     },
     "metadata": {},
     "output_type": "display_data"
    }
   ],
   "source": [
    "recommendations = model.recommend(val_user_indices, k=args.top_K, progress_bar_type='tqdm_notebook')"
   ]
  },
  {
   "cell_type": "code",
   "execution_count": 31,
   "id": "5ae32aa8-b14d-4e88-bf0f-31b1df76c6aa",
   "metadata": {
    "scrolled": true
   },
   "outputs": [
    {
     "data": {
      "text/html": [
       "<div>\n",
       "<style scoped>\n",
       "    .dataframe tbody tr th:only-of-type {\n",
       "        vertical-align: middle;\n",
       "    }\n",
       "\n",
       "    .dataframe tbody tr th {\n",
       "        vertical-align: top;\n",
       "    }\n",
       "\n",
       "    .dataframe thead th {\n",
       "        text-align: right;\n",
       "    }\n",
       "</style>\n",
       "<table border=\"1\" class=\"dataframe\">\n",
       "  <thead>\n",
       "    <tr style=\"text-align: right;\">\n",
       "      <th></th>\n",
       "      <th>user_indice</th>\n",
       "      <th>recommendation</th>\n",
       "      <th>score</th>\n",
       "      <th>rec_ranking</th>\n",
       "      <th>user_id</th>\n",
       "      <th>parent_asin</th>\n",
       "    </tr>\n",
       "  </thead>\n",
       "  <tbody>\n",
       "    <tr>\n",
       "      <th>0</th>\n",
       "      <td>2978</td>\n",
       "      <td>5169</td>\n",
       "      <td>5.0</td>\n",
       "      <td>1.0</td>\n",
       "      <td>AGCL7QDBZ24RZHTSPHSQ4ZXSG3RQ</td>\n",
       "      <td>B07MYVF61Y</td>\n",
       "    </tr>\n",
       "    <tr>\n",
       "      <th>1</th>\n",
       "      <td>2978</td>\n",
       "      <td>5140</td>\n",
       "      <td>4.0</td>\n",
       "      <td>16.0</td>\n",
       "      <td>AGCL7QDBZ24RZHTSPHSQ4ZXSG3RQ</td>\n",
       "      <td>B07N11TKK9</td>\n",
       "    </tr>\n",
       "    <tr>\n",
       "      <th>2</th>\n",
       "      <td>2978</td>\n",
       "      <td>5031</td>\n",
       "      <td>5.0</td>\n",
       "      <td>2.0</td>\n",
       "      <td>AGCL7QDBZ24RZHTSPHSQ4ZXSG3RQ</td>\n",
       "      <td>B07QFPF8QW</td>\n",
       "    </tr>\n",
       "    <tr>\n",
       "      <th>3</th>\n",
       "      <td>2978</td>\n",
       "      <td>4897</td>\n",
       "      <td>4.0</td>\n",
       "      <td>17.0</td>\n",
       "      <td>AGCL7QDBZ24RZHTSPHSQ4ZXSG3RQ</td>\n",
       "      <td>B07VQ9Q7X3</td>\n",
       "    </tr>\n",
       "    <tr>\n",
       "      <th>4</th>\n",
       "      <td>2978</td>\n",
       "      <td>4847</td>\n",
       "      <td>5.0</td>\n",
       "      <td>3.0</td>\n",
       "      <td>AGCL7QDBZ24RZHTSPHSQ4ZXSG3RQ</td>\n",
       "      <td>B00F27JGVA</td>\n",
       "    </tr>\n",
       "    <tr>\n",
       "      <th>...</th>\n",
       "      <td>...</td>\n",
       "      <td>...</td>\n",
       "      <td>...</td>\n",
       "      <td>...</td>\n",
       "      <td>...</td>\n",
       "      <td>...</td>\n",
       "    </tr>\n",
       "    <tr>\n",
       "      <th>1518295</th>\n",
       "      <td>155</td>\n",
       "      <td>3570</td>\n",
       "      <td>3.0</td>\n",
       "      <td>296.0</td>\n",
       "      <td>AEEXD6AIYLX4YWPPQCM7M7PQUHKQ</td>\n",
       "      <td>B08L74DB2M</td>\n",
       "    </tr>\n",
       "    <tr>\n",
       "      <th>1518296</th>\n",
       "      <td>155</td>\n",
       "      <td>3569</td>\n",
       "      <td>3.0</td>\n",
       "      <td>297.0</td>\n",
       "      <td>AEEXD6AIYLX4YWPPQCM7M7PQUHKQ</td>\n",
       "      <td>B00004UDVL</td>\n",
       "    </tr>\n",
       "    <tr>\n",
       "      <th>1518297</th>\n",
       "      <td>155</td>\n",
       "      <td>3600</td>\n",
       "      <td>3.0</td>\n",
       "      <td>298.0</td>\n",
       "      <td>AEEXD6AIYLX4YWPPQCM7M7PQUHKQ</td>\n",
       "      <td>B07TV9X6LY</td>\n",
       "    </tr>\n",
       "    <tr>\n",
       "      <th>1518298</th>\n",
       "      <td>155</td>\n",
       "      <td>3599</td>\n",
       "      <td>3.0</td>\n",
       "      <td>299.0</td>\n",
       "      <td>AEEXD6AIYLX4YWPPQCM7M7PQUHKQ</td>\n",
       "      <td>B085217GYP</td>\n",
       "    </tr>\n",
       "    <tr>\n",
       "      <th>1518299</th>\n",
       "      <td>155</td>\n",
       "      <td>3598</td>\n",
       "      <td>3.0</td>\n",
       "      <td>300.0</td>\n",
       "      <td>AEEXD6AIYLX4YWPPQCM7M7PQUHKQ</td>\n",
       "      <td>B08MBPTQH8</td>\n",
       "    </tr>\n",
       "  </tbody>\n",
       "</table>\n",
       "<p>1518300 rows × 6 columns</p>\n",
       "</div>"
      ],
      "text/plain": [
       "         user_indice  recommendation  score  rec_ranking  \\\n",
       "0               2978            5169    5.0          1.0   \n",
       "1               2978            5140    4.0         16.0   \n",
       "2               2978            5031    5.0          2.0   \n",
       "3               2978            4897    4.0         17.0   \n",
       "4               2978            4847    5.0          3.0   \n",
       "...              ...             ...    ...          ...   \n",
       "1518295          155            3570    3.0        296.0   \n",
       "1518296          155            3569    3.0        297.0   \n",
       "1518297          155            3600    3.0        298.0   \n",
       "1518298          155            3599    3.0        299.0   \n",
       "1518299          155            3598    3.0        300.0   \n",
       "\n",
       "                              user_id parent_asin  \n",
       "0        AGCL7QDBZ24RZHTSPHSQ4ZXSG3RQ  B07MYVF61Y  \n",
       "1        AGCL7QDBZ24RZHTSPHSQ4ZXSG3RQ  B07N11TKK9  \n",
       "2        AGCL7QDBZ24RZHTSPHSQ4ZXSG3RQ  B07QFPF8QW  \n",
       "3        AGCL7QDBZ24RZHTSPHSQ4ZXSG3RQ  B07VQ9Q7X3  \n",
       "4        AGCL7QDBZ24RZHTSPHSQ4ZXSG3RQ  B00F27JGVA  \n",
       "...                               ...         ...  \n",
       "1518295  AEEXD6AIYLX4YWPPQCM7M7PQUHKQ  B08L74DB2M  \n",
       "1518296  AEEXD6AIYLX4YWPPQCM7M7PQUHKQ  B00004UDVL  \n",
       "1518297  AEEXD6AIYLX4YWPPQCM7M7PQUHKQ  B07TV9X6LY  \n",
       "1518298  AEEXD6AIYLX4YWPPQCM7M7PQUHKQ  B085217GYP  \n",
       "1518299  AEEXD6AIYLX4YWPPQCM7M7PQUHKQ  B08MBPTQH8  \n",
       "\n",
       "[1518300 rows x 6 columns]"
      ]
     },
     "execution_count": 31,
     "metadata": {},
     "output_type": "execute_result"
    }
   ],
   "source": [
    "recommendations_df = pd.DataFrame(recommendations).pipe(create_rec_df, idm)\n",
    "recommendations_df"
   ]
  },
  {
   "cell_type": "code",
   "execution_count": 32,
   "id": "2702e214-ba09-4e61-a479-623196d04a94",
   "metadata": {},
   "outputs": [
    {
     "data": {
      "text/html": [
       "<div>\n",
       "<style scoped>\n",
       "    .dataframe tbody tr th:only-of-type {\n",
       "        vertical-align: middle;\n",
       "    }\n",
       "\n",
       "    .dataframe tbody tr th {\n",
       "        vertical-align: top;\n",
       "    }\n",
       "\n",
       "    .dataframe thead th {\n",
       "        text-align: right;\n",
       "    }\n",
       "</style>\n",
       "<table border=\"1\" class=\"dataframe\">\n",
       "  <thead>\n",
       "    <tr style=\"text-align: right;\">\n",
       "      <th></th>\n",
       "      <th>user_id</th>\n",
       "      <th>parent_asin</th>\n",
       "      <th>rating</th>\n",
       "      <th>rating_rank</th>\n",
       "    </tr>\n",
       "  </thead>\n",
       "  <tbody>\n",
       "    <tr>\n",
       "      <th>11013</th>\n",
       "      <td>AE2WIEN3VYPFDPZ3IATSPFQQV2FQ</td>\n",
       "      <td>B094YHB1QK</td>\n",
       "      <td>1.0</td>\n",
       "      <td>1.0</td>\n",
       "    </tr>\n",
       "    <tr>\n",
       "      <th>2360</th>\n",
       "      <td>AH4JY7JDGBM5KWZNNS564ZZ7KCEA</td>\n",
       "      <td>B07D53QSMK</td>\n",
       "      <td>5.0</td>\n",
       "      <td>1.0</td>\n",
       "    </tr>\n",
       "    <tr>\n",
       "      <th>7596</th>\n",
       "      <td>AH5XFYDNDNYOSEYC7VZ6ORVNS3UA</td>\n",
       "      <td>B07XHMFCJ2</td>\n",
       "      <td>5.0</td>\n",
       "      <td>1.0</td>\n",
       "    </tr>\n",
       "    <tr>\n",
       "      <th>7647</th>\n",
       "      <td>AG3N3EMFIFGW66WOIC4MW55IUS6Q</td>\n",
       "      <td>B0BXQH38S6</td>\n",
       "      <td>4.0</td>\n",
       "      <td>1.0</td>\n",
       "    </tr>\n",
       "    <tr>\n",
       "      <th>21493</th>\n",
       "      <td>AGJAX3U73M52QLRSR4VYWZXEENMA</td>\n",
       "      <td>B07ZJ6RY1W</td>\n",
       "      <td>5.0</td>\n",
       "      <td>1.0</td>\n",
       "    </tr>\n",
       "    <tr>\n",
       "      <th>...</th>\n",
       "      <td>...</td>\n",
       "      <td>...</td>\n",
       "      <td>...</td>\n",
       "      <td>...</td>\n",
       "    </tr>\n",
       "    <tr>\n",
       "      <th>501</th>\n",
       "      <td>AETPWUNCW3KZDTKNUQGS5YYKNUEA</td>\n",
       "      <td>B08JTNL426</td>\n",
       "      <td>3.0</td>\n",
       "      <td>35.0</td>\n",
       "    </tr>\n",
       "    <tr>\n",
       "      <th>537</th>\n",
       "      <td>AETPWUNCW3KZDTKNUQGS5YYKNUEA</td>\n",
       "      <td>B008CP6MA2</td>\n",
       "      <td>2.0</td>\n",
       "      <td>36.0</td>\n",
       "    </tr>\n",
       "    <tr>\n",
       "      <th>531</th>\n",
       "      <td>AETPWUNCW3KZDTKNUQGS5YYKNUEA</td>\n",
       "      <td>B07BZP7HML</td>\n",
       "      <td>2.0</td>\n",
       "      <td>37.0</td>\n",
       "    </tr>\n",
       "    <tr>\n",
       "      <th>517</th>\n",
       "      <td>AETPWUNCW3KZDTKNUQGS5YYKNUEA</td>\n",
       "      <td>B008FPMBNG</td>\n",
       "      <td>2.0</td>\n",
       "      <td>38.0</td>\n",
       "    </tr>\n",
       "    <tr>\n",
       "      <th>513</th>\n",
       "      <td>AETPWUNCW3KZDTKNUQGS5YYKNUEA</td>\n",
       "      <td>B0795GHTBC</td>\n",
       "      <td>2.0</td>\n",
       "      <td>39.0</td>\n",
       "    </tr>\n",
       "  </tbody>\n",
       "</table>\n",
       "<p>15257 rows × 4 columns</p>\n",
       "</div>"
      ],
      "text/plain": [
       "                            user_id parent_asin  rating  rating_rank\n",
       "11013  AE2WIEN3VYPFDPZ3IATSPFQQV2FQ  B094YHB1QK     1.0          1.0\n",
       "2360   AH4JY7JDGBM5KWZNNS564ZZ7KCEA  B07D53QSMK     5.0          1.0\n",
       "7596   AH5XFYDNDNYOSEYC7VZ6ORVNS3UA  B07XHMFCJ2     5.0          1.0\n",
       "7647   AG3N3EMFIFGW66WOIC4MW55IUS6Q  B0BXQH38S6     4.0          1.0\n",
       "21493  AGJAX3U73M52QLRSR4VYWZXEENMA  B07ZJ6RY1W     5.0          1.0\n",
       "...                             ...         ...     ...          ...\n",
       "501    AETPWUNCW3KZDTKNUQGS5YYKNUEA  B08JTNL426     3.0         35.0\n",
       "537    AETPWUNCW3KZDTKNUQGS5YYKNUEA  B008CP6MA2     2.0         36.0\n",
       "531    AETPWUNCW3KZDTKNUQGS5YYKNUEA  B07BZP7HML     2.0         37.0\n",
       "517    AETPWUNCW3KZDTKNUQGS5YYKNUEA  B008FPMBNG     2.0         38.0\n",
       "513    AETPWUNCW3KZDTKNUQGS5YYKNUEA  B0795GHTBC     2.0         39.0\n",
       "\n",
       "[15257 rows x 4 columns]"
      ]
     },
     "execution_count": 32,
     "metadata": {},
     "output_type": "execute_result"
    }
   ],
   "source": [
    "label_df = create_label_df(val_df)\n",
    "label_df"
   ]
  },
  {
   "cell_type": "code",
   "execution_count": 33,
   "id": "86f1186e-2382-456e-b7ce-46de20b2aba2",
   "metadata": {
    "scrolled": true
   },
   "outputs": [
    {
     "data": {
      "text/html": [
       "<div>\n",
       "<style scoped>\n",
       "    .dataframe tbody tr th:only-of-type {\n",
       "        vertical-align: middle;\n",
       "    }\n",
       "\n",
       "    .dataframe tbody tr th {\n",
       "        vertical-align: top;\n",
       "    }\n",
       "\n",
       "    .dataframe thead th {\n",
       "        text-align: right;\n",
       "    }\n",
       "</style>\n",
       "<table border=\"1\" class=\"dataframe\">\n",
       "  <thead>\n",
       "    <tr style=\"text-align: right;\">\n",
       "      <th></th>\n",
       "      <th>user_indice</th>\n",
       "      <th>recommendation</th>\n",
       "      <th>score</th>\n",
       "      <th>rec_ranking</th>\n",
       "      <th>user_id</th>\n",
       "      <th>parent_asin</th>\n",
       "      <th>rating</th>\n",
       "      <th>rating_rank</th>\n",
       "    </tr>\n",
       "  </thead>\n",
       "  <tbody>\n",
       "    <tr>\n",
       "      <th>34</th>\n",
       "      <td>174.0</td>\n",
       "      <td>4865.0</td>\n",
       "      <td>5.000000</td>\n",
       "      <td>1</td>\n",
       "      <td>AE22LPCN47WUTHSG67R6SKN4A4MQ</td>\n",
       "      <td>B0785SFKYF</td>\n",
       "      <td>0</td>\n",
       "      <td>NaN</td>\n",
       "    </tr>\n",
       "    <tr>\n",
       "      <th>23</th>\n",
       "      <td>174.0</td>\n",
       "      <td>3578.0</td>\n",
       "      <td>5.000000</td>\n",
       "      <td>2</td>\n",
       "      <td>AE22LPCN47WUTHSG67R6SKN4A4MQ</td>\n",
       "      <td>B01LXC1QL0</td>\n",
       "      <td>0</td>\n",
       "      <td>NaN</td>\n",
       "    </tr>\n",
       "    <tr>\n",
       "      <th>33</th>\n",
       "      <td>174.0</td>\n",
       "      <td>3453.0</td>\n",
       "      <td>5.000000</td>\n",
       "      <td>3</td>\n",
       "      <td>AE22LPCN47WUTHSG67R6SKN4A4MQ</td>\n",
       "      <td>B0779JXNV9</td>\n",
       "      <td>0</td>\n",
       "      <td>NaN</td>\n",
       "    </tr>\n",
       "    <tr>\n",
       "      <th>41</th>\n",
       "      <td>174.0</td>\n",
       "      <td>2775.0</td>\n",
       "      <td>5.000000</td>\n",
       "      <td>4</td>\n",
       "      <td>AE22LPCN47WUTHSG67R6SKN4A4MQ</td>\n",
       "      <td>B07F1HTGV1</td>\n",
       "      <td>0</td>\n",
       "      <td>NaN</td>\n",
       "    </tr>\n",
       "    <tr>\n",
       "      <th>69</th>\n",
       "      <td>174.0</td>\n",
       "      <td>3277.0</td>\n",
       "      <td>4.008566</td>\n",
       "      <td>5</td>\n",
       "      <td>AE22LPCN47WUTHSG67R6SKN4A4MQ</td>\n",
       "      <td>B0891DDRYN</td>\n",
       "      <td>0</td>\n",
       "      <td>NaN</td>\n",
       "    </tr>\n",
       "    <tr>\n",
       "      <th>...</th>\n",
       "      <td>...</td>\n",
       "      <td>...</td>\n",
       "      <td>...</td>\n",
       "      <td>...</td>\n",
       "      <td>...</td>\n",
       "      <td>...</td>\n",
       "      <td>...</td>\n",
       "      <td>...</td>\n",
       "    </tr>\n",
       "    <tr>\n",
       "      <th>1533106</th>\n",
       "      <td>3226.0</td>\n",
       "      <td>111.0</td>\n",
       "      <td>3.000000</td>\n",
       "      <td>97</td>\n",
       "      <td>AHZZZY2XVWEUJUTYPGGL4WXH6CSA</td>\n",
       "      <td>B07SRLXN3T</td>\n",
       "      <td>0</td>\n",
       "      <td>NaN</td>\n",
       "    </tr>\n",
       "    <tr>\n",
       "      <th>1533073</th>\n",
       "      <td>3226.0</td>\n",
       "      <td>110.0</td>\n",
       "      <td>3.000000</td>\n",
       "      <td>98</td>\n",
       "      <td>AHZZZY2XVWEUJUTYPGGL4WXH6CSA</td>\n",
       "      <td>B007W5PG5U</td>\n",
       "      <td>0</td>\n",
       "      <td>NaN</td>\n",
       "    </tr>\n",
       "    <tr>\n",
       "      <th>1533080</th>\n",
       "      <td>3226.0</td>\n",
       "      <td>109.0</td>\n",
       "      <td>3.000000</td>\n",
       "      <td>99</td>\n",
       "      <td>AHZZZY2XVWEUJUTYPGGL4WXH6CSA</td>\n",
       "      <td>B00P5DOOTU</td>\n",
       "      <td>0</td>\n",
       "      <td>NaN</td>\n",
       "    </tr>\n",
       "    <tr>\n",
       "      <th>1533100</th>\n",
       "      <td>3226.0</td>\n",
       "      <td>108.0</td>\n",
       "      <td>3.000000</td>\n",
       "      <td>100</td>\n",
       "      <td>AHZZZY2XVWEUJUTYPGGL4WXH6CSA</td>\n",
       "      <td>B07LGNB9C2</td>\n",
       "      <td>0</td>\n",
       "      <td>NaN</td>\n",
       "    </tr>\n",
       "    <tr>\n",
       "      <th>1533145</th>\n",
       "      <td>NaN</td>\n",
       "      <td>NaN</td>\n",
       "      <td>NaN</td>\n",
       "      <td>101</td>\n",
       "      <td>AHZZZY2XVWEUJUTYPGGL4WXH6CSA</td>\n",
       "      <td>B0B1YWTXJC</td>\n",
       "      <td>2</td>\n",
       "      <td>1.0</td>\n",
       "    </tr>\n",
       "  </tbody>\n",
       "</table>\n",
       "<p>1533156 rows × 8 columns</p>\n",
       "</div>"
      ],
      "text/plain": [
       "         user_indice  recommendation     score  rec_ranking  \\\n",
       "34             174.0          4865.0  5.000000            1   \n",
       "23             174.0          3578.0  5.000000            2   \n",
       "33             174.0          3453.0  5.000000            3   \n",
       "41             174.0          2775.0  5.000000            4   \n",
       "69             174.0          3277.0  4.008566            5   \n",
       "...              ...             ...       ...          ...   \n",
       "1533106       3226.0           111.0  3.000000           97   \n",
       "1533073       3226.0           110.0  3.000000           98   \n",
       "1533080       3226.0           109.0  3.000000           99   \n",
       "1533100       3226.0           108.0  3.000000          100   \n",
       "1533145          NaN             NaN       NaN          101   \n",
       "\n",
       "                              user_id parent_asin  rating  rating_rank  \n",
       "34       AE22LPCN47WUTHSG67R6SKN4A4MQ  B0785SFKYF       0          NaN  \n",
       "23       AE22LPCN47WUTHSG67R6SKN4A4MQ  B01LXC1QL0       0          NaN  \n",
       "33       AE22LPCN47WUTHSG67R6SKN4A4MQ  B0779JXNV9       0          NaN  \n",
       "41       AE22LPCN47WUTHSG67R6SKN4A4MQ  B07F1HTGV1       0          NaN  \n",
       "69       AE22LPCN47WUTHSG67R6SKN4A4MQ  B0891DDRYN       0          NaN  \n",
       "...                               ...         ...     ...          ...  \n",
       "1533106  AHZZZY2XVWEUJUTYPGGL4WXH6CSA  B07SRLXN3T       0          NaN  \n",
       "1533073  AHZZZY2XVWEUJUTYPGGL4WXH6CSA  B007W5PG5U       0          NaN  \n",
       "1533080  AHZZZY2XVWEUJUTYPGGL4WXH6CSA  B00P5DOOTU       0          NaN  \n",
       "1533100  AHZZZY2XVWEUJUTYPGGL4WXH6CSA  B07LGNB9C2       0          NaN  \n",
       "1533145  AHZZZY2XVWEUJUTYPGGL4WXH6CSA  B0B1YWTXJC       2          1.0  \n",
       "\n",
       "[1533156 rows x 8 columns]"
      ]
     },
     "execution_count": 33,
     "metadata": {},
     "output_type": "execute_result"
    }
   ],
   "source": [
    "eval_df = merge_recs_with_target(recommendations_df, label_df, k=args.top_K)\n",
    "eval_df"
   ]
  },
  {
   "cell_type": "markdown",
   "id": "dbe02df0-099a-49a3-905f-36c3e496ea9d",
   "metadata": {},
   "source": [
    "### Visualize"
   ]
  },
  {
   "cell_type": "code",
   "execution_count": 34,
   "id": "c32a7771-d460-4c96-acab-a985057b4141",
   "metadata": {},
   "outputs": [],
   "source": [
    "from evidently.pipeline.column_mapping import ColumnMapping\n",
    "from evidently.report import Report\n",
    "from evidently.metrics import PrecisionTopKMetric\n",
    "from evidently.metrics import RecallTopKMetric\n",
    "from evidently.metrics import FBetaTopKMetric\n",
    "from evidently.metrics import NDCGKMetric\n",
    "from evidently.metrics import PersonalizationMetric\n",
    "import warnings\n",
    "\n",
    "warnings.filterwarnings(\n",
    "    action='ignore',\n",
    "    category=FutureWarning,\n",
    "    module=r'evidently.metrics.recsys.precision_recall_k'\n",
    ")\n",
    "\n",
    "from src.viz import color_scheme"
   ]
  },
  {
   "cell_type": "code",
   "execution_count": 35,
   "id": "1950342f-fdb1-4630-a7b2-56473d2aa97c",
   "metadata": {
    "scrolled": true
   },
   "outputs": [],
   "source": [
    "column_mapping = ColumnMapping(\n",
    "    recommendations_type='rank',\n",
    "    target=rating_col,\n",
    "    prediction='rec_ranking',\n",
    "    item_id=item_col,\n",
    "    user_id=user_col\n",
    ")\n",
    "\n",
    "report = Report(metrics=[\n",
    "    NDCGKMetric(k=args.top_k),\n",
    "    RecallTopKMetric(k=args.top_K),\n",
    "    PrecisionTopKMetric(k=args.top_k),\n",
    "    FBetaTopKMetric(k=args.top_k),\n",
    "    PersonalizationMetric(k=args.top_k),\n",
    "], options=[color_scheme])\n",
    "\n",
    "report.run(\n",
    "    reference_data=None,\n",
    "    current_data=eval_df,\n",
    "    column_mapping=column_mapping\n",
    ")\n",
    "\n",
    "evidently_report_fp = f\"{args.notebook_persist_dp}/evidently_report.html\"\n",
    "os.makedirs(args.notebook_persist_dp, exist_ok=True)\n",
    "report.save_html(evidently_report_fp)\n",
    "\n",
    "if args.log_to_mlflow:\n",
    "    mlflow.log_artifact(evidently_report_fp)\n",
    "    for metric_result in report.as_dict()['metrics']:\n",
    "        metric = metric_result['metric']\n",
    "        if metric == 'PersonalizationMetric':\n",
    "            metric_value = float(metric_result['result']['current_value'])\n",
    "            mlflow.log_metric(f\"val_{metric}\", metric_value)\n",
    "            continue\n",
    "        result = metric_result['result']['current'].to_dict()\n",
    "        for kth, metric_value in result.items():\n",
    "            mlflow.log_metric(f\"val_{metric}_at_k_as_step\", metric_value, step=kth)"
   ]
  },
  {
   "cell_type": "markdown",
   "id": "7a07c8e4-0e63-4e60-b865-4ee6b93c6524",
   "metadata": {},
   "source": [
    "# Predict"
   ]
  },
  {
   "cell_type": "code",
   "execution_count": 36,
   "id": "b574c11e-00fe-4458-92b0-5861e19d4ba7",
   "metadata": {
    "scrolled": true
   },
   "outputs": [
    {
     "data": {
      "text/plain": [
       "3.0"
      ]
     },
     "execution_count": 36,
     "metadata": {},
     "output_type": "execute_result"
    }
   ],
   "source": [
    "val_predictions[2]"
   ]
  },
  {
   "cell_type": "code",
   "execution_count": 37,
   "id": "5ebe0aa1-0001-47f5-8488-ae784d0e5558",
   "metadata": {},
   "outputs": [
    {
     "data": {
      "text/html": [
       "<div>\n",
       "<style scoped>\n",
       "    .dataframe tbody tr th:only-of-type {\n",
       "        vertical-align: middle;\n",
       "    }\n",
       "\n",
       "    .dataframe tbody tr th {\n",
       "        vertical-align: top;\n",
       "    }\n",
       "\n",
       "    .dataframe thead th {\n",
       "        text-align: right;\n",
       "    }\n",
       "</style>\n",
       "<table border=\"1\" class=\"dataframe\">\n",
       "  <thead>\n",
       "    <tr style=\"text-align: right;\">\n",
       "      <th></th>\n",
       "      <th>user_id</th>\n",
       "      <th>parent_asin</th>\n",
       "      <th>rating</th>\n",
       "      <th>timestamp</th>\n",
       "    </tr>\n",
       "  </thead>\n",
       "  <tbody>\n",
       "    <tr>\n",
       "      <th>15518</th>\n",
       "      <td>AF7HTSEWIKYSP5D3ST4EZIUK6PJQ</td>\n",
       "      <td>B08F5T3F9Y</td>\n",
       "      <td>5.0</td>\n",
       "      <td>1644540517651</td>\n",
       "    </tr>\n",
       "  </tbody>\n",
       "</table>\n",
       "</div>"
      ],
      "text/plain": [
       "                            user_id parent_asin  rating      timestamp\n",
       "15518  AF7HTSEWIKYSP5D3ST4EZIUK6PJQ  B08F5T3F9Y     5.0  1644540517651"
      ]
     },
     "execution_count": 37,
     "metadata": {},
     "output_type": "execute_result"
    }
   ],
   "source": [
    "val_df.iloc[[2]]"
   ]
  },
  {
   "cell_type": "code",
   "execution_count": 38,
   "id": "568e6612-f7e5-4960-8903-5a87edb42d29",
   "metadata": {},
   "outputs": [],
   "source": [
    "user_id = 'AFQAPWVESEJYTNZC23LDPQOH7QBA'"
   ]
  },
  {
   "cell_type": "code",
   "execution_count": 39,
   "id": "5aad5b21-6234-41a5-b922-c7bd77ba7011",
   "metadata": {},
   "outputs": [
    {
     "data": {
      "text/plain": [
       "array([4.50511168])"
      ]
     },
     "execution_count": 39,
     "metadata": {},
     "output_type": "execute_result"
    }
   ],
   "source": [
    "item_id = 'B09GM4283G'\n",
    "user_indice = idm.get_user_index(user_id)\n",
    "item_indice = idm.get_item_index(item_id)\n",
    "\n",
    "model.predict([user_indice], [item_indice])"
   ]
  },
  {
   "cell_type": "markdown",
   "id": "065874f8-8657-4207-91ec-ee7668be92aa",
   "metadata": {},
   "source": [
    "# Clean up"
   ]
  },
  {
   "cell_type": "code",
   "execution_count": 40,
   "id": "fbe3b58e-1e9e-4acd-9c02-f8345db258dd",
   "metadata": {},
   "outputs": [
    {
     "name": "stderr",
     "output_type": "stream",
     "text": [
      "2024/09/15 12:03:04 INFO mlflow.tracking._tracking_service.client: 🏃 View run 011-cf-u2u at: http://localhost:5003/#/experiments/1/runs/94b583a979654c639742cfb1fb8022e3.\n",
      "2024/09/15 12:03:04 INFO mlflow.tracking._tracking_service.client: 🧪 View experiment at: http://localhost:5003/#/experiments/1.\n"
     ]
    }
   ],
   "source": [
    "all_params = [args]\n",
    "\n",
    "if args.log_to_mlflow:\n",
    "    for params in all_params:\n",
    "        params_dict = params.dict()\n",
    "        params_ = {f\"{params.__repr_name__()}.{k}\": v for k, v in params_dict.items()}\n",
    "        mlflow.log_params(params_)\n",
    "\n",
    "    mlflow.end_run()"
   ]
  },
  {
   "cell_type": "code",
   "execution_count": null,
   "id": "d4ce6982-efec-4a48-afe9-8bbdbcbe1aad",
   "metadata": {},
   "outputs": [],
   "source": []
  }
 ],
 "metadata": {
  "kernelspec": {
   "display_name": "Python 3 (ipykernel)",
   "language": "python",
   "name": "python3"
  },
  "language_info": {
   "codemirror_mode": {
    "name": "ipython",
    "version": 3
   },
   "file_extension": ".py",
   "mimetype": "text/x-python",
   "name": "python",
   "nbconvert_exporter": "python",
   "pygments_lexer": "ipython3",
   "version": "3.11.9"
  }
 },
 "nbformat": 4,
 "nbformat_minor": 5
}
