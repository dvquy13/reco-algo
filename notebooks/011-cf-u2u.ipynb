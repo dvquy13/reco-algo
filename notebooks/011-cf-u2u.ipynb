{
 "cells": [
  {
   "cell_type": "markdown",
   "id": "40773de3-7e3e-4a89-9db8-f5df2b2f67b4",
   "metadata": {
    "editable": true,
    "slideshow": {
     "slide_type": ""
    },
    "tags": []
   },
   "source": [
    "# KNN User-User Collaborative Filtering"
   ]
  },
  {
   "cell_type": "markdown",
   "id": "6a045489-6f14-42cf-8504-3fb87864e276",
   "metadata": {
    "editable": true,
    "slideshow": {
     "slide_type": ""
    },
    "tags": []
   },
   "source": [
    "The idea is to find similar users based on their preferences or behavior and recommend items that similar users liked but the target user has not interacted with. If User A and User B have rated a lot of the same items similarly, User B might enjoy items that User A has rated highly but hasn’t yet discovered.\n",
    "\n",
    "Based on [Introduction to Recommender System](https://towardsdatascience.com/introduction-to-recommender-systems-6c66cf15ada):\n",
    "\n",
    "> Collaborative methods for recommender systems are methods that are **based solely on the past interactions** recorded between users and items in order to produce new recommendations. These interactions are stored in the so-called “user-item interactions matrix”. Then, the main idea that rules collaborative methods is that these past user-item interactions are sufficient to detect similar users and/or similar items and make predictions based on these estimated proximities.\n",
    "\n",
    "> User-User CF is **applying KNN to find the neighbor users** with similar prior item preferences, and prediction of target item I for user U will be computed from the preferences of the neighbors.\n",
    "Notice that, when computing similarity between users, the number of “common interactions” (how much items have already been considered by both users?) should be considered carefully! Indeed, most of the time, we want to avoid that someone that only have one interaction in common with our reference user could have a 100% match and be considered as being “closer” than someone having 100 common interactions and agreeing “only” on 98% of them. So, we consider that two users are similar if they have interacted with a lot of common items in the same way (similar rating, similar time hovering…).\n",
    "\n",
    "In this notebook, we would take a very simple and straight-forward approach to implement KNN User-User CF. We formulate the problem as predicting the rating between user U and item I based on the rating records.\n",
    "\n",
    "Specifically, we will:\n",
    "- Collect input containing user-item rating\n",
    "- Build user-user similarity matrix\n",
    "- Measure similarities between users by using plain item rating vectors\n",
    "- Predict the rating between user U and item I by getting all users who have rated I, identify N neighbors and weighted average their ratings based on how similar the users are to the user U"
   ]
  },
  {
   "cell_type": "markdown",
   "id": "544aa34c-e391-4a68-965e-8da9deb10238",
   "metadata": {
    "editable": true,
    "slideshow": {
     "slide_type": ""
    },
    "tags": []
   },
   "source": [
    "# Set up"
   ]
  },
  {
   "cell_type": "code",
   "execution_count": 1,
   "id": "3c8f6e8d-f776-4d39-898c-d783c5ae3407",
   "metadata": {},
   "outputs": [],
   "source": [
    "%load_ext autoreload\n",
    "%autoreload 2"
   ]
  },
  {
   "cell_type": "code",
   "execution_count": 2,
   "id": "35b3499d-dc9c-405a-8714-a26341b581e1",
   "metadata": {},
   "outputs": [],
   "source": [
    "import os\n",
    "import sys\n",
    "\n",
    "import mlflow\n",
    "import numpy as np\n",
    "import pandas as pd\n",
    "from dotenv import load_dotenv\n",
    "from loguru import logger\n",
    "from pydantic import BaseModel\n",
    "\n",
    "load_dotenv()\n",
    "\n",
    "sys.path.insert(0, \"..\")\n",
    "\n",
    "from src.eval import (\n",
    "    create_label_df,\n",
    "    create_rec_df,\n",
    "    log_classification_metrics,\n",
    "    log_ranking_metrics,\n",
    "    merge_recs_with_target,\n",
    ")\n",
    "from src.id_mapper import IDMapper\n",
    "from src.math_utils import sigmoid\n",
    "from src.model import User2UserCollaborativeFiltering\n",
    "from src.train_utils import map_indice\n",
    "from src.viz import blueq_colors"
   ]
  },
  {
   "cell_type": "markdown",
   "id": "08eea90b-693f-4546-98dd-9d74289dc2ae",
   "metadata": {},
   "source": [
    "# Controller"
   ]
  },
  {
   "cell_type": "code",
   "execution_count": 3,
   "id": "0276b67f-8e3a-4fa9-a326-0e30174cb96a",
   "metadata": {
    "editable": true,
    "slideshow": {
     "slide_type": ""
    },
    "tags": []
   },
   "outputs": [
    {
     "name": "stderr",
     "output_type": "stream",
     "text": [
      "\u001b[32m2024-10-18 16:52:09.603\u001b[0m | \u001b[1mINFO    \u001b[0m | \u001b[36m__main__\u001b[0m:\u001b[36minit\u001b[0m:\u001b[36m29\u001b[0m - \u001b[1mSetting up MLflow experiment FSDS RecSys - L4 - Reco Algo - run 002-cf-u2u...\u001b[0m\n"
     ]
    },
    {
     "name": "stdout",
     "output_type": "stream",
     "text": [
      "{\n",
      "  \"testing\": false,\n",
      "  \"log_to_mlflow\": true,\n",
      "  \"experiment_name\": \"FSDS RecSys - L4 - Reco Algo\",\n",
      "  \"run_name\": \"002-cf-u2u\",\n",
      "  \"notebook_persist_dp\": \"/Users/dvq/frostmourne/reco-algo/notebooks/data/002-cf-u2u\",\n",
      "  \"random_seed\": 41,\n",
      "  \"user_col\": \"user_id\",\n",
      "  \"item_col\": \"parent_asin\",\n",
      "  \"rating_col\": \"rating\",\n",
      "  \"timestamp_col\": \"timestamp\",\n",
      "  \"top_K\": 100,\n",
      "  \"top_k\": 10,\n",
      "  \"batch_size\": 128\n",
      "}\n"
     ]
    }
   ],
   "source": [
    "class Args(BaseModel):\n",
    "    testing: bool = False\n",
    "    log_to_mlflow: bool = True\n",
    "    experiment_name: str = \"FSDS RecSys - L4 - Reco Algo\"\n",
    "    run_name: str = \"002-cf-u2u\"\n",
    "    notebook_persist_dp: str = None\n",
    "    random_seed: int = 41\n",
    "\n",
    "    user_col: str = \"user_id\"\n",
    "    item_col: str = \"parent_asin\"\n",
    "    rating_col: str = \"rating\"\n",
    "    timestamp_col: str = \"timestamp\"\n",
    "\n",
    "    top_K: int = 100\n",
    "    top_k: int = 10\n",
    "\n",
    "    batch_size: int = 128\n",
    "\n",
    "    def init(self):\n",
    "        self.notebook_persist_dp = os.path.abspath(f\"data/{self.run_name}\")\n",
    "\n",
    "        if not os.environ.get(\"MLFLOW_TRACKING_URI\"):\n",
    "            logger.warning(\n",
    "                f\"Environment variable MLFLOW_TRACKING_URI is not set. Setting self.log_to_mlflow to false.\"\n",
    "            )\n",
    "            self.log_to_mlflow = False\n",
    "\n",
    "        if self.log_to_mlflow:\n",
    "            logger.info(\n",
    "                f\"Setting up MLflow experiment {self.experiment_name} - run {self.run_name}...\"\n",
    "            )\n",
    "\n",
    "            mlflow.set_experiment(self.experiment_name)\n",
    "            mlflow.start_run(run_name=self.run_name)\n",
    "\n",
    "        return self\n",
    "\n",
    "\n",
    "args = Args().init()\n",
    "\n",
    "print(args.model_dump_json(indent=2))"
   ]
  },
  {
   "cell_type": "markdown",
   "id": "a5acedcb-89e6-41c6-8969-bf3437fc7898",
   "metadata": {},
   "source": [
    "# Implement"
   ]
  },
  {
   "cell_type": "code",
   "execution_count": 4,
   "id": "31e188fd-3b27-4a65-aae5-fdc5978c6e4c",
   "metadata": {},
   "outputs": [],
   "source": [
    "def init_model(n_users, n_items):\n",
    "    model = User2UserCollaborativeFiltering(n_users, n_items)\n",
    "    return model"
   ]
  },
  {
   "cell_type": "markdown",
   "id": "377a71da-1ee3-474c-b3f4-4488d2a45dd3",
   "metadata": {},
   "source": [
    "# Test implementation"
   ]
  },
  {
   "cell_type": "code",
   "execution_count": 5,
   "id": "ce5326d7-ec9d-422c-bbd8-03c837a23e1e",
   "metadata": {
    "scrolled": true
   },
   "outputs": [
    {
     "name": "stdout",
     "output_type": "stream",
     "text": [
      "Mock User IDs: [0, 0, 1, 1, 2, 2, 2]\n",
      "Mock Item IDs: [0, 1, 1, 2, 3, 1, 2]\n",
      "Ratings: [1, 4, 4, 5, 3, 2, 4]\n",
      "[0.5 0.5 0.5]\n"
     ]
    }
   ],
   "source": [
    "# Mock data\n",
    "user_indices = [0, 0, 1, 1, 2, 2, 2]\n",
    "item_indices = [0, 1, 1, 2, 3, 1, 2]\n",
    "ratings = [1, 4, 4, 5, 3, 2, 4]\n",
    "n_users = len(set(user_indices))\n",
    "n_items = len(set(item_indices))\n",
    "\n",
    "val_user_indices = [0, 1, 2]\n",
    "val_item_indices = [2, 1, 2]\n",
    "val_ratings = [2, 4, 5]\n",
    "\n",
    "print(\"Mock User IDs:\", user_indices)\n",
    "print(\"Mock Item IDs:\", item_indices)\n",
    "print(\"Ratings:\", ratings)\n",
    "\n",
    "model = init_model(n_users, n_items)\n",
    "\n",
    "users = [0, 1, 2]\n",
    "items = [2, 2, 0]\n",
    "predictions = model.predict(users, items)\n",
    "print(predictions)"
   ]
  },
  {
   "cell_type": "code",
   "execution_count": 6,
   "id": "28f926b4-1bb9-4552-825a-58b0a4389725",
   "metadata": {},
   "outputs": [
    {
     "name": "stdout",
     "output_type": "stream",
     "text": [
      "[0.99031217 0.98201379 0.73105858]\n"
     ]
    }
   ],
   "source": [
    "model.fit(user_indices, item_indices, ratings)\n",
    "predictions = model.predict(users, items)\n",
    "print(predictions)"
   ]
  },
  {
   "cell_type": "markdown",
   "id": "fa774082-5c93-42e8-b076-e462df08db90",
   "metadata": {
    "editable": true,
    "slideshow": {
     "slide_type": ""
    },
    "tags": []
   },
   "source": [
    "#### 🧐 Go into details"
   ]
  },
  {
   "cell_type": "code",
   "execution_count": 7,
   "id": "15903bdd-0846-4588-9a8f-584d8f523ce0",
   "metadata": {},
   "outputs": [
    {
     "data": {
      "text/plain": [
       "array([[1., 4., 0., 0.],\n",
       "       [0., 4., 5., 0.],\n",
       "       [0., 2., 4., 3.]])"
      ]
     },
     "execution_count": 7,
     "metadata": {},
     "output_type": "execute_result"
    }
   ],
   "source": [
    "model.user_item_matrix"
   ]
  },
  {
   "cell_type": "code",
   "execution_count": 8,
   "id": "496f9749-183a-478d-a624-16ed59c9818f",
   "metadata": {},
   "outputs": [
    {
     "data": {
      "text/plain": [
       "array([[0.        , 0.60604322, 0.36030188],\n",
       "       [0.60604322, 0.        , 0.81202071],\n",
       "       [0.36030188, 0.81202071, 0.        ]])"
      ]
     },
     "execution_count": 8,
     "metadata": {},
     "output_type": "execute_result"
    }
   ],
   "source": [
    "model.user_similarity"
   ]
  },
  {
   "cell_type": "code",
   "execution_count": 9,
   "id": "8d434a72-4f4e-49ea-98ea-31e6a539e4e0",
   "metadata": {},
   "outputs": [
    {
     "name": "stdout",
     "output_type": "stream",
     "text": [
      "sim_scores=array([0.        , 0.60604322, 0.36030188])\n"
     ]
    }
   ],
   "source": [
    "# Inspect one example\n",
    "user = 0\n",
    "item = 2\n",
    "\n",
    "sim_scores = model.user_similarity[user]\n",
    "print(f\"{sim_scores=}\")"
   ]
  },
  {
   "cell_type": "code",
   "execution_count": 10,
   "id": "4a44f130-422c-47d6-8e62-1913e3afdc9f",
   "metadata": {
    "editable": true,
    "slideshow": {
     "slide_type": ""
    },
    "tags": []
   },
   "outputs": [
    {
     "name": "stdout",
     "output_type": "stream",
     "text": [
      "user_ratings=array([0., 5., 4.])\n",
      "sim_scores=array([0.60604322, 0.36030188])\n",
      "user_ratings=array([5., 4.])\n"
     ]
    }
   ],
   "source": [
    "# Only consider users who have rated the item\n",
    "user_ratings = model.user_item_matrix[:, item]\n",
    "print(f\"{user_ratings=}\")\n",
    "sim_scores = sim_scores[user_ratings != 0]\n",
    "print(f\"{sim_scores=}\")\n",
    "user_ratings = user_ratings[user_ratings != 0]\n",
    "print(f\"{user_ratings=}\")"
   ]
  },
  {
   "cell_type": "code",
   "execution_count": 11,
   "id": "5c4af833-c0e2-4ac9-8f54-84dca24799e8",
   "metadata": {
    "editable": true,
    "slideshow": {
     "slide_type": ""
    },
    "tags": []
   },
   "outputs": [
    {
     "name": "stdout",
     "output_type": "stream",
     "text": [
      "Weighted average: 4.471423593469625\n",
      "Normalization factor: 0.9663450945516922\n",
      "Predicted rating: 4.627149885356445\n",
      "Predicted rating - sigmoid: 0.9903121712214553\n"
     ]
    }
   ],
   "source": [
    "# Weighted average of ratings\n",
    "print(f\"Weighted average: {np.dot(sim_scores, user_ratings)}\")\n",
    "print(f\"Normalization factor: {np.sum(sim_scores)}\")\n",
    "print(f\"Predicted rating: {np.dot(sim_scores, user_ratings) / np.sum(sim_scores)}\")\n",
    "print(\n",
    "    f\"Predicted rating - sigmoid: {sigmoid(np.dot(sim_scores, user_ratings) / np.sum(sim_scores))}\"\n",
    ")"
   ]
  },
  {
   "cell_type": "code",
   "execution_count": 12,
   "id": "aba0db41-990a-4012-87e7-e25bef99699c",
   "metadata": {},
   "outputs": [
    {
     "data": {
      "application/vnd.jupyter.widget-view+json": {
       "model_id": "9fcff20ee2e14262b5e1178403ee239c",
       "version_major": 2,
       "version_minor": 0
      },
      "text/plain": [
       "Generating recommendations:   0%|          | 0/3 [00:00<?, ?it/s]"
      ]
     },
     "metadata": {},
     "output_type": "display_data"
    }
   ],
   "source": [
    "recommendations = model.recommend(val_user_indices, k=2)"
   ]
  },
  {
   "cell_type": "code",
   "execution_count": 13,
   "id": "75c875dd-6431-4a71-9fec-b61e03905217",
   "metadata": {
    "scrolled": true
   },
   "outputs": [
    {
     "data": {
      "text/plain": [
       "{'user_indice': [0, 0, 1, 1, 2, 2],\n",
       " 'recommendation': [2, 1, 2, 3, 2, 1],\n",
       " 'score': [0.9903121712214553,\n",
       "  0.9628273118576526,\n",
       "  0.9820137900379085,\n",
       "  0.9525741268224334,\n",
       "  0.9933071490757153,\n",
       "  0.9820137900379085]}"
      ]
     },
     "execution_count": 13,
     "metadata": {},
     "output_type": "execute_result"
    }
   ],
   "source": [
    "recommendations"
   ]
  },
  {
   "cell_type": "markdown",
   "id": "170dec89-a874-4dce-8f94-07d978fcc5b8",
   "metadata": {},
   "source": [
    "# Prep data"
   ]
  },
  {
   "cell_type": "code",
   "execution_count": 14,
   "id": "83803362-5eaa-40bb-b28b-878316d5db5d",
   "metadata": {},
   "outputs": [
    {
     "name": "stdout",
     "output_type": "stream",
     "text": [
      "val_timestamp=1628641464793\n"
     ]
    }
   ],
   "source": [
    "train_df = pd.read_parquet(\"../data/train_features_neg_df.parquet\")\n",
    "val_df = pd.read_parquet(\"../data/val_features_neg_df.parquet\")\n",
    "idm = IDMapper().load(\"../data/idm.json\")\n",
    "assert (val_df[args.timestamp_col].min() - train_df[args.timestamp_col].max()) > 0\n",
    "val_timestamp = train_df[args.timestamp_col].max() + 1\n",
    "print(f\"{val_timestamp=}\")"
   ]
  },
  {
   "cell_type": "code",
   "execution_count": 15,
   "id": "17d6c998-5fc4-43f7-8e19-0f469bb0374b",
   "metadata": {},
   "outputs": [
    {
     "name": "stderr",
     "output_type": "stream",
     "text": [
      "\u001b[32m2024-10-18 16:52:10.933\u001b[0m | \u001b[1mINFO    \u001b[0m | \u001b[36m__main__\u001b[0m:\u001b[36m<module>\u001b[0m:\u001b[36m8\u001b[0m - \u001b[1mlen(unique_user_ids)=20,366, len(unique_item_ids)=4,696\u001b[0m\n"
     ]
    }
   ],
   "source": [
    "user_ids = train_df[args.user_col].values\n",
    "item_ids = train_df[args.item_col].values\n",
    "unique_user_ids = list(set(user_ids))\n",
    "unique_item_ids = list(set(item_ids))\n",
    "n_users = len(unique_user_ids)\n",
    "n_items = len(unique_item_ids)\n",
    "\n",
    "logger.info(f\"{len(unique_user_ids)=:,.0f}, {len(unique_item_ids)=:,.0f}\")"
   ]
  },
  {
   "cell_type": "code",
   "execution_count": 16,
   "id": "14c48421-1e0d-46d8-a841-46f380393bdd",
   "metadata": {},
   "outputs": [],
   "source": [
    "train_df = train_df.pipe(map_indice, idm, args.user_col, args.item_col)\n",
    "val_df = val_df.pipe(map_indice, idm, args.user_col, args.item_col)\n",
    "\n",
    "user_indices = [idm.get_user_index(user_id) for user_id in user_ids]\n",
    "item_indices = [idm.get_item_index(item_id) for item_id in item_ids]\n",
    "ratings = train_df[args.rating_col].values.tolist()\n",
    "\n",
    "val_user_indices = [idm.get_user_index(user_id) for user_id in val_df[args.user_col]]\n",
    "val_item_indices = [idm.get_item_index(item_id) for item_id in val_df[args.item_col]]\n",
    "val_ratings = val_df[args.rating_col].values.tolist()"
   ]
  },
  {
   "cell_type": "markdown",
   "id": "5260fbe7-2f90-44a1-be74-ce5db9b511ee",
   "metadata": {},
   "source": [
    "# Train"
   ]
  },
  {
   "cell_type": "code",
   "execution_count": 17,
   "id": "12749354-d57a-4458-bf60-b23f068ec6c7",
   "metadata": {},
   "outputs": [],
   "source": [
    "model = init_model(n_users, n_items)"
   ]
  },
  {
   "cell_type": "markdown",
   "id": "b8cbb2a8-a578-4ad2-941e-efd01d930336",
   "metadata": {},
   "source": [
    "#### Predict before train"
   ]
  },
  {
   "cell_type": "code",
   "execution_count": 18,
   "id": "9eb1583b-40f7-4157-a383-5891389ac119",
   "metadata": {
    "editable": true,
    "scrolled": true,
    "slideshow": {
     "slide_type": ""
    },
    "tags": []
   },
   "outputs": [
    {
     "data": {
      "text/html": [
       "<div>\n",
       "<style scoped>\n",
       "    .dataframe tbody tr th:only-of-type {\n",
       "        vertical-align: middle;\n",
       "    }\n",
       "\n",
       "    .dataframe tbody tr th {\n",
       "        vertical-align: top;\n",
       "    }\n",
       "\n",
       "    .dataframe thead th {\n",
       "        text-align: right;\n",
       "    }\n",
       "</style>\n",
       "<table border=\"1\" class=\"dataframe\">\n",
       "  <thead>\n",
       "    <tr style=\"text-align: right;\">\n",
       "      <th></th>\n",
       "      <th>user_id</th>\n",
       "      <th>parent_asin</th>\n",
       "      <th>rating</th>\n",
       "      <th>timestamp</th>\n",
       "      <th>user_indice</th>\n",
       "      <th>item_indice</th>\n",
       "      <th>main_category</th>\n",
       "      <th>title</th>\n",
       "      <th>description</th>\n",
       "      <th>categories</th>\n",
       "      <th>price</th>\n",
       "      <th>item_sequence</th>\n",
       "    </tr>\n",
       "  </thead>\n",
       "  <tbody>\n",
       "    <tr>\n",
       "      <th>652</th>\n",
       "      <td>AE5QGKFJBTNUNXPIAFEFTAAH3XRA</td>\n",
       "      <td>B00YM7AKLG</td>\n",
       "      <td>0.0</td>\n",
       "      <td>1630436382845</td>\n",
       "      <td>12717</td>\n",
       "      <td>3793</td>\n",
       "      <td>Video Games</td>\n",
       "      <td>FIFA 16 - Standard Edition - PlayStation 4</td>\n",
       "      <td>[*The DLC (Downloadable Content), Trials/Subsc...</td>\n",
       "      <td>[Video Games, PlayStation 4]</td>\n",
       "      <td>25.98</td>\n",
       "      <td>[-1, -1, -1, -1, 3774, 4030, 4259, 685, 1722, ...</td>\n",
       "    </tr>\n",
       "    <tr>\n",
       "      <th>1170</th>\n",
       "      <td>AE5QGKFJBTNUNXPIAFEFTAAH3XRA</td>\n",
       "      <td>B07L3SXCL9</td>\n",
       "      <td>1.0</td>\n",
       "      <td>1630436382845</td>\n",
       "      <td>12717</td>\n",
       "      <td>4359</td>\n",
       "      <td>All Electronics</td>\n",
       "      <td>Jeecoo V20 Stereo Gaming Headset for PS4 PS5 X...</td>\n",
       "      <td>[]</td>\n",
       "      <td>[Video Games, PC, Accessories, Headsets]</td>\n",
       "      <td>29.99</td>\n",
       "      <td>[-1, -1, -1, -1, 3774, 4030, 4259, 685, 1722, ...</td>\n",
       "    </tr>\n",
       "  </tbody>\n",
       "</table>\n",
       "</div>"
      ],
      "text/plain": [
       "                           user_id parent_asin  rating      timestamp  \\\n",
       "652   AE5QGKFJBTNUNXPIAFEFTAAH3XRA  B00YM7AKLG     0.0  1630436382845   \n",
       "1170  AE5QGKFJBTNUNXPIAFEFTAAH3XRA  B07L3SXCL9     1.0  1630436382845   \n",
       "\n",
       "      user_indice  item_indice    main_category  \\\n",
       "652         12717         3793      Video Games   \n",
       "1170        12717         4359  All Electronics   \n",
       "\n",
       "                                                  title  \\\n",
       "652          FIFA 16 - Standard Edition - PlayStation 4   \n",
       "1170  Jeecoo V20 Stereo Gaming Headset for PS4 PS5 X...   \n",
       "\n",
       "                                            description  \\\n",
       "652   [*The DLC (Downloadable Content), Trials/Subsc...   \n",
       "1170                                                 []   \n",
       "\n",
       "                                    categories  price  \\\n",
       "652               [Video Games, PlayStation 4]  25.98   \n",
       "1170  [Video Games, PC, Accessories, Headsets]  29.99   \n",
       "\n",
       "                                          item_sequence  \n",
       "652   [-1, -1, -1, -1, 3774, 4030, 4259, 685, 1722, ...  \n",
       "1170  [-1, -1, -1, -1, 3774, 4030, 4259, 685, 1722, ...  "
      ]
     },
     "execution_count": 18,
     "metadata": {},
     "output_type": "execute_result"
    }
   ],
   "source": [
    "user_id = val_df.sample(1)[args.user_col].values[0]\n",
    "test_df = val_df.loc[lambda df: df[args.user_col].eq(user_id)]\n",
    "test_df"
   ]
  },
  {
   "cell_type": "code",
   "execution_count": 19,
   "id": "c48fbc80-eda8-4dff-a246-95f8f2f75082",
   "metadata": {
    "editable": true,
    "scrolled": true,
    "slideshow": {
     "slide_type": ""
    },
    "tags": []
   },
   "outputs": [
    {
     "name": "stderr",
     "output_type": "stream",
     "text": [
      "\u001b[32m2024-10-18 16:52:11.180\u001b[0m | \u001b[1mINFO    \u001b[0m | \u001b[36m__main__\u001b[0m:\u001b[36m<module>\u001b[0m:\u001b[36m2\u001b[0m - \u001b[1mTest predicting before training with user_id = AE5QGKFJBTNUNXPIAFEFTAAH3XRA and parent_asin = B07L3SXCL9\u001b[0m\n"
     ]
    },
    {
     "data": {
      "text/plain": [
       "array([0.5])"
      ]
     },
     "execution_count": 19,
     "metadata": {},
     "output_type": "execute_result"
    }
   ],
   "source": [
    "item_id = test_df.loc[lambda df: df[args.rating_col].gt(0)][args.item_col].values[0]\n",
    "logger.info(\n",
    "    f\"Test predicting before training with {args.user_col} = {user_id} and {args.item_col} = {item_id}\"\n",
    ")\n",
    "user_indice = idm.get_user_index(user_id)\n",
    "item_indice = idm.get_item_index(item_id)\n",
    "\n",
    "model.predict([user_indice], [item_indice])"
   ]
  },
  {
   "cell_type": "markdown",
   "id": "c2fd217c-c0c8-4e7c-81fe-6eb36f4729b5",
   "metadata": {},
   "source": [
    "#### Training loop"
   ]
  },
  {
   "cell_type": "code",
   "execution_count": 20,
   "id": "ad0bf9b5-da26-4ea1-84ec-78eeb43d4a66",
   "metadata": {},
   "outputs": [],
   "source": [
    "model.fit(user_indices, item_indices, ratings)"
   ]
  },
  {
   "cell_type": "markdown",
   "id": "d98aad70-7bca-4406-92df-c46b2ff8fce0",
   "metadata": {},
   "source": [
    "# Predict"
   ]
  },
  {
   "cell_type": "code",
   "execution_count": 21,
   "id": "98ab8614-2c48-4dcb-97b0-b7d1460140d4",
   "metadata": {
    "scrolled": true
   },
   "outputs": [
    {
     "name": "stderr",
     "output_type": "stream",
     "text": [
      "\u001b[32m2024-10-18 16:52:23.541\u001b[0m | \u001b[1mINFO    \u001b[0m | \u001b[36m__main__\u001b[0m:\u001b[36m<module>\u001b[0m:\u001b[36m1\u001b[0m - \u001b[1mTest predicting before training with user_id = AE5QGKFJBTNUNXPIAFEFTAAH3XRA and parent_asin = B07L3SXCL9\u001b[0m\n"
     ]
    },
    {
     "data": {
      "text/plain": [
       "array([0.5])"
      ]
     },
     "execution_count": 21,
     "metadata": {},
     "output_type": "execute_result"
    }
   ],
   "source": [
    "logger.info(\n",
    "    f\"Test predicting before training with {args.user_col} = {user_id} and {args.item_col} = {item_id}\"\n",
    ")\n",
    "model.predict([user_indice], [item_indice])"
   ]
  },
  {
   "cell_type": "markdown",
   "id": "fd2bba59-2e12-4921-b36f-66e82105637c",
   "metadata": {},
   "source": [
    "# Evaluate"
   ]
  },
  {
   "cell_type": "markdown",
   "id": "febee4e0-88ea-4d07-95d8-7c7a3114815b",
   "metadata": {},
   "source": [
    "## Ranking metrics"
   ]
  },
  {
   "cell_type": "code",
   "execution_count": 22,
   "id": "13f0285d-a482-4a33-8dce-e72fc445c6f5",
   "metadata": {},
   "outputs": [
    {
     "data": {
      "application/vnd.jupyter.widget-view+json": {
       "model_id": "91f324d74a4b4f9087c39c9d0f224ba0",
       "version_major": 2,
       "version_minor": 0
      },
      "text/plain": [
       "Generating recommendations:   0%|          | 0/1898 [00:00<?, ?it/s]"
      ]
     },
     "metadata": {},
     "output_type": "display_data"
    }
   ],
   "source": [
    "# This can take about 10 mins -> TODO: Optimize\n",
    "recommendations = model.recommend(val_user_indices, k=args.top_K)"
   ]
  },
  {
   "cell_type": "code",
   "execution_count": 23,
   "id": "5ae32aa8-b14d-4e88-bf0f-31b1df76c6aa",
   "metadata": {
    "scrolled": true
   },
   "outputs": [
    {
     "data": {
      "text/html": [
       "<div>\n",
       "<style scoped>\n",
       "    .dataframe tbody tr th:only-of-type {\n",
       "        vertical-align: middle;\n",
       "    }\n",
       "\n",
       "    .dataframe tbody tr th {\n",
       "        vertical-align: top;\n",
       "    }\n",
       "\n",
       "    .dataframe thead th {\n",
       "        text-align: right;\n",
       "    }\n",
       "</style>\n",
       "<table border=\"1\" class=\"dataframe\">\n",
       "  <thead>\n",
       "    <tr style=\"text-align: right;\">\n",
       "      <th></th>\n",
       "      <th>user_indice</th>\n",
       "      <th>recommendation</th>\n",
       "      <th>score</th>\n",
       "      <th>rec_ranking</th>\n",
       "      <th>user_id</th>\n",
       "      <th>parent_asin</th>\n",
       "    </tr>\n",
       "  </thead>\n",
       "  <tbody>\n",
       "    <tr>\n",
       "      <th>0</th>\n",
       "      <td>7087</td>\n",
       "      <td>0</td>\n",
       "      <td>0.993307</td>\n",
       "      <td>1.0</td>\n",
       "      <td>AEWCUX5UKUYPDZJIOB6XMLCBJ3KA</td>\n",
       "      <td>B003R50910</td>\n",
       "    </tr>\n",
       "    <tr>\n",
       "      <th>1</th>\n",
       "      <td>7087</td>\n",
       "      <td>2744</td>\n",
       "      <td>0.993307</td>\n",
       "      <td>2.0</td>\n",
       "      <td>AEWCUX5UKUYPDZJIOB6XMLCBJ3KA</td>\n",
       "      <td>B079MLPDRJ</td>\n",
       "    </tr>\n",
       "    <tr>\n",
       "      <th>2</th>\n",
       "      <td>7087</td>\n",
       "      <td>3791</td>\n",
       "      <td>0.993307</td>\n",
       "      <td>3.0</td>\n",
       "      <td>AEWCUX5UKUYPDZJIOB6XMLCBJ3KA</td>\n",
       "      <td>B001EYUTMA</td>\n",
       "    </tr>\n",
       "    <tr>\n",
       "      <th>3</th>\n",
       "      <td>7087</td>\n",
       "      <td>1307</td>\n",
       "      <td>0.993307</td>\n",
       "      <td>4.0</td>\n",
       "      <td>AEWCUX5UKUYPDZJIOB6XMLCBJ3KA</td>\n",
       "      <td>B00936K09S</td>\n",
       "    </tr>\n",
       "    <tr>\n",
       "      <th>4</th>\n",
       "      <td>7087</td>\n",
       "      <td>3793</td>\n",
       "      <td>0.993307</td>\n",
       "      <td>5.0</td>\n",
       "      <td>AEWCUX5UKUYPDZJIOB6XMLCBJ3KA</td>\n",
       "      <td>B00YM7AKLG</td>\n",
       "    </tr>\n",
       "    <tr>\n",
       "      <th>...</th>\n",
       "      <td>...</td>\n",
       "      <td>...</td>\n",
       "      <td>...</td>\n",
       "      <td>...</td>\n",
       "      <td>...</td>\n",
       "      <td>...</td>\n",
       "    </tr>\n",
       "    <tr>\n",
       "      <th>189795</th>\n",
       "      <td>14319</td>\n",
       "      <td>3068</td>\n",
       "      <td>0.993307</td>\n",
       "      <td>196.0</td>\n",
       "      <td>AHAKU6TTWIHJPZIODW7MGC52M2DA</td>\n",
       "      <td>B000FUIS40</td>\n",
       "    </tr>\n",
       "    <tr>\n",
       "      <th>189796</th>\n",
       "      <td>14319</td>\n",
       "      <td>580</td>\n",
       "      <td>0.993307</td>\n",
       "      <td>197.0</td>\n",
       "      <td>AHAKU6TTWIHJPZIODW7MGC52M2DA</td>\n",
       "      <td>B001G605ZC</td>\n",
       "    </tr>\n",
       "    <tr>\n",
       "      <th>189797</th>\n",
       "      <td>14319</td>\n",
       "      <td>584</td>\n",
       "      <td>0.993307</td>\n",
       "      <td>198.0</td>\n",
       "      <td>AHAKU6TTWIHJPZIODW7MGC52M2DA</td>\n",
       "      <td>B01GDVGQ48</td>\n",
       "    </tr>\n",
       "    <tr>\n",
       "      <th>189798</th>\n",
       "      <td>14319</td>\n",
       "      <td>586</td>\n",
       "      <td>0.993307</td>\n",
       "      <td>199.0</td>\n",
       "      <td>AHAKU6TTWIHJPZIODW7MGC52M2DA</td>\n",
       "      <td>B087STK7JZ</td>\n",
       "    </tr>\n",
       "    <tr>\n",
       "      <th>189799</th>\n",
       "      <td>14319</td>\n",
       "      <td>3774</td>\n",
       "      <td>0.993307</td>\n",
       "      <td>200.0</td>\n",
       "      <td>AHAKU6TTWIHJPZIODW7MGC52M2DA</td>\n",
       "      <td>B004QIY0Y4</td>\n",
       "    </tr>\n",
       "  </tbody>\n",
       "</table>\n",
       "<p>189800 rows × 6 columns</p>\n",
       "</div>"
      ],
      "text/plain": [
       "        user_indice  recommendation     score  rec_ranking  \\\n",
       "0              7087               0  0.993307          1.0   \n",
       "1              7087            2744  0.993307          2.0   \n",
       "2              7087            3791  0.993307          3.0   \n",
       "3              7087            1307  0.993307          4.0   \n",
       "4              7087            3793  0.993307          5.0   \n",
       "...             ...             ...       ...          ...   \n",
       "189795        14319            3068  0.993307        196.0   \n",
       "189796        14319             580  0.993307        197.0   \n",
       "189797        14319             584  0.993307        198.0   \n",
       "189798        14319             586  0.993307        199.0   \n",
       "189799        14319            3774  0.993307        200.0   \n",
       "\n",
       "                             user_id parent_asin  \n",
       "0       AEWCUX5UKUYPDZJIOB6XMLCBJ3KA  B003R50910  \n",
       "1       AEWCUX5UKUYPDZJIOB6XMLCBJ3KA  B079MLPDRJ  \n",
       "2       AEWCUX5UKUYPDZJIOB6XMLCBJ3KA  B001EYUTMA  \n",
       "3       AEWCUX5UKUYPDZJIOB6XMLCBJ3KA  B00936K09S  \n",
       "4       AEWCUX5UKUYPDZJIOB6XMLCBJ3KA  B00YM7AKLG  \n",
       "...                              ...         ...  \n",
       "189795  AHAKU6TTWIHJPZIODW7MGC52M2DA  B000FUIS40  \n",
       "189796  AHAKU6TTWIHJPZIODW7MGC52M2DA  B001G605ZC  \n",
       "189797  AHAKU6TTWIHJPZIODW7MGC52M2DA  B01GDVGQ48  \n",
       "189798  AHAKU6TTWIHJPZIODW7MGC52M2DA  B087STK7JZ  \n",
       "189799  AHAKU6TTWIHJPZIODW7MGC52M2DA  B004QIY0Y4  \n",
       "\n",
       "[189800 rows x 6 columns]"
      ]
     },
     "execution_count": 23,
     "metadata": {},
     "output_type": "execute_result"
    }
   ],
   "source": [
    "recommendations_df = pd.DataFrame(recommendations).pipe(create_rec_df, idm)\n",
    "recommendations_df"
   ]
  },
  {
   "cell_type": "code",
   "execution_count": 24,
   "id": "2702e214-ba09-4e61-a479-623196d04a94",
   "metadata": {},
   "outputs": [
    {
     "data": {
      "text/html": [
       "<div>\n",
       "<style scoped>\n",
       "    .dataframe tbody tr th:only-of-type {\n",
       "        vertical-align: middle;\n",
       "    }\n",
       "\n",
       "    .dataframe tbody tr th {\n",
       "        vertical-align: top;\n",
       "    }\n",
       "\n",
       "    .dataframe thead th {\n",
       "        text-align: right;\n",
       "    }\n",
       "</style>\n",
       "<table border=\"1\" class=\"dataframe\">\n",
       "  <thead>\n",
       "    <tr style=\"text-align: right;\">\n",
       "      <th></th>\n",
       "      <th>user_id</th>\n",
       "      <th>parent_asin</th>\n",
       "      <th>rating</th>\n",
       "      <th>rating_rank</th>\n",
       "    </tr>\n",
       "  </thead>\n",
       "  <tbody>\n",
       "    <tr>\n",
       "      <th>1757</th>\n",
       "      <td>AGDJVPSADB7OTS2CL4TLYQM4CT4A</td>\n",
       "      <td>B087NNPYP3</td>\n",
       "      <td>5.0</td>\n",
       "      <td>1.0</td>\n",
       "    </tr>\n",
       "    <tr>\n",
       "      <th>145</th>\n",
       "      <td>AFJKZEYD2VZSI2NO3JZNMA4XX4RA</td>\n",
       "      <td>B09MRM36JJ</td>\n",
       "      <td>4.0</td>\n",
       "      <td>1.0</td>\n",
       "    </tr>\n",
       "    <tr>\n",
       "      <th>170</th>\n",
       "      <td>AFBRTNVOROW7UVA66UPX5YCFC6MQ</td>\n",
       "      <td>B00EP2WNKY</td>\n",
       "      <td>3.0</td>\n",
       "      <td>1.0</td>\n",
       "    </tr>\n",
       "    <tr>\n",
       "      <th>1729</th>\n",
       "      <td>AGENEGNVXK2GM4YG35LAYXBO527Q</td>\n",
       "      <td>B071Y568B7</td>\n",
       "      <td>4.0</td>\n",
       "      <td>1.0</td>\n",
       "    </tr>\n",
       "    <tr>\n",
       "      <th>87</th>\n",
       "      <td>AEL7SJG67X3FAH6U4KLHBOTF6PZA</td>\n",
       "      <td>B001EYUWDG</td>\n",
       "      <td>5.0</td>\n",
       "      <td>1.0</td>\n",
       "    </tr>\n",
       "    <tr>\n",
       "      <th>...</th>\n",
       "      <td>...</td>\n",
       "      <td>...</td>\n",
       "      <td>...</td>\n",
       "      <td>...</td>\n",
       "    </tr>\n",
       "    <tr>\n",
       "      <th>393</th>\n",
       "      <td>AFB6FYPPCN33UMUU5536IHXNOHCQ</td>\n",
       "      <td>B0051D8PGM</td>\n",
       "      <td>0.0</td>\n",
       "      <td>18.0</td>\n",
       "    </tr>\n",
       "    <tr>\n",
       "      <th>1138</th>\n",
       "      <td>AESD4RLWUKM6JTD6SNNWYLHLLQQA</td>\n",
       "      <td>B00800VJWU</td>\n",
       "      <td>0.0</td>\n",
       "      <td>18.0</td>\n",
       "    </tr>\n",
       "    <tr>\n",
       "      <th>1845</th>\n",
       "      <td>AG4RCXKPTC6QRORJLUSBY4SO2IAA</td>\n",
       "      <td>B0050SVMYA</td>\n",
       "      <td>0.0</td>\n",
       "      <td>18.0</td>\n",
       "    </tr>\n",
       "    <tr>\n",
       "      <th>1677</th>\n",
       "      <td>AFB6FYPPCN33UMUU5536IHXNOHCQ</td>\n",
       "      <td>B0088TN73M</td>\n",
       "      <td>0.0</td>\n",
       "      <td>19.0</td>\n",
       "    </tr>\n",
       "    <tr>\n",
       "      <th>1401</th>\n",
       "      <td>AFB6FYPPCN33UMUU5536IHXNOHCQ</td>\n",
       "      <td>B00W9DHUBS</td>\n",
       "      <td>0.0</td>\n",
       "      <td>20.0</td>\n",
       "    </tr>\n",
       "  </tbody>\n",
       "</table>\n",
       "<p>1898 rows × 4 columns</p>\n",
       "</div>"
      ],
      "text/plain": [
       "                           user_id parent_asin  rating  rating_rank\n",
       "1757  AGDJVPSADB7OTS2CL4TLYQM4CT4A  B087NNPYP3     5.0          1.0\n",
       "145   AFJKZEYD2VZSI2NO3JZNMA4XX4RA  B09MRM36JJ     4.0          1.0\n",
       "170   AFBRTNVOROW7UVA66UPX5YCFC6MQ  B00EP2WNKY     3.0          1.0\n",
       "1729  AGENEGNVXK2GM4YG35LAYXBO527Q  B071Y568B7     4.0          1.0\n",
       "87    AEL7SJG67X3FAH6U4KLHBOTF6PZA  B001EYUWDG     5.0          1.0\n",
       "...                            ...         ...     ...          ...\n",
       "393   AFB6FYPPCN33UMUU5536IHXNOHCQ  B0051D8PGM     0.0         18.0\n",
       "1138  AESD4RLWUKM6JTD6SNNWYLHLLQQA  B00800VJWU     0.0         18.0\n",
       "1845  AG4RCXKPTC6QRORJLUSBY4SO2IAA  B0050SVMYA     0.0         18.0\n",
       "1677  AFB6FYPPCN33UMUU5536IHXNOHCQ  B0088TN73M     0.0         19.0\n",
       "1401  AFB6FYPPCN33UMUU5536IHXNOHCQ  B00W9DHUBS     0.0         20.0\n",
       "\n",
       "[1898 rows x 4 columns]"
      ]
     },
     "execution_count": 24,
     "metadata": {},
     "output_type": "execute_result"
    }
   ],
   "source": [
    "label_df = create_label_df(val_df)\n",
    "label_df"
   ]
  },
  {
   "cell_type": "code",
   "execution_count": 25,
   "id": "86f1186e-2382-456e-b7ce-46de20b2aba2",
   "metadata": {
    "scrolled": true
   },
   "outputs": [
    {
     "data": {
      "text/html": [
       "<div>\n",
       "<style scoped>\n",
       "    .dataframe tbody tr th:only-of-type {\n",
       "        vertical-align: middle;\n",
       "    }\n",
       "\n",
       "    .dataframe tbody tr th {\n",
       "        vertical-align: top;\n",
       "    }\n",
       "\n",
       "    .dataframe thead th {\n",
       "        text-align: right;\n",
       "    }\n",
       "</style>\n",
       "<table border=\"1\" class=\"dataframe\">\n",
       "  <thead>\n",
       "    <tr style=\"text-align: right;\">\n",
       "      <th></th>\n",
       "      <th>user_indice</th>\n",
       "      <th>recommendation</th>\n",
       "      <th>score</th>\n",
       "      <th>rec_ranking</th>\n",
       "      <th>user_id</th>\n",
       "      <th>parent_asin</th>\n",
       "      <th>rating</th>\n",
       "      <th>rating_rank</th>\n",
       "    </tr>\n",
       "  </thead>\n",
       "  <tbody>\n",
       "    <tr>\n",
       "      <th>50</th>\n",
       "      <td>1416.0</td>\n",
       "      <td>4695.0</td>\n",
       "      <td>0.993307</td>\n",
       "      <td>1</td>\n",
       "      <td>AE2AZ2MNROPF33U6SS53VI22OXJA</td>\n",
       "      <td>B003MZ23LY</td>\n",
       "      <td>0</td>\n",
       "      <td>NaN</td>\n",
       "    </tr>\n",
       "    <tr>\n",
       "      <th>181</th>\n",
       "      <td>1416.0</td>\n",
       "      <td>2495.0</td>\n",
       "      <td>0.993307</td>\n",
       "      <td>2</td>\n",
       "      <td>AE2AZ2MNROPF33U6SS53VI22OXJA</td>\n",
       "      <td>B07YNJBDK3</td>\n",
       "      <td>0</td>\n",
       "      <td>NaN</td>\n",
       "    </tr>\n",
       "    <tr>\n",
       "      <th>74</th>\n",
       "      <td>1416.0</td>\n",
       "      <td>2448.0</td>\n",
       "      <td>0.993307</td>\n",
       "      <td>3</td>\n",
       "      <td>AE2AZ2MNROPF33U6SS53VI22OXJA</td>\n",
       "      <td>B0050SY8UK</td>\n",
       "      <td>0</td>\n",
       "      <td>NaN</td>\n",
       "    </tr>\n",
       "    <tr>\n",
       "      <th>118</th>\n",
       "      <td>1416.0</td>\n",
       "      <td>2450.0</td>\n",
       "      <td>0.993307</td>\n",
       "      <td>4</td>\n",
       "      <td>AE2AZ2MNROPF33U6SS53VI22OXJA</td>\n",
       "      <td>B00VMB5VCS</td>\n",
       "      <td>0</td>\n",
       "      <td>NaN</td>\n",
       "    </tr>\n",
       "    <tr>\n",
       "      <th>36</th>\n",
       "      <td>1416.0</td>\n",
       "      <td>2455.0</td>\n",
       "      <td>0.993307</td>\n",
       "      <td>5</td>\n",
       "      <td>AE2AZ2MNROPF33U6SS53VI22OXJA</td>\n",
       "      <td>B001EYUQ2I</td>\n",
       "      <td>0</td>\n",
       "      <td>NaN</td>\n",
       "    </tr>\n",
       "    <tr>\n",
       "      <th>...</th>\n",
       "      <td>...</td>\n",
       "      <td>...</td>\n",
       "      <td>...</td>\n",
       "      <td>...</td>\n",
       "      <td>...</td>\n",
       "      <td>...</td>\n",
       "      <td>...</td>\n",
       "      <td>...</td>\n",
       "    </tr>\n",
       "    <tr>\n",
       "      <th>191630</th>\n",
       "      <td>17528.0</td>\n",
       "      <td>1030.0</td>\n",
       "      <td>0.993307</td>\n",
       "      <td>196</td>\n",
       "      <td>AHZNHP6OKXRZV2UJMYDPLWCKFKEA</td>\n",
       "      <td>B081TQRCLM</td>\n",
       "      <td>0</td>\n",
       "      <td>NaN</td>\n",
       "    </tr>\n",
       "    <tr>\n",
       "      <th>191474</th>\n",
       "      <td>17528.0</td>\n",
       "      <td>2992.0</td>\n",
       "      <td>0.993307</td>\n",
       "      <td>197</td>\n",
       "      <td>AHZNHP6OKXRZV2UJMYDPLWCKFKEA</td>\n",
       "      <td>B001EYUV3M</td>\n",
       "      <td>0</td>\n",
       "      <td>NaN</td>\n",
       "    </tr>\n",
       "    <tr>\n",
       "      <th>191498</th>\n",
       "      <td>17528.0</td>\n",
       "      <td>1020.0</td>\n",
       "      <td>0.993307</td>\n",
       "      <td>198</td>\n",
       "      <td>AHZNHP6OKXRZV2UJMYDPLWCKFKEA</td>\n",
       "      <td>B0050SVNSU</td>\n",
       "      <td>0</td>\n",
       "      <td>NaN</td>\n",
       "    </tr>\n",
       "    <tr>\n",
       "      <th>191538</th>\n",
       "      <td>17528.0</td>\n",
       "      <td>3015.0</td>\n",
       "      <td>0.993307</td>\n",
       "      <td>199</td>\n",
       "      <td>AHZNHP6OKXRZV2UJMYDPLWCKFKEA</td>\n",
       "      <td>B00BGAA0SU</td>\n",
       "      <td>0</td>\n",
       "      <td>NaN</td>\n",
       "    </tr>\n",
       "    <tr>\n",
       "      <th>191582</th>\n",
       "      <td>17528.0</td>\n",
       "      <td>2971.0</td>\n",
       "      <td>0.993307</td>\n",
       "      <td>200</td>\n",
       "      <td>AHZNHP6OKXRZV2UJMYDPLWCKFKEA</td>\n",
       "      <td>B01N4NTNO2</td>\n",
       "      <td>0</td>\n",
       "      <td>NaN</td>\n",
       "    </tr>\n",
       "  </tbody>\n",
       "</table>\n",
       "<p>191651 rows × 8 columns</p>\n",
       "</div>"
      ],
      "text/plain": [
       "        user_indice  recommendation     score  rec_ranking  \\\n",
       "50           1416.0          4695.0  0.993307            1   \n",
       "181          1416.0          2495.0  0.993307            2   \n",
       "74           1416.0          2448.0  0.993307            3   \n",
       "118          1416.0          2450.0  0.993307            4   \n",
       "36           1416.0          2455.0  0.993307            5   \n",
       "...             ...             ...       ...          ...   \n",
       "191630      17528.0          1030.0  0.993307          196   \n",
       "191474      17528.0          2992.0  0.993307          197   \n",
       "191498      17528.0          1020.0  0.993307          198   \n",
       "191538      17528.0          3015.0  0.993307          199   \n",
       "191582      17528.0          2971.0  0.993307          200   \n",
       "\n",
       "                             user_id parent_asin  rating  rating_rank  \n",
       "50      AE2AZ2MNROPF33U6SS53VI22OXJA  B003MZ23LY       0          NaN  \n",
       "181     AE2AZ2MNROPF33U6SS53VI22OXJA  B07YNJBDK3       0          NaN  \n",
       "74      AE2AZ2MNROPF33U6SS53VI22OXJA  B0050SY8UK       0          NaN  \n",
       "118     AE2AZ2MNROPF33U6SS53VI22OXJA  B00VMB5VCS       0          NaN  \n",
       "36      AE2AZ2MNROPF33U6SS53VI22OXJA  B001EYUQ2I       0          NaN  \n",
       "...                              ...         ...     ...          ...  \n",
       "191630  AHZNHP6OKXRZV2UJMYDPLWCKFKEA  B081TQRCLM       0          NaN  \n",
       "191474  AHZNHP6OKXRZV2UJMYDPLWCKFKEA  B001EYUV3M       0          NaN  \n",
       "191498  AHZNHP6OKXRZV2UJMYDPLWCKFKEA  B0050SVNSU       0          NaN  \n",
       "191538  AHZNHP6OKXRZV2UJMYDPLWCKFKEA  B00BGAA0SU       0          NaN  \n",
       "191582  AHZNHP6OKXRZV2UJMYDPLWCKFKEA  B01N4NTNO2       0          NaN  \n",
       "\n",
       "[191651 rows x 8 columns]"
      ]
     },
     "execution_count": 25,
     "metadata": {},
     "output_type": "execute_result"
    }
   ],
   "source": [
    "eval_df = merge_recs_with_target(recommendations_df, label_df, k=args.top_K)\n",
    "eval_df"
   ]
  },
  {
   "cell_type": "code",
   "execution_count": 26,
   "id": "105850af-291c-4187-9671-8208c0afc6bb",
   "metadata": {},
   "outputs": [
    {
     "name": "stderr",
     "output_type": "stream",
     "text": [
      "/Users/dvq/frostmourne/reco-algo/.venv/lib/python3.11/site-packages/evidently/metrics/recsys/f_beta_top_k.py:61: RuntimeWarning: invalid value encountered in divide\n",
      "  return (1 + beta_sqr) * precision_arr * recall_arr / (beta_sqr * precision_arr + recall_arr)\n"
     ]
    }
   ],
   "source": [
    "ranking_report = log_ranking_metrics(args, eval_df)"
   ]
  },
  {
   "cell_type": "markdown",
   "id": "b3eb2dbc-864b-4f5c-8361-901f090363ff",
   "metadata": {},
   "source": [
    "## Classification metrics"
   ]
  },
  {
   "cell_type": "code",
   "execution_count": 27,
   "id": "e37258b7-d439-48bd-8380-8cf239cb5f3f",
   "metadata": {},
   "outputs": [],
   "source": [
    "val_user_indices = val_df[\"user_indice\"].values\n",
    "val_item_indices = val_df[\"item_indice\"].values"
   ]
  },
  {
   "cell_type": "code",
   "execution_count": 28,
   "id": "bc7a8dfa-dea6-459e-b9cd-000ba18cdc45",
   "metadata": {},
   "outputs": [],
   "source": [
    "classifications = model.predict(val_user_indices, val_item_indices)"
   ]
  },
  {
   "cell_type": "code",
   "execution_count": 29,
   "id": "736db564-303a-4d6a-a1f6-3c274c698826",
   "metadata": {
    "scrolled": true
   },
   "outputs": [
    {
     "data": {
      "text/html": [
       "<div>\n",
       "<style scoped>\n",
       "    .dataframe tbody tr th:only-of-type {\n",
       "        vertical-align: middle;\n",
       "    }\n",
       "\n",
       "    .dataframe tbody tr th {\n",
       "        vertical-align: top;\n",
       "    }\n",
       "\n",
       "    .dataframe thead th {\n",
       "        text-align: right;\n",
       "    }\n",
       "</style>\n",
       "<table border=\"1\" class=\"dataframe\">\n",
       "  <thead>\n",
       "    <tr style=\"text-align: right;\">\n",
       "      <th></th>\n",
       "      <th>user_id</th>\n",
       "      <th>parent_asin</th>\n",
       "      <th>rating</th>\n",
       "      <th>timestamp</th>\n",
       "      <th>user_indice</th>\n",
       "      <th>item_indice</th>\n",
       "      <th>main_category</th>\n",
       "      <th>title</th>\n",
       "      <th>description</th>\n",
       "      <th>categories</th>\n",
       "      <th>price</th>\n",
       "      <th>item_sequence</th>\n",
       "      <th>classification_proba</th>\n",
       "      <th>label</th>\n",
       "    </tr>\n",
       "  </thead>\n",
       "  <tbody>\n",
       "    <tr>\n",
       "      <th>0</th>\n",
       "      <td>AEWCUX5UKUYPDZJIOB6XMLCBJ3KA</td>\n",
       "      <td>B0BLFYF8K2</td>\n",
       "      <td>4.0</td>\n",
       "      <td>1630263342566</td>\n",
       "      <td>7087</td>\n",
       "      <td>3330</td>\n",
       "      <td>Computers</td>\n",
       "      <td>Logitech G600 MMO Gaming Mouse, RGB Backlit, 2...</td>\n",
       "      <td>[With 20 buttons, the Logitech G600 MMO Gaming...</td>\n",
       "      <td>[Video Games, PC, Accessories, Gaming Mice]</td>\n",
       "      <td>37.99</td>\n",
       "      <td>[1596, 1047, 3310, 2885, 1862, 1299, 4500, 209...</td>\n",
       "      <td>0.981448</td>\n",
       "      <td>1</td>\n",
       "    </tr>\n",
       "    <tr>\n",
       "      <th>1</th>\n",
       "      <td>AFFPVZ3JNCTQIKAK4XK37E2ENWWA</td>\n",
       "      <td>B00HVBPRUO</td>\n",
       "      <td>4.0</td>\n",
       "      <td>1655428133046</td>\n",
       "      <td>4199</td>\n",
       "      <td>3721</td>\n",
       "      <td>Video Games</td>\n",
       "      <td>Gold Wireless Stereo Headset - PlayStation 4</td>\n",
       "      <td>[A Headset for Gamers: Experience everything f...</td>\n",
       "      <td>[Video Games, PlayStation 4, Accessories, Head...</td>\n",
       "      <td>None</td>\n",
       "      <td>[-1, -1, 3810, 3019, 1158, 1714, 98, 309, 2291...</td>\n",
       "      <td>0.989572</td>\n",
       "      <td>1</td>\n",
       "    </tr>\n",
       "    <tr>\n",
       "      <th>2</th>\n",
       "      <td>AHAIICWIZT6PYSS5QJNFYP6ZXLCA</td>\n",
       "      <td>B001EYUPJW</td>\n",
       "      <td>0.0</td>\n",
       "      <td>1628811542081</td>\n",
       "      <td>18270</td>\n",
       "      <td>3274</td>\n",
       "      <td>Video Games</td>\n",
       "      <td>Def Jam Fight for NY - Gamecube (Gold)</td>\n",
       "      <td>[The ultimate hip-hop fueled fighting game, De...</td>\n",
       "      <td>[Video Games, Legacy Systems, Nintendo Systems...</td>\n",
       "      <td>349.97</td>\n",
       "      <td>[2245, 705, 3089, 4462, 3922, 2808, 3476, 3558...</td>\n",
       "      <td>0.880797</td>\n",
       "      <td>0</td>\n",
       "    </tr>\n",
       "    <tr>\n",
       "      <th>3</th>\n",
       "      <td>AF2AAA4CWRVF2IYVE7WB6OOIEMFA</td>\n",
       "      <td>B072C3VM5F</td>\n",
       "      <td>0.0</td>\n",
       "      <td>1635286957988</td>\n",
       "      <td>10410</td>\n",
       "      <td>4179</td>\n",
       "      <td>Video Games</td>\n",
       "      <td>Far Cry 5 Gold Edition - Xbox One [Digital Code]</td>\n",
       "      <td>[]</td>\n",
       "      <td>[Video Games, Xbox One, Games]</td>\n",
       "      <td>None</td>\n",
       "      <td>[-1, -1, -1, -1, 1690, 431, 720, 742, 1885, 2711]</td>\n",
       "      <td>0.993307</td>\n",
       "      <td>0</td>\n",
       "    </tr>\n",
       "    <tr>\n",
       "      <th>4</th>\n",
       "      <td>AFBRTNVOROW7UVA66UPX5YCFC6MQ</td>\n",
       "      <td>B07YBXFDYK</td>\n",
       "      <td>3.0</td>\n",
       "      <td>1636189764550</td>\n",
       "      <td>9102</td>\n",
       "      <td>2986</td>\n",
       "      <td>Video Games</td>\n",
       "      <td>The Evil Within 2 - PlayStation 4</td>\n",
       "      <td>[From Shinji Mikami, The Evil Within 2 takes t...</td>\n",
       "      <td>[Video Games, PlayStation 4, Games]</td>\n",
       "      <td>20.98</td>\n",
       "      <td>[-1, -1, -1, -1, 1853, 195, 4616, 1777, 4654, ...</td>\n",
       "      <td>0.992385</td>\n",
       "      <td>1</td>\n",
       "    </tr>\n",
       "    <tr>\n",
       "      <th>...</th>\n",
       "      <td>...</td>\n",
       "      <td>...</td>\n",
       "      <td>...</td>\n",
       "      <td>...</td>\n",
       "      <td>...</td>\n",
       "      <td>...</td>\n",
       "      <td>...</td>\n",
       "      <td>...</td>\n",
       "      <td>...</td>\n",
       "      <td>...</td>\n",
       "      <td>...</td>\n",
       "      <td>...</td>\n",
       "      <td>...</td>\n",
       "      <td>...</td>\n",
       "    </tr>\n",
       "    <tr>\n",
       "      <th>1893</th>\n",
       "      <td>AGNZODFXG6WNNJUAKR3MI42SDG5A</td>\n",
       "      <td>B0B8RG61GK</td>\n",
       "      <td>0.0</td>\n",
       "      <td>1642617264556</td>\n",
       "      <td>10449</td>\n",
       "      <td>3436</td>\n",
       "      <td>Computers</td>\n",
       "      <td>Fast Charging Cable for Switch/Switch Lite/Swi...</td>\n",
       "      <td>[Dimensions:, Length: 9.8 Feet/3 Meters]</td>\n",
       "      <td>[Video Games, Legacy Systems, Nintendo Systems...</td>\n",
       "      <td>9.89</td>\n",
       "      <td>[-1, -1, -1, -1, 2074, 1310, 3877, 184, 2952, ...</td>\n",
       "      <td>0.500000</td>\n",
       "      <td>0</td>\n",
       "    </tr>\n",
       "    <tr>\n",
       "      <th>1894</th>\n",
       "      <td>AHA6LZWVG2U4WBXNZRWCESNJXNUA</td>\n",
       "      <td>B002JTX87C</td>\n",
       "      <td>0.0</td>\n",
       "      <td>1646645847748</td>\n",
       "      <td>16655</td>\n",
       "      <td>380</td>\n",
       "      <td>Video Games</td>\n",
       "      <td>Scooby Doo! First Frights NDS</td>\n",
       "      <td>[Product Description, In Scooby-Doo! First Fri...</td>\n",
       "      <td>[Video Games, Legacy Systems, Nintendo Systems...</td>\n",
       "      <td>43.77</td>\n",
       "      <td>[1208, 1088, 3365, 4287, 3679, 4048, 2351, 197...</td>\n",
       "      <td>0.988464</td>\n",
       "      <td>0</td>\n",
       "    </tr>\n",
       "    <tr>\n",
       "      <th>1895</th>\n",
       "      <td>AFH63KLSVQQYRNFS7NLQGD3GSP3A</td>\n",
       "      <td>B094YHB1QK</td>\n",
       "      <td>5.0</td>\n",
       "      <td>1652564728981</td>\n",
       "      <td>11656</td>\n",
       "      <td>4503</td>\n",
       "      <td>Video Games</td>\n",
       "      <td>PlayStation DualSense Wireless Controller – Ga...</td>\n",
       "      <td>[Plot a course for astronomical adventures on ...</td>\n",
       "      <td>[Video Games, PlayStation 5, Accessories, Cont...</td>\n",
       "      <td>74.99</td>\n",
       "      <td>[-1, 2159, 3248, 48, 445, 4343, 584, 907, 4155...</td>\n",
       "      <td>0.731059</td>\n",
       "      <td>1</td>\n",
       "    </tr>\n",
       "    <tr>\n",
       "      <th>1896</th>\n",
       "      <td>AFPPTJOEUPVXA5C63SNRGID3EQNA</td>\n",
       "      <td>B0BVVTQ5JP</td>\n",
       "      <td>4.0</td>\n",
       "      <td>1635968491390</td>\n",
       "      <td>1562</td>\n",
       "      <td>4543</td>\n",
       "      <td>Computers</td>\n",
       "      <td>Logitech G502 HERO High Performance Wired Gami...</td>\n",
       "      <td>[Logitech updated its iconic G502 gaming mouse...</td>\n",
       "      <td>[Video Games, PC, Accessories, Gaming Mice]</td>\n",
       "      <td>45.87</td>\n",
       "      <td>[-1, -1, -1, -1, -1, 4507, 1351, 132, 4660, 1979]</td>\n",
       "      <td>0.980681</td>\n",
       "      <td>1</td>\n",
       "    </tr>\n",
       "    <tr>\n",
       "      <th>1897</th>\n",
       "      <td>AHAKU6TTWIHJPZIODW7MGC52M2DA</td>\n",
       "      <td>B06Y2GDXMC</td>\n",
       "      <td>5.0</td>\n",
       "      <td>1639190433307</td>\n",
       "      <td>14319</td>\n",
       "      <td>2165</td>\n",
       "      <td>Video Games</td>\n",
       "      <td>HTC Vive Deluxe Audio Strap</td>\n",
       "      <td>[The Vive Deluxe Audio Strap provides integrat...</td>\n",
       "      <td>[Video Games, PC, Virtual Reality, Accessories]</td>\n",
       "      <td>66.64</td>\n",
       "      <td>[-1, -1, 4656, 3883, 649, 360, 414, 2814, 2071...</td>\n",
       "      <td>0.987778</td>\n",
       "      <td>1</td>\n",
       "    </tr>\n",
       "  </tbody>\n",
       "</table>\n",
       "<p>1898 rows × 14 columns</p>\n",
       "</div>"
      ],
      "text/plain": [
       "                           user_id parent_asin  rating      timestamp  \\\n",
       "0     AEWCUX5UKUYPDZJIOB6XMLCBJ3KA  B0BLFYF8K2     4.0  1630263342566   \n",
       "1     AFFPVZ3JNCTQIKAK4XK37E2ENWWA  B00HVBPRUO     4.0  1655428133046   \n",
       "2     AHAIICWIZT6PYSS5QJNFYP6ZXLCA  B001EYUPJW     0.0  1628811542081   \n",
       "3     AF2AAA4CWRVF2IYVE7WB6OOIEMFA  B072C3VM5F     0.0  1635286957988   \n",
       "4     AFBRTNVOROW7UVA66UPX5YCFC6MQ  B07YBXFDYK     3.0  1636189764550   \n",
       "...                            ...         ...     ...            ...   \n",
       "1893  AGNZODFXG6WNNJUAKR3MI42SDG5A  B0B8RG61GK     0.0  1642617264556   \n",
       "1894  AHA6LZWVG2U4WBXNZRWCESNJXNUA  B002JTX87C     0.0  1646645847748   \n",
       "1895  AFH63KLSVQQYRNFS7NLQGD3GSP3A  B094YHB1QK     5.0  1652564728981   \n",
       "1896  AFPPTJOEUPVXA5C63SNRGID3EQNA  B0BVVTQ5JP     4.0  1635968491390   \n",
       "1897  AHAKU6TTWIHJPZIODW7MGC52M2DA  B06Y2GDXMC     5.0  1639190433307   \n",
       "\n",
       "      user_indice  item_indice main_category  \\\n",
       "0            7087         3330     Computers   \n",
       "1            4199         3721   Video Games   \n",
       "2           18270         3274   Video Games   \n",
       "3           10410         4179   Video Games   \n",
       "4            9102         2986   Video Games   \n",
       "...           ...          ...           ...   \n",
       "1893        10449         3436     Computers   \n",
       "1894        16655          380   Video Games   \n",
       "1895        11656         4503   Video Games   \n",
       "1896         1562         4543     Computers   \n",
       "1897        14319         2165   Video Games   \n",
       "\n",
       "                                                  title  \\\n",
       "0     Logitech G600 MMO Gaming Mouse, RGB Backlit, 2...   \n",
       "1          Gold Wireless Stereo Headset - PlayStation 4   \n",
       "2                Def Jam Fight for NY - Gamecube (Gold)   \n",
       "3      Far Cry 5 Gold Edition - Xbox One [Digital Code]   \n",
       "4                     The Evil Within 2 - PlayStation 4   \n",
       "...                                                 ...   \n",
       "1893  Fast Charging Cable for Switch/Switch Lite/Swi...   \n",
       "1894                      Scooby Doo! First Frights NDS   \n",
       "1895  PlayStation DualSense Wireless Controller – Ga...   \n",
       "1896  Logitech G502 HERO High Performance Wired Gami...   \n",
       "1897                        HTC Vive Deluxe Audio Strap   \n",
       "\n",
       "                                            description  \\\n",
       "0     [With 20 buttons, the Logitech G600 MMO Gaming...   \n",
       "1     [A Headset for Gamers: Experience everything f...   \n",
       "2     [The ultimate hip-hop fueled fighting game, De...   \n",
       "3                                                    []   \n",
       "4     [From Shinji Mikami, The Evil Within 2 takes t...   \n",
       "...                                                 ...   \n",
       "1893           [Dimensions:, Length: 9.8 Feet/3 Meters]   \n",
       "1894  [Product Description, In Scooby-Doo! First Fri...   \n",
       "1895  [Plot a course for astronomical adventures on ...   \n",
       "1896  [Logitech updated its iconic G502 gaming mouse...   \n",
       "1897  [The Vive Deluxe Audio Strap provides integrat...   \n",
       "\n",
       "                                             categories   price  \\\n",
       "0           [Video Games, PC, Accessories, Gaming Mice]   37.99   \n",
       "1     [Video Games, PlayStation 4, Accessories, Head...    None   \n",
       "2     [Video Games, Legacy Systems, Nintendo Systems...  349.97   \n",
       "3                        [Video Games, Xbox One, Games]    None   \n",
       "4                   [Video Games, PlayStation 4, Games]   20.98   \n",
       "...                                                 ...     ...   \n",
       "1893  [Video Games, Legacy Systems, Nintendo Systems...    9.89   \n",
       "1894  [Video Games, Legacy Systems, Nintendo Systems...   43.77   \n",
       "1895  [Video Games, PlayStation 5, Accessories, Cont...   74.99   \n",
       "1896        [Video Games, PC, Accessories, Gaming Mice]   45.87   \n",
       "1897    [Video Games, PC, Virtual Reality, Accessories]   66.64   \n",
       "\n",
       "                                          item_sequence  classification_proba  \\\n",
       "0     [1596, 1047, 3310, 2885, 1862, 1299, 4500, 209...              0.981448   \n",
       "1     [-1, -1, 3810, 3019, 1158, 1714, 98, 309, 2291...              0.989572   \n",
       "2     [2245, 705, 3089, 4462, 3922, 2808, 3476, 3558...              0.880797   \n",
       "3     [-1, -1, -1, -1, 1690, 431, 720, 742, 1885, 2711]              0.993307   \n",
       "4     [-1, -1, -1, -1, 1853, 195, 4616, 1777, 4654, ...              0.992385   \n",
       "...                                                 ...                   ...   \n",
       "1893  [-1, -1, -1, -1, 2074, 1310, 3877, 184, 2952, ...              0.500000   \n",
       "1894  [1208, 1088, 3365, 4287, 3679, 4048, 2351, 197...              0.988464   \n",
       "1895  [-1, 2159, 3248, 48, 445, 4343, 584, 907, 4155...              0.731059   \n",
       "1896  [-1, -1, -1, -1, -1, 4507, 1351, 132, 4660, 1979]              0.980681   \n",
       "1897  [-1, -1, 4656, 3883, 649, 360, 414, 2814, 2071...              0.987778   \n",
       "\n",
       "      label  \n",
       "0         1  \n",
       "1         1  \n",
       "2         0  \n",
       "3         0  \n",
       "4         1  \n",
       "...     ...  \n",
       "1893      0  \n",
       "1894      0  \n",
       "1895      1  \n",
       "1896      1  \n",
       "1897      1  \n",
       "\n",
       "[1898 rows x 14 columns]"
      ]
     },
     "execution_count": 29,
     "metadata": {},
     "output_type": "execute_result"
    }
   ],
   "source": [
    "eval_classification_df = val_df.assign(\n",
    "    classification_proba=classifications,\n",
    "    label=lambda df: df[args.rating_col].gt(0).astype(int),\n",
    ")\n",
    "eval_classification_df"
   ]
  },
  {
   "cell_type": "code",
   "execution_count": 30,
   "id": "a2aa9621-2567-4ab9-aa6e-04a37dbe01d4",
   "metadata": {},
   "outputs": [
    {
     "name": "stderr",
     "output_type": "stream",
     "text": [
      "/Users/dvq/frostmourne/reco-algo/.venv/lib/python3.11/site-packages/sklearn/metrics/_classification.py:1531: UndefinedMetricWarning:\n",
      "\n",
      "Precision is ill-defined and being set to 0.0 in labels with no predicted samples. Use `zero_division` parameter to control this behavior.\n",
      "\n",
      "/Users/dvq/frostmourne/reco-algo/.venv/lib/python3.11/site-packages/sklearn/metrics/_classification.py:1531: UndefinedMetricWarning:\n",
      "\n",
      "Precision is ill-defined and being set to 0.0 in labels with no predicted samples. Use `zero_division` parameter to control this behavior.\n",
      "\n",
      "/Users/dvq/frostmourne/reco-algo/.venv/lib/python3.11/site-packages/sklearn/metrics/_classification.py:1531: UndefinedMetricWarning:\n",
      "\n",
      "Precision is ill-defined and being set to 0.0 in labels with no predicted samples. Use `zero_division` parameter to control this behavior.\n",
      "\n"
     ]
    }
   ],
   "source": [
    "classification_report = log_classification_metrics(\n",
    "    args,\n",
    "    eval_classification_df,\n",
    "    target_col=\"label\",\n",
    "    prediction_col=\"classification_proba\",\n",
    ")"
   ]
  },
  {
   "cell_type": "markdown",
   "id": "065874f8-8657-4207-91ec-ee7668be92aa",
   "metadata": {},
   "source": [
    "# Clean up"
   ]
  },
  {
   "cell_type": "code",
   "execution_count": 31,
   "id": "fbe3b58e-1e9e-4acd-9c02-f8345db258dd",
   "metadata": {},
   "outputs": [
    {
     "name": "stderr",
     "output_type": "stream",
     "text": [
      "2024/10/18 17:00:53 INFO mlflow.tracking._tracking_service.client: 🏃 View run 002-cf-u2u at: http://localhost:5003/#/experiments/1/runs/21a9d4d864744c7b96db4fe276a909b1.\n",
      "2024/10/18 17:00:53 INFO mlflow.tracking._tracking_service.client: 🧪 View experiment at: http://localhost:5003/#/experiments/1.\n"
     ]
    }
   ],
   "source": [
    "all_params = [args]\n",
    "\n",
    "if args.log_to_mlflow:\n",
    "    for params in all_params:\n",
    "        params_dict = params.dict()\n",
    "        params_ = {f\"{params.__repr_name__()}.{k}\": v for k, v in params_dict.items()}\n",
    "        mlflow.log_params(params_)\n",
    "\n",
    "    mlflow.end_run()"
   ]
  },
  {
   "cell_type": "markdown",
   "id": "89b93184-99b2-40bc-9dd0-1a12640b3a27",
   "metadata": {
    "editable": true,
    "jp-MarkdownHeadingCollapsed": true,
    "slideshow": {
     "slide_type": ""
    },
    "tags": []
   },
   "source": [
    "# Appendix"
   ]
  },
  {
   "cell_type": "markdown",
   "id": "2b75e9d9-1335-4cdb-b24b-fa230a82cd63",
   "metadata": {},
   "source": [
    "## Model returning same score for every user-item in top 100"
   ]
  },
  {
   "cell_type": "raw",
   "id": "9b132834-ed36-4770-97d9-609f242f559b",
   "metadata": {},
   "source": [
    "tmp = model.predict([10] * n_items, np.arange(n_items))"
   ]
  },
  {
   "cell_type": "raw",
   "id": "d2238e63-2a67-417d-be66-cc8adc15f35a",
   "metadata": {},
   "source": [
    "pd.Series(tmp).value_counts()"
   ]
  },
  {
   "cell_type": "raw",
   "id": "1a3d6c47-2c68-4d10-ab8c-85b3b22293a2",
   "metadata": {},
   "source": [
    "model.forward(9, 4691, debug=False)"
   ]
  },
  {
   "cell_type": "raw",
   "id": "d5a057f5-46f6-4532-b6d8-940553fc3fea",
   "metadata": {},
   "source": []
  }
 ],
 "metadata": {
  "kernelspec": {
   "display_name": "Python 3 (ipykernel)",
   "language": "python",
   "name": "python3"
  },
  "language_info": {
   "codemirror_mode": {
    "name": "ipython",
    "version": 3
   },
   "file_extension": ".py",
   "mimetype": "text/x-python",
   "name": "python",
   "nbconvert_exporter": "python",
   "pygments_lexer": "ipython3",
   "version": "3.11.9"
  }
 },
 "nbformat": 4,
 "nbformat_minor": 5
}
