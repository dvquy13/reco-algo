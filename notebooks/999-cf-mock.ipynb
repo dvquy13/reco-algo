{
 "cells": [
  {
   "cell_type": "markdown",
   "id": "544aa34c-e391-4a68-965e-8da9deb10238",
   "metadata": {},
   "source": [
    "# Set up"
   ]
  },
  {
   "cell_type": "code",
   "execution_count": 2,
   "id": "35b3499d-dc9c-405a-8714-a26341b581e1",
   "metadata": {},
   "outputs": [],
   "source": [
    "import sys\n",
    "\n",
    "import numpy as np\n",
    "from dotenv import load_dotenv\n",
    "\n",
    "load_dotenv()\n",
    "\n",
    "sys.path.insert(0, \"..\")\n",
    "\n",
    "from src.math_utils import sigmoid\n",
    "from src.model import Item2ItemCollaborativeFiltering, User2UserCollaborativeFiltering"
   ]
  },
  {
   "cell_type": "markdown",
   "id": "377a71da-1ee3-474c-b3f4-4488d2a45dd3",
   "metadata": {},
   "source": [
    "# U2U"
   ]
  },
  {
   "cell_type": "code",
   "execution_count": 3,
   "id": "ce5326d7-ec9d-422c-bbd8-03c837a23e1e",
   "metadata": {
    "scrolled": true
   },
   "outputs": [
    {
     "name": "stdout",
     "output_type": "stream",
     "text": [
      "Mock User IDs: [0, 0, 0, 1, 1, 2, 2, 2, 3, 3]\n",
      "Mock Item IDs: [0, 2, 3, 1, 4, 0, 1, 2, 3, 4]\n",
      "Ratings: [5, 5, 5, 5, 5, 5, 5, 5, 5, 5]\n",
      "[0.5 0.5 0.5]\n"
     ]
    }
   ],
   "source": [
    "# Mock data\n",
    "user_indices = [0, 0, 0, 1, 1, 2, 2, 2, 3, 3]\n",
    "item_indices = [0, 2, 3, 1, 4, 0, 1, 2, 3, 4]\n",
    "ratings = [5, 5, 5, 5, 5, 5, 5, 5, 5, 5]\n",
    "n_users = len(set(user_indices))\n",
    "n_items = len(set(item_indices))\n",
    "\n",
    "val_user_indices = [0, 2, 1]\n",
    "val_item_indices = [1, 3, 2]\n",
    "val_ratings = [5, 5, 5]\n",
    "\n",
    "print(\"Mock User IDs:\", user_indices)\n",
    "print(\"Mock Item IDs:\", item_indices)\n",
    "print(\"Ratings:\", ratings)\n"
   ]
  },
  {
   "cell_type": "code",
   "execution_count": null,
   "id": "f71e6e93",
   "metadata": {},
   "outputs": [],
   "source": [
    "model = User2UserCollaborativeFiltering(n_users, n_items)\n",
    "\n",
    "users = val_user_indices\n",
    "items = val_item_indices\n",
    "predictions = model.predict(users, items)\n",
    "print(predictions)"
   ]
  },
  {
   "cell_type": "code",
   "execution_count": 4,
   "id": "28f926b4-1bb9-4552-825a-58b0a4389725",
   "metadata": {},
   "outputs": [
    {
     "name": "stdout",
     "output_type": "stream",
     "text": [
      "[0.99330715 0.99330715 0.99330715]\n"
     ]
    }
   ],
   "source": [
    "model.fit(user_indices, item_indices, ratings)\n",
    "predictions = model.predict(users, items)\n",
    "print(predictions)"
   ]
  },
  {
   "cell_type": "markdown",
   "id": "fa774082-5c93-42e8-b076-e462df08db90",
   "metadata": {},
   "source": [
    "#### 🧐 Go into details"
   ]
  },
  {
   "cell_type": "code",
   "execution_count": 5,
   "id": "15903bdd-0846-4588-9a8f-584d8f523ce0",
   "metadata": {},
   "outputs": [
    {
     "data": {
      "text/plain": [
       "array([[5., 0., 5., 5., 0.],\n",
       "       [0., 5., 0., 0., 5.],\n",
       "       [5., 5., 5., 0., 0.],\n",
       "       [0., 0., 0., 5., 5.]])"
      ]
     },
     "execution_count": 5,
     "metadata": {},
     "output_type": "execute_result"
    }
   ],
   "source": [
    "model.user_item_matrix"
   ]
  },
  {
   "cell_type": "code",
   "execution_count": 6,
   "id": "496f9749-183a-478d-a624-16ed59c9818f",
   "metadata": {},
   "outputs": [
    {
     "data": {
      "text/plain": [
       "array([[0.        , 0.        , 0.66666667, 0.40824829],\n",
       "       [0.        , 0.        , 0.40824829, 0.5       ],\n",
       "       [0.66666667, 0.40824829, 0.        , 0.        ],\n",
       "       [0.40824829, 0.5       , 0.        , 0.        ]])"
      ]
     },
     "execution_count": 6,
     "metadata": {},
     "output_type": "execute_result"
    }
   ],
   "source": [
    "model.user_similarity"
   ]
  },
  {
   "cell_type": "code",
   "execution_count": 7,
   "id": "8d434a72-4f4e-49ea-98ea-31e6a539e4e0",
   "metadata": {},
   "outputs": [
    {
     "name": "stdout",
     "output_type": "stream",
     "text": [
      "sim_scores=array([0.        , 0.        , 0.66666667, 0.40824829])\n"
     ]
    }
   ],
   "source": [
    "# Inspect one example\n",
    "user = 0\n",
    "item = 1\n",
    "\n",
    "sim_scores = model.user_similarity[user]\n",
    "print(f\"{sim_scores=}\")"
   ]
  },
  {
   "cell_type": "code",
   "execution_count": 8,
   "id": "4a44f130-422c-47d6-8e62-1913e3afdc9f",
   "metadata": {},
   "outputs": [
    {
     "name": "stdout",
     "output_type": "stream",
     "text": [
      "user_ratings=array([0., 5., 5., 0.])\n",
      "sim_scores=array([0.        , 0.66666667])\n",
      "user_ratings=array([5., 5.])\n"
     ]
    }
   ],
   "source": [
    "# Only consider users who have rated the item\n",
    "user_ratings = model.user_item_matrix[:, item]\n",
    "print(f\"{user_ratings=}\")\n",
    "sim_scores = sim_scores[user_ratings != 0]\n",
    "print(f\"{sim_scores=}\")\n",
    "user_ratings = user_ratings[user_ratings != 0]\n",
    "print(f\"{user_ratings=}\")"
   ]
  },
  {
   "cell_type": "code",
   "execution_count": 9,
   "id": "5c4af833-c0e2-4ac9-8f54-84dca24799e8",
   "metadata": {},
   "outputs": [
    {
     "name": "stdout",
     "output_type": "stream",
     "text": [
      "Weighted average: 3.333333333333333\n",
      "Normalization factor: 0.6666666666666666\n",
      "Predicted rating: 5.0\n",
      "Predicted rating - sigmoid: 0.9933071490757153\n"
     ]
    }
   ],
   "source": [
    "# Weighted average of ratings\n",
    "print(f\"Weighted average: {np.dot(sim_scores, user_ratings)}\")\n",
    "print(f\"Normalization factor: {np.sum(sim_scores)}\")\n",
    "print(f\"Predicted rating: {np.dot(sim_scores, user_ratings) / np.sum(sim_scores)}\")\n",
    "print(\n",
    "    f\"Predicted rating - sigmoid: {sigmoid(np.dot(sim_scores, user_ratings) / np.sum(sim_scores))}\"\n",
    ")"
   ]
  },
  {
   "cell_type": "code",
   "execution_count": 11,
   "id": "aba0db41-990a-4012-87e7-e25bef99699c",
   "metadata": {},
   "outputs": [
    {
     "data": {
      "application/vnd.jupyter.widget-view+json": {
       "model_id": "f357153fda4a4759b0f2d1f4563a1716",
       "version_major": 2,
       "version_minor": 0
      },
      "text/plain": [
       "Generating recommendations:   0%|          | 0/3 [00:00<?, ?it/s]"
      ]
     },
     "metadata": {},
     "output_type": "display_data"
    }
   ],
   "source": [
    "recommendations = model.recommend(val_user_indices, k=2)"
   ]
  },
  {
   "cell_type": "code",
   "execution_count": 12,
   "id": "75c875dd-6431-4a71-9fec-b61e03905217",
   "metadata": {
    "scrolled": true
   },
   "outputs": [
    {
     "data": {
      "text/plain": [
       "{'user_indice': [np.int64(0),\n",
       "  np.int64(0),\n",
       "  np.int64(2),\n",
       "  np.int64(2),\n",
       "  np.int64(1),\n",
       "  np.int64(1)],\n",
       " 'recommendation': [np.int64(4),\n",
       "  np.int64(3),\n",
       "  np.int64(4),\n",
       "  np.int64(3),\n",
       "  np.int64(4),\n",
       "  np.int64(3)],\n",
       " 'score': [np.float64(0.9933071490757153),\n",
       "  np.float64(0.9933071490757153),\n",
       "  np.float64(0.9933071490757153),\n",
       "  np.float64(0.9933071490757153),\n",
       "  np.float64(0.9933071490757153),\n",
       "  np.float64(0.9933071490757153)]}"
      ]
     },
     "execution_count": 12,
     "metadata": {},
     "output_type": "execute_result"
    }
   ],
   "source": [
    "recommendations"
   ]
  },
  {
   "cell_type": "markdown",
   "id": "a5be4aaa-8af9-4e8f-8b15-24ed15be54de",
   "metadata": {},
   "source": [
    "# I2I"
   ]
  },
  {
   "cell_type": "code",
   "execution_count": 13,
   "id": "bff067e1-f904-4a25-91be-00521f82bd36",
   "metadata": {
    "scrolled": true
   },
   "outputs": [
    {
     "name": "stdout",
     "output_type": "stream",
     "text": [
      "Mock User IDs: [0, 0, 0, 1, 1, 2, 2, 2, 3, 3]\n",
      "Mock Item IDs: [0, 2, 3, 1, 4, 0, 1, 2, 3, 4]\n",
      "Ratings: [5, 5, 5, 5, 5, 5, 5, 5, 5, 5]\n",
      "[0.5 0.5 0.5]\n"
     ]
    }
   ],
   "source": [
    "print(\"Mock User IDs:\", user_indices)\n",
    "print(\"Mock Item IDs:\", item_indices)\n",
    "print(\"Ratings:\", ratings)\n",
    "\n",
    "model = Item2ItemCollaborativeFiltering(n_users, n_items)\n",
    "\n",
    "predictions = model.predict(users, items)\n",
    "print(predictions)"
   ]
  },
  {
   "cell_type": "code",
   "execution_count": 14,
   "id": "9f350ca4-a211-4d48-bbaa-ff66c6ec098b",
   "metadata": {},
   "outputs": [
    {
     "name": "stdout",
     "output_type": "stream",
     "text": [
      "[0.99330715 0.99330715 0.99330715]\n"
     ]
    }
   ],
   "source": [
    "model.fit(user_indices, item_indices, ratings)\n",
    "predictions = model.predict(users, items)\n",
    "print(predictions)"
   ]
  },
  {
   "cell_type": "markdown",
   "id": "0ac657bb-2fa6-4335-98da-b8c9eaf3326d",
   "metadata": {},
   "source": [
    "#### 🧐 Go into details"
   ]
  },
  {
   "cell_type": "code",
   "execution_count": 15,
   "id": "811cc948-bde1-41d2-b11a-8519a11ef6e5",
   "metadata": {},
   "outputs": [
    {
     "data": {
      "text/plain": [
       "array([[5., 0., 5., 5., 0.],\n",
       "       [0., 5., 0., 0., 5.],\n",
       "       [5., 5., 5., 0., 0.],\n",
       "       [0., 0., 0., 5., 5.]])"
      ]
     },
     "execution_count": 15,
     "metadata": {},
     "output_type": "execute_result"
    }
   ],
   "source": [
    "model.user_item_matrix"
   ]
  },
  {
   "cell_type": "code",
   "execution_count": 16,
   "id": "b342ac6b-252e-433e-8b53-15e9dd3dba3c",
   "metadata": {},
   "outputs": [
    {
     "data": {
      "text/plain": [
       "array([[0. , 0.5, 1. , 0.5, 0. ],\n",
       "       [0.5, 0. , 0.5, 0. , 0.5],\n",
       "       [1. , 0.5, 0. , 0.5, 0. ],\n",
       "       [0.5, 0. , 0.5, 0. , 0.5],\n",
       "       [0. , 0.5, 0. , 0.5, 0. ]])"
      ]
     },
     "execution_count": 16,
     "metadata": {},
     "output_type": "execute_result"
    }
   ],
   "source": [
    "model.item_similarity"
   ]
  },
  {
   "cell_type": "code",
   "execution_count": null,
   "id": "2e2671a1-5a78-4c99-bf6f-c7d0c6395d7b",
   "metadata": {},
   "outputs": [],
   "source": []
  }
 ],
 "metadata": {
  "kernelspec": {
   "display_name": "Python 3 (ipykernel)",
   "language": "python",
   "name": "python3"
  },
  "language_info": {
   "codemirror_mode": {
    "name": "ipython",
    "version": 3
   },
   "file_extension": ".py",
   "mimetype": "text/x-python",
   "name": "python",
   "nbconvert_exporter": "python",
   "pygments_lexer": "ipython3",
   "version": "3.11.9"
  }
 },
 "nbformat": 4,
 "nbformat_minor": 5
}
