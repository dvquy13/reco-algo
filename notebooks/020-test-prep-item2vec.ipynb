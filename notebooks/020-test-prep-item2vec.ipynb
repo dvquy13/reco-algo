{
 "cells": [
  {
   "cell_type": "markdown",
   "id": "9327920e-f1b7-4dc6-9378-9b009eccd9c2",
   "metadata": {},
   "source": [
    "# Build sequence data loaders for Skip Gram"
   ]
  },
  {
   "cell_type": "markdown",
   "id": "32a6ffed-14dc-4c14-9758-000201389036",
   "metadata": {},
   "source": [
    "# Set up"
   ]
  },
  {
   "cell_type": "code",
   "execution_count": 1,
   "id": "8e7b8b86-b92f-4c06-92eb-718be5a66d85",
   "metadata": {},
   "outputs": [],
   "source": [
    "%load_ext autoreload\n",
    "%autoreload 2"
   ]
  },
  {
   "cell_type": "code",
   "execution_count": 2,
   "id": "1e9436e1-1542-452e-9f0c-d621591ed7cc",
   "metadata": {},
   "outputs": [],
   "source": [
    "import json\n",
    "import sys\n",
    "import string\n",
    "\n",
    "import pandas as pd\n",
    "from loguru import logger\n",
    "from pydantic import BaseModel\n",
    "from torch.utils.data import DataLoader\n",
    "from tqdm.auto import tqdm\n",
    "\n",
    "sys.path.insert(0, \"..\")\n",
    "from src.skipgram.dataset import SkipGramDataset\n",
    "from src.id_mapper import IDMapper"
   ]
  },
  {
   "cell_type": "markdown",
   "id": "3719ad7c-84b1-4c85-bf35-4cb016a923e3",
   "metadata": {},
   "source": [
    "# Controller"
   ]
  },
  {
   "cell_type": "code",
   "execution_count": 3,
   "id": "14a7f8d7-cdbe-4e1e-809f-adfbcb3cd3f1",
   "metadata": {},
   "outputs": [
    {
     "name": "stdout",
     "output_type": "stream",
     "text": [
      "{\n",
      "  \"num_negative_samples\": 5,\n",
      "  \"window_size\": 1,\n",
      "  \"batch_size\": 16,\n",
      "  \"user_col\": \"user_id\",\n",
      "  \"item_col\": \"parent_asin\"\n",
      "}\n"
     ]
    }
   ],
   "source": [
    "class Args(BaseModel):\n",
    "    num_negative_samples: int = 5\n",
    "    window_size: int = 1\n",
    "    batch_size: int = 16\n",
    "\n",
    "    user_col: str = \"user_id\"\n",
    "    item_col: str = \"parent_asin\"\n",
    "\n",
    "\n",
    "args = Args()\n",
    "print(args.model_dump_json(indent=2))"
   ]
  },
  {
   "cell_type": "markdown",
   "id": "03ff335f-42ef-4364-987c-06536f275f1e",
   "metadata": {},
   "source": [
    "# Test implementation"
   ]
  },
  {
   "cell_type": "code",
   "execution_count": 4,
   "id": "b7b41cb9-bcdb-492b-a0b4-6ff53c9736f1",
   "metadata": {},
   "outputs": [
    {
     "name": "stderr",
     "output_type": "stream",
     "text": [
      "\u001b[32m2024-09-26 23:21:38.739\u001b[0m | \u001b[1mINFO    \u001b[0m | \u001b[36msrc.skipgram.dataset\u001b[0m:\u001b[36m__init__\u001b[0m:\u001b[36m59\u001b[0m - \u001b[1mProcessing sequences to build interaction data...\u001b[0m\n"
     ]
    },
    {
     "data": {
      "application/vnd.jupyter.widget-view+json": {
       "model_id": "55ee2faef7f44b3aa6f324e8ba3407b1",
       "version_major": 2,
       "version_minor": 0
      },
      "text/plain": [
       "Building interactions:   0%|          | 0/5 [00:00<?, ?it/s]"
      ]
     },
     "metadata": {},
     "output_type": "display_data"
    },
    {
     "name": "stderr",
     "output_type": "stream",
     "text": [
      "\u001b[32m2024-09-26 23:21:38.753\u001b[0m | \u001b[1mINFO    \u001b[0m | \u001b[36msrc.skipgram.dataset\u001b[0m:\u001b[36m__init__\u001b[0m:\u001b[36m59\u001b[0m - \u001b[1mProcessing sequences to build interaction data...\u001b[0m\n"
     ]
    },
    {
     "data": {
      "application/vnd.jupyter.widget-view+json": {
       "model_id": "0d68aaabb15840a7a22a29d130bd2ec6",
       "version_major": 2,
       "version_minor": 0
      },
      "text/plain": [
       "Building interactions:   0%|          | 0/3 [00:00<?, ?it/s]"
      ]
     },
     "metadata": {},
     "output_type": "display_data"
    },
    {
     "name": "stdout",
     "output_type": "stream",
     "text": [
      "tensor([0, 0, 0]) tensor([2, 6, 9]) tensor([1., 0., 0.])\n"
     ]
    }
   ],
   "source": [
    "# Example sequences of item IDs\n",
    "# sequences = [\n",
    "#     [1, 2, 3, 4, 0],\n",
    "#     [5, 1, 1, 1, 10],\n",
    "#     [6, 12, 10, 11, 7],\n",
    "#     [1, 2, 10],\n",
    "#     [9, 8, 2],\n",
    "# ]\n",
    "\n",
    "# val_sequences = [\n",
    "#     [5, 11, 12],\n",
    "#     [8, 7],\n",
    "#     [9, 4, 0]\n",
    "# ]\n",
    "\n",
    "sequences = [\n",
    "    [\"b\", \"c\", \"d\", \"e\", \"a\"],\n",
    "    [\"f\", \"b\", \"b\", \"b\", \"k\"],\n",
    "    [\"g\", \"m\", \"k\", \"l\", \"h\"],\n",
    "    [\"b\", \"c\", \"k\"],\n",
    "    [\"j\", \"i\", \"c\"],\n",
    "]\n",
    "\n",
    "val_sequences = [[\"f\", \"l\", \"m\"], [\"i\", \"h\"], [\"j\", \"e\", \"a\"]]\n",
    "\n",
    "# Simulate pre-configured id_to_idx mapper \n",
    "id_to_idx = {id_: idx for id_, idx in zip(list(string.ascii_letters[:13]), list(range(13)))}\n",
    "id_to_idx['a'] = 1\n",
    "id_to_idx['b'] = 0\n",
    "\n",
    "# Create dataset with frequency-based negative sampling\n",
    "dataset = SkipGramDataset(sequences, window_size=1, negative_samples=2, id_to_idx=id_to_idx)\n",
    "val_dataset = SkipGramDataset(\n",
    "    val_sequences,\n",
    "    interacted=dataset.interacted,\n",
    "    item_freq=dataset.item_freq,\n",
    "    window_size=1,\n",
    "    negative_samples=2,\n",
    "    id_to_idx=id_to_idx\n",
    ")\n",
    "\n",
    "# Example of getting an item\n",
    "inp = dataset[0]\n",
    "target_items = inp[\"target_items\"]\n",
    "context_items = inp[\"context_items\"]\n",
    "labels = inp[\"labels\"]\n",
    "print(target_items, context_items, labels)"
   ]
  },
  {
   "cell_type": "code",
   "execution_count": 5,
   "id": "5762d1bd-3fa6-4834-9c84-cd510b9b7966",
   "metadata": {},
   "outputs": [
    {
     "data": {
      "text/plain": [
       "{'a': 1,\n",
       " 'b': 0,\n",
       " 'c': 2,\n",
       " 'd': 3,\n",
       " 'e': 4,\n",
       " 'f': 5,\n",
       " 'g': 6,\n",
       " 'h': 7,\n",
       " 'i': 8,\n",
       " 'j': 9,\n",
       " 'k': 10,\n",
       " 'l': 11,\n",
       " 'm': 12}"
      ]
     },
     "execution_count": 5,
     "metadata": {},
     "output_type": "execute_result"
    }
   ],
   "source": [
    "dataset.id_to_idx"
   ]
  },
  {
   "cell_type": "code",
   "execution_count": 6,
   "id": "b0672310-b7f1-4585-b104-ba93c3cc6d44",
   "metadata": {
    "scrolled": true
   },
   "outputs": [
    {
     "data": {
      "text/plain": [
       "array([0.13537454, 0.05938764, 0.13537454, 0.05938764, 0.05938764,\n",
       "       0.05938764, 0.05938764, 0.05938764, 0.05938764, 0.05938764,\n",
       "       0.13537454, 0.05938764, 0.05938764])"
      ]
     },
     "execution_count": 6,
     "metadata": {},
     "output_type": "execute_result"
    }
   ],
   "source": [
    "dataset.sampling_probs"
   ]
  },
  {
   "cell_type": "code",
   "execution_count": 7,
   "id": "2bd363b7-c544-47b8-8c7b-2b17968567f9",
   "metadata": {},
   "outputs": [
    {
     "data": {
      "text/plain": [
       "defaultdict(set,\n",
       "            {0: {0, 1, 2, 3, 4, 5, 10},\n",
       "             1: {0, 1, 2, 3, 4},\n",
       "             2: {0, 1, 2, 3, 4, 8, 9, 10},\n",
       "             3: {0, 1, 2, 3, 4},\n",
       "             4: {0, 1, 2, 3, 4},\n",
       "             10: {0, 2, 5, 6, 7, 10, 11, 12},\n",
       "             5: {0, 5, 10},\n",
       "             6: {6, 7, 10, 11, 12},\n",
       "             7: {6, 7, 10, 11, 12},\n",
       "             11: {6, 7, 10, 11, 12},\n",
       "             12: {6, 7, 10, 11, 12},\n",
       "             8: {2, 8, 9},\n",
       "             9: {2, 8, 9}})"
      ]
     },
     "execution_count": 7,
     "metadata": {},
     "output_type": "execute_result"
    }
   ],
   "source": [
    "dataset.interacted"
   ]
  },
  {
   "cell_type": "code",
   "execution_count": 8,
   "id": "26b4120d-61e5-42df-917e-1cc4ef22e815",
   "metadata": {},
   "outputs": [
    {
     "name": "stdout",
     "output_type": "stream",
     "text": [
      "(tensor(0), tensor(2))\n",
      "(tensor(0), tensor(6))\n",
      "(tensor(0), tensor(9))\n"
     ]
    }
   ],
   "source": [
    "for i in zip(target_items, context_items):\n",
    "    print(i)"
   ]
  },
  {
   "cell_type": "code",
   "execution_count": 9,
   "id": "01a5c23c-bd60-4ed1-8f95-ff82ddf1875b",
   "metadata": {},
   "outputs": [
    {
     "data": {
      "text/plain": [
       "array([0.10225277, 0.07544086, 0.10225277, 0.0448574 , 0.07544086,\n",
       "       0.07544086, 0.0448574 , 0.07544086, 0.07544086, 0.07544086,\n",
       "       0.10225277, 0.07544086, 0.07544086])"
      ]
     },
     "execution_count": 9,
     "metadata": {},
     "output_type": "execute_result"
    }
   ],
   "source": [
    "val_dataset.sampling_probs"
   ]
  },
  {
   "cell_type": "code",
   "execution_count": 10,
   "id": "13c3144f-d88f-44bf-b3ab-64aedd5657bc",
   "metadata": {},
   "outputs": [
    {
     "data": {
      "text/plain": [
       "defaultdict(set,\n",
       "            {0: {0, 1, 2, 3, 4, 5, 10},\n",
       "             1: {0, 1, 2, 3, 4, 9},\n",
       "             2: {0, 1, 2, 3, 4, 8, 9, 10},\n",
       "             3: {0, 1, 2, 3, 4},\n",
       "             4: {0, 1, 2, 3, 4, 9},\n",
       "             10: {0, 2, 5, 6, 7, 10, 11, 12},\n",
       "             5: {0, 5, 10, 11, 12},\n",
       "             6: {6, 7, 10, 11, 12},\n",
       "             7: {6, 7, 8, 10, 11, 12},\n",
       "             11: {5, 6, 7, 10, 11, 12},\n",
       "             12: {5, 6, 7, 10, 11, 12},\n",
       "             8: {2, 7, 8, 9},\n",
       "             9: {1, 2, 4, 8, 9}})"
      ]
     },
     "execution_count": 10,
     "metadata": {},
     "output_type": "execute_result"
    }
   ],
   "source": [
    "val_dataset.interacted"
   ]
  },
  {
   "cell_type": "markdown",
   "id": "c1c908ef-d593-46e3-af40-836cb54bd2fe",
   "metadata": {},
   "source": [
    "## Test no conflicting labels"
   ]
  },
  {
   "cell_type": "code",
   "execution_count": 11,
   "id": "9b50a1df-1ee8-4534-bfd1-c7f17cfcc2ed",
   "metadata": {},
   "outputs": [],
   "source": [
    "dataloader = DataLoader(\n",
    "    dataset,\n",
    "    batch_size=args.batch_size,\n",
    "    shuffle=False,\n",
    "    drop_last=True,\n",
    "    collate_fn=dataset.collate_fn,\n",
    ")"
   ]
  },
  {
   "cell_type": "code",
   "execution_count": 12,
   "id": "de8a9e89-7bcb-4d8b-b7c4-63061e4a9877",
   "metadata": {
    "scrolled": true
   },
   "outputs": [
    {
     "data": {
      "application/vnd.jupyter.widget-view+json": {
       "model_id": "44f4c31b80bf49ccb1bb516fee5abf92",
       "version_major": 2,
       "version_minor": 0
      },
      "text/plain": [
       "  0%|          | 0/1 [00:00<?, ?it/s]"
      ]
     },
     "metadata": {},
     "output_type": "display_data"
    }
   ],
   "source": [
    "target_items = []\n",
    "context_items = []\n",
    "labels = []\n",
    "\n",
    "for i, batch_input in tqdm(enumerate(dataloader), total=len(dataloader)):\n",
    "    _target_items = batch_input[\"target_items\"].cpu().detach().numpy()\n",
    "    _context_items = batch_input[\"context_items\"].cpu().detach().numpy()\n",
    "    _labels = batch_input[\"labels\"].cpu().detach().numpy()\n",
    "\n",
    "    target_items.extend(_target_items)\n",
    "    context_items.extend(_context_items)\n",
    "    labels.extend(_labels)\n",
    "\n",
    "test_df = pd.DataFrame(\n",
    "    {\"target_items\": target_items, \"context_items\": context_items, \"labels\": labels}\n",
    ")\n",
    "assert (\n",
    "    test_df.groupby([\"target_items\", \"context_items\"])[\"labels\"]\n",
    "    .nunique()\n",
    "    .loc[lambda s: s > 1]\n",
    "    .shape[0]\n",
    "    == 0\n",
    "), \"Conflicting labels!\""
   ]
  },
  {
   "cell_type": "markdown",
   "id": "8795ca93-372d-43ca-9cea-bb76c67aabba",
   "metadata": {},
   "source": [
    "# Load data"
   ]
  },
  {
   "cell_type": "code",
   "execution_count": 13,
   "id": "494e14aa-03c1-47d8-8720-e82c12d3cc13",
   "metadata": {},
   "outputs": [],
   "source": [
    "train_df = pd.read_parquet(\"../data/train_features.parquet\")\n",
    "val_df = pd.read_parquet(\"../data/val_features.parquet\")\n",
    "idm = IDMapper().load(\"../data/idm.json\")"
   ]
  },
  {
   "cell_type": "code",
   "execution_count": 14,
   "id": "20a6ebd8-2da5-4647-8773-b1362ad29315",
   "metadata": {
    "scrolled": true
   },
   "outputs": [
    {
     "data": {
      "text/html": [
       "<div>\n",
       "<style scoped>\n",
       "    .dataframe tbody tr th:only-of-type {\n",
       "        vertical-align: middle;\n",
       "    }\n",
       "\n",
       "    .dataframe tbody tr th {\n",
       "        vertical-align: top;\n",
       "    }\n",
       "\n",
       "    .dataframe thead th {\n",
       "        text-align: right;\n",
       "    }\n",
       "</style>\n",
       "<table border=\"1\" class=\"dataframe\">\n",
       "  <thead>\n",
       "    <tr style=\"text-align: right;\">\n",
       "      <th></th>\n",
       "      <th>user_id</th>\n",
       "      <th>parent_asin</th>\n",
       "      <th>rating</th>\n",
       "      <th>timestamp</th>\n",
       "      <th>user_indice</th>\n",
       "      <th>item_indice</th>\n",
       "      <th>main_category</th>\n",
       "      <th>title</th>\n",
       "      <th>description</th>\n",
       "      <th>categories</th>\n",
       "      <th>price</th>\n",
       "      <th>item_sequence</th>\n",
       "    </tr>\n",
       "  </thead>\n",
       "  <tbody>\n",
       "    <tr>\n",
       "      <th>0</th>\n",
       "      <td>AEN7JFLQCURF54WR5OHY7HOWWMSQ</td>\n",
       "      <td>B08FC5TTBF</td>\n",
       "      <td>5.0</td>\n",
       "      <td>1628644724721</td>\n",
       "      <td>16245</td>\n",
       "      <td>897</td>\n",
       "      <td>Video Games</td>\n",
       "      <td>Demon's Souls - PlayStation 5</td>\n",
       "      <td>[From Bluepoint Games comes a remake of the Pl...</td>\n",
       "      <td>[Video Games, PlayStation 5, Games]</td>\n",
       "      <td>29.99</td>\n",
       "      <td>[-1, -1, -1, -1, 4433, 3897, 4099, 3489, 2346,...</td>\n",
       "    </tr>\n",
       "    <tr>\n",
       "      <th>1</th>\n",
       "      <td>AELH2ZF5QSSIFBF6WXAZLCF7JIWA</td>\n",
       "      <td>B0C6DH316S</td>\n",
       "      <td>2.0</td>\n",
       "      <td>1628653733506</td>\n",
       "      <td>13393</td>\n",
       "      <td>3059</td>\n",
       "      <td>Computers</td>\n",
       "      <td>Logitech G PRO X Wireless Lightspeed Gaming He...</td>\n",
       "      <td>[]</td>\n",
       "      <td>[Video Games, PC, Accessories, Headsets]</td>\n",
       "      <td>253.82</td>\n",
       "      <td>[-1, -1, -1, -1, 3212, 2134, 4053, 1451, 4522,...</td>\n",
       "    </tr>\n",
       "    <tr>\n",
       "      <th>2</th>\n",
       "      <td>AGD4QHNPSC45XTUPSUE6TYQOF3WQ</td>\n",
       "      <td>B0BN5DC36N</td>\n",
       "      <td>5.0</td>\n",
       "      <td>1628679010802</td>\n",
       "      <td>4845</td>\n",
       "      <td>2432</td>\n",
       "      <td>Computers</td>\n",
       "      <td>Seagate Horizon Forbidden West Limited Edition...</td>\n",
       "      <td>[Discover new worlds with the officially-licen...</td>\n",
       "      <td>[Video Games, Legacy Systems, PlayStation Syst...</td>\n",
       "      <td>89.99</td>\n",
       "      <td>[1901, 3491, 1786, 896, 2388, 275, 4607, 811, ...</td>\n",
       "    </tr>\n",
       "    <tr>\n",
       "      <th>3</th>\n",
       "      <td>AFMOSTKHH2HFLI35E3YMI7GLYDCQ</td>\n",
       "      <td>B07KRWJCQW</td>\n",
       "      <td>5.0</td>\n",
       "      <td>1628687441776</td>\n",
       "      <td>11692</td>\n",
       "      <td>3385</td>\n",
       "      <td>Video Games</td>\n",
       "      <td>$40 Xbox Gift Card [Digital Code]</td>\n",
       "      <td>[Buy an Xbox Gift Card for yourself or a frien...</td>\n",
       "      <td>[Video Games, Online Game Services, Xbox Live,...</td>\n",
       "      <td>40.0</td>\n",
       "      <td>[-1, -1, 1244, 542, 2354, 2748, 1213, 249, 152...</td>\n",
       "    </tr>\n",
       "    <tr>\n",
       "      <th>4</th>\n",
       "      <td>AGK34QNFABMBLRESDKG2VRC3VIIQ</td>\n",
       "      <td>B0BL65X86R</td>\n",
       "      <td>5.0</td>\n",
       "      <td>1628702768435</td>\n",
       "      <td>6199</td>\n",
       "      <td>3731</td>\n",
       "      <td>Video Games</td>\n",
       "      <td>$25 PlayStation Store Gift Card [Digital Code]</td>\n",
       "      <td>[Redeem against anything on PlayStation Store....</td>\n",
       "      <td>[Video Games, Online Game Services, PlayStatio...</td>\n",
       "      <td>25.0</td>\n",
       "      <td>[1710, 4554, 4228, 3854, 3004, 4677, 1238, 800...</td>\n",
       "    </tr>\n",
       "    <tr>\n",
       "      <th>...</th>\n",
       "      <td>...</td>\n",
       "      <td>...</td>\n",
       "      <td>...</td>\n",
       "      <td>...</td>\n",
       "      <td>...</td>\n",
       "      <td>...</td>\n",
       "      <td>...</td>\n",
       "      <td>...</td>\n",
       "      <td>...</td>\n",
       "      <td>...</td>\n",
       "      <td>...</td>\n",
       "      <td>...</td>\n",
       "    </tr>\n",
       "    <tr>\n",
       "      <th>944</th>\n",
       "      <td>AEKYV77UMZZGHT4PZIETDQ6ELJBQ</td>\n",
       "      <td>B08F4C6HCD</td>\n",
       "      <td>5.0</td>\n",
       "      <td>1657816667680</td>\n",
       "      <td>6031</td>\n",
       "      <td>803</td>\n",
       "      <td>Video Games</td>\n",
       "      <td>Legend of Zelda Link's Awakening - Nintendo Sw...</td>\n",
       "      <td>[“Castaway, you should know the truth!” As Lin...</td>\n",
       "      <td>[Video Games, Nintendo Switch, Games]</td>\n",
       "      <td>59.88</td>\n",
       "      <td>[3629, 1663, 1826, 2705, 796, 3933, 2950, 3060...</td>\n",
       "    </tr>\n",
       "    <tr>\n",
       "      <th>945</th>\n",
       "      <td>AGUFCRCH7HOUQ5FQYSJETEEFAYOA</td>\n",
       "      <td>B00DBDPOZ4</td>\n",
       "      <td>5.0</td>\n",
       "      <td>1657855227062</td>\n",
       "      <td>8270</td>\n",
       "      <td>4310</td>\n",
       "      <td>Video Games</td>\n",
       "      <td>Xbox One Play and Charge Kit</td>\n",
       "      <td>[Keep the action going with the Xbox One Play ...</td>\n",
       "      <td>[Video Games, Xbox One, Accessories]</td>\n",
       "      <td>34.99</td>\n",
       "      <td>[-1, -1, -1, -1, -1, 1300, 1525, 2578, 752, 3993]</td>\n",
       "    </tr>\n",
       "    <tr>\n",
       "      <th>946</th>\n",
       "      <td>AHJUZFMUESAEQBPC2QQMBDVUBYFQ</td>\n",
       "      <td>B0B1PB5L93</td>\n",
       "      <td>4.0</td>\n",
       "      <td>1657883331431</td>\n",
       "      <td>6994</td>\n",
       "      <td>1259</td>\n",
       "      <td>Computers</td>\n",
       "      <td>Razer Viper Ultimate Lightweight Wireless Gami...</td>\n",
       "      <td>[Forget about average and claim the unfair adv...</td>\n",
       "      <td>[Video Games, PC, Accessories, Gaming Mice]</td>\n",
       "      <td>89.99</td>\n",
       "      <td>[-1, -1, -1, 1505, 2557, 173, 4293, 1348, 3358...</td>\n",
       "    </tr>\n",
       "    <tr>\n",
       "      <th>947</th>\n",
       "      <td>AE5UUBPDQX4MRFFDW7D3IKHQYIEQ</td>\n",
       "      <td>B00ZJBSBD8</td>\n",
       "      <td>5.0</td>\n",
       "      <td>1657945454164</td>\n",
       "      <td>10344</td>\n",
       "      <td>2913</td>\n",
       "      <td>Video Games</td>\n",
       "      <td>Trackmania Turbo-Nla</td>\n",
       "      <td>[Step into the wild car fantasy world of Track...</td>\n",
       "      <td>[Video Games, PlayStation 4, Games]</td>\n",
       "      <td>13.68</td>\n",
       "      <td>[3687, 830, 399, 955, 2795, 4184, 4528, 353, 1...</td>\n",
       "    </tr>\n",
       "    <tr>\n",
       "      <th>948</th>\n",
       "      <td>AF54JR3WONKVAUZUYDLOOPZN7NFQ</td>\n",
       "      <td>B0C37RBK2R</td>\n",
       "      <td>5.0</td>\n",
       "      <td>1657950291114</td>\n",
       "      <td>13518</td>\n",
       "      <td>822</td>\n",
       "      <td>Video Games</td>\n",
       "      <td>Xbox Series S</td>\n",
       "      <td>[Introducing the Xbox Series S, the smallest, ...</td>\n",
       "      <td>[]</td>\n",
       "      <td>279.0</td>\n",
       "      <td>[-1, -1, -1, 3630, 2667, 20, 2171, 3289, 2496,...</td>\n",
       "    </tr>\n",
       "  </tbody>\n",
       "</table>\n",
       "<p>949 rows × 12 columns</p>\n",
       "</div>"
      ],
      "text/plain": [
       "                          user_id parent_asin  rating      timestamp  \\\n",
       "0    AEN7JFLQCURF54WR5OHY7HOWWMSQ  B08FC5TTBF     5.0  1628644724721   \n",
       "1    AELH2ZF5QSSIFBF6WXAZLCF7JIWA  B0C6DH316S     2.0  1628653733506   \n",
       "2    AGD4QHNPSC45XTUPSUE6TYQOF3WQ  B0BN5DC36N     5.0  1628679010802   \n",
       "3    AFMOSTKHH2HFLI35E3YMI7GLYDCQ  B07KRWJCQW     5.0  1628687441776   \n",
       "4    AGK34QNFABMBLRESDKG2VRC3VIIQ  B0BL65X86R     5.0  1628702768435   \n",
       "..                            ...         ...     ...            ...   \n",
       "944  AEKYV77UMZZGHT4PZIETDQ6ELJBQ  B08F4C6HCD     5.0  1657816667680   \n",
       "945  AGUFCRCH7HOUQ5FQYSJETEEFAYOA  B00DBDPOZ4     5.0  1657855227062   \n",
       "946  AHJUZFMUESAEQBPC2QQMBDVUBYFQ  B0B1PB5L93     4.0  1657883331431   \n",
       "947  AE5UUBPDQX4MRFFDW7D3IKHQYIEQ  B00ZJBSBD8     5.0  1657945454164   \n",
       "948  AF54JR3WONKVAUZUYDLOOPZN7NFQ  B0C37RBK2R     5.0  1657950291114   \n",
       "\n",
       "     user_indice  item_indice main_category  \\\n",
       "0          16245          897   Video Games   \n",
       "1          13393         3059     Computers   \n",
       "2           4845         2432     Computers   \n",
       "3          11692         3385   Video Games   \n",
       "4           6199         3731   Video Games   \n",
       "..           ...          ...           ...   \n",
       "944         6031          803   Video Games   \n",
       "945         8270         4310   Video Games   \n",
       "946         6994         1259     Computers   \n",
       "947        10344         2913   Video Games   \n",
       "948        13518          822   Video Games   \n",
       "\n",
       "                                                 title  \\\n",
       "0                        Demon's Souls - PlayStation 5   \n",
       "1    Logitech G PRO X Wireless Lightspeed Gaming He...   \n",
       "2    Seagate Horizon Forbidden West Limited Edition...   \n",
       "3                    $40 Xbox Gift Card [Digital Code]   \n",
       "4       $25 PlayStation Store Gift Card [Digital Code]   \n",
       "..                                                 ...   \n",
       "944  Legend of Zelda Link's Awakening - Nintendo Sw...   \n",
       "945                       Xbox One Play and Charge Kit   \n",
       "946  Razer Viper Ultimate Lightweight Wireless Gami...   \n",
       "947                               Trackmania Turbo-Nla   \n",
       "948                                      Xbox Series S   \n",
       "\n",
       "                                           description  \\\n",
       "0    [From Bluepoint Games comes a remake of the Pl...   \n",
       "1                                                   []   \n",
       "2    [Discover new worlds with the officially-licen...   \n",
       "3    [Buy an Xbox Gift Card for yourself or a frien...   \n",
       "4    [Redeem against anything on PlayStation Store....   \n",
       "..                                                 ...   \n",
       "944  [“Castaway, you should know the truth!” As Lin...   \n",
       "945  [Keep the action going with the Xbox One Play ...   \n",
       "946  [Forget about average and claim the unfair adv...   \n",
       "947  [Step into the wild car fantasy world of Track...   \n",
       "948  [Introducing the Xbox Series S, the smallest, ...   \n",
       "\n",
       "                                            categories   price  \\\n",
       "0                  [Video Games, PlayStation 5, Games]   29.99   \n",
       "1             [Video Games, PC, Accessories, Headsets]  253.82   \n",
       "2    [Video Games, Legacy Systems, PlayStation Syst...   89.99   \n",
       "3    [Video Games, Online Game Services, Xbox Live,...    40.0   \n",
       "4    [Video Games, Online Game Services, PlayStatio...    25.0   \n",
       "..                                                 ...     ...   \n",
       "944              [Video Games, Nintendo Switch, Games]   59.88   \n",
       "945               [Video Games, Xbox One, Accessories]   34.99   \n",
       "946        [Video Games, PC, Accessories, Gaming Mice]   89.99   \n",
       "947                [Video Games, PlayStation 4, Games]   13.68   \n",
       "948                                                 []   279.0   \n",
       "\n",
       "                                         item_sequence  \n",
       "0    [-1, -1, -1, -1, 4433, 3897, 4099, 3489, 2346,...  \n",
       "1    [-1, -1, -1, -1, 3212, 2134, 4053, 1451, 4522,...  \n",
       "2    [1901, 3491, 1786, 896, 2388, 275, 4607, 811, ...  \n",
       "3    [-1, -1, 1244, 542, 2354, 2748, 1213, 249, 152...  \n",
       "4    [1710, 4554, 4228, 3854, 3004, 4677, 1238, 800...  \n",
       "..                                                 ...  \n",
       "944  [3629, 1663, 1826, 2705, 796, 3933, 2950, 3060...  \n",
       "945  [-1, -1, -1, -1, -1, 1300, 1525, 2578, 752, 3993]  \n",
       "946  [-1, -1, -1, 1505, 2557, 173, 4293, 1348, 3358...  \n",
       "947  [3687, 830, 399, 955, 2795, 4184, 4528, 353, 1...  \n",
       "948  [-1, -1, -1, 3630, 2667, 20, 2171, 3289, 2496,...  \n",
       "\n",
       "[949 rows x 12 columns]"
      ]
     },
     "execution_count": 14,
     "metadata": {},
     "output_type": "execute_result"
    }
   ],
   "source": [
    "val_df"
   ]
  },
  {
   "cell_type": "code",
   "execution_count": 15,
   "id": "a7fe194e-94a7-4f2b-bef4-22db0a223149",
   "metadata": {},
   "outputs": [],
   "source": [
    "def get_sequence(df, user_col=args.user_col, item_col=args.item_col):\n",
    "    return (\n",
    "        df.groupby(user_col)[item_col]\n",
    "        .agg(list)\n",
    "        .loc[lambda s: s.apply(len) > 1]  # Remove sequence with only one item\n",
    "    ).values.tolist()"
   ]
  },
  {
   "cell_type": "code",
   "execution_count": 16,
   "id": "27ce7e75-4903-4d75-9c70-2da337864c26",
   "metadata": {
    "scrolled": true
   },
   "outputs": [
    {
     "data": {
      "text/plain": [
       "20366"
      ]
     },
     "execution_count": 16,
     "metadata": {},
     "output_type": "execute_result"
    }
   ],
   "source": [
    "item_sequence = train_df.pipe(get_sequence)\n",
    "len(item_sequence)"
   ]
  },
  {
   "cell_type": "code",
   "execution_count": 17,
   "id": "b23939a8-ee72-4b93-82d2-a83423a3ff01",
   "metadata": {
    "scrolled": true
   },
   "outputs": [
    {
     "data": {
      "text/plain": [
       "147"
      ]
     },
     "execution_count": 17,
     "metadata": {},
     "output_type": "execute_result"
    }
   ],
   "source": [
    "val_item_sequence = val_df.pipe(get_sequence)\n",
    "len(val_item_sequence)"
   ]
  },
  {
   "cell_type": "markdown",
   "id": "832beb3a-e6dd-46a0-9d88-579862bc2be5",
   "metadata": {},
   "source": [
    "## Persist"
   ]
  },
  {
   "cell_type": "code",
   "execution_count": 18,
   "id": "a30d14cf-c33b-40b3-a981-380a483dd837",
   "metadata": {
    "scrolled": true
   },
   "outputs": [
    {
     "name": "stderr",
     "output_type": "stream",
     "text": [
      "\u001b[32m2024-09-26 23:21:39.579\u001b[0m | \u001b[1mINFO    \u001b[0m | \u001b[36m__main__\u001b[0m:\u001b[36m<module>\u001b[0m:\u001b[36m11\u001b[0m - \u001b[1mlen(item_sequence)=20,366 len(val_item_sequence)=147\u001b[0m\n"
     ]
    }
   ],
   "source": [
    "with open(\"../data/item_sequence.json\", \"w\") as f:\n",
    "    json.dump(item_sequence, f)\n",
    "with open(\"../data/val_item_sequence.json\", \"w\") as f:\n",
    "    json.dump(val_item_sequence, f)\n",
    "\n",
    "with open(\"../data/item_sequence.json\", \"r\") as f:\n",
    "    item_sequence = json.load(f)\n",
    "with open(\"../data/val_item_sequence.json\", \"r\") as f:\n",
    "    val_item_sequence = json.load(f)\n",
    "\n",
    "logger.info(f\"{len(item_sequence)=:,.0f} {len(val_item_sequence)=:,.0f}\")"
   ]
  },
  {
   "cell_type": "markdown",
   "id": "3b0ec31a-4a48-49c8-af9d-9d23c98a7d90",
   "metadata": {},
   "source": [
    "# Run with all data"
   ]
  },
  {
   "cell_type": "code",
   "execution_count": 19,
   "id": "b5523eb7-e47e-4ca2-9cba-efe0e7ad7499",
   "metadata": {},
   "outputs": [
    {
     "name": "stderr",
     "output_type": "stream",
     "text": [
      "\u001b[32m2024-09-26 23:21:39.589\u001b[0m | \u001b[1mINFO    \u001b[0m | \u001b[36msrc.skipgram.dataset\u001b[0m:\u001b[36m__init__\u001b[0m:\u001b[36m59\u001b[0m - \u001b[1mProcessing sequences to build interaction data...\u001b[0m\n"
     ]
    },
    {
     "data": {
      "application/vnd.jupyter.widget-view+json": {
       "model_id": "2c0096a05a954133bc8ea2177c14344b",
       "version_major": 2,
       "version_minor": 0
      },
      "text/plain": [
       "Building interactions:   0%|          | 0/20366 [00:00<?, ?it/s]"
      ]
     },
     "metadata": {},
     "output_type": "display_data"
    },
    {
     "name": "stdout",
     "output_type": "stream",
     "text": [
      "tensor([3226, 3226, 3226, 3226, 3226, 3226]) tensor([3657, 1526, 1870, 4545, 3436, 4668]) tensor([1., 0., 0., 0., 0., 0.])\n"
     ]
    }
   ],
   "source": [
    "# Create dataset with frequency-based negative sampling\n",
    "dataset = SkipGramDataset(\n",
    "    item_sequence,\n",
    "    window_size=args.window_size,\n",
    "    negative_samples=args.num_negative_samples,\n",
    "    id_to_idx=idm.item_to_index\n",
    ")\n",
    "\n",
    "inp = dataset[0]\n",
    "target_items = inp[\"target_items\"]\n",
    "context_items = inp[\"context_items\"]\n",
    "labels = inp[\"labels\"]\n",
    "print(target_items, context_items, labels)"
   ]
  },
  {
   "cell_type": "code",
   "execution_count": 20,
   "id": "159cc17e-7b60-491f-8f30-8e941f9c6929",
   "metadata": {},
   "outputs": [],
   "source": [
    "batch_size = len(item_sequence[0])  # for easier testing\n",
    "\n",
    "dataloader = DataLoader(\n",
    "    dataset,\n",
    "    batch_size=batch_size,\n",
    "    shuffle=False,\n",
    "    drop_last=True,\n",
    "    collate_fn=dataset.collate_fn,\n",
    ")"
   ]
  },
  {
   "cell_type": "code",
   "execution_count": 21,
   "id": "2be4725c-f513-4655-9803-932ccc200ebc",
   "metadata": {
    "scrolled": true
   },
   "outputs": [],
   "source": [
    "# Test index mapping matches input id_mapper\n",
    "target_items_idx_dataloader = set()\n",
    "for batch_input in dataloader:\n",
    "    target_items_idx_dataloader.update(batch_input['target_items'].detach().numpy())\n",
    "    break\n",
    "\n",
    "targets_items_idx_item_sequence = set()\n",
    "for item_id in item_sequence[0]:\n",
    "    idx = idm.item_to_index[item_id]\n",
    "    targets_items_idx_item_sequence.add(idx)\n",
    "\n",
    "assert target_items_idx_dataloader == targets_items_idx_item_sequence"
   ]
  },
  {
   "cell_type": "code",
   "execution_count": 22,
   "id": "6333ab2c-14f9-4d44-bdaa-20f00c9d8c6c",
   "metadata": {},
   "outputs": [
    {
     "name": "stderr",
     "output_type": "stream",
     "text": [
      "\u001b[32m2024-09-26 23:21:40.147\u001b[0m | \u001b[1mINFO    \u001b[0m | \u001b[36msrc.skipgram.dataset\u001b[0m:\u001b[36m__init__\u001b[0m:\u001b[36m59\u001b[0m - \u001b[1mProcessing sequences to build interaction data...\u001b[0m\n"
     ]
    },
    {
     "data": {
      "application/vnd.jupyter.widget-view+json": {
       "model_id": "feadfc4f7213447eadd5b5f440ae560e",
       "version_major": 2,
       "version_minor": 0
      },
      "text/plain": [
       "Building interactions:   0%|          | 0/147 [00:00<?, ?it/s]"
      ]
     },
     "metadata": {},
     "output_type": "display_data"
    }
   ],
   "source": [
    "val_dataset = SkipGramDataset(\n",
    "    val_item_sequence,\n",
    "    interacted=dataset.interacted,\n",
    "    item_freq=dataset.item_freq,\n",
    "    window_size=args.window_size,\n",
    "    negative_samples=args.num_negative_samples,\n",
    "    id_to_idx=idm.item_to_index\n",
    ")\n",
    "val_dataloader = DataLoader(\n",
    "    val_dataset,\n",
    "    batch_size=args.batch_size,\n",
    "    shuffle=False,\n",
    "    drop_last=True,\n",
    "    collate_fn=val_dataset.collate_fn,\n",
    ")"
   ]
  },
  {
   "cell_type": "code",
   "execution_count": 23,
   "id": "b3f32e26-bb25-4f53-a932-c5aa169fa496",
   "metadata": {},
   "outputs": [
    {
     "name": "stdout",
     "output_type": "stream",
     "text": [
      "{'target_items': tensor([3254, 3254, 3254, 3254, 3254, 3254, 2122, 2122, 2122, 2122, 2122, 2122,\n",
      "         779,  779,  779,  779,  779,  779,  169,  169,  169,  169,  169,  169,\n",
      "         169,  169,  169,  169,  169,  169, 1998, 1998, 1998, 1998, 1998, 1998,\n",
      "        1998, 1998, 1998, 1998, 1998, 1998, 3619, 3619, 3619, 3619, 3619, 3619,\n",
      "        3619, 3619, 3619, 3619, 3619, 3619,   92,   92,   92,   92,   92,   92,\n",
      "          92,   92,   92,   92,   92,   92, 3385, 3385, 3385, 3385, 3385, 3385,\n",
      "        3385, 3385, 3385, 3385, 3385, 3385, 1652, 1652, 1652, 1652, 1652, 1652,\n",
      "         822,  822,  822,  822,  822,  822,  679,  679,  679,  679,  679,  679,\n",
      "        3524, 3524, 3524, 3524, 3524, 3524,  151,  151,  151,  151,  151,  151,\n",
      "         151,  151,  151,  151,  151,  151, 1763, 1763, 1763, 1763, 1763, 1763,\n",
      "        1763, 1763, 1763, 1763, 1763, 1763, 3284, 3284, 3284, 3284, 3284, 3284,\n",
      "        3284, 3284, 3284, 3284, 3284, 3284, 2441, 2441, 2441, 2441, 2441, 2441,\n",
      "        2441, 2441, 2441, 2441, 2441, 2441]), 'context_items': tensor([2122, 1527, 2466,  878, 2824,  243, 3254, 4445,  231, 2529,  637, 1024,\n",
      "         169, 4304, 3193, 1612, 1749,   59,  779, 1998, 2704, 3393, 3627, 3069,\n",
      "        2652, 2222, 1111, 1355, 2721, 1370,  169, 3619,  770,  470, 3785, 2956,\n",
      "        3049, 3076, 4329,  839, 4018, 3773, 1998,   92, 4231, 3058, 2689, 2942,\n",
      "        4572, 3246, 3057, 2990, 2517, 4505, 3619, 3385,   64,  201, 3715, 3195,\n",
      "        4275, 2629, 1557, 2442, 1266, 3737,   92, 1652, 4343, 3097, 2973, 2278,\n",
      "         530, 1562, 3221, 1699, 3326,  617, 3385, 3036, 2536, 2670, 2420, 1126,\n",
      "         679, 2880,   88, 1783, 1390, 3265,  822, 3880,  293, 3203, 4584, 4437,\n",
      "         151,  420, 1433, 2152, 2516,  241, 3524, 1763, 2529, 4437, 1964,   49,\n",
      "         881, 1460, 2699,  466,  715, 3077,  151, 3284,  308, 3335, 1584,  140,\n",
      "        3505, 2849, 2524, 4464,  956, 2961, 1763, 2441, 4594, 1051,   12, 3756,\n",
      "         618, 2554, 1331,   65, 1305, 3496, 3284,  542,  644,  573, 2437, 3292,\n",
      "        2054, 4473, 3129, 2599, 1903, 3852]), 'labels': tensor([1., 0., 0., 0., 0., 0., 1., 0., 0., 0., 0., 0., 1., 0., 0., 0., 0., 0.,\n",
      "        1., 1., 0., 0., 0., 0., 0., 0., 0., 0., 0., 0., 1., 1., 0., 0., 0., 0.,\n",
      "        0., 0., 0., 0., 0., 0., 1., 1., 0., 0., 0., 0., 0., 0., 0., 0., 0., 0.,\n",
      "        1., 1., 0., 0., 0., 0., 0., 0., 0., 0., 0., 0., 1., 1., 0., 0., 0., 0.,\n",
      "        0., 0., 0., 0., 0., 0., 1., 0., 0., 0., 0., 0., 1., 0., 0., 0., 0., 0.,\n",
      "        1., 0., 0., 0., 0., 0., 1., 0., 0., 0., 0., 0., 1., 1., 0., 0., 0., 0.,\n",
      "        0., 0., 0., 0., 0., 0., 1., 1., 0., 0., 0., 0., 0., 0., 0., 0., 0., 0.,\n",
      "        1., 1., 0., 0., 0., 0., 0., 0., 0., 0., 0., 0., 1., 1., 0., 0., 0., 0.,\n",
      "        0., 0., 0., 0., 0., 0.])}\n"
     ]
    }
   ],
   "source": [
    "for batch_input in val_dataloader:\n",
    "    print(batch_input)\n",
    "    break"
   ]
  },
  {
   "cell_type": "code",
   "execution_count": 24,
   "id": "cf0df372-8e5c-40ed-a629-c6ef371061db",
   "metadata": {
    "scrolled": true
   },
   "outputs": [
    {
     "data": {
      "text/plain": [
       "{'target_items': tensor([3254, 3254, 3254, 3254, 3254, 3254]),\n",
       " 'context_items': tensor([2122, 1585,  878,  627, 3213, 4210]),\n",
       " 'labels': tensor([1., 0., 0., 0., 0., 0.])}"
      ]
     },
     "execution_count": 24,
     "metadata": {},
     "output_type": "execute_result"
    }
   ],
   "source": [
    "val_dataset[0]"
   ]
  },
  {
   "cell_type": "code",
   "execution_count": null,
   "id": "86f8a882-dea1-4bef-b923-023661118d31",
   "metadata": {},
   "outputs": [],
   "source": []
  },
  {
   "cell_type": "code",
   "execution_count": null,
   "id": "eff8da2a-2ab3-476d-8774-786a1f4a41e9",
   "metadata": {},
   "outputs": [],
   "source": []
  }
 ],
 "metadata": {
  "kernelspec": {
   "display_name": "Python 3 (ipykernel)",
   "language": "python",
   "name": "python3"
  },
  "language_info": {
   "codemirror_mode": {
    "name": "ipython",
    "version": 3
   },
   "file_extension": ".py",
   "mimetype": "text/x-python",
   "name": "python",
   "nbconvert_exporter": "python",
   "pygments_lexer": "ipython3",
   "version": "3.11.9"
  }
 },
 "nbformat": 4,
 "nbformat_minor": 5
}
